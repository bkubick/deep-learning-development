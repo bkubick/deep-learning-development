{
 "cells": [
  {
   "cell_type": "markdown",
   "id": "4039023e",
   "metadata": {},
   "source": [
    "# Transfer Learning - Part 1\n",
    "## Feature Extraction\n",
    "\n",
    "A very powerful technique in Deep Learning is the use of Transfer Learning which leverages architectures of existing models trained on a similar set to the problem at hand, and build a model from that model.\n",
    "\n",
    "1. Can leverage an existing neural network architecture proven to work on problems similar to the one in hand.\n",
    "2. Can leverage a working neural network architecture which has already learned patterns on similar data to our own, then we can adapt those patterns to our own data.\n",
    "\n",
    "For this part, we are going to look at only 10% of the same food image dataset done on the convolutional neural networks notebook. "
   ]
  },
  {
   "cell_type": "code",
   "execution_count": null,
   "id": "5cf40acb",
   "metadata": {},
   "outputs": [],
   "source": [
    "import os\n",
    "import pathlib\n",
    "import random\n",
    "import sys\n",
    "from typing import Tuple\n",
    "\n",
    "module_path = os.path.abspath(os.path.join('..'))\n",
    "if module_path not in sys.path:\n",
    "    sys.path.append(module_path)\n",
    "\n",
    "import datetime as dt\n",
    "import matplotlib.pyplot as plt\n",
    "import matplotlib.image as mpimg\n",
    "import numpy as np\n",
    "import pandas as pd\n",
    "import tensorflow as tf\n",
    "from tensorflow.keras.preprocessing.image import ImageDataGenerator\n",
    "import tensorflow_hub as hub\n",
    "\n",
    "from src import utils"
   ]
  },
  {
   "cell_type": "markdown",
   "id": "f1d1d867",
   "metadata": {},
   "source": [
    "## Helpers"
   ]
  },
  {
   "cell_type": "code",
   "execution_count": null,
   "id": "9707fca9",
   "metadata": {},
   "outputs": [],
   "source": [
    "def summarize_image_directory(data_directory: pathlib.Path):\n",
    "    # Lets look at the number of files in the test and train sets\n",
    "    # TODO: Move this to a nice function\n",
    "    for dirpath, dirnames, filenames in os.walk(data_directory):\n",
    "        images = [file for file in filenames if file.endswith('jpg') or file.endswith('jpeg') or file.endswith('png')]\n",
    "        if images:\n",
    "            print(f'Directory: {dirpath} Total Images: {len(images)}')"
   ]
  },
  {
   "cell_type": "code",
   "execution_count": null,
   "id": "a3d7a282",
   "metadata": {},
   "outputs": [],
   "source": [
    "def get_classnames_from_directory(data_directory: pathlib.Path):\n",
    "    all_class_names = [\n",
    "        item.name for item in data_directory.iterdir() if item.is_dir() and not item.name.startswith('.')\n",
    "    ]\n",
    "    class_names = np.array(sorted(all_class_names))\n",
    "    return class_names"
   ]
  },
  {
   "cell_type": "markdown",
   "id": "6aac4818",
   "metadata": {},
   "source": [
    "## Step-0 Looking at the Data"
   ]
  },
  {
   "cell_type": "code",
   "execution_count": null,
   "id": "bff30692",
   "metadata": {},
   "outputs": [],
   "source": [
    "# Image dataset location\n",
    "data_directory = pathlib.Path('./data/food-101/10_food_classes_10_percent')\n",
    "test_directory = data_directory / 'test'\n",
    "train_directory = data_directory / 'train'"
   ]
  },
  {
   "cell_type": "code",
   "execution_count": null,
   "id": "6e32059a",
   "metadata": {},
   "outputs": [],
   "source": [
    "summarize_image_directory(data_directory)"
   ]
  },
  {
   "cell_type": "code",
   "execution_count": null,
   "id": "ff3ea591",
   "metadata": {},
   "outputs": [],
   "source": [
    "# Getting the class names\n",
    "class_names = get_classnames_from_directory(train_directory)\n",
    "class_names"
   ]
  },
  {
   "cell_type": "markdown",
   "id": "b7a3da2b",
   "metadata": {},
   "source": [
    "### Dataset Findings\n",
    "\n",
    "There are 10 total image classes, but instead of 750 images for each training dataset in the CNN notebook, there are only 75 for each training dataset. The test data is the same size as the test set in the CNN notebook, which will allow us for a 1-to-1 comparison against the CNN notebook model."
   ]
  },
  {
   "cell_type": "markdown",
   "id": "28bef269",
   "metadata": {},
   "source": [
    "## Initial Pass - Loading the Dataset"
   ]
  },
  {
   "cell_type": "code",
   "execution_count": null,
   "id": "d66d0a3b",
   "metadata": {},
   "outputs": [],
   "source": [
    "# Scaling values\n",
    "scale = 1. / 255\n",
    "img_size = 224\n",
    "batch_size = 32\n",
    "\n",
    "# Loading in the data\n",
    "train_data_generator = ImageDataGenerator(rescale=scale)\n",
    "test_data_generator = ImageDataGenerator(rescale=scale)\n",
    "\n",
    "# Create the data\n",
    "train_data = train_data_generator.flow_from_directory(str(train_directory),\n",
    "                                                      target_size=(img_size, img_size),\n",
    "                                                      batch_size=batch_size,\n",
    "                                                      class_mode='categorical')\n",
    "test_data = test_data_generator.flow_from_directory(str(test_directory),\n",
    "                                                    target_size=(img_size, img_size),\n",
    "                                                    batch_size=batch_size,\n",
    "                                                    class_mode='categorical')"
   ]
  },
  {
   "cell_type": "markdown",
   "id": "6c67d32b",
   "metadata": {},
   "source": [
    "## Setting up Callbacks\n",
    "\n",
    "Callbacks are extra functionality that you can run to be performed before, during, or after training. Some of the most popular callbacks:\n",
    "\n",
    "* Tracking experiments with the TensorBoard callback.\n",
    "* Checkpoints with the ModelCheckpoint callback.\n",
    "* Stopping a model from training before the model begins to overfit with the EarlyStopping callback."
   ]
  },
  {
   "cell_type": "code",
   "execution_count": null,
   "id": "b1772ed2",
   "metadata": {},
   "outputs": [],
   "source": [
    "# TensorBoard Callback, allowing for tracking the performance of the model\n",
    "# Going to functionize it to allow to create a new folder for each experiment ran.\n",
    "def create_tensorboard_callback(dir_name: str, experiment_name: str):\n",
    "    log_dir = f\"{dir_name}/{experiment_name}/{dt.datetime.now().strftime('%Y%m%d-%H%M%S')}\"\n",
    "    \n",
    "    tensorboard_callback = tf.keras.callbacks.TensorBoard(log_dir=log_dir)\n",
    "    print('Saving TensorBoard log files to: ', log_dir)\n",
    "    \n",
    "    return tensorboard_callback\n"
   ]
  },
  {
   "cell_type": "markdown",
   "id": "84d3584e",
   "metadata": {},
   "source": [
    "## Transfer Learning Model-1\n",
    "\n",
    "For this model, majority of the model's layers are going to come from an existing model from TensorFlow Hub. TensorFlow Hub is an open source hub that has pretrained models for use in transfer learning.\n",
    "\n",
    "* https://www.tensorflow.org/hub \n",
    "\n",
    "**NOTE** When going through to narrow down what models to find, a useful resource is Papers with Code which go over researchers have published papers with info on architectures used similar to problems.\n",
    "\n",
    "* https://paperswithcode.com/\n",
    "\n",
    "For this project, from going through the TensorFlow Hub page, the following two feature models are going to be used for this example to compare against:\n",
    "\n",
    "* https://tfhub.dev/google/efficientnet/b0/feature-vector/1\n",
    "* https://tfhub.dev/google/imagenet/resnet_v2_50/feature_vector/5"
   ]
  },
  {
   "cell_type": "code",
   "execution_count": null,
   "id": "75219666",
   "metadata": {},
   "outputs": [],
   "source": [
    "# Comparing the two models\n",
    "resnet_url = 'https://tfhub.dev/google/imagenet/resnet_v2_50/feature_vector/5'\n",
    "efficientnet_url = 'https://tfhub.dev/google/efficientnet/b0/feature-vector/1'"
   ]
  },
  {
   "cell_type": "code",
   "execution_count": null,
   "id": "173a28b3",
   "metadata": {},
   "outputs": [],
   "source": [
    "# Going to functionize model creation from a url\n",
    "\n",
    "def create_model(transfer_learning_url: str, img_shape: Tuple[int, int], num_classes: int = 10):\n",
    "    \"\"\" Takes a TensorFlow Hub model url, and creates a Sequential model \"\"\"\n",
    "    feature_extractor_layer = hub.KerasLayer(transfer_learning_url,\n",
    "                                             trainable=False,\n",
    "                                             input_shape=img_shape + (3,),\n",
    "                                             name='FeatureExtractionLayer')\n",
    "\n",
    "    model = tf.keras.Sequential([\n",
    "        feature_extractor_layer,\n",
    "        tf.keras.layers.Dense(num_classes, activation='softmax', name='OutputLayer')\n",
    "    ])\n",
    "\n",
    "    return model"
   ]
  },
  {
   "cell_type": "markdown",
   "id": "98a3a2f9",
   "metadata": {},
   "source": [
    "### Resnet Model"
   ]
  },
  {
   "cell_type": "code",
   "execution_count": null,
   "id": "58790278",
   "metadata": {},
   "outputs": [],
   "source": [
    "resnet_model = create_model(resnet_url, img_shape=(img_size, img_size))"
   ]
  },
  {
   "cell_type": "code",
   "execution_count": null,
   "id": "914b503f",
   "metadata": {},
   "outputs": [],
   "source": [
    "resnet_model.summary()"
   ]
  },
  {
   "cell_type": "code",
   "execution_count": null,
   "id": "3efb2dd9",
   "metadata": {},
   "outputs": [],
   "source": [
    "# Compiling model\n",
    "resnet_model.compile(loss='categorical_crossentropy',\n",
    "                     optimizer=tf.keras.optimizers.legacy.Adam(),\n",
    "                     metrics=['accuracy'])\n",
    "\n",
    "# Training model\n",
    "resnet_history = resnet_model.fit(train_data,\n",
    "                                  epochs=5,\n",
    "                                  steps_per_epoch=len(train_data),\n",
    "                                  validation_data=test_data,\n",
    "                                  validation_steps=len(test_data),\n",
    "                                  callbacks=[create_tensorboard_callback('logs',\n",
    "                                                                         experiment_name='resnet_50_v2')])"
   ]
  },
  {
   "cell_type": "code",
   "execution_count": null,
   "id": "bbbd8398",
   "metadata": {},
   "outputs": [],
   "source": [
    "utils.plot.plot_history(resnet_history, metric='loss')\n",
    "utils.plot.plot_history(resnet_history, metric='accuracy')"
   ]
  },
  {
   "cell_type": "markdown",
   "id": "69669768",
   "metadata": {},
   "source": [
    "#### Findings\n",
    "\n",
    "The resnet model used from transfer learning outperformed all of the CNN networks built in the CNN notebook, by far, in faster time, and with only 10% of the training data.\n",
    "\n",
    "The validation accuracy ended up at around 77%."
   ]
  },
  {
   "cell_type": "markdown",
   "id": "552c0b13",
   "metadata": {},
   "source": [
    "### Efficientnet Model"
   ]
  },
  {
   "cell_type": "code",
   "execution_count": null,
   "id": "0cb7210c",
   "metadata": {},
   "outputs": [],
   "source": [
    "efficientnet_model = create_model(efficientnet_url, img_shape=(img_size, img_size))\n",
    "efficientnet_model.summary()"
   ]
  },
  {
   "cell_type": "code",
   "execution_count": null,
   "id": "dabcd424",
   "metadata": {},
   "outputs": [],
   "source": [
    "# Compiling model\n",
    "efficientnet_model.compile(loss='categorical_crossentropy',\n",
    "                     optimizer=tf.keras.optimizers.legacy.Adam(),\n",
    "                     metrics=['accuracy'])\n",
    "\n",
    "# Training model\n",
    "efficientnet_model_history = efficientnet_model.fit(train_data,\n",
    "                                  epochs=5,\n",
    "                                  steps_per_epoch=len(train_data),\n",
    "                                  validation_data=test_data,\n",
    "                                  validation_steps=len(test_data),\n",
    "                                  callbacks=[create_tensorboard_callback('logs',\n",
    "                                                                         experiment_name='efficientnet_b0')])"
   ]
  },
  {
   "cell_type": "code",
   "execution_count": null,
   "id": "5faf84a6",
   "metadata": {},
   "outputs": [],
   "source": [
    "utils.plot.plot_history(efficientnet_model_history, metric='loss')\n",
    "utils.plot.plot_history(efficientnet_model_history, metric='accuracy')"
   ]
  },
  {
   "cell_type": "markdown",
   "id": "8646437f",
   "metadata": {},
   "source": [
    "#### Findings\n",
    "\n",
    "The efficientnet model used from transfer learning outperformed all of the CNN networks built in the CNN notebook, by far, in faster time, and with only 10% of the training data.\n",
    "\n",
    "The validation accuracy finished at around 86%.\n",
    "\n",
    "Compairing this model to the resnet model, it looks like the efficientnet model outperformed the resnet model by about 10%, even though there are less trainable parameters in the efficientnet model."
   ]
  },
  {
   "cell_type": "markdown",
   "id": "5db0c457",
   "metadata": {},
   "source": [
    "## Types of Transfer Learning\n",
    "\n",
    "* \"As Is\" uses an existing model with no changes whatsoever.\n",
    "* \"Feature Extraction\" uses prelearned patterns of an existing model, and adjust output layer to your own problem.\n",
    "* \"Fine Tuning\" uses prelearned patterns of an existing model and fine tunes all or many of the underlying layers."
   ]
  },
  {
   "cell_type": "markdown",
   "id": "f3d93f4f",
   "metadata": {},
   "source": [
    "## Comparing Efficientnet Vs. Resnet\n",
    "\n",
    "Looking at our logs generated with TensorBoard for each run. This uses the tensorboard command located below to upload the logs to TensorBoard, then can be viewed there using the generated link.\n",
    "\n",
    "**!!NOTE!!** All logs uploaded to TensorBoard are made public, so do NOT upload logs that should remain private!"
   ]
  },
  {
   "cell_type": "code",
   "execution_count": null,
   "id": "4f4326d4",
   "metadata": {},
   "outputs": [],
   "source": [
    "# !tensorboard dev upload --logdir ./logs \\\n",
    "#    --name \"Efficientnet B0 vs. Resnet 50 V2\" \\\n",
    "#    --description \"Comparing two different TensorFlow Hub NN architectures.\" \\\n",
    "#    --one_shot"
   ]
  }
 ],
 "metadata": {
  "kernelspec": {
   "display_name": "Python 3 (ipykernel)",
   "language": "python",
   "name": "python3"
  },
  "language_info": {
   "codemirror_mode": {
    "name": "ipython",
    "version": 3
   },
   "file_extension": ".py",
   "mimetype": "text/x-python",
   "name": "python",
   "nbconvert_exporter": "python",
   "pygments_lexer": "ipython3",
   "version": "3.9.6"
  }
 },
 "nbformat": 4,
 "nbformat_minor": 5
}
