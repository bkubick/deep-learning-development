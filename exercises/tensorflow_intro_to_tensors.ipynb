{
 "cells": [
  {
   "attachments": {},
   "cell_type": "markdown",
   "id": "b3885b51",
   "metadata": {},
   "source": [
    "# Introduction to Tensorflow Fundamentals"
   ]
  },
  {
   "attachments": {},
   "cell_type": "markdown",
   "id": "a009a6d9",
   "metadata": {},
   "source": [
    "## 1. Creating Tensors"
   ]
  },
  {
   "cell_type": "code",
   "execution_count": null,
   "id": "e6509db9",
   "metadata": {},
   "outputs": [],
   "source": [
    "import tensorflow as tf\n",
    "import numpy as np"
   ]
  },
  {
   "attachments": {},
   "cell_type": "markdown",
   "id": "ea73c779",
   "metadata": {},
   "source": [
    "### Tensors with tf.constant (Used when Tensors Can NOT Change)"
   ]
  },
  {
   "cell_type": "code",
   "execution_count": null,
   "id": "68e893aa",
   "metadata": {},
   "outputs": [],
   "source": [
    "# Scalar Tensor\n",
    "scalar = tf.constant(7.0)\n",
    "scalar"
   ]
  },
  {
   "cell_type": "code",
   "execution_count": null,
   "id": "65a4e0c0",
   "metadata": {},
   "outputs": [],
   "source": [
    "# Checking Scalar Dims\n",
    "scalar.ndim"
   ]
  },
  {
   "cell_type": "code",
   "execution_count": null,
   "id": "5d6adf6a",
   "metadata": {},
   "outputs": [],
   "source": [
    "# Vector Tensor\n",
    "vector = tf.constant([10, 10])\n",
    "vector"
   ]
  },
  {
   "cell_type": "code",
   "execution_count": null,
   "id": "7dec63da",
   "metadata": {},
   "outputs": [],
   "source": [
    "# Checking Vector Dims\n",
    "vector.ndim"
   ]
  },
  {
   "cell_type": "code",
   "execution_count": null,
   "id": "6ffd5dcb",
   "metadata": {},
   "outputs": [],
   "source": [
    "# Matrix Tensor (more than one dim)\n",
    "matrix = tf.constant([[27, 83],\n",
    "                      [10, 19]])\n",
    "matrix"
   ]
  },
  {
   "cell_type": "code",
   "execution_count": null,
   "id": "fb6cdee9",
   "metadata": {},
   "outputs": [],
   "source": [
    "# Checking Matrix Dims\n",
    "matrix.ndim"
   ]
  },
  {
   "cell_type": "code",
   "execution_count": null,
   "id": "7fb7bdf9",
   "metadata": {},
   "outputs": [],
   "source": [
    "# N Dim Tensor\n",
    "tensor = tf.constant([[[27, 83], [10, 19]],\n",
    "                      [[1,   2], [3,   4]],\n",
    "                      [[4,   5], [6,   7]]])\n",
    "tensor"
   ]
  },
  {
   "cell_type": "code",
   "execution_count": null,
   "id": "751381cc",
   "metadata": {},
   "outputs": [],
   "source": [
    "# Dim of Tensor\n",
    "tensor.ndim"
   ]
  },
  {
   "cell_type": "code",
   "execution_count": null,
   "id": "a7fbee36",
   "metadata": {},
   "outputs": [],
   "source": [
    "# Matrix dtype specify as float16 (default without specifying is float32)\n",
    "matrix_float_16 = tf.constant([[27.0, 83.0],\n",
    "                      [19.0, 10.0]], dtype=tf.float16)\n",
    "matrix_float_16"
   ]
  },
  {
   "attachments": {},
   "cell_type": "markdown",
   "id": "82633676",
   "metadata": {},
   "source": [
    "### Tensors with tf.Variable (Used when Tensors Can Change)"
   ]
  },
  {
   "cell_type": "code",
   "execution_count": null,
   "id": "684f0699",
   "metadata": {},
   "outputs": [],
   "source": [
    "variable_tensor = tf.Variable([27, 83])\n",
    "constant_tensor = tf.constant([27, 83])\n",
    "\n",
    "variable_tensor, constant_tensor"
   ]
  },
  {
   "cell_type": "code",
   "execution_count": null,
   "id": "98714d72",
   "metadata": {},
   "outputs": [],
   "source": [
    "# Testing what happens when attempting to change variable tensors\n",
    "# NOTE: Attempting to change constant tensors raise errors\n",
    "variable_tensor[0].assign(19)\n",
    "variable_tensor"
   ]
  },
  {
   "attachments": {},
   "cell_type": "markdown",
   "id": "15e7dc73",
   "metadata": {},
   "source": [
    "### Tensors with tf.random"
   ]
  },
  {
   "cell_type": "code",
   "execution_count": null,
   "id": "fc95e734",
   "metadata": {},
   "outputs": [],
   "source": [
    "# Generating a random tensor from a specific seed to ensure the same tensor is created\n",
    "random_tensor_generator = tf.random.Generator.from_seed(83)\n",
    "random_tensor = random_tensor_generator.normal(shape=(3, 2))\n",
    "random_tensor"
   ]
  },
  {
   "attachments": {},
   "cell_type": "markdown",
   "id": "06dd1b6a",
   "metadata": {},
   "source": [
    "### Shuffle Tensor Values with tf.random.shuffle"
   ]
  },
  {
   "cell_type": "code",
   "execution_count": null,
   "id": "d158809b",
   "metadata": {},
   "outputs": [],
   "source": [
    "not_shuffled = tf.constant([[27, 83],\n",
    "                            [10, 19],\n",
    "                            [15, 16]])\n",
    "shuffled = tf.random.shuffle(not_shuffled)\n",
    "shuffled"
   ]
  },
  {
   "cell_type": "code",
   "execution_count": null,
   "id": "563d9d12",
   "metadata": {},
   "outputs": [],
   "source": [
    "# Dealing with Random seeds\n",
    "# Setting global level seet\n",
    "tf.random.set_seed(10)\n",
    "not_shuffled = tf.constant([[27, 83],\n",
    "                            [10, 19],\n",
    "                            [15, 16]])\n",
    "tf.random.shuffle(not_shuffled), tf.random.shuffle(not_shuffled)"
   ]
  },
  {
   "attachments": {},
   "cell_type": "markdown",
   "id": "f265553b",
   "metadata": {},
   "source": [
    "### Tensor with Ones and Zeros\n",
    "The main difference between NumPy arrays and TensorFlow arrays is Tensors can run on GPU"
   ]
  },
  {
   "cell_type": "code",
   "execution_count": null,
   "id": "b497997c",
   "metadata": {},
   "outputs": [],
   "source": [
    "# Create tensor of ones\n",
    "tf.ones([10,7])"
   ]
  },
  {
   "cell_type": "code",
   "execution_count": null,
   "id": "cf4306b1",
   "metadata": {},
   "outputs": [],
   "source": [
    "# Create tensor of zeros\n",
    "tf.zeros([5, 6])"
   ]
  },
  {
   "cell_type": "code",
   "execution_count": null,
   "id": "9f7b5e4d",
   "metadata": {},
   "outputs": [],
   "source": [
    "# Tensor from numpy\n",
    "numpy_array = np.arange(1, 25) # 24 total items\n",
    "\n",
    "# Taking vector of [1, 2, 3, ... 24, 25] and turning into Tensor of shape [2, 3, 4]\n",
    "# NOTE: Shape has to be multiple of total elements\n",
    "A = tf.constant(numpy_array, shape=[2,3,4])\n",
    "B = tf.constant(numpy_array)\n",
    "A, B"
   ]
  },
  {
   "attachments": {},
   "cell_type": "markdown",
   "id": "fef882d8",
   "metadata": {},
   "source": [
    "## 2. Getting Information from Tensors\n",
    "- Shape: The shape of the dimension\n",
    "- Rank: The dimension of the tensor\n",
    "- Axis or Dimension: Accesssing a particular dimension of a tensor\n",
    "- Size: Total elements in tensor"
   ]
  },
  {
   "cell_type": "code",
   "execution_count": null,
   "id": "3a0b27b0",
   "metadata": {},
   "outputs": [],
   "source": [
    "# Sample rank 4 tensor\n",
    "rank_4_tensor = tf.zeros(shape=[2, 3, 4, 5])\n",
    "rank_4_tensor"
   ]
  },
  {
   "cell_type": "code",
   "execution_count": null,
   "id": "d4191477",
   "metadata": {},
   "outputs": [],
   "source": [
    "# Getting information from tensor\n",
    "rank_4_tensor.shape, rank_4_tensor.ndim, tf.size(rank_4_tensor), rank_4_tensor.dtype"
   ]
  },
  {
   "attachments": {},
   "cell_type": "markdown",
   "id": "586a0c94",
   "metadata": {},
   "source": [
    "### Indexing Tensors\n",
    "Tensors can by indexed just like python lists"
   ]
  },
  {
   "cell_type": "code",
   "execution_count": null,
   "id": "9ca46d11",
   "metadata": {},
   "outputs": [],
   "source": [
    "# Get first 2 elements for each index\n",
    "rank_4_tensor[:2, :2, :2, :2]"
   ]
  },
  {
   "cell_type": "code",
   "execution_count": null,
   "id": "bd937906",
   "metadata": {},
   "outputs": [],
   "source": [
    "# Get the first each dimension from each index except the final one\n",
    "rank_4_tensor[:1, :1, :1, :]  # NOTE: rank_4_tensor[:1, :1, :1, :]  != rank_4_tensor[0, 0, 0, :]"
   ]
  },
  {
   "attachments": {},
   "cell_type": "markdown",
   "id": "3c5d9126",
   "metadata": {},
   "source": [
    "### Reshape Tensors"
   ]
  },
  {
   "cell_type": "code",
   "execution_count": null,
   "id": "7cdc8669",
   "metadata": {},
   "outputs": [],
   "source": [
    "rank_2_tensor = tf.constant([[27, 83],\n",
    "                             [10, 19]])\n",
    "rank_2_tensor"
   ]
  },
  {
   "cell_type": "code",
   "execution_count": null,
   "id": "13026127",
   "metadata": {},
   "outputs": [],
   "source": [
    "# Get the last item of each row of our rank 2 tensor\n",
    "rank_2_tensor[:, -1]"
   ]
  },
  {
   "cell_type": "code",
   "execution_count": null,
   "id": "5d3820b7",
   "metadata": {},
   "outputs": [],
   "source": [
    "# Add in extra dimension to our rank 2 tensor\n",
    "rank_3_tensor = rank_2_tensor[..., tf.newaxis]\n",
    "rank_3_tensor"
   ]
  },
  {
   "cell_type": "code",
   "execution_count": null,
   "id": "30b9c64f",
   "metadata": {},
   "outputs": [],
   "source": [
    "# Add in extra dimension to our rank 2 tensor (alternative way)\n",
    "tf.expand_dims(rank_2_tensor, axis=-1)"
   ]
  },
  {
   "attachments": {},
   "cell_type": "markdown",
   "id": "a1f46893",
   "metadata": {},
   "source": [
    "## 3. Manipulating Tensor (Tensor Operations)\n",
    "Basic Operations\n",
    "`+`. `-`,  `*`. `/`"
   ]
  },
  {
   "cell_type": "code",
   "execution_count": null,
   "id": "7fce87fb",
   "metadata": {},
   "outputs": [],
   "source": [
    "# Basic Opertions with a scalar\n",
    "tensor = tf.constant([[27, 83],\n",
    "                      [10, 19]])\n",
    "\n",
    "tensor + 1, tensor - 1, tensor * 2, tensor / 2"
   ]
  },
  {
   "cell_type": "code",
   "execution_count": null,
   "id": "8d124ee1",
   "metadata": {},
   "outputs": [],
   "source": [
    "# Adding/Subtracting two tensors\n",
    "tensor_A = tf.constant([[27, 83],\n",
    "                       [10, 19]])\n",
    "tensor_B = tf.constant([[13, 17],\n",
    "                        [10, 1]])\n",
    "tensor_A + tensor_B, tensor_A - tensor_B"
   ]
  },
  {
   "cell_type": "code",
   "execution_count": null,
   "id": "7a40d574",
   "metadata": {},
   "outputs": [],
   "source": [
    "# Multiplying/Diving Tensors (Element Wise)\n",
    "tensor_A = tf.constant([[27, 83],\n",
    "                       [10, 19]])\n",
    "tensor_B = tf.constant([[13, 17],\n",
    "                        [10, 1]])\n",
    "tensor_A * tensor_B, tensor_A / tensor_B"
   ]
  },
  {
   "attachments": {},
   "cell_type": "markdown",
   "id": "e4ee1024",
   "metadata": {},
   "source": [
    "### Tensor Multiplication\n",
    "Tensor multiplication results in the two following rules:\n",
    "1. The inner dimensions must match\n",
    "2. The resulting matrix has the shape of the inner dimensions"
   ]
  },
  {
   "cell_type": "code",
   "execution_count": null,
   "id": "5c3ca9b8",
   "metadata": {},
   "outputs": [],
   "source": [
    "# Matrix Multiplication (NOT Element Wise) Using tf.linalg.matmul (can shorten to tf.matmul)\n",
    "tensor_A = tf.constant([[27, 83],\n",
    "                        [10, 19]])\n",
    "tensor_B = tf.constant([[13, 17],\n",
    "                        [10, 1]])\n",
    "tf.matmul(tensor_A, tensor_B)"
   ]
  },
  {
   "cell_type": "code",
   "execution_count": null,
   "id": "7af73674",
   "metadata": {},
   "outputs": [],
   "source": [
    "# Matrix Multiplication (NOT Element Wise) Using `@` Operator\n",
    "tensor_A = tf.constant([[27, 83],\n",
    "                        [10, 19]])\n",
    "tensor_B = tf.constant([[13, 17],\n",
    "                        [10, 1]])\n",
    "tensor_A @ tensor_B"
   ]
  },
  {
   "cell_type": "code",
   "execution_count": null,
   "id": "00b30b27",
   "metadata": {},
   "outputs": [],
   "source": [
    "# Transposing Matrices\n",
    "tensor = tf.constant([[27, 83],\n",
    "                      [10, 19],\n",
    "                      [13, 17]])\n",
    "tf.transpose(tensor)"
   ]
  },
  {
   "attachments": {},
   "cell_type": "markdown",
   "id": "0cbef827",
   "metadata": {},
   "source": [
    "### Matrix Dot Products\n",
    "Matrix Multiplication is also referred to as the dot product.\n",
    "\n",
    "Using Matrix Multiplication:\n",
    "* `tf.matmul()`\n",
    "* `tf.tensordot()`\n",
    "* `@`"
   ]
  },
  {
   "cell_type": "code",
   "execution_count": null,
   "id": "ddb57787",
   "metadata": {},
   "outputs": [],
   "source": [
    "# Dotproduct Matrices (Same as multiplication)\n",
    "tensor_A = tf.constant([[27, 83],\n",
    "                        [10, 19]])\n",
    "tensor_B = tf.constant([[13, 17],\n",
    "                        [10, 1]])\n",
    "\n",
    "tf.tensordot(tensor_A, tensor_B, axes=1)"
   ]
  },
  {
   "cell_type": "code",
   "execution_count": null,
   "id": "96e65c72",
   "metadata": {},
   "outputs": [],
   "source": [
    "# Transpose Vs Reshape\n",
    "tensor_A = tf.constant([[27, 83],\n",
    "                        [10, 19],\n",
    "                        [13, 17]])\n",
    "tf.transpose(tensor_A), tf.reshape(tensor_A, shape=(2, 3))"
   ]
  },
  {
   "attachments": {},
   "cell_type": "markdown",
   "id": "e59b8a1b",
   "metadata": {},
   "source": [
    "### Changing Datatype of Tensor"
   ]
  },
  {
   "cell_type": "code",
   "execution_count": null,
   "id": "9df97ed9",
   "metadata": {},
   "outputs": [],
   "source": [
    "A = tf.constant([1.2, 3.4])\n",
    "B = tf.constant([3, 4])\n",
    "\n",
    "A.dtype, B.dtype"
   ]
  },
  {
   "cell_type": "code",
   "execution_count": null,
   "id": "621d28f7",
   "metadata": {},
   "outputs": [],
   "source": [
    "# Casting A and B to lower precisions\n",
    "\n",
    "tf.cast(A, tf.float16), tf.cast(B, tf.int16)"
   ]
  },
  {
   "cell_type": "code",
   "execution_count": null,
   "id": "bc0d3d66",
   "metadata": {},
   "outputs": [],
   "source": [
    "# Casting float to int and Vice versa\n",
    "# NOTE: Cast from float to into will lose precision so use sparingly!\n",
    "tf.cast(A, tf.int32), tf.cast(B, tf.float32)"
   ]
  },
  {
   "attachments": {},
   "cell_type": "markdown",
   "id": "cbd6bd9a",
   "metadata": {},
   "source": [
    "## 4. Aggregating Tensors\n",
    "Condensing Tensors to smaller values."
   ]
  },
  {
   "attachments": {},
   "cell_type": "markdown",
   "id": "a1806f7f",
   "metadata": {},
   "source": [
    "### Aboslute Values"
   ]
  },
  {
   "cell_type": "code",
   "execution_count": null,
   "id": "58affca8",
   "metadata": {},
   "outputs": [],
   "source": [
    "# Absolute Values of Tensor\n",
    "A = tf.constant([-3, 4, 1, -2])\n",
    "tf.abs(A)"
   ]
  },
  {
   "attachments": {},
   "cell_type": "markdown",
   "id": "34d9f123",
   "metadata": {},
   "source": [
    "### Basic Aggregations\n",
    "Getting the min, max, mean, sum, etc."
   ]
  },
  {
   "cell_type": "code",
   "execution_count": null,
   "id": "f0560856",
   "metadata": {},
   "outputs": [],
   "source": [
    "# Create a random tensor with values between 0 and 100 of size 50\n",
    "A = tf.constant(np.random.randint(0, 100, size=50))\n",
    "A, tf.size(A), A.shape, A.ndim"
   ]
  },
  {
   "cell_type": "code",
   "execution_count": null,
   "id": "bf48864f",
   "metadata": {},
   "outputs": [],
   "source": [
    "# Minimum of Tensor\n",
    "tf.reduce_min(A)"
   ]
  },
  {
   "cell_type": "code",
   "execution_count": null,
   "id": "df8e6d80",
   "metadata": {},
   "outputs": [],
   "source": [
    "# Maximum of Tensor\n",
    "tf.reduce_max(A)"
   ]
  },
  {
   "cell_type": "code",
   "execution_count": null,
   "id": "3e0be470",
   "metadata": {},
   "outputs": [],
   "source": [
    "# Mean of Tensor\n",
    "tf.reduce_mean(A)"
   ]
  },
  {
   "cell_type": "code",
   "execution_count": null,
   "id": "e670e81c",
   "metadata": {},
   "outputs": [],
   "source": [
    "# Sum of Tensor\n",
    "tf.reduce_sum(A)"
   ]
  },
  {
   "cell_type": "code",
   "execution_count": null,
   "id": "feee8711",
   "metadata": {},
   "outputs": [],
   "source": [
    "# Standard Deviation of Tensor\n",
    "tf.math.reduce_std(tf.cast(A, tf.float32))"
   ]
  },
  {
   "cell_type": "code",
   "execution_count": null,
   "id": "7f81f4ea",
   "metadata": {},
   "outputs": [],
   "source": [
    "# Variance of Tensor\n",
    "tf.math.reduce_variance(tf.cast(A, tf.float32))"
   ]
  },
  {
   "cell_type": "code",
   "execution_count": null,
   "id": "b8a50b79",
   "metadata": {},
   "outputs": [],
   "source": [
    "# Finding position of Mins in a Tensor\n",
    "A = tf.random.uniform(shape=[50])\n",
    "\n",
    "tf.argmin(A), A[tf.argmin(A)] == tf.reduce_min(A), tf.reduce_min(A)"
   ]
  },
  {
   "cell_type": "code",
   "execution_count": null,
   "id": "0244d45f",
   "metadata": {},
   "outputs": [],
   "source": [
    "# Finding position of Max in a Tensor\n",
    "A = tf.random.uniform(shape=[50])\n",
    "\n",
    "tf.argmax(A), A[tf.argmax(A)] == tf.reduce_max(A), tf.reduce_max(A)"
   ]
  },
  {
   "attachments": {},
   "cell_type": "markdown",
   "id": "c3f0db37",
   "metadata": {},
   "source": [
    "### Squeezing a Tensor\n",
    "Removing all 1 Dimensional Axes"
   ]
  },
  {
   "cell_type": "code",
   "execution_count": null,
   "id": "8ecb5bce",
   "metadata": {},
   "outputs": [],
   "source": [
    "A = tf.constant(tf.random.uniform(shape=[1, 1, 1, 1, 50]))\n",
    "A"
   ]
  },
  {
   "cell_type": "code",
   "execution_count": null,
   "id": "0eaf96ee",
   "metadata": {},
   "outputs": [],
   "source": [
    "A_squeezed = tf.squeeze(A)\n",
    "A_squeezed"
   ]
  },
  {
   "attachments": {},
   "cell_type": "markdown",
   "id": "d17d8c78",
   "metadata": {},
   "source": [
    "### One Hot Encoding Tensors\n",
    "Encoding repeated strings to an int ('red', 'green', 'blue') -> (1, 0, 0)"
   ]
  },
  {
   "cell_type": "code",
   "execution_count": null,
   "id": "551da378",
   "metadata": {},
   "outputs": [],
   "source": [
    "some_list = [0, 1, 2, 3, 0, 2, 1, 1] # Could be red, green, blue, purple\n",
    "tf.one_hot(some_list, depth=4)"
   ]
  },
  {
   "attachments": {},
   "cell_type": "markdown",
   "id": "d66cb0cd",
   "metadata": {},
   "source": [
    "### Checking Devices Available (CPU, GPU, TPU)\n",
    "NOTE: TensorFlow will automatically use a CUDA GPU if one is available"
   ]
  },
  {
   "cell_type": "code",
   "execution_count": null,
   "id": "a9b7fc60",
   "metadata": {},
   "outputs": [],
   "source": [
    "tf.config.list_physical_devices()"
   ]
  }
 ],
 "metadata": {
  "kernelspec": {
   "display_name": "Python 3 (ipykernel)",
   "language": "python",
   "name": "python3"
  },
  "language_info": {
   "codemirror_mode": {
    "name": "ipython",
    "version": 3
   },
   "file_extension": ".py",
   "mimetype": "text/x-python",
   "name": "python",
   "nbconvert_exporter": "python",
   "pygments_lexer": "ipython3",
   "version": "3.8.9"
  }
 },
 "nbformat": 4,
 "nbformat_minor": 5
}
