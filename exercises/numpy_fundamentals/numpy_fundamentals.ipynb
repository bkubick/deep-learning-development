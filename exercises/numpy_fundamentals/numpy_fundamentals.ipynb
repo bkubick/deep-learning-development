{
 "cells": [
  {
   "attachments": {},
   "cell_type": "markdown",
   "id": "eaa98ac5",
   "metadata": {},
   "source": [
    "# Fundamental of Numpy\n",
    "\n",
    "Numpy is a library built on top of C++, commonly used in data science and machine learning. This is typically the backbone for many other machine learning algs. For instance, pandas DataFrame's are built on numpy arrays.\n",
    "\n",
    "* https://numpy.org/doc/stable/reference/index.html\n",
    "\n",
    "The primary reason numpy is commonly used is due to the performance behind numpy. Numpy arrays utilize vectorization which can utilize operations on entire sets of data rather than a single datapoint at a time.\n",
    "\n",
    "* https://www.scaler.com/topics/np-vectorize/\n",
    "\n",
    "The purpose of this notebook is to dig into the fundamentals of Numpy."
   ]
  },
  {
   "cell_type": "markdown",
   "id": "c77f0075-a229-489b-b86f-9aa8e81b8940",
   "metadata": {
    "jp-MarkdownHeadingCollapsed": true
   },
   "source": [
    "## Imports"
   ]
  },
  {
   "cell_type": "code",
   "execution_count": 1,
   "id": "33db2716",
   "metadata": {},
   "outputs": [],
   "source": [
    "from matplotlib.image import imread\n",
    "import numpy as np\n",
    "import pandas as pd"
   ]
  },
  {
   "attachments": {},
   "cell_type": "markdown",
   "id": "6d2e2e86",
   "metadata": {
    "jp-MarkdownHeadingCollapsed": true
   },
   "source": [
    "## DataTypes & Attributes\n",
    "\n",
    "Numpy's main datatype is `ndarray`."
   ]
  },
  {
   "cell_type": "code",
   "execution_count": 2,
   "id": "28d8e4ad",
   "metadata": {},
   "outputs": [
    {
     "data": {
      "text/plain": [
       "(array([1, 2, 3]), numpy.ndarray)"
      ]
     },
     "execution_count": 2,
     "metadata": {},
     "output_type": "execute_result"
    }
   ],
   "source": [
    "a1 = np.array([1, 2, 3])\n",
    "a1, type(a1)"
   ]
  },
  {
   "cell_type": "code",
   "execution_count": 3,
   "id": "78983a71",
   "metadata": {},
   "outputs": [
    {
     "data": {
      "text/plain": [
       "(array([[1. , 2. , 3.3],\n",
       "        [4. , 5. , 6.5]]),\n",
       " array([[[ 1,  2,  3],\n",
       "         [ 4,  5,  6],\n",
       "         [ 7,  8,  9]],\n",
       " \n",
       "        [[10, 11, 12],\n",
       "         [13, 14, 15],\n",
       "         [16, 17, 18]]]))"
      ]
     },
     "execution_count": 3,
     "metadata": {},
     "output_type": "execute_result"
    }
   ],
   "source": [
    "# Shape = (2, 3)\n",
    "a2 = np.array([[1, 2.0, 3.3],\n",
    "               [4, 5,6.5]])\n",
    "\n",
    "# Shape = (2, 3, 3)\n",
    "a3 = np.array([[[1, 2, 3],\n",
    "                [4, 5, 6],\n",
    "                [7, 8, 9]],\n",
    "               \n",
    "               [[10, 11, 12],\n",
    "                [13, 14, 15],\n",
    "                [16, 17, 18]]])\n",
    "a2, a3"
   ]
  },
  {
   "cell_type": "code",
   "execution_count": 4,
   "id": "6fa3bc18",
   "metadata": {},
   "outputs": [
    {
     "data": {
      "text/plain": [
       "((3,), (2, 3), (2, 3, 3))"
      ]
     },
     "execution_count": 4,
     "metadata": {},
     "output_type": "execute_result"
    }
   ],
   "source": [
    "# Looking at shapes\n",
    "a1.shape, a2.shape, a3.shape"
   ]
  },
  {
   "cell_type": "code",
   "execution_count": 5,
   "id": "bb94ed39",
   "metadata": {},
   "outputs": [
    {
     "data": {
      "text/plain": [
       "(1, 2, 3)"
      ]
     },
     "execution_count": 5,
     "metadata": {},
     "output_type": "execute_result"
    }
   ],
   "source": [
    "# Looking at dims\n",
    "a1.ndim, a2.ndim, a3.ndim"
   ]
  },
  {
   "cell_type": "code",
   "execution_count": 6,
   "id": "cfaa6ee3",
   "metadata": {},
   "outputs": [
    {
     "data": {
      "text/plain": [
       "(dtype('int64'), dtype('float64'), dtype('int64'))"
      ]
     },
     "execution_count": 6,
     "metadata": {},
     "output_type": "execute_result"
    }
   ],
   "source": [
    "# Looking at data types\n",
    "a1.dtype, a2.dtype, a3.dtype"
   ]
  },
  {
   "cell_type": "code",
   "execution_count": 7,
   "id": "da9599fe",
   "metadata": {},
   "outputs": [
    {
     "data": {
      "text/plain": [
       "(3, 6, 18)"
      ]
     },
     "execution_count": 7,
     "metadata": {},
     "output_type": "execute_result"
    }
   ],
   "source": [
    "# Looking at size\n",
    "a1.size, a2.size, a3.size"
   ]
  },
  {
   "attachments": {},
   "cell_type": "markdown",
   "id": "7bd00d0e",
   "metadata": {
    "jp-MarkdownHeadingCollapsed": true
   },
   "source": [
    "## Creating Numpy Arrays\n",
    "\n",
    "Numpy Arrays can be created multiple different ways. This includes creating an array of `ones`, `zeros`, `range`, `random ints`, `random floats`, etc."
   ]
  },
  {
   "cell_type": "code",
   "execution_count": 8,
   "id": "4ca28fba",
   "metadata": {},
   "outputs": [
    {
     "data": {
      "text/plain": [
       "(array([1, 2, 3]), dtype('int64'))"
      ]
     },
     "execution_count": 8,
     "metadata": {},
     "output_type": "execute_result"
    }
   ],
   "source": [
    "# Standard\n",
    "sample_array= np.array([1,2 ,3])\n",
    "sample_array, sample_array.dtype"
   ]
  },
  {
   "cell_type": "code",
   "execution_count": 9,
   "id": "01c4632e",
   "metadata": {},
   "outputs": [
    {
     "data": {
      "text/plain": [
       "(array([[1., 1., 1.],\n",
       "        [1., 1., 1.]]),\n",
       " dtype('float64'))"
      ]
     },
     "execution_count": 9,
     "metadata": {},
     "output_type": "execute_result"
    }
   ],
   "source": [
    "# ones array\n",
    "ones = np.ones((2, 3))\n",
    "ones, ones.dtype"
   ]
  },
  {
   "cell_type": "code",
   "execution_count": 10,
   "id": "69efcfb8",
   "metadata": {},
   "outputs": [
    {
     "data": {
      "text/plain": [
       "(array([[0., 0., 0.],\n",
       "        [0., 0., 0.]]),\n",
       " dtype('float64'))"
      ]
     },
     "execution_count": 10,
     "metadata": {},
     "output_type": "execute_result"
    }
   ],
   "source": [
    "# zeros array\n",
    "zeros = np.zeros((2, 3))\n",
    "zeros, zeros.dtype"
   ]
  },
  {
   "cell_type": "code",
   "execution_count": 11,
   "id": "54f126f4",
   "metadata": {},
   "outputs": [
    {
     "data": {
      "text/plain": [
       "(array([0, 2, 4, 6, 8]), dtype('int64'))"
      ]
     },
     "execution_count": 11,
     "metadata": {},
     "output_type": "execute_result"
    }
   ],
   "source": [
    "# Range array\n",
    "range_array = np.arange(0, 10, 2)\n",
    "range_array, range_array.dtype"
   ]
  },
  {
   "cell_type": "code",
   "execution_count": 12,
   "id": "a87e4998",
   "metadata": {},
   "outputs": [
    {
     "data": {
      "text/plain": [
       "array([[2, 5, 8, 9, 6],\n",
       "       [9, 0, 6, 1, 9],\n",
       "       [8, 4, 9, 9, 5]])"
      ]
     },
     "execution_count": 12,
     "metadata": {},
     "output_type": "execute_result"
    }
   ],
   "source": [
    "# Random array of integers\n",
    "random_array = np.random.randint(0, 10, size=(3, 5))\n",
    "random_array"
   ]
  },
  {
   "cell_type": "code",
   "execution_count": 13,
   "id": "9f6fdd51",
   "metadata": {},
   "outputs": [
    {
     "data": {
      "text/plain": [
       "array([[0.82364352, 0.65896297, 0.87164273],\n",
       "       [0.12933642, 0.45519985, 0.4832369 ],\n",
       "       [0.4799328 , 0.25805752, 0.75278828],\n",
       "       [0.85523284, 0.22318622, 0.84809305],\n",
       "       [0.11176497, 0.33330878, 0.31411775]])"
      ]
     },
     "execution_count": 13,
     "metadata": {},
     "output_type": "execute_result"
    }
   ],
   "source": [
    "# Random array of floats between 0 and 1\n",
    "random_array_2 = np.random.random((5, 3))\n",
    "random_array_2"
   ]
  },
  {
   "cell_type": "code",
   "execution_count": 14,
   "id": "07f452d0",
   "metadata": {},
   "outputs": [
    {
     "data": {
      "text/plain": [
       "array([[0.89545396, 0.93234378, 0.15541472],\n",
       "       [0.45324928, 0.07021571, 0.02837654],\n",
       "       [0.33309628, 0.21927237, 0.28311   ],\n",
       "       [0.02564652, 0.85574769, 0.37875308],\n",
       "       [0.1354138 , 0.06420949, 0.90081021]])"
      ]
     },
     "execution_count": 14,
     "metadata": {},
     "output_type": "execute_result"
    }
   ],
   "source": [
    "# Random array between 0 and 1\n",
    "random_array_3 = np.random.rand(5, 3)\n",
    "random_array_3"
   ]
  },
  {
   "cell_type": "code",
   "execution_count": 15,
   "id": "1816a8a3",
   "metadata": {},
   "outputs": [
    {
     "data": {
      "text/plain": [
       "array([[3, 6, 6],\n",
       "       [0, 9, 8],\n",
       "       [4, 7, 0],\n",
       "       [0, 7, 1],\n",
       "       [5, 7, 0]])"
      ]
     },
     "execution_count": 15,
     "metadata": {},
     "output_type": "execute_result"
    }
   ],
   "source": [
    "# Setting random seed (random is actualy pseudo-random numbers)\n",
    "# Setting a seed makes the number reproduceable.\n",
    "np.random.seed(5)\n",
    "random_array_4 = np.random.randint(10, size=(5, 3))\n",
    "random_array_4"
   ]
  },
  {
   "attachments": {},
   "cell_type": "markdown",
   "id": "d2940c6b",
   "metadata": {
    "jp-MarkdownHeadingCollapsed": true
   },
   "source": [
    "## Viewing Arrays and Matrices"
   ]
  },
  {
   "cell_type": "code",
   "execution_count": 16,
   "id": "701924fa",
   "metadata": {},
   "outputs": [
    {
     "data": {
      "text/plain": [
       "array([[1, 4, 6],\n",
       "       [2, 9, 9],\n",
       "       [9, 9, 1],\n",
       "       [2, 7, 0],\n",
       "       [5, 0, 0]])"
      ]
     },
     "execution_count": 16,
     "metadata": {},
     "output_type": "execute_result"
    }
   ],
   "source": [
    "# Resetting the random_array\n",
    "random_array_4 = np.random.randint(10, size=(5, 3))\n",
    "random_array_4"
   ]
  },
  {
   "cell_type": "code",
   "execution_count": 17,
   "id": "8df7116c",
   "metadata": {},
   "outputs": [
    {
     "data": {
      "text/plain": [
       "array([0, 1, 2, 4, 5, 6, 7, 9])"
      ]
     },
     "execution_count": 17,
     "metadata": {},
     "output_type": "execute_result"
    }
   ],
   "source": [
    "# Listing all unique values in an array/matrix\n",
    "np.unique(random_array_4)"
   ]
  },
  {
   "cell_type": "code",
   "execution_count": 18,
   "id": "2c0048b1",
   "metadata": {},
   "outputs": [
    {
     "data": {
      "text/plain": [
       "(array([1, 2, 3]),\n",
       " array([[1. , 2. , 3.3],\n",
       "        [4. , 5. , 6.5]]),\n",
       " array([[[ 1,  2,  3],\n",
       "         [ 4,  5,  6],\n",
       "         [ 7,  8,  9]],\n",
       " \n",
       "        [[10, 11, 12],\n",
       "         [13, 14, 15],\n",
       "         [16, 17, 18]]]))"
      ]
     },
     "execution_count": 18,
     "metadata": {},
     "output_type": "execute_result"
    }
   ],
   "source": [
    "a1, a2, a3"
   ]
  },
  {
   "cell_type": "code",
   "execution_count": 19,
   "id": "db76c39a",
   "metadata": {},
   "outputs": [
    {
     "data": {
      "text/plain": [
       "(1,\n",
       " array([1. , 2. , 3.3]),\n",
       " array([[1, 2, 3],\n",
       "        [4, 5, 6],\n",
       "        [7, 8, 9]]))"
      ]
     },
     "execution_count": 19,
     "metadata": {},
     "output_type": "execute_result"
    }
   ],
   "source": [
    "# Indexing\n",
    "a1[0], a2[0], a3[0]"
   ]
  },
  {
   "cell_type": "code",
   "execution_count": 20,
   "id": "2cbaec09",
   "metadata": {},
   "outputs": [
    {
     "data": {
      "text/plain": [
       "(2, 6.5, 18)"
      ]
     },
     "execution_count": 20,
     "metadata": {},
     "output_type": "execute_result"
    }
   ],
   "source": [
    "a1[1], a2[1,2], a3[1,2,2]"
   ]
  },
  {
   "cell_type": "code",
   "execution_count": 21,
   "id": "e52b80d4",
   "metadata": {},
   "outputs": [
    {
     "data": {
      "text/plain": [
       "(array([1, 2]),\n",
       " array([[1., 2.],\n",
       "        [4., 5.]]),\n",
       " array([[[ 1,  2],\n",
       "         [ 4,  5]],\n",
       " \n",
       "        [[10, 11],\n",
       "         [13, 14]]]))"
      ]
     },
     "execution_count": 21,
     "metadata": {},
     "output_type": "execute_result"
    }
   ],
   "source": [
    "# Slicing\n",
    "a1[:2], a2[:2, :2], a3[:2, :2, :2]"
   ]
  },
  {
   "attachments": {},
   "cell_type": "markdown",
   "id": "b28599c1",
   "metadata": {
    "jp-MarkdownHeadingCollapsed": true
   },
   "source": [
    "## Manipulating & Comparing Arrays"
   ]
  },
  {
   "attachments": {},
   "cell_type": "markdown",
   "id": "ebc69226",
   "metadata": {
    "jp-MarkdownHeadingCollapsed": true
   },
   "source": [
    "### Arithmetic"
   ]
  },
  {
   "cell_type": "code",
   "execution_count": 22,
   "id": "51e8ab96",
   "metadata": {},
   "outputs": [
    {
     "data": {
      "text/plain": [
       "(array([1, 2, 3]),\n",
       " array([[1., 1., 1.],\n",
       "        [1., 1., 1.]]))"
      ]
     },
     "execution_count": 22,
     "metadata": {},
     "output_type": "execute_result"
    }
   ],
   "source": [
    "a1, ones"
   ]
  },
  {
   "cell_type": "code",
   "execution_count": 23,
   "id": "cb48e055",
   "metadata": {},
   "outputs": [
    {
     "data": {
      "text/plain": [
       "array([[2., 3., 4.],\n",
       "       [2., 3., 4.]])"
      ]
     },
     "execution_count": 23,
     "metadata": {},
     "output_type": "execute_result"
    }
   ],
   "source": [
    "# Summing arrays\n",
    "a1 + ones"
   ]
  },
  {
   "cell_type": "code",
   "execution_count": 24,
   "id": "6132bee4",
   "metadata": {},
   "outputs": [
    {
     "data": {
      "text/plain": [
       "array([[0., 1., 2.],\n",
       "       [0., 1., 2.]])"
      ]
     },
     "execution_count": 24,
     "metadata": {},
     "output_type": "execute_result"
    }
   ],
   "source": [
    "# Subtracting\n",
    "a1 - ones"
   ]
  },
  {
   "cell_type": "code",
   "execution_count": 25,
   "id": "ca3fcf8c",
   "metadata": {},
   "outputs": [
    {
     "data": {
      "text/plain": [
       "array([[1., 2., 3.],\n",
       "       [1., 2., 3.]])"
      ]
     },
     "execution_count": 25,
     "metadata": {},
     "output_type": "execute_result"
    }
   ],
   "source": [
    "# Multiplying (element wise)\n",
    "a1 * ones"
   ]
  },
  {
   "cell_type": "code",
   "execution_count": 26,
   "id": "67a6bc4f",
   "metadata": {},
   "outputs": [
    {
     "data": {
      "text/plain": [
       "array([[1., 2., 3.],\n",
       "       [1., 2., 3.]])"
      ]
     },
     "execution_count": 26,
     "metadata": {},
     "output_type": "execute_result"
    }
   ],
   "source": [
    "# Dividing (element wise)\n",
    "a1 / ones"
   ]
  },
  {
   "cell_type": "code",
   "execution_count": 27,
   "id": "d709a08e",
   "metadata": {},
   "outputs": [],
   "source": [
    "# Broadcasting error (improper shapes when arithmetic)\n",
    "## a2 + a3\n",
    "\n",
    "# The above code results in the following error\n",
    "# ValueError: operands could not be broadcast together with shapes (2,3) (2,3,3)\n",
    "\n",
    "# this is because (2, 3) != (2, 3, 3) (the shape of a2 does not equal to a3"
   ]
  },
  {
   "cell_type": "code",
   "execution_count": 28,
   "id": "7a59a01d",
   "metadata": {},
   "outputs": [
    {
     "data": {
      "text/plain": [
       "array([1, 4, 9])"
      ]
     },
     "execution_count": 28,
     "metadata": {},
     "output_type": "execute_result"
    }
   ],
   "source": [
    "# Powers (element wise)\n",
    "a1 ** 2"
   ]
  },
  {
   "cell_type": "code",
   "execution_count": 29,
   "id": "00f8da68",
   "metadata": {},
   "outputs": [
    {
     "data": {
      "text/plain": [
       "array([1, 0, 1])"
      ]
     },
     "execution_count": 29,
     "metadata": {},
     "output_type": "execute_result"
    }
   ],
   "source": [
    "# Modulo (element wise)\n",
    "a1 % 2"
   ]
  },
  {
   "cell_type": "code",
   "execution_count": 30,
   "id": "4fb1e79a",
   "metadata": {},
   "outputs": [
    {
     "data": {
      "text/plain": [
       "array([ 2.71828183,  7.3890561 , 20.08553692])"
      ]
     },
     "execution_count": 30,
     "metadata": {},
     "output_type": "execute_result"
    }
   ],
   "source": [
    "# Exponential (element wise)\n",
    "np.exp(a1)"
   ]
  },
  {
   "cell_type": "code",
   "execution_count": 31,
   "id": "9933beb8",
   "metadata": {},
   "outputs": [
    {
     "data": {
      "text/plain": [
       "array([0.        , 0.69314718, 1.09861229])"
      ]
     },
     "execution_count": 31,
     "metadata": {},
     "output_type": "execute_result"
    }
   ],
   "source": [
    "# log (element wise)\n",
    "np.log(a1)"
   ]
  },
  {
   "attachments": {},
   "cell_type": "markdown",
   "id": "27f68333",
   "metadata": {
    "jp-MarkdownHeadingCollapsed": true
   },
   "source": [
    "### Aggregation"
   ]
  },
  {
   "cell_type": "code",
   "execution_count": 32,
   "id": "af3f809c",
   "metadata": {},
   "outputs": [
    {
     "name": "stdout",
     "output_type": "stream",
     "text": [
      "3.91 ms ± 2.55 µs per loop (mean ± std. dev. of 7 runs, 100 loops each)\n",
      "20.2 µs ± 118 ns per loop (mean ± std. dev. of 7 runs, 100,000 loops each)\n"
     ]
    }
   ],
   "source": [
    "# Summing elements in a list\n",
    "# NOTE: sum(a1) and np.sum(a1) return the same thing, but when working with numpy, use numpy methods.\n",
    "#       and when working with python data, use python methods.\n",
    "# Reason being for this, the numpy sum is signifcantly faster for numpy arrays.\n",
    "\n",
    "massive_array = np.random.random(100000)\n",
    "%timeit sum(massive_array)  # Python's sum()\n",
    "%timeit np.sum(massive_array)  # Numpy's sum()"
   ]
  },
  {
   "cell_type": "code",
   "execution_count": 33,
   "id": "016ec733",
   "metadata": {},
   "outputs": [
    {
     "data": {
      "text/plain": [
       "3.6333333333333333"
      ]
     },
     "execution_count": 33,
     "metadata": {},
     "output_type": "execute_result"
    }
   ],
   "source": [
    "# Mean\n",
    "np.mean(a2)"
   ]
  },
  {
   "cell_type": "code",
   "execution_count": 34,
   "id": "59b970d5",
   "metadata": {},
   "outputs": [
    {
     "data": {
      "text/plain": [
       "(6.5, 1.0)"
      ]
     },
     "execution_count": 34,
     "metadata": {},
     "output_type": "execute_result"
    }
   ],
   "source": [
    "# Max & min\n",
    "np.max(a2),  np.min(a2)"
   ]
  },
  {
   "cell_type": "code",
   "execution_count": 35,
   "id": "2c6193bd",
   "metadata": {},
   "outputs": [
    {
     "data": {
      "text/plain": [
       "(1.8226964152656422, 3.3222222222222224)"
      ]
     },
     "execution_count": 35,
     "metadata": {},
     "output_type": "execute_result"
    }
   ],
   "source": [
    "# Standard Deviation & Variance\n",
    "np.std(a2), np.var(a2)"
   ]
  },
  {
   "attachments": {},
   "cell_type": "markdown",
   "id": "bbaedd45",
   "metadata": {
    "jp-MarkdownHeadingCollapsed": true
   },
   "source": [
    "### Reshaping & Transposing"
   ]
  },
  {
   "cell_type": "code",
   "execution_count": 36,
   "id": "0d8f6acd",
   "metadata": {},
   "outputs": [
    {
     "data": {
      "text/plain": [
       "(array([[1. , 2. , 3.3],\n",
       "        [4. , 5. , 6.5]]),\n",
       " (2, 3))"
      ]
     },
     "execution_count": 36,
     "metadata": {},
     "output_type": "execute_result"
    }
   ],
   "source": [
    "a2, a2.shape"
   ]
  },
  {
   "cell_type": "code",
   "execution_count": 37,
   "id": "08cd1c1f",
   "metadata": {},
   "outputs": [
    {
     "data": {
      "text/plain": [
       "array([[[1. ],\n",
       "        [2. ],\n",
       "        [3.3]],\n",
       "\n",
       "       [[4. ],\n",
       "        [5. ],\n",
       "        [6.5]]])"
      ]
     },
     "execution_count": 37,
     "metadata": {},
     "output_type": "execute_result"
    }
   ],
   "source": [
    "# Reshape\n",
    "a2_reshape = a2.reshape((2, 3, 1))\n",
    "a2_reshape"
   ]
  },
  {
   "cell_type": "code",
   "execution_count": 38,
   "id": "3c29c69b",
   "metadata": {},
   "outputs": [
    {
     "data": {
      "text/plain": [
       "array([[[ 2. ,  3. ,  4. ],\n",
       "        [ 6. ,  7. ,  8. ],\n",
       "        [10.3, 11.3, 12.3]],\n",
       "\n",
       "       [[14. , 15. , 16. ],\n",
       "        [18. , 19. , 20. ],\n",
       "        [22.5, 23.5, 24.5]]])"
      ]
     },
     "execution_count": 38,
     "metadata": {},
     "output_type": "execute_result"
    }
   ],
   "source": [
    "# Refer back to Broadcasting Error code bit above, and let's see what happens after reshaping the a2 array to work\n",
    "a2_reshape + a3"
   ]
  },
  {
   "cell_type": "code",
   "execution_count": 39,
   "id": "c9bb44d1",
   "metadata": {},
   "outputs": [
    {
     "data": {
      "text/plain": [
       "(array([[1. , 2. , 3.3],\n",
       "        [4. , 5. , 6.5]]),\n",
       " array([[1. , 4. ],\n",
       "        [2. , 5. ],\n",
       "        [3.3, 6.5]]))"
      ]
     },
     "execution_count": 39,
     "metadata": {},
     "output_type": "execute_result"
    }
   ],
   "source": [
    "# Transpose\n",
    "# Same transpose as linalg\n",
    "a2, a2.transpose()"
   ]
  },
  {
   "attachments": {},
   "cell_type": "markdown",
   "id": "242215ad",
   "metadata": {
    "jp-MarkdownHeadingCollapsed": true
   },
   "source": [
    "### Matrix Multiplication (Dot Product vs. Element wise)"
   ]
  },
  {
   "cell_type": "code",
   "execution_count": 40,
   "id": "462a9f9d",
   "metadata": {},
   "outputs": [
    {
     "data": {
      "text/plain": [
       "(array([[5, 0, 3],\n",
       "        [3, 7, 9],\n",
       "        [3, 5, 2],\n",
       "        [4, 7, 6],\n",
       "        [8, 8, 1]]),\n",
       " array([[6, 7, 7],\n",
       "        [8, 1, 5],\n",
       "        [9, 8, 9],\n",
       "        [4, 3, 0],\n",
       "        [3, 5, 0]]))"
      ]
     },
     "execution_count": 40,
     "metadata": {},
     "output_type": "execute_result"
    }
   ],
   "source": [
    "np.random.seed(0)\n",
    "mat1 = np.random.randint(10, size=(5,3))\n",
    "mat2 = np.random.randint(10, size=(5,3))\n",
    "mat1, mat2"
   ]
  },
  {
   "cell_type": "code",
   "execution_count": 41,
   "id": "bddfc416",
   "metadata": {},
   "outputs": [
    {
     "data": {
      "text/plain": [
       "array([[ 51,  55,  72,  20,  15],\n",
       "       [130,  76, 164,  33,  44],\n",
       "       [ 67,  39,  85,  27,  34],\n",
       "       [115,  69, 146,  37,  47],\n",
       "       [111,  77, 145,  56,  64]])"
      ]
     },
     "execution_count": 41,
     "metadata": {},
     "output_type": "execute_result"
    }
   ],
   "source": [
    "# Matrix multiplication means the inner shapes must match \n",
    "# mat1.shape = (5, 3) & mat2.shape = (5, 3)\n",
    "# To make inner shapes match, transpose mat2 -> mat1.shape = (5, 3) & mat2.tranpose().shape = (3, 5)\n",
    "# (5, 3) @ (3, 5) -> (5, 5)\n",
    "np.dot(mat1, mat2.transpose())"
   ]
  },
  {
   "cell_type": "code",
   "execution_count": 42,
   "id": "11f00962",
   "metadata": {},
   "outputs": [
    {
     "data": {
      "text/plain": [
       "array([[ 51,  55,  72,  20,  15],\n",
       "       [130,  76, 164,  33,  44],\n",
       "       [ 67,  39,  85,  27,  34],\n",
       "       [115,  69, 146,  37,  47],\n",
       "       [111,  77, 145,  56,  64]])"
      ]
     },
     "execution_count": 42,
     "metadata": {},
     "output_type": "execute_result"
    }
   ],
   "source": [
    "# Using the @ operator to perform np.dot (matrix multiplication)\n",
    "mat1 @ mat2.transpose()"
   ]
  },
  {
   "attachments": {},
   "cell_type": "markdown",
   "id": "a0281e3c",
   "metadata": {
    "jp-MarkdownHeadingCollapsed": true
   },
   "source": [
    "### Exercise: Nut Butter Store Sales"
   ]
  },
  {
   "cell_type": "code",
   "execution_count": 43,
   "id": "e8ec86e3",
   "metadata": {},
   "outputs": [
    {
     "data": {
      "text/html": [
       "<div>\n",
       "<style scoped>\n",
       "    .dataframe tbody tr th:only-of-type {\n",
       "        vertical-align: middle;\n",
       "    }\n",
       "\n",
       "    .dataframe tbody tr th {\n",
       "        vertical-align: top;\n",
       "    }\n",
       "\n",
       "    .dataframe thead th {\n",
       "        text-align: right;\n",
       "    }\n",
       "</style>\n",
       "<table border=\"1\" class=\"dataframe\">\n",
       "  <thead>\n",
       "    <tr style=\"text-align: right;\">\n",
       "      <th></th>\n",
       "      <th>Almond Butter</th>\n",
       "      <th>Peanut Butter</th>\n",
       "      <th>Cashew Butter</th>\n",
       "    </tr>\n",
       "  </thead>\n",
       "  <tbody>\n",
       "    <tr>\n",
       "      <th>0</th>\n",
       "      <td>12</td>\n",
       "      <td>15</td>\n",
       "      <td>0</td>\n",
       "    </tr>\n",
       "    <tr>\n",
       "      <th>1</th>\n",
       "      <td>3</td>\n",
       "      <td>3</td>\n",
       "      <td>7</td>\n",
       "    </tr>\n",
       "    <tr>\n",
       "      <th>2</th>\n",
       "      <td>9</td>\n",
       "      <td>19</td>\n",
       "      <td>18</td>\n",
       "    </tr>\n",
       "    <tr>\n",
       "      <th>3</th>\n",
       "      <td>4</td>\n",
       "      <td>6</td>\n",
       "      <td>12</td>\n",
       "    </tr>\n",
       "    <tr>\n",
       "      <th>4</th>\n",
       "      <td>1</td>\n",
       "      <td>6</td>\n",
       "      <td>7</td>\n",
       "    </tr>\n",
       "  </tbody>\n",
       "</table>\n",
       "</div>"
      ],
      "text/plain": [
       "   Almond Butter  Peanut Butter  Cashew Butter\n",
       "0             12             15              0\n",
       "1              3              3              7\n",
       "2              9             19             18\n",
       "3              4              6             12\n",
       "4              1              6              7"
      ]
     },
     "execution_count": 43,
     "metadata": {},
     "output_type": "execute_result"
    }
   ],
   "source": [
    "# Getting the total sales of 3 different nut butters for 5 days\n",
    "np.random.seed(0)\n",
    "total_sales = np.random.randint(20, size=(5,3))\n",
    "pd.DataFrame(total_sales, columns=['Almond Butter', 'Peanut Butter', 'Cashew Butter'])"
   ]
  },
  {
   "cell_type": "code",
   "execution_count": 44,
   "id": "b3246da7",
   "metadata": {},
   "outputs": [],
   "source": [
    "# Setting the prices for the butters\n",
    "prices = np.array([10, 8, 12])"
   ]
  },
  {
   "cell_type": "code",
   "execution_count": 45,
   "id": "abdeaec0",
   "metadata": {},
   "outputs": [
    {
     "data": {
      "text/plain": [
       "array([240, 138, 458, 232, 142])"
      ]
     },
     "execution_count": 45,
     "metadata": {},
     "output_type": "execute_result"
    }
   ],
   "source": [
    "# Getting the total sales amounts for each day (Note: prices.T is shorthand way of prices.transpose())\n",
    "total_sales @ prices.T"
   ]
  },
  {
   "attachments": {},
   "cell_type": "markdown",
   "id": "96588812",
   "metadata": {
    "jp-MarkdownHeadingCollapsed": true
   },
   "source": [
    "### Comparison Operators"
   ]
  },
  {
   "cell_type": "code",
   "execution_count": 46,
   "id": "bd4526d7",
   "metadata": {},
   "outputs": [
    {
     "data": {
      "text/plain": [
       "(array([1, 2, 3]),\n",
       " array([[1. , 2. , 3.3],\n",
       "        [4. , 5. , 6.5]]))"
      ]
     },
     "execution_count": 46,
     "metadata": {},
     "output_type": "execute_result"
    }
   ],
   "source": [
    "a1, a2"
   ]
  },
  {
   "cell_type": "code",
   "execution_count": 47,
   "id": "850f0caf",
   "metadata": {},
   "outputs": [
    {
     "data": {
      "text/plain": [
       "(array([[False, False, False],\n",
       "        [False, False, False]]),\n",
       " array([[ True,  True, False],\n",
       "        [False, False, False]]),\n",
       " array([[ True,  True, False],\n",
       "        [False, False, False]]),\n",
       " array([[False, False,  True],\n",
       "        [ True,  True,  True]]),\n",
       " array([[False, False,  True],\n",
       "        [ True,  True,  True]]),\n",
       " array([[ True,  True,  True],\n",
       "        [ True,  True,  True]]))"
      ]
     },
     "execution_count": 47,
     "metadata": {},
     "output_type": "execute_result"
    }
   ],
   "source": [
    "# Checks if a1 cell is greater than a2 (element wise)\n",
    "a1 > a2, a1 >= a2, a1 == a2, a1 != a2, a1 < a2, a1 <= a2"
   ]
  },
  {
   "attachments": {},
   "cell_type": "markdown",
   "id": "1482acb7",
   "metadata": {
    "jp-MarkdownHeadingCollapsed": true
   },
   "source": [
    "### Sorting Arrays"
   ]
  },
  {
   "cell_type": "code",
   "execution_count": 48,
   "id": "2c8641ec",
   "metadata": {},
   "outputs": [
    {
     "data": {
      "text/plain": [
       "array([[7, 8, 1, 5, 9],\n",
       "       [8, 9, 4, 3, 0],\n",
       "       [3, 5, 0, 2, 3]])"
      ]
     },
     "execution_count": 48,
     "metadata": {},
     "output_type": "execute_result"
    }
   ],
   "source": [
    "random_array = np.random.randint(10, size=(3, 5))\n",
    "random_array"
   ]
  },
  {
   "cell_type": "code",
   "execution_count": 49,
   "id": "25c52838",
   "metadata": {},
   "outputs": [
    {
     "data": {
      "text/plain": [
       "array([[1, 5, 7, 8, 9],\n",
       "       [0, 3, 4, 8, 9],\n",
       "       [0, 2, 3, 3, 5]])"
      ]
     },
     "execution_count": 49,
     "metadata": {},
     "output_type": "execute_result"
    }
   ],
   "source": [
    "# Sorts each element in each row in the array\n",
    "np.sort(random_array)"
   ]
  },
  {
   "cell_type": "code",
   "execution_count": 50,
   "id": "38db195e",
   "metadata": {},
   "outputs": [
    {
     "data": {
      "text/plain": [
       "array([[2, 3, 0, 1, 4],\n",
       "       [4, 3, 2, 0, 1],\n",
       "       [2, 3, 0, 4, 1]])"
      ]
     },
     "execution_count": 50,
     "metadata": {},
     "output_type": "execute_result"
    }
   ],
   "source": [
    "# Sort the values and return the index of that array\n",
    "np.argsort(random_array)"
   ]
  },
  {
   "cell_type": "code",
   "execution_count": 51,
   "id": "464f9c5c",
   "metadata": {},
   "outputs": [
    {
     "data": {
      "text/plain": [
       "(0, 2)"
      ]
     },
     "execution_count": 51,
     "metadata": {},
     "output_type": "execute_result"
    }
   ],
   "source": [
    "# Get the index of the minimum value and the maximum value\n",
    "np.argmin(a1), np.argmax(a1)"
   ]
  },
  {
   "cell_type": "code",
   "execution_count": 52,
   "id": "57710935",
   "metadata": {},
   "outputs": [
    {
     "data": {
      "text/plain": [
       "4"
      ]
     },
     "execution_count": 52,
     "metadata": {},
     "output_type": "execute_result"
    }
   ],
   "source": [
    "# What about multi-dimensional arrays\n",
    "\n",
    "# NOTE: the return value below is an int, which is the index of the max value in a multi-dimensional array, if that\n",
    "#       multi-dimensional array was a single dimensional array.\n",
    "np.argmax(random_array)"
   ]
  },
  {
   "attachments": {},
   "cell_type": "markdown",
   "id": "51353fa8",
   "metadata": {
    "jp-MarkdownHeadingCollapsed": true
   },
   "source": [
    "## Practical Example - Numpy in Action"
   ]
  },
  {
   "cell_type": "code",
   "execution_count": 53,
   "id": "916bbabb",
   "metadata": {},
   "outputs": [],
   "source": [
    "image_data_dir_path = './data/numpy-images'"
   ]
  },
  {
   "attachments": {},
   "cell_type": "markdown",
   "id": "8a044ed9",
   "metadata": {},
   "source": [
    "<img src='./data/numpy-images/panda.png'/>"
   ]
  },
  {
   "cell_type": "code",
   "execution_count": 54,
   "id": "2cb6868c",
   "metadata": {},
   "outputs": [
    {
     "data": {
      "text/plain": [
       "array([[[0.05490196, 0.10588235, 0.06666667],\n",
       "        [0.05490196, 0.10588235, 0.06666667],\n",
       "        [0.05490196, 0.10588235, 0.06666667],\n",
       "        ...,\n",
       "        [0.16470589, 0.12941177, 0.09411765],\n",
       "        [0.16470589, 0.12941177, 0.09411765],\n",
       "        [0.16470589, 0.12941177, 0.09411765]]], dtype=float32)"
      ]
     },
     "execution_count": 54,
     "metadata": {},
     "output_type": "execute_result"
    }
   ],
   "source": [
    "# Turn an image into a Numpy array (The array returned grabs the color values for each pixel in the image)\n",
    "# The shape is (num_y_pixels, num_x_pixels, rgb_color_of_pixel)\n",
    "panda = imread(f'{image_data_dir_path}/panda.png')\n",
    "panda[:1]"
   ]
  },
  {
   "cell_type": "code",
   "execution_count": 55,
   "id": "5ea56ff8",
   "metadata": {},
   "outputs": [
    {
     "data": {
      "text/plain": [
       "(24465000, (2330, 3500, 3), 3)"
      ]
     },
     "execution_count": 55,
     "metadata": {},
     "output_type": "execute_result"
    }
   ],
   "source": [
    "panda.size, panda.shape, panda.ndim"
   ]
  },
  {
   "attachments": {},
   "cell_type": "markdown",
   "id": "e2d3f57f",
   "metadata": {},
   "source": [
    "<img src='./data/numpy-images/car-photo.png'/>"
   ]
  },
  {
   "cell_type": "code",
   "execution_count": 56,
   "id": "cfddc4e5",
   "metadata": {},
   "outputs": [
    {
     "data": {
      "text/plain": [
       "array([[[0.5019608 , 0.50980395, 0.4862745 , 1.        ],\n",
       "        [0.3372549 , 0.34509805, 0.30588236, 1.        ],\n",
       "        [0.20392157, 0.21568628, 0.14901961, 1.        ],\n",
       "        ...,\n",
       "        [0.64705884, 0.7058824 , 0.54901963, 1.        ],\n",
       "        [0.59607846, 0.63529414, 0.45882353, 1.        ],\n",
       "        [0.44705883, 0.47058824, 0.3372549 , 1.        ]]], dtype=float32)"
      ]
     },
     "execution_count": 56,
     "metadata": {},
     "output_type": "execute_result"
    }
   ],
   "source": [
    "# Getting numpy array of car photo\n",
    "car = imread(f'{image_data_dir_path}/car-photo.png')\n",
    "car[:1]"
   ]
  },
  {
   "attachments": {},
   "cell_type": "markdown",
   "id": "8893107e",
   "metadata": {},
   "source": [
    "<img src='./data/numpy-images/dog-photo.png'/>"
   ]
  },
  {
   "cell_type": "code",
   "execution_count": 57,
   "id": "e335307c",
   "metadata": {},
   "outputs": [
    {
     "data": {
      "text/plain": [
       "array([[[0.70980394, 0.80784315, 0.88235295, 1.        ],\n",
       "        [0.72156864, 0.8117647 , 0.8862745 , 1.        ],\n",
       "        [0.7411765 , 0.8156863 , 0.8862745 , 1.        ],\n",
       "        ...,\n",
       "        [0.49803922, 0.6862745 , 0.8392157 , 1.        ],\n",
       "        [0.49411765, 0.68235296, 0.8392157 , 1.        ],\n",
       "        [0.49411765, 0.68235296, 0.8352941 , 1.        ]]], dtype=float32)"
      ]
     },
     "execution_count": 57,
     "metadata": {},
     "output_type": "execute_result"
    }
   ],
   "source": [
    "# Getting numpy array of dog photo\n",
    "dog = imread(f'{image_data_dir_path}/dog-photo.png')\n",
    "dog[:1]"
   ]
  }
 ],
 "metadata": {
  "kernelspec": {
   "display_name": "Python 3 (ipykernel)",
   "language": "python",
   "name": "python3"
  },
  "language_info": {
   "codemirror_mode": {
    "name": "ipython",
    "version": 3
   },
   "file_extension": ".py",
   "mimetype": "text/x-python",
   "name": "python",
   "nbconvert_exporter": "python",
   "pygments_lexer": "ipython3",
   "version": "3.9.6"
  }
 },
 "nbformat": 4,
 "nbformat_minor": 5
}
