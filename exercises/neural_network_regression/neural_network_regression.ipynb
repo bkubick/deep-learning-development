{
 "cells": [
  {
   "attachments": {},
   "cell_type": "markdown",
   "id": "9c40ac04",
   "metadata": {},
   "source": [
    "# Introduction to Neural Networks Regression\n",
    "\n",
    "TensorFlow provides a comprehensive and usable API to create complex models. The purpose of this network is to analyze regression problems through TensorFlow's Keras API.\n",
    "\n",
    "* https://www.tensorflow.org/api_docs/python/tf/keras\n",
    "\n",
    "I am going to simplify regression problems by predicting a numerical variable based on some other combination of variables. For this notebook, I am going to generate a simple dataset to build simple models."
   ]
  },
  {
   "cell_type": "markdown",
   "id": "6367322e-bb94-462a-80cf-80349c4456f5",
   "metadata": {
    "jp-MarkdownHeadingCollapsed": true
   },
   "source": [
    "## Imports"
   ]
  },
  {
   "cell_type": "code",
   "execution_count": 1,
   "id": "e7c08038",
   "metadata": {},
   "outputs": [],
   "source": [
    "import matplotlib.pyplot as plt\n",
    "import numpy as np\n",
    "import pandas as pd\n",
    "from py_learning_toolbox import ml_toolbox\n",
    "import tensorflow as tf"
   ]
  },
  {
   "cell_type": "markdown",
   "id": "20fa64ca-e7ab-417e-93b7-f38580de1fff",
   "metadata": {
    "jp-MarkdownHeadingCollapsed": true
   },
   "source": [
    "## Helpers\n",
    "\n",
    "Utility functions used in this notebook to mitigate copied code."
   ]
  },
  {
   "cell_type": "code",
   "execution_count": 2,
   "id": "183cf3fe-3434-4e21-8354-e0a00ba580d8",
   "metadata": {},
   "outputs": [],
   "source": [
    "def plot_predictions(train_data: tf.Tensor,\n",
    "                     train_labels: tf.Tensor,\n",
    "                     test_data: tf.Tensor,\n",
    "                     test_labels: tf.Tensor,\n",
    "                     predictions: tf.Tensor) -> None:\n",
    "    \"\"\" Plots training data, test data, and compares predictions against actual values.\n",
    "\n",
    "        Args:\n",
    "            train_data (tf.Tensor): training data to plot on X-axis\n",
    "            train_labels (tf.Tensor): training data to plot on y-axis\n",
    "            test_data (tf.Tensor): test data to plot on X-axis\n",
    "            test_labels (tf.Tensor): test data to plot on y-axis\n",
    "            predictions (tf.Tensor): predictions to plot on X-axis\n",
    "    \"\"\"\n",
    "    plt.figure(figsize=(10, 7))\n",
    "    plt.scatter(train_data, train_labels, c='b', label='Training Data')\n",
    "    plt.scatter(test_data, test_labels, c='g', label='Test Data')\n",
    "    plt.scatter(test_data, predictions, c='r', label='Predictions')\n",
    "    plt.legend()"
   ]
  },
  {
   "cell_type": "code",
   "execution_count": 3,
   "id": "673641e3-90c7-4316-a55b-a1bf918c3ff7",
   "metadata": {},
   "outputs": [],
   "source": [
    "def mae(y_true: tf.Tensor, pred: tf.Tensor) -> tf.Tensor:\n",
    "    \"\"\" Helper utility to calculate the mean absolute error\n",
    "\n",
    "        Args:\n",
    "            y_true (tf.Tensor): the actual values\n",
    "            pred (tf.Tensor): the predicted values\n",
    "\n",
    "        Returns:\n",
    "            (tf.Tensor) the mean absolute error\n",
    "    \"\"\"\n",
    "    return tf.metrics.mean_absolute_error(y_true=tf.squeeze(y_true), y_pred=tf.squeeze(pred))"
   ]
  },
  {
   "cell_type": "code",
   "execution_count": 4,
   "id": "b0b0d7fc-7936-4081-968e-e57d736e68aa",
   "metadata": {},
   "outputs": [],
   "source": [
    "def mse(y_true: tf.Tensor, pred: tf.Tensor) -> tf.Tensor:\n",
    "    \"\"\" Helper utility to calculate the mean squared error\n",
    "\n",
    "        Args:\n",
    "            y_true (tf.Tensor): the actual values\n",
    "            pred (tf.Tensor): the predicted values\n",
    "\n",
    "        Returns:\n",
    "            (tf.Tensor) the mean squared error\n",
    "    \"\"\"\n",
    "    return tf.metrics.mean_squared_error(y_true=tf.squeeze(y_true), y_pred=tf.squeeze(pred))"
   ]
  },
  {
   "cell_type": "markdown",
   "id": "6fa67c12-90fe-46fe-960e-1105395de3bb",
   "metadata": {
    "jp-MarkdownHeadingCollapsed": true
   },
   "source": [
    "## Creating & Analyzing Datasets"
   ]
  },
  {
   "cell_type": "markdown",
   "id": "e9787f22-2318-4248-8429-ef70913dc2b5",
   "metadata": {
    "jp-MarkdownHeadingCollapsed": true
   },
   "source": [
    "### Creating Datasets\n",
    "\n",
    "The two datasets will represent linear datapoints.\n",
    "\n",
    "* Dataset-1: Small dataset of linear, x, y coordinates (y = x + 10)\n",
    "* Dataset-2: Large dataset of linear, x, y coordinates (y = x + 10)"
   ]
  },
  {
   "cell_type": "code",
   "execution_count": 5,
   "id": "51fe1f94",
   "metadata": {},
   "outputs": [
    {
     "name": "stderr",
     "output_type": "stream",
     "text": [
      "2023-09-13 17:20:07.280149: I metal_plugin/src/device/metal_device.cc:1154] Metal device set to: Apple M1 Pro\n",
      "2023-09-13 17:20:07.280176: I metal_plugin/src/device/metal_device.cc:296] systemMemory: 16.00 GB\n",
      "2023-09-13 17:20:07.280180: I metal_plugin/src/device/metal_device.cc:313] maxCacheSize: 5.33 GB\n",
      "2023-09-13 17:20:07.280240: I tensorflow/core/common_runtime/pluggable_device/pluggable_device_factory.cc:303] Could not identify NUMA node of platform GPU ID 0, defaulting to 0. Your kernel may not have been built with NUMA support.\n",
      "2023-09-13 17:20:07.280489: I tensorflow/core/common_runtime/pluggable_device/pluggable_device_factory.cc:269] Created TensorFlow device (/job:localhost/replica:0/task:0/device:GPU:0 with 0 MB memory) -> physical PluggableDevice (device: 0, name: METAL, pci bus id: <undefined>)\n"
     ]
    },
    {
     "data": {
      "text/plain": [
       "(<tf.Tensor: shape=(8,), dtype=float64, numpy=array([-7., -4., -1.,  2.,  5.,  8., 11., 14.])>,\n",
       " <tf.Tensor: shape=(8,), dtype=float64, numpy=array([ 3.,  6.,  9., 12., 15., 18., 21., 24.])>)"
      ]
     },
     "execution_count": 5,
     "metadata": {},
     "output_type": "execute_result"
    }
   ],
   "source": [
    "# Creating some sample data for regression\n",
    "X_small = tf.constant(np.array([-7.0, -4.0, -1.0, 2.0, 5.0, 8.0, 11.0, 14.0]))\n",
    "y_small = tf.constant(np.array([3.0, 6.0, 9.0, 12.0, 15.0, 18.0, 21.0, 24.0]))  # y = x + 10\n",
    "X_small, y_small"
   ]
  },
  {
   "cell_type": "code",
   "execution_count": 6,
   "id": "e3139783-4162-416b-9d32-6fe1ac5b83b7",
   "metadata": {},
   "outputs": [
    {
     "data": {
      "text/plain": [
       "(<tf.Tensor: shape=(50,), dtype=int32, numpy=\n",
       " array([-100,  -96,  -92,  -88,  -84,  -80,  -76,  -72,  -68,  -64,  -60,\n",
       "         -56,  -52,  -48,  -44,  -40,  -36,  -32,  -28,  -24,  -20,  -16,\n",
       "         -12,   -8,   -4,    0,    4,    8,   12,   16,   20,   24,   28,\n",
       "          32,   36,   40,   44,   48,   52,   56,   60,   64,   68,   72,\n",
       "          76,   80,   84,   88,   92,   96], dtype=int32)>,\n",
       " <tf.Tensor: shape=(50,), dtype=int32, numpy=\n",
       " array([-90, -86, -82, -78, -74, -70, -66, -62, -58, -54, -50, -46, -42,\n",
       "        -38, -34, -30, -26, -22, -18, -14, -10,  -6,  -2,   2,   6,  10,\n",
       "         14,  18,  22,  26,  30,  34,  38,  42,  46,  50,  54,  58,  62,\n",
       "         66,  70,  74,  78,  82,  86,  90,  94,  98, 102, 106], dtype=int32)>)"
      ]
     },
     "execution_count": 6,
     "metadata": {},
     "output_type": "execute_result"
    }
   ],
   "source": [
    "# Making a bigger set of data.\n",
    "X_large = tf.range(-100, 100, 4)\n",
    "y_large = X_large + 10\n",
    "X_large, y_large"
   ]
  },
  {
   "cell_type": "markdown",
   "id": "5be8a7f0-9648-4ed9-a251-c2f6cc85ed79",
   "metadata": {
    "jp-MarkdownHeadingCollapsed": true
   },
   "source": [
    "### Analyzing Dataset\n",
    "\n",
    "Looking into the dataset to get a better visualization of what I am working with."
   ]
  },
  {
   "cell_type": "code",
   "execution_count": 7,
   "id": "20bb17e1",
   "metadata": {},
   "outputs": [
    {
     "data": {
      "text/plain": [
       "<matplotlib.collections.PathCollection at 0x287e2e5b0>"
      ]
     },
     "execution_count": 7,
     "metadata": {},
     "output_type": "execute_result"
    },
    {
     "data": {
      "image/png": "[encoded data removed]",
      "text/plain": [
       "<Figure size 640x480 with 1 Axes>"
      ]
     },
     "metadata": {},
     "output_type": "display_data"
    }
   ],
   "source": [
    "# Plotting the data\n",
    "plt.scatter(X_small, y_small)"
   ]
  },
  {
   "cell_type": "code",
   "execution_count": 8,
   "id": "21a46a29-b696-4154-912f-4a42a46e94a2",
   "metadata": {},
   "outputs": [
    {
     "data": {
      "text/plain": [
       "<matplotlib.collections.PathCollection at 0x1062d4f70>"
      ]
     },
     "execution_count": 8,
     "metadata": {},
     "output_type": "execute_result"
    },
    {
     "data": {
      "image/png": "[encoded data removed]",
      "text/plain": [
       "<Figure size 640x480 with 1 Axes>"
      ]
     },
     "metadata": {},
     "output_type": "display_data"
    }
   ],
   "source": [
    "# Visualize the data\n",
    "plt.scatter(X_large, y_large)"
   ]
  },
  {
   "cell_type": "code",
   "execution_count": 9,
   "id": "5b375969-0569-4ba4-ad20-d4cbc109e694",
   "metadata": {},
   "outputs": [
    {
     "data": {
      "text/plain": [
       "(TensorShape([8]), TensorShape([8]))"
      ]
     },
     "execution_count": 9,
     "metadata": {},
     "output_type": "execute_result"
    }
   ],
   "source": [
    "# Figuring out input and output shape for X and y?\n",
    "# NOTE: This doesn't work, the input shape should be (1,) and output shape should be (1,)\n",
    "input_shape = X_small.shape\n",
    "output_shape = y_small.shape\n",
    "\n",
    "input_shape, output_shape"
   ]
  },
  {
   "cell_type": "markdown",
   "id": "1d28db89-af34-4832-9869-52e8e369777d",
   "metadata": {
    "jp-MarkdownHeadingCollapsed": true
   },
   "source": [
    "### Splitting Data\n",
    "Need to split my complete data set into a training set and a test set\n",
    "\n",
    "**NOTE: There are typically 3 sets to split the data with**\n",
    "1. **Training Set**: Typically 70-80% of the data available used to train the model\n",
    "2. **Validation Set**: The data the model gets tuned on. Typically 10-15%.\n",
    "3. **Test Set**: The model gets evaluated on this data to teest what it has learned. Typically 10-15% of data."
   ]
  },
  {
   "cell_type": "code",
   "execution_count": 10,
   "id": "0451e3b8-dcd9-4a53-9d3d-82eebb911d36",
   "metadata": {},
   "outputs": [
    {
     "data": {
      "text/plain": [
       "(40, 40, 10, 10)"
      ]
     },
     "execution_count": 10,
     "metadata": {},
     "output_type": "execute_result"
    }
   ],
   "source": [
    "# Figuring out the Training and Test Set Sizes\n",
    "total_units = len(X_large)\n",
    "\n",
    "# Get the training set (80%)\n",
    "# NOTE: Typically, we should shuffle the data before splitting\n",
    "\n",
    "X_train = X_large[:int(total_units * 0.8)]\n",
    "y_train = y_large[:int(total_units * 0.8)]\n",
    "\n",
    "X_test = X_large[int(total_units * 0.8):]\n",
    "y_test = y_large[int(total_units * 0.8):]\n",
    "\n",
    "len(X_train), len(y_train), len(X_test), len(y_test)"
   ]
  },
  {
   "cell_type": "code",
   "execution_count": 11,
   "id": "8f4cf58c-6647-465a-8f8c-a4d6b55dcb4f",
   "metadata": {},
   "outputs": [
    {
     "data": {
      "text/plain": [
       "<matplotlib.legend.Legend at 0x299c7c760>"
      ]
     },
     "execution_count": 11,
     "metadata": {},
     "output_type": "execute_result"
    },
    {
     "data": {
      "image/png": "[encoded data removed]",
      "text/plain": [
       "<Figure size 1000x700 with 1 Axes>"
      ]
     },
     "metadata": {},
     "output_type": "display_data"
    }
   ],
   "source": [
    "# Visualizing the data\n",
    "plt.figure(figsize=(10,7))\n",
    "plt.scatter(X_train, y_train, c='b', label='Training Data')\n",
    "plt.scatter(X_test, y_test, c='g', label='Test Data')\n",
    "plt.legend()"
   ]
  },
  {
   "cell_type": "markdown",
   "id": "21bdaca2-d468-4047-89a2-55fe380e311d",
   "metadata": {
    "jp-MarkdownHeadingCollapsed": true
   },
   "source": [
    "## Experiments - Simple Linear Line\n",
    "\n",
    "To test out neural network models to solve regression problems, I am going to run a handful of experiments to analyzing the linear point dataset.\n",
    "\n",
    "* Experiment-0: Simple Model (No Hidden Layers)\n",
    "* Experiment-1: More Epochs\n",
    "* Experiment-2: Add Hidden Layer\n",
    "* Experiment-3: Adam Optimizer\n",
    "* Experiment-4: Introducing Larger Dataset\n",
    "* Experiment-5: Single Hidden-Layer Model\n",
    "* Experiment-6: Increase epochs to 100\n",
    "* Experiment-7: Add a 2nd Hidden Layer with epochs at 100\n",
    "* Experiment-8: Add a 2nd Hidden Layer with epochs at 500\n",
    "\n",
    "\n",
    "### Steps in Modeling with TensorFlow\n",
    "\n",
    "1. Creating a model: define the input and output layers, as well as the hidden layers of a deep learning model.\n",
    "2. Compiling a model: define the loss function (in other words, the function which tellls our model how wrong it is) and the optimizer (tells our model how to improve the patterns it's learning) and evaluation metrics (what we can use to interpret the performance of our model).\n",
    "3. Fitting a model: letting the model try to find patterns between X and y (features and labels).\n",
    "\n",
    "### Evaluating a Model\n",
    "\n",
    "In practice, a typical workflow you'll go through consists of the following:\n",
    "\n",
    "create a model -> fit it -> evaluat it  -> tweak it -> repeat....\n",
    "\n",
    "**Most Important to Eavluating**\n",
    "Most important step of eavluating a model is to Visualize. It's a good idea to visualize:\n",
    "* The data: what data are we working with? What does it look like?\n",
    "* The model: What does our model look like?\n",
    "* The training of the model: How does aa model perform while it learns?\n",
    "* The predictions of the model: How accurate are the predictions?\n",
    "\n",
    "### Visualizing a model¶\n",
    "Visualizing a model can be done with a handful of tools.\n",
    "\n",
    "Summary: Looking at the summary of the model and what it looks like.\n",
    "Diagram: Looking at the diagram of the model.\n",
    "Plot: Plotting the predictions of the model\n",
    "\n",
    "### Evaluation Metrics\n",
    "\n",
    "Depending on the problem, there will be different evaluation metrics to evaluate your model's performance.\n",
    "\n",
    "Common Regression Metrics:\n",
    "* **Mean Absolute Error**: The average absolute value of the difference between the prediction and the actual value.\n",
    "* **Mean Square Error**: The average of the square of the difference between the prediction and the actual value.\n",
    "  - Note: This is useful because the larger the difference, the MSE is drastically larger than just looking at the difference between the prediction and the actual value. TLDR: larger erros are more significant than smaller errors.\n",
    "* **Huber**: Combination of MSE and MAE. Less sensitive to outliers than MSE, but more sensitive to larger errors than MAE."
   ]
  },
  {
   "cell_type": "markdown",
   "id": "8d40aee9-4de1-42da-abd6-795187777c48",
   "metadata": {
    "jp-MarkdownHeadingCollapsed": true
   },
   "source": [
    "### Constants"
   ]
  },
  {
   "cell_type": "code",
   "execution_count": 12,
   "id": "101b2f2b-7f09-4024-9334-b04bf215c95f",
   "metadata": {},
   "outputs": [],
   "source": [
    "RANDOM_SEED = 42\n",
    "\n",
    "INPUT_SHAPE = 1\n",
    "OUTPUT_SHAPE = 1\n",
    "\n",
    "TEST_INPUT = 17.0\n",
    "TEST_OUTPUT = 21.0"
   ]
  },
  {
   "attachments": {},
   "cell_type": "markdown",
   "id": "72c589f0",
   "metadata": {
    "jp-MarkdownHeadingCollapsed": true
   },
   "source": [
    "### Experiment-0: Simple Model (No Hidden Layers)\n",
    "\n",
    "Creating a simple model to iterate and improve upon."
   ]
  },
  {
   "cell_type": "code",
   "execution_count": 13,
   "id": "922b6ed0",
   "metadata": {
    "scrolled": true
   },
   "outputs": [
    {
     "data": {
      "text/plain": [
       "((None, 1), (None, 1), [<keras.src.layers.core.dense.Dense at 0x299d41820>])"
      ]
     },
     "execution_count": 13,
     "metadata": {},
     "output_type": "execute_result"
    }
   ],
   "source": [
    "# Set random seet\n",
    "tf.random.set_seed(RANDOM_SEED)\n",
    "\n",
    "# 1. Create a model using sequential api\n",
    "model_0 = tf.keras.models.Sequential([\n",
    "    tf.keras.layers.Input(shape=(INPUT_SHAPE,)),\n",
    "    tf.keras.layers.Dense(OUTPUT_SHAPE)  # This defines the output layer of shape 1\n",
    "])\n",
    "\n",
    "model_0.input_shape, model_0.output_shape, model_0.layers"
   ]
  },
  {
   "cell_type": "code",
   "execution_count": 14,
   "id": "012ccee7",
   "metadata": {},
   "outputs": [],
   "source": [
    "# Compiling model\n",
    "# losses.mae is Mean Absolute Error\n",
    "# In short, this takes the average of the error between the prediction and the actual value\n",
    "loss_function = tf.keras.losses.mae\n",
    "\n",
    "# optimizers.SGD is Stochastic Gradient Descent\n",
    "# NOTE: Using optimizers.legacy.SGD due to optimizers.SGD being slower on M1 Mac\n",
    "optimizer = tf.keras.optimizers.legacy.SGD()\n",
    "\n",
    "model_0.compile(loss=loss_function,\n",
    "                optimizer=optimizer,\n",
    "                metrics=['mae'])"
   ]
  },
  {
   "cell_type": "code",
   "execution_count": 15,
   "id": "71f794da",
   "metadata": {},
   "outputs": [
    {
     "name": "stdout",
     "output_type": "stream",
     "text": [
      "Epoch 1/5\n",
      "1/1 [==============================] - 0s 197ms/step - loss: 16.6888 - mae: 16.6888\n",
      "Epoch 2/5\n",
      "1/1 [==============================] - 0s 8ms/step - loss: 16.4075 - mae: 16.4075\n",
      "Epoch 3/5\n",
      "1/1 [==============================] - 0s 6ms/step - loss: 16.1263 - mae: 16.1263\n",
      "Epoch 4/5\n",
      "1/1 [==============================] - 0s 7ms/step - loss: 15.8450 - mae: 15.8450\n",
      "Epoch 5/5\n",
      "1/1 [==============================] - 0s 7ms/step - loss: 15.5638 - mae: 15.5638\n"
     ]
    },
    {
     "name": "stderr",
     "output_type": "stream",
     "text": [
      "2023-09-13 17:20:07.926895: I tensorflow/core/grappler/optimizers/custom_graph_optimizer_registry.cc:114] Plugin optimizer for device_type GPU is enabled.\n"
     ]
    },
    {
     "data": {
      "text/plain": [
       "<keras.src.callbacks.History at 0x29a225580>"
      ]
     },
     "execution_count": 15,
     "metadata": {},
     "output_type": "execute_result"
    }
   ],
   "source": [
    "# 3. Fit the model\n",
    "model_0.fit(X_small,\n",
    "            y_small,\n",
    "            epochs=5)  # epochs is how many times the model runs through the training data"
   ]
  },
  {
   "cell_type": "code",
   "execution_count": 16,
   "id": "39cbbdae",
   "metadata": {},
   "outputs": [
    {
     "name": "stderr",
     "output_type": "stream",
     "text": [
      "2023-09-13 17:20:08.119096: I tensorflow/core/grappler/optimizers/custom_graph_optimizer_registry.cc:114] Plugin optimizer for device_type GPU is enabled.\n"
     ]
    },
    {
     "name": "stdout",
     "output_type": "stream",
     "text": [
      "1/1 [==============================] - 0s 40ms/step\n"
     ]
    },
    {
     "data": {
      "text/plain": [
       "array([[-8.254163]], dtype=float32)"
      ]
     },
     "execution_count": 16,
     "metadata": {},
     "output_type": "execute_result"
    }
   ],
   "source": [
    "# Testing predictions of the model\n",
    "model_0.predict([TEST_INPUT])  # This is pretty far off, so next steps are to improve the model"
   ]
  },
  {
   "attachments": {},
   "cell_type": "markdown",
   "id": "15e6963c",
   "metadata": {
    "jp-MarkdownHeadingCollapsed": true
   },
   "source": [
    "### Experiment-1: Simple Model w/ More Epochs\n",
    "\n",
    "We can improve our model by altering the steps we took to create a model.\n",
    "\n",
    "1. **Creating a Model**: We can add more layers, increase number of neurons in each hidden layer, change the activation function of each layer.\n",
    "2. **Compiling a Model**: We can change the loss function, use a different optimization function, or the learning rate of the optimization function.\n",
    "3. **Fitting a Model**: We can fit a model with more epochs (cycle through training data more times) or on more data (give more examples to learn from).\n",
    "\n",
    "**NOTE**: It is better to start with a smaller model, then improve upon the model.\n",
    "\n",
    "Only difference between Trial 1 and Trial 2 is I will increase the epochs (number of cycles trained through the training data)."
   ]
  },
  {
   "cell_type": "code",
   "execution_count": 17,
   "id": "22069077-5fcc-42c8-b891-01d52b82343c",
   "metadata": {},
   "outputs": [],
   "source": [
    "# Constants\n",
    "EPOCHS_1 = 100"
   ]
  },
  {
   "cell_type": "code",
   "execution_count": 18,
   "id": "63bc4924",
   "metadata": {},
   "outputs": [
    {
     "name": "stderr",
     "output_type": "stream",
     "text": [
      "2023-09-13 17:20:08.258331: I tensorflow/core/grappler/optimizers/custom_graph_optimizer_registry.cc:114] Plugin optimizer for device_type GPU is enabled.\n"
     ]
    },
    {
     "data": {
      "text/plain": [
       "<keras.src.callbacks.History at 0x29a2da8b0>"
      ]
     },
     "execution_count": 18,
     "metadata": {},
     "output_type": "execute_result"
    }
   ],
   "source": [
    "# Rebuilding/Improving the Model\n",
    "# Set random seet\n",
    "tf.random.set_seed(RANDOM_SEED)\n",
    "\n",
    "# Create model using sequential api\n",
    "model_1 = tf.keras.models.Sequential([\n",
    "    tf.keras.layers.Input(shape=(INPUT_SHAPE,)),\n",
    "    tf.keras.layers.Dense(OUTPUT_SHAPE)  # This defines the output layer of shape 1\n",
    "])\n",
    "\n",
    "# Compile model\n",
    "model_1.compile(loss=tf.keras.losses.mae,\n",
    "                optimizer=tf.keras.optimizers.legacy.SGD(),\n",
    "                metrics=['mae'])\n",
    "\n",
    "# Fit model (training for 100 epochs instead of 5)\n",
    "model_1.fit(X_small,\n",
    "            y_small,\n",
    "            epochs=EPOCHS_1,\n",
    "            verbose=0)  # epochs is how many times the model runs through the training data"
   ]
  },
  {
   "cell_type": "code",
   "execution_count": 19,
   "id": "96871961",
   "metadata": {},
   "outputs": [
    {
     "name": "stdout",
     "output_type": "stream",
     "text": [
      "1/1 [==============================] - 0s 25ms/step\n"
     ]
    },
    {
     "name": "stderr",
     "output_type": "stream",
     "text": [
      "2023-09-13 17:20:09.024288: I tensorflow/core/grappler/optimizers/custom_graph_optimizer_registry.cc:114] Plugin optimizer for device_type GPU is enabled.\n"
     ]
    },
    {
     "data": {
      "text/plain": [
       "array([[29.883959]], dtype=float32)"
      ]
     },
     "execution_count": 19,
     "metadata": {},
     "output_type": "execute_result"
    }
   ],
   "source": [
    "# Testing predictions of the model\n",
    "model_1.predict([TEST_INPUT])  # This is pretty far off, so next steps are to improve the model"
   ]
  },
  {
   "attachments": {},
   "cell_type": "markdown",
   "id": "4fbc1cce",
   "metadata": {
    "jp-MarkdownHeadingCollapsed": true
   },
   "source": [
    "### Experiment-2: Hidden Layer\n",
    "Keeping epochs the same as Experiment-1, but adding a hidden layer."
   ]
  },
  {
   "cell_type": "code",
   "execution_count": 20,
   "id": "0ec9f453-8df7-4c38-adbe-f08a7bedce74",
   "metadata": {},
   "outputs": [],
   "source": [
    "# Constants\n",
    "EPOCHS_2 = 100"
   ]
  },
  {
   "cell_type": "code",
   "execution_count": 21,
   "id": "4f943a07",
   "metadata": {},
   "outputs": [
    {
     "name": "stderr",
     "output_type": "stream",
     "text": [
      "2023-09-13 17:20:09.185524: I tensorflow/core/grappler/optimizers/custom_graph_optimizer_registry.cc:114] Plugin optimizer for device_type GPU is enabled.\n"
     ]
    },
    {
     "data": {
      "text/plain": [
       "<keras.src.callbacks.History at 0x29a33f8e0>"
      ]
     },
     "execution_count": 21,
     "metadata": {},
     "output_type": "execute_result"
    }
   ],
   "source": [
    "# Rebuilding/Improving the Model\n",
    "# Set random seet\n",
    "tf.random.set_seed(RANDOM_SEED)\n",
    "\n",
    "# Create model\n",
    "model_2 = tf.keras.models.Sequential([\n",
    "    tf.keras.layers.Input(shape=(INPUT_SHAPE,)),\n",
    "    tf.keras.layers.Dense(100, activation=tf.keras.activations.relu),\n",
    "    tf.keras.layers.Dense(OUTPUT_SHAPE)\n",
    "])\n",
    "\n",
    "# Compiling Model\n",
    "model_2.compile(loss=tf.keras.losses.mae,\n",
    "                optimizer=tf.keras.optimizers.legacy.SGD(),\n",
    "                metrics=['mae'])\n",
    "\n",
    "# Fit Model\n",
    "model_2.fit(X_small,\n",
    "            y_small,\n",
    "            epochs=EPOCHS_2,\n",
    "            verbose=0)"
   ]
  },
  {
   "cell_type": "code",
   "execution_count": 22,
   "id": "b7c36f1d",
   "metadata": {},
   "outputs": [
    {
     "name": "stdout",
     "output_type": "stream",
     "text": [
      "1/1 [==============================] - 0s 34ms/step\n"
     ]
    },
    {
     "name": "stderr",
     "output_type": "stream",
     "text": [
      "2023-09-13 17:20:10.002300: I tensorflow/core/grappler/optimizers/custom_graph_optimizer_registry.cc:114] Plugin optimizer for device_type GPU is enabled.\n"
     ]
    },
    {
     "data": {
      "text/plain": [
       "array([[31.286152]], dtype=float32)"
      ]
     },
     "execution_count": 22,
     "metadata": {},
     "output_type": "execute_result"
    }
   ],
   "source": [
    "# Testing predictions of the model (Actual value should be 27)\n",
    "model_2.predict([TEST_INPUT])  # Weird, this value prediction is not even close to the value, even though the mae is lower"
   ]
  },
  {
   "attachments": {},
   "cell_type": "markdown",
   "id": "82730e92",
   "metadata": {
    "jp-MarkdownHeadingCollapsed": true
   },
   "source": [
    "### Experiment-3: Adam Optimizer\n",
    "\n",
    "Keeping epochs the same as Trial-2 and hidden layers from Trial-3, but changing the optimizer"
   ]
  },
  {
   "cell_type": "code",
   "execution_count": 23,
   "id": "748d947a-4ad5-4a65-b5f6-b954317ff7d4",
   "metadata": {},
   "outputs": [],
   "source": [
    "# Constants\n",
    "EPOCHS_3 = 100\n",
    "\n",
    "LEARNING_RATE = 0.01"
   ]
  },
  {
   "cell_type": "code",
   "execution_count": 24,
   "id": "e17ff122",
   "metadata": {},
   "outputs": [
    {
     "name": "stderr",
     "output_type": "stream",
     "text": [
      "2023-09-13 17:20:10.186225: I tensorflow/core/grappler/optimizers/custom_graph_optimizer_registry.cc:114] Plugin optimizer for device_type GPU is enabled.\n"
     ]
    },
    {
     "data": {
      "text/plain": [
       "<keras.src.callbacks.History at 0x29a3c1a00>"
      ]
     },
     "execution_count": 24,
     "metadata": {},
     "output_type": "execute_result"
    }
   ],
   "source": [
    "# Rebuilding/Improving the Model\n",
    "# Set random seet\n",
    "tf.random.set_seed(RANDOM_SEED)\n",
    "\n",
    "# Create model using sequential api\n",
    "model_3 = tf.keras.models.Sequential([\n",
    "    tf.keras.layers.Input(shape=(INPUT_SHAPE,)),\n",
    "    tf.keras.layers.Dense(100, activation=tf.keras.activations.relu),\n",
    "    tf.keras.layers.Dense(OUTPUT_SHAPE)\n",
    "])\n",
    "\n",
    "# Compile Model\n",
    "model_3.compile(loss=tf.keras.losses.mae,\n",
    "                optimizer=tf.keras.optimizers.legacy.Adam(learning_rate=LEARNING_RATE),\n",
    "                metrics=['mae'])\n",
    "\n",
    "# Fit Model\n",
    "model_3.fit(X_small,\n",
    "            y_small,\n",
    "            epochs=EPOCHS_3,\n",
    "            verbose=0)"
   ]
  },
  {
   "cell_type": "code",
   "execution_count": 25,
   "id": "06c6d160",
   "metadata": {},
   "outputs": [
    {
     "name": "stdout",
     "output_type": "stream",
     "text": [
      "1/1 [==============================] - 0s 30ms/step\n"
     ]
    },
    {
     "name": "stderr",
     "output_type": "stream",
     "text": [
      "2023-09-13 17:20:11.072735: I tensorflow/core/grappler/optimizers/custom_graph_optimizer_registry.cc:114] Plugin optimizer for device_type GPU is enabled.\n"
     ]
    },
    {
     "data": {
      "text/plain": [
       "array([[28.479425]], dtype=float32)"
      ]
     },
     "execution_count": 25,
     "metadata": {},
     "output_type": "execute_result"
    }
   ],
   "source": [
    "# Testing predictions of the model (Actual value should be 27)\n",
    "model_3.predict([TEST_INPUT])"
   ]
  },
  {
   "attachments": {},
   "cell_type": "markdown",
   "id": "0e3dc2c8",
   "metadata": {
    "jp-MarkdownHeadingCollapsed": true
   },
   "source": [
    "### Experiment-4: Big Data w/ Small Learning Rate"
   ]
  },
  {
   "cell_type": "code",
   "execution_count": 26,
   "id": "d59563be-fcac-4f7d-9223-3d931334935f",
   "metadata": {},
   "outputs": [],
   "source": [
    "# Constants\n",
    "EPOCHS_4 = 10\n",
    "\n",
    "LEARNING_RATE_4 = 0.005"
   ]
  },
  {
   "cell_type": "code",
   "execution_count": 27,
   "id": "b4d24808",
   "metadata": {},
   "outputs": [
    {
     "name": "stderr",
     "output_type": "stream",
     "text": [
      "2023-09-13 17:20:11.216609: I tensorflow/core/grappler/optimizers/custom_graph_optimizer_registry.cc:114] Plugin optimizer for device_type GPU is enabled.\n"
     ]
    },
    {
     "data": {
      "text/plain": [
       "<keras.src.callbacks.History at 0x29b67b9a0>"
      ]
     },
     "execution_count": 27,
     "metadata": {},
     "output_type": "execute_result"
    }
   ],
   "source": [
    "# 1. Create Model\n",
    "model_4 = tf.keras.models.Sequential([\n",
    "    tf.keras.layers.Input(shape=(INPUT_SHAPE,), name='InputLayer'),\n",
    "    tf.keras.layers.Dense(100, activation=tf.keras.activations.relu, name='HiddenLayer-1'),\n",
    "    tf.keras.layers.Dense(OUTPUT_SHAPE, name='OutputLayer'),\n",
    "])\n",
    "\n",
    "# 2. Compile Model\n",
    "model_4.compile(loss=tf.keras.losses.mae,\n",
    "                optimizer=tf.keras.optimizers.legacy.Adam(learning_rate=LEARNING_RATE_4),\n",
    "                metrics=['mae'])\n",
    "\n",
    "\n",
    "# 3. Fit Model\n",
    "model_4.fit(X_train,\n",
    "            y_train,\n",
    "            epochs=EPOCHS_4,\n",
    "            verbose=0)"
   ]
  },
  {
   "cell_type": "code",
   "execution_count": 28,
   "id": "eee079ae",
   "metadata": {},
   "outputs": [
    {
     "name": "stdout",
     "output_type": "stream",
     "text": [
      "Model: \"sequential_4\"\n",
      "_________________________________________________________________\n",
      " Layer (type)                Output Shape              Param #   \n",
      "=================================================================\n",
      " HiddenLayer-1 (Dense)       (None, 100)               200       \n",
      "                                                                 \n",
      " OutputLayer (Dense)         (None, 1)                 101       \n",
      "                                                                 \n",
      "=================================================================\n",
      "Total params: 301 (1.18 KB)\n",
      "Trainable params: 301 (1.18 KB)\n",
      "Non-trainable params: 0 (0.00 Byte)\n",
      "_________________________________________________________________\n"
     ]
    }
   ],
   "source": [
    "model_4.summary()"
   ]
  },
  {
   "attachments": {},
   "cell_type": "markdown",
   "id": "06956373",
   "metadata": {},
   "source": [
    "* Total params: the total parameters in the model.\n",
    "* Trainable params: the parameters (patterns) the model can update as it trains.\n",
    "* Non-trainable params: the parameters (patterns) that the model does not update as it trains. This occurrs when using an already trained model from transfer learning."
   ]
  },
  {
   "cell_type": "code",
   "execution_count": 29,
   "id": "889e7fc1",
   "metadata": {},
   "outputs": [
    {
     "data": {
      "image/png": "[encoded data removed]",
      "text/plain": [
       "<IPython.core.display.Image object>"
      ]
     },
     "execution_count": 29,
     "metadata": {},
     "output_type": "execute_result"
    }
   ],
   "source": [
    "ml_toolbox.analysis.model.plot_model(model_4)"
   ]
  },
  {
   "attachments": {},
   "cell_type": "markdown",
   "id": "dc676dca",
   "metadata": {
    "jp-MarkdownHeadingCollapsed": true
   },
   "source": [
    "#### Visualizing the Predictions\n",
    "\n",
    "Plotting predictions against the actual values can help better visualize the model. This is often in the form of y_test or y_true versus y_pred."
   ]
  },
  {
   "cell_type": "code",
   "execution_count": 30,
   "id": "e5df72a6",
   "metadata": {},
   "outputs": [
    {
     "name": "stdout",
     "output_type": "stream",
     "text": [
      "WARNING:tensorflow:5 out of the last 5 calls to <function Model.make_predict_function.<locals>.predict_function at 0x29b6f5a60> triggered tf.function retracing. Tracing is expensive and the excessive number of tracings could be due to (1) creating @tf.function repeatedly in a loop, (2) passing tensors with different shapes, (3) passing Python objects instead of tensors. For (1), please define your @tf.function outside of the loop. For (2), @tf.function has reduce_retracing=True option that can avoid unnecessary retracing. For (3), please refer to https://www.tensorflow.org/guide/function#controlling_retracing and https://www.tensorflow.org/api_docs/python/tf/function for  more details.\n",
      "1/1 [==============================] - 0s 31ms/step\n"
     ]
    },
    {
     "name": "stderr",
     "output_type": "stream",
     "text": [
      "2023-09-13 17:20:11.971856: I tensorflow/core/grappler/optimizers/custom_graph_optimizer_registry.cc:114] Plugin optimizer for device_type GPU is enabled.\n"
     ]
    },
    {
     "data": {
      "text/plain": [
       "(array([[ 68.35912 ],\n",
       "        [ 72.886925],\n",
       "        [ 77.41473 ],\n",
       "        [ 81.94253 ],\n",
       "        [ 86.47032 ],\n",
       "        [ 90.99812 ],\n",
       "        [ 95.525925],\n",
       "        [100.05373 ],\n",
       "        [104.58153 ],\n",
       "        [109.10933 ]], dtype=float32),\n",
       " <tf.Tensor: shape=(10,), dtype=int32, numpy=array([ 70,  74,  78,  82,  86,  90,  94,  98, 102, 106], dtype=int32)>)"
      ]
     },
     "execution_count": 30,
     "metadata": {},
     "output_type": "execute_result"
    }
   ],
   "source": [
    "# Make Some predictions\n",
    "y_pred = model_4.predict(X_test)\n",
    "y_pred, y_test"
   ]
  },
  {
   "cell_type": "code",
   "execution_count": 31,
   "id": "2c98e0f6",
   "metadata": {},
   "outputs": [
    {
     "data": {
      "image/png": "[encoded data removed]",
      "text/plain": [
       "<Figure size 1000x700 with 1 Axes>"
      ]
     },
     "metadata": {},
     "output_type": "display_data"
    }
   ],
   "source": [
    "# Let's create a plotting function\n",
    "plot_predictions(train_data=X_train, \n",
    "                 train_labels=y_train,\n",
    "                 test_data=X_test,\n",
    "                 test_labels=y_test,\n",
    "                 predictions=y_pred)"
   ]
  },
  {
   "cell_type": "code",
   "execution_count": 32,
   "id": "e1f03150",
   "metadata": {},
   "outputs": [
    {
     "name": "stdout",
     "output_type": "stream",
     "text": [
      "1/1 [==============================] - 0s 108ms/step - loss: 1.4136 - mae: 1.4136\n"
     ]
    },
    {
     "name": "stderr",
     "output_type": "stream",
     "text": [
      "2023-09-13 17:20:12.274511: I tensorflow/core/grappler/optimizers/custom_graph_optimizer_registry.cc:114] Plugin optimizer for device_type GPU is enabled.\n"
     ]
    },
    {
     "data": {
      "text/plain": [
       "[1.4135650396347046, 1.4135650396347046]"
      ]
     },
     "execution_count": 32,
     "metadata": {},
     "output_type": "execute_result"
    }
   ],
   "source": [
    "# Evaluate the model on the test set\n",
    "model_4.evaluate(X_test, y_test)"
   ]
  },
  {
   "cell_type": "code",
   "execution_count": 33,
   "id": "60ef16fc",
   "metadata": {},
   "outputs": [
    {
     "data": {
      "text/plain": [
       "(<tf.Tensor: shape=(), dtype=float32, numpy=1.413565>,\n",
       " <tf.Tensor: shape=(), dtype=float32, numpy=2.8373168>)"
      ]
     },
     "execution_count": 33,
     "metadata": {},
     "output_type": "execute_result"
    }
   ],
   "source": [
    "mae_4 = mae(y_true=tf.squeeze(y_test), pred=tf.squeeze(y_pred))\n",
    "mse_4 = mse(y_true=tf.squeeze(y_test), pred=tf.squeeze(y_pred))\n",
    "mae_4, mse_4"
   ]
  },
  {
   "attachments": {},
   "cell_type": "markdown",
   "id": "663b0daf",
   "metadata": {
    "jp-MarkdownHeadingCollapsed": true
   },
   "source": [
    "### Experiment-5: Simple Model w/ Hidden Layer"
   ]
  },
  {
   "cell_type": "code",
   "execution_count": 34,
   "id": "7b37341f-bff9-414b-b453-aea9f43f1346",
   "metadata": {},
   "outputs": [],
   "source": [
    "# Constants\n",
    "EPOCHS_5 = 50\n",
    "\n",
    "LEARNING_RATE_5 = 0.005"
   ]
  },
  {
   "cell_type": "code",
   "execution_count": 35,
   "id": "7d49f09e",
   "metadata": {},
   "outputs": [
    {
     "name": "stderr",
     "output_type": "stream",
     "text": [
      "2023-09-13 17:20:12.495551: I tensorflow/core/grappler/optimizers/custom_graph_optimizer_registry.cc:114] Plugin optimizer for device_type GPU is enabled.\n"
     ]
    },
    {
     "data": {
      "text/plain": [
       "<keras.src.callbacks.History at 0x1750bf2b0>"
      ]
     },
     "execution_count": 35,
     "metadata": {},
     "output_type": "execute_result"
    }
   ],
   "source": [
    "# Create Model\n",
    "model_5 = tf.keras.models.Sequential([\n",
    "    tf.keras.layers.Input(shape=(INPUT_SHAPE,), name='InputLayer'),\n",
    "    tf.keras.layers.Dense(50, activation=tf.keras.activations.relu, name='HiddenLayer-1'),\n",
    "    tf.keras.layers.Dense(OUTPUT_SHAPE, name='OutputLayer')\n",
    "])\n",
    "\n",
    "# Compile Model\n",
    "model_5.compile(loss=tf.keras.losses.mae,\n",
    "                optimizer=tf.keras.optimizers.legacy.Adam(learning_rate=LEARNING_RATE_5),\n",
    "                metrics=['mae'])\n",
    "\n",
    "# Fit Model\n",
    "model_5.fit(X_train, y_train, epochs=EPOCHS_5, verbose=0)"
   ]
  },
  {
   "cell_type": "code",
   "execution_count": 36,
   "id": "065e188a",
   "metadata": {},
   "outputs": [
    {
     "name": "stdout",
     "output_type": "stream",
     "text": [
      "WARNING:tensorflow:6 out of the last 6 calls to <function Model.make_predict_function.<locals>.predict_function at 0x29a2b2ee0> triggered tf.function retracing. Tracing is expensive and the excessive number of tracings could be due to (1) creating @tf.function repeatedly in a loop, (2) passing tensors with different shapes, (3) passing Python objects instead of tensors. For (1), please define your @tf.function outside of the loop. For (2), @tf.function has reduce_retracing=True option that can avoid unnecessary retracing. For (3), please refer to https://www.tensorflow.org/guide/function#controlling_retracing and https://www.tensorflow.org/api_docs/python/tf/function for  more details.\n",
      "1/1 [==============================] - 0s 30ms/step\n"
     ]
    },
    {
     "name": "stderr",
     "output_type": "stream",
     "text": [
      "2023-09-13 17:20:13.196443: I tensorflow/core/grappler/optimizers/custom_graph_optimizer_registry.cc:114] Plugin optimizer for device_type GPU is enabled.\n"
     ]
    }
   ],
   "source": [
    "# Testing the Model\n",
    "predictions_5 = model_5.predict(X_test)"
   ]
  },
  {
   "cell_type": "code",
   "execution_count": 37,
   "id": "2928ea7f",
   "metadata": {},
   "outputs": [
    {
     "data": {
      "text/plain": [
       "(<tf.Tensor: shape=(), dtype=float32, numpy=15.2747345>,\n",
       " <tf.Tensor: shape=(), dtype=float32, numpy=234.71495>)"
      ]
     },
     "execution_count": 37,
     "metadata": {},
     "output_type": "execute_result"
    },
    {
     "data": {
      "image/png": "[encoded data removed]",
      "text/plain": [
       "<Figure size 1000x700 with 1 Axes>"
      ]
     },
     "metadata": {},
     "output_type": "display_data"
    }
   ],
   "source": [
    "# Evaluating Model\n",
    "plot_predictions(train_data=X_train, \n",
    "                 train_labels=y_train,\n",
    "                 test_data=X_test,\n",
    "                 test_labels=y_test,\n",
    "                 predictions=predictions_5)\n",
    "\n",
    "mae_5 = mae(y_test, predictions_5)\n",
    "mse_5 = mse(y_test, predictions_5)\n",
    "mae_5, mse_5"
   ]
  },
  {
   "attachments": {},
   "cell_type": "markdown",
   "id": "86712ce2",
   "metadata": {
    "jp-MarkdownHeadingCollapsed": true
   },
   "source": [
    "### Experiment-6: More Epochs"
   ]
  },
  {
   "cell_type": "code",
   "execution_count": 38,
   "id": "77e28a96-ce51-4a05-871e-6436e8f743b0",
   "metadata": {},
   "outputs": [],
   "source": [
    "# Constants\n",
    "EPOCHS_6 = 100\n",
    "\n",
    "LEARNING_RATE_6 = 0.005"
   ]
  },
  {
   "cell_type": "code",
   "execution_count": 39,
   "id": "f1f01545",
   "metadata": {},
   "outputs": [
    {
     "name": "stderr",
     "output_type": "stream",
     "text": [
      "2023-09-13 17:20:13.465819: I tensorflow/core/grappler/optimizers/custom_graph_optimizer_registry.cc:114] Plugin optimizer for device_type GPU is enabled.\n"
     ]
    },
    {
     "data": {
      "text/plain": [
       "<keras.src.callbacks.History at 0x29a550ca0>"
      ]
     },
     "execution_count": 39,
     "metadata": {},
     "output_type": "execute_result"
    }
   ],
   "source": [
    "# Create Model\n",
    "model_6 = tf.keras.models.Sequential([\n",
    "    tf.keras.layers.Input(shape=(INPUT_SHAPE,), name='InputLayer'),\n",
    "    tf.keras.layers.Dense(50, activation=tf.keras.activations.relu, name='HiddenLayer-1'),\n",
    "    tf.keras.layers.Dense(OUTPUT_SHAPE, name='OutputLayer'),\n",
    "])\n",
    "\n",
    "# Compile Model\n",
    "model_6.compile(optimizer=tf.keras.optimizers.legacy.Adam(learning_rate=LEARNING_RATE_6),\n",
    "              loss=tf.keras.losses.mae)\n",
    "\n",
    "# Fit Model\n",
    "model_6.fit(X_train,\n",
    "            y_train,\n",
    "            epochs=EPOCHS_6,\n",
    "            verbose=0)"
   ]
  },
  {
   "cell_type": "code",
   "execution_count": 40,
   "id": "fff0c910",
   "metadata": {},
   "outputs": [
    {
     "name": "stdout",
     "output_type": "stream",
     "text": [
      "1/1 [==============================] - 0s 26ms/step\n"
     ]
    },
    {
     "name": "stderr",
     "output_type": "stream",
     "text": [
      "2023-09-13 17:20:14.508933: I tensorflow/core/grappler/optimizers/custom_graph_optimizer_registry.cc:114] Plugin optimizer for device_type GPU is enabled.\n"
     ]
    }
   ],
   "source": [
    "# Testing the Model\n",
    "predictions_6 = model_6.predict(X_test)"
   ]
  },
  {
   "cell_type": "code",
   "execution_count": 41,
   "id": "c735f4d8",
   "metadata": {},
   "outputs": [
    {
     "data": {
      "text/plain": [
       "(<tf.Tensor: shape=(), dtype=float32, numpy=5.282866>,\n",
       " <tf.Tensor: shape=(), dtype=float32, numpy=28.191437>)"
      ]
     },
     "execution_count": 41,
     "metadata": {},
     "output_type": "execute_result"
    },
    {
     "data": {
      "image/png": "[encoded data removed]",
      "text/plain": [
       "<Figure size 1000x700 with 1 Axes>"
      ]
     },
     "metadata": {},
     "output_type": "display_data"
    }
   ],
   "source": [
    "# Evaluating Model\n",
    "plot_predictions(train_data=X_train, \n",
    "                 train_labels=y_train,\n",
    "                 test_data=X_test,\n",
    "                 test_labels=y_test,\n",
    "                 predictions=predictions_6)\n",
    "\n",
    "mae_6 = mae(y_test, predictions_6)\n",
    "mse_6 = mse(y_test, predictions_6)\n",
    "mae_6, mse_6"
   ]
  },
  {
   "attachments": {},
   "cell_type": "markdown",
   "id": "e2681ead",
   "metadata": {
    "jp-MarkdownHeadingCollapsed": true
   },
   "source": [
    "### Experiment-7: Epochs-100, Hidden Layers=2"
   ]
  },
  {
   "cell_type": "code",
   "execution_count": 42,
   "id": "fc3e6bed-c04e-487d-b9c1-2c9de44326ac",
   "metadata": {},
   "outputs": [],
   "source": [
    "# Constants\n",
    "EPOCHS_7 = 100\n",
    "LEARNING_RATE_7 = 0.005"
   ]
  },
  {
   "cell_type": "code",
   "execution_count": 43,
   "id": "4e47bbec",
   "metadata": {},
   "outputs": [
    {
     "name": "stderr",
     "output_type": "stream",
     "text": [
      "2023-09-13 17:20:14.806878: I tensorflow/core/grappler/optimizers/custom_graph_optimizer_registry.cc:114] Plugin optimizer for device_type GPU is enabled.\n"
     ]
    },
    {
     "data": {
      "text/plain": [
       "<keras.src.callbacks.History at 0x29f59c670>"
      ]
     },
     "execution_count": 43,
     "metadata": {},
     "output_type": "execute_result"
    }
   ],
   "source": [
    "# Create Model\n",
    "model_7 = tf.keras.models.Sequential([\n",
    "    tf.keras.layers.Input(shape=(INPUT_SHAPE,), name='InputLayer'),\n",
    "    tf.keras.layers.Dense(50, activation=tf.keras.activations.relu, name='HiddenLayer-1'),\n",
    "    tf.keras.layers.Dense(50, activation=tf.keras.activations.relu, name='HiddenLayer-2'),\n",
    "    tf.keras.layers.Dense(OUTPUT_SHAPE, name='OutputLayer')\n",
    "])\n",
    "\n",
    "# Compile Model\n",
    "model_7.compile(optimizer=tf.keras.optimizers.legacy.Adam(learning_rate=LEARNING_RATE_7),\n",
    "              loss=tf.keras.losses.mae)\n",
    "\n",
    "# Fit Model\n",
    "model_7.fit(X_train, y_train, epochs=EPOCHS_7, verbose=0)"
   ]
  },
  {
   "cell_type": "code",
   "execution_count": 44,
   "id": "01647180",
   "metadata": {},
   "outputs": [
    {
     "name": "stdout",
     "output_type": "stream",
     "text": [
      "1/1 [==============================] - 0s 140ms/step\n"
     ]
    },
    {
     "name": "stderr",
     "output_type": "stream",
     "text": [
      "2023-09-13 17:20:16.018800: I tensorflow/core/grappler/optimizers/custom_graph_optimizer_registry.cc:114] Plugin optimizer for device_type GPU is enabled.\n"
     ]
    }
   ],
   "source": [
    "# Testing the Model\n",
    "predictions_7 = model_7.predict(X_test)"
   ]
  },
  {
   "cell_type": "code",
   "execution_count": 45,
   "id": "dab2663b",
   "metadata": {},
   "outputs": [
    {
     "data": {
      "text/plain": [
       "(<tf.Tensor: shape=(), dtype=float32, numpy=18.114342>,\n",
       " <tf.Tensor: shape=(), dtype=float32, numpy=333.52222>)"
      ]
     },
     "execution_count": 45,
     "metadata": {},
     "output_type": "execute_result"
    },
    {
     "data": {
      "image/png": "[encoded data removed]",
      "text/plain": [
       "<Figure size 1000x700 with 1 Axes>"
      ]
     },
     "metadata": {},
     "output_type": "display_data"
    }
   ],
   "source": [
    "# Evaluating Model\n",
    "plot_predictions(train_data=X_train, \n",
    "                 train_labels=y_train,\n",
    "                 test_data=X_test,\n",
    "                 test_labels=y_test,\n",
    "                 predictions=predictions_7)\n",
    "\n",
    "mae_7 = mae(y_test, predictions_7)\n",
    "mse_7 = mse(y_test, predictions_7)\n",
    "mae_7, mse_7"
   ]
  },
  {
   "attachments": {},
   "cell_type": "markdown",
   "id": "99da2bde",
   "metadata": {
    "jp-MarkdownHeadingCollapsed": true
   },
   "source": [
    "### Experiment 8: Epochs=500, Hidden Layers=2"
   ]
  },
  {
   "cell_type": "code",
   "execution_count": 46,
   "id": "e24fd590-fda2-467a-a686-13c0c1c2a350",
   "metadata": {},
   "outputs": [],
   "source": [
    "# Constants\n",
    "EPOCHS_8 = 500\n",
    "LEARNING_RATE_8 = 0.005"
   ]
  },
  {
   "cell_type": "code",
   "execution_count": 47,
   "id": "9b7e5188",
   "metadata": {},
   "outputs": [
    {
     "name": "stderr",
     "output_type": "stream",
     "text": [
      "/Users/brandonkubick/Code/deep-learning-development/env/lib/python3.9/site-packages/keras/src/optimizers/legacy/adam.py:118: UserWarning: The `lr` argument is deprecated, use `learning_rate` instead.\n",
      "  super().__init__(name, **kwargs)\n",
      "2023-09-13 17:20:16.425795: I tensorflow/core/grappler/optimizers/custom_graph_optimizer_registry.cc:114] Plugin optimizer for device_type GPU is enabled.\n"
     ]
    },
    {
     "data": {
      "text/plain": [
       "<keras.src.callbacks.History at 0x2c2c6ab20>"
      ]
     },
     "execution_count": 47,
     "metadata": {},
     "output_type": "execute_result"
    }
   ],
   "source": [
    "# Create Model\n",
    "model_8 = tf.keras.models.Sequential([\n",
    "    tf.keras.layers.Input(shape=(INPUT_SHAPE,), name='InputLayer'),\n",
    "    tf.keras.layers.Dense(50, activation=tf.keras.activations.relu, name='HiddenLayer-1'),\n",
    "    tf.keras.layers.Dense(50, activation=tf.keras.activations.relu, name='HiddenLayer-2'),\n",
    "    tf.keras.layers.Dense(OUTPUT_SHAPE, name='OutputLayer')\n",
    "])\n",
    "\n",
    "# Compile Model\n",
    "model_8.compile(loss=tf.keras.losses.mae,\n",
    "                optimizer=tf.keras.optimizers.legacy.Adam(lr=LEARNING_RATE_8))\n",
    "\n",
    "# Fit Model\n",
    "model_8.fit(X_train, y_train, epochs=EPOCHS_8, verbose=0)"
   ]
  },
  {
   "cell_type": "code",
   "execution_count": 48,
   "id": "92c820ab",
   "metadata": {},
   "outputs": [
    {
     "name": "stdout",
     "output_type": "stream",
     "text": [
      "1/1 [==============================] - 0s 29ms/step\n"
     ]
    },
    {
     "name": "stderr",
     "output_type": "stream",
     "text": [
      "2023-09-13 17:20:21.824004: I tensorflow/core/grappler/optimizers/custom_graph_optimizer_registry.cc:114] Plugin optimizer for device_type GPU is enabled.\n"
     ]
    }
   ],
   "source": [
    "# Testing the Model\n",
    "predictions_8 = model_8.predict(X_test)"
   ]
  },
  {
   "cell_type": "code",
   "execution_count": 49,
   "id": "b593e185",
   "metadata": {},
   "outputs": [
    {
     "data": {
      "text/plain": [
       "(<tf.Tensor: shape=(), dtype=float32, numpy=4.103227>,\n",
       " <tf.Tensor: shape=(), dtype=float32, numpy=17.151318>)"
      ]
     },
     "execution_count": 49,
     "metadata": {},
     "output_type": "execute_result"
    },
    {
     "data": {
      "image/png": "[encoded data removed]",
      "text/plain": [
       "<Figure size 1000x700 with 1 Axes>"
      ]
     },
     "metadata": {},
     "output_type": "display_data"
    }
   ],
   "source": [
    "# Evaluating Model\n",
    "plot_predictions(train_data=X_train, \n",
    "                 train_labels=y_train,\n",
    "                 test_data=X_test,\n",
    "                 test_labels=y_test,\n",
    "                 predictions=predictions_8)\n",
    "\n",
    "mae_8 = mae(y_test, predictions_8)\n",
    "mse_8 = mse(y_test, predictions_8)\n",
    "mae_8, mse_8"
   ]
  },
  {
   "attachments": {},
   "cell_type": "markdown",
   "id": "e9beafb3",
   "metadata": {},
   "source": [
    "## Analysis\n",
    "\n",
    "Analyzing the last four experiments by comparing metrics against the test dataset."
   ]
  },
  {
   "cell_type": "code",
   "execution_count": 50,
   "id": "6cb8ba9f",
   "metadata": {},
   "outputs": [
    {
     "data": {
      "text/html": [
       "<div>\n",
       "<style scoped>\n",
       "    .dataframe tbody tr th:only-of-type {\n",
       "        vertical-align: middle;\n",
       "    }\n",
       "\n",
       "    .dataframe tbody tr th {\n",
       "        vertical-align: top;\n",
       "    }\n",
       "\n",
       "    .dataframe thead th {\n",
       "        text-align: right;\n",
       "    }\n",
       "</style>\n",
       "<table border=\"1\" class=\"dataframe\">\n",
       "  <thead>\n",
       "    <tr style=\"text-align: right;\">\n",
       "      <th></th>\n",
       "      <th>model</th>\n",
       "      <th>mae</th>\n",
       "      <th>mse</th>\n",
       "    </tr>\n",
       "  </thead>\n",
       "  <tbody>\n",
       "    <tr>\n",
       "      <th>0</th>\n",
       "      <td>model_5</td>\n",
       "      <td>15.274734</td>\n",
       "      <td>234.714951</td>\n",
       "    </tr>\n",
       "    <tr>\n",
       "      <th>1</th>\n",
       "      <td>model_6</td>\n",
       "      <td>5.282866</td>\n",
       "      <td>28.191437</td>\n",
       "    </tr>\n",
       "    <tr>\n",
       "      <th>2</th>\n",
       "      <td>model_7</td>\n",
       "      <td>18.114342</td>\n",
       "      <td>333.522217</td>\n",
       "    </tr>\n",
       "    <tr>\n",
       "      <th>3</th>\n",
       "      <td>model_8</td>\n",
       "      <td>4.103227</td>\n",
       "      <td>17.151318</td>\n",
       "    </tr>\n",
       "  </tbody>\n",
       "</table>\n",
       "</div>"
      ],
      "text/plain": [
       "     model        mae         mse\n",
       "0  model_5  15.274734  234.714951\n",
       "1  model_6   5.282866   28.191437\n",
       "2  model_7  18.114342  333.522217\n",
       "3  model_8   4.103227   17.151318"
      ]
     },
     "execution_count": 50,
     "metadata": {},
     "output_type": "execute_result"
    }
   ],
   "source": [
    "model_results = [['model_5', mae_5.numpy(), mse_5.numpy()],\n",
    "                 ['model_6', mae_6.numpy(), mse_6.numpy()],\n",
    "                 ['model_7', mae_7.numpy(), mse_7.numpy()],\n",
    "                 ['model_8', mae_8.numpy(), mse_8.numpy()]]\n",
    "\n",
    "all_results = pd.DataFrame(model_results, columns=['model', 'mae', 'mse'])\n",
    "all_results"
   ]
  },
  {
   "attachments": {},
   "cell_type": "markdown",
   "id": "5b00ce96",
   "metadata": {},
   "source": [
    "## Tracking Experiments\n",
    "\n",
    "A good habit for machine learning is to track experiments and their corresponding results.\n",
    "\n",
    "Useful tools to help track experiments:\n",
    "* TensorBoard: Component of the TensorFlow library to help track modeling experiments.\n",
    "* Weights & Biases: tool used for tracking experiments (Should def look this one up!)\n",
    "\n",
    "## Saving Models\n",
    "\n",
    "Saving models allows using them outside of the place they were trained. \n",
    "\n",
    "* TensorFlow Docs: https://www.tensorflow.org/tutorials/keras/save_and_load\n",
    "* Saving model can be done by `model.save(\"savedirpath\")` or `model.save(\"h5filepath.h5\")`\n",
    "* Loading model can be done by `tf.keras.models.load_model(\"savedirpath\")` or `tf.keras.models.load_model(\"h5filepath.h5\")`"
   ]
  }
 ],
 "metadata": {
  "kernelspec": {
   "display_name": "Python 3 (ipykernel)",
   "language": "python",
   "name": "python3"
  },
  "language_info": {
   "codemirror_mode": {
    "name": "ipython",
    "version": 3
   },
   "file_extension": ".py",
   "mimetype": "text/x-python",
   "name": "python",
   "nbconvert_exporter": "python",
   "pygments_lexer": "ipython3",
   "version": "3.9.6"
  }
 },
 "nbformat": 4,
 "nbformat_minor": 5
}
