{
 "cells": [
  {
   "cell_type": "markdown",
   "id": "151f8d62-135c-4f43-b4d9-23b0f478bd55",
   "metadata": {},
   "source": [
    "# Recurrent Neural Networks\n",
    "\n",
    "Natural language processing (NLP) is the practice of identify sequence patterns from language, to deduce the meaning behind the statement. In short, NLP has the goal of derviging information out of natural language (could be sequences text or speech). Another common term for NLP problems is sequence to sequence problems (seq2seq).\n",
    "\n",
    "The purpose of this notebook is to download, prepare, and use a text dataset to build out multiple recurrent neural network (RNN) models to make predictions from the text. Additionally, I will create a model from an already pre-trained model on TensorFlow Hub.\n",
    "\n",
    "The dataset I am going to use is Kaggle's introduction to NLP dataset (text samples of Tweets that predict as disaster or not disater).\n",
    "* https://www.kaggle.com/competitions/nlp-getting-started\n",
    "\n",
    "NOTE: Other sequence problems may include something like time series forecasting."
   ]
  },
  {
   "cell_type": "markdown",
   "id": "c742ac89-6eb4-408b-bb8c-e7714e5ee8ae",
   "metadata": {
    "jp-MarkdownHeadingCollapsed": true
   },
   "source": [
    "## Imports"
   ]
  },
  {
   "cell_type": "code",
   "execution_count": 1,
   "id": "0b5911a4-5d95-4c3c-b705-2ab68389eee1",
   "metadata": {},
   "outputs": [],
   "source": [
    "import datetime\n",
    "import io\n",
    "import logging\n",
    "import os\n",
    "import pathlib\n",
    "import random\n",
    "import sys\n",
    "import typing\n",
    "\n",
    "import matplotlib.pyplot as plt\n",
    "import numpy as np\n",
    "import pandas as pd\n",
    "from py_learning_toolbox import ml_toolbox\n",
    "from py_learning_toolbox import performance_toolbox\n",
    "from sklearn.feature_extraction.text import TfidfVectorizer\n",
    "from sklearn.metrics import accuracy_score, precision_recall_fscore_support\n",
    "from sklearn.model_selection import train_test_split\n",
    "from sklearn.naive_bayes import MultinomialNB\n",
    "from sklearn.pipeline import Pipeline\n",
    "import tensorflow as tf\n",
    "import tensorflow_hub as hub"
   ]
  },
  {
   "cell_type": "markdown",
   "id": "f1270e7b-4fb1-4164-ac88-7b9f0fb68d8e",
   "metadata": {
    "jp-MarkdownHeadingCollapsed": true
   },
   "source": [
    "## Environment\n",
    "\n",
    "Setting up the environment and analyzing the various information associated with this notebook."
   ]
  },
  {
   "cell_type": "code",
   "execution_count": 2,
   "id": "8788dd6d-10c9-42d8-a3b1-32e8ad9e5b18",
   "metadata": {},
   "outputs": [
    {
     "name": "stdout",
     "output_type": "stream",
     "text": [
      "Notebook last run (end-to-end): 2023-09-21 13:38:35.975258\n"
     ]
    }
   ],
   "source": [
    "print(f'Notebook last run (end-to-end): {datetime.datetime.now()}')"
   ]
  },
  {
   "cell_type": "code",
   "execution_count": 3,
   "id": "b5464a81-d5cb-42bb-afab-37ad5d9a2491",
   "metadata": {},
   "outputs": [
    {
     "data": {
      "text/plain": [
       "'2.13.0'"
      ]
     },
     "execution_count": 3,
     "metadata": {},
     "output_type": "execute_result"
    }
   ],
   "source": [
    "tf.__version__"
   ]
  },
  {
   "cell_type": "code",
   "execution_count": 4,
   "id": "72bbfbed-de77-4c0b-9140-9349659cfefa",
   "metadata": {},
   "outputs": [
    {
     "data": {
      "text/plain": [
       "[PhysicalDevice(name='/physical_device:CPU:0', device_type='CPU')]"
      ]
     },
     "execution_count": 4,
     "metadata": {},
     "output_type": "execute_result"
    }
   ],
   "source": [
    "tf.config.list_physical_devices()"
   ]
  },
  {
   "cell_type": "code",
   "execution_count": 5,
   "id": "070332cd-1894-4b8a-8c3c-721c193b48aa",
   "metadata": {},
   "outputs": [],
   "source": [
    "# Setting up logging\n",
    "logging.basicConfig(stream=sys.stdout, level=logging.INFO)"
   ]
  },
  {
   "cell_type": "markdown",
   "id": "8fc7e359-0e90-4e43-99a8-79a0156f8618",
   "metadata": {
    "jp-MarkdownHeadingCollapsed": true
   },
   "source": [
    "## Global Constants"
   ]
  },
  {
   "cell_type": "code",
   "execution_count": 6,
   "id": "197bb6d3-6f3e-408c-8cc8-15e331cafcd6",
   "metadata": {},
   "outputs": [],
   "source": [
    "RANDOM_SEED = 42"
   ]
  },
  {
   "cell_type": "markdown",
   "id": "4c49152c-d630-403b-b359-8fe3342a2566",
   "metadata": {
    "jp-MarkdownHeadingCollapsed": true
   },
   "source": [
    "## Helper Functions"
   ]
  },
  {
   "cell_type": "code",
   "execution_count": 7,
   "id": "a22ee5bf-7763-4ab9-a993-e9a09fd773aa",
   "metadata": {},
   "outputs": [],
   "source": [
    "def compare_results(results_1: ml_toolbox.analysis.classification.ClassificationPredictionMetrics,\n",
    "                    results_2: ml_toolbox.analysis.classification.ClassificationPredictionMetrics) -> pd.Series:\n",
    "    \"\"\" Compares results of two metrics and returns a boolean tensor on whether results_2 >= results_1.\n",
    "\n",
    "        Args:\n",
    "            results_1 (ClassificationPredictionMetrics): first results to compare against.\n",
    "            results_2 (ClassificationPredictionMetrics): second results to compare against.\n",
    "\n",
    "        Returns:\n",
    "            (pd.Series) the boolean Series \n",
    "    \"\"\"\n",
    "    l1, l2 = dict(results_1), dict(results_2)\n",
    "    l1.pop('name')\n",
    "    l2.pop('name')\n",
    "    df = pd.DataFrame([l1, l2]).T\n",
    "\n",
    "    return df[1] >= df[0]"
   ]
  },
  {
   "cell_type": "markdown",
   "id": "757fb2a1-34f8-42ae-9b66-49402497eea3",
   "metadata": {
    "jp-MarkdownHeadingCollapsed": true
   },
   "source": [
    "## Downloading, Analyzing, & Creating Datasets\n",
    "\n",
    "The dataset for this notebook is looking at tweets, and determine whether or not the tweet is referring to a disaster or not.\n",
    "\n",
    "* https://www.kaggle.com/competitions/nlp-getting-started"
   ]
  },
  {
   "cell_type": "markdown",
   "id": "7b4b6443-c286-46b5-b938-b20581babc11",
   "metadata": {
    "jp-MarkdownHeadingCollapsed": true
   },
   "source": [
    "### Downloading & Analyzing Data"
   ]
  },
  {
   "cell_type": "code",
   "execution_count": 8,
   "id": "c55983e1-a4d0-4784-bd87-368837f4f586",
   "metadata": {},
   "outputs": [],
   "source": [
    "# Image dataset location\n",
    "data_directory = pathlib.Path('./data/nlp_getting_started')\n",
    "test_file = data_directory / 'test.csv'\n",
    "train_file = data_directory / 'train.csv'"
   ]
  },
  {
   "cell_type": "code",
   "execution_count": 9,
   "id": "ec4b0a6c-883b-4418-91ca-eca26676223b",
   "metadata": {},
   "outputs": [
    {
     "data": {
      "text/html": [
       "<div>\n",
       "<style scoped>\n",
       "    .dataframe tbody tr th:only-of-type {\n",
       "        vertical-align: middle;\n",
       "    }\n",
       "\n",
       "    .dataframe tbody tr th {\n",
       "        vertical-align: top;\n",
       "    }\n",
       "\n",
       "    .dataframe thead th {\n",
       "        text-align: right;\n",
       "    }\n",
       "</style>\n",
       "<table border=\"1\" class=\"dataframe\">\n",
       "  <thead>\n",
       "    <tr style=\"text-align: right;\">\n",
       "      <th></th>\n",
       "      <th>id</th>\n",
       "      <th>keyword</th>\n",
       "      <th>location</th>\n",
       "      <th>text</th>\n",
       "      <th>target</th>\n",
       "    </tr>\n",
       "  </thead>\n",
       "  <tbody>\n",
       "    <tr>\n",
       "      <th>0</th>\n",
       "      <td>1</td>\n",
       "      <td>NaN</td>\n",
       "      <td>NaN</td>\n",
       "      <td>Our Deeds are the Reason of this #earthquake M...</td>\n",
       "      <td>1</td>\n",
       "    </tr>\n",
       "    <tr>\n",
       "      <th>1</th>\n",
       "      <td>4</td>\n",
       "      <td>NaN</td>\n",
       "      <td>NaN</td>\n",
       "      <td>Forest fire near La Ronge Sask. Canada</td>\n",
       "      <td>1</td>\n",
       "    </tr>\n",
       "    <tr>\n",
       "      <th>2</th>\n",
       "      <td>5</td>\n",
       "      <td>NaN</td>\n",
       "      <td>NaN</td>\n",
       "      <td>All residents asked to 'shelter in place' are ...</td>\n",
       "      <td>1</td>\n",
       "    </tr>\n",
       "    <tr>\n",
       "      <th>3</th>\n",
       "      <td>6</td>\n",
       "      <td>NaN</td>\n",
       "      <td>NaN</td>\n",
       "      <td>13,000 people receive #wildfires evacuation or...</td>\n",
       "      <td>1</td>\n",
       "    </tr>\n",
       "    <tr>\n",
       "      <th>4</th>\n",
       "      <td>7</td>\n",
       "      <td>NaN</td>\n",
       "      <td>NaN</td>\n",
       "      <td>Just got sent this photo from Ruby #Alaska as ...</td>\n",
       "      <td>1</td>\n",
       "    </tr>\n",
       "  </tbody>\n",
       "</table>\n",
       "</div>"
      ],
      "text/plain": [
       "   id keyword location                                               text  \\\n",
       "0   1     NaN      NaN  Our Deeds are the Reason of this #earthquake M...   \n",
       "1   4     NaN      NaN             Forest fire near La Ronge Sask. Canada   \n",
       "2   5     NaN      NaN  All residents asked to 'shelter in place' are ...   \n",
       "3   6     NaN      NaN  13,000 people receive #wildfires evacuation or...   \n",
       "4   7     NaN      NaN  Just got sent this photo from Ruby #Alaska as ...   \n",
       "\n",
       "   target  \n",
       "0       1  \n",
       "1       1  \n",
       "2       1  \n",
       "3       1  \n",
       "4       1  "
      ]
     },
     "execution_count": 9,
     "metadata": {},
     "output_type": "execute_result"
    }
   ],
   "source": [
    "# Visualizing the text dataset\n",
    "train_data = pd.read_csv(str(train_file))\n",
    "test_data = pd.read_csv(str(test_file))\n",
    "\n",
    "train_data.head()"
   ]
  },
  {
   "cell_type": "code",
   "execution_count": 10,
   "id": "0c0b9ef0-d397-4eb7-9576-4c2d082d6c45",
   "metadata": {},
   "outputs": [
    {
     "data": {
      "text/html": [
       "<div>\n",
       "<style scoped>\n",
       "    .dataframe tbody tr th:only-of-type {\n",
       "        vertical-align: middle;\n",
       "    }\n",
       "\n",
       "    .dataframe tbody tr th {\n",
       "        vertical-align: top;\n",
       "    }\n",
       "\n",
       "    .dataframe thead th {\n",
       "        text-align: right;\n",
       "    }\n",
       "</style>\n",
       "<table border=\"1\" class=\"dataframe\">\n",
       "  <thead>\n",
       "    <tr style=\"text-align: right;\">\n",
       "      <th></th>\n",
       "      <th>id</th>\n",
       "      <th>keyword</th>\n",
       "      <th>location</th>\n",
       "      <th>text</th>\n",
       "      <th>target</th>\n",
       "    </tr>\n",
       "  </thead>\n",
       "  <tbody>\n",
       "    <tr>\n",
       "      <th>2644</th>\n",
       "      <td>3796</td>\n",
       "      <td>destruction</td>\n",
       "      <td>NaN</td>\n",
       "      <td>So you have a new weapon that can cause un-ima...</td>\n",
       "      <td>1</td>\n",
       "    </tr>\n",
       "    <tr>\n",
       "      <th>2227</th>\n",
       "      <td>3185</td>\n",
       "      <td>deluge</td>\n",
       "      <td>NaN</td>\n",
       "      <td>The f$&amp;amp;@ing things I do for #GISHWHES Just...</td>\n",
       "      <td>0</td>\n",
       "    </tr>\n",
       "    <tr>\n",
       "      <th>5448</th>\n",
       "      <td>7769</td>\n",
       "      <td>police</td>\n",
       "      <td>UK</td>\n",
       "      <td>DT @georgegalloway: RT @Galloway4Mayor: ÛÏThe...</td>\n",
       "      <td>1</td>\n",
       "    </tr>\n",
       "    <tr>\n",
       "      <th>132</th>\n",
       "      <td>191</td>\n",
       "      <td>aftershock</td>\n",
       "      <td>NaN</td>\n",
       "      <td>Aftershock back to school kick off was great. ...</td>\n",
       "      <td>0</td>\n",
       "    </tr>\n",
       "    <tr>\n",
       "      <th>6845</th>\n",
       "      <td>9810</td>\n",
       "      <td>trauma</td>\n",
       "      <td>Montgomery County, MD</td>\n",
       "      <td>in response to trauma Children of Addicts deve...</td>\n",
       "      <td>0</td>\n",
       "    </tr>\n",
       "  </tbody>\n",
       "</table>\n",
       "</div>"
      ],
      "text/plain": [
       "        id      keyword               location  \\\n",
       "2644  3796  destruction                    NaN   \n",
       "2227  3185       deluge                    NaN   \n",
       "5448  7769       police                     UK   \n",
       "132    191   aftershock                    NaN   \n",
       "6845  9810       trauma  Montgomery County, MD   \n",
       "\n",
       "                                                   text  target  \n",
       "2644  So you have a new weapon that can cause un-ima...       1  \n",
       "2227  The f$&amp;@ing things I do for #GISHWHES Just...       0  \n",
       "5448  DT @georgegalloway: RT @Galloway4Mayor: ÛÏThe...       1  \n",
       "132   Aftershock back to school kick off was great. ...       0  \n",
       "6845  in response to trauma Children of Addicts deve...       0  "
      ]
     },
     "execution_count": 10,
     "metadata": {},
     "output_type": "execute_result"
    }
   ],
   "source": [
    "# Shuffling Data\n",
    "train_data_shuffled = train_data.sample(frac=1, random_state=42)\n",
    "train_data_shuffled.head()"
   ]
  },
  {
   "cell_type": "code",
   "execution_count": 11,
   "id": "55002b83-a025-4c04-b7ee-cd0d07e6886a",
   "metadata": {},
   "outputs": [
    {
     "name": "stdout",
     "output_type": "stream",
     "text": [
      "Target: (Not Disaster)\n",
      "I like the weird ones like Rain of Mystical or Windstorm or Ocean Waves https://t.co/gCdxYdBSc4\n",
      "\n",
      " ---------------------------------------- \n",
      "\n",
      "Target: (Not Disaster)\n",
      "IS ROSS DEAD NOOOOOOOOOOOO @MikeParrActor\n",
      "\n",
      " ---------------------------------------- \n",
      "\n",
      "Target: (Disaster)\n",
      "CNN: Tennessee movie theater shooting suspect killed by police http://t.co/dI8ElZsWNR\n",
      "\n",
      " ---------------------------------------- \n",
      "\n",
      "Target: (Disaster)\n",
      "I hear lightening and see thunder\n",
      "\n",
      " ---------------------------------------- \n",
      "\n",
      "Target: (Not Disaster)\n",
      "Set some goals. Then demolish them ?? #fitness #inspiration\n",
      "\n",
      " ---------------------------------------- \n",
      "\n",
      "Target: (Not Disaster)\n",
      "@IndiGo6E But if you are carful about spotting damage @the time of check in why not @the time of giving away baggage?! It's my loss all d wy\n",
      "\n",
      " ---------------------------------------- \n",
      "\n",
      "Target: (Disaster)\n",
      "Find out how your fund was used for Typhoon Haiyan in the Philippines. See @DevPeace Haiyan Relief Funds Report http://t.co/JwxrX1LsqO\n",
      "\n",
      " ---------------------------------------- \n",
      "\n",
      "Target: (Not Disaster)\n",
      "Audio: 16 Business Owners Share What They Would Do Differently Pt1 http://t.co/9uTqe9ZfDE\n",
      "\n",
      " ---------------------------------------- \n",
      "\n",
      "Target: (Not Disaster)\n",
      "?? Yes I do have 2 guns ?? ??\n",
      "\n",
      " ---------------------------------------- \n",
      "\n",
      "Target: (Disaster)\n",
      "don't get on I77 south... huge wreck and airlift and maybe some deaths interstate is completely blocked\n",
      "\n",
      " ---------------------------------------- \n",
      "\n"
     ]
    }
   ],
   "source": [
    "# Viewing 10 random tweets and whether each one was a disaster or not\n",
    "for i in range(10):\n",
    "    row = train_data_shuffled.iloc[random.randint(0, len(train_data_shuffled))]\n",
    "    print(f\"Target: ({'Disaster' if row['target'] else 'Not Disaster'})\")\n",
    "    print(row['text'])\n",
    "    print('\\n', '-' * 40, '\\n')"
   ]
  },
  {
   "cell_type": "code",
   "execution_count": 12,
   "id": "afe153d8-0b12-4639-83e1-ea1d76ba1529",
   "metadata": {},
   "outputs": [
    {
     "data": {
      "text/plain": [
       "target\n",
       "0    4342\n",
       "1    3271\n",
       "Name: count, dtype: int64"
      ]
     },
     "execution_count": 12,
     "metadata": {},
     "output_type": "execute_result"
    }
   ],
   "source": [
    "# Lets look at the number of each target (disaster or not a disaster)\n",
    "train_data_shuffled.target.value_counts()"
   ]
  },
  {
   "cell_type": "markdown",
   "id": "c0e40ffb-9ff1-4e5e-a4d0-de7acd2080d6",
   "metadata": {
    "jp-MarkdownHeadingCollapsed": true
   },
   "source": [
    "### Preparing Data\n",
    "\n",
    "To prep this data, there are a few things I need to do to get everything ready to build out my models.\n",
    "\n",
    "1. Shuffle the training data set.\n",
    "2. Split the training data set into a training and validation set (go to use 10% of the training data as the validation data).\n",
    "3. Need to convert text into numbers."
   ]
  },
  {
   "cell_type": "code",
   "execution_count": 13,
   "id": "e9a236ca-1ce5-4c03-9c68-0c70b6a2c6b5",
   "metadata": {},
   "outputs": [],
   "source": [
    "# Constants\n",
    "TEST_SIZE_PERCENTILE = 0.1"
   ]
  },
  {
   "cell_type": "code",
   "execution_count": 14,
   "id": "bb6032c2-ffa7-433c-98ef-2dbcaf008cd9",
   "metadata": {},
   "outputs": [
    {
     "data": {
      "text/html": [
       "<div>\n",
       "<style scoped>\n",
       "    .dataframe tbody tr th:only-of-type {\n",
       "        vertical-align: middle;\n",
       "    }\n",
       "\n",
       "    .dataframe tbody tr th {\n",
       "        vertical-align: top;\n",
       "    }\n",
       "\n",
       "    .dataframe thead th {\n",
       "        text-align: right;\n",
       "    }\n",
       "</style>\n",
       "<table border=\"1\" class=\"dataframe\">\n",
       "  <thead>\n",
       "    <tr style=\"text-align: right;\">\n",
       "      <th></th>\n",
       "      <th>id</th>\n",
       "      <th>keyword</th>\n",
       "      <th>location</th>\n",
       "      <th>text</th>\n",
       "      <th>target</th>\n",
       "    </tr>\n",
       "  </thead>\n",
       "  <tbody>\n",
       "    <tr>\n",
       "      <th>2644</th>\n",
       "      <td>3796</td>\n",
       "      <td>destruction</td>\n",
       "      <td>NaN</td>\n",
       "      <td>So you have a new weapon that can cause un-ima...</td>\n",
       "      <td>1</td>\n",
       "    </tr>\n",
       "    <tr>\n",
       "      <th>2227</th>\n",
       "      <td>3185</td>\n",
       "      <td>deluge</td>\n",
       "      <td>NaN</td>\n",
       "      <td>The f$&amp;amp;@ing things I do for #GISHWHES Just...</td>\n",
       "      <td>0</td>\n",
       "    </tr>\n",
       "    <tr>\n",
       "      <th>5448</th>\n",
       "      <td>7769</td>\n",
       "      <td>police</td>\n",
       "      <td>UK</td>\n",
       "      <td>DT @georgegalloway: RT @Galloway4Mayor: ÛÏThe...</td>\n",
       "      <td>1</td>\n",
       "    </tr>\n",
       "    <tr>\n",
       "      <th>132</th>\n",
       "      <td>191</td>\n",
       "      <td>aftershock</td>\n",
       "      <td>NaN</td>\n",
       "      <td>Aftershock back to school kick off was great. ...</td>\n",
       "      <td>0</td>\n",
       "    </tr>\n",
       "    <tr>\n",
       "      <th>6845</th>\n",
       "      <td>9810</td>\n",
       "      <td>trauma</td>\n",
       "      <td>Montgomery County, MD</td>\n",
       "      <td>in response to trauma Children of Addicts deve...</td>\n",
       "      <td>0</td>\n",
       "    </tr>\n",
       "  </tbody>\n",
       "</table>\n",
       "</div>"
      ],
      "text/plain": [
       "        id      keyword               location  \\\n",
       "2644  3796  destruction                    NaN   \n",
       "2227  3185       deluge                    NaN   \n",
       "5448  7769       police                     UK   \n",
       "132    191   aftershock                    NaN   \n",
       "6845  9810       trauma  Montgomery County, MD   \n",
       "\n",
       "                                                   text  target  \n",
       "2644  So you have a new weapon that can cause un-ima...       1  \n",
       "2227  The f$&amp;@ing things I do for #GISHWHES Just...       0  \n",
       "5448  DT @georgegalloway: RT @Galloway4Mayor: ÛÏThe...       1  \n",
       "132   Aftershock back to school kick off was great. ...       0  \n",
       "6845  in response to trauma Children of Addicts deve...       0  "
      ]
     },
     "execution_count": 14,
     "metadata": {},
     "output_type": "execute_result"
    }
   ],
   "source": [
    "# Lets shuffle the training data\n",
    "train_data_shuffled = train_data.sample(frac=1, random_state=42)\n",
    "train_data_shuffled.head()"
   ]
  },
  {
   "cell_type": "markdown",
   "id": "d0bd2f79-b565-4636-a81b-a6413058c5a5",
   "metadata": {
    "jp-MarkdownHeadingCollapsed": true
   },
   "source": [
    "### Creating Datasets"
   ]
  },
  {
   "cell_type": "markdown",
   "id": "729ccc20-32bf-48bc-ad7f-58a6bf9c64ba",
   "metadata": {
    "jp-MarkdownHeadingCollapsed": true
   },
   "source": [
    "#### Creating 100% Dataset"
   ]
  },
  {
   "cell_type": "code",
   "execution_count": 15,
   "id": "9e54c759-ffbd-45b6-9e14-3a9782102593",
   "metadata": {},
   "outputs": [
    {
     "data": {
      "text/plain": [
       "(6851, 762, 6851, 762)"
      ]
     },
     "execution_count": 15,
     "metadata": {},
     "output_type": "execute_result"
    }
   ],
   "source": [
    "# Splitting the train data to split into training and validation datasets\n",
    "train_sentences, val_sentences, train_labels, val_labels = train_test_split(\n",
    "    train_data_shuffled['text'].to_numpy(),\n",
    "    train_data_shuffled['target'].to_numpy(),\n",
    "    test_size=TEST_SIZE_PERCENTILE,\n",
    "    random_state=RANDOM_SEED)\n",
    "\n",
    "len(train_sentences), len(val_sentences), len(train_labels), len(val_labels)"
   ]
  },
  {
   "cell_type": "code",
   "execution_count": 16,
   "id": "aec3d60b-2d08-42bc-9dd6-86a7e1da5715",
   "metadata": {},
   "outputs": [
    {
     "data": {
      "text/plain": [
       "(array(['@mogacola @zamtriossu i screamed after hitting tweet',\n",
       "        'Imagine getting flattened by Kurt Zouma',\n",
       "        '@Gurmeetramrahim #MSGDoing111WelfareWorks Green S welfare force ke appx 65000 members har time disaster victim ki help ke liye tyar hai....'],\n",
       "       dtype=object),\n",
       " array([0, 0, 1]))"
      ]
     },
     "execution_count": 16,
     "metadata": {},
     "output_type": "execute_result"
    }
   ],
   "source": [
    "# Verify the split worked as expected\n",
    "train_sentences[:3], train_labels[:3]"
   ]
  },
  {
   "cell_type": "markdown",
   "id": "0a101041-cebb-464b-b0fd-3da0d35f03a3",
   "metadata": {
    "jp-MarkdownHeadingCollapsed": true
   },
   "source": [
    "#### Creating 10% Dataset"
   ]
  },
  {
   "cell_type": "code",
   "execution_count": 17,
   "id": "5677ea64-6d20-48c5-a58f-efe27d40d80c",
   "metadata": {},
   "outputs": [
    {
     "data": {
      "text/plain": [
       "(685, 685)"
      ]
     },
     "execution_count": 17,
     "metadata": {},
     "output_type": "execute_result"
    }
   ],
   "source": [
    "# Creating 10% subset of the training data\n",
    "train_10_percent_split = int(0.1 * len(train_sentences))\n",
    "\n",
    "train_sentences_10_percent = train_sentences[:train_10_percent_split]\n",
    "train_labels_10_percent = train_labels[:train_10_percent_split]\n",
    "\n",
    "len(train_sentences_10_percent), len(train_labels_10_percent)"
   ]
  },
  {
   "cell_type": "markdown",
   "id": "1952dfae-d710-49e2-89f5-27dcc1d11b0b",
   "metadata": {
    "jp-MarkdownHeadingCollapsed": true
   },
   "source": [
    "##### Ensuring Representative Dataset\n",
    "\n",
    "With the split, I need to make sure that the split is representative of the dataset as a whole. For instance, the 100% dataset has roughly a 4:3 ratio of tweets not disasters vs are disasters. "
   ]
  },
  {
   "cell_type": "code",
   "execution_count": 18,
   "id": "f3a0bb7d-188d-42aa-a3ab-1f328f993831",
   "metadata": {},
   "outputs": [
    {
     "name": "stdout",
     "output_type": "stream",
     "text": [
      "10% Value Counts\n",
      "0    406\n",
      "1    279\n",
      "Name: count, dtype: int64 \n",
      "\n",
      "100% Value Counts\n",
      "target\n",
      "0    4342\n",
      "1    3271\n",
      "Name: count, dtype: int64\n"
     ]
    }
   ],
   "source": [
    "# Verify split is representative of dataset\n",
    "print('10% Value Counts')\n",
    "print(pd.Series(np.array(train_labels_10_percent)).value_counts(), '\\n')\n",
    "\n",
    "print('100% Value Counts')\n",
    "print(train_data_shuffled['target'].value_counts())"
   ]
  },
  {
   "cell_type": "markdown",
   "id": "33f31d78-10d5-4fa6-9019-17398bf1111b",
   "metadata": {
    "jp-MarkdownHeadingCollapsed": true
   },
   "source": [
    "## Experiments\n",
    "\n",
    "To experiment and identify the best model, I am going to run the following experiments with the corresponding model to analyze the difference between the different types of models for modeling sequence based problems.\n",
    "\n",
    "* Experiment-0 (Baseline): Naive Bayes with TF-IDF encoder (baseline model) NOTE: this is not a Deep Learning model\n",
    "* Experiment-1: Feed-forward neural network (dense model)\n",
    "* Experiment-2: LSTM (RNN)\n",
    "* Experiment-3: GRU (RNN)\n",
    "* Experiment-4: Bidirection-LSTM (RNN)\n",
    "* Experiment-5: 1D Convolutional Neural Network\n",
    "* Experiment-6: TensorFlow Hub Pretrained Feature Extractor\n",
    "* Experiment-7: TensorFlow Hub Pretrained Feature Extractor (10% of Data)"
   ]
  },
  {
   "cell_type": "markdown",
   "id": "9ff3ca3a-45ab-433e-9601-c62904e70d06",
   "metadata": {
    "jp-MarkdownHeadingCollapsed": true
   },
   "source": [
    "### Experiment Constants"
   ]
  },
  {
   "cell_type": "code",
   "execution_count": 19,
   "id": "de85cf45-cc00-41e8-9d97-73e2647f52c2",
   "metadata": {},
   "outputs": [],
   "source": [
    "INPUT_SIZE = 1  # Input is entire sentence\n",
    "OUTPUT_SIZE = 1\n",
    "\n",
    "EPOCHS = 5"
   ]
  },
  {
   "cell_type": "markdown",
   "id": "fd5e4c06-5345-4c8c-9bb2-f6d5f0c8bd0e",
   "metadata": {
    "jp-MarkdownHeadingCollapsed": true
   },
   "source": [
    "### Creating Common Layers\n",
    "\n",
    "A handful of layers are used across multiple experiments. The following layers are required:\n",
    "\n",
    "* `text_vectorizer` - Text Vectorization Layer\n",
    "* `embedding` - Embedding Layer"
   ]
  },
  {
   "cell_type": "markdown",
   "id": "cc651bef-3076-404d-ae37-2cdf7f7df6ca",
   "metadata": {
    "jp-MarkdownHeadingCollapsed": true
   },
   "source": [
    "#### Determine Constants\n",
    "\n",
    "There are some certain parameters I need to identify and set as constants."
   ]
  },
  {
   "cell_type": "code",
   "execution_count": 20,
   "id": "858642a5-a574-48c3-a8da-eab2667db05f",
   "metadata": {},
   "outputs": [
    {
     "data": {
      "text/plain": [
       "15"
      ]
     },
     "execution_count": 20,
     "metadata": {},
     "output_type": "execute_result"
    }
   ],
   "source": [
    "# Find average number of tokens\n",
    "round(sum([len(i.split()) for i in train_sentences]) / len(train_sentences))"
   ]
  },
  {
   "cell_type": "code",
   "execution_count": 21,
   "id": "698f39ff-d8a6-4069-9c6a-bf548526be5e",
   "metadata": {},
   "outputs": [],
   "source": [
    "# Constants\n",
    "MAX_VOCAB_LENGTH = 10000  # Max words to have in our vocab\n",
    "MAX_SEQUENCE_LENGTH = 15  # Maximum length of a sequence (determined from code block aboce)"
   ]
  },
  {
   "cell_type": "markdown",
   "id": "68f52f52-64a8-4ab2-a248-9579817be75f",
   "metadata": {
    "jp-MarkdownHeadingCollapsed": true
   },
   "source": [
    "#### TextVectorization Layer\n",
    "\n",
    "When dealing with a text problem, one of the first things to do before building a model is to convert text to numbers. There are a few ways to do this:\n",
    "\n",
    "* Tokenization - direct mapping of token (a token could be a word or a character) to a number.\n",
    "* Embedding - create a matrix of featyre vector for each token (the size of the feature vector can be defined and this embedding can be learned)."
   ]
  },
  {
   "cell_type": "code",
   "execution_count": 22,
   "id": "2ac6e7dc-e2de-470c-8fd6-f733cf3458dd",
   "metadata": {},
   "outputs": [],
   "source": [
    "# Setting up a text vectorization layer (tokenization)\n",
    "text_vectorizer = tf.keras.layers.experimental.preprocessing.TextVectorization(\n",
    "    max_tokens=MAX_VOCAB_LENGTH,  # How many words in the vocabulary (None sets as no maximum number of tokens)\n",
    "    output_mode='int',\n",
    "    output_sequence_length=MAX_SEQUENCE_LENGTH)  # Padds (adds 0's to end of number) to make all the same length"
   ]
  },
  {
   "cell_type": "code",
   "execution_count": 23,
   "id": "e5d2bd6e-93af-47ab-b531-5041edd1e2a9",
   "metadata": {},
   "outputs": [],
   "source": [
    "# Adapt the vectorizer to the training data\n",
    "text_vectorizer.adapt(train_sentences)"
   ]
  },
  {
   "cell_type": "code",
   "execution_count": 24,
   "id": "080b4422-e3ed-4bb6-9ce6-b358b667caf8",
   "metadata": {},
   "outputs": [
    {
     "data": {
      "text/plain": [
       "<tf.Tensor: shape=(1, 15), dtype=int64, numpy=\n",
       "array([[264,   3, 232,   4,  13, 698,   0,   0,   0,   0,   0,   0,   0,\n",
       "          0,   0]])>"
      ]
     },
     "execution_count": 24,
     "metadata": {},
     "output_type": "execute_result"
    }
   ],
   "source": [
    "# Verify the text vectorizer was adapted correctly\n",
    "sample_sentence = 'There\\'s a flood in my street!'\n",
    "text_vectorizer([sample_sentence])"
   ]
  },
  {
   "cell_type": "code",
   "execution_count": 25,
   "id": "fd53f63e-0ef4-45e1-91c3-bdf425681868",
   "metadata": {},
   "outputs": [
    {
     "name": "stdout",
     "output_type": "stream",
     "text": [
      "Sentence: The summer program I worked for went the city pool we had to evacuate because one of my kids left a surprise. @jimmyfallon #WorstSummerJob\n",
      "Vectorized: [[   2  270 1377    8 1733   10  492    2  182 1616   46   94    5  279\n",
      "   152]]\n"
     ]
    }
   ],
   "source": [
    "# Choose a random sentence from the train data and encode it\n",
    "rand_i = random.randint(0, len(train_sentences))\n",
    "print(f'Sentence: {train_sentences[rand_i]}')\n",
    "print(f'Vectorized: {text_vectorizer([train_sentences[rand_i]])}')"
   ]
  },
  {
   "cell_type": "code",
   "execution_count": 26,
   "id": "a6a91fb2-40d4-4fc3-94bf-b62e64e3bf0b",
   "metadata": {},
   "outputs": [
    {
     "data": {
      "text/plain": [
       "(10000,\n",
       " ['', '[UNK]', 'the', 'a', 'in'],\n",
       " ['pages', 'paeds', 'pads', 'padres', 'paddytomlinson1'])"
      ]
     },
     "execution_count": 26,
     "metadata": {},
     "output_type": "execute_result"
    }
   ],
   "source": [
    "# Getting the words in the vocab from the training data\n",
    "words_in_vocab = text_vectorizer.get_vocabulary()\n",
    "most_common_5_words = words_in_vocab[:5]\n",
    "least_common_5_words = words_in_vocab[-5:]\n",
    "\n",
    "len(words_in_vocab), most_common_5_words, least_common_5_words"
   ]
  },
  {
   "cell_type": "markdown",
   "id": "56630459-a8a1-44a5-a2b1-9444a02170d7",
   "metadata": {
    "jp-MarkdownHeadingCollapsed": true
   },
   "source": [
    "#### Embedding Layer\n",
    "\n",
    "To make our embedding layer, I am going to use TensorFlow's `Embedding` layer. \n",
    "\n",
    "The parameters we care most about for our embedding layer are:\n",
    "\n",
    "* `input dim` -  The size of the vocabulary\n",
    "* `output dim` - The size of the output embedding vector, for example, a size of 100 mean each token would be represented by a vector of length 100.\n",
    "* `input_length` - The length of the sequences being passed to the embedding layer."
   ]
  },
  {
   "cell_type": "code",
   "execution_count": 27,
   "id": "16697486-a4c4-4a8b-9135-5b2c0ec2a292",
   "metadata": {},
   "outputs": [],
   "source": [
    "# Constants\n",
    "EMBEDDING_OUTPUT_DIM = 128  # GPU's work well when number is divisible by 8"
   ]
  },
  {
   "cell_type": "code",
   "execution_count": 28,
   "id": "3dfcee59-812a-4c26-a072-27b9f9c8d59c",
   "metadata": {},
   "outputs": [
    {
     "data": {
      "text/plain": [
       "<keras.src.layers.core.embedding.Embedding at 0x28c1a6d30>"
      ]
     },
     "execution_count": 28,
     "metadata": {},
     "output_type": "execute_result"
    }
   ],
   "source": [
    "embedding = tf.keras.layers.Embedding(input_dim=MAX_VOCAB_LENGTH,\n",
    "                                     output_dim=EMBEDDING_OUTPUT_DIM,\n",
    "                                     input_length=MAX_SEQUENCE_LENGTH)\n",
    "embedding"
   ]
  },
  {
   "cell_type": "code",
   "execution_count": 29,
   "id": "bfb8b447-6d24-4c6e-8236-2ae64e9f8223",
   "metadata": {},
   "outputs": [
    {
     "name": "stdout",
     "output_type": "stream",
     "text": [
      "Sentence: \n",
      " If you think going to demolish Drake's house over some ghostwriting shit you should know that Rihanna lives next door.\n",
      "Embedded Version: \n",
      " tf.Tensor(\n",
      "[[[ 0.01692742  0.01280296 -0.03794461 ...  0.00523317  0.0294095\n",
      "   -0.0110469 ]\n",
      "  [-0.02869302 -0.04056253  0.00132649 ... -0.04541462  0.02573365\n",
      "   -0.03644288]\n",
      "  [ 0.03888735  0.03062843  0.02743541 ... -0.01527388 -0.0280211\n",
      "   -0.00052346]\n",
      "  ...\n",
      "  [-0.02869302 -0.04056253  0.00132649 ... -0.04541462  0.02573365\n",
      "   -0.03644288]\n",
      "  [ 0.02156854  0.0073728  -0.02901694 ...  0.02057416  0.02068264\n",
      "   -0.00769339]\n",
      "  [-0.03211126  0.04029009 -0.03818759 ...  0.01901687 -0.04437354\n",
      "   -0.02277442]]], shape=(1, 15, 128), dtype=float32)\n"
     ]
    }
   ],
   "source": [
    "# Verify the embedding layer worked\n",
    "random_sentence = random.choice(train_sentences)\n",
    "embedded_sentence = embedding(text_vectorizer([random_sentence]))\n",
    "print('Sentence: \\n', random_sentence)\n",
    "print('Embedded Version: \\n', embedded_sentence)"
   ]
  },
  {
   "cell_type": "markdown",
   "id": "17c1862f-9330-4fd5-b3d9-ead3f585c8d9",
   "metadata": {
    "jp-MarkdownHeadingCollapsed": true
   },
   "source": [
    "### Experiment-0 (Baseline Model): Naive Bayes Model\n",
    "\n",
    "As a baseline model, I am going to use SKLearn's Multinomial Naive Bayes algorithm using the TF-IDF formuila to convert words to numbers. This model will be used to compare the DL models against to judge performance.\n",
    "\n",
    "NOTE: It's common practice to use non-LD algorithms as a baseline because of their speed and then later using DL to see if you can improve upon them."
   ]
  },
  {
   "cell_type": "code",
   "execution_count": 30,
   "id": "12d04b81-19c5-4076-82b6-628d388b4507",
   "metadata": {},
   "outputs": [],
   "source": [
    "# Constnats\n",
    "model_0_name = 'model_0_naive_bayes'"
   ]
  },
  {
   "cell_type": "code",
   "execution_count": 31,
   "id": "96442451-4399-44f0-b12d-a4ef31d77f67",
   "metadata": {},
   "outputs": [
    {
     "data": {
      "text/html": [
       "<style>#sk-container-id-1 {color: black;}#sk-container-id-1 pre{padding: 0;}#sk-container-id-1 div.sk-toggleable {background-color: white;}#sk-container-id-1 label.sk-toggleable__label {cursor: pointer;display: block;width: 100%;margin-bottom: 0;padding: 0.3em;box-sizing: border-box;text-align: center;}#sk-container-id-1 label.sk-toggleable__label-arrow:before {content: \"▸\";float: left;margin-right: 0.25em;color: #696969;}#sk-container-id-1 label.sk-toggleable__label-arrow:hover:before {color: black;}#sk-container-id-1 div.sk-estimator:hover label.sk-toggleable__label-arrow:before {color: black;}#sk-container-id-1 div.sk-toggleable__content {max-height: 0;max-width: 0;overflow: hidden;text-align: left;background-color: #f0f8ff;}#sk-container-id-1 div.sk-toggleable__content pre {margin: 0.2em;color: black;border-radius: 0.25em;background-color: #f0f8ff;}#sk-container-id-1 input.sk-toggleable__control:checked~div.sk-toggleable__content {max-height: 200px;max-width: 100%;overflow: auto;}#sk-container-id-1 input.sk-toggleable__control:checked~label.sk-toggleable__label-arrow:before {content: \"▾\";}#sk-container-id-1 div.sk-estimator input.sk-toggleable__control:checked~label.sk-toggleable__label {background-color: #d4ebff;}#sk-container-id-1 div.sk-label input.sk-toggleable__control:checked~label.sk-toggleable__label {background-color: #d4ebff;}#sk-container-id-1 input.sk-hidden--visually {border: 0;clip: rect(1px 1px 1px 1px);clip: rect(1px, 1px, 1px, 1px);height: 1px;margin: -1px;overflow: hidden;padding: 0;position: absolute;width: 1px;}#sk-container-id-1 div.sk-estimator {font-family: monospace;background-color: #f0f8ff;border: 1px dotted black;border-radius: 0.25em;box-sizing: border-box;margin-bottom: 0.5em;}#sk-container-id-1 div.sk-estimator:hover {background-color: #d4ebff;}#sk-container-id-1 div.sk-parallel-item::after {content: \"\";width: 100%;border-bottom: 1px solid gray;flex-grow: 1;}#sk-container-id-1 div.sk-label:hover label.sk-toggleable__label {background-color: #d4ebff;}#sk-container-id-1 div.sk-serial::before {content: \"\";position: absolute;border-left: 1px solid gray;box-sizing: border-box;top: 0;bottom: 0;left: 50%;z-index: 0;}#sk-container-id-1 div.sk-serial {display: flex;flex-direction: column;align-items: center;background-color: white;padding-right: 0.2em;padding-left: 0.2em;position: relative;}#sk-container-id-1 div.sk-item {position: relative;z-index: 1;}#sk-container-id-1 div.sk-parallel {display: flex;align-items: stretch;justify-content: center;background-color: white;position: relative;}#sk-container-id-1 div.sk-item::before, #sk-container-id-1 div.sk-parallel-item::before {content: \"\";position: absolute;border-left: 1px solid gray;box-sizing: border-box;top: 0;bottom: 0;left: 50%;z-index: -1;}#sk-container-id-1 div.sk-parallel-item {display: flex;flex-direction: column;z-index: 1;position: relative;background-color: white;}#sk-container-id-1 div.sk-parallel-item:first-child::after {align-self: flex-end;width: 50%;}#sk-container-id-1 div.sk-parallel-item:last-child::after {align-self: flex-start;width: 50%;}#sk-container-id-1 div.sk-parallel-item:only-child::after {width: 0;}#sk-container-id-1 div.sk-dashed-wrapped {border: 1px dashed gray;margin: 0 0.4em 0.5em 0.4em;box-sizing: border-box;padding-bottom: 0.4em;background-color: white;}#sk-container-id-1 div.sk-label label {font-family: monospace;font-weight: bold;display: inline-block;line-height: 1.2em;}#sk-container-id-1 div.sk-label-container {text-align: center;}#sk-container-id-1 div.sk-container {/* jupyter's `normalize.less` sets `[hidden] { display: none; }` but bootstrap.min.css set `[hidden] { display: none !important; }` so we also need the `!important` here to be able to override the default hidden behavior on the sphinx rendered scikit-learn.org. See: https://github.com/scikit-learn/scikit-learn/issues/21755 */display: inline-block !important;position: relative;}#sk-container-id-1 div.sk-text-repr-fallback {display: none;}</style><div id=\"sk-container-id-1\" class=\"sk-top-container\"><div class=\"sk-text-repr-fallback\"><pre>Pipeline(steps=[(&#x27;tfidf&#x27;, TfidfVectorizer()), (&#x27;clf&#x27;, MultinomialNB())])</pre><b>In a Jupyter environment, please rerun this cell to show the HTML representation or trust the notebook. <br />On GitHub, the HTML representation is unable to render, please try loading this page with nbviewer.org.</b></div><div class=\"sk-container\" hidden><div class=\"sk-item sk-dashed-wrapped\"><div class=\"sk-label-container\"><div class=\"sk-label sk-toggleable\"><input class=\"sk-toggleable__control sk-hidden--visually\" id=\"sk-estimator-id-1\" type=\"checkbox\" ><label for=\"sk-estimator-id-1\" class=\"sk-toggleable__label sk-toggleable__label-arrow\">Pipeline</label><div class=\"sk-toggleable__content\"><pre>Pipeline(steps=[(&#x27;tfidf&#x27;, TfidfVectorizer()), (&#x27;clf&#x27;, MultinomialNB())])</pre></div></div></div><div class=\"sk-serial\"><div class=\"sk-item\"><div class=\"sk-estimator sk-toggleable\"><input class=\"sk-toggleable__control sk-hidden--visually\" id=\"sk-estimator-id-2\" type=\"checkbox\" ><label for=\"sk-estimator-id-2\" class=\"sk-toggleable__label sk-toggleable__label-arrow\">TfidfVectorizer</label><div class=\"sk-toggleable__content\"><pre>TfidfVectorizer()</pre></div></div></div><div class=\"sk-item\"><div class=\"sk-estimator sk-toggleable\"><input class=\"sk-toggleable__control sk-hidden--visually\" id=\"sk-estimator-id-3\" type=\"checkbox\" ><label for=\"sk-estimator-id-3\" class=\"sk-toggleable__label sk-toggleable__label-arrow\">MultinomialNB</label><div class=\"sk-toggleable__content\"><pre>MultinomialNB()</pre></div></div></div></div></div></div></div>"
      ],
      "text/plain": [
       "Pipeline(steps=[('tfidf', TfidfVectorizer()), ('clf', MultinomialNB())])"
      ]
     },
     "execution_count": 31,
     "metadata": {},
     "output_type": "execute_result"
    }
   ],
   "source": [
    "# Build Model\n",
    "model_0 = Pipeline([\n",
    "    ('tfidf', TfidfVectorizer()),\n",
    "    ('clf', MultinomialNB()),\n",
    "])\n",
    "\n",
    "# Fit Model\n",
    "model_0.fit(train_sentences, train_labels)"
   ]
  },
  {
   "cell_type": "code",
   "execution_count": 32,
   "id": "d20451e2-c1b3-4d3e-8e9c-80825b88793f",
   "metadata": {},
   "outputs": [
    {
     "data": {
      "text/plain": [
       "0.7926509186351706"
      ]
     },
     "execution_count": 32,
     "metadata": {},
     "output_type": "execute_result"
    }
   ],
   "source": [
    "# Evaluate model (SKlearn uses accuracy as the metric)\n",
    "baseline_score = model_0.score(val_sentences, val_labels)\n",
    "baseline_score  # Accuracy"
   ]
  },
  {
   "cell_type": "code",
   "execution_count": 33,
   "id": "2ac9f5f5-d892-4ef6-a304-8e0297fc8b53",
   "metadata": {},
   "outputs": [
    {
     "data": {
      "text/plain": [
       "ClassificationPredictionMetrics(accuracy=0.7926509186351706, precision=0.8111390004213173, recall=0.7926509186351706, f1=0.7862189758049549, name='model_0_naive_bayes')"
      ]
     },
     "execution_count": 33,
     "metadata": {},
     "output_type": "execute_result"
    }
   ],
   "source": [
    "# Make predictions\n",
    "model_0_predictions = model_0.predict(val_sentences)\n",
    "\n",
    "model_0_results = ml_toolbox.analysis.classification.generate_prediction_metrics(val_labels,\n",
    "                                                                                 model_0_predictions,\n",
    "                                                                                 model_0_name)\n",
    "model_0_results"
   ]
  },
  {
   "cell_type": "markdown",
   "id": "b39338d8-68c6-435d-aa7c-7c2b196b6de3",
   "metadata": {
    "jp-MarkdownHeadingCollapsed": true
   },
   "source": [
    "### Experiment-1: Feed Forward Dense Model\n",
    "\n",
    "The first test I am going to run against my baseline model is to use the traditional Dense DL model."
   ]
  },
  {
   "cell_type": "code",
   "execution_count": 34,
   "id": "a8a12638-8a5e-4fe9-ae1e-aaaf96861355",
   "metadata": {},
   "outputs": [],
   "source": [
    "# Constants\n",
    "model_1_name = 'model_1_feed_forward'"
   ]
  },
  {
   "cell_type": "code",
   "execution_count": 35,
   "id": "53bbfad7-df0b-4691-850b-1cad30ef8294",
   "metadata": {},
   "outputs": [
    {
     "name": "stdout",
     "output_type": "stream",
     "text": [
      "Model: \"model_1_feed_forward\"\n",
      "_________________________________________________________________\n",
      " Layer (type)                Output Shape              Param #   \n",
      "=================================================================\n",
      " input_1 (InputLayer)        [(None, 1)]               0         \n",
      "                                                                 \n",
      " text_vectorization (TextVe  (None, 15)                0         \n",
      " ctorization)                                                    \n",
      "                                                                 \n",
      " embedding (Embedding)       (None, 15, 128)           1280000   \n",
      "                                                                 \n",
      " global_average_pooling1d (  (None, 128)               0         \n",
      " GlobalAveragePooling1D)                                         \n",
      "                                                                 \n",
      " dense (Dense)               (None, 1)                 129       \n",
      "                                                                 \n",
      "=================================================================\n",
      "Total params: 1280129 (4.88 MB)\n",
      "Trainable params: 1280129 (4.88 MB)\n",
      "Non-trainable params: 0 (0.00 Byte)\n",
      "_________________________________________________________________\n"
     ]
    }
   ],
   "source": [
    "# Build model\n",
    "inputs = tf.keras.layers.Input(shape=(INPUT_SIZE,), dtype=tf.string) # Inputs are 1 dimensional strings\n",
    "x = text_vectorizer(inputs)  # Turn the input text into numbers\n",
    "x = embedding(x)  # Embed the text\n",
    "x = tf.keras.layers.GlobalAveragePooling1D()(x)\n",
    "outputs = tf.keras.layers.Dense(OUTPUT_SIZE, activation='sigmoid')(x)  # Create the output layer\n",
    "\n",
    "model_1 = tf.keras.models.Model(inputs, outputs, name=model_1_name)\n",
    "model_1.summary()"
   ]
  },
  {
   "cell_type": "code",
   "execution_count": 36,
   "id": "7f67ff4b-50cf-432e-a11f-709b9766db42",
   "metadata": {},
   "outputs": [],
   "source": [
    "# Compile Model\n",
    "model_1.compile(loss='binary_crossentropy',\n",
    "                optimizer=tf.keras.optimizers.legacy.Adam(),\n",
    "                metrics=['accuracy'])"
   ]
  },
  {
   "cell_type": "code",
   "execution_count": 37,
   "id": "cf48076b-8252-4e39-9427-535ba6ebd086",
   "metadata": {},
   "outputs": [
    {
     "name": "stdout",
     "output_type": "stream",
     "text": [
      "INFO:py_learning_toolbox.ml_toolbox.modeling.callbacks:TensorBoard callback for logs/model_1_feed_forward/tensorboard/20230921-133836\n",
      "Epoch 1/5\n",
      "215/215 [==============================] - 1s 4ms/step - loss: 0.6113 - accuracy: 0.6933 - val_loss: 0.5355 - val_accuracy: 0.7585\n",
      "Epoch 2/5\n",
      "215/215 [==============================] - 1s 4ms/step - loss: 0.4410 - accuracy: 0.8206 - val_loss: 0.4674 - val_accuracy: 0.7861\n",
      "Epoch 3/5\n",
      "215/215 [==============================] - 1s 4ms/step - loss: 0.3467 - accuracy: 0.8589 - val_loss: 0.4582 - val_accuracy: 0.7861\n",
      "Epoch 4/5\n",
      "215/215 [==============================] - 1s 4ms/step - loss: 0.2834 - accuracy: 0.8923 - val_loss: 0.4661 - val_accuracy: 0.7953\n",
      "Epoch 5/5\n",
      "215/215 [==============================] - 1s 4ms/step - loss: 0.2365 - accuracy: 0.9107 - val_loss: 0.4784 - val_accuracy: 0.7913\n"
     ]
    }
   ],
   "source": [
    "# Fit the model\n",
    "model_1_history = model_1.fit(\n",
    "    x=train_sentences,\n",
    "    y=train_labels,\n",
    "    epochs=EPOCHS,\n",
    "    validation_data=(val_sentences, val_labels),\n",
    "    callbacks=[\n",
    "        ml_toolbox.modeling.callbacks.generate_tensorboard_callback(model_1_name)\n",
    "    ],\n",
    ")"
   ]
  },
  {
   "cell_type": "code",
   "execution_count": 38,
   "id": "a614c8ad-57c0-42b3-afce-19c1998f1f61",
   "metadata": {},
   "outputs": [
    {
     "data": {
      "image/png": "[encoded data removed]",
      "text/plain": [
       "<Figure size 640x480 with 1 Axes>"
      ]
     },
     "metadata": {},
     "output_type": "display_data"
    }
   ],
   "source": [
    "ml_toolbox.analysis.history.plot_history(model_1_history, 'loss')"
   ]
  },
  {
   "cell_type": "code",
   "execution_count": 39,
   "id": "44fa9630-6cbc-48f9-8139-907a505b5e7c",
   "metadata": {},
   "outputs": [
    {
     "name": "stdout",
     "output_type": "stream",
     "text": [
      "24/24 [==============================] - 0s 614us/step\n"
     ]
    },
    {
     "data": {
      "text/plain": [
       "ClassificationPredictionMetrics(accuracy=0.7913385826771654, precision=0.7962095559621156, recall=0.7913385826771654, f1=0.788475062664411, name='model_1_feed_forward')"
      ]
     },
     "execution_count": 39,
     "metadata": {},
     "output_type": "execute_result"
    }
   ],
   "source": [
    "# Get prediction probabilities\n",
    "model_1_pred_probs = model_1.predict(val_sentences)\n",
    "\n",
    "# Convert prediction probabilities to 1 or 0\n",
    "model_1_preds = tf.squeeze(tf.round(model_1_pred_probs))\n",
    "\n",
    "model_1_results = ml_toolbox.analysis.classification.generate_prediction_metrics(val_labels, model_1_preds, model_1_name)\n",
    "model_1_results"
   ]
  },
  {
   "cell_type": "code",
   "execution_count": 40,
   "id": "d8d75b29-f373-41b5-b5c3-d84598ad92dd",
   "metadata": {},
   "outputs": [
    {
     "data": {
      "text/plain": [
       "accuracy     False\n",
       "precision    False\n",
       "recall       False\n",
       "f1            True\n",
       "dtype: bool"
      ]
     },
     "execution_count": 40,
     "metadata": {},
     "output_type": "execute_result"
    }
   ],
   "source": [
    "# Analyze data against the baseline data\n",
    "compare_results(model_0_results, model_1_results)"
   ]
  },
  {
   "cell_type": "markdown",
   "id": "36ca71a6-cc7c-4956-8074-1a4519ae6732",
   "metadata": {
    "jp-MarkdownHeadingCollapsed": true
   },
   "source": [
    "#### Visualizing the Learned Embeddings\n",
    "\n",
    "To visualize the embedding matrix, TensorFlow has a handy tool called projector that visualizes the matrix.\n",
    "\n",
    "NOTE: To utilize the projector tool, you need to create a vectors.tsv and metadata.tsv that will be uploaded to the projector website linked below.\n",
    "\n",
    "* https://www.tensorflow.org/text/guide/word_embeddings\n",
    "* https://projector.tensorflow.org/"
   ]
  },
  {
   "cell_type": "code",
   "execution_count": 41,
   "id": "1e878b9e-d8d2-424d-8522-4ef0314ecc69",
   "metadata": {},
   "outputs": [],
   "source": [
    "# Get the weight matrix of embedding layer\n",
    "# These are the numerical representation of each token in our training data, learned for 5 epochs.\n",
    "# Create embedding files (These will be uploaded to the embedding projector)\n",
    "ml_toolbox.analysis.language.export_embedding_projector_data(\n",
    "    model_name=model_1_name,\n",
    "    embedded_layer_weights=model_1.get_layer('embedding').get_weights()[0],\n",
    "    vocabulary=words_in_vocab,\n",
    "    include_timestamp=True)"
   ]
  },
  {
   "cell_type": "markdown",
   "id": "ca7054a5-4c7d-4fda-a872-c003aa674369",
   "metadata": {
    "jp-MarkdownHeadingCollapsed": true
   },
   "source": [
    "### Experiment-2: LSTM\n",
    "\n",
    "LSTM (Long Short Term Memory) is one of the most popular RNN models.\n",
    "\n",
    "Our structure of an RNN typically looks like this:\n",
    "\n",
    "```\n",
    "Input (text) -> Tokenize -> Embedding -> Layers (RNN's/Dense) -> Output\n",
    "```"
   ]
  },
  {
   "cell_type": "code",
   "execution_count": 42,
   "id": "11b51f1a-94de-4d60-aa97-ab1abb58bd75",
   "metadata": {},
   "outputs": [],
   "source": [
    "# Constants\n",
    "model_2_name = 'model_2_lstm'"
   ]
  },
  {
   "cell_type": "code",
   "execution_count": 43,
   "id": "1388e221-2f44-4ad0-bc11-41e389ba7706",
   "metadata": {},
   "outputs": [
    {
     "name": "stdout",
     "output_type": "stream",
     "text": [
      "Model: \"model_2_lstm\"\n",
      "_________________________________________________________________\n",
      " Layer (type)                Output Shape              Param #   \n",
      "=================================================================\n",
      " input_2 (InputLayer)        [(None, 1)]               0         \n",
      "                                                                 \n",
      " text_vectorization (TextVe  (None, 15)                0         \n",
      " ctorization)                                                    \n",
      "                                                                 \n",
      " embedding (Embedding)       (None, 15, 128)           1280000   \n",
      "                                                                 \n",
      " lstm (LSTM)                 (None, 64)                49408     \n",
      "                                                                 \n",
      " dense_1 (Dense)             (None, 1)                 65        \n",
      "                                                                 \n",
      "=================================================================\n",
      "Total params: 1329473 (5.07 MB)\n",
      "Trainable params: 1329473 (5.07 MB)\n",
      "Non-trainable params: 0 (0.00 Byte)\n",
      "_________________________________________________________________\n"
     ]
    }
   ],
   "source": [
    "# Create an LSTM Model\n",
    "# Build model\n",
    "inputs = tf.keras.layers.Input(shape=(INPUT_SIZE,), dtype=tf.string) # Inputs are 1 dimensional strings\n",
    "\n",
    "x = text_vectorizer(inputs)  # Turn the input text into numbers\n",
    "x = embedding(x)  # Embed the text\n",
    "# when you're stacking RNN cells together, you need to set return sequences to True\n",
    "# x = tf.keras.layers.LSTM(64, return_sequences=True)(x)\n",
    "x = tf.keras.layers.LSTM(64)(x)\n",
    "\n",
    "outputs = tf.keras.layers.Dense(OUTPUT_SIZE, activation='sigmoid')(x)\n",
    "\n",
    "model_2 = tf.keras.models.Model(inputs, outputs, name=model_2_name)\n",
    "model_2.summary()"
   ]
  },
  {
   "cell_type": "code",
   "execution_count": 44,
   "id": "0c0829d5-5abd-4559-b7b7-4f6beaea6b23",
   "metadata": {},
   "outputs": [],
   "source": [
    "# Compile the model\n",
    "model_2.compile(loss='binary_crossentropy',\n",
    "                optimizer=tf.keras.optimizers.legacy.Adam(),\n",
    "                metrics=['accuracy'])"
   ]
  },
  {
   "cell_type": "code",
   "execution_count": 45,
   "id": "e827fd22-4c30-483e-911a-fdcce2878a43",
   "metadata": {},
   "outputs": [
    {
     "name": "stdout",
     "output_type": "stream",
     "text": [
      "INFO:py_learning_toolbox.ml_toolbox.modeling.callbacks:TensorBoard callback for logs/model_2_lstm/tensorboard/20230921-133841\n",
      "Epoch 1/5\n",
      "215/215 [==============================] - 3s 12ms/step - loss: 0.2196 - accuracy: 0.9256 - val_loss: 0.5498 - val_accuracy: 0.7887\n",
      "Epoch 2/5\n",
      "215/215 [==============================] - 2s 11ms/step - loss: 0.1555 - accuracy: 0.9421 - val_loss: 0.6393 - val_accuracy: 0.7835\n",
      "Epoch 3/5\n",
      "215/215 [==============================] - 2s 11ms/step - loss: 0.1268 - accuracy: 0.9539 - val_loss: 0.6546 - val_accuracy: 0.7808\n",
      "Epoch 4/5\n",
      "215/215 [==============================] - 2s 11ms/step - loss: 0.1037 - accuracy: 0.9594 - val_loss: 0.7599 - val_accuracy: 0.7808\n",
      "Epoch 5/5\n",
      "215/215 [==============================] - 2s 11ms/step - loss: 0.0828 - accuracy: 0.9675 - val_loss: 1.0746 - val_accuracy: 0.7703\n"
     ]
    }
   ],
   "source": [
    "# Fit the Model\n",
    "model_2_history = model_2.fit(\n",
    "    train_sentences,\n",
    "    train_labels,\n",
    "    epochs=EPOCHS,\n",
    "    validation_data=(val_sentences, val_labels),\n",
    "    callbacks=[\n",
    "        ml_toolbox.modeling.callbacks.generate_tensorboard_callback(model_2_name)\n",
    "    ],\n",
    ")"
   ]
  },
  {
   "cell_type": "code",
   "execution_count": 46,
   "id": "a8dc7f09-a0d1-4e38-98f2-1535db614631",
   "metadata": {},
   "outputs": [
    {
     "data": {
      "image/png": "[encoded data removed]",
      "text/plain": [
       "<Figure size 640x480 with 1 Axes>"
      ]
     },
     "metadata": {},
     "output_type": "display_data"
    }
   ],
   "source": [
    "ml_toolbox.analysis.history.plot_history(model_2_history, 'accuracy')"
   ]
  },
  {
   "cell_type": "code",
   "execution_count": 47,
   "id": "c043b6ce-a9e1-4281-bf68-a2793caea3b5",
   "metadata": {},
   "outputs": [
    {
     "name": "stdout",
     "output_type": "stream",
     "text": [
      "24/24 [==============================] - 0s 2ms/step\n"
     ]
    },
    {
     "data": {
      "text/plain": [
       "ClassificationPredictionMetrics(accuracy=0.7703412073490814, precision=0.7701208199177533, recall=0.7703412073490814, f1=0.7695203715374298, name='model_2_lstm')"
      ]
     },
     "execution_count": 47,
     "metadata": {},
     "output_type": "execute_result"
    }
   ],
   "source": [
    "model_2_pred_probs = model_2.predict(val_sentences)\n",
    "model_2_preds = tf.squeeze(tf.round(model_2_pred_probs))\n",
    "\n",
    "model_2_results = ml_toolbox.analysis.classification.generate_prediction_metrics(val_labels, model_2_preds, model_2_name)\n",
    "model_2_results"
   ]
  },
  {
   "cell_type": "code",
   "execution_count": 48,
   "id": "c9ff0c66-daaf-45f2-b34d-f4f1445b4ff2",
   "metadata": {},
   "outputs": [
    {
     "data": {
      "text/plain": [
       "accuracy     False\n",
       "precision    False\n",
       "recall       False\n",
       "f1           False\n",
       "dtype: bool"
      ]
     },
     "execution_count": 48,
     "metadata": {},
     "output_type": "execute_result"
    }
   ],
   "source": [
    "# Analyze data against the baseline data\n",
    "compare_results(model_0_results, model_2_results)"
   ]
  },
  {
   "cell_type": "markdown",
   "id": "51be6ac4-260f-4dc9-b6b5-270446df1aa2",
   "metadata": {
    "jp-MarkdownHeadingCollapsed": true
   },
   "source": [
    "### Experiment-3: GRU\n",
    "\n",
    "Another popular and effective RNN component is the FRU or gated recurrent unit. The GRU cell has similar features to an LSTM cell, but has less parameters."
   ]
  },
  {
   "cell_type": "code",
   "execution_count": 49,
   "id": "8103b50d-7b29-4f5b-a263-1262458d9bcb",
   "metadata": {},
   "outputs": [],
   "source": [
    "# Constants\n",
    "model_3_name = 'model_3_gru'"
   ]
  },
  {
   "cell_type": "code",
   "execution_count": 50,
   "id": "9e542694-dc83-4390-a639-209450496c72",
   "metadata": {},
   "outputs": [
    {
     "name": "stdout",
     "output_type": "stream",
     "text": [
      "Model: \"model_3_gru\"\n",
      "_________________________________________________________________\n",
      " Layer (type)                Output Shape              Param #   \n",
      "=================================================================\n",
      " input_3 (InputLayer)        [(None, 1)]               0         \n",
      "                                                                 \n",
      " text_vectorization (TextVe  (None, 15)                0         \n",
      " ctorization)                                                    \n",
      "                                                                 \n",
      " embedding (Embedding)       (None, 15, 128)           1280000   \n",
      "                                                                 \n",
      " gru (GRU)                   (None, 64)                37248     \n",
      "                                                                 \n",
      " dense_2 (Dense)             (None, 1)                 65        \n",
      "                                                                 \n",
      "=================================================================\n",
      "Total params: 1317313 (5.03 MB)\n",
      "Trainable params: 1317313 (5.03 MB)\n",
      "Non-trainable params: 0 (0.00 Byte)\n",
      "_________________________________________________________________\n"
     ]
    }
   ],
   "source": [
    "# Create the GRU model\n",
    "inputs = tf.keras.layers.Input(shape=(INPUT_SIZE,), dtype=tf.string)\n",
    "x = text_vectorizer(inputs)\n",
    "x = embedding(x)\n",
    "x = tf.keras.layers.GRU(64)(x)\n",
    "outputs = tf.keras.layers.Dense(OUTPUT_SIZE, activation='sigmoid')(x)\n",
    "\n",
    "model_3 = tf.keras.models.Model(inputs, outputs, name=model_3_name)\n",
    "model_3.summary()"
   ]
  },
  {
   "cell_type": "code",
   "execution_count": 51,
   "id": "05af53a9-d9ed-4864-9326-c40fab38899a",
   "metadata": {},
   "outputs": [],
   "source": [
    "# Compile the Model\n",
    "model_3.compile(loss='binary_crossentropy',\n",
    "                optimizer=tf.keras.optimizers.legacy.Adam(),\n",
    "                metrics=['accuracy'])"
   ]
  },
  {
   "cell_type": "code",
   "execution_count": 52,
   "id": "a9e1053b-3660-4568-b881-1847864bc407",
   "metadata": {},
   "outputs": [
    {
     "name": "stdout",
     "output_type": "stream",
     "text": [
      "INFO:py_learning_toolbox.ml_toolbox.modeling.callbacks:TensorBoard callback for logs/model_3_gru/tensorboard/20230921-133854\n",
      "Epoch 1/5\n",
      "215/215 [==============================] - 3s 10ms/step - loss: 0.1542 - accuracy: 0.9409 - val_loss: 0.6455 - val_accuracy: 0.7743\n",
      "Epoch 2/5\n",
      "215/215 [==============================] - 2s 9ms/step - loss: 0.0821 - accuracy: 0.9710 - val_loss: 0.8371 - val_accuracy: 0.7743\n",
      "Epoch 3/5\n",
      "215/215 [==============================] - 2s 9ms/step - loss: 0.0722 - accuracy: 0.9737 - val_loss: 0.9454 - val_accuracy: 0.7769\n",
      "Epoch 4/5\n",
      "215/215 [==============================] - 2s 9ms/step - loss: 0.0636 - accuracy: 0.9747 - val_loss: 1.1245 - val_accuracy: 0.7769\n",
      "Epoch 5/5\n",
      "215/215 [==============================] - 2s 9ms/step - loss: 0.0551 - accuracy: 0.9766 - val_loss: 1.2223 - val_accuracy: 0.7756\n"
     ]
    }
   ],
   "source": [
    "# Fit Model\n",
    "model_3_history = model_3.fit(\n",
    "    train_sentences,\n",
    "    train_labels,\n",
    "    epochs=EPOCHS,\n",
    "    validation_data=(val_sentences, val_labels),\n",
    "    callbacks=[\n",
    "        ml_toolbox.modeling.callbacks.generate_tensorboard_callback(model_3_name)\n",
    "    ],\n",
    ")"
   ]
  },
  {
   "cell_type": "code",
   "execution_count": 53,
   "id": "803dde71-9ffb-4597-be5b-1ec36d888a7a",
   "metadata": {},
   "outputs": [
    {
     "data": {
      "image/png": "[encoded data removed]",
      "text/plain": [
       "<Figure size 640x480 with 1 Axes>"
      ]
     },
     "metadata": {},
     "output_type": "display_data"
    }
   ],
   "source": [
    "ml_toolbox.analysis.history.plot_history(model_3_history, 'accuracy')"
   ]
  },
  {
   "cell_type": "code",
   "execution_count": 54,
   "id": "5e0296de-ab8f-4bc1-bfe1-c7a7e2800daf",
   "metadata": {},
   "outputs": [
    {
     "name": "stdout",
     "output_type": "stream",
     "text": [
      "24/24 [==============================] - 0s 1ms/step\n"
     ]
    },
    {
     "data": {
      "text/plain": [
       "ClassificationPredictionMetrics(accuracy=0.7755905511811023, precision=0.7783607884132258, recall=0.7755905511811023, f1=0.7730920642120304, name='model_3_gru')"
      ]
     },
     "execution_count": 54,
     "metadata": {},
     "output_type": "execute_result"
    }
   ],
   "source": [
    "model_3_pred_probs = model_3.predict(val_sentences)\n",
    "model_3_preds = tf.squeeze(tf.round(model_3_pred_probs))\n",
    "\n",
    "model_3_results = ml_toolbox.analysis.classification.generate_prediction_metrics(val_labels, model_3_preds, model_3_name)\n",
    "model_3_results"
   ]
  },
  {
   "cell_type": "code",
   "execution_count": 55,
   "id": "75385c70-3992-4e86-b4c7-0c9ebb64cffe",
   "metadata": {},
   "outputs": [
    {
     "data": {
      "text/plain": [
       "accuracy     False\n",
       "precision    False\n",
       "recall       False\n",
       "f1           False\n",
       "dtype: bool"
      ]
     },
     "execution_count": 55,
     "metadata": {},
     "output_type": "execute_result"
    }
   ],
   "source": [
    "compare_results(model_0_results, model_3_results)"
   ]
  },
  {
   "cell_type": "markdown",
   "id": "5e15cd40-6ca5-4bf0-8688-bc37fe59a895",
   "metadata": {
    "jp-MarkdownHeadingCollapsed": true
   },
   "source": [
    "### Experiment-4: Bidirectional LSTM Model\n",
    "\n",
    "Normal RNN's go from left to right, however, Bidirectional RNN's go from left to right as well as right to left. To summarize, it reads a sentence from left to right, then reads it from right to left.\n",
    "\n",
    "NOTE: These are really only useful when going both directions can teach the network something useful when going both ways."
   ]
  },
  {
   "cell_type": "code",
   "execution_count": 56,
   "id": "877f6abf-b9c8-492b-b6f6-4089ad15a7dc",
   "metadata": {},
   "outputs": [],
   "source": [
    "# Constants\n",
    "model_4_name = 'model_4_bidirectional_lstm'"
   ]
  },
  {
   "cell_type": "code",
   "execution_count": 57,
   "id": "ce2db689-84b2-4d69-8a8f-460f5bb28c0a",
   "metadata": {},
   "outputs": [
    {
     "name": "stdout",
     "output_type": "stream",
     "text": [
      "Model: \"model_4_bidirectional_lstm\"\n",
      "_________________________________________________________________\n",
      " Layer (type)                Output Shape              Param #   \n",
      "=================================================================\n",
      " input_4 (InputLayer)        [(None, 1)]               0         \n",
      "                                                                 \n",
      " text_vectorization (TextVe  (None, 15)                0         \n",
      " ctorization)                                                    \n",
      "                                                                 \n",
      " embedding (Embedding)       (None, 15, 128)           1280000   \n",
      "                                                                 \n",
      " bidirectional (Bidirection  (None, 128)               98816     \n",
      " al)                                                             \n",
      "                                                                 \n",
      " dense_3 (Dense)             (None, 1)                 129       \n",
      "                                                                 \n",
      "=================================================================\n",
      "Total params: 1378945 (5.26 MB)\n",
      "Trainable params: 1378945 (5.26 MB)\n",
      "Non-trainable params: 0 (0.00 Byte)\n",
      "_________________________________________________________________\n"
     ]
    }
   ],
   "source": [
    "# Build out the Bidirectional Model\n",
    "inputs = tf.keras.layers.Input(shape=(INPUT_SIZE,), dtype=tf.string)\n",
    "x = text_vectorizer(inputs)\n",
    "x = embedding(x)\n",
    "x = tf.keras.layers.Bidirectional(tf.keras.layers.LSTM(64))(x)\n",
    "outputs = tf.keras.layers.Dense(OUTPUT_SIZE, activation='sigmoid')(x)\n",
    "\n",
    "model_4 = tf.keras.models.Model(inputs, outputs, name=model_4_name)\n",
    "model_4.summary()"
   ]
  },
  {
   "cell_type": "code",
   "execution_count": 58,
   "id": "cc4ccfc7-6459-4ab4-ac80-8b84a8c547da",
   "metadata": {},
   "outputs": [],
   "source": [
    "# compile model\n",
    "model_4.compile(loss='binary_crossentropy',\n",
    "                optimizer=tf.keras.optimizers.legacy.Adam(),\n",
    "                metrics=['accuracy'])"
   ]
  },
  {
   "cell_type": "code",
   "execution_count": 59,
   "id": "55e16408-f09f-4124-880b-58f4314c937d",
   "metadata": {},
   "outputs": [
    {
     "name": "stdout",
     "output_type": "stream",
     "text": [
      "INFO:py_learning_toolbox.ml_toolbox.modeling.callbacks:TensorBoard callback for logs/model_4_bidirectional_lstm/tensorboard/20230921-133905\n",
      "Epoch 1/5\n",
      "215/215 [==============================] - 4s 12ms/step - loss: 0.1077 - accuracy: 0.9653 - val_loss: 0.9318 - val_accuracy: 0.7703\n",
      "Epoch 2/5\n",
      "215/215 [==============================] - 2s 12ms/step - loss: 0.0500 - accuracy: 0.9781 - val_loss: 1.3852 - val_accuracy: 0.7743\n",
      "Epoch 3/5\n",
      "215/215 [==============================] - 2s 11ms/step - loss: 0.0458 - accuracy: 0.9794 - val_loss: 1.3904 - val_accuracy: 0.7730\n",
      "Epoch 4/5\n",
      "215/215 [==============================] - 2s 12ms/step - loss: 0.0419 - accuracy: 0.9793 - val_loss: 1.6106 - val_accuracy: 0.7664\n",
      "Epoch 5/5\n",
      "215/215 [==============================] - 3s 12ms/step - loss: 0.0451 - accuracy: 0.9793 - val_loss: 1.3119 - val_accuracy: 0.7625\n"
     ]
    }
   ],
   "source": [
    "# Callback and Fit\n",
    "model_4_history = model_4.fit(\n",
    "    train_sentences,\n",
    "    train_labels,\n",
    "    epochs=EPOCHS,\n",
    "    validation_data=(val_sentences, val_labels),\n",
    "    callbacks=[\n",
    "        ml_toolbox.modeling.callbacks.generate_tensorboard_callback(model_4_name),\n",
    "    ],\n",
    ")"
   ]
  },
  {
   "cell_type": "code",
   "execution_count": 60,
   "id": "37885c88-dc5a-418f-8f0e-bc99546432c0",
   "metadata": {},
   "outputs": [
    {
     "data": {
      "image/png": "[encoded data removed]",
      "text/plain": [
       "<Figure size 640x480 with 1 Axes>"
      ]
     },
     "metadata": {},
     "output_type": "display_data"
    }
   ],
   "source": [
    "ml_toolbox.analysis.history.plot_history(model_4_history, 'accuracy')"
   ]
  },
  {
   "cell_type": "code",
   "execution_count": 61,
   "id": "08667d28-4bc2-4ce9-913b-eb8fb6b5e9ea",
   "metadata": {},
   "outputs": [
    {
     "name": "stdout",
     "output_type": "stream",
     "text": [
      "24/24 [==============================] - 0s 2ms/step\n"
     ]
    },
    {
     "data": {
      "text/plain": [
       "ClassificationPredictionMetrics(accuracy=0.7624671916010499, precision=0.7642448462443391, recall=0.7624671916010499, f1=0.7601082692256481, name='model_4_bidirectional_lstm')"
      ]
     },
     "execution_count": 61,
     "metadata": {},
     "output_type": "execute_result"
    }
   ],
   "source": [
    "model_4_pred_probs = model_4.predict(val_sentences)\n",
    "model_4_preds = tf.squeeze(tf.round(model_4_pred_probs))\n",
    "\n",
    "model_4_results = ml_toolbox.analysis.classification.generate_prediction_metrics(val_labels, model_4_preds, model_4_name)\n",
    "model_4_results"
   ]
  },
  {
   "cell_type": "code",
   "execution_count": 62,
   "id": "b3e43681-ed27-4288-947b-89649145fa07",
   "metadata": {},
   "outputs": [
    {
     "data": {
      "text/plain": [
       "accuracy     False\n",
       "precision    False\n",
       "recall       False\n",
       "f1           False\n",
       "dtype: bool"
      ]
     },
     "execution_count": 62,
     "metadata": {},
     "output_type": "execute_result"
    }
   ],
   "source": [
    "compare_results(model_0_results, model_4_results)"
   ]
  },
  {
   "cell_type": "markdown",
   "id": "cd9fa2e7-34cc-4181-a27e-53ffccb6dc98",
   "metadata": {
    "jp-MarkdownHeadingCollapsed": true
   },
   "source": [
    "### Experiment-5: 1D Convolutional Neural Network\n",
    "\n",
    "We've used CNN's for images, but images are tpycally 2D, however, text data is 1D. \n",
    "\n",
    "The typical structure for Conv1D models:\n",
    "\n",
    "```\n",
    "Inputs -> Tokenization -> Embedding -> Layers (Conv1D + Pooling) -> Outputs\n",
    "```"
   ]
  },
  {
   "cell_type": "code",
   "execution_count": 63,
   "id": "ca78380a-44be-4779-bb5c-de573364b148",
   "metadata": {},
   "outputs": [],
   "source": [
    "# Constants\n",
    "model_5_name = 'model_5_1d_cnn'"
   ]
  },
  {
   "cell_type": "code",
   "execution_count": 64,
   "id": "b76f049a-767b-40c2-9a24-d38df107937f",
   "metadata": {},
   "outputs": [
    {
     "name": "stdout",
     "output_type": "stream",
     "text": [
      "Model: \"model_5_1d_cnn\"\n",
      "_________________________________________________________________\n",
      " Layer (type)                Output Shape              Param #   \n",
      "=================================================================\n",
      " input_5 (InputLayer)        [(None, 1)]               0         \n",
      "                                                                 \n",
      " text_vectorization (TextVe  (None, 15)                0         \n",
      " ctorization)                                                    \n",
      "                                                                 \n",
      " embedding (Embedding)       (None, 15, 128)           1280000   \n",
      "                                                                 \n",
      " conv1d (Conv1D)             (None, 11, 32)            20512     \n",
      "                                                                 \n",
      " global_max_pooling1d (Glob  (None, 32)                0         \n",
      " alMaxPooling1D)                                                 \n",
      "                                                                 \n",
      " dense_4 (Dense)             (None, 1)                 33        \n",
      "                                                                 \n",
      "=================================================================\n",
      "Total params: 1300545 (4.96 MB)\n",
      "Trainable params: 1300545 (4.96 MB)\n",
      "Non-trainable params: 0 (0.00 Byte)\n",
      "_________________________________________________________________\n"
     ]
    }
   ],
   "source": [
    "# build the model\n",
    "inputs = tf.keras.layers.Input(shape=(INPUT_SIZE,), dtype=tf.string)\n",
    "x = text_vectorizer(inputs)\n",
    "x = embedding(x)\n",
    "x = tf.keras.layers.Conv1D(filters=32, kernel_size=5, activation='relu', padding='valid')(x)\n",
    "x = tf.keras.layers.GlobalMaxPool1D()(x)\n",
    "outputs = tf.keras.layers.Dense(OUTPUT_SIZE, activation='sigmoid')(x)\n",
    "\n",
    "model_5 = tf.keras.models.Model(inputs, outputs, name=model_5_name)\n",
    "model_5.summary()"
   ]
  },
  {
   "cell_type": "code",
   "execution_count": 65,
   "id": "d1c61704-b16d-4b26-8a1a-01bc79b4c665",
   "metadata": {},
   "outputs": [],
   "source": [
    "# Compile model\n",
    "model_5.compile(loss='binary_crossentropy',\n",
    "                optimizer=tf.keras.optimizers.legacy.Adam(),\n",
    "                metrics=['accuracy'])"
   ]
  },
  {
   "cell_type": "code",
   "execution_count": 66,
   "id": "83e51d4e-b315-4fbd-a352-593bf4254879",
   "metadata": {},
   "outputs": [
    {
     "name": "stdout",
     "output_type": "stream",
     "text": [
      "INFO:py_learning_toolbox.ml_toolbox.modeling.callbacks:TensorBoard callback for logs/model_5_1d_cnn/tensorboard/20230921-133919\n",
      "Epoch 1/5\n",
      "215/215 [==============================] - 1s 5ms/step - loss: 0.1316 - accuracy: 0.9628 - val_loss: 0.8695 - val_accuracy: 0.7690\n",
      "Epoch 2/5\n",
      "215/215 [==============================] - 1s 5ms/step - loss: 0.0761 - accuracy: 0.9720 - val_loss: 1.0235 - val_accuracy: 0.7664\n",
      "Epoch 3/5\n",
      "215/215 [==============================] - 1s 5ms/step - loss: 0.0618 - accuracy: 0.9755 - val_loss: 1.0984 - val_accuracy: 0.7612\n",
      "Epoch 4/5\n",
      "215/215 [==============================] - 1s 5ms/step - loss: 0.0536 - accuracy: 0.9774 - val_loss: 1.1899 - val_accuracy: 0.7559\n",
      "Epoch 5/5\n",
      "215/215 [==============================] - 1s 5ms/step - loss: 0.0502 - accuracy: 0.9775 - val_loss: 1.2161 - val_accuracy: 0.7598\n"
     ]
    }
   ],
   "source": [
    "# Callback and Fit\n",
    "model_5_history = model_5.fit(\n",
    "    train_sentences,\n",
    "    train_labels,\n",
    "    epochs=EPOCHS,\n",
    "    validation_data=(val_sentences, val_labels),\n",
    "    callbacks=[\n",
    "        ml_toolbox.modeling.callbacks.generate_tensorboard_callback(model_5_name),\n",
    "    ],\n",
    ")"
   ]
  },
  {
   "cell_type": "code",
   "execution_count": 67,
   "id": "a2073372-d8f2-41a9-814a-6e41a895273b",
   "metadata": {},
   "outputs": [
    {
     "data": {
      "image/png": "[encoded data removed]",
      "text/plain": [
       "<Figure size 640x480 with 1 Axes>"
      ]
     },
     "metadata": {},
     "output_type": "display_data"
    }
   ],
   "source": [
    "ml_toolbox.analysis.history.plot_history(model_5_history, 'accuracy')"
   ]
  },
  {
   "cell_type": "code",
   "execution_count": 68,
   "id": "b804c3b6-f269-456a-a6d0-f9f68580e8c0",
   "metadata": {},
   "outputs": [
    {
     "name": "stdout",
     "output_type": "stream",
     "text": [
      "24/24 [==============================] - 0s 893us/step\n"
     ]
    },
    {
     "data": {
      "text/plain": [
       "ClassificationPredictionMetrics(accuracy=0.7598425196850394, precision=0.7604578907479682, recall=0.7598425196850394, f1=0.758116023760764, name='model_5_1d_cnn')"
      ]
     },
     "execution_count": 68,
     "metadata": {},
     "output_type": "execute_result"
    }
   ],
   "source": [
    "model_5_pred_probs = model_5.predict(val_sentences)\n",
    "model_5_preds = tf.squeeze(tf.round(model_5_pred_probs))\n",
    "\n",
    "model_5_results = ml_toolbox.analysis.classification.generate_prediction_metrics(val_labels, model_5_preds, model_5_name)\n",
    "model_5_results"
   ]
  },
  {
   "cell_type": "code",
   "execution_count": 69,
   "id": "9c43aa01-5d57-4ee7-ac28-808206102ba7",
   "metadata": {},
   "outputs": [
    {
     "data": {
      "text/plain": [
       "accuracy     False\n",
       "precision    False\n",
       "recall       False\n",
       "f1           False\n",
       "dtype: bool"
      ]
     },
     "execution_count": 69,
     "metadata": {},
     "output_type": "execute_result"
    }
   ],
   "source": [
    "compare_results(model_0_results, model_5_results)"
   ]
  },
  {
   "cell_type": "markdown",
   "id": "084d302c-4de2-4d1e-b271-d89da0f505bd",
   "metadata": {
    "jp-MarkdownHeadingCollapsed": true
   },
   "source": [
    "### Experiment-6: TensorFlow Hub Pretrained Sentence Encoder\n",
    "\n",
    "This model will use Transfer Learning with the `Universal Sentence Encoder` pretrained model on TensorFlow Hub (see link below).\n",
    "\n",
    "* https://tfhub.dev/google/collections/universal-sentence-encoder/1\n",
    "\n",
    "**NOTE** If when creating or testing the TensorFlow hub layer, an error might pop up saying certain files don't exist. If this occurs, delete the corresponding tensorflow hub directory listed in the error message and retry."
   ]
  },
  {
   "cell_type": "code",
   "execution_count": 70,
   "id": "23f76d64-f239-4433-999b-0b29aad5c283",
   "metadata": {},
   "outputs": [],
   "source": [
    "# Constants\n",
    "model_6_name = 'model_6_use'\n",
    "use_url = 'https://tfhub.dev/google/universal-sentence-encoder/4'"
   ]
  },
  {
   "cell_type": "markdown",
   "id": "e1532866-ad6f-498e-b99c-fbffb36c0111",
   "metadata": {
    "jp-MarkdownHeadingCollapsed": true
   },
   "source": [
    "#### Testing Universal Sentence Encoder Layer"
   ]
  },
  {
   "cell_type": "code",
   "execution_count": 71,
   "id": "1ac632d8-44d7-4528-b6ff-4f6ba86dde13",
   "metadata": {},
   "outputs": [
    {
     "name": "stdout",
     "output_type": "stream",
     "text": [
      "INFO:absl:Using /var/folders/sj/rsg548nx63dc931tmwt4nnq80000gn/T/tfhub_modules to cache modules.\n",
      "INFO:absl:Fingerprint not found. Saved model loading will continue.\n",
      "tf.Tensor(\n",
      "[[-0.03133015 -0.06338634 -0.016075   ... -0.03242781 -0.04575741\n",
      "   0.05370457]\n",
      " [ 0.05080862 -0.01652432  0.0157378  ...  0.00976657  0.03170119\n",
      "   0.01788119]], shape=(2, 512), dtype=float32)\n"
     ]
    }
   ],
   "source": [
    "# Testing out the transfer learning model\n",
    "embed = hub.load(use_url)\n",
    "\n",
    "embeddings = embed([\n",
    "    \"The quick brown fox jumps over the lazy dog.\",\n",
    "    \"I am a sentence for which I would like to get its embedding\"])\n",
    "\n",
    "print(embeddings)"
   ]
  },
  {
   "cell_type": "markdown",
   "id": "89208ac0-d83a-4bff-81b3-b0b10aa71478",
   "metadata": {},
   "source": [
    "#### Building Model"
   ]
  },
  {
   "cell_type": "code",
   "execution_count": 72,
   "id": "e49ee9fb-55d1-4065-b732-e5c105d984cd",
   "metadata": {},
   "outputs": [
    {
     "name": "stdout",
     "output_type": "stream",
     "text": [
      "INFO:absl:Fingerprint not found. Saved model loading will continue.\n",
      "Model: \"model_6_use\"\n",
      "_________________________________________________________________\n",
      " Layer (type)                Output Shape              Param #   \n",
      "=================================================================\n",
      " USE (KerasLayer)            (None, 512)               256797824 \n",
      "                                                                 \n",
      " dense_5 (Dense)             (None, 1)                 513       \n",
      "                                                                 \n",
      "=================================================================\n",
      "Total params: 256798337 (979.61 MB)\n",
      "Trainable params: 513 (2.00 KB)\n",
      "Non-trainable params: 256797824 (979.61 MB)\n",
      "_________________________________________________________________\n"
     ]
    }
   ],
   "source": [
    "# Build Model\n",
    "# Create a Keras Layer using the USE pretrained layer from TensorFlow Hub\n",
    "sentence_encoder_layer = hub.KerasLayer(use_url,\n",
    "                                        input_shape=[],\n",
    "                                        dtype=tf.string,\n",
    "                                        trainable=False,\n",
    "                                        name='USE')\n",
    "\n",
    "# Setup Layers\n",
    "model_6 = tf.keras.models.Sequential([\n",
    "    sentence_encoder_layer,\n",
    "    tf.keras.layers.Dense(OUTPUT_SIZE, activation='sigmoid'),\n",
    "], name=model_6_name)\n",
    "\n",
    "model_6.summary()"
   ]
  },
  {
   "cell_type": "code",
   "execution_count": 73,
   "id": "b3916d58-a751-4339-9f77-011129fad23a",
   "metadata": {},
   "outputs": [],
   "source": [
    "# Compile model\n",
    "model_6.compile(loss='binary_crossentropy',\n",
    "                optimizer=tf.keras.optimizers.legacy.Adam(),\n",
    "                metrics=['accuracy'])"
   ]
  },
  {
   "cell_type": "code",
   "execution_count": 74,
   "id": "ce70635e-a5dd-4a58-a47a-27e90443bc5b",
   "metadata": {},
   "outputs": [
    {
     "name": "stdout",
     "output_type": "stream",
     "text": [
      "INFO:py_learning_toolbox.ml_toolbox.modeling.callbacks:TensorBoard callback for logs/model_6_use/tensorboard/20230921-133930\n",
      "Epoch 1/5\n",
      "215/215 [==============================] - 2s 4ms/step - loss: 0.6476 - accuracy: 0.7341 - val_loss: 0.6112 - val_accuracy: 0.7703\n",
      "Epoch 2/5\n",
      "215/215 [==============================] - 1s 4ms/step - loss: 0.5813 - accuracy: 0.7870 - val_loss: 0.5629 - val_accuracy: 0.7861\n",
      "Epoch 3/5\n",
      "215/215 [==============================] - 1s 4ms/step - loss: 0.5388 - accuracy: 0.7945 - val_loss: 0.5316 - val_accuracy: 0.7900\n",
      "Epoch 4/5\n",
      "215/215 [==============================] - 1s 4ms/step - loss: 0.5103 - accuracy: 0.7974 - val_loss: 0.5108 - val_accuracy: 0.7874\n",
      "Epoch 5/5\n",
      "215/215 [==============================] - 1s 4ms/step - loss: 0.4903 - accuracy: 0.8003 - val_loss: 0.4966 - val_accuracy: 0.7874\n"
     ]
    }
   ],
   "source": [
    "# Callback and Fit\n",
    "model_6_history = model_6.fit(\n",
    "    train_sentences,\n",
    "    train_labels,\n",
    "    epochs=EPOCHS,\n",
    "    validation_data=(val_sentences, val_labels),\n",
    "    callbacks=[\n",
    "        ml_toolbox.modeling.callbacks.generate_tensorboard_callback(model_6_name),\n",
    "    ],\n",
    ")"
   ]
  },
  {
   "cell_type": "code",
   "execution_count": 75,
   "id": "cee1fa1b-b45b-492c-8abf-597a684b5968",
   "metadata": {},
   "outputs": [
    {
     "data": {
      "image/png": "[encoded data removed]",
      "text/plain": [
       "<Figure size 640x480 with 1 Axes>"
      ]
     },
     "metadata": {},
     "output_type": "display_data"
    }
   ],
   "source": [
    "ml_toolbox.analysis.history.plot_history(model_6_history, 'accuracy')"
   ]
  },
  {
   "cell_type": "code",
   "execution_count": 76,
   "id": "fc095472-7ccd-40a6-8a85-68390860efff",
   "metadata": {},
   "outputs": [
    {
     "name": "stdout",
     "output_type": "stream",
     "text": [
      "24/24 [==============================] - 0s 3ms/step\n"
     ]
    },
    {
     "data": {
      "text/plain": [
       "ClassificationPredictionMetrics(accuracy=0.7874015748031497, precision=0.7876057736843981, recall=0.7874015748031497, f1=0.7864229962328637, name='model_6_use')"
      ]
     },
     "execution_count": 76,
     "metadata": {},
     "output_type": "execute_result"
    }
   ],
   "source": [
    "model_6_pred_probs = model_6.predict(val_sentences)\n",
    "model_6_preds = tf.squeeze(tf.round(model_6_pred_probs))\n",
    "\n",
    "model_6_results = ml_toolbox.analysis.classification.generate_prediction_metrics(val_labels, model_6_preds, model_6_name)\n",
    "model_6_results"
   ]
  },
  {
   "cell_type": "code",
   "execution_count": 77,
   "id": "4ad1469b-1e24-4662-9541-f05e6af1a7dc",
   "metadata": {},
   "outputs": [
    {
     "data": {
      "text/plain": [
       "accuracy     False\n",
       "precision    False\n",
       "recall       False\n",
       "f1            True\n",
       "dtype: bool"
      ]
     },
     "execution_count": 77,
     "metadata": {},
     "output_type": "execute_result"
    }
   ],
   "source": [
    "compare_results(model_0_results, model_6_results)"
   ]
  },
  {
   "cell_type": "markdown",
   "id": "0b31b2b6-32f3-43fb-8ff4-5cc7c093fe94",
   "metadata": {},
   "source": [
    "#### Findings:\n",
    "\n",
    "Looks like this model beat the baseline the first time I ran this, but it was very close and isn't guranteed to beat it every time due to randomness."
   ]
  },
  {
   "cell_type": "markdown",
   "id": "3e802955-7661-4d08-a226-a9f04507a71e",
   "metadata": {
    "jp-MarkdownHeadingCollapsed": true
   },
   "source": [
    "### Experiment-7: TF Hub Pretrained USE but w/ 10% of Training Data\n",
    "\n",
    "Transfer learning helps when you don't have a large dataset. To see how our model performs on a smaller dataset, I am going to replicate model 6, but I will only train it on 10% of the data."
   ]
  },
  {
   "cell_type": "code",
   "execution_count": 78,
   "id": "97ff9759-ead0-4185-a833-f83e79452667",
   "metadata": {},
   "outputs": [],
   "source": [
    "# Constants\n",
    "model_7_name = 'model_7_use_10p'"
   ]
  },
  {
   "cell_type": "code",
   "execution_count": 79,
   "id": "4ef01066-c267-4534-9937-cfadb4dad604",
   "metadata": {},
   "outputs": [
    {
     "name": "stdout",
     "output_type": "stream",
     "text": [
      "INFO:absl:Fingerprint not found. Saved model loading will continue.\n",
      "Model: \"model_7_use_10p\"\n",
      "_________________________________________________________________\n",
      " Layer (type)                Output Shape              Param #   \n",
      "=================================================================\n",
      " USE (KerasLayer)            (None, 512)               256797824 \n",
      "                                                                 \n",
      " dense_5 (Dense)             (None, 1)                 513       \n",
      "                                                                 \n",
      "=================================================================\n",
      "Total params: 256798337 (979.61 MB)\n",
      "Trainable params: 513 (2.00 KB)\n",
      "Non-trainable params: 256797824 (979.61 MB)\n",
      "_________________________________________________________________\n"
     ]
    }
   ],
   "source": [
    "# Build Model\n",
    "model_7 = tf.keras.models.clone_model(model_6)\n",
    "model_7._name = model_7_name\n",
    "\n",
    "model_7.summary()"
   ]
  },
  {
   "cell_type": "code",
   "execution_count": 80,
   "id": "5ceaa15c-bdd6-4aa8-a210-a7be5a1a37ee",
   "metadata": {},
   "outputs": [],
   "source": [
    "# Compile model\n",
    "model_7.compile(loss='binary_crossentropy',\n",
    "                optimizer=tf.keras.optimizers.legacy.Adam(),\n",
    "                metrics=['accuracy'])"
   ]
  },
  {
   "cell_type": "code",
   "execution_count": 81,
   "id": "015b2f50-3c67-473c-ae24-e70c2d9dfdf7",
   "metadata": {},
   "outputs": [
    {
     "name": "stdout",
     "output_type": "stream",
     "text": [
      "INFO:py_learning_toolbox.ml_toolbox.modeling.callbacks:TensorBoard callback for logs/model_7_use_10p/tensorboard/20230921-133938\n",
      "Epoch 1/5\n",
      "22/22 [==============================] - 1s 15ms/step - loss: 0.6893 - accuracy: 0.5285 - val_loss: 0.6849 - val_accuracy: 0.6115\n",
      "Epoch 2/5\n",
      "22/22 [==============================] - 0s 6ms/step - loss: 0.6765 - accuracy: 0.6409 - val_loss: 0.6760 - val_accuracy: 0.6798\n",
      "Epoch 3/5\n",
      "22/22 [==============================] - 0s 6ms/step - loss: 0.6649 - accuracy: 0.7212 - val_loss: 0.6674 - val_accuracy: 0.7152\n",
      "Epoch 4/5\n",
      "22/22 [==============================] - 0s 6ms/step - loss: 0.6537 - accuracy: 0.7650 - val_loss: 0.6590 - val_accuracy: 0.7283\n",
      "Epoch 5/5\n",
      "22/22 [==============================] - 0s 7ms/step - loss: 0.6429 - accuracy: 0.7752 - val_loss: 0.6513 - val_accuracy: 0.7388\n"
     ]
    }
   ],
   "source": [
    "# Callback and Fit\n",
    "model_7_history = model_7.fit(\n",
    "    train_sentences_10_percent,\n",
    "    train_labels_10_percent,\n",
    "    epochs=EPOCHS,\n",
    "    validation_data=(val_sentences, val_labels),\n",
    "    callbacks=[\n",
    "        ml_toolbox.modeling.callbacks.generate_tensorboard_callback(model_7_name),\n",
    "    ],\n",
    ")"
   ]
  },
  {
   "cell_type": "code",
   "execution_count": 82,
   "id": "8306be35-b855-430a-9637-bc6977d65c7d",
   "metadata": {},
   "outputs": [
    {
     "data": {
      "image/png": "[encoded data removed]",
      "text/plain": [
       "<Figure size 640x480 with 1 Axes>"
      ]
     },
     "metadata": {},
     "output_type": "display_data"
    }
   ],
   "source": [
    "ml_toolbox.analysis.history.plot_history(model_7_history, 'accuracy')"
   ]
  },
  {
   "cell_type": "code",
   "execution_count": 83,
   "id": "ee0ff20a-a825-443e-a2a4-e559eee6959d",
   "metadata": {},
   "outputs": [
    {
     "name": "stdout",
     "output_type": "stream",
     "text": [
      "24/24 [==============================] - 0s 3ms/step\n"
     ]
    },
    {
     "data": {
      "text/plain": [
       "ClassificationPredictionMetrics(accuracy=0.7388451443569554, precision=0.7684082037138005, recall=0.7388451443569554, f1=0.7250290561544439, name='model_7_use_10p')"
      ]
     },
     "execution_count": 83,
     "metadata": {},
     "output_type": "execute_result"
    }
   ],
   "source": [
    "model_7_pred_probs = model_7.predict(val_sentences)\n",
    "model_7_preds = tf.squeeze(tf.round(model_7_pred_probs))\n",
    "\n",
    "model_7_results = ml_toolbox.analysis.classification.generate_prediction_metrics(val_labels, model_7_preds, model_7_name)\n",
    "model_7_results"
   ]
  },
  {
   "cell_type": "code",
   "execution_count": 84,
   "id": "927c6627-4c66-4f48-af76-5a6861d1dae0",
   "metadata": {},
   "outputs": [
    {
     "data": {
      "text/plain": [
       "accuracy     False\n",
       "precision    False\n",
       "recall       False\n",
       "f1           False\n",
       "dtype: bool"
      ]
     },
     "execution_count": 84,
     "metadata": {},
     "output_type": "execute_result"
    }
   ],
   "source": [
    "compare_results(model_0_results, model_7_results)"
   ]
  },
  {
   "cell_type": "markdown",
   "id": "ac083b5e-d8ab-4284-b44d-cf110485d908",
   "metadata": {},
   "source": [
    "#### Findings\n",
    "\n",
    "Even with only 10% of the data, it performed only slightly worse than when training the model on 100% of the data."
   ]
  },
  {
   "cell_type": "markdown",
   "id": "22d40072-35cc-4e78-b789-4a103921059f",
   "metadata": {
    "jp-MarkdownHeadingCollapsed": true
   },
   "source": [
    "## Analysis\n",
    "\n",
    "Now that I have run through multiple experiments, I am going to compare the performance of each experiment."
   ]
  },
  {
   "cell_type": "code",
   "execution_count": 85,
   "id": "775c8613-573e-499d-b319-a724b1db32f9",
   "metadata": {},
   "outputs": [
    {
     "data": {
      "text/html": [
       "<div>\n",
       "<style scoped>\n",
       "    .dataframe tbody tr th:only-of-type {\n",
       "        vertical-align: middle;\n",
       "    }\n",
       "\n",
       "    .dataframe tbody tr th {\n",
       "        vertical-align: top;\n",
       "    }\n",
       "\n",
       "    .dataframe thead th {\n",
       "        text-align: right;\n",
       "    }\n",
       "</style>\n",
       "<table border=\"1\" class=\"dataframe\">\n",
       "  <thead>\n",
       "    <tr style=\"text-align: right;\">\n",
       "      <th></th>\n",
       "      <th>accuracy</th>\n",
       "      <th>precision</th>\n",
       "      <th>recall</th>\n",
       "      <th>f1</th>\n",
       "    </tr>\n",
       "  </thead>\n",
       "  <tbody>\n",
       "    <tr>\n",
       "      <th>model_0_naive_bayes</th>\n",
       "      <td>0.792651</td>\n",
       "      <td>0.811139</td>\n",
       "      <td>0.792651</td>\n",
       "      <td>0.786219</td>\n",
       "    </tr>\n",
       "    <tr>\n",
       "      <th>model_1_feed_forward</th>\n",
       "      <td>0.791339</td>\n",
       "      <td>0.796210</td>\n",
       "      <td>0.791339</td>\n",
       "      <td>0.788475</td>\n",
       "    </tr>\n",
       "    <tr>\n",
       "      <th>model_2_lstm</th>\n",
       "      <td>0.770341</td>\n",
       "      <td>0.770121</td>\n",
       "      <td>0.770341</td>\n",
       "      <td>0.769520</td>\n",
       "    </tr>\n",
       "    <tr>\n",
       "      <th>model_3_gru</th>\n",
       "      <td>0.775591</td>\n",
       "      <td>0.778361</td>\n",
       "      <td>0.775591</td>\n",
       "      <td>0.773092</td>\n",
       "    </tr>\n",
       "    <tr>\n",
       "      <th>model_4_bidirectional_lstm</th>\n",
       "      <td>0.762467</td>\n",
       "      <td>0.764245</td>\n",
       "      <td>0.762467</td>\n",
       "      <td>0.760108</td>\n",
       "    </tr>\n",
       "    <tr>\n",
       "      <th>model_5_1d_cnn</th>\n",
       "      <td>0.759843</td>\n",
       "      <td>0.760458</td>\n",
       "      <td>0.759843</td>\n",
       "      <td>0.758116</td>\n",
       "    </tr>\n",
       "    <tr>\n",
       "      <th>model_6_use</th>\n",
       "      <td>0.787402</td>\n",
       "      <td>0.787606</td>\n",
       "      <td>0.787402</td>\n",
       "      <td>0.786423</td>\n",
       "    </tr>\n",
       "    <tr>\n",
       "      <th>model_7_use_10p</th>\n",
       "      <td>0.738845</td>\n",
       "      <td>0.768408</td>\n",
       "      <td>0.738845</td>\n",
       "      <td>0.725029</td>\n",
       "    </tr>\n",
       "  </tbody>\n",
       "</table>\n",
       "</div>"
      ],
      "text/plain": [
       "                            accuracy  precision    recall        f1\n",
       "model_0_naive_bayes         0.792651   0.811139  0.792651  0.786219\n",
       "model_1_feed_forward        0.791339   0.796210  0.791339  0.788475\n",
       "model_2_lstm                0.770341   0.770121  0.770341  0.769520\n",
       "model_3_gru                 0.775591   0.778361  0.775591  0.773092\n",
       "model_4_bidirectional_lstm  0.762467   0.764245  0.762467  0.760108\n",
       "model_5_1d_cnn              0.759843   0.760458  0.759843  0.758116\n",
       "model_6_use                 0.787402   0.787606  0.787402  0.786423\n",
       "model_7_use_10p             0.738845   0.768408  0.738845  0.725029"
      ]
     },
     "execution_count": 85,
     "metadata": {},
     "output_type": "execute_result"
    }
   ],
   "source": [
    "all_models = [\n",
    "    model_0_results,\n",
    "    model_1_results,\n",
    "    model_2_results,\n",
    "    model_3_results,\n",
    "    model_4_results,\n",
    "    model_5_results,\n",
    "    model_6_results,\n",
    "    model_7_results,\n",
    "]\n",
    "\n",
    "all_model_results = ml_toolbox.analysis.classification.generate_prediction_metrics_dataframe(all_models)\n",
    "all_model_results"
   ]
  },
  {
   "cell_type": "code",
   "execution_count": 86,
   "id": "b4a0af41-1905-4005-b27d-95e094904091",
   "metadata": {},
   "outputs": [
    {
     "data": {
      "text/plain": [
       "<matplotlib.legend.Legend at 0x345abacd0>"
      ]
     },
     "execution_count": 86,
     "metadata": {},
     "output_type": "execute_result"
    },
    {
     "data": {
      "image/png": "[encoded data removed]",
      "text/plain": [
       "<Figure size 1000x700 with 1 Axes>"
      ]
     },
     "metadata": {},
     "output_type": "display_data"
    }
   ],
   "source": [
    "# Plot and compare all of the model results\n",
    "all_model_results.plot(kind='bar', figsize=(10, 7)).legend(bbox_to_anchor=(1.0, 1.0))"
   ]
  },
  {
   "cell_type": "code",
   "execution_count": 87,
   "id": "610fa8b6-7f6e-42ee-97c5-ba91a93e5692",
   "metadata": {},
   "outputs": [
    {
     "data": {
      "text/plain": [
       "<Axes: >"
      ]
     },
     "execution_count": 87,
     "metadata": {},
     "output_type": "execute_result"
    },
    {
     "data": {
      "image/png": "[encoded data removed]",
      "text/plain": [
       "<Figure size 1000x700 with 1 Axes>"
      ]
     },
     "metadata": {},
     "output_type": "display_data"
    }
   ],
   "source": [
    "all_model_results.sort_values('f1', ascending=False)['f1'].plot(kind='bar', figsize=(10, 7))"
   ]
  },
  {
   "cell_type": "markdown",
   "id": "70239b9d-d4f9-4046-adfe-262be33f4d53",
   "metadata": {
    "jp-MarkdownHeadingCollapsed": true
   },
   "source": [
    "## Finding Most Wrong Examples\n",
    "\n",
    "* If our best model still isn't perfect, what examples is it getting wrong?\n",
    "* And of these wrong examples, which ones is it getting *most* wrong.\n",
    "\n",
    "For example if a sample should have a label of 0, but our model predicts a prediction probability of 0.999, that is pretty wrong.\n",
    "\n",
    "To do this, I am going to look at Model 6 because that model performed the best."
   ]
  },
  {
   "cell_type": "code",
   "execution_count": 88,
   "id": "0dd3d86a-f79c-437b-be0e-dd1b80320d39",
   "metadata": {},
   "outputs": [
    {
     "data": {
      "text/plain": [
       "(array([[0.35629064],\n",
       "        [0.67970073],\n",
       "        [0.8457373 ],\n",
       "        [0.32042992],\n",
       "        [0.64254284],\n",
       "        [0.72784024],\n",
       "        [0.82995033],\n",
       "        [0.835794  ],\n",
       "        [0.7496509 ],\n",
       "        [0.20943247]], dtype=float32),\n",
       " <tf.Tensor: shape=(10,), dtype=float32, numpy=array([0., 1., 1., 0., 1., 1., 1., 1., 1., 0.], dtype=float32)>)"
      ]
     },
     "execution_count": 88,
     "metadata": {},
     "output_type": "execute_result"
    }
   ],
   "source": [
    "model_6_pred_probs[:10], model_6_preds[:10]"
   ]
  },
  {
   "cell_type": "code",
   "execution_count": 89,
   "id": "1274d4e7-646c-493a-aa87-b976b88c78b1",
   "metadata": {},
   "outputs": [
    {
     "data": {
      "text/html": [
       "<div>\n",
       "<style scoped>\n",
       "    .dataframe tbody tr th:only-of-type {\n",
       "        vertical-align: middle;\n",
       "    }\n",
       "\n",
       "    .dataframe tbody tr th {\n",
       "        vertical-align: top;\n",
       "    }\n",
       "\n",
       "    .dataframe thead th {\n",
       "        text-align: right;\n",
       "    }\n",
       "</style>\n",
       "<table border=\"1\" class=\"dataframe\">\n",
       "  <thead>\n",
       "    <tr style=\"text-align: right;\">\n",
       "      <th></th>\n",
       "      <th>text</th>\n",
       "      <th>target</th>\n",
       "      <th>pred</th>\n",
       "      <th>pred_prob</th>\n",
       "    </tr>\n",
       "  </thead>\n",
       "  <tbody>\n",
       "    <tr>\n",
       "      <th>0</th>\n",
       "      <td>DFR EP016 Monthly Meltdown - On Dnbheaven 2015...</td>\n",
       "      <td>0</td>\n",
       "      <td>0.0</td>\n",
       "      <td>0.356291</td>\n",
       "    </tr>\n",
       "    <tr>\n",
       "      <th>1</th>\n",
       "      <td>FedEx no longer to transport bioterror germs i...</td>\n",
       "      <td>0</td>\n",
       "      <td>1.0</td>\n",
       "      <td>0.679701</td>\n",
       "    </tr>\n",
       "    <tr>\n",
       "      <th>2</th>\n",
       "      <td>Gunmen kill four in El Salvador bus attack: Su...</td>\n",
       "      <td>1</td>\n",
       "      <td>1.0</td>\n",
       "      <td>0.845737</td>\n",
       "    </tr>\n",
       "    <tr>\n",
       "      <th>3</th>\n",
       "      <td>@camilacabello97 Internally and externally scr...</td>\n",
       "      <td>1</td>\n",
       "      <td>0.0</td>\n",
       "      <td>0.320430</td>\n",
       "    </tr>\n",
       "    <tr>\n",
       "      <th>4</th>\n",
       "      <td>Radiation emergency #preparedness starts with ...</td>\n",
       "      <td>1</td>\n",
       "      <td>1.0</td>\n",
       "      <td>0.642543</td>\n",
       "    </tr>\n",
       "  </tbody>\n",
       "</table>\n",
       "</div>"
      ],
      "text/plain": [
       "                                                text  target  pred  pred_prob\n",
       "0  DFR EP016 Monthly Meltdown - On Dnbheaven 2015...       0   0.0   0.356291\n",
       "1  FedEx no longer to transport bioterror germs i...       0   1.0   0.679701\n",
       "2  Gunmen kill four in El Salvador bus attack: Su...       1   1.0   0.845737\n",
       "3  @camilacabello97 Internally and externally scr...       1   0.0   0.320430\n",
       "4  Radiation emergency #preparedness starts with ...       1   1.0   0.642543"
      ]
     },
     "execution_count": 89,
     "metadata": {},
     "output_type": "execute_result"
    }
   ],
   "source": [
    "# CReateing DataFram with data\n",
    "val_df = pd.DataFrame({\n",
    "    'text': val_sentences,\n",
    "    'target': val_labels,\n",
    "    'pred': model_6_preds,\n",
    "    'pred_prob': tf.squeeze(model_6_pred_probs)\n",
    "})\n",
    "val_df.head()"
   ]
  },
  {
   "cell_type": "code",
   "execution_count": 90,
   "id": "78ac3609-6c83-4bcb-adeb-24717ddd7492",
   "metadata": {},
   "outputs": [
    {
     "data": {
      "text/html": [
       "<div>\n",
       "<style scoped>\n",
       "    .dataframe tbody tr th:only-of-type {\n",
       "        vertical-align: middle;\n",
       "    }\n",
       "\n",
       "    .dataframe tbody tr th {\n",
       "        vertical-align: top;\n",
       "    }\n",
       "\n",
       "    .dataframe thead th {\n",
       "        text-align: right;\n",
       "    }\n",
       "</style>\n",
       "<table border=\"1\" class=\"dataframe\">\n",
       "  <thead>\n",
       "    <tr style=\"text-align: right;\">\n",
       "      <th></th>\n",
       "      <th>text</th>\n",
       "      <th>target</th>\n",
       "      <th>pred</th>\n",
       "      <th>pred_prob</th>\n",
       "    </tr>\n",
       "  </thead>\n",
       "  <tbody>\n",
       "    <tr>\n",
       "      <th>49</th>\n",
       "      <td>@madonnamking RSPCA site multiple 7 story high...</td>\n",
       "      <td>0</td>\n",
       "      <td>1.0</td>\n",
       "      <td>0.810396</td>\n",
       "    </tr>\n",
       "    <tr>\n",
       "      <th>31</th>\n",
       "      <td>? High Skies - Burning Buildings ? http://t.co...</td>\n",
       "      <td>0</td>\n",
       "      <td>1.0</td>\n",
       "      <td>0.757392</td>\n",
       "    </tr>\n",
       "    <tr>\n",
       "      <th>393</th>\n",
       "      <td>@SonofLiberty357 all illuminated by the bright...</td>\n",
       "      <td>0</td>\n",
       "      <td>1.0</td>\n",
       "      <td>0.750449</td>\n",
       "    </tr>\n",
       "    <tr>\n",
       "      <th>181</th>\n",
       "      <td>Article by Michael Jackman at Metro Times Detr...</td>\n",
       "      <td>0</td>\n",
       "      <td>1.0</td>\n",
       "      <td>0.707782</td>\n",
       "    </tr>\n",
       "    <tr>\n",
       "      <th>759</th>\n",
       "      <td>FedEx will no longer transport bioterror patho...</td>\n",
       "      <td>0</td>\n",
       "      <td>1.0</td>\n",
       "      <td>0.700920</td>\n",
       "    </tr>\n",
       "    <tr>\n",
       "      <th>80</th>\n",
       "      <td>GENERAL AUDIENCE: On Wounded Families | ZENIT ...</td>\n",
       "      <td>0</td>\n",
       "      <td>1.0</td>\n",
       "      <td>0.690110</td>\n",
       "    </tr>\n",
       "    <tr>\n",
       "      <th>630</th>\n",
       "      <td>Hollywood movie about trapped miners released ...</td>\n",
       "      <td>0</td>\n",
       "      <td>1.0</td>\n",
       "      <td>0.687844</td>\n",
       "    </tr>\n",
       "    <tr>\n",
       "      <th>695</th>\n",
       "      <td>A look at state actions a year after Ferguson'...</td>\n",
       "      <td>0</td>\n",
       "      <td>1.0</td>\n",
       "      <td>0.684901</td>\n",
       "    </tr>\n",
       "    <tr>\n",
       "      <th>1</th>\n",
       "      <td>FedEx no longer to transport bioterror germs i...</td>\n",
       "      <td>0</td>\n",
       "      <td>1.0</td>\n",
       "      <td>0.679701</td>\n",
       "    </tr>\n",
       "    <tr>\n",
       "      <th>109</th>\n",
       "      <td>[55436] 1950 LIONEL TRAINS SMOKE LOCOMOTIVES W...</td>\n",
       "      <td>0</td>\n",
       "      <td>1.0</td>\n",
       "      <td>0.671953</td>\n",
       "    </tr>\n",
       "  </tbody>\n",
       "</table>\n",
       "</div>"
      ],
      "text/plain": [
       "                                                  text  target  pred  \\\n",
       "49   @madonnamking RSPCA site multiple 7 story high...       0   1.0   \n",
       "31   ? High Skies - Burning Buildings ? http://t.co...       0   1.0   \n",
       "393  @SonofLiberty357 all illuminated by the bright...       0   1.0   \n",
       "181  Article by Michael Jackman at Metro Times Detr...       0   1.0   \n",
       "759  FedEx will no longer transport bioterror patho...       0   1.0   \n",
       "80   GENERAL AUDIENCE: On Wounded Families | ZENIT ...       0   1.0   \n",
       "630  Hollywood movie about trapped miners released ...       0   1.0   \n",
       "695  A look at state actions a year after Ferguson'...       0   1.0   \n",
       "1    FedEx no longer to transport bioterror germs i...       0   1.0   \n",
       "109  [55436] 1950 LIONEL TRAINS SMOKE LOCOMOTIVES W...       0   1.0   \n",
       "\n",
       "     pred_prob  \n",
       "49    0.810396  \n",
       "31    0.757392  \n",
       "393   0.750449  \n",
       "181   0.707782  \n",
       "759   0.700920  \n",
       "80    0.690110  \n",
       "630   0.687844  \n",
       "695   0.684901  \n",
       "1     0.679701  \n",
       "109   0.671953  "
      ]
     },
     "execution_count": 90,
     "metadata": {},
     "output_type": "execute_result"
    }
   ],
   "source": [
    "# Find wrong predictions and sort by prediction probs\n",
    "most_wrong = val_df[val_df['target'] != val_df['pred']].sort_values('pred_prob', ascending=False)\n",
    "most_wrong[:10]"
   ]
  },
  {
   "cell_type": "code",
   "execution_count": 91,
   "id": "f5c14948-9146-4e47-a999-592af273a7c4",
   "metadata": {},
   "outputs": [
    {
     "data": {
      "text/html": [
       "<div>\n",
       "<style scoped>\n",
       "    .dataframe tbody tr th:only-of-type {\n",
       "        vertical-align: middle;\n",
       "    }\n",
       "\n",
       "    .dataframe tbody tr th {\n",
       "        vertical-align: top;\n",
       "    }\n",
       "\n",
       "    .dataframe thead th {\n",
       "        text-align: right;\n",
       "    }\n",
       "</style>\n",
       "<table border=\"1\" class=\"dataframe\">\n",
       "  <thead>\n",
       "    <tr style=\"text-align: right;\">\n",
       "      <th></th>\n",
       "      <th>text</th>\n",
       "      <th>target</th>\n",
       "      <th>pred</th>\n",
       "      <th>pred_prob</th>\n",
       "    </tr>\n",
       "  </thead>\n",
       "  <tbody>\n",
       "    <tr>\n",
       "      <th>408</th>\n",
       "      <td>@willienelson We need help! Horses will die!Pl...</td>\n",
       "      <td>1</td>\n",
       "      <td>0.0</td>\n",
       "      <td>0.176523</td>\n",
       "    </tr>\n",
       "    <tr>\n",
       "      <th>382</th>\n",
       "      <td>I wanna set some shit on fire.</td>\n",
       "      <td>1</td>\n",
       "      <td>0.0</td>\n",
       "      <td>0.173631</td>\n",
       "    </tr>\n",
       "    <tr>\n",
       "      <th>23</th>\n",
       "      <td>Ron &amp;amp; Fez - Dave's High School Crush https...</td>\n",
       "      <td>1</td>\n",
       "      <td>0.0</td>\n",
       "      <td>0.170587</td>\n",
       "    </tr>\n",
       "    <tr>\n",
       "      <th>536</th>\n",
       "      <td>@DavidVonderhaar At least you were sincere ??</td>\n",
       "      <td>1</td>\n",
       "      <td>0.0</td>\n",
       "      <td>0.168815</td>\n",
       "    </tr>\n",
       "    <tr>\n",
       "      <th>244</th>\n",
       "      <td>Reddit Will Now QuarantineÛ_ http://t.co/pkUA...</td>\n",
       "      <td>1</td>\n",
       "      <td>0.0</td>\n",
       "      <td>0.168527</td>\n",
       "    </tr>\n",
       "    <tr>\n",
       "      <th>722</th>\n",
       "      <td>Indeed!! I am fully aware of that battle! I su...</td>\n",
       "      <td>1</td>\n",
       "      <td>0.0</td>\n",
       "      <td>0.167919</td>\n",
       "    </tr>\n",
       "    <tr>\n",
       "      <th>681</th>\n",
       "      <td>'The way you move is like a full on rainstorm ...</td>\n",
       "      <td>1</td>\n",
       "      <td>0.0</td>\n",
       "      <td>0.162055</td>\n",
       "    </tr>\n",
       "    <tr>\n",
       "      <th>352</th>\n",
       "      <td>@reriellechan HE WAS THE LICH KING'S FIRST CAS...</td>\n",
       "      <td>1</td>\n",
       "      <td>0.0</td>\n",
       "      <td>0.158945</td>\n",
       "    </tr>\n",
       "    <tr>\n",
       "      <th>233</th>\n",
       "      <td>I get to smoke my shit in peace</td>\n",
       "      <td>1</td>\n",
       "      <td>0.0</td>\n",
       "      <td>0.123209</td>\n",
       "    </tr>\n",
       "    <tr>\n",
       "      <th>411</th>\n",
       "      <td>@SoonerMagic_ I mean I'm a fan but I don't nee...</td>\n",
       "      <td>1</td>\n",
       "      <td>0.0</td>\n",
       "      <td>0.118945</td>\n",
       "    </tr>\n",
       "  </tbody>\n",
       "</table>\n",
       "</div>"
      ],
      "text/plain": [
       "                                                  text  target  pred  \\\n",
       "408  @willienelson We need help! Horses will die!Pl...       1   0.0   \n",
       "382                     I wanna set some shit on fire.       1   0.0   \n",
       "23   Ron &amp; Fez - Dave's High School Crush https...       1   0.0   \n",
       "536      @DavidVonderhaar At least you were sincere ??       1   0.0   \n",
       "244  Reddit Will Now QuarantineÛ_ http://t.co/pkUA...       1   0.0   \n",
       "722  Indeed!! I am fully aware of that battle! I su...       1   0.0   \n",
       "681  'The way you move is like a full on rainstorm ...       1   0.0   \n",
       "352  @reriellechan HE WAS THE LICH KING'S FIRST CAS...       1   0.0   \n",
       "233                    I get to smoke my shit in peace       1   0.0   \n",
       "411  @SoonerMagic_ I mean I'm a fan but I don't nee...       1   0.0   \n",
       "\n",
       "     pred_prob  \n",
       "408   0.176523  \n",
       "382   0.173631  \n",
       "23    0.170587  \n",
       "536   0.168815  \n",
       "244   0.168527  \n",
       "722   0.167919  \n",
       "681   0.162055  \n",
       "352   0.158945  \n",
       "233   0.123209  \n",
       "411   0.118945  "
      ]
     },
     "execution_count": 91,
     "metadata": {},
     "output_type": "execute_result"
    }
   ],
   "source": [
    "most_wrong[-10:]"
   ]
  },
  {
   "cell_type": "code",
   "execution_count": 92,
   "id": "83248740-bbe2-4221-80f9-35ee26f15914",
   "metadata": {},
   "outputs": [
    {
     "name": "stdout",
     "output_type": "stream",
     "text": [
      "Target: 1, Pred: 0.0, Prob: 0.1765231490135193\n",
      "Text:  @willienelson We need help! Horses will die!Please RT &amp; sign petition!Take a stand &amp; be a voice for them! #gilbert23 https://t.co/e8dl1lNCVu\n",
      "--------------------------------------------------------------------------------\n",
      "Target: 1, Pred: 0.0, Prob: 0.17363113164901733\n",
      "Text:  I wanna set some shit on fire.\n",
      "--------------------------------------------------------------------------------\n",
      "Target: 1, Pred: 0.0, Prob: 0.17058710753917694\n",
      "Text:  Ron &amp; Fez - Dave's High School Crush https://t.co/aN3W16c8F6 via @YouTube\n",
      "--------------------------------------------------------------------------------\n",
      "Target: 1, Pred: 0.0, Prob: 0.16881507635116577\n",
      "Text:  @DavidVonderhaar At least you were sincere ??\n",
      "--------------------------------------------------------------------------------\n",
      "Target: 1, Pred: 0.0, Prob: 0.16852742433547974\n",
      "Text:  Reddit Will Now QuarantineÛ_ http://t.co/pkUAMXw6pm #onlinecommunities #reddit #amageddon #freespeech #Business http://t.co/PAWvNJ4sAP\n",
      "--------------------------------------------------------------------------------\n",
      "Target: 1, Pred: 0.0, Prob: 0.16791874170303345\n",
      "Text:  Indeed!! I am fully aware of that battle! I support you in that fight!!  https://t.co/MctJnZX4H8\n",
      "--------------------------------------------------------------------------------\n",
      "Target: 1, Pred: 0.0, Prob: 0.16205492615699768\n",
      "Text:  'The way you move is like a full on rainstorm and I'm a house of cards'\n",
      "--------------------------------------------------------------------------------\n",
      "Target: 1, Pred: 0.0, Prob: 0.15894509851932526\n",
      "Text:  @reriellechan HE WAS THE LICH KING'S FIRST CASUALTY BLOCK ME BACK I HATE YOU! http://t.co/0Gidg9U45J\n",
      "--------------------------------------------------------------------------------\n",
      "Target: 1, Pred: 0.0, Prob: 0.12320881336927414\n",
      "Text:  I get to smoke my shit in peace\n",
      "--------------------------------------------------------------------------------\n",
      "Target: 1, Pred: 0.0, Prob: 0.11894482374191284\n",
      "Text:  @SoonerMagic_ I mean I'm a fan but I don't need a girl sounding off like a damn siren\n",
      "--------------------------------------------------------------------------------\n"
     ]
    }
   ],
   "source": [
    "for row in most_wrong[-10:].itertuples():\n",
    "    _, text, target, pred, pred_prob = row\n",
    "    print(f'Target: {target}, Pred: {pred}, Prob: {pred_prob}')\n",
    "    print('Text: ', text)\n",
    "    print('-' * 80)"
   ]
  },
  {
   "cell_type": "markdown",
   "id": "e1174c26-cc49-4562-9832-aeddf59bc60c",
   "metadata": {
    "jp-MarkdownHeadingCollapsed": true
   },
   "source": [
    "## Making Predictions on Test Dataset"
   ]
  },
  {
   "cell_type": "code",
   "execution_count": 93,
   "id": "113a105c-76bc-4511-b90b-9ff74ed9cc29",
   "metadata": {},
   "outputs": [
    {
     "name": "stdout",
     "output_type": "stream",
     "text": [
      "1/1 [==============================] - 0s 15ms/step\n",
      "Pred: 1, Prob: 0.6205379366874695\n",
      "Text:  #LMÛªs @frauncestavern named one of the historic properties granted $$ by @NYGovCuomo to repair #Sandy damage http://t.co/OcAdC8vFyF\n",
      "-------------------------------------------------------------------------------- \n",
      "\n",
      "1/1 [==============================] - 0s 14ms/step\n",
      "Pred: 0, Prob: 0.2506726384162903\n",
      "Text:  RT: A real burn book entry about CA: why the fuck is this place always BURNING\n",
      "-------------------------------------------------------------------------------- \n",
      "\n",
      "1/1 [==============================] - 0s 14ms/step\n",
      "Pred: 0, Prob: 0.4248542785644531\n",
      "Text:  RT MME_AUSTIN: Why #Marijuana Is Critical For Research in Treating #PTSD\n",
      "\n",
      "http://t.co/T6fuAhFp7p \n",
      "#hempoil #cannÛ_ http://t.co/RhE7dXM7Ey\n",
      "-------------------------------------------------------------------------------- \n",
      "\n",
      "1/1 [==============================] - 0s 14ms/step\n",
      "Pred: 0, Prob: 0.21992143988609314\n",
      "Text:  To All The Meat-Loving Feminists Of The World Riot Grill Has Arrived: Pop quiz! Which do you prefer: feminist... http://t.co/MoGytSxvOa\n",
      "-------------------------------------------------------------------------------- \n",
      "\n",
      "1/1 [==============================] - 0s 14ms/step\n",
      "Pred: 1, Prob: 0.7104682326316833\n",
      "Text:  Green Line trains resume service after South Side derailment: Green Line service has resumed more than four h... http://t.co/dJztc7apf1\n",
      "-------------------------------------------------------------------------------- \n",
      "\n"
     ]
    }
   ],
   "source": [
    "test_sentences = test_data['text'].to_list()\n",
    "test_samples = random.sample(test_sentences, 5)\n",
    "\n",
    "for test_sample in test_samples:\n",
    "    pred_prob = tf.squeeze(model_6.predict([test_sample]))\n",
    "    pred = tf.round(pred_prob)\n",
    "\n",
    "    print(f'Pred: {int(pred)}, Prob: {pred_prob}')\n",
    "    print('Text: ', test_sample)\n",
    "    print('-' * 80, '\\n')"
   ]
  },
  {
   "cell_type": "markdown",
   "id": "fc57bb11-7bd8-4ee0-805b-13a9939a1d11",
   "metadata": {
    "jp-MarkdownHeadingCollapsed": true
   },
   "source": [
    "## Speed vs. Score Tradeoff"
   ]
  },
  {
   "cell_type": "code",
   "execution_count": 94,
   "id": "99ff8af5-ae18-4adc-bc40-b4435c4c64db",
   "metadata": {},
   "outputs": [
    {
     "name": "stdout",
     "output_type": "stream",
     "text": [
      "24/24 [==============================] - 0s 3ms/step\n"
     ]
    },
    {
     "data": {
      "text/plain": [
       "Performance(total_time=0.09662341699998933, total_predictions=762, name='model_6_use')"
      ]
     },
     "execution_count": 94,
     "metadata": {},
     "output_type": "execute_result"
    }
   ],
   "source": [
    "model_6_performance = performance_toolbox.model.time_predictions(model_6, val_sentences, name=model_6_name)\n",
    "model_6_performance"
   ]
  },
  {
   "cell_type": "code",
   "execution_count": 95,
   "id": "97af77e9-702e-4f9a-9888-5a19e0cc6f5b",
   "metadata": {},
   "outputs": [
    {
     "data": {
      "text/plain": [
       "Performance(total_time=0.00801537499999938, total_predictions=762, name='model_0_naive_bayes')"
      ]
     },
     "execution_count": 95,
     "metadata": {},
     "output_type": "execute_result"
    }
   ],
   "source": [
    "model_0_performance = performance_toolbox.model.time_predictions(model_0, val_sentences, name=model_0_name)\n",
    "model_0_performance"
   ]
  },
  {
   "cell_type": "code",
   "execution_count": 96,
   "id": "53b9e087-cbb8-4cf0-b1b5-40ff670baada",
   "metadata": {},
   "outputs": [
    {
     "data": {
      "image/png": "[encoded data removed]",
      "text/plain": [
       "<Figure size 800x500 with 1 Axes>"
      ]
     },
     "metadata": {},
     "output_type": "display_data"
    }
   ],
   "source": [
    "plt.figure(figsize=(8,5))\n",
    "plt.scatter(model_0_performance.time_per_prediction, model_0_results.f1, label='baseline')\n",
    "plt.scatter(model_6_performance.time_per_prediction, model_6_results.f1, label='model 6')\n",
    "plt.legend()\n",
    "plt.title('F1-score vs. Time per prediction');"
   ]
  },
  {
   "cell_type": "markdown",
   "id": "46c38296-c67c-4d9c-beca-2171cad85210",
   "metadata": {},
   "source": [
    "#### Findings\n",
    "\n",
    "When comparing out best model against our baseline model, the time difference is significant, even though the `F1` is virtually identical."
   ]
  }
 ],
 "metadata": {
  "kernelspec": {
   "display_name": "Python 3 (ipykernel)",
   "language": "python",
   "name": "python3"
  },
  "language_info": {
   "codemirror_mode": {
    "name": "ipython",
    "version": 3
   },
   "file_extension": ".py",
   "mimetype": "text/x-python",
   "name": "python",
   "nbconvert_exporter": "python",
   "pygments_lexer": "ipython3",
   "version": "3.9.6"
  }
 },
 "nbformat": 4,
 "nbformat_minor": 5
}
