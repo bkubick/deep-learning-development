{
 "cells": [
  {
   "attachments": {},
   "cell_type": "markdown",
   "id": "eaa98ac5",
   "metadata": {},
   "source": [
    "# Fundamental of Numpy\n",
    "\n",
    "Numpy is a library built on top of C++, commonly used in data science and machine learning. This is typically the backbone for many other machine learning algs. For instance, pandas DataFrame's are built on numpy arrays."
   ]
  },
  {
   "cell_type": "code",
   "execution_count": null,
   "id": "33db2716",
   "metadata": {},
   "outputs": [],
   "source": [
    "from matplotlib.image import imread\n",
    "import numpy as np\n",
    "import pandas as pd"
   ]
  },
  {
   "attachments": {},
   "cell_type": "markdown",
   "id": "6d2e2e86",
   "metadata": {},
   "source": [
    "## DataTypes & Attributes\n",
    "\n",
    "Numpy's main datatype is ndarray"
   ]
  },
  {
   "cell_type": "code",
   "execution_count": null,
   "id": "28d8e4ad",
   "metadata": {},
   "outputs": [],
   "source": [
    "a1 = np.array([1, 2, 3])\n",
    "a1, type(a1)"
   ]
  },
  {
   "cell_type": "code",
   "execution_count": null,
   "id": "78983a71",
   "metadata": {},
   "outputs": [],
   "source": [
    "# Shape = (2, 3)\n",
    "a2 = np.array([[1, 2.0, 3.3],\n",
    "               [4, 5,6.5]])\n",
    "\n",
    "# Shape = (2, 3, 3)\n",
    "a3 = np.array([[[1, 2, 3],\n",
    "                [4, 5, 6],\n",
    "                [7, 8, 9]],\n",
    "               \n",
    "               [[10, 11, 12],\n",
    "                [13, 14, 15],\n",
    "                [16, 17, 18]]])\n",
    "a2, a3"
   ]
  },
  {
   "cell_type": "code",
   "execution_count": null,
   "id": "6fa3bc18",
   "metadata": {},
   "outputs": [],
   "source": [
    "# Looking at shapes\n",
    "a1.shape, a2.shape, a3.shape"
   ]
  },
  {
   "cell_type": "code",
   "execution_count": null,
   "id": "bb94ed39",
   "metadata": {},
   "outputs": [],
   "source": [
    "# Looking at dims\n",
    "a1.ndim, a2.ndim, a3.ndim"
   ]
  },
  {
   "cell_type": "code",
   "execution_count": null,
   "id": "cfaa6ee3",
   "metadata": {},
   "outputs": [],
   "source": [
    "# Looking at data types\n",
    "a1.dtype, a2.dtype, a3.dtype"
   ]
  },
  {
   "cell_type": "code",
   "execution_count": null,
   "id": "da9599fe",
   "metadata": {},
   "outputs": [],
   "source": [
    "# Looking at size\n",
    "a1.size, a2.size, a3.size"
   ]
  },
  {
   "attachments": {},
   "cell_type": "markdown",
   "id": "7bd00d0e",
   "metadata": {},
   "source": [
    "## Creating Numpy Arrays"
   ]
  },
  {
   "cell_type": "code",
   "execution_count": null,
   "id": "4ca28fba",
   "metadata": {},
   "outputs": [],
   "source": [
    "\n",
    "sample_array= np.array([1,2 ,3])\n",
    "sample_array, sample_array.dtype"
   ]
  },
  {
   "cell_type": "code",
   "execution_count": null,
   "id": "01c4632e",
   "metadata": {},
   "outputs": [],
   "source": [
    "# ones array\n",
    "ones = np.ones((2, 3))\n",
    "ones, ones.dtype"
   ]
  },
  {
   "cell_type": "code",
   "execution_count": null,
   "id": "69efcfb8",
   "metadata": {},
   "outputs": [],
   "source": [
    "# zeros array\n",
    "zeros = np.zeros((2, 3))\n",
    "zeros, zeros.dtype"
   ]
  },
  {
   "cell_type": "code",
   "execution_count": null,
   "id": "54f126f4",
   "metadata": {},
   "outputs": [],
   "source": [
    "# Range array\n",
    "range_array = np.arange(0, 10, 2)\n",
    "range_array, range_array.dtype"
   ]
  },
  {
   "cell_type": "code",
   "execution_count": null,
   "id": "a87e4998",
   "metadata": {},
   "outputs": [],
   "source": [
    "# Random array of integers\n",
    "random_array = np.random.randint(0, 10, size=(3, 5))\n",
    "random_array"
   ]
  },
  {
   "cell_type": "code",
   "execution_count": null,
   "id": "9f6fdd51",
   "metadata": {},
   "outputs": [],
   "source": [
    "# Random array of floats between 0 and 1\n",
    "random_array_2 = np.random.random((5, 3))\n",
    "random_array_2"
   ]
  },
  {
   "cell_type": "code",
   "execution_count": null,
   "id": "07f452d0",
   "metadata": {},
   "outputs": [],
   "source": [
    "# Random array between 0 and 1\n",
    "random_array_3 = np.random.rand(5, 3)\n",
    "random_array_3"
   ]
  },
  {
   "cell_type": "code",
   "execution_count": null,
   "id": "1816a8a3",
   "metadata": {},
   "outputs": [],
   "source": [
    "# Setting random seed (random is actualy pseudo-random numbers)\n",
    "# Setting a seed makes the number reproduceable.\n",
    "np.random.seed(5)\n",
    "random_array_4 = np.random.randint(10, size=(5, 3))\n",
    "random_array_4"
   ]
  },
  {
   "attachments": {},
   "cell_type": "markdown",
   "id": "d2940c6b",
   "metadata": {},
   "source": [
    "## Viewing Arrays and Matrices"
   ]
  },
  {
   "cell_type": "code",
   "execution_count": null,
   "id": "701924fa",
   "metadata": {},
   "outputs": [],
   "source": [
    "# Resetting the random_array\n",
    "random_array_4 = np.random.randint(10, size=(5, 3))\n",
    "random_array_4"
   ]
  },
  {
   "cell_type": "code",
   "execution_count": null,
   "id": "8df7116c",
   "metadata": {},
   "outputs": [],
   "source": [
    "# Listing all unique values in an array/matrix\n",
    "np.unique(random_array_4)"
   ]
  },
  {
   "cell_type": "code",
   "execution_count": null,
   "id": "2c0048b1",
   "metadata": {},
   "outputs": [],
   "source": [
    "a1, a2, a3"
   ]
  },
  {
   "cell_type": "code",
   "execution_count": null,
   "id": "db76c39a",
   "metadata": {},
   "outputs": [],
   "source": [
    "# Indexing\n",
    "a1[0], a2[0], a3[0]"
   ]
  },
  {
   "cell_type": "code",
   "execution_count": null,
   "id": "2cbaec09",
   "metadata": {},
   "outputs": [],
   "source": [
    "a1[1], a2[1,2], a3[1,2,2]"
   ]
  },
  {
   "cell_type": "code",
   "execution_count": null,
   "id": "e52b80d4",
   "metadata": {},
   "outputs": [],
   "source": [
    "# Slicing\n",
    "a1[:2], a2[:2, :2], a3[:2, :2, :2]"
   ]
  },
  {
   "attachments": {},
   "cell_type": "markdown",
   "id": "b28599c1",
   "metadata": {},
   "source": [
    "## Manipulating & Comparing Arrays"
   ]
  },
  {
   "attachments": {},
   "cell_type": "markdown",
   "id": "ebc69226",
   "metadata": {},
   "source": [
    "### Arithmetic"
   ]
  },
  {
   "cell_type": "code",
   "execution_count": null,
   "id": "51e8ab96",
   "metadata": {},
   "outputs": [],
   "source": [
    "a1, ones"
   ]
  },
  {
   "cell_type": "code",
   "execution_count": null,
   "id": "cb48e055",
   "metadata": {},
   "outputs": [],
   "source": [
    "# Summing arrays\n",
    "a1 + ones"
   ]
  },
  {
   "cell_type": "code",
   "execution_count": null,
   "id": "6132bee4",
   "metadata": {},
   "outputs": [],
   "source": [
    "# Subtracting\n",
    "a1 - ones"
   ]
  },
  {
   "cell_type": "code",
   "execution_count": null,
   "id": "ca3fcf8c",
   "metadata": {},
   "outputs": [],
   "source": [
    "# Multiplying (element wise)\n",
    "a1 * ones"
   ]
  },
  {
   "cell_type": "code",
   "execution_count": null,
   "id": "67a6bc4f",
   "metadata": {},
   "outputs": [],
   "source": [
    "# Dividing (element wise)\n",
    "a1 / ones"
   ]
  },
  {
   "cell_type": "code",
   "execution_count": null,
   "id": "d709a08e",
   "metadata": {},
   "outputs": [],
   "source": [
    "# Broadcasting error (improper shapes when arithmetic)\n",
    "## a2 + a3\n",
    "\n",
    "# The above code results in the following error\n",
    "# ValueError: operands could not be broadcast together with shapes (2,3) (2,3,3)\n",
    "\n",
    "# this is because (2, 3) != (2, 3, 3) (the shape of a2 does not equal to a3"
   ]
  },
  {
   "cell_type": "code",
   "execution_count": null,
   "id": "7a59a01d",
   "metadata": {},
   "outputs": [],
   "source": [
    "# Powers (element wise)\n",
    "a1 ** 2"
   ]
  },
  {
   "cell_type": "code",
   "execution_count": null,
   "id": "00f8da68",
   "metadata": {},
   "outputs": [],
   "source": [
    "# Modulo (element wise)\n",
    "a1 % 2"
   ]
  },
  {
   "cell_type": "code",
   "execution_count": null,
   "id": "4fb1e79a",
   "metadata": {},
   "outputs": [],
   "source": [
    "# Exponential (element wise)\n",
    "np.exp(a1)"
   ]
  },
  {
   "cell_type": "code",
   "execution_count": null,
   "id": "9933beb8",
   "metadata": {},
   "outputs": [],
   "source": [
    "# log (element wise)\n",
    "np.log(a1)"
   ]
  },
  {
   "attachments": {},
   "cell_type": "markdown",
   "id": "27f68333",
   "metadata": {},
   "source": [
    "### Aggregation"
   ]
  },
  {
   "cell_type": "code",
   "execution_count": null,
   "id": "af3f809c",
   "metadata": {},
   "outputs": [],
   "source": [
    "# Summing elements in a list\n",
    "# NOTE: sum(a1) and np.sum(a1) return the same thing, but when working with numpy, use numpy methods.\n",
    "#       and when working with python data, use python methods.\n",
    "# Reason being for this, the numpy sum is signifcantly faster for numpy arrays.\n",
    "\n",
    "massive_array = np.random.random(100000)\n",
    "%timeit sum(massive_array)  # Python's sum()\n",
    "%timeit np.sum(massive_array)  # Numpy's sum()"
   ]
  },
  {
   "cell_type": "code",
   "execution_count": null,
   "id": "016ec733",
   "metadata": {},
   "outputs": [],
   "source": [
    "# Mean\n",
    "np.mean(a2)"
   ]
  },
  {
   "cell_type": "code",
   "execution_count": null,
   "id": "59b970d5",
   "metadata": {},
   "outputs": [],
   "source": [
    "# Max & min\n",
    "np.max(a2),  np.min(a2)"
   ]
  },
  {
   "cell_type": "code",
   "execution_count": null,
   "id": "2c6193bd",
   "metadata": {},
   "outputs": [],
   "source": [
    "# Standard Deviation & Variance\n",
    "np.std(a2), np.var(a2)"
   ]
  },
  {
   "attachments": {},
   "cell_type": "markdown",
   "id": "bbaedd45",
   "metadata": {},
   "source": [
    "### Reshaping & Transposing"
   ]
  },
  {
   "cell_type": "code",
   "execution_count": null,
   "id": "0d8f6acd",
   "metadata": {},
   "outputs": [],
   "source": [
    "a2, a2.shape"
   ]
  },
  {
   "cell_type": "code",
   "execution_count": null,
   "id": "08cd1c1f",
   "metadata": {},
   "outputs": [],
   "source": [
    "# Reshape\n",
    "a2_reshape = a2.reshape((2, 3, 1))\n",
    "a2_reshape"
   ]
  },
  {
   "cell_type": "code",
   "execution_count": null,
   "id": "3c29c69b",
   "metadata": {},
   "outputs": [],
   "source": [
    "# Refer back to Broadcasting Error code bit above, and let's see what happens after reshaping the a2 array to work\n",
    "a2_reshape + a3"
   ]
  },
  {
   "cell_type": "code",
   "execution_count": null,
   "id": "c9bb44d1",
   "metadata": {},
   "outputs": [],
   "source": [
    "# Transpose\n",
    "# Same transpose as linalg\n",
    "a2, a2.transpose()"
   ]
  },
  {
   "attachments": {},
   "cell_type": "markdown",
   "id": "242215ad",
   "metadata": {},
   "source": [
    "### Matrix Multiplication (Dot Product vs. Element wise)"
   ]
  },
  {
   "cell_type": "code",
   "execution_count": null,
   "id": "462a9f9d",
   "metadata": {},
   "outputs": [],
   "source": [
    "np.random.seed(0)\n",
    "mat1 = np.random.randint(10, size=(5,3))\n",
    "mat2 = np.random.randint(10, size=(5,3))\n",
    "mat1, mat2"
   ]
  },
  {
   "cell_type": "code",
   "execution_count": null,
   "id": "bddfc416",
   "metadata": {},
   "outputs": [],
   "source": [
    "# Matrix multiplication means the inner shapes must match \n",
    "# mat1.shape = (5, 3) & mat2.shape = (5, 3)\n",
    "# To make inner shapes match, transpose mat2 -> mat1.shape = (5, 3) & mat2.tranpose().shape = (3, 5)\n",
    "# (5, 3) @ (3, 5) -> (5, 5)\n",
    "np.dot(mat1, mat2.transpose())"
   ]
  },
  {
   "cell_type": "code",
   "execution_count": null,
   "id": "11f00962",
   "metadata": {},
   "outputs": [],
   "source": [
    "# Using the @ operator to perform np.dot (matrix multiplication)\n",
    "mat1 @ mat2.transpose()"
   ]
  },
  {
   "attachments": {},
   "cell_type": "markdown",
   "id": "a0281e3c",
   "metadata": {},
   "source": [
    "### Exercise: Nut Butter Store Sales"
   ]
  },
  {
   "cell_type": "code",
   "execution_count": null,
   "id": "e8ec86e3",
   "metadata": {},
   "outputs": [],
   "source": [
    "# Getting the total sales of 3 different nut butters for 5 days\n",
    "np.random.seed(0)\n",
    "total_sales = np.random.randint(20, size=(5,3))\n",
    "pd.DataFrame(total_sales, columns=['Almond Butter', 'Peanut Butter', 'Cashew Butter'])"
   ]
  },
  {
   "cell_type": "code",
   "execution_count": null,
   "id": "b3246da7",
   "metadata": {},
   "outputs": [],
   "source": [
    "# Setting the prices for the butters\n",
    "prices = np.array([10, 8, 12])"
   ]
  },
  {
   "cell_type": "code",
   "execution_count": null,
   "id": "abdeaec0",
   "metadata": {},
   "outputs": [],
   "source": [
    "# Getting the total sales amounts for each day (Note: prices.T is shorthand way of prices.transpose())\n",
    "total_sales @ prices.T"
   ]
  },
  {
   "attachments": {},
   "cell_type": "markdown",
   "id": "96588812",
   "metadata": {},
   "source": [
    "### Comparison Operators"
   ]
  },
  {
   "cell_type": "code",
   "execution_count": null,
   "id": "bd4526d7",
   "metadata": {},
   "outputs": [],
   "source": [
    "a1, a2"
   ]
  },
  {
   "cell_type": "code",
   "execution_count": null,
   "id": "850f0caf",
   "metadata": {},
   "outputs": [],
   "source": [
    "# Checks if a1 cell is greater than a2 (element wise)\n",
    "a1 > a2, a1 >= a2, a1 == a2, a1 != a2, a1 < a2, a1 <= a2"
   ]
  },
  {
   "attachments": {},
   "cell_type": "markdown",
   "id": "1482acb7",
   "metadata": {},
   "source": [
    "### Sorting Arrays"
   ]
  },
  {
   "cell_type": "code",
   "execution_count": null,
   "id": "2c8641ec",
   "metadata": {},
   "outputs": [],
   "source": [
    "random_array = np.random.randint(10, size=(3, 5))\n",
    "random_array"
   ]
  },
  {
   "cell_type": "code",
   "execution_count": null,
   "id": "25c52838",
   "metadata": {},
   "outputs": [],
   "source": [
    "# Sorts each element in each row in the array\n",
    "np.sort(random_array)"
   ]
  },
  {
   "cell_type": "code",
   "execution_count": null,
   "id": "38db195e",
   "metadata": {},
   "outputs": [],
   "source": [
    "# Sort the values and return the index of that array\n",
    "np.argsort(random_array)"
   ]
  },
  {
   "cell_type": "code",
   "execution_count": null,
   "id": "464f9c5c",
   "metadata": {},
   "outputs": [],
   "source": [
    "# Get the index of the minimum value and the maximum value\n",
    "np.argmin(a1), np.argmax(a1)"
   ]
  },
  {
   "cell_type": "code",
   "execution_count": null,
   "id": "57710935",
   "metadata": {},
   "outputs": [],
   "source": [
    "# What about multi-dimensional arrays\n",
    "\n",
    "# NOTE: the return value below is an int, which is the index of the max value in a multi-dimensional array, if that\n",
    "#       multi-dimensional array was a single dimensional array.\n",
    "np.argmax(random_array)"
   ]
  },
  {
   "attachments": {},
   "cell_type": "markdown",
   "id": "51353fa8",
   "metadata": {},
   "source": [
    "## Practical Example - Numpy in Action"
   ]
  },
  {
   "cell_type": "code",
   "execution_count": null,
   "id": "916bbabb",
   "metadata": {},
   "outputs": [],
   "source": [
    "image_data_dir_path = './data/numpy-images'"
   ]
  },
  {
   "attachments": {},
   "cell_type": "markdown",
   "id": "8a044ed9",
   "metadata": {},
   "source": [
    "<img src='./data/numpy-images/panda.png'/>"
   ]
  },
  {
   "cell_type": "code",
   "execution_count": null,
   "id": "2cb6868c",
   "metadata": {},
   "outputs": [],
   "source": [
    "# Turn an image into a Numpy array (The array returned grabs the color values for each pixel in the image)\n",
    "# The shape is (num_y_pixels, num_x_pixels, rgb_color_of_pixel)\n",
    "panda = imread(f'{image_data_dir_path}/panda.png')\n",
    "panda[:1]"
   ]
  },
  {
   "cell_type": "code",
   "execution_count": null,
   "id": "5ea56ff8",
   "metadata": {},
   "outputs": [],
   "source": [
    "panda.size, panda.shape, panda.ndim"
   ]
  },
  {
   "attachments": {},
   "cell_type": "markdown",
   "id": "e2d3f57f",
   "metadata": {},
   "source": [
    "<img src='./data/numpy-images/car-photo.png'/>"
   ]
  },
  {
   "cell_type": "code",
   "execution_count": null,
   "id": "cfddc4e5",
   "metadata": {},
   "outputs": [],
   "source": [
    "# Getting numpy array of car photo\n",
    "car = imread(f'{image_data_dir_path}/car-photo.png')\n",
    "car[:1]"
   ]
  },
  {
   "attachments": {},
   "cell_type": "markdown",
   "id": "8893107e",
   "metadata": {},
   "source": [
    "<img src='./data/numpy-images/dog-photo.png'/>"
   ]
  },
  {
   "cell_type": "code",
   "execution_count": null,
   "id": "e335307c",
   "metadata": {},
   "outputs": [],
   "source": [
    "# Getting numpy array of dog photo\n",
    "dog = imread(f'{image_data_dir_path}/dog-photo.png')\n",
    "dog[:1]"
   ]
  }
 ],
 "metadata": {
  "kernelspec": {
   "display_name": "Python 3 (ipykernel)",
   "language": "python",
   "name": "python3"
  },
  "language_info": {
   "codemirror_mode": {
    "name": "ipython",
    "version": 3
   },
   "file_extension": ".py",
   "mimetype": "text/x-python",
   "name": "python",
   "nbconvert_exporter": "python",
   "pygments_lexer": "ipython3",
   "version": "3.8.9"
  }
 },
 "nbformat": 4,
 "nbformat_minor": 5
}
