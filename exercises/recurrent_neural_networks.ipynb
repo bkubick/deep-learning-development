{
 "cells": [
  {
   "cell_type": "markdown",
   "id": "151f8d62-135c-4f43-b4d9-23b0f478bd55",
   "metadata": {},
   "source": [
    "# Recurrent Neural Networks\n",
    "\n",
    "Natural language processing (NLP) is the practice of identify sequence patterns from language, to deduce the meaning behind the statement. In short, NLP has the goal of derviging information out of natural language (could be sequences text or speech). Another common term for NLP problems is sequence to sequence problems (seq2seq).\n",
    "\n",
    "The purpose of this notebook is to download, prepare, and use a text dataset to build out multiple recurrent neural network (RNN) models to make predictions from the text. Additionally, I will create a model from an already pre-trained model on TensorFlow Hub.\n",
    "\n",
    "The dataset I am going to use is Kaggle's introduction to NLP dataset (text samples of Tweets that predict as disaster or not disater).\n",
    "* https://www.kaggle.com/competitions/nlp-getting-started\n",
    "\n",
    "NOTE: Other sequence problems may include something like time series forecasting."
   ]
  },
  {
   "cell_type": "markdown",
   "id": "c742ac89-6eb4-408b-bb8c-e7714e5ee8ae",
   "metadata": {},
   "source": [
    "## Imports"
   ]
  },
  {
   "cell_type": "code",
   "execution_count": 1,
   "id": "0b5911a4-5d95-4c3c-b705-2ab68389eee1",
   "metadata": {},
   "outputs": [],
   "source": [
    "from dataclasses import dataclass, asdict\n",
    "import io\n",
    "import os\n",
    "import pathlib\n",
    "import random\n",
    "import sys\n",
    "from typing import Dict\n",
    "\n",
    "import matplotlib.pyplot as plt\n",
    "import numpy as np\n",
    "import pandas as pd\n",
    "from py_learning_toolbox.deep_learning import analysis, modeling\n",
    "import random\n",
    "from sklearn.feature_extraction.text import TfidfVectorizer\n",
    "from sklearn.metrics import accuracy_score, precision_recall_fscore_support\n",
    "from sklearn.model_selection import train_test_split\n",
    "from sklearn.naive_bayes import MultinomialNB\n",
    "from sklearn.pipeline import Pipeline\n",
    "import tensorflow as tf"
   ]
  },
  {
   "cell_type": "markdown",
   "id": "4c49152c-d630-403b-b359-8fe3342a2566",
   "metadata": {},
   "source": [
    "## Helper Functions"
   ]
  },
  {
   "cell_type": "code",
   "execution_count": null,
   "id": "a22ee5bf-7763-4ab9-a993-e9a09fd773aa",
   "metadata": {},
   "outputs": [],
   "source": []
  },
  {
   "cell_type": "markdown",
   "id": "757fb2a1-34f8-42ae-9b66-49402497eea3",
   "metadata": {},
   "source": [
    "## Download and Analyze Data"
   ]
  },
  {
   "cell_type": "code",
   "execution_count": 2,
   "id": "c55983e1-a4d0-4784-bd87-368837f4f586",
   "metadata": {},
   "outputs": [],
   "source": [
    "# Image dataset location\n",
    "data_directory = pathlib.Path('./data/nlp_getting_started')\n",
    "test_file = data_directory / 'test.csv'\n",
    "train_file = data_directory / 'train.csv'"
   ]
  },
  {
   "cell_type": "code",
   "execution_count": 3,
   "id": "ec4b0a6c-883b-4418-91ca-eca26676223b",
   "metadata": {},
   "outputs": [
    {
     "data": {
      "text/html": [
       "<div>\n",
       "<style scoped>\n",
       "    .dataframe tbody tr th:only-of-type {\n",
       "        vertical-align: middle;\n",
       "    }\n",
       "\n",
       "    .dataframe tbody tr th {\n",
       "        vertical-align: top;\n",
       "    }\n",
       "\n",
       "    .dataframe thead th {\n",
       "        text-align: right;\n",
       "    }\n",
       "</style>\n",
       "<table border=\"1\" class=\"dataframe\">\n",
       "  <thead>\n",
       "    <tr style=\"text-align: right;\">\n",
       "      <th></th>\n",
       "      <th>id</th>\n",
       "      <th>keyword</th>\n",
       "      <th>location</th>\n",
       "      <th>text</th>\n",
       "      <th>target</th>\n",
       "    </tr>\n",
       "  </thead>\n",
       "  <tbody>\n",
       "    <tr>\n",
       "      <th>0</th>\n",
       "      <td>1</td>\n",
       "      <td>NaN</td>\n",
       "      <td>NaN</td>\n",
       "      <td>Our Deeds are the Reason of this #earthquake M...</td>\n",
       "      <td>1</td>\n",
       "    </tr>\n",
       "    <tr>\n",
       "      <th>1</th>\n",
       "      <td>4</td>\n",
       "      <td>NaN</td>\n",
       "      <td>NaN</td>\n",
       "      <td>Forest fire near La Ronge Sask. Canada</td>\n",
       "      <td>1</td>\n",
       "    </tr>\n",
       "    <tr>\n",
       "      <th>2</th>\n",
       "      <td>5</td>\n",
       "      <td>NaN</td>\n",
       "      <td>NaN</td>\n",
       "      <td>All residents asked to 'shelter in place' are ...</td>\n",
       "      <td>1</td>\n",
       "    </tr>\n",
       "    <tr>\n",
       "      <th>3</th>\n",
       "      <td>6</td>\n",
       "      <td>NaN</td>\n",
       "      <td>NaN</td>\n",
       "      <td>13,000 people receive #wildfires evacuation or...</td>\n",
       "      <td>1</td>\n",
       "    </tr>\n",
       "    <tr>\n",
       "      <th>4</th>\n",
       "      <td>7</td>\n",
       "      <td>NaN</td>\n",
       "      <td>NaN</td>\n",
       "      <td>Just got sent this photo from Ruby #Alaska as ...</td>\n",
       "      <td>1</td>\n",
       "    </tr>\n",
       "  </tbody>\n",
       "</table>\n",
       "</div>"
      ],
      "text/plain": [
       "   id keyword location                                               text  \\\n",
       "0   1     NaN      NaN  Our Deeds are the Reason of this #earthquake M...   \n",
       "1   4     NaN      NaN             Forest fire near La Ronge Sask. Canada   \n",
       "2   5     NaN      NaN  All residents asked to 'shelter in place' are ...   \n",
       "3   6     NaN      NaN  13,000 people receive #wildfires evacuation or...   \n",
       "4   7     NaN      NaN  Just got sent this photo from Ruby #Alaska as ...   \n",
       "\n",
       "   target  \n",
       "0       1  \n",
       "1       1  \n",
       "2       1  \n",
       "3       1  \n",
       "4       1  "
      ]
     },
     "execution_count": 3,
     "metadata": {},
     "output_type": "execute_result"
    }
   ],
   "source": [
    "# Visualizing the text dataset\n",
    "train_data = pd.read_csv(str(train_file))\n",
    "test_data = pd.read_csv(str(test_file))\n",
    "train_data.head()"
   ]
  },
  {
   "cell_type": "code",
   "execution_count": 4,
   "id": "0c0b9ef0-d397-4eb7-9576-4c2d082d6c45",
   "metadata": {},
   "outputs": [
    {
     "data": {
      "text/html": [
       "<div>\n",
       "<style scoped>\n",
       "    .dataframe tbody tr th:only-of-type {\n",
       "        vertical-align: middle;\n",
       "    }\n",
       "\n",
       "    .dataframe tbody tr th {\n",
       "        vertical-align: top;\n",
       "    }\n",
       "\n",
       "    .dataframe thead th {\n",
       "        text-align: right;\n",
       "    }\n",
       "</style>\n",
       "<table border=\"1\" class=\"dataframe\">\n",
       "  <thead>\n",
       "    <tr style=\"text-align: right;\">\n",
       "      <th></th>\n",
       "      <th>id</th>\n",
       "      <th>keyword</th>\n",
       "      <th>location</th>\n",
       "      <th>text</th>\n",
       "      <th>target</th>\n",
       "    </tr>\n",
       "  </thead>\n",
       "  <tbody>\n",
       "    <tr>\n",
       "      <th>2644</th>\n",
       "      <td>3796</td>\n",
       "      <td>destruction</td>\n",
       "      <td>NaN</td>\n",
       "      <td>So you have a new weapon that can cause un-ima...</td>\n",
       "      <td>1</td>\n",
       "    </tr>\n",
       "    <tr>\n",
       "      <th>2227</th>\n",
       "      <td>3185</td>\n",
       "      <td>deluge</td>\n",
       "      <td>NaN</td>\n",
       "      <td>The f$&amp;amp;@ing things I do for #GISHWHES Just...</td>\n",
       "      <td>0</td>\n",
       "    </tr>\n",
       "    <tr>\n",
       "      <th>5448</th>\n",
       "      <td>7769</td>\n",
       "      <td>police</td>\n",
       "      <td>UK</td>\n",
       "      <td>DT @georgegalloway: RT @Galloway4Mayor: ÛÏThe...</td>\n",
       "      <td>1</td>\n",
       "    </tr>\n",
       "    <tr>\n",
       "      <th>132</th>\n",
       "      <td>191</td>\n",
       "      <td>aftershock</td>\n",
       "      <td>NaN</td>\n",
       "      <td>Aftershock back to school kick off was great. ...</td>\n",
       "      <td>0</td>\n",
       "    </tr>\n",
       "    <tr>\n",
       "      <th>6845</th>\n",
       "      <td>9810</td>\n",
       "      <td>trauma</td>\n",
       "      <td>Montgomery County, MD</td>\n",
       "      <td>in response to trauma Children of Addicts deve...</td>\n",
       "      <td>0</td>\n",
       "    </tr>\n",
       "  </tbody>\n",
       "</table>\n",
       "</div>"
      ],
      "text/plain": [
       "        id      keyword               location  \\\n",
       "2644  3796  destruction                    NaN   \n",
       "2227  3185       deluge                    NaN   \n",
       "5448  7769       police                     UK   \n",
       "132    191   aftershock                    NaN   \n",
       "6845  9810       trauma  Montgomery County, MD   \n",
       "\n",
       "                                                   text  target  \n",
       "2644  So you have a new weapon that can cause un-ima...       1  \n",
       "2227  The f$&amp;@ing things I do for #GISHWHES Just...       0  \n",
       "5448  DT @georgegalloway: RT @Galloway4Mayor: ÛÏThe...       1  \n",
       "132   Aftershock back to school kick off was great. ...       0  \n",
       "6845  in response to trauma Children of Addicts deve...       0  "
      ]
     },
     "execution_count": 4,
     "metadata": {},
     "output_type": "execute_result"
    }
   ],
   "source": [
    "# Lets shuffle the training data\n",
    "train_data_shuffled = train_data.sample(frac=1, random_state=42)\n",
    "train_data_shuffled.head()"
   ]
  },
  {
   "cell_type": "code",
   "execution_count": 5,
   "id": "55002b83-a025-4c04-b7ee-cd0d07e6886a",
   "metadata": {},
   "outputs": [
    {
     "name": "stdout",
     "output_type": "stream",
     "text": [
      "Target: (Disaster)\n",
      "WFP - WFP Delivers Food To 165000 Bangladesh Flood Victims After Tropical Cyclone Komen: DHAKA ÛÒThe United Na... http://t.co/fukbBeDfGx\n",
      "\n",
      " ---------------------------------------- \n",
      "\n",
      "Target: (Not Disaster)\n",
      "saving babies from burning buildings soaking cake in a shit tonne of alcohol mat is a man after my own heart ?? #GBBO\n",
      "\n",
      " ---------------------------------------- \n",
      "\n",
      "Target: (Not Disaster)\n",
      "@danagould @WaynesterAtl I agree with background checks. I just think guns or weapons in general are the great equalizer.\n",
      "\n",
      " ---------------------------------------- \n",
      "\n",
      "Target: (Not Disaster)\n",
      "OMEGA MEN Writer Explores Terrorism Religion In an 'Epic KYLE RAYNER Story' https://t.co/utc7pdIdfo via @Newsarama\n",
      "\n",
      " ---------------------------------------- \n",
      "\n",
      "Target: (Disaster)\n",
      "#forbes #europe China's Stock Market Crash: Are There Gems In The Rubble? http://t.co/C0SlAbBP7j\n",
      "\n",
      " ---------------------------------------- \n",
      "\n",
      "Target: (Disaster)\n",
      "Truck crash on 40w at US70 in Lebanon is a fatality. Very sad. Expect long delays through the morning.\n",
      "\n",
      " ---------------------------------------- \n",
      "\n",
      "Target: (Disaster)\n",
      "OH MY GOD RYANS IN TROUBLE http://t.co/ADIp0UnXHU\n",
      "\n",
      " ---------------------------------------- \n",
      "\n",
      "Target: (Disaster)\n",
      "2 pple have been confirmed dead and over 20 rescued while many went missing after a ferry carrying 200 collided with a fishing boat.#News\n",
      "\n",
      " ---------------------------------------- \n",
      "\n",
      "Target: (Not Disaster)\n",
      "@brokenscnecal I just though about panic! at the disco when I said that\n",
      "\n",
      " ---------------------------------------- \n",
      "\n",
      "Target: (Not Disaster)\n",
      "[55436] 1950 LIONEL TRAINS SMOKE LOCOMOTIVES WITH MAGNE-TRACTION INSTRUCTIONS http://t.co/xEZBs3sq0y http://t.co/C2x0QoKGlY\n",
      "\n",
      " ---------------------------------------- \n",
      "\n"
     ]
    }
   ],
   "source": [
    "# Lets look at 10 random tweets and whether each one was a disaster or not\n",
    "for i in range(10):\n",
    "    row = train_data_shuffled.iloc[random.randint(0, len(train_data_shuffled))]\n",
    "    print(f\"Target: ({'Disaster' if row['target'] else 'Not Disaster'})\")\n",
    "    print(row['text'])\n",
    "    print('\\n', '-' * 40, '\\n')"
   ]
  },
  {
   "cell_type": "code",
   "execution_count": 6,
   "id": "afe153d8-0b12-4639-83e1-ea1d76ba1529",
   "metadata": {},
   "outputs": [
    {
     "data": {
      "text/plain": [
       "target\n",
       "0    4342\n",
       "1    3271\n",
       "Name: count, dtype: int64"
      ]
     },
     "execution_count": 6,
     "metadata": {},
     "output_type": "execute_result"
    }
   ],
   "source": [
    "# Lets look at the number of each target (disaster or not a disaster)\n",
    "train_data_shuffled.target.value_counts()"
   ]
  },
  {
   "cell_type": "markdown",
   "id": "c0e40ffb-9ff1-4e5e-a4d0-de7acd2080d6",
   "metadata": {},
   "source": [
    "## Preparing Data\n",
    "\n",
    "To prep this data, there are a few things I need to do to get everything ready to build out my models.\n",
    "\n",
    "1. Shuffle the training data set.\n",
    "2. Split the training data set into a training and validation set (go to use 10% of the training data as the validation data).\n",
    "3. Need to convert text into numbers."
   ]
  },
  {
   "cell_type": "code",
   "execution_count": 7,
   "id": "bb6032c2-ffa7-433c-98ef-2dbcaf008cd9",
   "metadata": {},
   "outputs": [
    {
     "data": {
      "text/html": [
       "<div>\n",
       "<style scoped>\n",
       "    .dataframe tbody tr th:only-of-type {\n",
       "        vertical-align: middle;\n",
       "    }\n",
       "\n",
       "    .dataframe tbody tr th {\n",
       "        vertical-align: top;\n",
       "    }\n",
       "\n",
       "    .dataframe thead th {\n",
       "        text-align: right;\n",
       "    }\n",
       "</style>\n",
       "<table border=\"1\" class=\"dataframe\">\n",
       "  <thead>\n",
       "    <tr style=\"text-align: right;\">\n",
       "      <th></th>\n",
       "      <th>id</th>\n",
       "      <th>keyword</th>\n",
       "      <th>location</th>\n",
       "      <th>text</th>\n",
       "      <th>target</th>\n",
       "    </tr>\n",
       "  </thead>\n",
       "  <tbody>\n",
       "    <tr>\n",
       "      <th>2644</th>\n",
       "      <td>3796</td>\n",
       "      <td>destruction</td>\n",
       "      <td>NaN</td>\n",
       "      <td>So you have a new weapon that can cause un-ima...</td>\n",
       "      <td>1</td>\n",
       "    </tr>\n",
       "    <tr>\n",
       "      <th>2227</th>\n",
       "      <td>3185</td>\n",
       "      <td>deluge</td>\n",
       "      <td>NaN</td>\n",
       "      <td>The f$&amp;amp;@ing things I do for #GISHWHES Just...</td>\n",
       "      <td>0</td>\n",
       "    </tr>\n",
       "    <tr>\n",
       "      <th>5448</th>\n",
       "      <td>7769</td>\n",
       "      <td>police</td>\n",
       "      <td>UK</td>\n",
       "      <td>DT @georgegalloway: RT @Galloway4Mayor: ÛÏThe...</td>\n",
       "      <td>1</td>\n",
       "    </tr>\n",
       "    <tr>\n",
       "      <th>132</th>\n",
       "      <td>191</td>\n",
       "      <td>aftershock</td>\n",
       "      <td>NaN</td>\n",
       "      <td>Aftershock back to school kick off was great. ...</td>\n",
       "      <td>0</td>\n",
       "    </tr>\n",
       "    <tr>\n",
       "      <th>6845</th>\n",
       "      <td>9810</td>\n",
       "      <td>trauma</td>\n",
       "      <td>Montgomery County, MD</td>\n",
       "      <td>in response to trauma Children of Addicts deve...</td>\n",
       "      <td>0</td>\n",
       "    </tr>\n",
       "  </tbody>\n",
       "</table>\n",
       "</div>"
      ],
      "text/plain": [
       "        id      keyword               location  \\\n",
       "2644  3796  destruction                    NaN   \n",
       "2227  3185       deluge                    NaN   \n",
       "5448  7769       police                     UK   \n",
       "132    191   aftershock                    NaN   \n",
       "6845  9810       trauma  Montgomery County, MD   \n",
       "\n",
       "                                                   text  target  \n",
       "2644  So you have a new weapon that can cause un-ima...       1  \n",
       "2227  The f$&amp;@ing things I do for #GISHWHES Just...       0  \n",
       "5448  DT @georgegalloway: RT @Galloway4Mayor: ÛÏThe...       1  \n",
       "132   Aftershock back to school kick off was great. ...       0  \n",
       "6845  in response to trauma Children of Addicts deve...       0  "
      ]
     },
     "execution_count": 7,
     "metadata": {},
     "output_type": "execute_result"
    }
   ],
   "source": [
    "# Lets shuffle the training data\n",
    "train_data_shuffled = train_data.sample(frac=1, random_state=42)\n",
    "train_data_shuffled.head()"
   ]
  },
  {
   "cell_type": "code",
   "execution_count": 8,
   "id": "9e54c759-ffbd-45b6-9e14-3a9782102593",
   "metadata": {},
   "outputs": [
    {
     "data": {
      "text/plain": [
       "(6851, 762, 6851, 762)"
      ]
     },
     "execution_count": 8,
     "metadata": {},
     "output_type": "execute_result"
    }
   ],
   "source": [
    "# Splitting the train data to split into training and validation datasets\n",
    "train_sentences, val_sentences, train_labels, val_labels = train_test_split(\n",
    "    train_data_shuffled['text'].to_numpy(),\n",
    "    train_data_shuffled['target'].to_numpy(),\n",
    "    test_size=0.1,\n",
    "    random_state=42)\n",
    "\n",
    "len(train_sentences), len(val_sentences), len(train_labels), len(val_labels)"
   ]
  },
  {
   "cell_type": "code",
   "execution_count": 9,
   "id": "aec3d60b-2d08-42bc-9dd6-86a7e1da5715",
   "metadata": {},
   "outputs": [
    {
     "data": {
      "text/plain": [
       "(array(['@mogacola @zamtriossu i screamed after hitting tweet',\n",
       "        'Imagine getting flattened by Kurt Zouma',\n",
       "        '@Gurmeetramrahim #MSGDoing111WelfareWorks Green S welfare force ke appx 65000 members har time disaster victim ki help ke liye tyar hai....',\n",
       "        \"@shakjn @C7 @Magnums im shaking in fear he's gonna hack the planet\",\n",
       "        'Somehow find you and I collide http://t.co/Ee8RpOahPk',\n",
       "        '@EvaHanderek @MarleyKnysh great times until the bus driver held us hostage in the mall parking lot lmfao',\n",
       "        'destroy the free fandom honestly',\n",
       "        'Weapons stolen from National Guard Armory in New Albany still missing #Gunsense http://t.co/lKNU8902JE',\n",
       "        '@wfaaweather Pete when will the heat wave pass? Is it really going to be mid month? Frisco Boy Scouts have a canoe trip in Okla.',\n",
       "        'Patient-reported outcomes in long-term survivors of metastatic colorectal cancer - British Journal of Surgery http://t.co/5Yl4DC1Tqt'],\n",
       "       dtype=object),\n",
       " array([0, 0, 1, 0, 0, 1, 1, 0, 1, 1]))"
      ]
     },
     "execution_count": 9,
     "metadata": {},
     "output_type": "execute_result"
    }
   ],
   "source": [
    "# Verify the split worked as expected\n",
    "train_sentences[:10], train_labels[:10]"
   ]
  },
  {
   "cell_type": "markdown",
   "id": "68f52f52-64a8-4ab2-a248-9579817be75f",
   "metadata": {},
   "source": [
    "#### TextVectorization Layer (To be Used in Models)\n",
    "\n",
    "When dealing with a text problem, one of the first things to do before building a model is to convert text to numbers. There are a few ways to do this:\n",
    "\n",
    "* Tokenization - direct mapping of token (a token could be a word or a character) to a number.\n",
    "* Embedding - create a matrix of featyre vector for each token (the size of the feature vector can be defined and this embedding can be learned)."
   ]
  },
  {
   "cell_type": "code",
   "execution_count": 10,
   "id": "514a65e4-0586-4e3a-b607-8519af6288f3",
   "metadata": {},
   "outputs": [
    {
     "data": {
      "text/plain": [
       "15"
      ]
     },
     "execution_count": 10,
     "metadata": {},
     "output_type": "execute_result"
    }
   ],
   "source": [
    "# Find average number of tokens\n",
    "round(sum([len(i.split()) for i in train_sentences]) / len(train_sentences))"
   ]
  },
  {
   "cell_type": "code",
   "execution_count": 11,
   "id": "647f1eeb-d155-493b-87d9-7219f96e16ba",
   "metadata": {},
   "outputs": [],
   "source": [
    "# Setup text vectorization params\n",
    "max_vocab_length = 10000  # Max words to have in our vocab\n",
    "max_length = 15  # Max length our sequence will be"
   ]
  },
  {
   "cell_type": "code",
   "execution_count": 12,
   "id": "2ac6e7dc-e2de-470c-8fd6-f733cf3458dd",
   "metadata": {},
   "outputs": [
    {
     "name": "stderr",
     "output_type": "stream",
     "text": [
      "2023-08-28 17:26:44.879648: I metal_plugin/src/device/metal_device.cc:1154] Metal device set to: Apple M1 Pro\n",
      "2023-08-28 17:26:44.879681: I metal_plugin/src/device/metal_device.cc:296] systemMemory: 16.00 GB\n",
      "2023-08-28 17:26:44.879685: I metal_plugin/src/device/metal_device.cc:313] maxCacheSize: 5.33 GB\n",
      "2023-08-28 17:26:44.879926: I tensorflow/core/common_runtime/pluggable_device/pluggable_device_factory.cc:303] Could not identify NUMA node of platform GPU ID 0, defaulting to 0. Your kernel may not have been built with NUMA support.\n",
      "2023-08-28 17:26:44.879946: I tensorflow/core/common_runtime/pluggable_device/pluggable_device_factory.cc:269] Created TensorFlow device (/job:localhost/replica:0/task:0/device:GPU:0 with 0 MB memory) -> physical PluggableDevice (device: 0, name: METAL, pci bus id: <undefined>)\n"
     ]
    }
   ],
   "source": [
    "# Setting up a text vectorization layer (tokenization)\n",
    "text_vectorizer = tf.keras.layers.experimental.preprocessing.TextVectorization(\n",
    "    max_tokens=max_vocab_length,  # How many words in the vocabulary (None sets as no maximum number of tokens)\n",
    "    output_mode='int',\n",
    "    output_sequence_length=max_length)  # Padds (adds 0's to end of number) to make all the same length"
   ]
  },
  {
   "cell_type": "code",
   "execution_count": 13,
   "id": "e5d2bd6e-93af-47ab-b531-5041edd1e2a9",
   "metadata": {},
   "outputs": [
    {
     "name": "stderr",
     "output_type": "stream",
     "text": [
      "2023-08-28 17:26:45.020555: I tensorflow/core/grappler/optimizers/custom_graph_optimizer_registry.cc:114] Plugin optimizer for device_type GPU is enabled.\n"
     ]
    }
   ],
   "source": [
    "# Adapt the vectorizer to the training data\n",
    "text_vectorizer.adapt(train_sentences)"
   ]
  },
  {
   "cell_type": "code",
   "execution_count": 14,
   "id": "080b4422-e3ed-4bb6-9ce6-b358b667caf8",
   "metadata": {},
   "outputs": [
    {
     "data": {
      "text/plain": [
       "<tf.Tensor: shape=(1, 15), dtype=int64, numpy=\n",
       "array([[264,   3, 232,   4,  13, 698,   0,   0,   0,   0,   0,   0,   0,\n",
       "          0,   0]])>"
      ]
     },
     "execution_count": 14,
     "metadata": {},
     "output_type": "execute_result"
    }
   ],
   "source": [
    "# Verify the text vectorizer was adapted correctly\n",
    "sample_sentence = 'There\\'s a flood in my street!'\n",
    "text_vectorizer([sample_sentence])"
   ]
  },
  {
   "cell_type": "code",
   "execution_count": 15,
   "id": "fd53f63e-0ef4-45e1-91c3-bdf425681868",
   "metadata": {},
   "outputs": [
    {
     "name": "stdout",
     "output_type": "stream",
     "text": [
      "Sentence: @_gaabyx we got purple activist I thought it was a drought\n",
      "Vectorized: [[   1   46  100 2334    1    8  497   15   23    3  377    0    0    0\n",
      "     0]]\n"
     ]
    }
   ],
   "source": [
    "# Choose a random sentence from the train data and encode it\n",
    "rand_i = random.randint(0, len(train_sentences))\n",
    "print(f'Sentence: {train_sentences[rand_i]}')\n",
    "print(f'Vectorized: {text_vectorizer([train_sentences[rand_i]])}')"
   ]
  },
  {
   "cell_type": "code",
   "execution_count": 16,
   "id": "a6a91fb2-40d4-4fc3-94bf-b62e64e3bf0b",
   "metadata": {},
   "outputs": [
    {
     "data": {
      "text/plain": [
       "(10000,\n",
       " ['', '[UNK]', 'the', 'a', 'in'],\n",
       " ['pages', 'paeds', 'pads', 'padres', 'paddytomlinson1'])"
      ]
     },
     "execution_count": 16,
     "metadata": {},
     "output_type": "execute_result"
    }
   ],
   "source": [
    "# Getting the words in the vocab from the training data\n",
    "words_in_vocab = text_vectorizer.get_vocabulary()\n",
    "top_5_words = words_in_vocab[:5]\n",
    "least_common_5_words = words_in_vocab[-5:]\n",
    "len(words_in_vocab), top_5_words, least_common_5_words"
   ]
  },
  {
   "cell_type": "markdown",
   "id": "56630459-a8a1-44a5-a2b1-9444a02170d7",
   "metadata": {},
   "source": [
    "#### Creating Embedding Layer (To be Used in Models)\n",
    "\n",
    "To make our embedding layer, I am going to use TensorFlow's `Embedding` layer. \n",
    "\n",
    "The parameters we care most about for our embedding layer are:\n",
    "\n",
    "* `input dim` -  The size of the vocabulary\n",
    "* `output dim` - The size of the output embedding vector, for example, a size of 100 mean each token would be represented by a vector of length 100.\n",
    "* `input_length` - The length of the sequences being passed to the embedding layer."
   ]
  },
  {
   "cell_type": "code",
   "execution_count": 17,
   "id": "3dfcee59-812a-4c26-a072-27b9f9c8d59c",
   "metadata": {},
   "outputs": [
    {
     "data": {
      "text/plain": [
       "<keras.src.layers.core.embedding.Embedding at 0x292eeb820>"
      ]
     },
     "execution_count": 17,
     "metadata": {},
     "output_type": "execute_result"
    }
   ],
   "source": [
    "embedding = tf.keras.layers.Embedding(input_dim=max_vocab_length,\n",
    "                                     output_dim=128,  # GPU's work well when number is divisible by 8\n",
    "                                     input_length=max_length)\n",
    "embedding"
   ]
  },
  {
   "cell_type": "code",
   "execution_count": 18,
   "id": "bfb8b447-6d24-4c6e-8236-2ae64e9f8223",
   "metadata": {},
   "outputs": [
    {
     "name": "stdout",
     "output_type": "stream",
     "text": [
      "Sentence: \n",
      " Strict liability in the context of an airplane accident - http://t.co/gibyQHhKpk\n",
      "Embedded Version: \n",
      " tf.Tensor(\n",
      "[[[-0.04447868  0.01633802  0.02735605 ... -0.04693479 -0.04859321\n",
      "   -0.0190748 ]\n",
      "  [ 0.01405123 -0.04414525  0.04743428 ... -0.00320438  0.04701046\n",
      "   -0.04118485]\n",
      "  [ 0.0402406  -0.03156954 -0.0125141  ... -0.03725331  0.0023211\n",
      "    0.03838572]\n",
      "  ...\n",
      "  [-0.02989845  0.02957496 -0.00804364 ... -0.0215206  -0.0012041\n",
      "   -0.01756949]\n",
      "  [-0.02989845  0.02957496 -0.00804364 ... -0.0215206  -0.0012041\n",
      "   -0.01756949]\n",
      "  [-0.02989845  0.02957496 -0.00804364 ... -0.0215206  -0.0012041\n",
      "   -0.01756949]]], shape=(1, 15, 128), dtype=float32)\n"
     ]
    }
   ],
   "source": [
    "# Verify the embedding layer worked\n",
    "random_sentence = random.choice(train_sentences)\n",
    "embedded_sentence = embedding(text_vectorizer([random_sentence]))\n",
    "print('Sentence: \\n', random_sentence)\n",
    "print('Embedded Version: \\n', embedded_sentence)"
   ]
  },
  {
   "cell_type": "markdown",
   "id": "33f31d78-10d5-4fa6-9019-17398bf1111b",
   "metadata": {},
   "source": [
    "## Experiments\n",
    "\n",
    "To experiment and identify the best model, I am going to run the following experiments with the corresponding model to analyze the difference between the different types of models for modeling sequence based problems.\n",
    "\n",
    "1. Naive Bayes with TF-IDF encoder (baseline model) NOTE: this is not a Deep Learning model\n",
    "2. Feed-forward neural network (dense model)\n",
    "3. LSTM (RNN)\n",
    "4. GRU (RNN)\n",
    "5. Bidirection-LSTM (RNN)\n",
    "6. 1D Convolutional Neural Network\n",
    "7. TensorFlow Hub Pretrained Feature Extractor\n",
    "8. TensorFlow Hub Pretrained Feature Extractor (10% of Data)"
   ]
  },
  {
   "cell_type": "code",
   "execution_count": 19,
   "id": "7f05d22a-55ff-4b9f-81c4-21f74fd36a94",
   "metadata": {},
   "outputs": [],
   "source": [
    "# Setup\n",
    "TENSORBOARD_LOGS_DIR = pathlib.Path('logs/disaster_tweets')\n",
    "CHECKPOINTS_DIR = pathlib.Path('checkpoints/disaster_tweets')\n",
    "MODELS_DIR = pathlib.Path('models/disaster_tweets')"
   ]
  },
  {
   "cell_type": "markdown",
   "id": "17c1862f-9330-4fd5-b3d9-ead3f585c8d9",
   "metadata": {},
   "source": [
    "### Model-0 (Baseline Model): Naive Bayes Model\n",
    "\n",
    "As a baseline model, I am going to use SKLearn's Multinomial Naive Bayes algorithm using the TF-IDF formuila to convert words to numbers. This model will be used to compare the DL models against to judge performance.\n",
    "\n",
    "NOTE: It's common practice to use non-LD algorithms as a baseline because of their speed and then later using DL to see if you can improve upon them."
   ]
  },
  {
   "cell_type": "code",
   "execution_count": 20,
   "id": "96442451-4399-44f0-b12d-a4ef31d77f67",
   "metadata": {},
   "outputs": [
    {
     "data": {
      "text/html": [
       "<style>#sk-container-id-1 {color: black;}#sk-container-id-1 pre{padding: 0;}#sk-container-id-1 div.sk-toggleable {background-color: white;}#sk-container-id-1 label.sk-toggleable__label {cursor: pointer;display: block;width: 100%;margin-bottom: 0;padding: 0.3em;box-sizing: border-box;text-align: center;}#sk-container-id-1 label.sk-toggleable__label-arrow:before {content: \"▸\";float: left;margin-right: 0.25em;color: #696969;}#sk-container-id-1 label.sk-toggleable__label-arrow:hover:before {color: black;}#sk-container-id-1 div.sk-estimator:hover label.sk-toggleable__label-arrow:before {color: black;}#sk-container-id-1 div.sk-toggleable__content {max-height: 0;max-width: 0;overflow: hidden;text-align: left;background-color: #f0f8ff;}#sk-container-id-1 div.sk-toggleable__content pre {margin: 0.2em;color: black;border-radius: 0.25em;background-color: #f0f8ff;}#sk-container-id-1 input.sk-toggleable__control:checked~div.sk-toggleable__content {max-height: 200px;max-width: 100%;overflow: auto;}#sk-container-id-1 input.sk-toggleable__control:checked~label.sk-toggleable__label-arrow:before {content: \"▾\";}#sk-container-id-1 div.sk-estimator input.sk-toggleable__control:checked~label.sk-toggleable__label {background-color: #d4ebff;}#sk-container-id-1 div.sk-label input.sk-toggleable__control:checked~label.sk-toggleable__label {background-color: #d4ebff;}#sk-container-id-1 input.sk-hidden--visually {border: 0;clip: rect(1px 1px 1px 1px);clip: rect(1px, 1px, 1px, 1px);height: 1px;margin: -1px;overflow: hidden;padding: 0;position: absolute;width: 1px;}#sk-container-id-1 div.sk-estimator {font-family: monospace;background-color: #f0f8ff;border: 1px dotted black;border-radius: 0.25em;box-sizing: border-box;margin-bottom: 0.5em;}#sk-container-id-1 div.sk-estimator:hover {background-color: #d4ebff;}#sk-container-id-1 div.sk-parallel-item::after {content: \"\";width: 100%;border-bottom: 1px solid gray;flex-grow: 1;}#sk-container-id-1 div.sk-label:hover label.sk-toggleable__label {background-color: #d4ebff;}#sk-container-id-1 div.sk-serial::before {content: \"\";position: absolute;border-left: 1px solid gray;box-sizing: border-box;top: 0;bottom: 0;left: 50%;z-index: 0;}#sk-container-id-1 div.sk-serial {display: flex;flex-direction: column;align-items: center;background-color: white;padding-right: 0.2em;padding-left: 0.2em;position: relative;}#sk-container-id-1 div.sk-item {position: relative;z-index: 1;}#sk-container-id-1 div.sk-parallel {display: flex;align-items: stretch;justify-content: center;background-color: white;position: relative;}#sk-container-id-1 div.sk-item::before, #sk-container-id-1 div.sk-parallel-item::before {content: \"\";position: absolute;border-left: 1px solid gray;box-sizing: border-box;top: 0;bottom: 0;left: 50%;z-index: -1;}#sk-container-id-1 div.sk-parallel-item {display: flex;flex-direction: column;z-index: 1;position: relative;background-color: white;}#sk-container-id-1 div.sk-parallel-item:first-child::after {align-self: flex-end;width: 50%;}#sk-container-id-1 div.sk-parallel-item:last-child::after {align-self: flex-start;width: 50%;}#sk-container-id-1 div.sk-parallel-item:only-child::after {width: 0;}#sk-container-id-1 div.sk-dashed-wrapped {border: 1px dashed gray;margin: 0 0.4em 0.5em 0.4em;box-sizing: border-box;padding-bottom: 0.4em;background-color: white;}#sk-container-id-1 div.sk-label label {font-family: monospace;font-weight: bold;display: inline-block;line-height: 1.2em;}#sk-container-id-1 div.sk-label-container {text-align: center;}#sk-container-id-1 div.sk-container {/* jupyter's `normalize.less` sets `[hidden] { display: none; }` but bootstrap.min.css set `[hidden] { display: none !important; }` so we also need the `!important` here to be able to override the default hidden behavior on the sphinx rendered scikit-learn.org. See: https://github.com/scikit-learn/scikit-learn/issues/21755 */display: inline-block !important;position: relative;}#sk-container-id-1 div.sk-text-repr-fallback {display: none;}</style><div id=\"sk-container-id-1\" class=\"sk-top-container\"><div class=\"sk-text-repr-fallback\"><pre>Pipeline(steps=[(&#x27;tfidf&#x27;, TfidfVectorizer()), (&#x27;clf&#x27;, MultinomialNB())])</pre><b>In a Jupyter environment, please rerun this cell to show the HTML representation or trust the notebook. <br />On GitHub, the HTML representation is unable to render, please try loading this page with nbviewer.org.</b></div><div class=\"sk-container\" hidden><div class=\"sk-item sk-dashed-wrapped\"><div class=\"sk-label-container\"><div class=\"sk-label sk-toggleable\"><input class=\"sk-toggleable__control sk-hidden--visually\" id=\"sk-estimator-id-1\" type=\"checkbox\" ><label for=\"sk-estimator-id-1\" class=\"sk-toggleable__label sk-toggleable__label-arrow\">Pipeline</label><div class=\"sk-toggleable__content\"><pre>Pipeline(steps=[(&#x27;tfidf&#x27;, TfidfVectorizer()), (&#x27;clf&#x27;, MultinomialNB())])</pre></div></div></div><div class=\"sk-serial\"><div class=\"sk-item\"><div class=\"sk-estimator sk-toggleable\"><input class=\"sk-toggleable__control sk-hidden--visually\" id=\"sk-estimator-id-2\" type=\"checkbox\" ><label for=\"sk-estimator-id-2\" class=\"sk-toggleable__label sk-toggleable__label-arrow\">TfidfVectorizer</label><div class=\"sk-toggleable__content\"><pre>TfidfVectorizer()</pre></div></div></div><div class=\"sk-item\"><div class=\"sk-estimator sk-toggleable\"><input class=\"sk-toggleable__control sk-hidden--visually\" id=\"sk-estimator-id-3\" type=\"checkbox\" ><label for=\"sk-estimator-id-3\" class=\"sk-toggleable__label sk-toggleable__label-arrow\">MultinomialNB</label><div class=\"sk-toggleable__content\"><pre>MultinomialNB()</pre></div></div></div></div></div></div></div>"
      ],
      "text/plain": [
       "Pipeline(steps=[('tfidf', TfidfVectorizer()), ('clf', MultinomialNB())])"
      ]
     },
     "execution_count": 20,
     "metadata": {},
     "output_type": "execute_result"
    }
   ],
   "source": [
    "# Building out the baseline model\n",
    "\n",
    "# Build Model\n",
    "model_0 = Pipeline([\n",
    "    ('tfidf', TfidfVectorizer()),\n",
    "    ('clf', MultinomialNB()),\n",
    "])\n",
    "\n",
    "# Fit Model\n",
    "model_0.fit(train_sentences, train_labels)"
   ]
  },
  {
   "cell_type": "code",
   "execution_count": 21,
   "id": "d20451e2-c1b3-4d3e-8e9c-80825b88793f",
   "metadata": {},
   "outputs": [
    {
     "data": {
      "text/plain": [
       "0.7926509186351706"
      ]
     },
     "execution_count": 21,
     "metadata": {},
     "output_type": "execute_result"
    }
   ],
   "source": [
    "# Evaluate model (SKlearn uses accuracy as the metric)\n",
    "baseline_score = model_0.score(val_sentences, val_labels)\n",
    "baseline_score  # Accuracy"
   ]
  },
  {
   "cell_type": "code",
   "execution_count": 22,
   "id": "254b6e0b-829c-4e03-ba51-a1cffa9415dd",
   "metadata": {},
   "outputs": [
    {
     "data": {
      "text/plain": [
       "array([1, 1, 1, 0, 0, 1, 1, 1, 1, 0, 0, 1, 0, 0, 0, 0, 0, 0, 0, 1])"
      ]
     },
     "execution_count": 22,
     "metadata": {},
     "output_type": "execute_result"
    }
   ],
   "source": [
    "# Make predictions\n",
    "baseline_preds = model_0.predict(val_sentences)\n",
    "baseline_preds[:20]"
   ]
  },
  {
   "cell_type": "code",
   "execution_count": 23,
   "id": "2ac9f5f5-d892-4ef6-a304-8e0297fc8b53",
   "metadata": {},
   "outputs": [
    {
     "data": {
      "text/plain": [
       "PredictionMetrics(accuracy=0.7926509186351706, precision=0.8111390004213173, recall=0.7926509186351706, f1=0.7862189758049549)"
      ]
     },
     "execution_count": 23,
     "metadata": {},
     "output_type": "execute_result"
    }
   ],
   "source": [
    "baseline_results = analysis.classification.generate_prediction_metrics(val_labels, baseline_preds)\n",
    "baseline_results"
   ]
  },
  {
   "cell_type": "markdown",
   "id": "b39338d8-68c6-435d-aa7c-7c2b196b6de3",
   "metadata": {},
   "source": [
    "### Model-1: Feed Forward Dense Model\n",
    "\n",
    "The first test I am going to run against my baseline model is to use the traditional Dense DL model."
   ]
  },
  {
   "cell_type": "code",
   "execution_count": 24,
   "id": "53bbfad7-df0b-4691-850b-1cad30ef8294",
   "metadata": {},
   "outputs": [
    {
     "name": "stdout",
     "output_type": "stream",
     "text": [
      "Model: \"DenseModel\"\n",
      "_________________________________________________________________\n",
      " Layer (type)                Output Shape              Param #   \n",
      "=================================================================\n",
      " input_1 (InputLayer)        [(None, 1)]               0         \n",
      "                                                                 \n",
      " text_vectorization (TextVe  (None, 15)                0         \n",
      " ctorization)                                                    \n",
      "                                                                 \n",
      " embedding (Embedding)       (None, 15, 128)           1280000   \n",
      "                                                                 \n",
      " global_average_pooling1d (  (None, 128)               0         \n",
      " GlobalAveragePooling1D)                                         \n",
      "                                                                 \n",
      " dense (Dense)               (None, 1)                 129       \n",
      "                                                                 \n",
      "=================================================================\n",
      "Total params: 1280129 (4.88 MB)\n",
      "Trainable params: 1280129 (4.88 MB)\n",
      "Non-trainable params: 0 (0.00 Byte)\n",
      "_________________________________________________________________\n"
     ]
    }
   ],
   "source": [
    "# Build model\n",
    "inputs = tf.keras.layers.Input(shape=(1,), dtype=tf.string) # Inputs are 1 dimensional strings\n",
    "x = text_vectorizer(inputs)  # Turn the input text into numbers\n",
    "x = embedding(x)  # Embed the text\n",
    "x = tf.keras.layers.GlobalAveragePooling1D()(x)\n",
    "outputs = tf.keras.layers.Dense(1, activation='sigmoid')(x)  # Create the output layer\n",
    "\n",
    "model_1 = tf.keras.models.Model(inputs, outputs, name='DenseModel')\n",
    "model_1.summary()"
   ]
  },
  {
   "cell_type": "code",
   "execution_count": 25,
   "id": "7f67ff4b-50cf-432e-a11f-709b9766db42",
   "metadata": {},
   "outputs": [
    {
     "name": "stderr",
     "output_type": "stream",
     "text": [
      "WARNING:absl:At this time, the v2.11+ optimizer `tf.keras.optimizers.Adam` runs slowly on M1/M2 Macs, please use the legacy Keras optimizer instead, located at `tf.keras.optimizers.legacy.Adam`.\n",
      "WARNING:absl:There is a known slowdown when using v2.11+ Keras optimizers on M1/M2 Macs. Falling back to the legacy Keras optimizer, i.e., `tf.keras.optimizers.legacy.Adam`.\n"
     ]
    }
   ],
   "source": [
    "# Compile Model\n",
    "model_1.compile(loss='binary_crossentropy',\n",
    "                optimizer=tf.keras.optimizers.Adam(),\n",
    "                metrics=['accuracy'])"
   ]
  },
  {
   "cell_type": "code",
   "execution_count": 26,
   "id": "cf48076b-8252-4e39-9427-535ba6ebd086",
   "metadata": {},
   "outputs": [
    {
     "name": "stderr",
     "output_type": "stream",
     "text": [
      "INFO:py_learning_toolbox.deep_learning.modeling.callbacks:TensorBoard callback created.\n"
     ]
    },
    {
     "name": "stdout",
     "output_type": "stream",
     "text": [
      "Epoch 1/5\n"
     ]
    },
    {
     "name": "stderr",
     "output_type": "stream",
     "text": [
      "2023-08-28 17:26:45.712176: I tensorflow/core/grappler/optimizers/custom_graph_optimizer_registry.cc:114] Plugin optimizer for device_type GPU is enabled.\n"
     ]
    },
    {
     "name": "stdout",
     "output_type": "stream",
     "text": [
      "215/215 [==============================] - 3s 14ms/step - loss: 0.6117 - accuracy: 0.6895 - val_loss: 0.5337 - val_accuracy: 0.7598\n",
      "Epoch 2/5\n",
      "  1/215 [..............................] - ETA: 2s - loss: 0.4871 - accuracy: 0.8438"
     ]
    },
    {
     "name": "stderr",
     "output_type": "stream",
     "text": [
      "2023-08-28 17:26:48.805619: I tensorflow/core/grappler/optimizers/custom_graph_optimizer_registry.cc:114] Plugin optimizer for device_type GPU is enabled.\n"
     ]
    },
    {
     "name": "stdout",
     "output_type": "stream",
     "text": [
      "215/215 [==============================] - 2s 11ms/step - loss: 0.4420 - accuracy: 0.8180 - val_loss: 0.4704 - val_accuracy: 0.7887\n",
      "Epoch 3/5\n",
      "215/215 [==============================] - 2s 10ms/step - loss: 0.3484 - accuracy: 0.8581 - val_loss: 0.4559 - val_accuracy: 0.7966\n",
      "Epoch 4/5\n",
      "215/215 [==============================] - 2s 10ms/step - loss: 0.2854 - accuracy: 0.8897 - val_loss: 0.4667 - val_accuracy: 0.7900\n",
      "Epoch 5/5\n",
      "215/215 [==============================] - 2s 11ms/step - loss: 0.2393 - accuracy: 0.9086 - val_loss: 0.4816 - val_accuracy: 0.7808\n"
     ]
    }
   ],
   "source": [
    "# Setup Callbacks\n",
    "tensorboard_callback_1 = modeling.callbacks.generate_tensorboard_callback('dense-model', str(TENSORBOARD_LOGS_DIR))\n",
    "\n",
    "# Fit the model\n",
    "model_1_history = model_1.fit(x=train_sentences,\n",
    "            y=train_labels,\n",
    "            epochs=5,\n",
    "            validation_data=(val_sentences, val_labels),\n",
    "            callbacks=[tensorboard_callback_1])"
   ]
  },
  {
   "cell_type": "code",
   "execution_count": 27,
   "id": "4ed8bf60-9d38-41fd-acf3-49e2654f8d64",
   "metadata": {},
   "outputs": [
    {
     "name": "stdout",
     "output_type": "stream",
     "text": [
      "24/24 [==============================] - 0s 4ms/step - loss: 0.4816 - accuracy: 0.7808\n"
     ]
    },
    {
     "data": {
      "text/plain": [
       "[0.48160988092422485, 0.7808399200439453]"
      ]
     },
     "execution_count": 27,
     "metadata": {},
     "output_type": "execute_result"
    }
   ],
   "source": [
    "model_1.evaluate(val_sentences, val_labels)"
   ]
  },
  {
   "cell_type": "code",
   "execution_count": 28,
   "id": "a3f72702-211e-44d0-b2cb-01d7ae0caa1f",
   "metadata": {},
   "outputs": [
    {
     "name": "stdout",
     "output_type": "stream",
     "text": [
      "24/24 [==============================] - 0s 2ms/step\n"
     ]
    },
    {
     "name": "stderr",
     "output_type": "stream",
     "text": [
      "2023-08-28 17:26:58.334518: I tensorflow/core/grappler/optimizers/custom_graph_optimizer_registry.cc:114] Plugin optimizer for device_type GPU is enabled.\n"
     ]
    },
    {
     "data": {
      "text/plain": [
       "array([[0.3331611 ],\n",
       "       [0.7276712 ],\n",
       "       [0.9979023 ],\n",
       "       [0.14561696],\n",
       "       [0.11085988],\n",
       "       [0.94345176],\n",
       "       [0.9303112 ],\n",
       "       [0.9924966 ],\n",
       "       [0.96197504],\n",
       "       [0.3015671 ]], dtype=float32)"
      ]
     },
     "execution_count": 28,
     "metadata": {},
     "output_type": "execute_result"
    }
   ],
   "source": [
    "# Get prediction probabilities\n",
    "model_1_pred_probs = model_1.predict(val_sentences)\n",
    "model_1_pred_probs[:10]"
   ]
  },
  {
   "cell_type": "code",
   "execution_count": 29,
   "id": "c1f92c99-e8c0-48eb-b2db-b6e011fb23e1",
   "metadata": {},
   "outputs": [
    {
     "data": {
      "text/plain": [
       "<tf.Tensor: shape=(10,), dtype=float32, numpy=array([0., 1., 1., 0., 0., 1., 1., 1., 1., 0.], dtype=float32)>"
      ]
     },
     "execution_count": 29,
     "metadata": {},
     "output_type": "execute_result"
    }
   ],
   "source": [
    "# Convert prediction probabilities to 1 or 0\n",
    "model_1_preds = tf.squeeze(tf.round(model_1_pred_probs))\n",
    "model_1_preds[:10]"
   ]
  },
  {
   "cell_type": "code",
   "execution_count": 30,
   "id": "44fa9630-6cbc-48f9-8139-907a505b5e7c",
   "metadata": {},
   "outputs": [
    {
     "data": {
      "text/plain": [
       "PredictionMetrics(accuracy=0.7808398950131233, precision=0.7848699684611963, recall=0.7808398950131233, f1=0.7779792730264676)"
      ]
     },
     "execution_count": 30,
     "metadata": {},
     "output_type": "execute_result"
    }
   ],
   "source": [
    "model_1_results = analysis.classification.generate_prediction_metrics(val_labels, model_1_preds)\n",
    "model_1_results"
   ]
  },
  {
   "cell_type": "code",
   "execution_count": 31,
   "id": "d8d75b29-f373-41b5-b5c3-d84598ad92dd",
   "metadata": {},
   "outputs": [
    {
     "data": {
      "text/plain": [
       "array([False, False, False, False])"
      ]
     },
     "execution_count": 31,
     "metadata": {},
     "output_type": "execute_result"
    }
   ],
   "source": [
    "# Analyze data against the baseline data\n",
    "np.array(list(dict(model_1_results).values())) >= np.array(list(dict(baseline_results).values()))"
   ]
  },
  {
   "cell_type": "markdown",
   "id": "6d054d93-bf80-42b7-9a9a-3a335dd20784",
   "metadata": {},
   "source": [
    "#### Findings\n",
    "\n",
    "Looks like the baseline outperformed the simple Dense DL model."
   ]
  },
  {
   "cell_type": "markdown",
   "id": "36ca71a6-cc7c-4956-8074-1a4519ae6732",
   "metadata": {},
   "source": [
    "#### Visualizing the Learned Embeddings\n",
    "\n",
    "To visualize the embedding matrix, TensorFlow has a handy tool called projector that visualizes the matrix.\n",
    "\n",
    "NOTE: To utilize the projector tool, you need to create a vectors.tsv and metadata.tsv that will be uploaded to the projector website linked below.\n",
    "\n",
    "* https://www.tensorflow.org/text/guide/word_embeddings\n",
    "* https://projector.tensorflow.org/"
   ]
  },
  {
   "cell_type": "code",
   "execution_count": 32,
   "id": "f2b7d1a8-c022-4240-b849-5fdf3771f75a",
   "metadata": {},
   "outputs": [
    {
     "data": {
      "text/plain": [
       "array([[-0.04077354,  0.02332817,  0.0010654 , ..., -0.01173849,\n",
       "         0.00839117, -0.00802486],\n",
       "       [-0.0001722 ,  0.01925414, -0.04033769, ...,  0.04278829,\n",
       "         0.0165825 ,  0.00488503],\n",
       "       [-0.04562515,  0.03561248,  0.03521897, ...,  0.01214127,\n",
       "        -0.02458713, -0.02225271],\n",
       "       ...,\n",
       "       [ 0.00816353,  0.0345163 ,  0.00548022, ..., -0.02533958,\n",
       "         0.03551415, -0.03385993],\n",
       "       [-0.01410693, -0.06379256,  0.04922031, ..., -0.00013135,\n",
       "         0.04547554,  0.07382385],\n",
       "       [-0.1004874 , -0.07358213,  0.06906305, ...,  0.08546294,\n",
       "         0.05537951,  0.05981688]], dtype=float32)"
      ]
     },
     "execution_count": 32,
     "metadata": {},
     "output_type": "execute_result"
    }
   ],
   "source": [
    "# Get the weight matrix of embedding layer\n",
    "# These are the numerical representation of each token in our training data, learned for 5 epochs.\n",
    "embed_weights_1 = model_1.get_layer('embedding').get_weights()[0]\n",
    "embed_weights_1"
   ]
  },
  {
   "cell_type": "code",
   "execution_count": 33,
   "id": "5e940973-74b3-424b-bbf0-438d0678daed",
   "metadata": {},
   "outputs": [
    {
     "data": {
      "text/plain": [
       "(10000, 128)"
      ]
     },
     "execution_count": 33,
     "metadata": {},
     "output_type": "execute_result"
    }
   ],
   "source": [
    "# Looking at the shape, the embedding matrix is 10,000 x 128 matrix\n",
    "# (every token in vocabulary has 128 params to better represent each token)\n",
    "embed_weights_1.shape"
   ]
  },
  {
   "cell_type": "code",
   "execution_count": 34,
   "id": "1e878b9e-d8d2-424d-8522-4ef0314ecc69",
   "metadata": {},
   "outputs": [],
   "source": [
    "# Create embedding files (These will be uploaded to the embedding projector)\n",
    "filepath = f'{str(TENSORBOARD_LOGS_DIR)}/dense-model/embedding_projector'\n",
    "analysis.export.export_embedding_projector_data(embed_weights_1, words_in_vocab, filepath, True)"
   ]
  },
  {
   "cell_type": "markdown",
   "id": "ca7054a5-4c7d-4fda-a872-c003aa674369",
   "metadata": {},
   "source": [
    "### Model-2: LSTM\n",
    "\n",
    "LSTM (Long Short Term Memory) is one of the most popular RNN models.\n",
    "\n",
    "Our structure of an RNN typically looks like this:\n",
    "\n",
    "```\n",
    "Input (text) -> Tokenize -> Embedding -> Layers (RNN's/Dense) -> Output\n",
    "```"
   ]
  },
  {
   "cell_type": "code",
   "execution_count": 35,
   "id": "1388e221-2f44-4ad0-bc11-41e389ba7706",
   "metadata": {},
   "outputs": [
    {
     "name": "stdout",
     "output_type": "stream",
     "text": [
      "Model: \"Model2LSTM\"\n",
      "_________________________________________________________________\n",
      " Layer (type)                Output Shape              Param #   \n",
      "=================================================================\n",
      " input_2 (InputLayer)        [(None, 1)]               0         \n",
      "                                                                 \n",
      " text_vectorization (TextVe  (None, 15)                0         \n",
      " ctorization)                                                    \n",
      "                                                                 \n",
      " embedding (Embedding)       (None, 15, 128)           1280000   \n",
      "                                                                 \n",
      " lstm (LSTM)                 (None, 64)                49408     \n",
      "                                                                 \n",
      " dense_1 (Dense)             (None, 1)                 65        \n",
      "                                                                 \n",
      "=================================================================\n",
      "Total params: 1329473 (5.07 MB)\n",
      "Trainable params: 1329473 (5.07 MB)\n",
      "Non-trainable params: 0 (0.00 Byte)\n",
      "_________________________________________________________________\n"
     ]
    }
   ],
   "source": [
    "# Create an LSTM Model\n",
    "\n",
    "# Build model\n",
    "inputs = tf.keras.layers.Input(shape=(1,), dtype=tf.string) # Inputs are 1 dimensional strings\n",
    "\n",
    "x = text_vectorizer(inputs)  # Turn the input text into numbers\n",
    "x = embedding(x)  # Embed the text\n",
    "# x = tf.keras.layers.LSTM(64, return_sequences=True)(x)  # when you're stacking RNN cells together, you need to set return sequences to True\n",
    "x = tf.keras.layers.LSTM(64)(x)\n",
    "# x = tf.keras.layers.Dense(64, activation='relu')(x)\n",
    "\n",
    "outputs = tf.keras.layers.Dense(1, activation='sigmoid')(x)\n",
    "\n",
    "model_2 = tf.keras.models.Model(inputs, outputs, name='Model2LSTM')\n",
    "model_2.summary()"
   ]
  },
  {
   "cell_type": "code",
   "execution_count": 36,
   "id": "0c0829d5-5abd-4559-b7b7-4f6beaea6b23",
   "metadata": {},
   "outputs": [
    {
     "name": "stderr",
     "output_type": "stream",
     "text": [
      "WARNING:absl:At this time, the v2.11+ optimizer `tf.keras.optimizers.Adam` runs slowly on M1/M2 Macs, please use the legacy Keras optimizer instead, located at `tf.keras.optimizers.legacy.Adam`.\n",
      "WARNING:absl:There is a known slowdown when using v2.11+ Keras optimizers on M1/M2 Macs. Falling back to the legacy Keras optimizer, i.e., `tf.keras.optimizers.legacy.Adam`.\n"
     ]
    }
   ],
   "source": [
    "# Compile the model\n",
    "model_2.compile(loss='binary_crossentropy',\n",
    "                optimizer=tf.keras.optimizers.Adam(),\n",
    "                metrics=['accuracy'])"
   ]
  },
  {
   "cell_type": "code",
   "execution_count": 37,
   "id": "e827fd22-4c30-483e-911a-fdcce2878a43",
   "metadata": {},
   "outputs": [
    {
     "name": "stderr",
     "output_type": "stream",
     "text": [
      "INFO:py_learning_toolbox.deep_learning.modeling.callbacks:TensorBoard callback created.\n"
     ]
    },
    {
     "name": "stdout",
     "output_type": "stream",
     "text": [
      "Epoch 1/5\n"
     ]
    },
    {
     "name": "stderr",
     "output_type": "stream",
     "text": [
      "2023-08-28 17:26:59.443647: I tensorflow/core/grappler/optimizers/custom_graph_optimizer_registry.cc:114] Plugin optimizer for device_type GPU is enabled.\n",
      "2023-08-28 17:26:59.577510: I tensorflow/core/grappler/optimizers/custom_graph_optimizer_registry.cc:114] Plugin optimizer for device_type GPU is enabled.\n"
     ]
    },
    {
     "name": "stdout",
     "output_type": "stream",
     "text": [
      "  1/215 [..............................] - ETA: 2:59 - loss: 0.6784 - accuracy: 0.7188"
     ]
    },
    {
     "name": "stderr",
     "output_type": "stream",
     "text": [
      "2023-08-28 17:26:59.716769: I tensorflow/core/grappler/optimizers/custom_graph_optimizer_registry.cc:114] Plugin optimizer for device_type GPU is enabled.\n"
     ]
    },
    {
     "name": "stdout",
     "output_type": "stream",
     "text": [
      "215/215 [==============================] - ETA: 0s - loss: 0.2263 - accuracy: 0.9209"
     ]
    },
    {
     "name": "stderr",
     "output_type": "stream",
     "text": [
      "2023-08-28 17:27:03.737006: I tensorflow/core/grappler/optimizers/custom_graph_optimizer_registry.cc:114] Plugin optimizer for device_type GPU is enabled.\n",
      "2023-08-28 17:27:03.788353: I tensorflow/core/grappler/optimizers/custom_graph_optimizer_registry.cc:114] Plugin optimizer for device_type GPU is enabled.\n"
     ]
    },
    {
     "name": "stdout",
     "output_type": "stream",
     "text": [
      "215/215 [==============================] - 5s 20ms/step - loss: 0.2263 - accuracy: 0.9209 - val_loss: 0.5442 - val_accuracy: 0.7822\n",
      "Epoch 2/5\n",
      "215/215 [==============================] - 3s 16ms/step - loss: 0.1593 - accuracy: 0.9429 - val_loss: 0.5943 - val_accuracy: 0.7730\n",
      "Epoch 3/5\n",
      "215/215 [==============================] - 3s 15ms/step - loss: 0.1288 - accuracy: 0.9524 - val_loss: 0.6879 - val_accuracy: 0.7822\n",
      "Epoch 4/5\n",
      "215/215 [==============================] - 3s 16ms/step - loss: 0.1050 - accuracy: 0.9612 - val_loss: 0.8916 - val_accuracy: 0.7782\n",
      "Epoch 5/5\n",
      "215/215 [==============================] - 3s 15ms/step - loss: 0.0857 - accuracy: 0.9661 - val_loss: 0.9811 - val_accuracy: 0.7769\n"
     ]
    }
   ],
   "source": [
    "# Setup Callbacks\n",
    "tensorboard_callback_2 = modeling.callbacks.generate_tensorboard_callback('lstm-model', str(TENSORBOARD_LOGS_DIR))\n",
    "\n",
    "# Fit the Model\n",
    "model_2_history = model_2.fit(train_sentences,\n",
    "            train_labels,\n",
    "            epochs=5,\n",
    "            validation_data=(val_sentences, val_labels),\n",
    "            callbacks=[tensorboard_callback_2])"
   ]
  },
  {
   "cell_type": "code",
   "execution_count": 38,
   "id": "a8dc7f09-a0d1-4e38-98f2-1535db614631",
   "metadata": {},
   "outputs": [
    {
     "data": {
      "image/png": "[encoded data removed]",
      "text/plain": [
       "<Figure size 640x480 with 1 Axes>"
      ]
     },
     "metadata": {},
     "output_type": "display_data"
    }
   ],
   "source": [
    "analysis.history.plot_history(model_2_history, 'accuracy')"
   ]
  },
  {
   "cell_type": "code",
   "execution_count": 39,
   "id": "c043b6ce-a9e1-4281-bf68-a2793caea3b5",
   "metadata": {},
   "outputs": [
    {
     "name": "stdout",
     "output_type": "stream",
     "text": [
      "12/24 [==============>...............] - ETA: 0s"
     ]
    },
    {
     "name": "stderr",
     "output_type": "stream",
     "text": [
      "2023-08-28 17:27:17.762828: I tensorflow/core/grappler/optimizers/custom_graph_optimizer_registry.cc:114] Plugin optimizer for device_type GPU is enabled.\n",
      "2023-08-28 17:27:17.800815: I tensorflow/core/grappler/optimizers/custom_graph_optimizer_registry.cc:114] Plugin optimizer for device_type GPU is enabled.\n"
     ]
    },
    {
     "name": "stdout",
     "output_type": "stream",
     "text": [
      "24/24 [==============================] - 0s 5ms/step\n"
     ]
    },
    {
     "data": {
      "text/plain": [
       "array([[7.1222722e-03],\n",
       "       [9.0038019e-01],\n",
       "       [9.9974602e-01],\n",
       "       [1.7290855e-02],\n",
       "       [4.9464189e-04],\n",
       "       [9.9937481e-01],\n",
       "       [9.6263140e-01],\n",
       "       [9.9983609e-01],\n",
       "       [9.9973696e-01],\n",
       "       [3.0931339e-01]], dtype=float32)"
      ]
     },
     "execution_count": 39,
     "metadata": {},
     "output_type": "execute_result"
    }
   ],
   "source": [
    "model_2_pred_probs = model_2.predict(val_sentences)\n",
    "model_2_pred_probs[:10]"
   ]
  },
  {
   "cell_type": "code",
   "execution_count": 40,
   "id": "ae89a95b-d25a-46ef-a7ce-e2cd6a5c732f",
   "metadata": {},
   "outputs": [
    {
     "data": {
      "text/plain": [
       "<tf.Tensor: shape=(10,), dtype=float32, numpy=array([0., 1., 1., 0., 0., 1., 1., 1., 1., 0.], dtype=float32)>"
      ]
     },
     "execution_count": 40,
     "metadata": {},
     "output_type": "execute_result"
    }
   ],
   "source": [
    "model_2_preds = tf.squeeze(tf.round(model_2_pred_probs))\n",
    "model_2_preds[:10]"
   ]
  },
  {
   "cell_type": "code",
   "execution_count": 41,
   "id": "4cc23833-2b7d-414e-b857-5ff4297fea35",
   "metadata": {},
   "outputs": [
    {
     "data": {
      "text/plain": [
       "PredictionMetrics(accuracy=0.7769028871391076, precision=0.7789562668302826, recall=0.7769028871391076, f1=0.7747522807746444)"
      ]
     },
     "execution_count": 41,
     "metadata": {},
     "output_type": "execute_result"
    }
   ],
   "source": [
    "model_2_results = analysis.classification.generate_prediction_metrics(val_labels, model_2_preds)\n",
    "model_2_results"
   ]
  },
  {
   "cell_type": "code",
   "execution_count": 42,
   "id": "c9ff0c66-daaf-45f2-b34d-f4f1445b4ff2",
   "metadata": {},
   "outputs": [
    {
     "data": {
      "text/plain": [
       "array([False, False, False, False])"
      ]
     },
     "execution_count": 42,
     "metadata": {},
     "output_type": "execute_result"
    }
   ],
   "source": [
    "# Analyze data against the baseline data\n",
    "np.array(list(dict(model_1_results).values())) >= np.array(list(dict(baseline_results).values()))"
   ]
  },
  {
   "cell_type": "markdown",
   "id": "be06ef56-f224-4fde-806e-6e5c3aaaab42",
   "metadata": {},
   "source": [
    "#### Findings\n",
    "\n",
    "Looks like the baseline model is still outperforming the LSTM model."
   ]
  },
  {
   "cell_type": "markdown",
   "id": "51be6ac4-260f-4dc9-b6b5-270446df1aa2",
   "metadata": {},
   "source": [
    "### Model-3: GRU\n",
    "\n",
    "Another popular and effective RNN component is the FRU or gated recurrent unit. The GRU cell has similar features to an LSTM cell, but has less parameters."
   ]
  },
  {
   "cell_type": "code",
   "execution_count": 43,
   "id": "9e542694-dc83-4390-a639-209450496c72",
   "metadata": {},
   "outputs": [
    {
     "name": "stdout",
     "output_type": "stream",
     "text": [
      "Model: \"Model3GRU\"\n",
      "_________________________________________________________________\n",
      " Layer (type)                Output Shape              Param #   \n",
      "=================================================================\n",
      " input_3 (InputLayer)        [(None, 1)]               0         \n",
      "                                                                 \n",
      " text_vectorization (TextVe  (None, 15)                0         \n",
      " ctorization)                                                    \n",
      "                                                                 \n",
      " embedding (Embedding)       (None, 15, 128)           1280000   \n",
      "                                                                 \n",
      " gru (GRU)                   (None, 64)                37248     \n",
      "                                                                 \n",
      " dense_2 (Dense)             (None, 1)                 65        \n",
      "                                                                 \n",
      "=================================================================\n",
      "Total params: 1317313 (5.03 MB)\n",
      "Trainable params: 1317313 (5.03 MB)\n",
      "Non-trainable params: 0 (0.00 Byte)\n",
      "_________________________________________________________________\n"
     ]
    }
   ],
   "source": [
    "# Create the GRU model\n",
    "\n",
    "inputs = tf.keras.layers.Input(shape=(1,), dtype=tf.string)\n",
    "x = text_vectorizer(inputs)\n",
    "x = embedding(x)\n",
    "x = tf.keras.layers.GRU(64)(x)\n",
    "outputs = tf.keras.layers.Dense(1, activation='sigmoid')(x)\n",
    "\n",
    "model_3 = tf.keras.models.Model(inputs, outputs, name='Model3GRU')\n",
    "model_3.summary()"
   ]
  },
  {
   "cell_type": "code",
   "execution_count": 44,
   "id": "05af53a9-d9ed-4864-9326-c40fab38899a",
   "metadata": {},
   "outputs": [
    {
     "name": "stderr",
     "output_type": "stream",
     "text": [
      "WARNING:absl:At this time, the v2.11+ optimizer `tf.keras.optimizers.Adam` runs slowly on M1/M2 Macs, please use the legacy Keras optimizer instead, located at `tf.keras.optimizers.legacy.Adam`.\n",
      "WARNING:absl:There is a known slowdown when using v2.11+ Keras optimizers on M1/M2 Macs. Falling back to the legacy Keras optimizer, i.e., `tf.keras.optimizers.legacy.Adam`.\n"
     ]
    }
   ],
   "source": [
    "# Compile the Model\n",
    "model_3.compile(loss='binary_crossentropy',\n",
    "                optimizer=tf.keras.optimizers.Adam(),\n",
    "                metrics=['accuracy'])"
   ]
  },
  {
   "cell_type": "code",
   "execution_count": 45,
   "id": "a9e1053b-3660-4568-b881-1847864bc407",
   "metadata": {},
   "outputs": [
    {
     "name": "stderr",
     "output_type": "stream",
     "text": [
      "INFO:py_learning_toolbox.deep_learning.modeling.callbacks:TensorBoard callback created.\n"
     ]
    },
    {
     "name": "stdout",
     "output_type": "stream",
     "text": [
      "Epoch 1/5\n"
     ]
    },
    {
     "name": "stderr",
     "output_type": "stream",
     "text": [
      "2023-08-28 17:27:18.651955: I tensorflow/core/grappler/optimizers/custom_graph_optimizer_registry.cc:114] Plugin optimizer for device_type GPU is enabled.\n",
      "2023-08-28 17:27:18.772195: I tensorflow/core/grappler/optimizers/custom_graph_optimizer_registry.cc:114] Plugin optimizer for device_type GPU is enabled.\n"
     ]
    },
    {
     "name": "stdout",
     "output_type": "stream",
     "text": [
      "  1/215 [..............................] - ETA: 2:59 - loss: 0.7078 - accuracy: 0.2812"
     ]
    },
    {
     "name": "stderr",
     "output_type": "stream",
     "text": [
      "2023-08-28 17:27:18.922232: I tensorflow/core/grappler/optimizers/custom_graph_optimizer_registry.cc:114] Plugin optimizer for device_type GPU is enabled.\n"
     ]
    },
    {
     "name": "stdout",
     "output_type": "stream",
     "text": [
      "215/215 [==============================] - ETA: 0s - loss: 0.1698 - accuracy: 0.9326"
     ]
    },
    {
     "name": "stderr",
     "output_type": "stream",
     "text": [
      "2023-08-28 17:27:23.119303: I tensorflow/core/grappler/optimizers/custom_graph_optimizer_registry.cc:114] Plugin optimizer for device_type GPU is enabled.\n",
      "2023-08-28 17:27:23.169391: I tensorflow/core/grappler/optimizers/custom_graph_optimizer_registry.cc:114] Plugin optimizer for device_type GPU is enabled.\n"
     ]
    },
    {
     "name": "stdout",
     "output_type": "stream",
     "text": [
      "215/215 [==============================] - 5s 21ms/step - loss: 0.1698 - accuracy: 0.9326 - val_loss: 0.7566 - val_accuracy: 0.7717\n",
      "Epoch 2/5\n",
      "215/215 [==============================] - 3s 16ms/step - loss: 0.0849 - accuracy: 0.9685 - val_loss: 0.8330 - val_accuracy: 0.7717\n",
      "Epoch 3/5\n",
      "215/215 [==============================] - 3s 15ms/step - loss: 0.0698 - accuracy: 0.9726 - val_loss: 1.0318 - val_accuracy: 0.7756\n",
      "Epoch 4/5\n",
      "215/215 [==============================] - 3s 15ms/step - loss: 0.0577 - accuracy: 0.9769 - val_loss: 1.0263 - val_accuracy: 0.7690\n",
      "Epoch 5/5\n",
      "215/215 [==============================] - 3s 15ms/step - loss: 0.0544 - accuracy: 0.9778 - val_loss: 1.2158 - val_accuracy: 0.7703\n"
     ]
    }
   ],
   "source": [
    "# Fit the model with Tensorboard callback\n",
    "# Setup Callbacks\n",
    "tensorboard_callback_3 = modeling.callbacks.generate_tensorboard_callback('gru-model', str(TENSORBOARD_LOGS_DIR))\n",
    "\n",
    "# Fit Model\n",
    "model_3_history = model_3.fit(train_sentences,\n",
    "                              train_labels,\n",
    "                              epochs=5,\n",
    "                              validation_data=(val_sentences, val_labels),\n",
    "                              callbacks=[tensorboard_callback_3])"
   ]
  },
  {
   "cell_type": "code",
   "execution_count": 46,
   "id": "803dde71-9ffb-4597-be5b-1ec36d888a7a",
   "metadata": {},
   "outputs": [
    {
     "data": {
      "image/png": "[encoded data removed]",
      "text/plain": [
       "<Figure size 640x480 with 1 Axes>"
      ]
     },
     "metadata": {},
     "output_type": "display_data"
    }
   ],
   "source": [
    "analysis.history.plot_history(model_3_history, 'accuracy')"
   ]
  },
  {
   "cell_type": "code",
   "execution_count": 47,
   "id": "5e0296de-ab8f-4bc1-bfe1-c7a7e2800daf",
   "metadata": {},
   "outputs": [
    {
     "name": "stdout",
     "output_type": "stream",
     "text": [
      "24/24 [==============================] - 0s 4ms/step\n"
     ]
    },
    {
     "name": "stderr",
     "output_type": "stream",
     "text": [
      "2023-08-28 17:27:36.770123: I tensorflow/core/grappler/optimizers/custom_graph_optimizer_registry.cc:114] Plugin optimizer for device_type GPU is enabled.\n",
      "2023-08-28 17:27:36.805634: I tensorflow/core/grappler/optimizers/custom_graph_optimizer_registry.cc:114] Plugin optimizer for device_type GPU is enabled.\n"
     ]
    },
    {
     "data": {
      "text/plain": [
       "array([[1.5395838e-03],\n",
       "       [8.3597285e-01],\n",
       "       [9.9971718e-01],\n",
       "       [8.8650875e-02],\n",
       "       [9.1782720e-05],\n",
       "       [9.9956459e-01],\n",
       "       [9.3220729e-01],\n",
       "       [9.9992502e-01],\n",
       "       [9.9984956e-01],\n",
       "       [6.4778149e-01]], dtype=float32)"
      ]
     },
     "execution_count": 47,
     "metadata": {},
     "output_type": "execute_result"
    }
   ],
   "source": [
    "model_3_pred_probs = model_3.predict(val_sentences)\n",
    "model_3_pred_probs[:10]"
   ]
  },
  {
   "cell_type": "code",
   "execution_count": 48,
   "id": "47ba14b6-b464-4c93-833d-2748d44156d3",
   "metadata": {},
   "outputs": [
    {
     "data": {
      "text/plain": [
       "<tf.Tensor: shape=(10,), dtype=float32, numpy=array([0., 1., 1., 0., 0., 1., 1., 1., 1., 1.], dtype=float32)>"
      ]
     },
     "execution_count": 48,
     "metadata": {},
     "output_type": "execute_result"
    }
   ],
   "source": [
    "model_3_preds = tf.squeeze(tf.round(model_3_pred_probs))\n",
    "model_3_preds[:10]"
   ]
  },
  {
   "cell_type": "code",
   "execution_count": 49,
   "id": "effff607-897b-400d-a592-5d5b6b9e5976",
   "metadata": {},
   "outputs": [
    {
     "data": {
      "text/plain": [
       "PredictionMetrics(accuracy=0.7703412073490814, precision=0.7711671866902318, recall=0.7703412073490814, f1=0.7686901866564684)"
      ]
     },
     "execution_count": 49,
     "metadata": {},
     "output_type": "execute_result"
    }
   ],
   "source": [
    "model_3_results = analysis.classification.generate_prediction_metrics(val_labels, model_3_preds)\n",
    "model_3_results"
   ]
  },
  {
   "cell_type": "code",
   "execution_count": 50,
   "id": "75385c70-3992-4e86-b4c7-0c9ebb64cffe",
   "metadata": {},
   "outputs": [
    {
     "data": {
      "text/plain": [
       "array([False, False, False, False])"
      ]
     },
     "execution_count": 50,
     "metadata": {},
     "output_type": "execute_result"
    }
   ],
   "source": [
    "np.array(list(dict(model_3_results).values())) >= np.array(list(dict(baseline_results).values()))"
   ]
  },
  {
   "cell_type": "markdown",
   "id": "de8cf9f9-d855-44c5-879d-0ebe3af91c30",
   "metadata": {},
   "source": [
    "#### Findings\n",
    "\n",
    "Still haven't beat the baseline model :("
   ]
  },
  {
   "cell_type": "markdown",
   "id": "5e15cd40-6ca5-4bf0-8688-bc37fe59a895",
   "metadata": {},
   "source": [
    "### Model-4: Bidirectional LSTM Model\n",
    "\n",
    "Normal RNN's go from left to right, however, Bidirectional RNN's go from left to right as well as right to left. To summarize, it reads a sentence from left to right, then reads it from right to left.\n",
    "\n",
    "NOTE: These are really only useful when going both directions can teach the network something useful when going both ways."
   ]
  },
  {
   "cell_type": "code",
   "execution_count": 51,
   "id": "ce2db689-84b2-4d69-8a8f-460f5bb28c0a",
   "metadata": {},
   "outputs": [
    {
     "name": "stdout",
     "output_type": "stream",
     "text": [
      "Model: \"Model4BidirectionalLSTM\"\n",
      "_________________________________________________________________\n",
      " Layer (type)                Output Shape              Param #   \n",
      "=================================================================\n",
      " input_4 (InputLayer)        [(None, 1)]               0         \n",
      "                                                                 \n",
      " text_vectorization (TextVe  (None, 15)                0         \n",
      " ctorization)                                                    \n",
      "                                                                 \n",
      " embedding (Embedding)       (None, 15, 128)           1280000   \n",
      "                                                                 \n",
      " bidirectional (Bidirection  (None, 128)               98816     \n",
      " al)                                                             \n",
      "                                                                 \n",
      " dense_3 (Dense)             (None, 1)                 129       \n",
      "                                                                 \n",
      "=================================================================\n",
      "Total params: 1378945 (5.26 MB)\n",
      "Trainable params: 1378945 (5.26 MB)\n",
      "Non-trainable params: 0 (0.00 Byte)\n",
      "_________________________________________________________________\n"
     ]
    }
   ],
   "source": [
    "# Build out the Bidirectional Model\n",
    "\n",
    "inputs = tf.keras.layers.Input(shape=(1,), dtype=tf.string)\n",
    "x = text_vectorizer(inputs)\n",
    "x = embedding(x)\n",
    "x = tf.keras.layers.Bidirectional(tf.keras.layers.LSTM(64))(x)\n",
    "outputs = tf.keras.layers.Dense(1, activation='sigmoid')(x)\n",
    "\n",
    "model_4 = tf.keras.models.Model(inputs, outputs, name='Model4BidirectionalLSTM')\n",
    "model_4.summary()"
   ]
  },
  {
   "cell_type": "code",
   "execution_count": 52,
   "id": "cc4ccfc7-6459-4ab4-ac80-8b84a8c547da",
   "metadata": {},
   "outputs": [
    {
     "name": "stderr",
     "output_type": "stream",
     "text": [
      "WARNING:absl:At this time, the v2.11+ optimizer `tf.keras.optimizers.Adam` runs slowly on M1/M2 Macs, please use the legacy Keras optimizer instead, located at `tf.keras.optimizers.legacy.Adam`.\n",
      "WARNING:absl:There is a known slowdown when using v2.11+ Keras optimizers on M1/M2 Macs. Falling back to the legacy Keras optimizer, i.e., `tf.keras.optimizers.legacy.Adam`.\n"
     ]
    }
   ],
   "source": [
    "# compile model\n",
    "model_4.compile(loss='binary_crossentropy',\n",
    "                optimizer=tf.keras.optimizers.Adam(),\n",
    "                metrics=['accuracy'])"
   ]
  },
  {
   "cell_type": "code",
   "execution_count": 53,
   "id": "55e16408-f09f-4124-880b-58f4314c937d",
   "metadata": {},
   "outputs": [
    {
     "name": "stderr",
     "output_type": "stream",
     "text": [
      "INFO:py_learning_toolbox.deep_learning.modeling.callbacks:TensorBoard callback created.\n"
     ]
    },
    {
     "name": "stdout",
     "output_type": "stream",
     "text": [
      "Epoch 1/5\n"
     ]
    },
    {
     "name": "stderr",
     "output_type": "stream",
     "text": [
      "2023-08-28 17:27:37.917800: I tensorflow/core/grappler/optimizers/custom_graph_optimizer_registry.cc:114] Plugin optimizer for device_type GPU is enabled.\n",
      "2023-08-28 17:27:38.112259: I tensorflow/core/grappler/optimizers/custom_graph_optimizer_registry.cc:114] Plugin optimizer for device_type GPU is enabled.\n",
      "2023-08-28 17:27:38.124808: I tensorflow/core/grappler/optimizers/custom_graph_optimizer_registry.cc:114] Plugin optimizer for device_type GPU is enabled.\n",
      "2023-08-28 17:27:38.295651: I tensorflow/core/grappler/optimizers/custom_graph_optimizer_registry.cc:114] Plugin optimizer for device_type GPU is enabled.\n",
      "2023-08-28 17:27:38.313162: I tensorflow/core/grappler/optimizers/custom_graph_optimizer_registry.cc:114] Plugin optimizer for device_type GPU is enabled.\n"
     ]
    },
    {
     "name": "stdout",
     "output_type": "stream",
     "text": [
      "215/215 [==============================] - ETA: 0s - loss: 0.1097 - accuracy: 0.9701"
     ]
    },
    {
     "name": "stderr",
     "output_type": "stream",
     "text": [
      "2023-08-28 17:27:44.154769: I tensorflow/core/grappler/optimizers/custom_graph_optimizer_registry.cc:114] Plugin optimizer for device_type GPU is enabled.\n",
      "2023-08-28 17:27:44.229149: I tensorflow/core/grappler/optimizers/custom_graph_optimizer_registry.cc:114] Plugin optimizer for device_type GPU is enabled.\n",
      "2023-08-28 17:27:44.238227: I tensorflow/core/grappler/optimizers/custom_graph_optimizer_registry.cc:114] Plugin optimizer for device_type GPU is enabled.\n"
     ]
    },
    {
     "name": "stdout",
     "output_type": "stream",
     "text": [
      "215/215 [==============================] - 8s 29ms/step - loss: 0.1097 - accuracy: 0.9701 - val_loss: 1.0303 - val_accuracy: 0.7664\n",
      "Epoch 2/5\n",
      "215/215 [==============================] - 5s 24ms/step - loss: 0.0540 - accuracy: 0.9780 - val_loss: 1.0795 - val_accuracy: 0.7612\n",
      "Epoch 3/5\n",
      "215/215 [==============================] - 5s 22ms/step - loss: 0.0435 - accuracy: 0.9800 - val_loss: 1.4291 - val_accuracy: 0.7520\n",
      "Epoch 4/5\n",
      "215/215 [==============================] - 5s 22ms/step - loss: 0.0449 - accuracy: 0.9794 - val_loss: 1.1635 - val_accuracy: 0.7664\n",
      "Epoch 5/5\n",
      "215/215 [==============================] - 5s 22ms/step - loss: 0.0403 - accuracy: 0.9815 - val_loss: 1.4176 - val_accuracy: 0.7717\n"
     ]
    }
   ],
   "source": [
    "# Callback and Fit\n",
    "# Fit the model with Tensorboard callback\n",
    "# Setup Callbacks\n",
    "tensorboard_callback_4 = modeling.callbacks.generate_tensorboard_callback('bidirectional-lstm-model', str(TENSORBOARD_LOGS_DIR))\n",
    "\n",
    "model_4_history = model_4.fit(train_sentences,\n",
    "                              train_labels,\n",
    "                              epochs=5,\n",
    "                              validation_data=(val_sentences, val_labels),\n",
    "                              callbacks=[tensorboard_callback_4])"
   ]
  },
  {
   "cell_type": "code",
   "execution_count": 54,
   "id": "37885c88-dc5a-418f-8f0e-bc99546432c0",
   "metadata": {},
   "outputs": [
    {
     "data": {
      "image/png": "[encoded data removed]",
      "text/plain": [
       "<Figure size 640x480 with 1 Axes>"
      ]
     },
     "metadata": {},
     "output_type": "display_data"
    }
   ],
   "source": [
    "analysis.history.plot_history(model_4_history, 'accuracy')"
   ]
  },
  {
   "cell_type": "code",
   "execution_count": 55,
   "id": "08667d28-4bc2-4ce9-913b-eb8fb6b5e9ea",
   "metadata": {},
   "outputs": [
    {
     "name": "stdout",
     "output_type": "stream",
     "text": [
      " 1/24 [>.............................] - ETA: 9s"
     ]
    },
    {
     "name": "stderr",
     "output_type": "stream",
     "text": [
      "2023-08-28 17:28:04.561072: I tensorflow/core/grappler/optimizers/custom_graph_optimizer_registry.cc:114] Plugin optimizer for device_type GPU is enabled.\n",
      "2023-08-28 17:28:04.619821: I tensorflow/core/grappler/optimizers/custom_graph_optimizer_registry.cc:114] Plugin optimizer for device_type GPU is enabled.\n",
      "2023-08-28 17:28:04.629608: I tensorflow/core/grappler/optimizers/custom_graph_optimizer_registry.cc:114] Plugin optimizer for device_type GPU is enabled.\n"
     ]
    },
    {
     "name": "stdout",
     "output_type": "stream",
     "text": [
      "24/24 [==============================] - 1s 9ms/step\n"
     ]
    },
    {
     "data": {
      "text/plain": [
       "array([[4.4312604e-02],\n",
       "       [7.4860013e-01],\n",
       "       [9.9996459e-01],\n",
       "       [1.3863783e-01],\n",
       "       [1.3379288e-05],\n",
       "       [9.9987960e-01],\n",
       "       [9.9582374e-01],\n",
       "       [9.9998295e-01],\n",
       "       [9.9996519e-01],\n",
       "       [9.9459708e-01]], dtype=float32)"
      ]
     },
     "execution_count": 55,
     "metadata": {},
     "output_type": "execute_result"
    }
   ],
   "source": [
    "model_4_pred_probs = model_4.predict(val_sentences)\n",
    "model_4_pred_probs[:10]"
   ]
  },
  {
   "cell_type": "code",
   "execution_count": 56,
   "id": "6a3b08dc-957e-4edb-98a1-89d70bac896f",
   "metadata": {},
   "outputs": [
    {
     "data": {
      "text/plain": [
       "<tf.Tensor: shape=(10,), dtype=float32, numpy=array([0., 1., 1., 0., 0., 1., 1., 1., 1., 1.], dtype=float32)>"
      ]
     },
     "execution_count": 56,
     "metadata": {},
     "output_type": "execute_result"
    }
   ],
   "source": [
    "model_4_preds = tf.squeeze(tf.round(model_4_pred_probs))\n",
    "model_4_preds[:10]"
   ]
  },
  {
   "cell_type": "code",
   "execution_count": 57,
   "id": "3a758d3d-b933-41de-b069-6a15a5c99b46",
   "metadata": {},
   "outputs": [
    {
     "data": {
      "text/plain": [
       "PredictionMetrics(accuracy=0.7716535433070866, precision=0.7719163531646017, recall=0.7716535433070866, f1=0.7703995252204568)"
      ]
     },
     "execution_count": 57,
     "metadata": {},
     "output_type": "execute_result"
    }
   ],
   "source": [
    "model_4_results = analysis.classification.generate_prediction_metrics(val_labels, model_4_preds)\n",
    "model_4_results"
   ]
  },
  {
   "cell_type": "code",
   "execution_count": 58,
   "id": "b3e43681-ed27-4288-947b-89649145fa07",
   "metadata": {},
   "outputs": [
    {
     "data": {
      "text/plain": [
       "array([False, False, False, False])"
      ]
     },
     "execution_count": 58,
     "metadata": {},
     "output_type": "execute_result"
    }
   ],
   "source": [
    "np.array(list(dict(model_4_results).values())) >= np.array(list(dict(baseline_results).values()))"
   ]
  },
  {
   "cell_type": "markdown",
   "id": "a7f41862-200d-406d-bbd6-9bfcaf7fe991",
   "metadata": {},
   "source": [
    "#### Findings\n",
    "\n",
    "Looks like this performed worse than the LSTM and GRU."
   ]
  },
  {
   "cell_type": "markdown",
   "id": "cd9fa2e7-34cc-4181-a27e-53ffccb6dc98",
   "metadata": {},
   "source": [
    "### Model-5: 1D Convolutional Neural Network\n",
    "\n",
    "We've used CNN's for images, but images are tpycally 2D, however, text data is 1D. \n",
    "\n",
    "The typical structure for Conv1D models:\n",
    "\n",
    "```\n",
    "Inputs -> Tokenization -> Embedding -> Layers (Conv1D + Pooling) -> Outputs\n",
    "```"
   ]
  },
  {
   "cell_type": "code",
   "execution_count": 59,
   "id": "b76f049a-767b-40c2-9a24-d38df107937f",
   "metadata": {},
   "outputs": [
    {
     "name": "stdout",
     "output_type": "stream",
     "text": [
      "Model: \"Model5CNN1D\"\n",
      "_________________________________________________________________\n",
      " Layer (type)                Output Shape              Param #   \n",
      "=================================================================\n",
      " input_5 (InputLayer)        [(None, 1)]               0         \n",
      "                                                                 \n",
      " text_vectorization (TextVe  (None, 15)                0         \n",
      " ctorization)                                                    \n",
      "                                                                 \n",
      " embedding (Embedding)       (None, 15, 128)           1280000   \n",
      "                                                                 \n",
      " conv1d (Conv1D)             (None, 11, 32)            20512     \n",
      "                                                                 \n",
      " global_max_pooling1d (Glob  (None, 32)                0         \n",
      " alMaxPooling1D)                                                 \n",
      "                                                                 \n",
      " dense_4 (Dense)             (None, 1)                 33        \n",
      "                                                                 \n",
      "=================================================================\n",
      "Total params: 1300545 (4.96 MB)\n",
      "Trainable params: 1300545 (4.96 MB)\n",
      "Non-trainable params: 0 (0.00 Byte)\n",
      "_________________________________________________________________\n"
     ]
    }
   ],
   "source": [
    "# build the model\n",
    "\n",
    "inputs = tf.keras.layers.Input(shape=(1,), dtype=tf.string)\n",
    "x = text_vectorizer(inputs)\n",
    "x = embedding(x)\n",
    "x = tf.keras.layers.Conv1D(filters=32, kernel_size=5, activation='relu', padding='valid')(x)\n",
    "x = tf.keras.layers.GlobalMaxPool1D()(x)\n",
    "outputs = tf.keras.layers.Dense(1, activation='sigmoid')(x)\n",
    "\n",
    "model_5 = tf.keras.models.Model(inputs, outputs, name='Model5CNN1D')\n",
    "model_5.summary()"
   ]
  },
  {
   "cell_type": "code",
   "execution_count": 60,
   "id": "d1c61704-b16d-4b26-8a1a-01bc79b4c665",
   "metadata": {},
   "outputs": [
    {
     "name": "stderr",
     "output_type": "stream",
     "text": [
      "WARNING:absl:At this time, the v2.11+ optimizer `tf.keras.optimizers.Adam` runs slowly on M1/M2 Macs, please use the legacy Keras optimizer instead, located at `tf.keras.optimizers.legacy.Adam`.\n",
      "WARNING:absl:There is a known slowdown when using v2.11+ Keras optimizers on M1/M2 Macs. Falling back to the legacy Keras optimizer, i.e., `tf.keras.optimizers.legacy.Adam`.\n"
     ]
    }
   ],
   "source": [
    "# Compile model\n",
    "model_5.compile(loss='binary_crossentropy',\n",
    "                optimizer=tf.keras.optimizers.Adam(),\n",
    "                metrics=['accuracy'])"
   ]
  },
  {
   "cell_type": "code",
   "execution_count": 61,
   "id": "83e51d4e-b315-4fbd-a352-593bf4254879",
   "metadata": {},
   "outputs": [
    {
     "name": "stderr",
     "output_type": "stream",
     "text": [
      "INFO:py_learning_toolbox.deep_learning.modeling.callbacks:TensorBoard callback created.\n"
     ]
    },
    {
     "name": "stdout",
     "output_type": "stream",
     "text": [
      "Epoch 1/5\n"
     ]
    },
    {
     "name": "stderr",
     "output_type": "stream",
     "text": [
      "2023-08-28 17:28:05.241674: I tensorflow/core/grappler/optimizers/custom_graph_optimizer_registry.cc:114] Plugin optimizer for device_type GPU is enabled.\n"
     ]
    },
    {
     "name": "stdout",
     "output_type": "stream",
     "text": [
      "215/215 [==============================] - ETA: 0s - loss: 0.1366 - accuracy: 0.9604"
     ]
    },
    {
     "name": "stderr",
     "output_type": "stream",
     "text": [
      "2023-08-28 17:28:09.544083: I tensorflow/core/grappler/optimizers/custom_graph_optimizer_registry.cc:114] Plugin optimizer for device_type GPU is enabled.\n"
     ]
    },
    {
     "name": "stdout",
     "output_type": "stream",
     "text": [
      "215/215 [==============================] - 5s 20ms/step - loss: 0.1366 - accuracy: 0.9604 - val_loss: 0.8447 - val_accuracy: 0.7808\n",
      "Epoch 2/5\n",
      "215/215 [==============================] - 3s 14ms/step - loss: 0.0774 - accuracy: 0.9730 - val_loss: 0.9701 - val_accuracy: 0.7677\n",
      "Epoch 3/5\n",
      "215/215 [==============================] - 3s 13ms/step - loss: 0.0615 - accuracy: 0.9764 - val_loss: 1.0659 - val_accuracy: 0.7677\n",
      "Epoch 4/5\n",
      "215/215 [==============================] - 3s 12ms/step - loss: 0.0563 - accuracy: 0.9761 - val_loss: 1.1396 - val_accuracy: 0.7625\n",
      "Epoch 5/5\n",
      "215/215 [==============================] - 3s 12ms/step - loss: 0.0513 - accuracy: 0.9796 - val_loss: 1.1610 - val_accuracy: 0.7559\n"
     ]
    }
   ],
   "source": [
    "# Callback and Fit\n",
    "# Fit the model with Tensorboard callback\n",
    "# Setup Callbacks\n",
    "tensorboard_callback_5 = modeling.callbacks.generate_tensorboard_callback('conv-1d-model', str(TENSORBOARD_LOGS_DIR))\n",
    "\n",
    "model_5_history = model_5.fit(train_sentences,\n",
    "                              train_labels,\n",
    "                              epochs=5,\n",
    "                              validation_data=(val_sentences, val_labels),\n",
    "                              callbacks=[tensorboard_callback_5])"
   ]
  },
  {
   "cell_type": "code",
   "execution_count": 62,
   "id": "a2073372-d8f2-41a9-814a-6e41a895273b",
   "metadata": {},
   "outputs": [
    {
     "data": {
      "image/png": "[encoded data removed]",
      "text/plain": [
       "<Figure size 640x480 with 1 Axes>"
      ]
     },
     "metadata": {},
     "output_type": "display_data"
    }
   ],
   "source": [
    "analysis.history.plot_history(model_5_history, 'accuracy')"
   ]
  },
  {
   "cell_type": "code",
   "execution_count": 63,
   "id": "b804c3b6-f269-456a-a6d0-f9f68580e8c0",
   "metadata": {},
   "outputs": [
    {
     "name": "stdout",
     "output_type": "stream",
     "text": [
      "24/24 [==============================] - 0s 4ms/step\n"
     ]
    },
    {
     "name": "stderr",
     "output_type": "stream",
     "text": [
      "2023-08-28 17:28:20.951501: I tensorflow/core/grappler/optimizers/custom_graph_optimizer_registry.cc:114] Plugin optimizer for device_type GPU is enabled.\n"
     ]
    },
    {
     "data": {
      "text/plain": [
       "array([[6.3674361e-01],\n",
       "       [9.2291296e-01],\n",
       "       [9.9994206e-01],\n",
       "       [8.0362268e-02],\n",
       "       [1.4912084e-07],\n",
       "       [9.9966753e-01],\n",
       "       [9.9624842e-01],\n",
       "       [9.9999392e-01],\n",
       "       [9.9999881e-01],\n",
       "       [9.5831758e-01]], dtype=float32)"
      ]
     },
     "execution_count": 63,
     "metadata": {},
     "output_type": "execute_result"
    }
   ],
   "source": [
    "model_5_pred_probs = model_5.predict(val_sentences)\n",
    "model_5_pred_probs[:10]"
   ]
  },
  {
   "cell_type": "code",
   "execution_count": 64,
   "id": "e0ce4ddd-c8b0-478b-af9d-5df70eff1790",
   "metadata": {},
   "outputs": [
    {
     "data": {
      "text/plain": [
       "<tf.Tensor: shape=(10,), dtype=float32, numpy=array([1., 1., 1., 0., 0., 1., 1., 1., 1., 1.], dtype=float32)>"
      ]
     },
     "execution_count": 64,
     "metadata": {},
     "output_type": "execute_result"
    }
   ],
   "source": [
    "model_5_preds = tf.squeeze(tf.round(model_5_pred_probs))\n",
    "model_5_preds[:10]"
   ]
  },
  {
   "cell_type": "code",
   "execution_count": 65,
   "id": "0931b993-7baa-42bd-9239-5c4a3f25c6a9",
   "metadata": {},
   "outputs": [
    {
     "data": {
      "text/plain": [
       "PredictionMetrics(accuracy=0.7559055118110236, precision=0.7559055118110236, recall=0.7559055118110236, f1=0.7559055118110236)"
      ]
     },
     "execution_count": 65,
     "metadata": {},
     "output_type": "execute_result"
    }
   ],
   "source": [
    "model_5_results = analysis.classification.generate_prediction_metrics(val_labels, model_5_preds)\n",
    "model_5_results"
   ]
  },
  {
   "cell_type": "code",
   "execution_count": 66,
   "id": "8f9df2c2-6068-4157-b276-5baac48c9d0a",
   "metadata": {},
   "outputs": [
    {
     "data": {
      "text/plain": [
       "array([False, False, False, False])"
      ]
     },
     "execution_count": 66,
     "metadata": {},
     "output_type": "execute_result"
    }
   ],
   "source": [
    "np.array(list(dict(model_5_results).values())) >= np.array(list(dict(baseline_results).values()))"
   ]
  },
  {
   "cell_type": "markdown",
   "id": "b5b209cd-6336-4d28-9745-2d179d4740fe",
   "metadata": {},
   "source": [
    "#### Findings\n",
    "\n",
    "Still not outperforming our Baseline Model."
   ]
  },
  {
   "cell_type": "markdown",
   "id": "084d302c-4de2-4d1e-b271-d89da0f505bd",
   "metadata": {},
   "source": [
    "### Model-6: TensorFlow Hub Pretrained Sentence Encoder\n",
    "\n",
    "This model will use Transfer Learning with the `Universal Sentence Encoder` pretrained model on TensorFlow Hub (see link below).\n",
    "\n",
    "* https://tfhub.dev/google/collections/universal-sentence-encoder/1"
   ]
  },
  {
   "cell_type": "code",
   "execution_count": 67,
   "id": "4c0fe3aa-3d62-4f24-813f-afadd1ad3442",
   "metadata": {},
   "outputs": [],
   "source": [
    "import tensorflow_hub as hub"
   ]
  },
  {
   "cell_type": "code",
   "execution_count": 68,
   "id": "23f76d64-f239-4433-999b-0b29aad5c283",
   "metadata": {},
   "outputs": [],
   "source": [
    "use_url = 'https://tfhub.dev/google/universal-sentence-encoder/4'"
   ]
  },
  {
   "cell_type": "code",
   "execution_count": 69,
   "id": "1ac632d8-44d7-4528-b6ff-4f6ba86dde13",
   "metadata": {},
   "outputs": [
    {
     "name": "stderr",
     "output_type": "stream",
     "text": [
      "2023-08-28 17:28:22.814651: I tensorflow/core/grappler/optimizers/custom_graph_optimizer_registry.cc:114] Plugin optimizer for device_type GPU is enabled.\n",
      "2023-08-28 17:28:23.714164: I tensorflow/core/grappler/optimizers/custom_graph_optimizer_registry.cc:114] Plugin optimizer for device_type GPU is enabled.\n"
     ]
    },
    {
     "name": "stdout",
     "output_type": "stream",
     "text": [
      "tf.Tensor(\n",
      "[[-0.03133017 -0.06338633 -0.01607502 ... -0.0324278  -0.04575741\n",
      "   0.05370455]\n",
      " [ 0.05080861 -0.01652432  0.01573779 ...  0.00976656  0.0317012\n",
      "   0.01788118]], shape=(2, 512), dtype=float32)\n"
     ]
    }
   ],
   "source": [
    "# Testing out the transfer learning model\n",
    "embed = hub.load(use_url)\n",
    "\n",
    "embeddings = embed([\n",
    "    \"The quick brown fox jumps over the lazy dog.\",\n",
    "    \"I am a sentence for which I would like to get its embedding\"])\n",
    "\n",
    "print(embeddings)"
   ]
  },
  {
   "cell_type": "code",
   "execution_count": 70,
   "id": "e49ee9fb-55d1-4065-b732-e5c105d984cd",
   "metadata": {},
   "outputs": [
    {
     "name": "stderr",
     "output_type": "stream",
     "text": [
      "2023-08-28 17:28:25.818164: I tensorflow/core/grappler/optimizers/custom_graph_optimizer_registry.cc:114] Plugin optimizer for device_type GPU is enabled.\n"
     ]
    },
    {
     "name": "stdout",
     "output_type": "stream",
     "text": [
      "Model: \"Model6USE\"\n",
      "_________________________________________________________________\n",
      " Layer (type)                Output Shape              Param #   \n",
      "=================================================================\n",
      " USE (KerasLayer)            (None, 512)               256797824 \n",
      "                                                                 \n",
      " dense_5 (Dense)             (None, 1)                 513       \n",
      "                                                                 \n",
      "=================================================================\n",
      "Total params: 256798337 (979.61 MB)\n",
      "Trainable params: 513 (2.00 KB)\n",
      "Non-trainable params: 256797824 (979.61 MB)\n",
      "_________________________________________________________________\n"
     ]
    }
   ],
   "source": [
    "# Build Model\n",
    "\n",
    "# Create a Keras Layer using the USE pretrained layer from TensorFlow Hub\n",
    "sentence_encoder_layer = hub.KerasLayer(use_url, input_shape=[], dtype=tf.string, trainable=False, name='USE')\n",
    "\n",
    "# Setup Layers\n",
    "model_6 = tf.keras.models.Sequential([\n",
    "    sentence_encoder_layer,\n",
    "    tf.keras.layers.Dense(1, activation='sigmoid')], name='Model6USE')\n",
    "model_6.summary()"
   ]
  },
  {
   "cell_type": "code",
   "execution_count": 71,
   "id": "b3916d58-a751-4339-9f77-011129fad23a",
   "metadata": {},
   "outputs": [
    {
     "name": "stderr",
     "output_type": "stream",
     "text": [
      "WARNING:absl:At this time, the v2.11+ optimizer `tf.keras.optimizers.Adam` runs slowly on M1/M2 Macs, please use the legacy Keras optimizer instead, located at `tf.keras.optimizers.legacy.Adam`.\n",
      "WARNING:absl:There is a known slowdown when using v2.11+ Keras optimizers on M1/M2 Macs. Falling back to the legacy Keras optimizer, i.e., `tf.keras.optimizers.legacy.Adam`.\n"
     ]
    }
   ],
   "source": [
    "# Compile model\n",
    "model_6.compile(loss='binary_crossentropy',\n",
    "                optimizer=tf.keras.optimizers.Adam(),\n",
    "                metrics=['accuracy'])"
   ]
  },
  {
   "cell_type": "code",
   "execution_count": 72,
   "id": "ce70635e-a5dd-4a58-a47a-27e90443bc5b",
   "metadata": {},
   "outputs": [
    {
     "name": "stderr",
     "output_type": "stream",
     "text": [
      "INFO:py_learning_toolbox.deep_learning.modeling.callbacks:TensorBoard callback created.\n"
     ]
    },
    {
     "name": "stdout",
     "output_type": "stream",
     "text": [
      "Epoch 1/5\n"
     ]
    },
    {
     "name": "stderr",
     "output_type": "stream",
     "text": [
      "2023-08-28 17:28:27.625557: I tensorflow/core/grappler/optimizers/custom_graph_optimizer_registry.cc:114] Plugin optimizer for device_type GPU is enabled.\n"
     ]
    },
    {
     "name": "stdout",
     "output_type": "stream",
     "text": [
      "215/215 [==============================] - ETA: 0s - loss: 0.6502 - accuracy: 0.7285"
     ]
    },
    {
     "name": "stderr",
     "output_type": "stream",
     "text": [
      "2023-08-28 17:28:41.902720: I tensorflow/core/grappler/optimizers/custom_graph_optimizer_registry.cc:114] Plugin optimizer for device_type GPU is enabled.\n"
     ]
    },
    {
     "name": "stdout",
     "output_type": "stream",
     "text": [
      "215/215 [==============================] - 19s 81ms/step - loss: 0.6502 - accuracy: 0.7285 - val_loss: 0.6127 - val_accuracy: 0.7717\n",
      "Epoch 2/5\n",
      "215/215 [==============================] - 13s 61ms/step - loss: 0.5821 - accuracy: 0.7884 - val_loss: 0.5634 - val_accuracy: 0.7730\n",
      "Epoch 3/5\n",
      "215/215 [==============================] - 12s 55ms/step - loss: 0.5390 - accuracy: 0.7943 - val_loss: 0.5317 - val_accuracy: 0.7835\n",
      "Epoch 4/5\n",
      "215/215 [==============================] - 11s 53ms/step - loss: 0.5101 - accuracy: 0.7989 - val_loss: 0.5104 - val_accuracy: 0.7848\n",
      "Epoch 5/5\n",
      "215/215 [==============================] - 11s 52ms/step - loss: 0.4897 - accuracy: 0.8003 - val_loss: 0.4957 - val_accuracy: 0.7861\n"
     ]
    }
   ],
   "source": [
    "# Callback and Fit\n",
    "# Fit the model with Tensorboard callback\n",
    "# Setup Callbacks\n",
    "tensorboard_callback_6 = modeling.callbacks.generate_tensorboard_callback('use-model', str(TENSORBOARD_LOGS_DIR))\n",
    "\n",
    "model_6_history = model_6.fit(train_sentences,\n",
    "                              train_labels,\n",
    "                              epochs=5,\n",
    "                              validation_data=(val_sentences, val_labels),\n",
    "                              callbacks=[tensorboard_callback_6])"
   ]
  },
  {
   "cell_type": "code",
   "execution_count": 73,
   "id": "cee1fa1b-b45b-492c-8abf-597a684b5968",
   "metadata": {},
   "outputs": [
    {
     "data": {
      "image/png": "[encoded data removed]",
      "text/plain": [
       "<Figure size 640x480 with 1 Axes>"
      ]
     },
     "metadata": {},
     "output_type": "display_data"
    }
   ],
   "source": [
    "analysis.history.plot_history(model_6_history, 'accuracy')"
   ]
  },
  {
   "cell_type": "code",
   "execution_count": 74,
   "id": "fc095472-7ccd-40a6-8a85-68390860efff",
   "metadata": {},
   "outputs": [
    {
     "name": "stderr",
     "output_type": "stream",
     "text": [
      "2023-08-28 17:29:33.397527: I tensorflow/core/grappler/optimizers/custom_graph_optimizer_registry.cc:114] Plugin optimizer for device_type GPU is enabled.\n"
     ]
    },
    {
     "name": "stdout",
     "output_type": "stream",
     "text": [
      "24/24 [==============================] - 4s 161ms/step\n"
     ]
    },
    {
     "data": {
      "text/plain": [
       "array([[0.3917343 ],\n",
       "       [0.68764436],\n",
       "       [0.86730325],\n",
       "       [0.34387174],\n",
       "       [0.66290593],\n",
       "       [0.7355277 ],\n",
       "       [0.81603044],\n",
       "       [0.8422261 ],\n",
       "       [0.75106776],\n",
       "       [0.21196915]], dtype=float32)"
      ]
     },
     "execution_count": 74,
     "metadata": {},
     "output_type": "execute_result"
    }
   ],
   "source": [
    "model_6_pred_probs = model_6.predict(val_sentences)\n",
    "model_6_pred_probs[:10]"
   ]
  },
  {
   "cell_type": "code",
   "execution_count": 75,
   "id": "7aa3ea00-782f-483a-8516-8c1dad2e84ee",
   "metadata": {},
   "outputs": [
    {
     "data": {
      "text/plain": [
       "<tf.Tensor: shape=(10,), dtype=float32, numpy=array([0., 1., 1., 0., 1., 1., 1., 1., 1., 0.], dtype=float32)>"
      ]
     },
     "execution_count": 75,
     "metadata": {},
     "output_type": "execute_result"
    }
   ],
   "source": [
    "model_6_preds = tf.squeeze(tf.round(model_6_pred_probs))\n",
    "model_6_preds[:10]"
   ]
  },
  {
   "cell_type": "code",
   "execution_count": 76,
   "id": "17a9e001-8614-4145-a953-17a743a35e2b",
   "metadata": {},
   "outputs": [
    {
     "data": {
      "text/plain": [
       "PredictionMetrics(accuracy=0.7860892388451444, precision=0.7862161422078583, recall=0.7860892388451444, f1=0.7851501923128148)"
      ]
     },
     "execution_count": 76,
     "metadata": {},
     "output_type": "execute_result"
    }
   ],
   "source": [
    "model_6_results = analysis.classification.generate_prediction_metrics(val_labels, model_6_preds)\n",
    "model_6_results"
   ]
  },
  {
   "cell_type": "code",
   "execution_count": 77,
   "id": "4ad1469b-1e24-4662-9541-f05e6af1a7dc",
   "metadata": {},
   "outputs": [
    {
     "data": {
      "text/plain": [
       "array([False, False, False, False])"
      ]
     },
     "execution_count": 77,
     "metadata": {},
     "output_type": "execute_result"
    }
   ],
   "source": [
    "np.array(list(dict(model_6_results).values())) >= np.array(list(dict(baseline_results).values()))"
   ]
  },
  {
   "cell_type": "markdown",
   "id": "0b31b2b6-32f3-43fb-8ff4-5cc7c093fe94",
   "metadata": {},
   "source": [
    "#### Findings:\n",
    "\n",
    "Looks like this model beat the baseline the first time I ran this, but it was very close and isn't guranteed to beat it every time due to randomness."
   ]
  },
  {
   "cell_type": "markdown",
   "id": "3e802955-7661-4d08-a226-a9f04507a71e",
   "metadata": {},
   "source": [
    "### Model-7: TF Hub Pretrained USE but w/ 10% of Training Data\n",
    "\n",
    "Transfer learning helps when you don't have a large dataset. To see how our model performs on a smaller dataset, I am going to replicate model 6, but I will only train it on 10% of the data."
   ]
  },
  {
   "cell_type": "code",
   "execution_count": 78,
   "id": "74c138a9-739b-4156-ab3b-a5c8553415ea",
   "metadata": {},
   "outputs": [
    {
     "data": {
      "text/plain": [
       "(685, 685)"
      ]
     },
     "execution_count": 78,
     "metadata": {},
     "output_type": "execute_result"
    }
   ],
   "source": [
    "# Creating 10% subset of the training data\n",
    "train_10_percent_split = int(0.1 * len(train_sentences))\n",
    "train_sentences_10_percent = train_sentences[:train_10_percent_split]\n",
    "train_labels_10_percent = train_labels[:train_10_percent_split]\n",
    "len(train_sentences_10_percent), len(train_labels_10_percent)"
   ]
  },
  {
   "cell_type": "markdown",
   "id": "d3bc98df-67e8-4c26-be18-1c2c7ccdd094",
   "metadata": {},
   "source": [
    "**NOTE**\n",
    "When looking at the 10% sample, needed to verify that the subset is representative of the entire dataset."
   ]
  },
  {
   "cell_type": "code",
   "execution_count": 79,
   "id": "c56990c5-41e7-4b4f-993c-18bc3691c440",
   "metadata": {},
   "outputs": [
    {
     "data": {
      "text/plain": [
       "0    406\n",
       "1    279\n",
       "Name: count, dtype: int64"
      ]
     },
     "execution_count": 79,
     "metadata": {},
     "output_type": "execute_result"
    }
   ],
   "source": [
    "pd.Series(np.array(train_labels_10_percent)).value_counts()"
   ]
  },
  {
   "cell_type": "code",
   "execution_count": 80,
   "id": "fe3ff624-b44a-467c-bced-8be81bca2418",
   "metadata": {},
   "outputs": [
    {
     "data": {
      "text/plain": [
       "target\n",
       "0    4342\n",
       "1    3271\n",
       "Name: count, dtype: int64"
      ]
     },
     "execution_count": 80,
     "metadata": {},
     "output_type": "execute_result"
    }
   ],
   "source": [
    "train_data_shuffled['target'].value_counts()"
   ]
  },
  {
   "cell_type": "code",
   "execution_count": 81,
   "id": "4ef01066-c267-4534-9937-cfadb4dad604",
   "metadata": {},
   "outputs": [
    {
     "name": "stderr",
     "output_type": "stream",
     "text": [
      "2023-08-28 17:29:39.760646: I tensorflow/core/grappler/optimizers/custom_graph_optimizer_registry.cc:114] Plugin optimizer for device_type GPU is enabled.\n"
     ]
    },
    {
     "name": "stdout",
     "output_type": "stream",
     "text": [
      "Model: \"Model6USE\"\n",
      "_________________________________________________________________\n",
      " Layer (type)                Output Shape              Param #   \n",
      "=================================================================\n",
      " USE (KerasLayer)            (None, 512)               256797824 \n",
      "                                                                 \n",
      " dense_5 (Dense)             (None, 1)                 513       \n",
      "                                                                 \n",
      "=================================================================\n",
      "Total params: 256798337 (979.61 MB)\n",
      "Trainable params: 513 (2.00 KB)\n",
      "Non-trainable params: 256797824 (979.61 MB)\n",
      "_________________________________________________________________\n"
     ]
    }
   ],
   "source": [
    "# Build Model\n",
    "model_7 = tf.keras.models.clone_model(model_6)\n",
    "model_7.summary()"
   ]
  },
  {
   "cell_type": "code",
   "execution_count": 82,
   "id": "5ceaa15c-bdd6-4aa8-a210-a7be5a1a37ee",
   "metadata": {},
   "outputs": [
    {
     "name": "stderr",
     "output_type": "stream",
     "text": [
      "WARNING:absl:At this time, the v2.11+ optimizer `tf.keras.optimizers.Adam` runs slowly on M1/M2 Macs, please use the legacy Keras optimizer instead, located at `tf.keras.optimizers.legacy.Adam`.\n",
      "WARNING:absl:There is a known slowdown when using v2.11+ Keras optimizers on M1/M2 Macs. Falling back to the legacy Keras optimizer, i.e., `tf.keras.optimizers.legacy.Adam`.\n"
     ]
    }
   ],
   "source": [
    "# Compile model\n",
    "model_7.compile(loss='binary_crossentropy',\n",
    "                optimizer=tf.keras.optimizers.Adam(),\n",
    "                metrics=['accuracy'])"
   ]
  },
  {
   "cell_type": "code",
   "execution_count": 83,
   "id": "015b2f50-3c67-473c-ae24-e70c2d9dfdf7",
   "metadata": {},
   "outputs": [
    {
     "name": "stderr",
     "output_type": "stream",
     "text": [
      "INFO:py_learning_toolbox.deep_learning.modeling.callbacks:TensorBoard callback created.\n"
     ]
    },
    {
     "name": "stdout",
     "output_type": "stream",
     "text": [
      "Epoch 1/5\n"
     ]
    },
    {
     "name": "stderr",
     "output_type": "stream",
     "text": [
      "2023-08-28 17:29:41.458420: I tensorflow/core/grappler/optimizers/custom_graph_optimizer_registry.cc:114] Plugin optimizer for device_type GPU is enabled.\n"
     ]
    },
    {
     "name": "stdout",
     "output_type": "stream",
     "text": [
      "22/22 [==============================] - ETA: 0s - loss: 0.6867 - accuracy: 0.6000"
     ]
    },
    {
     "name": "stderr",
     "output_type": "stream",
     "text": [
      "2023-08-28 17:29:46.396180: I tensorflow/core/grappler/optimizers/custom_graph_optimizer_registry.cc:114] Plugin optimizer for device_type GPU is enabled.\n"
     ]
    },
    {
     "name": "stdout",
     "output_type": "stream",
     "text": [
      "22/22 [==============================] - 10s 413ms/step - loss: 0.6867 - accuracy: 0.6000 - val_loss: 0.6804 - val_accuracy: 0.6417\n",
      "Epoch 2/5\n",
      "22/22 [==============================] - 4s 189ms/step - loss: 0.6737 - accuracy: 0.7095 - val_loss: 0.6709 - val_accuracy: 0.6929\n",
      "Epoch 3/5\n",
      "22/22 [==============================] - 4s 163ms/step - loss: 0.6616 - accuracy: 0.7489 - val_loss: 0.6624 - val_accuracy: 0.7165\n",
      "Epoch 4/5\n",
      "22/22 [==============================] - 3s 155ms/step - loss: 0.6504 - accuracy: 0.7708 - val_loss: 0.6543 - val_accuracy: 0.7362\n",
      "Epoch 5/5\n",
      "22/22 [==============================] - 3s 135ms/step - loss: 0.6400 - accuracy: 0.7796 - val_loss: 0.6468 - val_accuracy: 0.7323\n"
     ]
    }
   ],
   "source": [
    "# Callback and Fit\n",
    "# Fit the model with Tensorboard callback\n",
    "# Setup Callbacks\n",
    "tensorboard_callback_7 = modeling.callbacks.generate_tensorboard_callback('use-10-percent-model', str(TENSORBOARD_LOGS_DIR))\n",
    "\n",
    "model_7_history = model_7.fit(train_sentences_10_percent,\n",
    "                              train_labels_10_percent,\n",
    "                              epochs=5,\n",
    "                              validation_data=(val_sentences, val_labels),\n",
    "                              callbacks=[tensorboard_callback_7])"
   ]
  },
  {
   "cell_type": "code",
   "execution_count": 84,
   "id": "8306be35-b855-430a-9637-bc6977d65c7d",
   "metadata": {},
   "outputs": [
    {
     "data": {
      "image/png": "[encoded data removed]",
      "text/plain": [
       "<Figure size 640x480 with 1 Axes>"
      ]
     },
     "metadata": {},
     "output_type": "display_data"
    }
   ],
   "source": [
    "analysis.history.plot_history(model_7_history, 'accuracy')"
   ]
  },
  {
   "cell_type": "code",
   "execution_count": 85,
   "id": "ee0ff20a-a825-443e-a2a4-e559eee6959d",
   "metadata": {},
   "outputs": [
    {
     "name": "stderr",
     "output_type": "stream",
     "text": [
      "2023-08-28 17:30:04.997982: I tensorflow/core/grappler/optimizers/custom_graph_optimizer_registry.cc:114] Plugin optimizer for device_type GPU is enabled.\n"
     ]
    },
    {
     "name": "stdout",
     "output_type": "stream",
     "text": [
      "24/24 [==============================] - 4s 166ms/step\n"
     ]
    },
    {
     "data": {
      "text/plain": [
       "array([[0.4438093 ],\n",
       "       [0.5110339 ],\n",
       "       [0.5353861 ],\n",
       "       [0.45181847],\n",
       "       [0.48908702],\n",
       "       [0.5241308 ],\n",
       "       [0.52880603],\n",
       "       [0.5342965 ],\n",
       "       [0.5348681 ],\n",
       "       [0.4388381 ]], dtype=float32)"
      ]
     },
     "execution_count": 85,
     "metadata": {},
     "output_type": "execute_result"
    }
   ],
   "source": [
    "model_7_pred_probs = model_7.predict(val_sentences)\n",
    "model_7_pred_probs[:10]"
   ]
  },
  {
   "cell_type": "code",
   "execution_count": 86,
   "id": "dd55f491-d784-4d44-92ea-1952dc112ded",
   "metadata": {},
   "outputs": [
    {
     "data": {
      "text/plain": [
       "<tf.Tensor: shape=(10,), dtype=float32, numpy=array([0., 1., 1., 0., 0., 1., 1., 1., 1., 0.], dtype=float32)>"
      ]
     },
     "execution_count": 86,
     "metadata": {},
     "output_type": "execute_result"
    }
   ],
   "source": [
    "model_7_preds = tf.squeeze(tf.round(model_7_pred_probs))\n",
    "model_7_preds[:10]"
   ]
  },
  {
   "cell_type": "code",
   "execution_count": 87,
   "id": "edd77be1-13a7-4fce-8052-8271f21b141e",
   "metadata": {},
   "outputs": [
    {
     "data": {
      "text/plain": [
       "PredictionMetrics(accuracy=0.7322834645669292, precision=0.7577545008763529, recall=0.7322834645669292, f1=0.7190126187800412)"
      ]
     },
     "execution_count": 87,
     "metadata": {},
     "output_type": "execute_result"
    }
   ],
   "source": [
    "model_7_results = analysis.classification.generate_prediction_metrics(val_labels, model_7_preds)\n",
    "model_7_results"
   ]
  },
  {
   "cell_type": "code",
   "execution_count": 88,
   "id": "927c6627-4c66-4f48-af76-5a6861d1dae0",
   "metadata": {},
   "outputs": [
    {
     "data": {
      "text/plain": [
       "array([False, False, False, False])"
      ]
     },
     "execution_count": 88,
     "metadata": {},
     "output_type": "execute_result"
    }
   ],
   "source": [
    "np.array(list(dict(model_7_results).values())) >= np.array(list(dict(baseline_results).values()))"
   ]
  },
  {
   "cell_type": "markdown",
   "id": "ac083b5e-d8ab-4284-b44d-cf110485d908",
   "metadata": {},
   "source": [
    "#### Findings\n",
    "\n",
    "Even with only 10% of the data, it performed only slightly worse than when training the model on 100% of the data."
   ]
  },
  {
   "cell_type": "markdown",
   "id": "22d40072-35cc-4e78-b789-4a103921059f",
   "metadata": {},
   "source": [
    "## Comparing the Performance of Each Model"
   ]
  },
  {
   "cell_type": "code",
   "execution_count": 89,
   "id": "6bcc44e1-da95-4bcc-9bac-452d502ed318",
   "metadata": {},
   "outputs": [
    {
     "data": {
      "text/html": [
       "<div>\n",
       "<style scoped>\n",
       "    .dataframe tbody tr th:only-of-type {\n",
       "        vertical-align: middle;\n",
       "    }\n",
       "\n",
       "    .dataframe tbody tr th {\n",
       "        vertical-align: top;\n",
       "    }\n",
       "\n",
       "    .dataframe thead th {\n",
       "        text-align: right;\n",
       "    }\n",
       "</style>\n",
       "<table border=\"1\" class=\"dataframe\">\n",
       "  <thead>\n",
       "    <tr style=\"text-align: right;\">\n",
       "      <th></th>\n",
       "      <th>accuracy</th>\n",
       "      <th>precision</th>\n",
       "      <th>recall</th>\n",
       "      <th>f1</th>\n",
       "    </tr>\n",
       "  </thead>\n",
       "  <tbody>\n",
       "    <tr>\n",
       "      <th>0_baseline</th>\n",
       "      <td>0.792651</td>\n",
       "      <td>0.811139</td>\n",
       "      <td>0.792651</td>\n",
       "      <td>0.786219</td>\n",
       "    </tr>\n",
       "    <tr>\n",
       "      <th>1_simple_dense</th>\n",
       "      <td>0.780840</td>\n",
       "      <td>0.784870</td>\n",
       "      <td>0.780840</td>\n",
       "      <td>0.777979</td>\n",
       "    </tr>\n",
       "    <tr>\n",
       "      <th>2_lstm</th>\n",
       "      <td>0.776903</td>\n",
       "      <td>0.778956</td>\n",
       "      <td>0.776903</td>\n",
       "      <td>0.774752</td>\n",
       "    </tr>\n",
       "    <tr>\n",
       "      <th>3_gru</th>\n",
       "      <td>0.770341</td>\n",
       "      <td>0.771167</td>\n",
       "      <td>0.770341</td>\n",
       "      <td>0.768690</td>\n",
       "    </tr>\n",
       "    <tr>\n",
       "      <th>4_bidirectional</th>\n",
       "      <td>0.771654</td>\n",
       "      <td>0.771916</td>\n",
       "      <td>0.771654</td>\n",
       "      <td>0.770400</td>\n",
       "    </tr>\n",
       "    <tr>\n",
       "      <th>5_conv1d</th>\n",
       "      <td>0.755906</td>\n",
       "      <td>0.755906</td>\n",
       "      <td>0.755906</td>\n",
       "      <td>0.755906</td>\n",
       "    </tr>\n",
       "    <tr>\n",
       "      <th>6_tf_hub_use_encoder</th>\n",
       "      <td>0.786089</td>\n",
       "      <td>0.786216</td>\n",
       "      <td>0.786089</td>\n",
       "      <td>0.785150</td>\n",
       "    </tr>\n",
       "    <tr>\n",
       "      <th>7_tf_hub_use_encoder_10_percent</th>\n",
       "      <td>0.732283</td>\n",
       "      <td>0.757755</td>\n",
       "      <td>0.732283</td>\n",
       "      <td>0.719013</td>\n",
       "    </tr>\n",
       "  </tbody>\n",
       "</table>\n",
       "</div>"
      ],
      "text/plain": [
       "                                 accuracy  precision    recall        f1\n",
       "0_baseline                       0.792651   0.811139  0.792651  0.786219\n",
       "1_simple_dense                   0.780840   0.784870  0.780840  0.777979\n",
       "2_lstm                           0.776903   0.778956  0.776903  0.774752\n",
       "3_gru                            0.770341   0.771167  0.770341  0.768690\n",
       "4_bidirectional                  0.771654   0.771916  0.771654  0.770400\n",
       "5_conv1d                         0.755906   0.755906  0.755906  0.755906\n",
       "6_tf_hub_use_encoder             0.786089   0.786216  0.786089  0.785150\n",
       "7_tf_hub_use_encoder_10_percent  0.732283   0.757755  0.732283  0.719013"
      ]
     },
     "execution_count": 89,
     "metadata": {},
     "output_type": "execute_result"
    }
   ],
   "source": [
    "# Lets look at the combined performance of each model\n",
    "all_model_results = pd.DataFrame({\n",
    "    '0_baseline': dict(baseline_results),\n",
    "    '1_simple_dense': dict(model_1_results),\n",
    "    '2_lstm': dict(model_2_results),\n",
    "    '3_gru': dict(model_3_results),\n",
    "    '4_bidirectional': dict(model_4_results),\n",
    "    '5_conv1d': dict(model_5_results),\n",
    "    '6_tf_hub_use_encoder': dict(model_6_results),\n",
    "    '7_tf_hub_use_encoder_10_percent': dict(model_7_results),\n",
    "})\n",
    "all_model_results = all_model_results.transpose()\n",
    "all_model_results"
   ]
  },
  {
   "cell_type": "code",
   "execution_count": 90,
   "id": "b4a0af41-1905-4005-b27d-95e094904091",
   "metadata": {},
   "outputs": [
    {
     "data": {
      "text/plain": [
       "<matplotlib.legend.Legend at 0x38b2846d0>"
      ]
     },
     "execution_count": 90,
     "metadata": {},
     "output_type": "execute_result"
    },
    {
     "data": {
      "image/png": "[encoded data removed]",
      "text/plain": [
       "<Figure size 1000x700 with 1 Axes>"
      ]
     },
     "metadata": {},
     "output_type": "display_data"
    }
   ],
   "source": [
    "# Plot and compare all of the model results\n",
    "all_model_results.plot(kind='bar', figsize=(10, 7)).legend(bbox_to_anchor=(1.0, 1.0))"
   ]
  },
  {
   "cell_type": "code",
   "execution_count": 91,
   "id": "610fa8b6-7f6e-42ee-97c5-ba91a93e5692",
   "metadata": {},
   "outputs": [
    {
     "data": {
      "text/plain": [
       "<Axes: >"
      ]
     },
     "execution_count": 91,
     "metadata": {},
     "output_type": "execute_result"
    },
    {
     "data": {
      "image/png": "[encoded data removed]",
      "text/plain": [
       "<Figure size 1000x700 with 1 Axes>"
      ]
     },
     "metadata": {},
     "output_type": "display_data"
    }
   ],
   "source": [
    "all_model_results.sort_values('f1', ascending=False)['f1'].plot(kind='bar', figsize=(10, 7))"
   ]
  },
  {
   "cell_type": "markdown",
   "id": "70239b9d-d4f9-4046-adfe-262be33f4d53",
   "metadata": {},
   "source": [
    "### Finding Most Wrong Examples\n",
    "\n",
    "* If our best model still isn't perfect, what examples is it getting wrong?\n",
    "* And of these wrong examples, which ones is it getting *most* wrong.\n",
    "\n",
    "For example if a sample should have a label of 0, but our model predicts a prediction probability of 0.999, that is pretty wrong.\n",
    "\n",
    "To do this, I am going to look at Model 6 because that model performed the best."
   ]
  },
  {
   "cell_type": "code",
   "execution_count": 93,
   "id": "0dd3d86a-f79c-437b-be0e-dd1b80320d39",
   "metadata": {},
   "outputs": [
    {
     "data": {
      "text/plain": [
       "(array([[0.3917343 ],\n",
       "        [0.68764436],\n",
       "        [0.86730325],\n",
       "        [0.34387174],\n",
       "        [0.66290593],\n",
       "        [0.7355277 ],\n",
       "        [0.81603044],\n",
       "        [0.8422261 ],\n",
       "        [0.75106776],\n",
       "        [0.21196915]], dtype=float32),\n",
       " <tf.Tensor: shape=(10,), dtype=float32, numpy=array([0., 1., 1., 0., 1., 1., 1., 1., 1., 0.], dtype=float32)>)"
      ]
     },
     "execution_count": 93,
     "metadata": {},
     "output_type": "execute_result"
    }
   ],
   "source": [
    "model_6_pred_probs[:10], model_6_preds[:10]"
   ]
  },
  {
   "cell_type": "code",
   "execution_count": 95,
   "id": "1274d4e7-646c-493a-aa87-b976b88c78b1",
   "metadata": {},
   "outputs": [
    {
     "data": {
      "text/html": [
       "<div>\n",
       "<style scoped>\n",
       "    .dataframe tbody tr th:only-of-type {\n",
       "        vertical-align: middle;\n",
       "    }\n",
       "\n",
       "    .dataframe tbody tr th {\n",
       "        vertical-align: top;\n",
       "    }\n",
       "\n",
       "    .dataframe thead th {\n",
       "        text-align: right;\n",
       "    }\n",
       "</style>\n",
       "<table border=\"1\" class=\"dataframe\">\n",
       "  <thead>\n",
       "    <tr style=\"text-align: right;\">\n",
       "      <th></th>\n",
       "      <th>text</th>\n",
       "      <th>target</th>\n",
       "      <th>pred</th>\n",
       "      <th>pred_prob</th>\n",
       "    </tr>\n",
       "  </thead>\n",
       "  <tbody>\n",
       "    <tr>\n",
       "      <th>0</th>\n",
       "      <td>DFR EP016 Monthly Meltdown - On Dnbheaven 2015...</td>\n",
       "      <td>0</td>\n",
       "      <td>0.0</td>\n",
       "      <td>0.391734</td>\n",
       "    </tr>\n",
       "    <tr>\n",
       "      <th>1</th>\n",
       "      <td>FedEx no longer to transport bioterror germs i...</td>\n",
       "      <td>0</td>\n",
       "      <td>1.0</td>\n",
       "      <td>0.687644</td>\n",
       "    </tr>\n",
       "    <tr>\n",
       "      <th>2</th>\n",
       "      <td>Gunmen kill four in El Salvador bus attack: Su...</td>\n",
       "      <td>1</td>\n",
       "      <td>1.0</td>\n",
       "      <td>0.867303</td>\n",
       "    </tr>\n",
       "    <tr>\n",
       "      <th>3</th>\n",
       "      <td>@camilacabello97 Internally and externally scr...</td>\n",
       "      <td>1</td>\n",
       "      <td>0.0</td>\n",
       "      <td>0.343872</td>\n",
       "    </tr>\n",
       "    <tr>\n",
       "      <th>4</th>\n",
       "      <td>Radiation emergency #preparedness starts with ...</td>\n",
       "      <td>1</td>\n",
       "      <td>1.0</td>\n",
       "      <td>0.662906</td>\n",
       "    </tr>\n",
       "  </tbody>\n",
       "</table>\n",
       "</div>"
      ],
      "text/plain": [
       "                                                text  target  pred  pred_prob\n",
       "0  DFR EP016 Monthly Meltdown - On Dnbheaven 2015...       0   0.0   0.391734\n",
       "1  FedEx no longer to transport bioterror germs i...       0   1.0   0.687644\n",
       "2  Gunmen kill four in El Salvador bus attack: Su...       1   1.0   0.867303\n",
       "3  @camilacabello97 Internally and externally scr...       1   0.0   0.343872\n",
       "4  Radiation emergency #preparedness starts with ...       1   1.0   0.662906"
      ]
     },
     "execution_count": 95,
     "metadata": {},
     "output_type": "execute_result"
    }
   ],
   "source": [
    "# CReateing DataFram with data\n",
    "val_df = pd.DataFrame({\n",
    "    'text': val_sentences,\n",
    "    'target': val_labels,\n",
    "    'pred': model_6_preds,\n",
    "    'pred_prob': tf.squeeze(model_6_pred_probs)\n",
    "})\n",
    "val_df.head()"
   ]
  },
  {
   "cell_type": "code",
   "execution_count": 100,
   "id": "78ac3609-6c83-4bcb-adeb-24717ddd7492",
   "metadata": {},
   "outputs": [
    {
     "data": {
      "text/html": [
       "<div>\n",
       "<style scoped>\n",
       "    .dataframe tbody tr th:only-of-type {\n",
       "        vertical-align: middle;\n",
       "    }\n",
       "\n",
       "    .dataframe tbody tr th {\n",
       "        vertical-align: top;\n",
       "    }\n",
       "\n",
       "    .dataframe thead th {\n",
       "        text-align: right;\n",
       "    }\n",
       "</style>\n",
       "<table border=\"1\" class=\"dataframe\">\n",
       "  <thead>\n",
       "    <tr style=\"text-align: right;\">\n",
       "      <th></th>\n",
       "      <th>text</th>\n",
       "      <th>target</th>\n",
       "      <th>pred</th>\n",
       "      <th>pred_prob</th>\n",
       "    </tr>\n",
       "  </thead>\n",
       "  <tbody>\n",
       "    <tr>\n",
       "      <th>49</th>\n",
       "      <td>@madonnamking RSPCA site multiple 7 story high...</td>\n",
       "      <td>0</td>\n",
       "      <td>1.0</td>\n",
       "      <td>0.812562</td>\n",
       "    </tr>\n",
       "    <tr>\n",
       "      <th>31</th>\n",
       "      <td>? High Skies - Burning Buildings ? http://t.co...</td>\n",
       "      <td>0</td>\n",
       "      <td>1.0</td>\n",
       "      <td>0.770391</td>\n",
       "    </tr>\n",
       "    <tr>\n",
       "      <th>393</th>\n",
       "      <td>@SonofLiberty357 all illuminated by the bright...</td>\n",
       "      <td>0</td>\n",
       "      <td>1.0</td>\n",
       "      <td>0.752289</td>\n",
       "    </tr>\n",
       "    <tr>\n",
       "      <th>759</th>\n",
       "      <td>FedEx will no longer transport bioterror patho...</td>\n",
       "      <td>0</td>\n",
       "      <td>1.0</td>\n",
       "      <td>0.715734</td>\n",
       "    </tr>\n",
       "    <tr>\n",
       "      <th>181</th>\n",
       "      <td>Article by Michael Jackman at Metro Times Detr...</td>\n",
       "      <td>0</td>\n",
       "      <td>1.0</td>\n",
       "      <td>0.697522</td>\n",
       "    </tr>\n",
       "    <tr>\n",
       "      <th>109</th>\n",
       "      <td>[55436] 1950 LIONEL TRAINS SMOKE LOCOMOTIVES W...</td>\n",
       "      <td>0</td>\n",
       "      <td>1.0</td>\n",
       "      <td>0.692754</td>\n",
       "    </tr>\n",
       "    <tr>\n",
       "      <th>117</th>\n",
       "      <td>Public Hearing on 2015-16 @SUNY_Orange budget ...</td>\n",
       "      <td>0</td>\n",
       "      <td>1.0</td>\n",
       "      <td>0.687854</td>\n",
       "    </tr>\n",
       "    <tr>\n",
       "      <th>1</th>\n",
       "      <td>FedEx no longer to transport bioterror germs i...</td>\n",
       "      <td>0</td>\n",
       "      <td>1.0</td>\n",
       "      <td>0.687644</td>\n",
       "    </tr>\n",
       "    <tr>\n",
       "      <th>80</th>\n",
       "      <td>GENERAL AUDIENCE: On Wounded Families | ZENIT ...</td>\n",
       "      <td>0</td>\n",
       "      <td>1.0</td>\n",
       "      <td>0.679682</td>\n",
       "    </tr>\n",
       "    <tr>\n",
       "      <th>209</th>\n",
       "      <td>Ashes 2015: AustraliaÛªs collapse at Trent Br...</td>\n",
       "      <td>0</td>\n",
       "      <td>1.0</td>\n",
       "      <td>0.669476</td>\n",
       "    </tr>\n",
       "  </tbody>\n",
       "</table>\n",
       "</div>"
      ],
      "text/plain": [
       "                                                  text  target  pred  \\\n",
       "49   @madonnamking RSPCA site multiple 7 story high...       0   1.0   \n",
       "31   ? High Skies - Burning Buildings ? http://t.co...       0   1.0   \n",
       "393  @SonofLiberty357 all illuminated by the bright...       0   1.0   \n",
       "759  FedEx will no longer transport bioterror patho...       0   1.0   \n",
       "181  Article by Michael Jackman at Metro Times Detr...       0   1.0   \n",
       "109  [55436] 1950 LIONEL TRAINS SMOKE LOCOMOTIVES W...       0   1.0   \n",
       "117  Public Hearing on 2015-16 @SUNY_Orange budget ...       0   1.0   \n",
       "1    FedEx no longer to transport bioterror germs i...       0   1.0   \n",
       "80   GENERAL AUDIENCE: On Wounded Families | ZENIT ...       0   1.0   \n",
       "209  Ashes 2015: AustraliaÛªs collapse at Trent Br...       0   1.0   \n",
       "\n",
       "     pred_prob  \n",
       "49    0.812562  \n",
       "31    0.770391  \n",
       "393   0.752289  \n",
       "759   0.715734  \n",
       "181   0.697522  \n",
       "109   0.692754  \n",
       "117   0.687854  \n",
       "1     0.687644  \n",
       "80    0.679682  \n",
       "209   0.669476  "
      ]
     },
     "execution_count": 100,
     "metadata": {},
     "output_type": "execute_result"
    }
   ],
   "source": [
    "# Find wrong predictions and sort by prediction probs\n",
    "most_wrong = val_df[val_df['target'] != val_df['pred']].sort_values('pred_prob', ascending=False)\n",
    "most_wrong[:10]"
   ]
  },
  {
   "cell_type": "code",
   "execution_count": 101,
   "id": "f5c14948-9146-4e47-a999-592af273a7c4",
   "metadata": {},
   "outputs": [
    {
     "data": {
      "text/html": [
       "<div>\n",
       "<style scoped>\n",
       "    .dataframe tbody tr th:only-of-type {\n",
       "        vertical-align: middle;\n",
       "    }\n",
       "\n",
       "    .dataframe tbody tr th {\n",
       "        vertical-align: top;\n",
       "    }\n",
       "\n",
       "    .dataframe thead th {\n",
       "        text-align: right;\n",
       "    }\n",
       "</style>\n",
       "<table border=\"1\" class=\"dataframe\">\n",
       "  <thead>\n",
       "    <tr style=\"text-align: right;\">\n",
       "      <th></th>\n",
       "      <th>text</th>\n",
       "      <th>target</th>\n",
       "      <th>pred</th>\n",
       "      <th>pred_prob</th>\n",
       "    </tr>\n",
       "  </thead>\n",
       "  <tbody>\n",
       "    <tr>\n",
       "      <th>248</th>\n",
       "      <td>Until my death I'll forever rep the Jets.</td>\n",
       "      <td>1</td>\n",
       "      <td>0.0</td>\n",
       "      <td>0.183757</td>\n",
       "    </tr>\n",
       "    <tr>\n",
       "      <th>408</th>\n",
       "      <td>@willienelson We need help! Horses will die!Pl...</td>\n",
       "      <td>1</td>\n",
       "      <td>0.0</td>\n",
       "      <td>0.182937</td>\n",
       "    </tr>\n",
       "    <tr>\n",
       "      <th>722</th>\n",
       "      <td>Indeed!! I am fully aware of that battle! I su...</td>\n",
       "      <td>1</td>\n",
       "      <td>0.0</td>\n",
       "      <td>0.178459</td>\n",
       "    </tr>\n",
       "    <tr>\n",
       "      <th>244</th>\n",
       "      <td>Reddit Will Now QuarantineÛ_ http://t.co/pkUA...</td>\n",
       "      <td>1</td>\n",
       "      <td>0.0</td>\n",
       "      <td>0.171894</td>\n",
       "    </tr>\n",
       "    <tr>\n",
       "      <th>681</th>\n",
       "      <td>'The way you move is like a full on rainstorm ...</td>\n",
       "      <td>1</td>\n",
       "      <td>0.0</td>\n",
       "      <td>0.169393</td>\n",
       "    </tr>\n",
       "    <tr>\n",
       "      <th>536</th>\n",
       "      <td>@DavidVonderhaar At least you were sincere ??</td>\n",
       "      <td>1</td>\n",
       "      <td>0.0</td>\n",
       "      <td>0.165195</td>\n",
       "    </tr>\n",
       "    <tr>\n",
       "      <th>352</th>\n",
       "      <td>@reriellechan HE WAS THE LICH KING'S FIRST CAS...</td>\n",
       "      <td>1</td>\n",
       "      <td>0.0</td>\n",
       "      <td>0.160439</td>\n",
       "    </tr>\n",
       "    <tr>\n",
       "      <th>23</th>\n",
       "      <td>Ron &amp;amp; Fez - Dave's High School Crush https...</td>\n",
       "      <td>1</td>\n",
       "      <td>0.0</td>\n",
       "      <td>0.159523</td>\n",
       "    </tr>\n",
       "    <tr>\n",
       "      <th>233</th>\n",
       "      <td>I get to smoke my shit in peace</td>\n",
       "      <td>1</td>\n",
       "      <td>0.0</td>\n",
       "      <td>0.132764</td>\n",
       "    </tr>\n",
       "    <tr>\n",
       "      <th>411</th>\n",
       "      <td>@SoonerMagic_ I mean I'm a fan but I don't nee...</td>\n",
       "      <td>1</td>\n",
       "      <td>0.0</td>\n",
       "      <td>0.119541</td>\n",
       "    </tr>\n",
       "  </tbody>\n",
       "</table>\n",
       "</div>"
      ],
      "text/plain": [
       "                                                  text  target  pred  \\\n",
       "248          Until my death I'll forever rep the Jets.       1   0.0   \n",
       "408  @willienelson We need help! Horses will die!Pl...       1   0.0   \n",
       "722  Indeed!! I am fully aware of that battle! I su...       1   0.0   \n",
       "244  Reddit Will Now QuarantineÛ_ http://t.co/pkUA...       1   0.0   \n",
       "681  'The way you move is like a full on rainstorm ...       1   0.0   \n",
       "536      @DavidVonderhaar At least you were sincere ??       1   0.0   \n",
       "352  @reriellechan HE WAS THE LICH KING'S FIRST CAS...       1   0.0   \n",
       "23   Ron &amp; Fez - Dave's High School Crush https...       1   0.0   \n",
       "233                    I get to smoke my shit in peace       1   0.0   \n",
       "411  @SoonerMagic_ I mean I'm a fan but I don't nee...       1   0.0   \n",
       "\n",
       "     pred_prob  \n",
       "248   0.183757  \n",
       "408   0.182937  \n",
       "722   0.178459  \n",
       "244   0.171894  \n",
       "681   0.169393  \n",
       "536   0.165195  \n",
       "352   0.160439  \n",
       "23    0.159523  \n",
       "233   0.132764  \n",
       "411   0.119541  "
      ]
     },
     "execution_count": 101,
     "metadata": {},
     "output_type": "execute_result"
    }
   ],
   "source": [
    "most_wrong[-10:]"
   ]
  },
  {
   "cell_type": "code",
   "execution_count": 104,
   "id": "83248740-bbe2-4221-80f9-35ee26f15914",
   "metadata": {},
   "outputs": [
    {
     "name": "stdout",
     "output_type": "stream",
     "text": [
      "Target: 1, Pred: 0.0, Prob: 0.1837565004825592\n",
      "Text:  Until my death I'll forever rep the Jets.\n",
      "--------------------------------------------------------------------------------\n",
      "Target: 1, Pred: 0.0, Prob: 0.18293672800064087\n",
      "Text:  @willienelson We need help! Horses will die!Please RT &amp; sign petition!Take a stand &amp; be a voice for them! #gilbert23 https://t.co/e8dl1lNCVu\n",
      "--------------------------------------------------------------------------------\n",
      "Target: 1, Pred: 0.0, Prob: 0.17845897376537323\n",
      "Text:  Indeed!! I am fully aware of that battle! I support you in that fight!!  https://t.co/MctJnZX4H8\n",
      "--------------------------------------------------------------------------------\n",
      "Target: 1, Pred: 0.0, Prob: 0.17189377546310425\n",
      "Text:  Reddit Will Now QuarantineÛ_ http://t.co/pkUAMXw6pm #onlinecommunities #reddit #amageddon #freespeech #Business http://t.co/PAWvNJ4sAP\n",
      "--------------------------------------------------------------------------------\n",
      "Target: 1, Pred: 0.0, Prob: 0.1693933755159378\n",
      "Text:  'The way you move is like a full on rainstorm and I'm a house of cards'\n",
      "--------------------------------------------------------------------------------\n",
      "Target: 1, Pred: 0.0, Prob: 0.165195032954216\n",
      "Text:  @DavidVonderhaar At least you were sincere ??\n",
      "--------------------------------------------------------------------------------\n",
      "Target: 1, Pred: 0.0, Prob: 0.1604389101266861\n",
      "Text:  @reriellechan HE WAS THE LICH KING'S FIRST CASUALTY BLOCK ME BACK I HATE YOU! http://t.co/0Gidg9U45J\n",
      "--------------------------------------------------------------------------------\n",
      "Target: 1, Pred: 0.0, Prob: 0.1595228612422943\n",
      "Text:  Ron &amp; Fez - Dave's High School Crush https://t.co/aN3W16c8F6 via @YouTube\n",
      "--------------------------------------------------------------------------------\n",
      "Target: 1, Pred: 0.0, Prob: 0.13276366889476776\n",
      "Text:  I get to smoke my shit in peace\n",
      "--------------------------------------------------------------------------------\n",
      "Target: 1, Pred: 0.0, Prob: 0.11954086273908615\n",
      "Text:  @SoonerMagic_ I mean I'm a fan but I don't need a girl sounding off like a damn siren\n",
      "--------------------------------------------------------------------------------\n"
     ]
    }
   ],
   "source": [
    "for row in most_wrong[-10:].itertuples():\n",
    "    _, text, target, pred, pred_prob = row\n",
    "    print(f'Target: {target}, Pred: {pred}, Prob: {pred_prob}')\n",
    "    print('Text: ', text)\n",
    "    print('-' * 80)"
   ]
  },
  {
   "cell_type": "markdown",
   "id": "e1174c26-cc49-4562-9832-aeddf59bc60c",
   "metadata": {},
   "source": [
    "## Making Predictios on Test Dataset"
   ]
  },
  {
   "cell_type": "code",
   "execution_count": 106,
   "id": "7ce6e67b-9f31-445f-8670-cd32c6e229bc",
   "metadata": {},
   "outputs": [
    {
     "data": {
      "text/html": [
       "<div>\n",
       "<style scoped>\n",
       "    .dataframe tbody tr th:only-of-type {\n",
       "        vertical-align: middle;\n",
       "    }\n",
       "\n",
       "    .dataframe tbody tr th {\n",
       "        vertical-align: top;\n",
       "    }\n",
       "\n",
       "    .dataframe thead th {\n",
       "        text-align: right;\n",
       "    }\n",
       "</style>\n",
       "<table border=\"1\" class=\"dataframe\">\n",
       "  <thead>\n",
       "    <tr style=\"text-align: right;\">\n",
       "      <th></th>\n",
       "      <th>id</th>\n",
       "      <th>keyword</th>\n",
       "      <th>location</th>\n",
       "      <th>text</th>\n",
       "    </tr>\n",
       "  </thead>\n",
       "  <tbody>\n",
       "    <tr>\n",
       "      <th>0</th>\n",
       "      <td>0</td>\n",
       "      <td>NaN</td>\n",
       "      <td>NaN</td>\n",
       "      <td>Just happened a terrible car crash</td>\n",
       "    </tr>\n",
       "    <tr>\n",
       "      <th>1</th>\n",
       "      <td>2</td>\n",
       "      <td>NaN</td>\n",
       "      <td>NaN</td>\n",
       "      <td>Heard about #earthquake is different cities, s...</td>\n",
       "    </tr>\n",
       "    <tr>\n",
       "      <th>2</th>\n",
       "      <td>3</td>\n",
       "      <td>NaN</td>\n",
       "      <td>NaN</td>\n",
       "      <td>there is a forest fire at spot pond, geese are...</td>\n",
       "    </tr>\n",
       "    <tr>\n",
       "      <th>3</th>\n",
       "      <td>9</td>\n",
       "      <td>NaN</td>\n",
       "      <td>NaN</td>\n",
       "      <td>Apocalypse lighting. #Spokane #wildfires</td>\n",
       "    </tr>\n",
       "    <tr>\n",
       "      <th>4</th>\n",
       "      <td>11</td>\n",
       "      <td>NaN</td>\n",
       "      <td>NaN</td>\n",
       "      <td>Typhoon Soudelor kills 28 in China and Taiwan</td>\n",
       "    </tr>\n",
       "    <tr>\n",
       "      <th>...</th>\n",
       "      <td>...</td>\n",
       "      <td>...</td>\n",
       "      <td>...</td>\n",
       "      <td>...</td>\n",
       "    </tr>\n",
       "    <tr>\n",
       "      <th>3258</th>\n",
       "      <td>10861</td>\n",
       "      <td>NaN</td>\n",
       "      <td>NaN</td>\n",
       "      <td>EARTHQUAKE SAFETY LOS ANGELES ÛÒ SAFETY FASTE...</td>\n",
       "    </tr>\n",
       "    <tr>\n",
       "      <th>3259</th>\n",
       "      <td>10865</td>\n",
       "      <td>NaN</td>\n",
       "      <td>NaN</td>\n",
       "      <td>Storm in RI worse than last hurricane. My city...</td>\n",
       "    </tr>\n",
       "    <tr>\n",
       "      <th>3260</th>\n",
       "      <td>10868</td>\n",
       "      <td>NaN</td>\n",
       "      <td>NaN</td>\n",
       "      <td>Green Line derailment in Chicago http://t.co/U...</td>\n",
       "    </tr>\n",
       "    <tr>\n",
       "      <th>3261</th>\n",
       "      <td>10874</td>\n",
       "      <td>NaN</td>\n",
       "      <td>NaN</td>\n",
       "      <td>MEG issues Hazardous Weather Outlook (HWO) htt...</td>\n",
       "    </tr>\n",
       "    <tr>\n",
       "      <th>3262</th>\n",
       "      <td>10875</td>\n",
       "      <td>NaN</td>\n",
       "      <td>NaN</td>\n",
       "      <td>#CityofCalgary has activated its Municipal Eme...</td>\n",
       "    </tr>\n",
       "  </tbody>\n",
       "</table>\n",
       "<p>3263 rows × 4 columns</p>\n",
       "</div>"
      ],
      "text/plain": [
       "         id keyword location  \\\n",
       "0         0     NaN      NaN   \n",
       "1         2     NaN      NaN   \n",
       "2         3     NaN      NaN   \n",
       "3         9     NaN      NaN   \n",
       "4        11     NaN      NaN   \n",
       "...     ...     ...      ...   \n",
       "3258  10861     NaN      NaN   \n",
       "3259  10865     NaN      NaN   \n",
       "3260  10868     NaN      NaN   \n",
       "3261  10874     NaN      NaN   \n",
       "3262  10875     NaN      NaN   \n",
       "\n",
       "                                                   text  \n",
       "0                    Just happened a terrible car crash  \n",
       "1     Heard about #earthquake is different cities, s...  \n",
       "2     there is a forest fire at spot pond, geese are...  \n",
       "3              Apocalypse lighting. #Spokane #wildfires  \n",
       "4         Typhoon Soudelor kills 28 in China and Taiwan  \n",
       "...                                                 ...  \n",
       "3258  EARTHQUAKE SAFETY LOS ANGELES ÛÒ SAFETY FASTE...  \n",
       "3259  Storm in RI worse than last hurricane. My city...  \n",
       "3260  Green Line derailment in Chicago http://t.co/U...  \n",
       "3261  MEG issues Hazardous Weather Outlook (HWO) htt...  \n",
       "3262  #CityofCalgary has activated its Municipal Eme...  \n",
       "\n",
       "[3263 rows x 4 columns]"
      ]
     },
     "execution_count": 106,
     "metadata": {},
     "output_type": "execute_result"
    }
   ],
   "source": [
    "test_data"
   ]
  },
  {
   "cell_type": "code",
   "execution_count": 109,
   "id": "113a105c-76bc-4511-b90b-9ff74ed9cc29",
   "metadata": {},
   "outputs": [
    {
     "name": "stdout",
     "output_type": "stream",
     "text": [
      "1/1 [==============================] - 1s 1s/step\n",
      "Pred: 1, Prob: 0.8487718105316162\n",
      "Text:  3 former executives to be prosecuted in Fukushima nuclear disaster http://t.co/EmWU8Xksdu\n",
      "-------------------------------------------------------------------------------- \n",
      "\n",
      "1/1 [==============================] - 0s 245ms/step\n",
      "Pred: 1, Prob: 0.5787045955657959\n",
      "Text:  #Turkey invades #Israel - Halfway to #Armageddon http://t.co/xUOh3sJNXF\n",
      "-------------------------------------------------------------------------------- \n",
      "\n",
      "1/1 [==============================] - 0s 159ms/step\n",
      "Pred: 0, Prob: 0.1815175712108612\n",
      "Text:  Do you feel deluged by unhappiness? Take the quiz: http://t.co/XUyfZkZ4k0 http://t.co/YupKvDIh8m\n",
      "-------------------------------------------------------------------------------- \n",
      "\n",
      "1/1 [==============================] - 0s 117ms/step\n",
      "Pred: 0, Prob: 0.20980007946491241\n",
      "Text:  SALHA(1):HARRY STYLES(2)U KNOW WHERE IS UR P_EOPLE#HURRY#EVACUATE THEM FROM#HELL.#JUST SHAHADA&amp;'PICK#ME'.#CLASS_SICK http://t.co/UpdDVr6jva\n",
      "-------------------------------------------------------------------------------- \n",
      "\n",
      "1/1 [==============================] - 0s 100ms/step\n",
      "Pred: 1, Prob: 0.5711958408355713\n",
      "Text:  Texas Seeks Comment on Rules for Changes to Windstorm Insurer http://t.co/SDZLVBiFbN\n",
      "-------------------------------------------------------------------------------- \n",
      "\n",
      "1/1 [==============================] - 0s 130ms/step\n",
      "Pred: 1, Prob: 0.7249349355697632\n",
      "Text:  PTSD research aims to answer a question left to future researchers in 1922 by a post WW1 inquiry http://t.co/gRDebWx70f\n",
      "-------------------------------------------------------------------------------- \n",
      "\n",
      "1/1 [==============================] - 0s 139ms/step\n",
      "Pred: 1, Prob: 0.7710874080657959\n",
      "Text:  'Mumbai attack mayhem was planned and launched from Pakistan'Ex-Federal Investigation Agency (FIA) chief Tariq Khosa. http://t.co/xzSP5JhVfc\n",
      "-------------------------------------------------------------------------------- \n",
      "\n",
      "1/1 [==============================] - 0s 132ms/step\n",
      "Pred: 1, Prob: 0.6412994861602783\n",
      "Text:  Canceling Deal for 2 Warships France Agrees to Repay Russia via @nytimes http://t.co/j7vbskHAXn\n",
      "-------------------------------------------------------------------------------- \n",
      "\n",
      "1/1 [==============================] - 0s 131ms/step\n",
      "Pred: 0, Prob: 0.26675716042518616\n",
      "Text:  The adventure continues in Terraria 1.3 join us for more hijinks and mayhem.  :-) http://t.co/MZcDdOYKen\n",
      "-------------------------------------------------------------------------------- \n",
      "\n",
      "1/1 [==============================] - 0s 69ms/step\n",
      "Pred: 1, Prob: 0.7355109453201294\n",
      "Text:  A girl who died in an airplane accident fifteen years ago\n",
      "-------------------------------------------------------------------------------- \n",
      "\n"
     ]
    }
   ],
   "source": [
    "test_sentences = test_data['text'].to_list()\n",
    "test_samples = random.sample(test_sentences, 10)\n",
    "\n",
    "for test_sample in test_samples:\n",
    "    pred_prob = tf.squeeze(model_6.predict([test_sample]))\n",
    "    pred = tf.round(pred_prob)\n",
    "\n",
    "    print(f'Pred: {int(pred)}, Prob: {pred_prob}')\n",
    "    print('Text: ', test_sample)\n",
    "    print('-' * 80, '\\n')"
   ]
  },
  {
   "cell_type": "markdown",
   "id": "fc57bb11-7bd8-4ee0-805b-13a9939a1d11",
   "metadata": {},
   "source": [
    "## Speed vs. Score Tradeoff"
   ]
  },
  {
   "cell_type": "code",
   "execution_count": 110,
   "id": "9d1ccb1b-14f6-4bdb-b064-067f7c4f09b0",
   "metadata": {},
   "outputs": [],
   "source": [
    "import time\n",
    "\n",
    "def pred_timer(model, samples):\n",
    "    \"\"\"\n",
    "        Timer for how long a model takes to make predictions on samples.\n",
    "    \"\"\"\n",
    "    start_time = time.perf_counter()\n",
    "    model.predict(samples)\n",
    "    end_time = time.perf_counter()\n",
    "    total_time = end_time - start_time\n",
    "    time_per_pred = total_time / len(samples)\n",
    "\n",
    "    return total_time, time_per_pred"
   ]
  },
  {
   "cell_type": "code",
   "execution_count": 111,
   "id": "ed809dbe-683a-4d8a-9e5b-846d38ba1de4",
   "metadata": {},
   "outputs": [
    {
     "name": "stdout",
     "output_type": "stream",
     "text": [
      "24/24 [==============================] - 2s 70ms/step\n"
     ]
    },
    {
     "data": {
      "text/plain": [
       "(2.064795833000062, 0.0027097058175853833)"
      ]
     },
     "execution_count": 111,
     "metadata": {},
     "output_type": "execute_result"
    }
   ],
   "source": [
    "model_6_pred_time, model_6_time_per_pred = pred_timer(model_6, val_sentences)\n",
    "model_6_pred_time, model_6_time_per_pred"
   ]
  },
  {
   "cell_type": "code",
   "execution_count": 112,
   "id": "cd85d1b5-479f-473c-9df7-629102d3a4c9",
   "metadata": {},
   "outputs": [
    {
     "data": {
      "text/plain": [
       "(0.030921540999770514, 4.057945013093243e-05)"
      ]
     },
     "execution_count": 112,
     "metadata": {},
     "output_type": "execute_result"
    }
   ],
   "source": [
    "model_0_pred_time, model_0_time_per_pred = pred_timer(model_0, val_sentences)\n",
    "model_0_pred_time, model_0_time_per_pred"
   ]
  },
  {
   "cell_type": "code",
   "execution_count": 115,
   "id": "53b9e087-cbb8-4cf0-b1b5-40ff670baada",
   "metadata": {},
   "outputs": [
    {
     "data": {
      "text/plain": [
       "Text(0.5, 1.0, 'F1-score vs. Time per prediction')"
      ]
     },
     "execution_count": 115,
     "metadata": {},
     "output_type": "execute_result"
    },
    {
     "data": {
      "image/png": "[encoded data removed]",
      "text/plain": [
       "<Figure size 1000x700 with 1 Axes>"
      ]
     },
     "metadata": {},
     "output_type": "display_data"
    }
   ],
   "source": [
    "plt.figure(figsize=(10,7))\n",
    "plt.scatter(model_0_time_per_pred, baseline_results.f1, label='baseline')\n",
    "plt.scatter(model_6_time_per_pred, model_6_results.f1, label='model 6')\n",
    "plt.legend()\n",
    "plt.title('F1-score vs. Time per prediction')"
   ]
  },
  {
   "cell_type": "markdown",
   "id": "46c38296-c67c-4d9c-beca-2171cad85210",
   "metadata": {},
   "source": [
    "#### Findings\n",
    "\n",
    "When comparing out best model against our baseline model, the time difference is significant, even though the `F1` is virtually identical."
   ]
  },
  {
   "cell_type": "code",
   "execution_count": null,
   "id": "0542be51-5b09-43e0-bb28-e2078530178d",
   "metadata": {},
   "outputs": [],
   "source": []
  }
 ],
 "metadata": {
  "kernelspec": {
   "display_name": "Python 3 (ipykernel)",
   "language": "python",
   "name": "python3"
  },
  "language_info": {
   "codemirror_mode": {
    "name": "ipython",
    "version": 3
   },
   "file_extension": ".py",
   "mimetype": "text/x-python",
   "name": "python",
   "nbconvert_exporter": "python",
   "pygments_lexer": "ipython3",
   "version": "3.9.6"
  }
 },
 "nbformat": 4,
 "nbformat_minor": 5
}
