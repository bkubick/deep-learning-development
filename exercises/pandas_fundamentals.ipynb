{
 "cells": [
  {
   "attachments": {},
   "cell_type": "markdown",
   "id": "e3911138",
   "metadata": {},
   "source": [
    "# Fundamentals in Pandas\n",
    "\n",
    "Pandas is a data analysis library for Python, used in machine learning, deep learning, AI, and general data analysis."
   ]
  },
  {
   "cell_type": "code",
   "execution_count": null,
   "id": "bdd7f0ce",
   "metadata": {},
   "outputs": [],
   "source": [
    "import pandas as pd"
   ]
  },
  {
   "attachments": {},
   "cell_type": "markdown",
   "id": "8058a92b",
   "metadata": {},
   "source": [
    "## Series, DataFrames, & CSV's\n",
    "\n",
    "The fundamental objects used in Pandas are the `Series` and `DataFrame` objects. These can be created from many different ways, such as from python sequences, dictionaries, numpy arrays, CSV's, or Excel Sheets."
   ]
  },
  {
   "attachments": {},
   "cell_type": "markdown",
   "id": "a8cf2e2b",
   "metadata": {},
   "source": [
    "### Series Datatype\n",
    "\n",
    "`Series` is a 1-dimensional sequence of data."
   ]
  },
  {
   "cell_type": "code",
   "execution_count": null,
   "id": "6e1189a6",
   "metadata": {},
   "outputs": [],
   "source": [
    "cars = pd.Series(['BMW', 'Toyota', 'Honda'])\n",
    "cars"
   ]
  },
  {
   "cell_type": "code",
   "execution_count": null,
   "id": "09007d41",
   "metadata": {},
   "outputs": [],
   "source": [
    "colors = pd.Series(['Red', 'Blue', 'Green'])\n",
    "colors"
   ]
  },
  {
   "attachments": {},
   "cell_type": "markdown",
   "id": "969f900c",
   "metadata": {},
   "source": [
    "### DataFrame Datatype\n",
    "\n",
    "`DataFrame` is a 2-Dimensional datatype, that takes in python dictionaries to map the key to the value in the DataFrame.\n",
    "\n",
    "**NOTE**: Axis=1 is a Column, Axis=0 is a row with DataFrames!"
   ]
  },
  {
   "cell_type": "code",
   "execution_count": null,
   "id": "b326c1fe",
   "metadata": {},
   "outputs": [],
   "source": [
    "df = pd.DataFrame({'Car Make': cars, 'Color': colors})\n",
    "df"
   ]
  },
  {
   "attachments": {},
   "cell_type": "markdown",
   "id": "60a828c5",
   "metadata": {},
   "source": [
    "### DataFrame's from CSV's\n",
    "\n",
    "Typically, DataFrames are created and used in CSV files."
   ]
  },
  {
   "cell_type": "code",
   "execution_count": null,
   "id": "dbbae114",
   "metadata": {},
   "outputs": [],
   "source": [
    "# import csv to a DataFrame from a local file\n",
    "car_sales_csv_file_path = './data/car-sales.csv'\n",
    "car_sales = pd.read_csv(car_sales_csv_file_path)\n",
    "car_sales"
   ]
  },
  {
   "cell_type": "code",
   "execution_count": null,
   "id": "a0a0aecc",
   "metadata": {},
   "outputs": [],
   "source": [
    "# exporting the DataFrame to a csv\n",
    "\n",
    "# index=False is to prevent including a column of the index number from the DataFrame\n",
    "# NOTE: Uncomment below to export! Commented out to avoid exporting a csv each time!\n",
    "# car_sales.to_csv('./data/temp.csv', index=False)"
   ]
  },
  {
   "cell_type": "code",
   "execution_count": null,
   "id": "95a00d21",
   "metadata": {},
   "outputs": [],
   "source": [
    "# importing csv to a DataFrame from a URL\n",
    "heart_disease_csv_url = 'https://raw.githubusercontent.com/mrdbourke/zero-to-mastery-ml/master/data/heart-disease.csv'\n",
    "heart_disease = pd.read_csv(heart_disease_csv_url)\n",
    "heart_disease.head()"
   ]
  },
  {
   "attachments": {},
   "cell_type": "markdown",
   "id": "3b42e9de",
   "metadata": {},
   "source": [
    "## Describing Data\n",
    "\n",
    "Pandas has A LOT of functionality to help visualize and describe data."
   ]
  },
  {
   "cell_type": "code",
   "execution_count": null,
   "id": "6321c647",
   "metadata": {},
   "outputs": [],
   "source": [
    "# Describing the data types of each column\n",
    "car_sales.dtypes"
   ]
  },
  {
   "cell_type": "code",
   "execution_count": null,
   "id": "67f394ea",
   "metadata": {},
   "outputs": [],
   "source": [
    "# Looking at the column names\n",
    "car_columns = car_sales.columns\n",
    "car_columns"
   ]
  },
  {
   "cell_type": "code",
   "execution_count": null,
   "id": "5ffb23ea",
   "metadata": {},
   "outputs": [],
   "source": [
    "# Looking at the range of indices in the dataframe\n",
    "car_sales.index"
   ]
  },
  {
   "cell_type": "code",
   "execution_count": null,
   "id": "b50f5fa9",
   "metadata": {},
   "outputs": [],
   "source": [
    "# Looking at statistical metadata of the dataframe\n",
    "# NOTE: describe() works only on numeric columns\n",
    "car_sales.describe()"
   ]
  },
  {
   "cell_type": "code",
   "execution_count": null,
   "id": "c9b825ed",
   "metadata": {},
   "outputs": [],
   "source": [
    "# Looking at metadata of the dataframe\n",
    "car_sales.info()"
   ]
  },
  {
   "cell_type": "code",
   "execution_count": null,
   "id": "b5a9f953",
   "metadata": {},
   "outputs": [],
   "source": [
    "# Statistical values\n",
    "# NOTE: works only on numeric columns and must specify numeric_only=True\n",
    "car_sales.mean(numeric_only=True)"
   ]
  },
  {
   "cell_type": "code",
   "execution_count": null,
   "id": "a7b04f22",
   "metadata": {},
   "outputs": [],
   "source": [
    "# Looking at specific columns statistics\n",
    "car_doors = car_sales['Doors']\n",
    "car_doors.mean(), car_doors.sum(), car_doors.median(), car_doors.std(), car_doors.var()"
   ]
  },
  {
   "attachments": {},
   "cell_type": "markdown",
   "id": "acae2d85",
   "metadata": {},
   "source": [
    "## Viewing & Selecting Data"
   ]
  },
  {
   "cell_type": "code",
   "execution_count": null,
   "id": "9071407a",
   "metadata": {},
   "outputs": [],
   "source": [
    "car_sales.head()"
   ]
  },
  {
   "cell_type": "code",
   "execution_count": null,
   "id": "df5d0e73",
   "metadata": {},
   "outputs": [],
   "source": [
    "car_sales.tail()"
   ]
  },
  {
   "cell_type": "code",
   "execution_count": null,
   "id": "14f811d4",
   "metadata": {},
   "outputs": [],
   "source": [
    "# .loc and .iloc\n",
    "# .loc grabs by Series index, .iloc grabs from the actual position in the list\n",
    "# NOTE: If index is not set on the Series or DataFrame, they will be the same value\n",
    "\n",
    "# NOTE: index=[...] is used to hard code the index value of each item in the Series accessed with .loc\n",
    "animals = pd.Series(['cat', 'snake', 'bird', 'croc', 'dog', 'panda'],\n",
    "                    index=[0, 3, 5, 1, 3, 7])\n",
    "animals.loc[3], animals.iloc[3]"
   ]
  },
  {
   "cell_type": "code",
   "execution_count": null,
   "id": "5ea95900",
   "metadata": {},
   "outputs": [],
   "source": [
    "# Accessing data different ways\n",
    "\n",
    "# NOTE: Using the .ATTR, column name can NOT have a space in it\n",
    "car_sales.Make, car_sales['Make']"
   ]
  },
  {
   "cell_type": "code",
   "execution_count": null,
   "id": "14b361b9",
   "metadata": {},
   "outputs": [],
   "source": [
    "# Indexing a Specific column by logic criteria\n",
    "\n",
    "# Indexing the car_sales data frame by grabbing all rows where the Odometer column has a value higher than 100,000\n",
    "car_sales[car_sales['Odometer (KM)'] > 100000]"
   ]
  },
  {
   "attachments": {},
   "cell_type": "markdown",
   "id": "33aed8cb",
   "metadata": {},
   "source": [
    "## Aggregating Columns"
   ]
  },
  {
   "cell_type": "code",
   "execution_count": null,
   "id": "4a13aaba",
   "metadata": {},
   "outputs": [],
   "source": [
    "# Comparing two columns\n",
    "# Aggregates two columns to find values with same value\n",
    "pd.crosstab(car_sales.Make, car_sales.Doors)"
   ]
  },
  {
   "cell_type": "code",
   "execution_count": null,
   "id": "00c2488b",
   "metadata": {},
   "outputs": [],
   "source": [
    "# Groupby (Same as sql)\n",
    "\n",
    "# Group all rows by the make, then grab the mean of those values\n",
    "car_sales.groupby(['Make']).mean(numeric_only=True)"
   ]
  },
  {
   "cell_type": "code",
   "execution_count": null,
   "id": "0eeeec80",
   "metadata": {},
   "outputs": [],
   "source": [
    "car_sales.groupby(['Make', 'Colour']).mean(numeric_only=True)"
   ]
  },
  {
   "attachments": {},
   "cell_type": "markdown",
   "id": "a508810f",
   "metadata": {},
   "source": [
    "## Plotting Data"
   ]
  },
  {
   "cell_type": "code",
   "execution_count": null,
   "id": "06073497",
   "metadata": {},
   "outputs": [],
   "source": [
    "# plotting data\n",
    "car_sales['Odometer (KM)'].plot()"
   ]
  },
  {
   "cell_type": "code",
   "execution_count": null,
   "id": "0894c659",
   "metadata": {},
   "outputs": [],
   "source": [
    "car_sales['Odometer (KM)'].hist()"
   ]
  },
  {
   "attachments": {},
   "cell_type": "markdown",
   "id": "a3563a3b",
   "metadata": {},
   "source": [
    "## Cleaning Up Columns"
   ]
  },
  {
   "cell_type": "code",
   "execution_count": null,
   "id": "a3148d2e",
   "metadata": {},
   "outputs": [],
   "source": [
    "# Remving $ & , from Price, then converting to an int\n",
    "car_sales['Price'] = car_sales['Price'].str.replace('$', '').str.replace(',', '').astype(float).astype(int)\n",
    "car_sales['Price']"
   ]
  },
  {
   "attachments": {},
   "cell_type": "markdown",
   "id": "1351d67e",
   "metadata": {},
   "source": [
    "## Manipulating Data\n",
    "\n",
    "NOTE: Changing a DataFrame column requires reassigning the column.\n",
    "- i.e.: `car_sales['Make'] = car_sales['Make'].str.lower()`"
   ]
  },
  {
   "cell_type": "code",
   "execution_count": null,
   "id": "5e159e0a",
   "metadata": {},
   "outputs": [],
   "source": [
    "car_sales['Make'].str.lower()"
   ]
  },
  {
   "cell_type": "code",
   "execution_count": null,
   "id": "56052a8b",
   "metadata": {},
   "outputs": [],
   "source": [
    "# Missing Data\n",
    "car_sales_missing = pd.read_csv('./data/car-sales-missing-data.csv')\n",
    "car_sales_missing"
   ]
  },
  {
   "cell_type": "code",
   "execution_count": null,
   "id": "2bd088bd",
   "metadata": {},
   "outputs": [],
   "source": [
    "# Manipulating missing data by filling those columns with the mean() of all other values\n",
    "car_sales_missing['Odometer (KM)'].fillna(car_sales_missing['Odometer (KM)'].mean(), inplace=True)\n",
    "car_sales_missing"
   ]
  },
  {
   "cell_type": "code",
   "execution_count": null,
   "id": "bcbbec43",
   "metadata": {},
   "outputs": [],
   "source": [
    "# Manipulating data by dropping all rows with an NaN column.\n",
    "car_sales_missing = pd.read_csv('./data/car-sales-missing-data.csv')\n",
    "car_sales_missing_dropped_na = car_sales_missing.dropna()\n",
    "car_sales_missing_dropped_na"
   ]
  },
  {
   "cell_type": "code",
   "execution_count": null,
   "id": "3e3ea477",
   "metadata": {},
   "outputs": [],
   "source": [
    "# Adding a column from a list\n",
    "\n",
    "# NOTE: The list being added must be equal to the total indices in the list\n",
    "car_sales = pd.read_csv('./data/car-sales.csv')\n",
    "car_sales['Fuel Economy (KM/L)'] = [7.8, 3.5, 6.5, 5.5, 9.1, 3.3, 4.7, 8.3, 2.7, 6.6]\n",
    "car_sales"
   ]
  },
  {
   "cell_type": "code",
   "execution_count": null,
   "id": "7d706378",
   "metadata": {},
   "outputs": [],
   "source": [
    "# Adding a column from another column\n",
    "car_sales['Total Fuel Used (L)'] = car_sales['Odometer (KM)'] / car_sales['Fuel Economy (KM/L)']\n",
    "car_sales"
   ]
  },
  {
   "cell_type": "code",
   "execution_count": null,
   "id": "303753bf",
   "metadata": {},
   "outputs": [],
   "source": [
    "# Adding a column from a single value\n",
    "car_sales['Number of Wheels'] = 4\n",
    "car_sales"
   ]
  },
  {
   "cell_type": "code",
   "execution_count": null,
   "id": "bdcd7b47",
   "metadata": {},
   "outputs": [],
   "source": [
    "# Removing Columns\n",
    "car_sales.drop('Number of Wheels', axis=1, inplace=True)\n",
    "car_sales"
   ]
  },
  {
   "cell_type": "code",
   "execution_count": null,
   "id": "a8a25071",
   "metadata": {},
   "outputs": [],
   "source": [
    "# Shuffling DataFrame rows\n",
    "car_sales_shuffled = car_sales.sample(frac=1)\n",
    "car_sales_shuffled"
   ]
  },
  {
   "cell_type": "code",
   "execution_count": null,
   "id": "14dd1ff2",
   "metadata": {},
   "outputs": [],
   "source": [
    "# Shuffling only 20% of data\n",
    "car_sales_shuffled_sample = car_sales.sample(frac=0.2)\n",
    "car_sales_shuffled_sample"
   ]
  },
  {
   "cell_type": "code",
   "execution_count": null,
   "id": "cb7e7ae7",
   "metadata": {},
   "outputs": [],
   "source": [
    "# Resetting a shuffled dataframe\n",
    "\n",
    "# NOTE: Without drop=True, it adds a new column (index) which maintains the index of the shuffled DataFrame.\n",
    "car_sales_shuffled.reset_index(drop=True)"
   ]
  },
  {
   "cell_type": "code",
   "execution_count": null,
   "id": "a7a9a7b6",
   "metadata": {},
   "outputs": [],
   "source": [
    "# Creating a new column from another column\n",
    "car_sales['Odometer (Mi)'] = car_sales['Odometer (KM)'].apply(lambda x: x / 1.61)\n",
    "car_sales"
   ]
  }
 ],
 "metadata": {
  "kernelspec": {
   "display_name": "Python 3 (ipykernel)",
   "language": "python",
   "name": "python3"
  },
  "language_info": {
   "codemirror_mode": {
    "name": "ipython",
    "version": 3
   },
   "file_extension": ".py",
   "mimetype": "text/x-python",
   "name": "python",
   "nbconvert_exporter": "python",
   "pygments_lexer": "ipython3",
   "version": "3.8.9"
  }
 },
 "nbformat": 4,
 "nbformat_minor": 5
}
