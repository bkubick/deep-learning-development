{
 "cells": [
  {
   "attachments": {},
   "cell_type": "markdown",
   "id": "b3885b51",
   "metadata": {},
   "source": [
    "# Introduction to Tensorflow Fundamentals\n",
    "\n",
    "TensorFlow is a deep-learning framework that offers a straight-forward and intuitive way to build powerful models used to solve complex problems. The purpose of this notebook is to dig into some of the fundamentals behind how TensorFlow works.\n",
    "\n",
    "* https://www.tensorflow.org/learn\n",
    "* https://www.tensorflow.org/api_docs/python/tf"
   ]
  },
  {
   "cell_type": "markdown",
   "id": "09b24e15-087e-4bf8-9ee2-98d8e216d13b",
   "metadata": {
    "jp-MarkdownHeadingCollapsed": true
   },
   "source": [
    "## Imports"
   ]
  },
  {
   "cell_type": "code",
   "execution_count": 1,
   "id": "e6509db9",
   "metadata": {},
   "outputs": [],
   "source": [
    "import tensorflow as tf\n",
    "import numpy as np"
   ]
  },
  {
   "attachments": {},
   "cell_type": "markdown",
   "id": "a009a6d9",
   "metadata": {
    "jp-MarkdownHeadingCollapsed": true
   },
   "source": [
    "## Creating Tensors\n",
    "\n",
    "A tensor is a container which can house data in N dimensions. Often and erroneously used interchangeably with the matrix (which is specifically a 2-dimensional tensor), tensors are generalizations of matrices to N-dimensional space.\n",
    "\n",
    "* https://www.kdnuggets.com/2018/05/wtf-tensor.html\n",
    "* https://www.tensorflow.org/api_docs/python/tf/Tensor\n",
    "\n",
    "TensorFlow offers many ways to create Tensors.\n",
    "\n",
    "* `tf.constant` - Creates a constant Tensor (can NOT change)\n",
    "* `tf.Variable` - Creates a variable Tensor (can change)\n",
    "* `tf.random.normal` - Creates a random Tensor using normal distributions\n",
    "* `tf.ones` - Creates a Tensor of all ones\n",
    "* `tf.zeros` - Creates a Tensor of all zeros"
   ]
  },
  {
   "attachments": {},
   "cell_type": "markdown",
   "id": "ea73c779",
   "metadata": {
    "jp-MarkdownHeadingCollapsed": true
   },
   "source": [
    "### Tensors with tf.constant (Used when Tensors Can NOT Change)"
   ]
  },
  {
   "cell_type": "code",
   "execution_count": 2,
   "id": "68e893aa",
   "metadata": {},
   "outputs": [
    {
     "name": "stderr",
     "output_type": "stream",
     "text": [
      "2023-09-12 18:24:33.557894: I metal_plugin/src/device/metal_device.cc:1154] Metal device set to: Apple M1 Pro\n",
      "2023-09-12 18:24:33.557908: I metal_plugin/src/device/metal_device.cc:296] systemMemory: 16.00 GB\n",
      "2023-09-12 18:24:33.557912: I metal_plugin/src/device/metal_device.cc:313] maxCacheSize: 5.33 GB\n",
      "2023-09-12 18:24:33.557938: I tensorflow/core/common_runtime/pluggable_device/pluggable_device_factory.cc:303] Could not identify NUMA node of platform GPU ID 0, defaulting to 0. Your kernel may not have been built with NUMA support.\n",
      "2023-09-12 18:24:33.557950: I tensorflow/core/common_runtime/pluggable_device/pluggable_device_factory.cc:269] Created TensorFlow device (/job:localhost/replica:0/task:0/device:GPU:0 with 0 MB memory) -> physical PluggableDevice (device: 0, name: METAL, pci bus id: <undefined>)\n"
     ]
    },
    {
     "data": {
      "text/plain": [
       "<tf.Tensor: shape=(), dtype=float32, numpy=7.0>"
      ]
     },
     "execution_count": 2,
     "metadata": {},
     "output_type": "execute_result"
    }
   ],
   "source": [
    "# Scalar Tensor\n",
    "scalar = tf.constant(7.0)\n",
    "scalar"
   ]
  },
  {
   "cell_type": "code",
   "execution_count": 3,
   "id": "65a4e0c0",
   "metadata": {},
   "outputs": [
    {
     "data": {
      "text/plain": [
       "0"
      ]
     },
     "execution_count": 3,
     "metadata": {},
     "output_type": "execute_result"
    }
   ],
   "source": [
    "# Checking Scalar Dims\n",
    "scalar.ndim"
   ]
  },
  {
   "cell_type": "code",
   "execution_count": 4,
   "id": "5d6adf6a",
   "metadata": {},
   "outputs": [
    {
     "data": {
      "text/plain": [
       "<tf.Tensor: shape=(2,), dtype=int32, numpy=array([10, 10], dtype=int32)>"
      ]
     },
     "execution_count": 4,
     "metadata": {},
     "output_type": "execute_result"
    }
   ],
   "source": [
    "# Vector Tensor\n",
    "vector = tf.constant([10, 10])\n",
    "vector"
   ]
  },
  {
   "cell_type": "code",
   "execution_count": 5,
   "id": "7dec63da",
   "metadata": {},
   "outputs": [
    {
     "data": {
      "text/plain": [
       "1"
      ]
     },
     "execution_count": 5,
     "metadata": {},
     "output_type": "execute_result"
    }
   ],
   "source": [
    "# Checking Vector Dims\n",
    "vector.ndim"
   ]
  },
  {
   "cell_type": "code",
   "execution_count": 6,
   "id": "6ffd5dcb",
   "metadata": {},
   "outputs": [
    {
     "data": {
      "text/plain": [
       "<tf.Tensor: shape=(2, 2), dtype=int32, numpy=\n",
       "array([[27, 83],\n",
       "       [10, 19]], dtype=int32)>"
      ]
     },
     "execution_count": 6,
     "metadata": {},
     "output_type": "execute_result"
    }
   ],
   "source": [
    "# Matrix Tensor (more than one dim)\n",
    "matrix = tf.constant([[27, 83],\n",
    "                      [10, 19]])\n",
    "matrix"
   ]
  },
  {
   "cell_type": "code",
   "execution_count": 7,
   "id": "fb6cdee9",
   "metadata": {},
   "outputs": [
    {
     "data": {
      "text/plain": [
       "2"
      ]
     },
     "execution_count": 7,
     "metadata": {},
     "output_type": "execute_result"
    }
   ],
   "source": [
    "# Checking Matrix Dims\n",
    "matrix.ndim"
   ]
  },
  {
   "cell_type": "code",
   "execution_count": 8,
   "id": "7fb7bdf9",
   "metadata": {},
   "outputs": [
    {
     "data": {
      "text/plain": [
       "<tf.Tensor: shape=(3, 2, 2), dtype=int32, numpy=\n",
       "array([[[27, 83],\n",
       "        [10, 19]],\n",
       "\n",
       "       [[ 1,  2],\n",
       "        [ 3,  4]],\n",
       "\n",
       "       [[ 4,  5],\n",
       "        [ 6,  7]]], dtype=int32)>"
      ]
     },
     "execution_count": 8,
     "metadata": {},
     "output_type": "execute_result"
    }
   ],
   "source": [
    "# N Dim Tensor\n",
    "tensor = tf.constant([[[27, 83], [10, 19]],\n",
    "                      [[1,   2], [3,   4]],\n",
    "                      [[4,   5], [6,   7]]])\n",
    "tensor"
   ]
  },
  {
   "cell_type": "code",
   "execution_count": 9,
   "id": "751381cc",
   "metadata": {},
   "outputs": [
    {
     "data": {
      "text/plain": [
       "3"
      ]
     },
     "execution_count": 9,
     "metadata": {},
     "output_type": "execute_result"
    }
   ],
   "source": [
    "# Dim of Tensor\n",
    "tensor.ndim"
   ]
  },
  {
   "cell_type": "code",
   "execution_count": 10,
   "id": "a7fbee36",
   "metadata": {},
   "outputs": [
    {
     "data": {
      "text/plain": [
       "<tf.Tensor: shape=(2, 2), dtype=float16, numpy=\n",
       "array([[27., 83.],\n",
       "       [19., 10.]], dtype=float16)>"
      ]
     },
     "execution_count": 10,
     "metadata": {},
     "output_type": "execute_result"
    }
   ],
   "source": [
    "# Matrix dtype specify as float16 (default without specifying is float32)\n",
    "matrix_float_16 = tf.constant([[27.0, 83.0],\n",
    "                      [19.0, 10.0]], dtype=tf.float16)\n",
    "matrix_float_16"
   ]
  },
  {
   "attachments": {},
   "cell_type": "markdown",
   "id": "82633676",
   "metadata": {
    "jp-MarkdownHeadingCollapsed": true
   },
   "source": [
    "### Tensors with tf.Variable (Used when Tensors Can Change)"
   ]
  },
  {
   "cell_type": "code",
   "execution_count": 11,
   "id": "684f0699",
   "metadata": {},
   "outputs": [
    {
     "data": {
      "text/plain": [
       "(<tf.Variable 'Variable:0' shape=(2,) dtype=int32, numpy=array([27, 83], dtype=int32)>,\n",
       " <tf.Tensor: shape=(2,), dtype=int32, numpy=array([27, 83], dtype=int32)>)"
      ]
     },
     "execution_count": 11,
     "metadata": {},
     "output_type": "execute_result"
    }
   ],
   "source": [
    "variable_tensor = tf.Variable([27, 83])\n",
    "constant_tensor = tf.constant([27, 83])\n",
    "\n",
    "variable_tensor, constant_tensor"
   ]
  },
  {
   "cell_type": "code",
   "execution_count": 12,
   "id": "98714d72",
   "metadata": {},
   "outputs": [
    {
     "data": {
      "text/plain": [
       "<tf.Variable 'Variable:0' shape=(2,) dtype=int32, numpy=array([19, 83], dtype=int32)>"
      ]
     },
     "execution_count": 12,
     "metadata": {},
     "output_type": "execute_result"
    }
   ],
   "source": [
    "# Testing what happens when attempting to change variable tensors\n",
    "# NOTE: Attempting to change constant tensors raise errors\n",
    "variable_tensor[0].assign(19)\n",
    "variable_tensor"
   ]
  },
  {
   "attachments": {},
   "cell_type": "markdown",
   "id": "15e7dc73",
   "metadata": {
    "jp-MarkdownHeadingCollapsed": true
   },
   "source": [
    "### Tensors with tf.random"
   ]
  },
  {
   "cell_type": "code",
   "execution_count": 13,
   "id": "fc95e734",
   "metadata": {},
   "outputs": [
    {
     "data": {
      "text/plain": [
       "<tf.Tensor: shape=(3, 2), dtype=float32, numpy=\n",
       "array([[-0.49539253, -0.7584407 ],\n",
       "       [ 0.13736528, -0.4419888 ],\n",
       "       [-0.6564125 , -2.2867968 ]], dtype=float32)>"
      ]
     },
     "execution_count": 13,
     "metadata": {},
     "output_type": "execute_result"
    }
   ],
   "source": [
    "# Generating a random tensor from a specific seed to ensure the same tensor is created\n",
    "random_tensor_generator = tf.random.Generator.from_seed(83)\n",
    "random_tensor = random_tensor_generator.normal(shape=(3, 2))\n",
    "random_tensor"
   ]
  },
  {
   "attachments": {},
   "cell_type": "markdown",
   "id": "06dd1b6a",
   "metadata": {
    "jp-MarkdownHeadingCollapsed": true
   },
   "source": [
    "### Shuffle Tensor Values with tf.random.shuffle"
   ]
  },
  {
   "cell_type": "code",
   "execution_count": 14,
   "id": "d158809b",
   "metadata": {},
   "outputs": [
    {
     "data": {
      "text/plain": [
       "<tf.Tensor: shape=(3, 2), dtype=int32, numpy=\n",
       "array([[27, 83],\n",
       "       [10, 19],\n",
       "       [15, 16]], dtype=int32)>"
      ]
     },
     "execution_count": 14,
     "metadata": {},
     "output_type": "execute_result"
    }
   ],
   "source": [
    "not_shuffled = tf.constant([[27, 83],\n",
    "                            [10, 19],\n",
    "                            [15, 16]])\n",
    "shuffled = tf.random.shuffle(not_shuffled)\n",
    "shuffled"
   ]
  },
  {
   "cell_type": "code",
   "execution_count": 15,
   "id": "563d9d12",
   "metadata": {},
   "outputs": [
    {
     "data": {
      "text/plain": [
       "(<tf.Tensor: shape=(3, 2), dtype=int32, numpy=\n",
       " array([[27, 83],\n",
       "        [15, 16],\n",
       "        [10, 19]], dtype=int32)>,\n",
       " <tf.Tensor: shape=(3, 2), dtype=int32, numpy=\n",
       " array([[15, 16],\n",
       "        [27, 83],\n",
       "        [10, 19]], dtype=int32)>)"
      ]
     },
     "execution_count": 15,
     "metadata": {},
     "output_type": "execute_result"
    }
   ],
   "source": [
    "# Dealing with Random seeds\n",
    "# Setting global level seet\n",
    "tf.random.set_seed(10)\n",
    "not_shuffled = tf.constant([[27, 83],\n",
    "                            [10, 19],\n",
    "                            [15, 16]])\n",
    "tf.random.shuffle(not_shuffled), tf.random.shuffle(not_shuffled)"
   ]
  },
  {
   "attachments": {},
   "cell_type": "markdown",
   "id": "f265553b",
   "metadata": {},
   "source": [
    "### Tensor with Ones and Zeros\n",
    "The main difference between NumPy arrays and TensorFlow arrays is Tensors can run on GPU"
   ]
  },
  {
   "cell_type": "code",
   "execution_count": 16,
   "id": "b497997c",
   "metadata": {},
   "outputs": [
    {
     "data": {
      "text/plain": [
       "<tf.Tensor: shape=(10, 7), dtype=float32, numpy=\n",
       "array([[1., 1., 1., 1., 1., 1., 1.],\n",
       "       [1., 1., 1., 1., 1., 1., 1.],\n",
       "       [1., 1., 1., 1., 1., 1., 1.],\n",
       "       [1., 1., 1., 1., 1., 1., 1.],\n",
       "       [1., 1., 1., 1., 1., 1., 1.],\n",
       "       [1., 1., 1., 1., 1., 1., 1.],\n",
       "       [1., 1., 1., 1., 1., 1., 1.],\n",
       "       [1., 1., 1., 1., 1., 1., 1.],\n",
       "       [1., 1., 1., 1., 1., 1., 1.],\n",
       "       [1., 1., 1., 1., 1., 1., 1.]], dtype=float32)>"
      ]
     },
     "execution_count": 16,
     "metadata": {},
     "output_type": "execute_result"
    }
   ],
   "source": [
    "# Create tensor of ones\n",
    "tf.ones([10,7])"
   ]
  },
  {
   "cell_type": "code",
   "execution_count": 17,
   "id": "cf4306b1",
   "metadata": {},
   "outputs": [
    {
     "data": {
      "text/plain": [
       "<tf.Tensor: shape=(5, 6), dtype=float32, numpy=\n",
       "array([[0., 0., 0., 0., 0., 0.],\n",
       "       [0., 0., 0., 0., 0., 0.],\n",
       "       [0., 0., 0., 0., 0., 0.],\n",
       "       [0., 0., 0., 0., 0., 0.],\n",
       "       [0., 0., 0., 0., 0., 0.]], dtype=float32)>"
      ]
     },
     "execution_count": 17,
     "metadata": {},
     "output_type": "execute_result"
    }
   ],
   "source": [
    "# Create tensor of zeros\n",
    "tf.zeros([5, 6])"
   ]
  },
  {
   "cell_type": "code",
   "execution_count": 18,
   "id": "9f7b5e4d",
   "metadata": {},
   "outputs": [
    {
     "data": {
      "text/plain": [
       "(<tf.Tensor: shape=(2, 3, 4), dtype=int64, numpy=\n",
       " array([[[ 1,  2,  3,  4],\n",
       "         [ 5,  6,  7,  8],\n",
       "         [ 9, 10, 11, 12]],\n",
       " \n",
       "        [[13, 14, 15, 16],\n",
       "         [17, 18, 19, 20],\n",
       "         [21, 22, 23, 24]]])>,\n",
       " <tf.Tensor: shape=(24,), dtype=int64, numpy=\n",
       " array([ 1,  2,  3,  4,  5,  6,  7,  8,  9, 10, 11, 12, 13, 14, 15, 16, 17,\n",
       "        18, 19, 20, 21, 22, 23, 24])>)"
      ]
     },
     "execution_count": 18,
     "metadata": {},
     "output_type": "execute_result"
    }
   ],
   "source": [
    "# Tensor from numpy\n",
    "numpy_array = np.arange(1, 25) # 24 total items\n",
    "\n",
    "# Taking vector of [1, 2, 3, ... 24, 25] and turning into Tensor of shape [2, 3, 4]\n",
    "# NOTE: Shape has to be multiple of total elements\n",
    "A = tf.constant(numpy_array, shape=[2,3,4])\n",
    "B = tf.constant(numpy_array)\n",
    "A, B"
   ]
  },
  {
   "attachments": {},
   "cell_type": "markdown",
   "id": "fef882d8",
   "metadata": {
    "jp-MarkdownHeadingCollapsed": true
   },
   "source": [
    "## Getting Information from Tensors\n",
    "- Shape: The shape of the dimension\n",
    "- Rank: The dimension of the tensor\n",
    "- Axis or Dimension: Accesssing a particular dimension of a tensor\n",
    "- Size: Total elements in tensor"
   ]
  },
  {
   "cell_type": "code",
   "execution_count": 19,
   "id": "3a0b27b0",
   "metadata": {},
   "outputs": [
    {
     "data": {
      "text/plain": [
       "<tf.Tensor: shape=(2, 3, 4, 5), dtype=float32, numpy=\n",
       "array([[[[0., 0., 0., 0., 0.],\n",
       "         [0., 0., 0., 0., 0.],\n",
       "         [0., 0., 0., 0., 0.],\n",
       "         [0., 0., 0., 0., 0.]],\n",
       "\n",
       "        [[0., 0., 0., 0., 0.],\n",
       "         [0., 0., 0., 0., 0.],\n",
       "         [0., 0., 0., 0., 0.],\n",
       "         [0., 0., 0., 0., 0.]],\n",
       "\n",
       "        [[0., 0., 0., 0., 0.],\n",
       "         [0., 0., 0., 0., 0.],\n",
       "         [0., 0., 0., 0., 0.],\n",
       "         [0., 0., 0., 0., 0.]]],\n",
       "\n",
       "\n",
       "       [[[0., 0., 0., 0., 0.],\n",
       "         [0., 0., 0., 0., 0.],\n",
       "         [0., 0., 0., 0., 0.],\n",
       "         [0., 0., 0., 0., 0.]],\n",
       "\n",
       "        [[0., 0., 0., 0., 0.],\n",
       "         [0., 0., 0., 0., 0.],\n",
       "         [0., 0., 0., 0., 0.],\n",
       "         [0., 0., 0., 0., 0.]],\n",
       "\n",
       "        [[0., 0., 0., 0., 0.],\n",
       "         [0., 0., 0., 0., 0.],\n",
       "         [0., 0., 0., 0., 0.],\n",
       "         [0., 0., 0., 0., 0.]]]], dtype=float32)>"
      ]
     },
     "execution_count": 19,
     "metadata": {},
     "output_type": "execute_result"
    }
   ],
   "source": [
    "# Sample rank 4 tensor\n",
    "rank_4_tensor = tf.zeros(shape=[2, 3, 4, 5])\n",
    "rank_4_tensor"
   ]
  },
  {
   "cell_type": "code",
   "execution_count": 20,
   "id": "d4191477",
   "metadata": {},
   "outputs": [
    {
     "data": {
      "text/plain": [
       "(TensorShape([2, 3, 4, 5]),\n",
       " 4,\n",
       " <tf.Tensor: shape=(), dtype=int32, numpy=120>,\n",
       " tf.float32)"
      ]
     },
     "execution_count": 20,
     "metadata": {},
     "output_type": "execute_result"
    }
   ],
   "source": [
    "# Getting information from tensor\n",
    "rank_4_tensor.shape, rank_4_tensor.ndim, tf.size(rank_4_tensor), rank_4_tensor.dtype"
   ]
  },
  {
   "attachments": {},
   "cell_type": "markdown",
   "id": "586a0c94",
   "metadata": {},
   "source": [
    "### Indexing Tensors\n",
    "Tensors can by indexed just like python lists"
   ]
  },
  {
   "cell_type": "code",
   "execution_count": 21,
   "id": "9ca46d11",
   "metadata": {},
   "outputs": [
    {
     "data": {
      "text/plain": [
       "<tf.Tensor: shape=(2, 2, 2, 2), dtype=float32, numpy=\n",
       "array([[[[0., 0.],\n",
       "         [0., 0.]],\n",
       "\n",
       "        [[0., 0.],\n",
       "         [0., 0.]]],\n",
       "\n",
       "\n",
       "       [[[0., 0.],\n",
       "         [0., 0.]],\n",
       "\n",
       "        [[0., 0.],\n",
       "         [0., 0.]]]], dtype=float32)>"
      ]
     },
     "execution_count": 21,
     "metadata": {},
     "output_type": "execute_result"
    }
   ],
   "source": [
    "# Get first 2 elements for each index\n",
    "rank_4_tensor[:2, :2, :2, :2]"
   ]
  },
  {
   "cell_type": "code",
   "execution_count": 22,
   "id": "bd937906",
   "metadata": {},
   "outputs": [
    {
     "data": {
      "text/plain": [
       "<tf.Tensor: shape=(1, 1, 1, 5), dtype=float32, numpy=array([[[[0., 0., 0., 0., 0.]]]], dtype=float32)>"
      ]
     },
     "execution_count": 22,
     "metadata": {},
     "output_type": "execute_result"
    }
   ],
   "source": [
    "# Get the first each dimension from each index except the final one\n",
    "rank_4_tensor[:1, :1, :1, :]  # NOTE: rank_4_tensor[:1, :1, :1, :]  != rank_4_tensor[0, 0, 0, :]"
   ]
  },
  {
   "attachments": {},
   "cell_type": "markdown",
   "id": "3c5d9126",
   "metadata": {},
   "source": [
    "### Reshape Tensors"
   ]
  },
  {
   "cell_type": "code",
   "execution_count": 23,
   "id": "7cdc8669",
   "metadata": {},
   "outputs": [
    {
     "data": {
      "text/plain": [
       "<tf.Tensor: shape=(2, 2), dtype=int32, numpy=\n",
       "array([[27, 83],\n",
       "       [10, 19]], dtype=int32)>"
      ]
     },
     "execution_count": 23,
     "metadata": {},
     "output_type": "execute_result"
    }
   ],
   "source": [
    "rank_2_tensor = tf.constant([[27, 83],\n",
    "                             [10, 19]])\n",
    "rank_2_tensor"
   ]
  },
  {
   "cell_type": "code",
   "execution_count": 24,
   "id": "13026127",
   "metadata": {},
   "outputs": [
    {
     "data": {
      "text/plain": [
       "<tf.Tensor: shape=(2,), dtype=int32, numpy=array([83, 19], dtype=int32)>"
      ]
     },
     "execution_count": 24,
     "metadata": {},
     "output_type": "execute_result"
    }
   ],
   "source": [
    "# Get the last item of each row of our rank 2 tensor\n",
    "rank_2_tensor[:, -1]"
   ]
  },
  {
   "cell_type": "code",
   "execution_count": 25,
   "id": "5d3820b7",
   "metadata": {},
   "outputs": [
    {
     "data": {
      "text/plain": [
       "<tf.Tensor: shape=(2, 2, 1), dtype=int32, numpy=\n",
       "array([[[27],\n",
       "        [83]],\n",
       "\n",
       "       [[10],\n",
       "        [19]]], dtype=int32)>"
      ]
     },
     "execution_count": 25,
     "metadata": {},
     "output_type": "execute_result"
    }
   ],
   "source": [
    "# Add in extra dimension to our rank 2 tensor\n",
    "rank_3_tensor = rank_2_tensor[..., tf.newaxis]\n",
    "rank_3_tensor"
   ]
  },
  {
   "cell_type": "code",
   "execution_count": 26,
   "id": "30b9c64f",
   "metadata": {},
   "outputs": [
    {
     "data": {
      "text/plain": [
       "<tf.Tensor: shape=(2, 2, 1), dtype=int32, numpy=\n",
       "array([[[27],\n",
       "        [83]],\n",
       "\n",
       "       [[10],\n",
       "        [19]]], dtype=int32)>"
      ]
     },
     "execution_count": 26,
     "metadata": {},
     "output_type": "execute_result"
    }
   ],
   "source": [
    "# Add in extra dimension to our rank 2 tensor (alternative way)\n",
    "tf.expand_dims(rank_2_tensor, axis=-1)"
   ]
  },
  {
   "attachments": {},
   "cell_type": "markdown",
   "id": "a1f46893",
   "metadata": {},
   "source": [
    "## Manipulating Tensors (Tensor Operations)\n",
    "Standard Operators:\n",
    "`+`, `-`, `*`, `/`, `@`\n",
    "\n",
    "TensorFlow offers a standard way to multiply matrices. When a constant is multiplied by a Tensor using `*`, it acts as scalar multiplication or piece wise multiplication. Alternatively, matrix multiplication is used through the `@` symbol.\n",
    "\n",
    "In addition to standard operators, TensorFlow offers standard functions that offer alternative ways to perform operations."
   ]
  },
  {
   "cell_type": "markdown",
   "id": "537d6223-8524-4152-ab07-50ea3c0f631f",
   "metadata": {
    "jp-MarkdownHeadingCollapsed": true
   },
   "source": [
    "### Standard Operators\n",
    "\n",
    "TensorFlow offers standard operators when working with Tensors.\n",
    "\n",
    "Operators: `+`, `-`, `*`, `/`"
   ]
  },
  {
   "cell_type": "code",
   "execution_count": 27,
   "id": "7fce87fb",
   "metadata": {},
   "outputs": [
    {
     "data": {
      "text/plain": [
       "(<tf.Tensor: shape=(2, 2), dtype=int32, numpy=\n",
       " array([[28, 84],\n",
       "        [11, 20]], dtype=int32)>,\n",
       " <tf.Tensor: shape=(2, 2), dtype=int32, numpy=\n",
       " array([[26, 82],\n",
       "        [ 9, 18]], dtype=int32)>,\n",
       " <tf.Tensor: shape=(2, 2), dtype=int32, numpy=\n",
       " array([[ 54, 166],\n",
       "        [ 20,  38]], dtype=int32)>,\n",
       " <tf.Tensor: shape=(2, 2), dtype=float64, numpy=\n",
       " array([[13.5, 41.5],\n",
       "        [ 5. ,  9.5]])>)"
      ]
     },
     "execution_count": 27,
     "metadata": {},
     "output_type": "execute_result"
    }
   ],
   "source": [
    "# Basic Opertions with a scalar\n",
    "tensor = tf.constant([[27, 83],\n",
    "                      [10, 19]])\n",
    "\n",
    "tensor + 1, tensor - 1, tensor * 2, tensor / 2"
   ]
  },
  {
   "cell_type": "code",
   "execution_count": 28,
   "id": "8d124ee1",
   "metadata": {},
   "outputs": [
    {
     "data": {
      "text/plain": [
       "(<tf.Tensor: shape=(2, 2), dtype=int32, numpy=\n",
       " array([[ 40, 100],\n",
       "        [ 20,  20]], dtype=int32)>,\n",
       " <tf.Tensor: shape=(2, 2), dtype=int32, numpy=\n",
       " array([[14, 66],\n",
       "        [ 0, 18]], dtype=int32)>)"
      ]
     },
     "execution_count": 28,
     "metadata": {},
     "output_type": "execute_result"
    }
   ],
   "source": [
    "# Adding/Subtracting two tensors\n",
    "tensor_A = tf.constant([[27, 83],\n",
    "                       [10, 19]])\n",
    "tensor_B = tf.constant([[13, 17],\n",
    "                        [10, 1]])\n",
    "tensor_A + tensor_B, tensor_A - tensor_B"
   ]
  },
  {
   "cell_type": "code",
   "execution_count": 29,
   "id": "7a40d574",
   "metadata": {},
   "outputs": [
    {
     "data": {
      "text/plain": [
       "(<tf.Tensor: shape=(2, 2), dtype=int32, numpy=\n",
       " array([[ 351, 1411],\n",
       "        [ 100,   19]], dtype=int32)>,\n",
       " <tf.Tensor: shape=(2, 2), dtype=float64, numpy=\n",
       " array([[ 2.07692308,  4.88235294],\n",
       "        [ 1.        , 19.        ]])>)"
      ]
     },
     "execution_count": 29,
     "metadata": {},
     "output_type": "execute_result"
    }
   ],
   "source": [
    "# Multiplying/Diving Tensors (Element Wise)\n",
    "tensor_A = tf.constant([[27, 83],\n",
    "                       [10, 19]])\n",
    "tensor_B = tf.constant([[13, 17],\n",
    "                        [10, 1]])\n",
    "tensor_A * tensor_B, tensor_A / tensor_B"
   ]
  },
  {
   "attachments": {},
   "cell_type": "markdown",
   "id": "e4ee1024",
   "metadata": {
    "jp-MarkdownHeadingCollapsed": true
   },
   "source": [
    "### Tensor Multiplication\n",
    "\n",
    "Tensor multiplication results in the two following rules:\n",
    "\n",
    "1. The inner dimensions must match\n",
    "2. The resulting matrix has the shape of the inner dimensions"
   ]
  },
  {
   "cell_type": "code",
   "execution_count": 30,
   "id": "5c3ca9b8",
   "metadata": {},
   "outputs": [
    {
     "data": {
      "text/plain": [
       "<tf.Tensor: shape=(2, 2), dtype=int32, numpy=\n",
       "array([[1181,  542],\n",
       "       [ 320,  189]], dtype=int32)>"
      ]
     },
     "execution_count": 30,
     "metadata": {},
     "output_type": "execute_result"
    }
   ],
   "source": [
    "# Matrix Multiplication (NOT Element Wise) Using tf.linalg.matmul (can shorten to tf.matmul)\n",
    "tensor_A = tf.constant([[27, 83],\n",
    "                        [10, 19]])\n",
    "tensor_B = tf.constant([[13, 17],\n",
    "                        [10, 1]])\n",
    "tf.matmul(tensor_A, tensor_B)"
   ]
  },
  {
   "cell_type": "code",
   "execution_count": 31,
   "id": "7af73674",
   "metadata": {},
   "outputs": [
    {
     "data": {
      "text/plain": [
       "<tf.Tensor: shape=(2, 2), dtype=int32, numpy=\n",
       "array([[1181,  542],\n",
       "       [ 320,  189]], dtype=int32)>"
      ]
     },
     "execution_count": 31,
     "metadata": {},
     "output_type": "execute_result"
    }
   ],
   "source": [
    "# Matrix Multiplication (NOT Element Wise) Using `@` Operator\n",
    "tensor_A = tf.constant([[27, 83],\n",
    "                        [10, 19]])\n",
    "tensor_B = tf.constant([[13, 17],\n",
    "                        [10, 1]])\n",
    "tensor_A @ tensor_B"
   ]
  },
  {
   "cell_type": "code",
   "execution_count": 32,
   "id": "00b30b27",
   "metadata": {},
   "outputs": [
    {
     "data": {
      "text/plain": [
       "<tf.Tensor: shape=(2, 3), dtype=int32, numpy=\n",
       "array([[27, 10, 13],\n",
       "       [83, 19, 17]], dtype=int32)>"
      ]
     },
     "execution_count": 32,
     "metadata": {},
     "output_type": "execute_result"
    }
   ],
   "source": [
    "# Transposing Matrices\n",
    "tensor = tf.constant([[27, 83],\n",
    "                      [10, 19],\n",
    "                      [13, 17]])\n",
    "tf.transpose(tensor)"
   ]
  },
  {
   "attachments": {},
   "cell_type": "markdown",
   "id": "0cbef827",
   "metadata": {
    "jp-MarkdownHeadingCollapsed": true
   },
   "source": [
    "### Matrix Dot Products\n",
    "Matrix Multiplication is also referred to as the dot product.\n",
    "\n",
    "Using Matrix Multiplication:\n",
    "* `tf.matmul()`\n",
    "* `tf.tensordot()`\n",
    "* `@`"
   ]
  },
  {
   "cell_type": "code",
   "execution_count": 33,
   "id": "ddb57787",
   "metadata": {},
   "outputs": [
    {
     "data": {
      "text/plain": [
       "<tf.Tensor: shape=(2, 2), dtype=int32, numpy=\n",
       "array([[1181,  542],\n",
       "       [ 320,  189]], dtype=int32)>"
      ]
     },
     "execution_count": 33,
     "metadata": {},
     "output_type": "execute_result"
    }
   ],
   "source": [
    "# Dotproduct Matrices (Same as multiplication)\n",
    "tensor_A = tf.constant([[27, 83],\n",
    "                        [10, 19]])\n",
    "tensor_B = tf.constant([[13, 17],\n",
    "                        [10, 1]])\n",
    "\n",
    "tf.tensordot(tensor_A, tensor_B, axes=1)"
   ]
  },
  {
   "cell_type": "code",
   "execution_count": 34,
   "id": "96e65c72",
   "metadata": {},
   "outputs": [
    {
     "data": {
      "text/plain": [
       "(<tf.Tensor: shape=(2, 3), dtype=int32, numpy=\n",
       " array([[27, 10, 13],\n",
       "        [83, 19, 17]], dtype=int32)>,\n",
       " <tf.Tensor: shape=(2, 3), dtype=int32, numpy=\n",
       " array([[27, 83, 10],\n",
       "        [19, 13, 17]], dtype=int32)>)"
      ]
     },
     "execution_count": 34,
     "metadata": {},
     "output_type": "execute_result"
    }
   ],
   "source": [
    "# Transpose Vs Reshape\n",
    "tensor_A = tf.constant([[27, 83],\n",
    "                        [10, 19],\n",
    "                        [13, 17]])\n",
    "tf.transpose(tensor_A), tf.reshape(tensor_A, shape=(2, 3))"
   ]
  },
  {
   "attachments": {},
   "cell_type": "markdown",
   "id": "e59b8a1b",
   "metadata": {
    "jp-MarkdownHeadingCollapsed": true
   },
   "source": [
    "### Changing Datatype of Tensor\n",
    "\n",
    "Tensors are structured with a standard datatype across all elements in the Tensor. Tensorflow has standard datatypes:\n",
    "\n",
    "* `tf.int16`, `tf.int32`, `tf.int64`\n",
    "* `tf.float16`, `tf.float32`, `tf.float64`\n",
    "* `tf.bool`\n",
    "\n",
    "See the complete list in the link below.\n",
    "\n",
    "* https://www.tensorflow.org/api_docs/python/tf/dtypes\n",
    "\n",
    "These values can be casted as a new datatype using `tf.cast`."
   ]
  },
  {
   "cell_type": "code",
   "execution_count": 35,
   "id": "9df97ed9",
   "metadata": {},
   "outputs": [
    {
     "data": {
      "text/plain": [
       "(tf.float32, tf.int32)"
      ]
     },
     "execution_count": 35,
     "metadata": {},
     "output_type": "execute_result"
    }
   ],
   "source": [
    "A = tf.constant([1.2, 3.4])\n",
    "B = tf.constant([3, 4])\n",
    "\n",
    "A.dtype, B.dtype"
   ]
  },
  {
   "cell_type": "code",
   "execution_count": 36,
   "id": "621d28f7",
   "metadata": {},
   "outputs": [
    {
     "data": {
      "text/plain": [
       "(<tf.Tensor: shape=(2,), dtype=float16, numpy=array([1.2, 3.4], dtype=float16)>,\n",
       " <tf.Tensor: shape=(2,), dtype=int16, numpy=array([3, 4], dtype=int16)>)"
      ]
     },
     "execution_count": 36,
     "metadata": {},
     "output_type": "execute_result"
    }
   ],
   "source": [
    "# Casting A and B to lower precisions\n",
    "\n",
    "tf.cast(A, tf.float16), tf.cast(B, tf.int16)"
   ]
  },
  {
   "cell_type": "code",
   "execution_count": 37,
   "id": "bc0d3d66",
   "metadata": {},
   "outputs": [
    {
     "data": {
      "text/plain": [
       "(<tf.Tensor: shape=(2,), dtype=int32, numpy=array([1, 3], dtype=int32)>,\n",
       " <tf.Tensor: shape=(2,), dtype=float32, numpy=array([3., 4.], dtype=float32)>)"
      ]
     },
     "execution_count": 37,
     "metadata": {},
     "output_type": "execute_result"
    }
   ],
   "source": [
    "# Casting float to int and Vice versa\n",
    "# NOTE: Cast from float to into will lose precision so use sparingly!\n",
    "tf.cast(A, tf.int32), tf.cast(B, tf.float32)"
   ]
  },
  {
   "attachments": {},
   "cell_type": "markdown",
   "id": "cbd6bd9a",
   "metadata": {
    "jp-MarkdownHeadingCollapsed": true
   },
   "source": [
    "## Aggregating Tensors\n",
    "The purpose of aggregation is to combine data into a lower represented dimension. This includes operations such as:\n",
    "\n",
    "* absolute value\n",
    "* min\n",
    "* max\n",
    "* mean\n",
    "* sum\n",
    "* standard deviation\n",
    "* variance\n",
    "* squeeze"
   ]
  },
  {
   "attachments": {},
   "cell_type": "markdown",
   "id": "a1806f7f",
   "metadata": {
    "jp-MarkdownHeadingCollapsed": true
   },
   "source": [
    "### Absolute Values"
   ]
  },
  {
   "cell_type": "code",
   "execution_count": 38,
   "id": "58affca8",
   "metadata": {},
   "outputs": [
    {
     "data": {
      "text/plain": [
       "<tf.Tensor: shape=(4,), dtype=int32, numpy=array([3, 4, 1, 2], dtype=int32)>"
      ]
     },
     "execution_count": 38,
     "metadata": {},
     "output_type": "execute_result"
    }
   ],
   "source": [
    "# Absolute Values of Tensor\n",
    "A = tf.constant([-3, 4, 1, -2])\n",
    "tf.abs(A)"
   ]
  },
  {
   "attachments": {},
   "cell_type": "markdown",
   "id": "34d9f123",
   "metadata": {
    "jp-MarkdownHeadingCollapsed": true
   },
   "source": [
    "### Basic Aggregations\n",
    "Getting the min, max, mean, sum, etc."
   ]
  },
  {
   "cell_type": "code",
   "execution_count": 39,
   "id": "f0560856",
   "metadata": {},
   "outputs": [
    {
     "data": {
      "text/plain": [
       "(<tf.Tensor: shape=(50,), dtype=int64, numpy=\n",
       " array([75, 43,  8, 63, 21, 41,  7, 48, 21, 66, 19, 19, 99, 92, 70, 93, 19,\n",
       "        87, 14, 69, 92, 25, 39, 61, 61, 81, 96, 63, 25, 78, 67, 36, 92, 99,\n",
       "         7, 17, 94, 69, 18, 21, 37, 40, 60,  3, 65, 48, 78, 72, 37, 11])>,\n",
       " <tf.Tensor: shape=(), dtype=int32, numpy=50>,\n",
       " TensorShape([50]),\n",
       " 1)"
      ]
     },
     "execution_count": 39,
     "metadata": {},
     "output_type": "execute_result"
    }
   ],
   "source": [
    "# Create a random tensor with values between 0 and 100 of size 50\n",
    "A = tf.constant(np.random.randint(0, 100, size=50))\n",
    "A, tf.size(A), A.shape, A.ndim"
   ]
  },
  {
   "cell_type": "code",
   "execution_count": 40,
   "id": "bf48864f",
   "metadata": {},
   "outputs": [
    {
     "data": {
      "text/plain": [
       "<tf.Tensor: shape=(), dtype=int64, numpy=3>"
      ]
     },
     "execution_count": 40,
     "metadata": {},
     "output_type": "execute_result"
    }
   ],
   "source": [
    "# Minimum of Tensor\n",
    "tf.reduce_min(A)"
   ]
  },
  {
   "cell_type": "code",
   "execution_count": 41,
   "id": "df8e6d80",
   "metadata": {},
   "outputs": [
    {
     "data": {
      "text/plain": [
       "<tf.Tensor: shape=(), dtype=int64, numpy=99>"
      ]
     },
     "execution_count": 41,
     "metadata": {},
     "output_type": "execute_result"
    }
   ],
   "source": [
    "# Maximum of Tensor\n",
    "tf.reduce_max(A)"
   ]
  },
  {
   "cell_type": "code",
   "execution_count": 42,
   "id": "3e0be470",
   "metadata": {},
   "outputs": [
    {
     "data": {
      "text/plain": [
       "<tf.Tensor: shape=(), dtype=int64, numpy=51>"
      ]
     },
     "execution_count": 42,
     "metadata": {},
     "output_type": "execute_result"
    }
   ],
   "source": [
    "# Mean of Tensor\n",
    "tf.reduce_mean(A)"
   ]
  },
  {
   "cell_type": "code",
   "execution_count": 43,
   "id": "e670e81c",
   "metadata": {},
   "outputs": [
    {
     "data": {
      "text/plain": [
       "<tf.Tensor: shape=(), dtype=int64, numpy=2566>"
      ]
     },
     "execution_count": 43,
     "metadata": {},
     "output_type": "execute_result"
    }
   ],
   "source": [
    "# Sum of Tensor\n",
    "tf.reduce_sum(A)"
   ]
  },
  {
   "cell_type": "code",
   "execution_count": 44,
   "id": "feee8711",
   "metadata": {},
   "outputs": [
    {
     "data": {
      "text/plain": [
       "<tf.Tensor: shape=(), dtype=float32, numpy=29.542133>"
      ]
     },
     "execution_count": 44,
     "metadata": {},
     "output_type": "execute_result"
    }
   ],
   "source": [
    "# Standard Deviation of Tensor\n",
    "tf.math.reduce_std(tf.cast(A, tf.float32))"
   ]
  },
  {
   "cell_type": "code",
   "execution_count": 45,
   "id": "7f81f4ea",
   "metadata": {},
   "outputs": [
    {
     "data": {
      "text/plain": [
       "<tf.Tensor: shape=(), dtype=float32, numpy=872.7376>"
      ]
     },
     "execution_count": 45,
     "metadata": {},
     "output_type": "execute_result"
    }
   ],
   "source": [
    "# Variance of Tensor\n",
    "tf.math.reduce_variance(tf.cast(A, tf.float32))"
   ]
  },
  {
   "cell_type": "code",
   "execution_count": 46,
   "id": "b8a50b79",
   "metadata": {},
   "outputs": [
    {
     "data": {
      "text/plain": [
       "(<tf.Tensor: shape=(), dtype=int64, numpy=28>,\n",
       " <tf.Tensor: shape=(), dtype=bool, numpy=True>,\n",
       " <tf.Tensor: shape=(), dtype=float32, numpy=0.010968566>)"
      ]
     },
     "execution_count": 46,
     "metadata": {},
     "output_type": "execute_result"
    }
   ],
   "source": [
    "# Finding position of Mins in a Tensor\n",
    "A = tf.random.uniform(shape=[50])\n",
    "\n",
    "tf.argmin(A), A[tf.argmin(A)] == tf.reduce_min(A), tf.reduce_min(A)"
   ]
  },
  {
   "cell_type": "code",
   "execution_count": 47,
   "id": "0244d45f",
   "metadata": {},
   "outputs": [
    {
     "data": {
      "text/plain": [
       "(<tf.Tensor: shape=(), dtype=int64, numpy=8>,\n",
       " <tf.Tensor: shape=(), dtype=bool, numpy=True>,\n",
       " <tf.Tensor: shape=(), dtype=float32, numpy=0.9526142>)"
      ]
     },
     "execution_count": 47,
     "metadata": {},
     "output_type": "execute_result"
    }
   ],
   "source": [
    "# Finding position of Max in a Tensor\n",
    "A = tf.random.uniform(shape=[50])\n",
    "\n",
    "tf.argmax(A), A[tf.argmax(A)] == tf.reduce_max(A), tf.reduce_max(A)"
   ]
  },
  {
   "attachments": {},
   "cell_type": "markdown",
   "id": "c3f0db37",
   "metadata": {
    "jp-MarkdownHeadingCollapsed": true
   },
   "source": [
    "### Squeezing a Tensor\n",
    "Removing all 1 Dimensional Axes"
   ]
  },
  {
   "cell_type": "code",
   "execution_count": 48,
   "id": "8ecb5bce",
   "metadata": {},
   "outputs": [
    {
     "data": {
      "text/plain": [
       "<tf.Tensor: shape=(1, 1, 1, 1, 50), dtype=float32, numpy=\n",
       "array([[[[[0.21397555, 0.2643757 , 0.28710473, 0.25718975, 0.52617586,\n",
       "           0.91361344, 0.0447216 , 0.10029984, 0.09849989, 0.86648834,\n",
       "           0.24473143, 0.56366694, 0.03929579, 0.12343621, 0.19966185,\n",
       "           0.1920501 , 0.28218448, 0.15347826, 0.53748095, 0.27362394,\n",
       "           0.2531482 , 0.36486518, 0.21162462, 0.62031853, 0.5597439 ,\n",
       "           0.9813552 , 0.19455218, 0.19763148, 0.1973288 , 0.03005874,\n",
       "           0.10550642, 0.47597027, 0.28553474, 0.08011901, 0.5166364 ,\n",
       "           0.3910675 , 0.4203813 , 0.3037548 , 0.07092381, 0.45484078,\n",
       "           0.45768797, 0.29157996, 0.3182882 , 0.30745256, 0.25168908,\n",
       "           0.540053  , 0.67481935, 0.9355844 , 0.92940557, 0.2120583 ]]]]],\n",
       "      dtype=float32)>"
      ]
     },
     "execution_count": 48,
     "metadata": {},
     "output_type": "execute_result"
    }
   ],
   "source": [
    "A = tf.constant(tf.random.uniform(shape=[1, 1, 1, 1, 50]))\n",
    "A"
   ]
  },
  {
   "cell_type": "code",
   "execution_count": 49,
   "id": "0eaf96ee",
   "metadata": {},
   "outputs": [
    {
     "data": {
      "text/plain": [
       "<tf.Tensor: shape=(50,), dtype=float32, numpy=\n",
       "array([0.21397555, 0.2643757 , 0.28710473, 0.25718975, 0.52617586,\n",
       "       0.91361344, 0.0447216 , 0.10029984, 0.09849989, 0.86648834,\n",
       "       0.24473143, 0.56366694, 0.03929579, 0.12343621, 0.19966185,\n",
       "       0.1920501 , 0.28218448, 0.15347826, 0.53748095, 0.27362394,\n",
       "       0.2531482 , 0.36486518, 0.21162462, 0.62031853, 0.5597439 ,\n",
       "       0.9813552 , 0.19455218, 0.19763148, 0.1973288 , 0.03005874,\n",
       "       0.10550642, 0.47597027, 0.28553474, 0.08011901, 0.5166364 ,\n",
       "       0.3910675 , 0.4203813 , 0.3037548 , 0.07092381, 0.45484078,\n",
       "       0.45768797, 0.29157996, 0.3182882 , 0.30745256, 0.25168908,\n",
       "       0.540053  , 0.67481935, 0.9355844 , 0.92940557, 0.2120583 ],\n",
       "      dtype=float32)>"
      ]
     },
     "execution_count": 49,
     "metadata": {},
     "output_type": "execute_result"
    }
   ],
   "source": [
    "A_squeezed = tf.squeeze(A)\n",
    "A_squeezed"
   ]
  },
  {
   "attachments": {},
   "cell_type": "markdown",
   "id": "d17d8c78",
   "metadata": {
    "jp-MarkdownHeadingCollapsed": true
   },
   "source": [
    "## One Hot Encoding Tensors\n",
    "\n",
    "The purpose of a one hot encoder is to transform text data into a numerical representation, allowing mathematical operations to be performed.\n",
    "\n",
    "For instance, a one hot encoded representation of text:\n",
    "\n",
    "* Encoding repeated strings to an int ('red', 'green', 'blue') -> (1, 0, 0)"
   ]
  },
  {
   "cell_type": "code",
   "execution_count": 50,
   "id": "551da378",
   "metadata": {},
   "outputs": [
    {
     "data": {
      "text/plain": [
       "<tf.Tensor: shape=(8, 4), dtype=float32, numpy=\n",
       "array([[1., 0., 0., 0.],\n",
       "       [0., 1., 0., 0.],\n",
       "       [0., 0., 1., 0.],\n",
       "       [0., 0., 0., 1.],\n",
       "       [1., 0., 0., 0.],\n",
       "       [0., 0., 1., 0.],\n",
       "       [0., 1., 0., 0.],\n",
       "       [0., 1., 0., 0.]], dtype=float32)>"
      ]
     },
     "execution_count": 50,
     "metadata": {},
     "output_type": "execute_result"
    }
   ],
   "source": [
    "some_list = [0, 1, 2, 3, 0, 2, 1, 1] # Could be red, green, blue, purple\n",
    "tf.one_hot(some_list, depth=4)"
   ]
  },
  {
   "attachments": {},
   "cell_type": "markdown",
   "id": "d66cb0cd",
   "metadata": {},
   "source": [
    "## Checking Devices Available (CPU, GPU, TPU)\n",
    "NOTE: TensorFlow will automatically use a CUDA GPU if one is available"
   ]
  },
  {
   "cell_type": "code",
   "execution_count": 51,
   "id": "a9b7fc60",
   "metadata": {},
   "outputs": [
    {
     "data": {
      "text/plain": [
       "[PhysicalDevice(name='/physical_device:CPU:0', device_type='CPU'),\n",
       " PhysicalDevice(name='/physical_device:GPU:0', device_type='GPU')]"
      ]
     },
     "execution_count": 51,
     "metadata": {},
     "output_type": "execute_result"
    }
   ],
   "source": [
    "tf.config.list_physical_devices()"
   ]
  }
 ],
 "metadata": {
  "kernelspec": {
   "display_name": "Python 3 (ipykernel)",
   "language": "python",
   "name": "python3"
  },
  "language_info": {
   "codemirror_mode": {
    "name": "ipython",
    "version": 3
   },
   "file_extension": ".py",
   "mimetype": "text/x-python",
   "name": "python",
   "nbconvert_exporter": "python",
   "pygments_lexer": "ipython3",
   "version": "3.9.6"
  }
 },
 "nbformat": 4,
 "nbformat_minor": 5
}
