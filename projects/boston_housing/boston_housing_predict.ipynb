{
 "cells": [
  {
   "cell_type": "markdown",
   "id": "cb3942f7-4a14-4327-a80b-8b8805a83788",
   "metadata": {},
   "source": [
    "# Boston Housing Predict\n",
    "\n",
    "For this notebook, I am going to build and test data from the Boston Housing dataset on Kaggle.\n",
    "\n",
    "* https://www.kaggle.com/code/prasadperera/the-boston-housing-dataset\n",
    "\n",
    "The purpose of the Boston Housing dataset is to utilize a regression model to predict the median value for houses in Boston."
   ]
  },
  {
   "cell_type": "markdown",
   "id": "5e152c9c-b226-401f-861a-4f7eebee6a6d",
   "metadata": {
    "jp-MarkdownHeadingCollapsed": true
   },
   "source": [
    "## Setup\n",
    "\n",
    "Need to figure out if I'm on google colab or on local. This will determine which commands need to be ran and how to setup the CPU/GPU being used.\n",
    "\n",
    "Additionally, if on google colab, then I will need to install my personal repository, [py-learning-toolbox](https://github.com/bkubick/py-learning-toolbox) as a package."
   ]
  },
  {
   "cell_type": "code",
   "execution_count": 1,
   "id": "b3326082-cb56-4d70-a76a-c50841b12f77",
   "metadata": {
    "ExecuteTime": {
     "end_time": "2023-10-06T23:54:52.851300Z",
     "start_time": "2023-10-06T23:54:52.808178Z"
    }
   },
   "outputs": [
    {
     "data": {
      "text/plain": [
       "False"
      ]
     },
     "execution_count": 1,
     "metadata": {},
     "output_type": "execute_result"
    }
   ],
   "source": [
    "# Determining if on google colab\n",
    "try:\n",
    "  from google import colab\n",
    "  on_colab = True\n",
    "except Exception:\n",
    "  on_colab = False\n",
    "\n",
    "on_colab"
   ]
  },
  {
   "cell_type": "code",
   "execution_count": 2,
   "id": "95b288ab-c701-4ca5-92a3-40b7a5847d73",
   "metadata": {
    "ExecuteTime": {
     "end_time": "2023-10-06T23:54:52.851722Z",
     "start_time": "2023-10-06T23:54:52.813273Z"
    }
   },
   "outputs": [],
   "source": [
    "# Installing my personal repo that contains all my utils as a package\n",
    "if on_colab:\n",
    "  !nvidia-smi -L\n",
    "  !pip install py-learning-toolbox@git+https://github.com/bkubick/py-learning-toolbox.git\n",
    "  !pltb_setup_project ."
   ]
  },
  {
   "cell_type": "markdown",
   "id": "4d00a000-7f51-4e9e-824b-13f90cef0c82",
   "metadata": {
    "jp-MarkdownHeadingCollapsed": true
   },
   "source": [
    "## Imports"
   ]
  },
  {
   "cell_type": "code",
   "execution_count": 3,
   "id": "1403b3c8-efd6-4e3d-a233-52823cd7851f",
   "metadata": {
    "ExecuteTime": {
     "end_time": "2023-10-06T23:54:58.800696Z",
     "start_time": "2023-10-06T23:54:52.815721Z"
    }
   },
   "outputs": [],
   "source": [
    "import datetime\n",
    "import logging\n",
    "import random\n",
    "import sys\n",
    "import typing\n",
    "\n",
    "import matplotlib.pyplot as plt\n",
    "import numpy as np\n",
    "import pandas as pd\n",
    "from py_learning_toolbox import data_toolbox\n",
    "from py_learning_toolbox import ml_toolbox\n",
    "from sklearn.preprocessing import MinMaxScaler\n",
    "import tensorflow as tf\n",
    "import tensorflow_model_optimization as tfmot"
   ]
  },
  {
   "cell_type": "markdown",
   "id": "85a414af-a780-4b21-bbd7-f4f6daf5ebc6",
   "metadata": {
    "jp-MarkdownHeadingCollapsed": true
   },
   "source": [
    "## Environment\n",
    "\n",
    "Setting up the environment and analyzing the various information associated with this notebook."
   ]
  },
  {
   "cell_type": "code",
   "execution_count": 4,
   "id": "7ba9040c-d52c-4864-bf68-674fea9d82e1",
   "metadata": {
    "ExecuteTime": {
     "end_time": "2023-10-06T23:54:58.805335Z",
     "start_time": "2023-10-06T23:54:58.802049Z"
    }
   },
   "outputs": [
    {
     "name": "stdout",
     "output_type": "stream",
     "text": [
      "Notebook last run (end-to-end): 2023-10-08 14:55:01.187885\n"
     ]
    }
   ],
   "source": [
    "print(f'Notebook last run (end-to-end): {datetime.datetime.now()}')"
   ]
  },
  {
   "cell_type": "code",
   "execution_count": 5,
   "id": "8d17c936-7b60-4cb8-a219-ff1224b684d0",
   "metadata": {
    "ExecuteTime": {
     "end_time": "2023-10-06T23:54:58.810952Z",
     "start_time": "2023-10-06T23:54:58.805021Z"
    }
   },
   "outputs": [
    {
     "data": {
      "text/plain": [
       "'2.13.0'"
      ]
     },
     "execution_count": 5,
     "metadata": {},
     "output_type": "execute_result"
    }
   ],
   "source": [
    "tf.__version__"
   ]
  },
  {
   "cell_type": "code",
   "execution_count": 6,
   "id": "0215ddd3-b97e-4e1a-9e46-d97d4bc8f83b",
   "metadata": {
    "ExecuteTime": {
     "end_time": "2023-10-06T23:54:58.819885Z",
     "start_time": "2023-10-06T23:54:58.809342Z"
    }
   },
   "outputs": [
    {
     "data": {
      "text/plain": [
       "[PhysicalDevice(name='/physical_device:CPU:0', device_type='CPU')]"
      ]
     },
     "execution_count": 6,
     "metadata": {},
     "output_type": "execute_result"
    }
   ],
   "source": [
    "tf.config.list_physical_devices()"
   ]
  },
  {
   "cell_type": "code",
   "execution_count": 7,
   "id": "955e3765-42be-4a47-b011-4bb600134d12",
   "metadata": {
    "ExecuteTime": {
     "end_time": "2023-10-06T23:54:58.821269Z",
     "start_time": "2023-10-06T23:54:58.812543Z"
    }
   },
   "outputs": [],
   "source": [
    "# Setting up logging\n",
    "logging.basicConfig(stream=sys.stdout, level=logging.INFO)"
   ]
  },
  {
   "cell_type": "markdown",
   "id": "c9fd6c7c-0dec-49b3-bfc0-fc26d977ef20",
   "metadata": {
    "jp-MarkdownHeadingCollapsed": true
   },
   "source": [
    "## Global Constants"
   ]
  },
  {
   "cell_type": "code",
   "execution_count": 8,
   "id": "e4034991-58be-429f-9f3e-c7ef5bafd070",
   "metadata": {
    "ExecuteTime": {
     "end_time": "2023-10-06T23:54:58.821396Z",
     "start_time": "2023-10-06T23:54:58.814551Z"
    }
   },
   "outputs": [],
   "source": [
    "RANDOM_SEED = 27"
   ]
  },
  {
   "cell_type": "markdown",
   "id": "26e969fc-a1d4-4366-b66c-718a4ebfd3e1",
   "metadata": {
    "jp-MarkdownHeadingCollapsed": true
   },
   "source": [
    "## Helpers \n",
    "Defining helper functions to split certain functionality out of tasks."
   ]
  },
  {
   "cell_type": "code",
   "execution_count": 9,
   "id": "f13d2992-eaca-4468-ac00-78454a0232cc",
   "metadata": {
    "ExecuteTime": {
     "end_time": "2023-10-07T01:10:18.353998Z",
     "start_time": "2023-10-07T01:10:18.346424Z"
    }
   },
   "outputs": [],
   "source": [
    "ActivationType = typing.Union[str, typing.Callable[[tf.Tensor], tf.Tensor]]\n",
    "\n",
    "class SkipConnectionDenseLayer(tf.keras.layers.Layer):\n",
    "\n",
    "    def __init__(self,\n",
    "                 units: int = 32,\n",
    "                 hidden_layers: int = 1,\n",
    "                 activation: typing.Optional[ActivationType] = None,\n",
    "                 *args,\n",
    "                 **kwargs):\n",
    "        \"\"\" Skip connection dense layer.\n",
    "\n",
    "            Args:\n",
    "                units (int): the number of units in the layer.\n",
    "                hidden_layers (int): the number of hidden layers in the layer.\n",
    "                activation (Optional[ActivationType]): the activation function to use.\n",
    "        \"\"\"\n",
    "        super().__init__(*args, **kwargs)\n",
    "        activation = activation or 'relu'\n",
    "        self.hidden_layers = [tf.keras.layers.Dense(units, activation=activation) for _ in range(hidden_layers)]\n",
    "        self.sum_layer = tf.keras.layers.Add()\n",
    "\n",
    "    def call(self, inputs: tf.Tensor, *args, **kwargs) -> tf.Tensor:\n",
    "        \"\"\" Forward pass of the layer.\n",
    "\n",
    "            Args:\n",
    "                inputs (tf.Tensor): the input tensor to the layer.\n",
    "\n",
    "            Returns:\n",
    "                (tf.Tensor) the output of the layer.\n",
    "        \"\"\"\n",
    "        x = inputs\n",
    "        for layer in self.hidden_layers:\n",
    "            x = layer(x)\n",
    "        x = self.sum_layer([inputs, x])\n",
    "        return x"
   ]
  },
  {
   "cell_type": "markdown",
   "id": "5a615f97-da72-4768-b20c-95f3fb1abbb8",
   "metadata": {
    "jp-MarkdownHeadingCollapsed": true
   },
   "source": [
    "## Downloading, Analyzing, & Creating Datasets\n",
    "\n",
    "The data used in the paper is publicly available through the TensorFlow API directly.\n",
    "\n",
    "* https://www.tensorflow.org/api_docs/python/tf/keras/datasets/boston_housing\n",
    "* http://lib.stat.cmu.edu/datasets/boston\n",
    "\n",
    "Features:\n",
    "* CRIM     per capita crime rate by town\n",
    "* ZN       proportion of residential land zoned for lots over 25,000 sq.ft.\n",
    "* INDUS    proportion of non-retail business acres per town\n",
    "* CHAS     Charles River dummy variable (= 1 if tract bounds river; 0 otherwise)\n",
    "* NOX      nitric oxides concentration (parts per 10 million)\n",
    "* RM       average number of rooms per dwelling\n",
    "* AGE      proportion of owner-occupied units built prior to 1940\n",
    "* DIS      weighted distances to five Boston employment centres\n",
    "* RAD      index of accessibility to radial highways\n",
    "* TAX      full-value property-tax rate per \\$10,000\n",
    "* PTRATIO  pupil-teacher ratio by town\n",
    "* B        1000(Bk - 0.63)^2 where Bk is the proportion of blacks by town\n",
    "* LSTAT    % lower status of the population\n",
    "* MEDV     Median value of owner-occupied homes in \\$1000's"
   ]
  },
  {
   "cell_type": "markdown",
   "id": "30be742c-777f-49f7-a615-bb4835aa462b",
   "metadata": {
    "jp-MarkdownHeadingCollapsed": true
   },
   "source": [
    "### Data Constants"
   ]
  },
  {
   "cell_type": "code",
   "execution_count": 10,
   "id": "a2d5031a-c0d9-40d3-ac2c-3b99f357757a",
   "metadata": {
    "ExecuteTime": {
     "end_time": "2023-10-07T00:19:43.174202Z",
     "start_time": "2023-10-07T00:19:43.158875Z"
    }
   },
   "outputs": [],
   "source": [
    "# Constants\n",
    "TEST_SPLIT = 0.2\n",
    "\n",
    "VARIABLE_NAMES = [\n",
    "    'CRIM',\n",
    "    'ZN',\n",
    "    'INDUS',\n",
    "    'CHAS',\n",
    "    'NOX',\n",
    "    'RM',\n",
    "    'AGE',\n",
    "    'DIS',\n",
    "    'RAD',\n",
    "    'TAX',\n",
    "    'PTRATIO',\n",
    "    'B',\n",
    "    'LSTAT',\n",
    "    'MEDV',\n",
    "]"
   ]
  },
  {
   "cell_type": "markdown",
   "id": "b284d714-2ed7-48cd-a43f-6e9687c2657f",
   "metadata": {
    "jp-MarkdownHeadingCollapsed": true
   },
   "source": [
    "### Download & Split Data"
   ]
  },
  {
   "cell_type": "code",
   "execution_count": 11,
   "id": "fe067950-ee1f-4bcc-bef1-961d36cf374d",
   "metadata": {
    "ExecuteTime": {
     "end_time": "2023-10-07T00:19:47.414168Z",
     "start_time": "2023-10-07T00:19:47.364164Z"
    }
   },
   "outputs": [
    {
     "data": {
      "text/plain": [
       "(404, 404, 102, 102)"
      ]
     },
     "execution_count": 11,
     "metadata": {},
     "output_type": "execute_result"
    }
   ],
   "source": [
    "(X_train, y_train), (X_test, y_test) = tf.keras.datasets.boston_housing.load_data(\n",
    "    path='boston_housing.npz', test_split=TEST_SPLIT, seed=RANDOM_SEED)\n",
    "\n",
    "len(X_train), len(y_train), len(X_test), len(y_test)"
   ]
  },
  {
   "cell_type": "markdown",
   "id": "7c20177d-9a94-420d-ae20-982c05cd1470",
   "metadata": {
    "jp-MarkdownHeadingCollapsed": true
   },
   "source": [
    "### Analyze Data"
   ]
  },
  {
   "cell_type": "code",
   "execution_count": 12,
   "id": "8b8db436-66f8-43c5-a8e5-67783b2d6dac",
   "metadata": {
    "ExecuteTime": {
     "end_time": "2023-10-07T00:19:50.658962Z",
     "start_time": "2023-10-07T00:19:50.638967Z"
    }
   },
   "outputs": [
    {
     "data": {
      "text/html": [
       "<div>\n",
       "<style scoped>\n",
       "    .dataframe tbody tr th:only-of-type {\n",
       "        vertical-align: middle;\n",
       "    }\n",
       "\n",
       "    .dataframe tbody tr th {\n",
       "        vertical-align: top;\n",
       "    }\n",
       "\n",
       "    .dataframe thead th {\n",
       "        text-align: right;\n",
       "    }\n",
       "</style>\n",
       "<table border=\"1\" class=\"dataframe\">\n",
       "  <thead>\n",
       "    <tr style=\"text-align: right;\">\n",
       "      <th></th>\n",
       "      <th>CRIM</th>\n",
       "      <th>ZN</th>\n",
       "      <th>INDUS</th>\n",
       "      <th>CHAS</th>\n",
       "      <th>NOX</th>\n",
       "      <th>RM</th>\n",
       "      <th>AGE</th>\n",
       "      <th>DIS</th>\n",
       "      <th>RAD</th>\n",
       "      <th>TAX</th>\n",
       "      <th>PTRATIO</th>\n",
       "      <th>B</th>\n",
       "      <th>LSTAT</th>\n",
       "      <th>MEDV</th>\n",
       "    </tr>\n",
       "  </thead>\n",
       "  <tbody>\n",
       "    <tr>\n",
       "      <th>0</th>\n",
       "      <td>37.66190</td>\n",
       "      <td>0.0</td>\n",
       "      <td>18.10</td>\n",
       "      <td>0.0</td>\n",
       "      <td>0.679</td>\n",
       "      <td>6.202</td>\n",
       "      <td>78.7</td>\n",
       "      <td>1.8629</td>\n",
       "      <td>24.0</td>\n",
       "      <td>666.0</td>\n",
       "      <td>20.2</td>\n",
       "      <td>18.82</td>\n",
       "      <td>14.52</td>\n",
       "      <td>10.9</td>\n",
       "    </tr>\n",
       "    <tr>\n",
       "      <th>1</th>\n",
       "      <td>0.54011</td>\n",
       "      <td>20.0</td>\n",
       "      <td>3.97</td>\n",
       "      <td>0.0</td>\n",
       "      <td>0.647</td>\n",
       "      <td>7.203</td>\n",
       "      <td>81.8</td>\n",
       "      <td>2.1121</td>\n",
       "      <td>5.0</td>\n",
       "      <td>264.0</td>\n",
       "      <td>13.0</td>\n",
       "      <td>392.80</td>\n",
       "      <td>9.59</td>\n",
       "      <td>33.8</td>\n",
       "    </tr>\n",
       "    <tr>\n",
       "      <th>2</th>\n",
       "      <td>0.17134</td>\n",
       "      <td>0.0</td>\n",
       "      <td>10.01</td>\n",
       "      <td>0.0</td>\n",
       "      <td>0.547</td>\n",
       "      <td>5.928</td>\n",
       "      <td>88.2</td>\n",
       "      <td>2.4631</td>\n",
       "      <td>6.0</td>\n",
       "      <td>432.0</td>\n",
       "      <td>17.8</td>\n",
       "      <td>344.91</td>\n",
       "      <td>15.76</td>\n",
       "      <td>18.3</td>\n",
       "    </tr>\n",
       "    <tr>\n",
       "      <th>3</th>\n",
       "      <td>38.35180</td>\n",
       "      <td>0.0</td>\n",
       "      <td>18.10</td>\n",
       "      <td>0.0</td>\n",
       "      <td>0.693</td>\n",
       "      <td>5.453</td>\n",
       "      <td>100.0</td>\n",
       "      <td>1.4896</td>\n",
       "      <td>24.0</td>\n",
       "      <td>666.0</td>\n",
       "      <td>20.2</td>\n",
       "      <td>396.90</td>\n",
       "      <td>30.59</td>\n",
       "      <td>5.0</td>\n",
       "    </tr>\n",
       "    <tr>\n",
       "      <th>4</th>\n",
       "      <td>1.19294</td>\n",
       "      <td>0.0</td>\n",
       "      <td>21.89</td>\n",
       "      <td>0.0</td>\n",
       "      <td>0.624</td>\n",
       "      <td>6.326</td>\n",
       "      <td>97.7</td>\n",
       "      <td>2.2710</td>\n",
       "      <td>4.0</td>\n",
       "      <td>437.0</td>\n",
       "      <td>21.2</td>\n",
       "      <td>396.90</td>\n",
       "      <td>12.26</td>\n",
       "      <td>19.6</td>\n",
       "    </tr>\n",
       "  </tbody>\n",
       "</table>\n",
       "</div>"
      ],
      "text/plain": [
       "       CRIM    ZN  INDUS  CHAS    NOX     RM    AGE     DIS   RAD    TAX  \\\n",
       "0  37.66190   0.0  18.10   0.0  0.679  6.202   78.7  1.8629  24.0  666.0   \n",
       "1   0.54011  20.0   3.97   0.0  0.647  7.203   81.8  2.1121   5.0  264.0   \n",
       "2   0.17134   0.0  10.01   0.0  0.547  5.928   88.2  2.4631   6.0  432.0   \n",
       "3  38.35180   0.0  18.10   0.0  0.693  5.453  100.0  1.4896  24.0  666.0   \n",
       "4   1.19294   0.0  21.89   0.0  0.624  6.326   97.7  2.2710   4.0  437.0   \n",
       "\n",
       "   PTRATIO       B  LSTAT  MEDV  \n",
       "0     20.2   18.82  14.52  10.9  \n",
       "1     13.0  392.80   9.59  33.8  \n",
       "2     17.8  344.91  15.76  18.3  \n",
       "3     20.2  396.90  30.59   5.0  \n",
       "4     21.2  396.90  12.26  19.6  "
      ]
     },
     "execution_count": 12,
     "metadata": {},
     "output_type": "execute_result"
    }
   ],
   "source": [
    "train_df = pd.DataFrame(tf.concat([X_train, y_train.reshape((-1,1))], axis=1), columns=VARIABLE_NAMES)\n",
    "test_df = pd.DataFrame(tf.concat([X_test, y_test.reshape((-1,1))], axis=1), columns=VARIABLE_NAMES)\n",
    "train_df.head()"
   ]
  },
  {
   "cell_type": "code",
   "execution_count": 13,
   "id": "8d0efe73-f61a-4fd6-9aae-aa5ac7929ab2",
   "metadata": {
    "ExecuteTime": {
     "end_time": "2023-10-07T00:19:56.121436Z",
     "start_time": "2023-10-07T00:19:56.102210Z"
    }
   },
   "outputs": [
    {
     "data": {
      "text/plain": [
       "((404, 13), (404,))"
      ]
     },
     "execution_count": 13,
     "metadata": {},
     "output_type": "execute_result"
    }
   ],
   "source": [
    "X_train.shape, y_train.shape"
   ]
  },
  {
   "cell_type": "code",
   "execution_count": 14,
   "id": "7a658607-39bb-4b32-a6a6-a33394aa1353",
   "metadata": {
    "ExecuteTime": {
     "end_time": "2023-10-07T00:19:56.593979Z",
     "start_time": "2023-10-07T00:19:56.576246Z"
    }
   },
   "outputs": [
    {
     "data": {
      "text/plain": [
       "(array([ 37.6619,   0.    ,  18.1   ,   0.    ,   0.679 ,   6.202 ,\n",
       "         78.7   ,   1.8629,  24.    , 666.    ,  20.2   ,  18.82  ,\n",
       "         14.52  ]),\n",
       " 10.9)"
      ]
     },
     "execution_count": 14,
     "metadata": {},
     "output_type": "execute_result"
    }
   ],
   "source": [
    "X_train[0], y_train[0]"
   ]
  },
  {
   "cell_type": "code",
   "execution_count": 15,
   "id": "cfcb46f9-85d7-47c4-bce7-d85017c3219e",
   "metadata": {
    "ExecuteTime": {
     "end_time": "2023-10-07T00:19:57.708519Z",
     "start_time": "2023-10-07T00:19:57.699584Z"
    }
   },
   "outputs": [
    {
     "data": {
      "text/plain": [
       "ZN     CHAS\n",
       "0.0    0.0     275\n",
       "       1.0      25\n",
       "80.0   0.0      12\n",
       "20.0   0.0      12\n",
       "12.5   0.0      10\n",
       "22.0   0.0       9\n",
       "25.0   0.0       9\n",
       "30.0   0.0       4\n",
       "45.0   0.0       4\n",
       "40.0   0.0       4\n",
       "60.0   0.0       3\n",
       "95.0   0.0       3\n",
       "90.0   0.0       3\n",
       "21.0   0.0       3\n",
       "40.0   1.0       3\n",
       "75.0   0.0       3\n",
       "70.0   0.0       2\n",
       "85.0   0.0       2\n",
       "82.5   0.0       2\n",
       "28.0   0.0       2\n",
       "33.0   0.0       2\n",
       "55.0   0.0       2\n",
       "20.0   1.0       2\n",
       "35.0   0.0       2\n",
       "34.0   0.0       2\n",
       "18.0   0.0       1\n",
       "52.5   0.0       1\n",
       "90.0   1.0       1\n",
       "100.0  0.0       1\n",
       "Name: count, dtype: int64"
      ]
     },
     "execution_count": 15,
     "metadata": {},
     "output_type": "execute_result"
    }
   ],
   "source": [
    "train_df[['ZN', 'CHAS']].value_counts()"
   ]
  },
  {
   "cell_type": "code",
   "execution_count": 16,
   "id": "781159d5-43d5-4947-856b-2b2e0dc7b55d",
   "metadata": {
    "ExecuteTime": {
     "end_time": "2023-10-07T00:19:58.435567Z",
     "start_time": "2023-10-07T00:19:58.415494Z"
    }
   },
   "outputs": [
    {
     "data": {
      "text/plain": [
       "array([ 37.6619,   0.    ,  18.1   ,   0.    ,   0.679 ,   6.202 ,\n",
       "        78.7   ,   1.8629,  24.    , 666.    ,  20.2   ,  18.82  ,\n",
       "        14.52  ])"
      ]
     },
     "execution_count": 16,
     "metadata": {},
     "output_type": "execute_result"
    }
   ],
   "source": [
    "X_train[0]"
   ]
  },
  {
   "cell_type": "markdown",
   "id": "c31f151c-46eb-4dc3-955d-0a064458f286",
   "metadata": {
    "jp-MarkdownHeadingCollapsed": true
   },
   "source": [
    "### Preprocess Data\n",
    "\n",
    "After analyzing the data, it is apparent I need to do some scaling on non-categorical data."
   ]
  },
  {
   "cell_type": "code",
   "execution_count": 17,
   "id": "22ac820f-ec9c-4fba-844c-ad625d1b62d4",
   "metadata": {
    "ExecuteTime": {
     "end_time": "2023-10-07T00:20:00.446127Z",
     "start_time": "2023-10-07T00:20:00.432070Z"
    }
   },
   "outputs": [
    {
     "data": {
      "text/plain": [
       "(<tf.Tensor: shape=(13,), dtype=float64, numpy=\n",
       " array([1.        , 1.        , 0.43099395, 0.0327365 , 0.64662757,\n",
       "        0.8187234 , 0.63374486, 0.80851064, 1.        , 0.36252156,\n",
       "        0.91412214, 0.        , 0.        ])>,\n",
       " <tf.Tensor: shape=(13,), dtype=float64, numpy=\n",
       " array([0.15962925, 0.96648848, 0.00097044, 0.39666633, 0.2063783 ,\n",
       "        0.19687943, 0.09876543, 0.37234043, 0.26086957, 0.56217666,\n",
       "        0.27099237, 0.34      , 0.        ])>)"
      ]
     },
     "execution_count": 17,
     "metadata": {},
     "output_type": "execute_result"
    }
   ],
   "source": [
    "min_max_scaler = MinMaxScaler()\n",
    "min_max_scaler.fit(train_df[train_df.columns.difference(['CHAS', 'MEDV'])])\n",
    "\n",
    "train_transformed_less_chas = min_max_scaler.transform(train_df[train_df.columns.difference(['CHAS', 'MEDV'])])\n",
    "test_transformed_less_chas = min_max_scaler.transform(test_df[test_df.columns.difference(['CHAS', 'MEDV'])])\n",
    "\n",
    "X_train_scaled = tf.concat([train_transformed_less_chas, X_train[:, 3].reshape((-1, 1))], axis=1)\n",
    "X_test_scaled = tf.concat([test_transformed_less_chas, X_test[:, 3].reshape((-1, 1))], axis=1)\n",
    "\n",
    "X_train_scaled[3], X_test_scaled[3]"
   ]
  },
  {
   "cell_type": "markdown",
   "id": "18c2e6e6-9b08-4d66-ac0e-52aba4344b4c",
   "metadata": {
    "jp-MarkdownHeadingCollapsed": true
   },
   "source": [
    "### Create Datasets"
   ]
  },
  {
   "cell_type": "code",
   "execution_count": 18,
   "id": "9c394985-ff32-4426-a8dc-7e884e11c213",
   "metadata": {
    "ExecuteTime": {
     "end_time": "2023-10-07T00:20:02.644372Z",
     "start_time": "2023-10-07T00:20:02.633260Z"
    }
   },
   "outputs": [
    {
     "data": {
      "text/plain": [
       "(<tf.Tensor: shape=(13,), dtype=float64, numpy=\n",
       " array([1.        , 1.        , 0.43099395, 0.0327365 , 0.64662757,\n",
       "        0.8187234 , 0.63374486, 0.80851064, 1.        , 0.36252156,\n",
       "        0.91412214, 0.        , 0.        ])>,\n",
       " 5.0)"
      ]
     },
     "execution_count": 18,
     "metadata": {},
     "output_type": "execute_result"
    }
   ],
   "source": [
    "X_train_scaled[3], y_train[3]"
   ]
  },
  {
   "cell_type": "code",
   "execution_count": 19,
   "id": "c2d02d2e-a61a-48c4-853f-49b1760954d6",
   "metadata": {
    "ExecuteTime": {
     "end_time": "2023-10-07T00:20:03.072437Z",
     "start_time": "2023-10-07T00:20:03.057023Z"
    }
   },
   "outputs": [
    {
     "data": {
      "text/plain": [
       "(<_PrefetchDataset element_spec=((TensorSpec(shape=(None, 13), dtype=tf.float64, name=None),), TensorSpec(shape=(None,), dtype=tf.float64, name=None))>,\n",
       " <_PrefetchDataset element_spec=((TensorSpec(shape=(None, 13), dtype=tf.float64, name=None),), TensorSpec(shape=(None,), dtype=tf.float64, name=None))>)"
      ]
     },
     "execution_count": 19,
     "metadata": {},
     "output_type": "execute_result"
    }
   ],
   "source": [
    "train_dataset = data_toolbox.generate_dataset_from_data([X_train_scaled], y_train)\n",
    "test_dataset = data_toolbox.generate_dataset_from_data([X_test_scaled], y_test)\n",
    "\n",
    "train_dataset, test_dataset"
   ]
  },
  {
   "cell_type": "markdown",
   "id": "244d6f9d-baaa-4f79-88b8-45fef1428646",
   "metadata": {
    "jp-MarkdownHeadingCollapsed": true
   },
   "source": [
    "## Experiments\n",
    "\n",
    "* Experiment-0: Simple Feed Forward\n",
    "* Experiment-1: Simple Feed Forward w/ Non-linear Activation\n",
    "* Experiment-2: Deep NN w/ Non-linear Activation\n",
    "* Experiment-3: Skip Connection Model w/ Non-linear Activation\n",
    "* Experiment-4: Deep NN w/ Pruning and Non-linear Activation\n",
    "* Experiment-5: Learning Rate Analysis of Pruned DNN\n",
    "* Experiment-6: Pruned Deep Neural Network, Optimized Learning Rate, w/ Non-Linear Activation"
   ]
  },
  {
   "cell_type": "markdown",
   "id": "1d2a1dfa-a484-4b11-acf9-2ebac6df629f",
   "metadata": {
    "jp-MarkdownHeadingCollapsed": true
   },
   "source": [
    "### Constants"
   ]
  },
  {
   "cell_type": "code",
   "execution_count": 20,
   "id": "2f121cd8-79d2-4f8b-a7af-4ac3b7e06d73",
   "metadata": {
    "ExecuteTime": {
     "end_time": "2023-10-07T00:20:04.132028Z",
     "start_time": "2023-10-07T00:20:04.109649Z"
    }
   },
   "outputs": [],
   "source": [
    "INPUT_SIZE = 13\n",
    "OUTPUT_SIZE = 1"
   ]
  },
  {
   "cell_type": "markdown",
   "id": "79890501-b462-4503-b819-c22230caa905",
   "metadata": {
    "jp-MarkdownHeadingCollapsed": true
   },
   "source": [
    "### Experiment-0: Simple Feed Forward"
   ]
  },
  {
   "cell_type": "code",
   "execution_count": 21,
   "id": "efa615a0-b788-4217-9673-e9c5e3649c3d",
   "metadata": {
    "ExecuteTime": {
     "end_time": "2023-10-07T00:20:04.697997Z",
     "start_time": "2023-10-07T00:20:04.684284Z"
    }
   },
   "outputs": [],
   "source": [
    "# Constants\n",
    "model_0_name = 'model_0_simple'"
   ]
  },
  {
   "cell_type": "code",
   "execution_count": 22,
   "id": "a84f1d62-bb12-43d6-8d27-fed3b3188537",
   "metadata": {
    "ExecuteTime": {
     "end_time": "2023-10-07T00:20:06.922791Z",
     "start_time": "2023-10-07T00:20:05.080354Z"
    }
   },
   "outputs": [
    {
     "name": "stdout",
     "output_type": "stream",
     "text": [
      "Epoch 1/100\n",
      "13/13 [==============================] - 0s 6ms/step - loss: 21.4141 - mae: 21.4141 - mse: 547.6685 - val_loss: 21.8608 - val_mae: 21.8608 - val_mse: 555.9282\n",
      "Epoch 2/100\n",
      "13/13 [==============================] - 0s 958us/step - loss: 20.9086 - mae: 20.9086 - mse: 527.3206 - val_loss: 21.3710 - val_mae: 21.3710 - val_mse: 535.5512\n",
      "Epoch 3/100\n",
      "13/13 [==============================] - 0s 1ms/step - loss: 20.3851 - mae: 20.3851 - mse: 506.8058 - val_loss: 20.8613 - val_mae: 20.8613 - val_mse: 514.8706\n",
      "Epoch 4/100\n",
      "13/13 [==============================] - 0s 1ms/step - loss: 19.8383 - mae: 19.8383 - mse: 485.9821 - val_loss: 20.3266 - val_mae: 20.3266 - val_mse: 493.7574\n",
      "Epoch 5/100\n",
      "13/13 [==============================] - 0s 1ms/step - loss: 19.2628 - mae: 19.2628 - mse: 464.7411 - val_loss: 19.7621 - val_mae: 19.7621 - val_mse: 472.1071\n",
      "Epoch 6/100\n",
      "13/13 [==============================] - 0s 1ms/step - loss: 18.6562 - mae: 18.6562 - mse: 443.0093 - val_loss: 19.1649 - val_mae: 19.1649 - val_mse: 449.9146\n",
      "Epoch 7/100\n",
      "13/13 [==============================] - 0s 986us/step - loss: 18.0264 - mae: 18.0264 - mse: 420.8899 - val_loss: 18.5326 - val_mae: 18.5326 - val_mse: 427.2067\n",
      "Epoch 8/100\n",
      "13/13 [==============================] - 0s 954us/step - loss: 17.3580 - mae: 17.3580 - mse: 398.2787 - val_loss: 17.8572 - val_mae: 17.8572 - val_mse: 403.8569\n",
      "Epoch 9/100\n",
      "13/13 [==============================] - 0s 903us/step - loss: 16.6596 - mae: 16.6596 - mse: 375.2866 - val_loss: 17.1431 - val_mae: 17.1431 - val_mse: 380.1708\n",
      "Epoch 10/100\n",
      "13/13 [==============================] - 0s 973us/step - loss: 15.9508 - mae: 15.9508 - mse: 352.0858 - val_loss: 16.4072 - val_mae: 16.4072 - val_mse: 356.1950\n",
      "Epoch 11/100\n",
      "13/13 [==============================] - 0s 1ms/step - loss: 15.2257 - mae: 15.2257 - mse: 328.9221 - val_loss: 15.6880 - val_mae: 15.6880 - val_mse: 332.1956\n",
      "Epoch 12/100\n",
      "13/13 [==============================] - 0s 927us/step - loss: 14.4992 - mae: 14.4992 - mse: 306.0772 - val_loss: 14.9437 - val_mae: 14.9437 - val_mse: 308.5856\n",
      "Epoch 13/100\n",
      "13/13 [==============================] - 0s 984us/step - loss: 13.7815 - mae: 13.7815 - mse: 283.9289 - val_loss: 14.1852 - val_mae: 14.1852 - val_mse: 285.6656\n",
      "Epoch 14/100\n",
      "13/13 [==============================] - 0s 912us/step - loss: 13.1025 - mae: 13.1025 - mse: 262.7950 - val_loss: 13.4670 - val_mae: 13.4670 - val_mse: 263.7218\n",
      "Epoch 15/100\n",
      "13/13 [==============================] - 0s 935us/step - loss: 12.4621 - mae: 12.4621 - mse: 243.0564 - val_loss: 12.7923 - val_mae: 12.7923 - val_mse: 243.1870\n",
      "Epoch 16/100\n",
      "13/13 [==============================] - 0s 968us/step - loss: 11.8777 - mae: 11.8777 - mse: 224.9529 - val_loss: 12.1465 - val_mae: 12.1465 - val_mse: 224.3789\n",
      "Epoch 17/100\n",
      "13/13 [==============================] - 0s 944us/step - loss: 11.3679 - mae: 11.3679 - mse: 208.8099 - val_loss: 11.5911 - val_mae: 11.5911 - val_mse: 207.5168\n",
      "Epoch 18/100\n",
      "13/13 [==============================] - 0s 897us/step - loss: 10.9137 - mae: 10.9137 - mse: 194.5768 - val_loss: 11.0818 - val_mae: 11.0818 - val_mse: 192.3509\n",
      "Epoch 19/100\n",
      "13/13 [==============================] - 0s 948us/step - loss: 10.5133 - mae: 10.5133 - mse: 182.0067 - val_loss: 10.5956 - val_mae: 10.5956 - val_mse: 178.7519\n",
      "Epoch 20/100\n",
      "13/13 [==============================] - 0s 2ms/step - loss: 10.1410 - mae: 10.1410 - mse: 170.9975 - val_loss: 10.1632 - val_mae: 10.1632 - val_mse: 166.7350\n",
      "Epoch 21/100\n",
      "13/13 [==============================] - 0s 901us/step - loss: 9.8295 - mae: 9.8295 - mse: 161.4560 - val_loss: 9.7946 - val_mae: 9.7946 - val_mse: 156.3963\n",
      "Epoch 22/100\n",
      "13/13 [==============================] - 0s 883us/step - loss: 9.5749 - mae: 9.5749 - mse: 153.5430 - val_loss: 9.4637 - val_mae: 9.4637 - val_mse: 147.7359\n",
      "Epoch 23/100\n",
      "13/13 [==============================] - 0s 863us/step - loss: 9.3479 - mae: 9.3479 - mse: 146.8106 - val_loss: 9.1561 - val_mae: 9.1561 - val_mse: 140.0721\n",
      "Epoch 24/100\n",
      "13/13 [==============================] - 0s 817us/step - loss: 9.1308 - mae: 9.1308 - mse: 140.7678 - val_loss: 8.8540 - val_mae: 8.8540 - val_mse: 133.0135\n",
      "Epoch 25/100\n",
      "13/13 [==============================] - 0s 842us/step - loss: 8.9250 - mae: 8.9250 - mse: 135.3026 - val_loss: 8.5974 - val_mae: 8.5974 - val_mse: 126.8170\n",
      "Epoch 26/100\n",
      "13/13 [==============================] - 0s 869us/step - loss: 8.7382 - mae: 8.7382 - mse: 130.4975 - val_loss: 8.3590 - val_mae: 8.3590 - val_mse: 121.3303\n",
      "Epoch 27/100\n",
      "13/13 [==============================] - 0s 882us/step - loss: 8.5648 - mae: 8.5648 - mse: 126.1239 - val_loss: 8.1396 - val_mae: 8.1396 - val_mse: 116.4148\n",
      "Epoch 28/100\n",
      "13/13 [==============================] - 0s 938us/step - loss: 8.4020 - mae: 8.4020 - mse: 122.1697 - val_loss: 7.9450 - val_mae: 7.9450 - val_mse: 112.0259\n",
      "Epoch 29/100\n",
      "13/13 [==============================] - 0s 936us/step - loss: 8.2454 - mae: 8.2454 - mse: 118.5107 - val_loss: 7.7781 - val_mae: 7.7781 - val_mse: 108.0885\n",
      "Epoch 30/100\n",
      "13/13 [==============================] - 0s 884us/step - loss: 8.0944 - mae: 8.0944 - mse: 115.1344 - val_loss: 7.6322 - val_mae: 7.6322 - val_mse: 104.5950\n",
      "Epoch 31/100\n",
      "13/13 [==============================] - 0s 832us/step - loss: 7.9484 - mae: 7.9484 - mse: 111.9602 - val_loss: 7.4935 - val_mae: 7.4935 - val_mse: 101.3833\n",
      "Epoch 32/100\n",
      "13/13 [==============================] - 0s 966us/step - loss: 7.8070 - mae: 7.8070 - mse: 108.9565 - val_loss: 7.3651 - val_mae: 7.3651 - val_mse: 98.4522\n",
      "Epoch 33/100\n",
      "13/13 [==============================] - 0s 926us/step - loss: 7.6738 - mae: 7.6738 - mse: 106.1305 - val_loss: 7.2452 - val_mae: 7.2452 - val_mse: 95.7767\n",
      "Epoch 34/100\n",
      "13/13 [==============================] - 0s 844us/step - loss: 7.5441 - mae: 7.5441 - mse: 103.4158 - val_loss: 7.1231 - val_mae: 7.1231 - val_mse: 93.0868\n",
      "Epoch 35/100\n",
      "13/13 [==============================] - 0s 903us/step - loss: 7.4137 - mae: 7.4137 - mse: 100.7214 - val_loss: 7.0000 - val_mae: 7.0000 - val_mse: 90.3747\n",
      "Epoch 36/100\n",
      "13/13 [==============================] - 0s 938us/step - loss: 7.2842 - mae: 7.2842 - mse: 98.0844 - val_loss: 6.8797 - val_mae: 6.8797 - val_mse: 87.8223\n",
      "Epoch 37/100\n",
      "13/13 [==============================] - 0s 894us/step - loss: 7.1589 - mae: 7.1589 - mse: 95.5518 - val_loss: 6.7612 - val_mae: 6.7612 - val_mse: 85.3744\n",
      "Epoch 38/100\n",
      "13/13 [==============================] - 0s 972us/step - loss: 7.0345 - mae: 7.0345 - mse: 93.0884 - val_loss: 6.6430 - val_mae: 6.6430 - val_mse: 82.9787\n",
      "Epoch 39/100\n",
      "13/13 [==============================] - 0s 911us/step - loss: 6.9130 - mae: 6.9130 - mse: 90.6913 - val_loss: 6.5257 - val_mae: 6.5257 - val_mse: 80.6044\n",
      "Epoch 40/100\n",
      "13/13 [==============================] - 0s 903us/step - loss: 6.7969 - mae: 6.7969 - mse: 88.3288 - val_loss: 6.4107 - val_mae: 6.4107 - val_mse: 78.2747\n",
      "Epoch 41/100\n",
      "13/13 [==============================] - 0s 906us/step - loss: 6.6919 - mae: 6.6919 - mse: 86.1412 - val_loss: 6.3042 - val_mae: 6.3042 - val_mse: 76.2501\n",
      "Epoch 42/100\n",
      "13/13 [==============================] - 0s 887us/step - loss: 6.5924 - mae: 6.5924 - mse: 84.1873 - val_loss: 6.2073 - val_mae: 6.2073 - val_mse: 74.4904\n",
      "Epoch 43/100\n",
      "13/13 [==============================] - 0s 921us/step - loss: 6.4939 - mae: 6.4939 - mse: 82.3604 - val_loss: 6.1134 - val_mae: 6.1134 - val_mse: 72.8470\n",
      "Epoch 44/100\n",
      "13/13 [==============================] - 0s 907us/step - loss: 6.3940 - mae: 6.3940 - mse: 80.6126 - val_loss: 6.0205 - val_mae: 6.0205 - val_mse: 71.2505\n",
      "Epoch 45/100\n",
      "13/13 [==============================] - 0s 898us/step - loss: 6.2958 - mae: 6.2958 - mse: 78.9358 - val_loss: 5.9331 - val_mae: 5.9331 - val_mse: 69.7484\n",
      "Epoch 46/100\n",
      "13/13 [==============================] - 0s 932us/step - loss: 6.2025 - mae: 6.2025 - mse: 77.3647 - val_loss: 5.8507 - val_mae: 5.8507 - val_mse: 68.3555\n",
      "Epoch 47/100\n",
      "13/13 [==============================] - 0s 927us/step - loss: 6.1138 - mae: 6.1138 - mse: 75.8920 - val_loss: 5.7677 - val_mae: 5.7677 - val_mse: 66.9982\n",
      "Epoch 48/100\n",
      "13/13 [==============================] - 0s 879us/step - loss: 6.0252 - mae: 6.0252 - mse: 74.4652 - val_loss: 5.6872 - val_mae: 5.6872 - val_mse: 65.6440\n",
      "Epoch 49/100\n",
      "13/13 [==============================] - 0s 886us/step - loss: 5.9371 - mae: 5.9371 - mse: 73.0697 - val_loss: 5.6076 - val_mae: 5.6076 - val_mse: 64.3222\n",
      "Epoch 50/100\n",
      "13/13 [==============================] - 0s 850us/step - loss: 5.8529 - mae: 5.8529 - mse: 71.7474 - val_loss: 5.5298 - val_mae: 5.5298 - val_mse: 63.0300\n",
      "Epoch 51/100\n",
      "13/13 [==============================] - 0s 887us/step - loss: 5.7718 - mae: 5.7718 - mse: 70.3618 - val_loss: 5.4481 - val_mae: 5.4481 - val_mse: 61.5271\n",
      "Epoch 52/100\n",
      "13/13 [==============================] - 0s 861us/step - loss: 5.7002 - mae: 5.7002 - mse: 68.9388 - val_loss: 5.3731 - val_mae: 5.3731 - val_mse: 60.1480\n",
      "Epoch 53/100\n",
      "13/13 [==============================] - 0s 914us/step - loss: 5.6394 - mae: 5.6394 - mse: 67.7306 - val_loss: 5.3052 - val_mae: 5.3052 - val_mse: 59.0350\n",
      "Epoch 54/100\n",
      "13/13 [==============================] - 0s 2ms/step - loss: 5.5835 - mae: 5.5835 - mse: 66.6848 - val_loss: 5.2413 - val_mae: 5.2413 - val_mse: 57.9943\n",
      "Epoch 55/100\n",
      "13/13 [==============================] - 0s 914us/step - loss: 5.5305 - mae: 5.5305 - mse: 65.7185 - val_loss: 5.1845 - val_mae: 5.1845 - val_mse: 57.0973\n",
      "Epoch 56/100\n",
      "13/13 [==============================] - 0s 909us/step - loss: 5.4785 - mae: 5.4785 - mse: 64.8683 - val_loss: 5.1277 - val_mae: 5.1277 - val_mse: 56.2906\n",
      "Epoch 57/100\n",
      "13/13 [==============================] - 0s 811us/step - loss: 5.4281 - mae: 5.4281 - mse: 64.0687 - val_loss: 5.0751 - val_mae: 5.0751 - val_mse: 55.4686\n",
      "Epoch 58/100\n",
      "13/13 [==============================] - 0s 747us/step - loss: 5.3842 - mae: 5.3842 - mse: 63.2687 - val_loss: 5.0256 - val_mae: 5.0256 - val_mse: 54.6537\n",
      "Epoch 59/100\n",
      "13/13 [==============================] - 0s 794us/step - loss: 5.3462 - mae: 5.3462 - mse: 62.4890 - val_loss: 4.9842 - val_mae: 4.9842 - val_mse: 53.8532\n",
      "Epoch 60/100\n",
      "13/13 [==============================] - 0s 798us/step - loss: 5.3114 - mae: 5.3114 - mse: 61.7586 - val_loss: 4.9465 - val_mae: 4.9465 - val_mse: 53.1433\n",
      "Epoch 61/100\n",
      "13/13 [==============================] - 0s 871us/step - loss: 5.2787 - mae: 5.2787 - mse: 61.1184 - val_loss: 4.9110 - val_mae: 4.9110 - val_mse: 52.5377\n",
      "Epoch 62/100\n",
      "13/13 [==============================] - 0s 887us/step - loss: 5.2470 - mae: 5.2470 - mse: 60.5527 - val_loss: 4.8789 - val_mae: 4.8789 - val_mse: 52.0148\n",
      "Epoch 63/100\n",
      "13/13 [==============================] - 0s 817us/step - loss: 5.2169 - mae: 5.2169 - mse: 60.0823 - val_loss: 4.8503 - val_mae: 4.8503 - val_mse: 51.5883\n",
      "Epoch 64/100\n",
      "13/13 [==============================] - 0s 856us/step - loss: 5.1910 - mae: 5.1910 - mse: 59.6817 - val_loss: 4.8254 - val_mae: 4.8254 - val_mse: 51.2276\n",
      "Epoch 65/100\n",
      "13/13 [==============================] - 0s 798us/step - loss: 5.1662 - mae: 5.1662 - mse: 59.3407 - val_loss: 4.8020 - val_mae: 4.8020 - val_mse: 50.8829\n",
      "Epoch 66/100\n",
      "13/13 [==============================] - 0s 891us/step - loss: 5.1420 - mae: 5.1420 - mse: 59.0028 - val_loss: 4.7809 - val_mae: 4.7809 - val_mse: 50.5571\n",
      "Epoch 67/100\n",
      "13/13 [==============================] - 0s 805us/step - loss: 5.1186 - mae: 5.1186 - mse: 58.6929 - val_loss: 4.7605 - val_mae: 4.7605 - val_mse: 50.2153\n",
      "Epoch 68/100\n",
      "13/13 [==============================] - 0s 858us/step - loss: 5.0968 - mae: 5.0968 - mse: 58.2921 - val_loss: 4.7388 - val_mae: 4.7388 - val_mse: 49.7323\n",
      "Epoch 69/100\n",
      "13/13 [==============================] - 0s 842us/step - loss: 5.0760 - mae: 5.0760 - mse: 57.8116 - val_loss: 4.7177 - val_mae: 4.7177 - val_mse: 49.2493\n",
      "Epoch 70/100\n",
      "13/13 [==============================] - 0s 859us/step - loss: 5.0552 - mae: 5.0552 - mse: 57.3542 - val_loss: 4.6968 - val_mae: 4.6968 - val_mse: 48.8065\n",
      "Epoch 71/100\n",
      "13/13 [==============================] - 0s 869us/step - loss: 5.0348 - mae: 5.0348 - mse: 56.9528 - val_loss: 4.6787 - val_mae: 4.6787 - val_mse: 48.4376\n",
      "Epoch 72/100\n",
      "13/13 [==============================] - 0s 807us/step - loss: 5.0144 - mae: 5.0144 - mse: 56.5852 - val_loss: 4.6608 - val_mae: 4.6608 - val_mse: 48.0615\n",
      "Epoch 73/100\n",
      "13/13 [==============================] - 0s 824us/step - loss: 4.9957 - mae: 4.9957 - mse: 56.2507 - val_loss: 4.6435 - val_mae: 4.6435 - val_mse: 47.7658\n",
      "Epoch 74/100\n",
      "13/13 [==============================] - 0s 876us/step - loss: 4.9780 - mae: 4.9780 - mse: 55.9714 - val_loss: 4.6263 - val_mae: 4.6263 - val_mse: 47.4819\n",
      "Epoch 75/100\n",
      "13/13 [==============================] - 0s 837us/step - loss: 4.9611 - mae: 4.9611 - mse: 55.7101 - val_loss: 4.6095 - val_mae: 4.6095 - val_mse: 47.2101\n",
      "Epoch 76/100\n",
      "13/13 [==============================] - 0s 790us/step - loss: 4.9450 - mae: 4.9450 - mse: 55.4396 - val_loss: 4.5931 - val_mae: 4.5931 - val_mse: 46.9474\n",
      "Epoch 77/100\n",
      "13/13 [==============================] - 0s 864us/step - loss: 4.9292 - mae: 4.9292 - mse: 55.1993 - val_loss: 4.5771 - val_mae: 4.5771 - val_mse: 46.7278\n",
      "Epoch 78/100\n",
      "13/13 [==============================] - 0s 803us/step - loss: 4.9134 - mae: 4.9134 - mse: 54.9800 - val_loss: 4.5611 - val_mae: 4.5611 - val_mse: 46.5010\n",
      "Epoch 79/100\n",
      "13/13 [==============================] - 0s 824us/step - loss: 4.8980 - mae: 4.8980 - mse: 54.7643 - val_loss: 4.5454 - val_mae: 4.5454 - val_mse: 46.2789\n",
      "Epoch 80/100\n",
      "13/13 [==============================] - 0s 797us/step - loss: 4.8828 - mae: 4.8828 - mse: 54.5451 - val_loss: 4.5306 - val_mae: 4.5306 - val_mse: 46.0682\n",
      "Epoch 81/100\n",
      "13/13 [==============================] - 0s 824us/step - loss: 4.8676 - mae: 4.8676 - mse: 54.3499 - val_loss: 4.5187 - val_mae: 4.5187 - val_mse: 45.8515\n",
      "Epoch 82/100\n",
      "13/13 [==============================] - 0s 834us/step - loss: 4.8530 - mae: 4.8530 - mse: 54.1109 - val_loss: 4.5063 - val_mae: 4.5063 - val_mse: 45.5695\n",
      "Epoch 83/100\n",
      "13/13 [==============================] - 0s 827us/step - loss: 4.8385 - mae: 4.8385 - mse: 53.8306 - val_loss: 4.4943 - val_mae: 4.4943 - val_mse: 45.2820\n",
      "Epoch 84/100\n",
      "13/13 [==============================] - 0s 860us/step - loss: 4.8241 - mae: 4.8241 - mse: 53.5732 - val_loss: 4.4823 - val_mae: 4.4823 - val_mse: 45.0164\n",
      "Epoch 85/100\n",
      "13/13 [==============================] - 0s 866us/step - loss: 4.8106 - mae: 4.8106 - mse: 53.2833 - val_loss: 4.4686 - val_mae: 4.4686 - val_mse: 44.7164\n",
      "Epoch 86/100\n",
      "13/13 [==============================] - 0s 743us/step - loss: 4.7972 - mae: 4.7972 - mse: 52.9964 - val_loss: 4.4561 - val_mae: 4.4561 - val_mse: 44.4502\n",
      "Epoch 87/100\n",
      "13/13 [==============================] - 0s 855us/step - loss: 4.7842 - mae: 4.7842 - mse: 52.7199 - val_loss: 4.4440 - val_mae: 4.4440 - val_mse: 44.2058\n",
      "Epoch 88/100\n",
      "13/13 [==============================] - 0s 775us/step - loss: 4.7707 - mae: 4.7707 - mse: 52.4695 - val_loss: 4.4314 - val_mae: 4.4314 - val_mse: 43.8968\n",
      "Epoch 89/100\n",
      "13/13 [==============================] - 0s 815us/step - loss: 4.7579 - mae: 4.7579 - mse: 52.1533 - val_loss: 4.4194 - val_mae: 4.4194 - val_mse: 43.6540\n",
      "Epoch 90/100\n",
      "13/13 [==============================] - 0s 780us/step - loss: 4.7444 - mae: 4.7444 - mse: 51.9522 - val_loss: 4.4076 - val_mae: 4.4076 - val_mse: 43.4615\n",
      "Epoch 91/100\n",
      "13/13 [==============================] - 0s 817us/step - loss: 4.7309 - mae: 4.7309 - mse: 51.7313 - val_loss: 4.3949 - val_mae: 4.3949 - val_mse: 43.1835\n",
      "Epoch 92/100\n",
      "13/13 [==============================] - 0s 863us/step - loss: 4.7175 - mae: 4.7175 - mse: 51.4275 - val_loss: 4.3820 - val_mae: 4.3820 - val_mse: 42.8839\n",
      "Epoch 93/100\n",
      "13/13 [==============================] - 0s 810us/step - loss: 4.7041 - mae: 4.7041 - mse: 51.1405 - val_loss: 4.3692 - val_mae: 4.3692 - val_mse: 42.6322\n",
      "Epoch 94/100\n",
      "13/13 [==============================] - 0s 826us/step - loss: 4.6902 - mae: 4.6902 - mse: 50.8800 - val_loss: 4.3559 - val_mae: 4.3559 - val_mse: 42.3310\n",
      "Epoch 95/100\n",
      "13/13 [==============================] - 0s 780us/step - loss: 4.6770 - mae: 4.6770 - mse: 50.5783 - val_loss: 4.3446 - val_mae: 4.3446 - val_mse: 42.0842\n",
      "Epoch 96/100\n",
      "13/13 [==============================] - 0s 809us/step - loss: 4.6633 - mae: 4.6633 - mse: 50.3405 - val_loss: 4.3333 - val_mae: 4.3333 - val_mse: 41.8399\n",
      "Epoch 97/100\n",
      "13/13 [==============================] - 0s 892us/step - loss: 4.6498 - mae: 4.6498 - mse: 50.0821 - val_loss: 4.3219 - val_mae: 4.3219 - val_mse: 41.5777\n",
      "Epoch 98/100\n",
      "13/13 [==============================] - 0s 2ms/step - loss: 4.6361 - mae: 4.6361 - mse: 49.8128 - val_loss: 4.3103 - val_mae: 4.3103 - val_mse: 41.3098\n",
      "Epoch 99/100\n",
      "13/13 [==============================] - 0s 850us/step - loss: 4.6227 - mae: 4.6227 - mse: 49.5126 - val_loss: 4.2978 - val_mae: 4.2978 - val_mse: 41.0033\n",
      "Epoch 100/100\n",
      "13/13 [==============================] - 0s 845us/step - loss: 4.6092 - mae: 4.6092 - mse: 49.2265 - val_loss: 4.2856 - val_mae: 4.2856 - val_mse: 40.7471\n"
     ]
    }
   ],
   "source": [
    "tf.keras.utils.set_random_seed(RANDOM_SEED)\n",
    "\n",
    "model_0 = tf.keras.models.Sequential([\n",
    "    tf.keras.layers.Input(shape=(INPUT_SIZE,)),\n",
    "    tf.keras.layers.Dense(16),\n",
    "    tf.keras.layers.Dense(OUTPUT_SIZE),\n",
    "], name=model_0_name)\n",
    "\n",
    "model_0.compile(loss='mae',\n",
    "                optimizer=tf.keras.optimizers.legacy.Adam(),\n",
    "                metrics=['mae', 'mse'])\n",
    "\n",
    "model_0_history = model_0.fit(train_dataset,\n",
    "                              validation_data=test_dataset,\n",
    "                              epochs=100)"
   ]
  },
  {
   "cell_type": "code",
   "execution_count": 23,
   "id": "2804f835-7da9-4b98-a839-817593a4f9ec",
   "metadata": {
    "ExecuteTime": {
     "end_time": "2023-10-07T00:20:07.081769Z",
     "start_time": "2023-10-07T00:20:06.916715Z"
    }
   },
   "outputs": [
    {
     "data": {
      "image/png": "[encoded data removed]",
      "text/plain": [
       "<Figure size 640x480 with 1 Axes>"
      ]
     },
     "metadata": {},
     "output_type": "display_data"
    }
   ],
   "source": [
    "ml_toolbox.analysis.history.plot_history(model_0_history, 'mae')"
   ]
  },
  {
   "cell_type": "code",
   "execution_count": 24,
   "id": "d2f8a408-5bfb-4961-b8e6-a821c6d76366",
   "metadata": {
    "ExecuteTime": {
     "end_time": "2023-10-07T00:20:09.274233Z",
     "start_time": "2023-10-07T00:20:09.223681Z"
    }
   },
   "outputs": [
    {
     "name": "stdout",
     "output_type": "stream",
     "text": [
      "4/4 [==============================] - 0s 912us/step\n"
     ]
    },
    {
     "data": {
      "text/plain": [
       "RegressionPredictionMetrics(mae=4.2856345, mse=40.74713, rmse=6.383348, mape=17.530329, mase=0.44711193, huber=3.8165414, name='model_0_simple')"
      ]
     },
     "execution_count": 24,
     "metadata": {},
     "output_type": "execute_result"
    }
   ],
   "source": [
    "model_0_preds = model_0.predict(test_dataset)\n",
    "\n",
    "model_0_results = ml_toolbox.analysis.regression.generate_prediction_metrics(y_test, tf.squeeze(model_0_preds), model_0_name)\n",
    "model_0_results"
   ]
  },
  {
   "cell_type": "markdown",
   "id": "82f104c8-3680-430d-bf95-62f4c79fcd08",
   "metadata": {
    "jp-MarkdownHeadingCollapsed": true
   },
   "source": [
    "### Experiment-1: Simple Feed Foward w/ Non-Linear Activation"
   ]
  },
  {
   "cell_type": "code",
   "execution_count": 25,
   "id": "174c5051-b5de-4818-a565-d9a4645da4f3",
   "metadata": {
    "ExecuteTime": {
     "end_time": "2023-10-07T00:20:12.274534Z",
     "start_time": "2023-10-07T00:20:12.261437Z"
    }
   },
   "outputs": [],
   "source": [
    "# Constants\n",
    "model_1_name = 'model_1_single_hidden_relu'"
   ]
  },
  {
   "cell_type": "code",
   "execution_count": 26,
   "id": "daaa638b-3900-42c8-bbe6-8beb728e1a65",
   "metadata": {
    "ExecuteTime": {
     "end_time": "2023-10-07T00:20:14.411481Z",
     "start_time": "2023-10-07T00:20:12.825377Z"
    }
   },
   "outputs": [
    {
     "name": "stdout",
     "output_type": "stream",
     "text": [
      "Epoch 1/100\n",
      "13/13 [==============================] - 0s 5ms/step - loss: 21.7461 - mae: 21.7461 - mse: 561.0698 - val_loss: 22.2502 - val_mae: 22.2502 - val_mse: 572.4849\n",
      "Epoch 2/100\n",
      "13/13 [==============================] - 0s 876us/step - loss: 21.4058 - mae: 21.4058 - mse: 547.1974 - val_loss: 21.9366 - val_mae: 21.9366 - val_mse: 559.2617\n",
      "Epoch 3/100\n",
      "13/13 [==============================] - 0s 1ms/step - loss: 21.0775 - mae: 21.0775 - mse: 534.0664 - val_loss: 21.6281 - val_mae: 21.6281 - val_mse: 546.4988\n",
      "Epoch 4/100\n",
      "13/13 [==============================] - 0s 1ms/step - loss: 20.7529 - mae: 20.7529 - mse: 521.3111 - val_loss: 21.3209 - val_mae: 21.3209 - val_mse: 533.9938\n",
      "Epoch 5/100\n",
      "13/13 [==============================] - 0s 977us/step - loss: 20.4264 - mae: 20.4264 - mse: 508.6900 - val_loss: 21.0106 - val_mae: 21.0106 - val_mse: 521.5121\n",
      "Epoch 6/100\n",
      "13/13 [==============================] - 0s 948us/step - loss: 20.0939 - mae: 20.0939 - mse: 496.0349 - val_loss: 20.6921 - val_mae: 20.6921 - val_mse: 508.8517\n",
      "Epoch 7/100\n",
      "13/13 [==============================] - 0s 961us/step - loss: 19.7524 - mae: 19.7524 - mse: 483.2384 - val_loss: 20.3622 - val_mae: 20.3622 - val_mse: 495.9178\n",
      "Epoch 8/100\n",
      "13/13 [==============================] - 0s 1ms/step - loss: 19.3984 - mae: 19.3984 - mse: 470.1832 - val_loss: 20.0169 - val_mae: 20.0169 - val_mse: 482.5812\n",
      "Epoch 9/100\n",
      "13/13 [==============================] - 0s 901us/step - loss: 19.0267 - mae: 19.0267 - mse: 456.7160 - val_loss: 19.6526 - val_mae: 19.6526 - val_mse: 468.7766\n",
      "Epoch 10/100\n",
      "13/13 [==============================] - 0s 891us/step - loss: 18.6389 - mae: 18.6389 - mse: 442.8488 - val_loss: 19.2688 - val_mae: 19.2688 - val_mse: 454.5234\n",
      "Epoch 11/100\n",
      "13/13 [==============================] - 0s 898us/step - loss: 18.2335 - mae: 18.2335 - mse: 428.5534 - val_loss: 18.8630 - val_mae: 18.8630 - val_mse: 439.7982\n",
      "Epoch 12/100\n",
      "13/13 [==============================] - 0s 927us/step - loss: 17.8061 - mae: 17.8061 - mse: 413.8472 - val_loss: 18.4348 - val_mae: 18.4348 - val_mse: 424.6285\n",
      "Epoch 13/100\n",
      "13/13 [==============================] - 0s 896us/step - loss: 17.3562 - mae: 17.3562 - mse: 398.7530 - val_loss: 17.9834 - val_mae: 17.9834 - val_mse: 409.0532\n",
      "Epoch 14/100\n",
      "13/13 [==============================] - 0s 948us/step - loss: 16.8894 - mae: 16.8894 - mse: 383.4010 - val_loss: 17.5130 - val_mae: 17.5130 - val_mse: 393.2556\n",
      "Epoch 15/100\n",
      "13/13 [==============================] - 0s 990us/step - loss: 16.4175 - mae: 16.4175 - mse: 367.9320 - val_loss: 17.0256 - val_mae: 17.0256 - val_mse: 377.3594\n",
      "Epoch 16/100\n",
      "13/13 [==============================] - 0s 894us/step - loss: 15.9428 - mae: 15.9428 - mse: 352.4696 - val_loss: 16.5279 - val_mae: 16.5279 - val_mse: 361.4119\n",
      "Epoch 17/100\n",
      "13/13 [==============================] - 0s 952us/step - loss: 15.4629 - mae: 15.4629 - mse: 337.0340 - val_loss: 16.0457 - val_mae: 16.0457 - val_mse: 345.4655\n",
      "Epoch 18/100\n",
      "13/13 [==============================] - 0s 949us/step - loss: 14.9780 - mae: 14.9780 - mse: 321.7775 - val_loss: 15.5655 - val_mae: 15.5655 - val_mse: 329.6755\n",
      "Epoch 19/100\n",
      "13/13 [==============================] - 0s 884us/step - loss: 14.4972 - mae: 14.4972 - mse: 306.7648 - val_loss: 15.0745 - val_mae: 15.0745 - val_mse: 314.1281\n",
      "Epoch 20/100\n",
      "13/13 [==============================] - 0s 948us/step - loss: 14.0229 - mae: 14.0229 - mse: 292.1329 - val_loss: 14.5742 - val_mae: 14.5742 - val_mse: 298.9067\n",
      "Epoch 21/100\n",
      "13/13 [==============================] - 0s 933us/step - loss: 13.5495 - mae: 13.5495 - mse: 277.8642 - val_loss: 14.0743 - val_mae: 14.0743 - val_mse: 283.9908\n",
      "Epoch 22/100\n",
      "13/13 [==============================] - 0s 936us/step - loss: 13.1023 - mae: 13.1023 - mse: 264.1054 - val_loss: 13.6039 - val_mae: 13.6039 - val_mse: 269.6542\n",
      "Epoch 23/100\n",
      "13/13 [==============================] - 0s 882us/step - loss: 12.6732 - mae: 12.6732 - mse: 251.0969 - val_loss: 13.1560 - val_mae: 13.1560 - val_mse: 256.0501\n",
      "Epoch 24/100\n",
      "13/13 [==============================] - 0s 872us/step - loss: 12.2678 - mae: 12.2678 - mse: 238.8573 - val_loss: 12.7192 - val_mae: 12.7192 - val_mse: 243.1490\n",
      "Epoch 25/100\n",
      "13/13 [==============================] - 0s 903us/step - loss: 11.8961 - mae: 11.8961 - mse: 227.5106 - val_loss: 12.3113 - val_mae: 12.3113 - val_mse: 231.2730\n",
      "Epoch 26/100\n",
      "13/13 [==============================] - 0s 885us/step - loss: 11.5628 - mae: 11.5628 - mse: 217.1222 - val_loss: 11.9325 - val_mae: 11.9325 - val_mse: 220.2070\n",
      "Epoch 27/100\n",
      "13/13 [==============================] - 0s 927us/step - loss: 11.2525 - mae: 11.2525 - mse: 207.4727 - val_loss: 11.5900 - val_mae: 11.5900 - val_mse: 209.7729\n",
      "Epoch 28/100\n",
      "13/13 [==============================] - 0s 941us/step - loss: 10.9618 - mae: 10.9618 - mse: 198.5254 - val_loss: 11.2705 - val_mae: 11.2705 - val_mse: 200.0799\n",
      "Epoch 29/100\n",
      "13/13 [==============================] - 0s 881us/step - loss: 10.6994 - mae: 10.6994 - mse: 190.2787 - val_loss: 10.9563 - val_mae: 10.9563 - val_mse: 191.0590\n",
      "Epoch 30/100\n",
      "13/13 [==============================] - 0s 907us/step - loss: 10.4549 - mae: 10.4549 - mse: 182.8318 - val_loss: 10.6778 - val_mae: 10.6778 - val_mse: 182.8465\n",
      "Epoch 31/100\n",
      "13/13 [==============================] - 0s 937us/step - loss: 10.2256 - mae: 10.2256 - mse: 176.0210 - val_loss: 10.4105 - val_mae: 10.4105 - val_mse: 175.2336\n",
      "Epoch 32/100\n",
      "13/13 [==============================] - 0s 950us/step - loss: 10.0149 - mae: 10.0149 - mse: 169.8058 - val_loss: 10.1597 - val_mae: 10.1597 - val_mse: 168.2332\n",
      "Epoch 33/100\n",
      "13/13 [==============================] - 0s 919us/step - loss: 9.8332 - mae: 9.8332 - mse: 164.1703 - val_loss: 9.9306 - val_mae: 9.9306 - val_mse: 161.9423\n",
      "Epoch 34/100\n",
      "13/13 [==============================] - 0s 2ms/step - loss: 9.6735 - mae: 9.6735 - mse: 159.2258 - val_loss: 9.7261 - val_mae: 9.7261 - val_mse: 156.3374\n",
      "Epoch 35/100\n",
      "13/13 [==============================] - 0s 890us/step - loss: 9.5271 - mae: 9.5271 - mse: 154.8067 - val_loss: 9.5363 - val_mae: 9.5363 - val_mse: 151.2633\n",
      "Epoch 36/100\n",
      "13/13 [==============================] - 0s 968us/step - loss: 9.3937 - mae: 9.3937 - mse: 150.7836 - val_loss: 9.3539 - val_mae: 9.3539 - val_mse: 146.6191\n",
      "Epoch 37/100\n",
      "13/13 [==============================] - 0s 926us/step - loss: 9.2672 - mae: 9.2672 - mse: 147.1021 - val_loss: 9.1759 - val_mae: 9.1759 - val_mse: 142.2899\n",
      "Epoch 38/100\n",
      "13/13 [==============================] - 0s 925us/step - loss: 9.1434 - mae: 9.1434 - mse: 143.6559 - val_loss: 9.0116 - val_mae: 9.0116 - val_mse: 138.2246\n",
      "Epoch 39/100\n",
      "13/13 [==============================] - 0s 812us/step - loss: 9.0258 - mae: 9.0258 - mse: 140.4197 - val_loss: 8.8582 - val_mae: 8.8582 - val_mse: 134.3855\n",
      "Epoch 40/100\n",
      "13/13 [==============================] - 0s 865us/step - loss: 8.9123 - mae: 8.9123 - mse: 137.4007 - val_loss: 8.7112 - val_mae: 8.7112 - val_mse: 130.8193\n",
      "Epoch 41/100\n",
      "13/13 [==============================] - 0s 863us/step - loss: 8.8062 - mae: 8.8062 - mse: 134.5727 - val_loss: 8.5700 - val_mae: 8.5700 - val_mse: 127.5113\n",
      "Epoch 42/100\n",
      "13/13 [==============================] - 0s 922us/step - loss: 8.7062 - mae: 8.7062 - mse: 131.9575 - val_loss: 8.4413 - val_mae: 8.4413 - val_mse: 124.5086\n",
      "Epoch 43/100\n",
      "13/13 [==============================] - 0s 914us/step - loss: 8.6054 - mae: 8.6054 - mse: 129.4649 - val_loss: 8.3154 - val_mae: 8.3154 - val_mse: 121.6530\n",
      "Epoch 44/100\n",
      "13/13 [==============================] - 0s 900us/step - loss: 8.4927 - mae: 8.4927 - mse: 126.8756 - val_loss: 8.1902 - val_mae: 8.1902 - val_mse: 118.7859\n",
      "Epoch 45/100\n",
      "13/13 [==============================] - 0s 872us/step - loss: 8.3680 - mae: 8.3680 - mse: 124.2001 - val_loss: 8.0763 - val_mae: 8.0763 - val_mse: 116.0868\n",
      "Epoch 46/100\n",
      "13/13 [==============================] - 0s 891us/step - loss: 8.2480 - mae: 8.2480 - mse: 121.6577 - val_loss: 7.9628 - val_mae: 7.9628 - val_mse: 113.4627\n",
      "Epoch 47/100\n",
      "13/13 [==============================] - 0s 862us/step - loss: 8.1323 - mae: 8.1323 - mse: 119.2056 - val_loss: 7.8552 - val_mae: 7.8552 - val_mse: 110.9821\n",
      "Epoch 48/100\n",
      "13/13 [==============================] - 0s 860us/step - loss: 8.0192 - mae: 8.0192 - mse: 116.8148 - val_loss: 7.7520 - val_mae: 7.7520 - val_mse: 108.5949\n",
      "Epoch 49/100\n",
      "13/13 [==============================] - 0s 905us/step - loss: 7.9073 - mae: 7.9073 - mse: 114.4908 - val_loss: 7.6497 - val_mae: 7.6497 - val_mse: 106.2818\n",
      "Epoch 50/100\n",
      "13/13 [==============================] - 0s 956us/step - loss: 7.7964 - mae: 7.7964 - mse: 112.1890 - val_loss: 7.5460 - val_mae: 7.5460 - val_mse: 103.9560\n",
      "Epoch 51/100\n",
      "13/13 [==============================] - 0s 877us/step - loss: 7.6882 - mae: 7.6882 - mse: 109.9324 - val_loss: 7.4456 - val_mae: 7.4456 - val_mse: 101.7471\n",
      "Epoch 52/100\n",
      "13/13 [==============================] - 0s 924us/step - loss: 7.5823 - mae: 7.5823 - mse: 107.7406 - val_loss: 7.3437 - val_mae: 7.3437 - val_mse: 99.5537\n",
      "Epoch 53/100\n",
      "13/13 [==============================] - 0s 886us/step - loss: 7.4770 - mae: 7.4770 - mse: 105.5700 - val_loss: 7.2440 - val_mae: 7.2440 - val_mse: 97.4069\n",
      "Epoch 54/100\n",
      "13/13 [==============================] - 0s 881us/step - loss: 7.3723 - mae: 7.3723 - mse: 103.4452 - val_loss: 7.1424 - val_mae: 7.1424 - val_mse: 95.2710\n",
      "Epoch 55/100\n",
      "13/13 [==============================] - 0s 873us/step - loss: 7.2661 - mae: 7.2661 - mse: 101.3207 - val_loss: 7.0365 - val_mae: 7.0365 - val_mse: 93.1030\n",
      "Epoch 56/100\n",
      "13/13 [==============================] - 0s 856us/step - loss: 7.1599 - mae: 7.1599 - mse: 99.1944 - val_loss: 6.9294 - val_mae: 6.9294 - val_mse: 90.9272\n",
      "Epoch 57/100\n",
      "13/13 [==============================] - 0s 892us/step - loss: 7.0567 - mae: 7.0567 - mse: 97.1043 - val_loss: 6.8297 - val_mae: 6.8297 - val_mse: 88.8305\n",
      "Epoch 58/100\n",
      "13/13 [==============================] - 0s 857us/step - loss: 6.9585 - mae: 6.9585 - mse: 95.1441 - val_loss: 6.7387 - val_mae: 6.7387 - val_mse: 86.9855\n",
      "Epoch 59/100\n",
      "13/13 [==============================] - 0s 825us/step - loss: 6.8632 - mae: 6.8632 - mse: 93.3452 - val_loss: 6.6515 - val_mae: 6.6515 - val_mse: 85.3150\n",
      "Epoch 60/100\n",
      "13/13 [==============================] - 0s 2ms/step - loss: 6.7682 - mae: 6.7682 - mse: 91.6769 - val_loss: 6.5675 - val_mae: 6.5675 - val_mse: 83.8077\n",
      "Epoch 61/100\n",
      "13/13 [==============================] - 0s 929us/step - loss: 6.6747 - mae: 6.6747 - mse: 90.1022 - val_loss: 6.4844 - val_mae: 6.4844 - val_mse: 82.3648\n",
      "Epoch 62/100\n",
      "13/13 [==============================] - 0s 905us/step - loss: 6.5852 - mae: 6.5852 - mse: 88.5535 - val_loss: 6.3985 - val_mae: 6.3985 - val_mse: 80.8616\n",
      "Epoch 63/100\n",
      "13/13 [==============================] - 0s 821us/step - loss: 6.5009 - mae: 6.5009 - mse: 87.0217 - val_loss: 6.3130 - val_mae: 6.3130 - val_mse: 79.3967\n",
      "Epoch 64/100\n",
      "13/13 [==============================] - 0s 894us/step - loss: 6.4189 - mae: 6.4189 - mse: 85.5545 - val_loss: 6.2277 - val_mae: 6.2277 - val_mse: 77.9736\n",
      "Epoch 65/100\n",
      "13/13 [==============================] - 0s 863us/step - loss: 6.3381 - mae: 6.3381 - mse: 84.1457 - val_loss: 6.1463 - val_mae: 6.1463 - val_mse: 76.6271\n",
      "Epoch 66/100\n",
      "13/13 [==============================] - 0s 905us/step - loss: 6.2591 - mae: 6.2591 - mse: 82.7959 - val_loss: 6.0661 - val_mae: 6.0661 - val_mse: 75.3255\n",
      "Epoch 67/100\n",
      "13/13 [==============================] - 0s 868us/step - loss: 6.1824 - mae: 6.1824 - mse: 81.4695 - val_loss: 5.9823 - val_mae: 5.9823 - val_mse: 73.9028\n",
      "Epoch 68/100\n",
      "13/13 [==============================] - 0s 794us/step - loss: 6.1095 - mae: 6.1095 - mse: 80.0466 - val_loss: 5.8982 - val_mae: 5.8982 - val_mse: 72.3855\n",
      "Epoch 69/100\n",
      "13/13 [==============================] - 0s 795us/step - loss: 6.0416 - mae: 6.0416 - mse: 78.5925 - val_loss: 5.8188 - val_mae: 5.8188 - val_mse: 70.8596\n",
      "Epoch 70/100\n",
      "13/13 [==============================] - 0s 847us/step - loss: 5.9801 - mae: 5.9801 - mse: 77.2461 - val_loss: 5.7496 - val_mae: 5.7496 - val_mse: 69.5457\n",
      "Epoch 71/100\n",
      "13/13 [==============================] - 0s 799us/step - loss: 5.9232 - mae: 5.9232 - mse: 76.1044 - val_loss: 5.6846 - val_mae: 5.6846 - val_mse: 68.4554\n",
      "Epoch 72/100\n",
      "13/13 [==============================] - 0s 811us/step - loss: 5.8702 - mae: 5.8702 - mse: 75.0982 - val_loss: 5.6250 - val_mae: 5.6250 - val_mse: 67.4953\n",
      "Epoch 73/100\n",
      "13/13 [==============================] - 0s 873us/step - loss: 5.8218 - mae: 5.8218 - mse: 74.2092 - val_loss: 5.5686 - val_mae: 5.5686 - val_mse: 66.6592\n",
      "Epoch 74/100\n",
      "13/13 [==============================] - 0s 796us/step - loss: 5.7739 - mae: 5.7739 - mse: 73.4191 - val_loss: 5.5144 - val_mae: 5.5144 - val_mse: 65.9017\n",
      "Epoch 75/100\n",
      "13/13 [==============================] - 0s 849us/step - loss: 5.7297 - mae: 5.7297 - mse: 72.6272 - val_loss: 5.4657 - val_mae: 5.4657 - val_mse: 65.0359\n",
      "Epoch 76/100\n",
      "13/13 [==============================] - 0s 801us/step - loss: 5.6900 - mae: 5.6900 - mse: 71.7830 - val_loss: 5.4211 - val_mae: 5.4211 - val_mse: 64.1798\n",
      "Epoch 77/100\n",
      "13/13 [==============================] - 0s 813us/step - loss: 5.6533 - mae: 5.6533 - mse: 70.9996 - val_loss: 5.3800 - val_mae: 5.3800 - val_mse: 63.4149\n",
      "Epoch 78/100\n",
      "13/13 [==============================] - 0s 772us/step - loss: 5.6193 - mae: 5.6193 - mse: 70.2758 - val_loss: 5.3411 - val_mae: 5.3411 - val_mse: 62.6780\n",
      "Epoch 79/100\n",
      "13/13 [==============================] - 0s 843us/step - loss: 5.5867 - mae: 5.5867 - mse: 69.5617 - val_loss: 5.3041 - val_mae: 5.3041 - val_mse: 61.8983\n",
      "Epoch 80/100\n",
      "13/13 [==============================] - 0s 810us/step - loss: 5.5552 - mae: 5.5552 - mse: 68.8146 - val_loss: 5.2678 - val_mae: 5.2678 - val_mse: 61.1340\n",
      "Epoch 81/100\n",
      "13/13 [==============================] - 0s 883us/step - loss: 5.5261 - mae: 5.5261 - mse: 68.1140 - val_loss: 5.2345 - val_mae: 5.2345 - val_mse: 60.4188\n",
      "Epoch 82/100\n",
      "13/13 [==============================] - 0s 836us/step - loss: 5.5000 - mae: 5.5000 - mse: 67.4755 - val_loss: 5.2019 - val_mae: 5.2019 - val_mse: 59.8549\n",
      "Epoch 83/100\n",
      "13/13 [==============================] - 0s 832us/step - loss: 5.4753 - mae: 5.4753 - mse: 66.9957 - val_loss: 5.1697 - val_mae: 5.1697 - val_mse: 59.4284\n",
      "Epoch 84/100\n",
      "13/13 [==============================] - 0s 2ms/step - loss: 5.4509 - mae: 5.4509 - mse: 66.5856 - val_loss: 5.1420 - val_mae: 5.1420 - val_mse: 59.0737\n",
      "Epoch 85/100\n",
      "13/13 [==============================] - 0s 842us/step - loss: 5.4266 - mae: 5.4266 - mse: 66.2499 - val_loss: 5.1197 - val_mae: 5.1197 - val_mse: 58.7922\n",
      "Epoch 86/100\n",
      "13/13 [==============================] - 0s 828us/step - loss: 5.4024 - mae: 5.4024 - mse: 65.9559 - val_loss: 5.1017 - val_mae: 5.1017 - val_mse: 58.4998\n",
      "Epoch 87/100\n",
      "13/13 [==============================] - 0s 850us/step - loss: 5.3816 - mae: 5.3816 - mse: 65.6294 - val_loss: 5.0829 - val_mae: 5.0829 - val_mse: 58.1548\n",
      "Epoch 88/100\n",
      "13/13 [==============================] - 0s 838us/step - loss: 5.3622 - mae: 5.3622 - mse: 65.2494 - val_loss: 5.0622 - val_mae: 5.0622 - val_mse: 57.7265\n",
      "Epoch 89/100\n",
      "13/13 [==============================] - 0s 845us/step - loss: 5.3429 - mae: 5.3429 - mse: 64.8074 - val_loss: 5.0423 - val_mae: 5.0423 - val_mse: 57.2727\n",
      "Epoch 90/100\n",
      "13/13 [==============================] - 0s 832us/step - loss: 5.3237 - mae: 5.3237 - mse: 64.3762 - val_loss: 5.0236 - val_mae: 5.0236 - val_mse: 56.8378\n",
      "Epoch 91/100\n",
      "13/13 [==============================] - 0s 793us/step - loss: 5.3041 - mae: 5.3041 - mse: 63.9731 - val_loss: 5.0049 - val_mae: 5.0049 - val_mse: 56.4494\n",
      "Epoch 92/100\n",
      "13/13 [==============================] - 0s 822us/step - loss: 5.2839 - mae: 5.2839 - mse: 63.5397 - val_loss: 4.9819 - val_mae: 4.9819 - val_mse: 55.9181\n",
      "Epoch 93/100\n",
      "13/13 [==============================] - 0s 833us/step - loss: 5.2627 - mae: 5.2627 - mse: 63.0346 - val_loss: 4.9589 - val_mae: 4.9589 - val_mse: 55.4026\n",
      "Epoch 94/100\n",
      "13/13 [==============================] - 0s 814us/step - loss: 5.2414 - mae: 5.2414 - mse: 62.5644 - val_loss: 4.9372 - val_mae: 4.9372 - val_mse: 54.9393\n",
      "Epoch 95/100\n",
      "13/13 [==============================] - 0s 812us/step - loss: 5.2206 - mae: 5.2206 - mse: 62.1224 - val_loss: 4.9161 - val_mae: 4.9161 - val_mse: 54.4909\n",
      "Epoch 96/100\n",
      "13/13 [==============================] - 0s 799us/step - loss: 5.1999 - mae: 5.1999 - mse: 61.7092 - val_loss: 4.8972 - val_mae: 4.8972 - val_mse: 54.0962\n",
      "Epoch 97/100\n",
      "13/13 [==============================] - 0s 837us/step - loss: 5.1798 - mae: 5.1798 - mse: 61.3241 - val_loss: 4.8787 - val_mae: 4.8787 - val_mse: 53.7139\n",
      "Epoch 98/100\n",
      "13/13 [==============================] - 0s 817us/step - loss: 5.1601 - mae: 5.1601 - mse: 60.9495 - val_loss: 4.8599 - val_mae: 4.8599 - val_mse: 53.3395\n",
      "Epoch 99/100\n",
      "13/13 [==============================] - 0s 804us/step - loss: 5.1407 - mae: 5.1407 - mse: 60.5525 - val_loss: 4.8413 - val_mae: 4.8413 - val_mse: 52.8865\n",
      "Epoch 100/100\n",
      "13/13 [==============================] - 0s 829us/step - loss: 5.1216 - mae: 5.1216 - mse: 60.1130 - val_loss: 4.8238 - val_mae: 4.8238 - val_mse: 52.5003\n"
     ]
    }
   ],
   "source": [
    "tf.keras.utils.set_random_seed(RANDOM_SEED)\n",
    "\n",
    "model_1 = tf.keras.models.Sequential([\n",
    "    tf.keras.layers.Input(shape=(INPUT_SIZE,)),\n",
    "    tf.keras.layers.Dense(16, activation='relu'),\n",
    "    tf.keras.layers.Dense(OUTPUT_SIZE),\n",
    "], name=model_1_name)\n",
    "\n",
    "model_1.compile(loss='mae',\n",
    "                optimizer=tf.keras.optimizers.legacy.Adam(),\n",
    "                metrics=['mae', 'mse'])\n",
    "\n",
    "model_1_history = model_1.fit(train_dataset,\n",
    "                              validation_data=test_dataset,\n",
    "                              epochs=100)"
   ]
  },
  {
   "cell_type": "code",
   "execution_count": 27,
   "id": "583de64b-d496-4d96-ad6a-67d4fa6432f9",
   "metadata": {
    "ExecuteTime": {
     "end_time": "2023-10-07T00:20:18.880341Z",
     "start_time": "2023-10-07T00:20:18.795081Z"
    }
   },
   "outputs": [
    {
     "data": {
      "image/png": "[encoded data removed]",
      "text/plain": [
       "<Figure size 640x480 with 1 Axes>"
      ]
     },
     "metadata": {},
     "output_type": "display_data"
    }
   ],
   "source": [
    "ml_toolbox.analysis.history.plot_history(model_1_history, 'mae')"
   ]
  },
  {
   "cell_type": "code",
   "execution_count": 28,
   "id": "d250feca-ebc9-42e5-b218-3ffbcbe1553f",
   "metadata": {
    "ExecuteTime": {
     "end_time": "2023-10-07T00:20:20.860093Z",
     "start_time": "2023-10-07T00:20:20.829680Z"
    }
   },
   "outputs": [
    {
     "name": "stdout",
     "output_type": "stream",
     "text": [
      "4/4 [==============================] - 0s 1ms/step\n"
     ]
    },
    {
     "data": {
      "text/plain": [
       "RegressionPredictionMetrics(mae=4.823767, mse=52.500267, rmse=7.245707, mape=19.291233, mase=0.5032543, huber=4.363771, name='model_1_single_hidden_relu')"
      ]
     },
     "execution_count": 28,
     "metadata": {},
     "output_type": "execute_result"
    }
   ],
   "source": [
    "model_1_preds = model_1.predict(test_dataset)\n",
    "\n",
    "model_1_results = ml_toolbox.analysis.regression.generate_prediction_metrics(y_test, tf.squeeze(model_1_preds), model_1_name)\n",
    "model_1_results"
   ]
  },
  {
   "cell_type": "markdown",
   "id": "251c3f8c-16af-4fa3-add3-f85f56126aeb",
   "metadata": {
    "jp-MarkdownHeadingCollapsed": true
   },
   "source": [
    "### Experiment-2: Deep Neural Net w/ Non-Linear Activation"
   ]
  },
  {
   "cell_type": "code",
   "execution_count": 29,
   "id": "e0f6ed59-008a-42df-9587-6ca43c5c4ef9",
   "metadata": {
    "ExecuteTime": {
     "end_time": "2023-10-07T00:20:24.155927Z",
     "start_time": "2023-10-07T00:20:24.146788Z"
    }
   },
   "outputs": [],
   "source": [
    "# Constants\n",
    "model_2_name = 'model_2_deep_net'\n",
    "\n",
    "NUM_HIDDEN_LAYERS_2 = 15\n",
    "NUM_NEURONS_PER_HIDDEN_2 = 32"
   ]
  },
  {
   "cell_type": "code",
   "execution_count": 30,
   "id": "8425a8a1-cd27-4c59-b055-3d0ceecf8ff1",
   "metadata": {
    "ExecuteTime": {
     "end_time": "2023-10-07T00:20:28.838137Z",
     "start_time": "2023-10-07T00:20:25.618938Z"
    }
   },
   "outputs": [
    {
     "name": "stdout",
     "output_type": "stream",
     "text": [
      "Epoch 1/100\n",
      "13/13 [==============================] - 0s 8ms/step - loss: 22.3317 - mae: 22.3317 - mse: 585.2084 - val_loss: 22.8868 - val_mae: 22.8868 - val_mse: 599.5253\n",
      "Epoch 2/100\n",
      "13/13 [==============================] - 0s 1ms/step - loss: 21.7650 - mae: 21.7650 - mse: 560.4097 - val_loss: 21.2249 - val_mae: 21.2249 - val_mse: 527.0303\n",
      "Epoch 3/100\n",
      "13/13 [==============================] - 0s 1ms/step - loss: 15.2171 - mae: 15.2171 - mse: 332.2809 - val_loss: 8.3548 - val_mae: 8.3548 - val_mse: 110.5847\n",
      "Epoch 4/100\n",
      "13/13 [==============================] - 0s 1ms/step - loss: 9.5131 - mae: 9.5131 - mse: 147.5187 - val_loss: 8.7011 - val_mae: 8.7011 - val_mse: 129.8844\n",
      "Epoch 5/100\n",
      "13/13 [==============================] - 0s 1ms/step - loss: 7.8017 - mae: 7.8017 - mse: 106.0310 - val_loss: 6.4924 - val_mae: 6.4924 - val_mse: 74.8006\n",
      "Epoch 6/100\n",
      "13/13 [==============================] - 0s 2ms/step - loss: 6.8877 - mae: 6.8877 - mse: 88.7693 - val_loss: 5.7791 - val_mae: 5.7791 - val_mse: 64.7020\n",
      "Epoch 7/100\n",
      "13/13 [==============================] - 0s 1ms/step - loss: 6.0881 - mae: 6.0881 - mse: 72.4449 - val_loss: 5.2429 - val_mae: 5.2429 - val_mse: 57.0783\n",
      "Epoch 8/100\n",
      "13/13 [==============================] - 0s 2ms/step - loss: 5.4064 - mae: 5.4064 - mse: 60.8890 - val_loss: 4.6164 - val_mae: 4.6164 - val_mse: 43.9448\n",
      "Epoch 9/100\n",
      "13/13 [==============================] - 0s 2ms/step - loss: 5.0856 - mae: 5.0856 - mse: 55.3668 - val_loss: 4.2474 - val_mae: 4.2474 - val_mse: 40.4728\n",
      "Epoch 10/100\n",
      "13/13 [==============================] - 0s 2ms/step - loss: 4.8921 - mae: 4.8921 - mse: 51.7854 - val_loss: 4.0697 - val_mae: 4.0697 - val_mse: 39.4244\n",
      "Epoch 11/100\n",
      "13/13 [==============================] - 0s 2ms/step - loss: 4.7331 - mae: 4.7331 - mse: 48.8922 - val_loss: 3.9297 - val_mae: 3.9297 - val_mse: 37.4031\n",
      "Epoch 12/100\n",
      "13/13 [==============================] - 0s 2ms/step - loss: 4.6444 - mae: 4.6444 - mse: 47.1530 - val_loss: 3.8039 - val_mae: 3.8039 - val_mse: 35.6005\n",
      "Epoch 13/100\n",
      "13/13 [==============================] - 0s 2ms/step - loss: 4.6413 - mae: 4.6413 - mse: 46.5615 - val_loss: 3.7362 - val_mae: 3.7362 - val_mse: 34.9990\n",
      "Epoch 14/100\n",
      "13/13 [==============================] - 0s 2ms/step - loss: 4.6092 - mae: 4.6092 - mse: 45.2380 - val_loss: 3.8069 - val_mae: 3.8069 - val_mse: 36.0423\n",
      "Epoch 15/100\n",
      "13/13 [==============================] - 0s 2ms/step - loss: 4.4045 - mae: 4.4045 - mse: 41.4078 - val_loss: 3.6299 - val_mae: 3.6299 - val_mse: 33.1010\n",
      "Epoch 16/100\n",
      "13/13 [==============================] - 0s 2ms/step - loss: 4.1234 - mae: 4.1234 - mse: 37.4311 - val_loss: 3.4736 - val_mae: 3.4736 - val_mse: 30.3106\n",
      "Epoch 17/100\n",
      "13/13 [==============================] - 0s 2ms/step - loss: 3.8538 - mae: 3.8538 - mse: 33.7132 - val_loss: 3.2760 - val_mae: 3.2760 - val_mse: 26.9551\n",
      "Epoch 18/100\n",
      "13/13 [==============================] - 0s 2ms/step - loss: 3.5894 - mae: 3.5894 - mse: 30.2751 - val_loss: 3.1354 - val_mae: 3.1354 - val_mse: 23.6191\n",
      "Epoch 19/100\n",
      "13/13 [==============================] - 0s 2ms/step - loss: 3.3852 - mae: 3.3852 - mse: 27.8859 - val_loss: 3.0173 - val_mae: 3.0173 - val_mse: 21.3549\n",
      "Epoch 20/100\n",
      "13/13 [==============================] - 0s 2ms/step - loss: 3.1734 - mae: 3.1734 - mse: 25.0125 - val_loss: 3.0655 - val_mae: 3.0655 - val_mse: 19.5968\n",
      "Epoch 21/100\n",
      "13/13 [==============================] - 0s 2ms/step - loss: 3.0348 - mae: 3.0348 - mse: 23.5151 - val_loss: 2.9081 - val_mae: 2.9081 - val_mse: 18.2415\n",
      "Epoch 22/100\n",
      "13/13 [==============================] - 0s 2ms/step - loss: 2.9383 - mae: 2.9383 - mse: 21.9873 - val_loss: 2.7721 - val_mae: 2.7721 - val_mse: 17.9626\n",
      "Epoch 23/100\n",
      "13/13 [==============================] - 0s 2ms/step - loss: 2.8557 - mae: 2.8557 - mse: 21.6014 - val_loss: 2.7422 - val_mae: 2.7422 - val_mse: 16.9654\n",
      "Epoch 24/100\n",
      "13/13 [==============================] - 0s 2ms/step - loss: 2.7939 - mae: 2.7939 - mse: 20.2882 - val_loss: 2.7890 - val_mae: 2.7890 - val_mse: 16.4415\n",
      "Epoch 25/100\n",
      "13/13 [==============================] - 0s 2ms/step - loss: 2.7480 - mae: 2.7480 - mse: 19.6353 - val_loss: 2.7209 - val_mae: 2.7209 - val_mse: 16.4836\n",
      "Epoch 26/100\n",
      "13/13 [==============================] - 0s 2ms/step - loss: 2.6917 - mae: 2.6917 - mse: 19.0089 - val_loss: 2.7280 - val_mae: 2.7280 - val_mse: 16.2652\n",
      "Epoch 27/100\n",
      "13/13 [==============================] - 0s 2ms/step - loss: 2.6732 - mae: 2.6732 - mse: 19.0141 - val_loss: 2.8244 - val_mae: 2.8244 - val_mse: 16.3896\n",
      "Epoch 28/100\n",
      "13/13 [==============================] - 0s 2ms/step - loss: 2.6315 - mae: 2.6315 - mse: 18.3152 - val_loss: 2.7545 - val_mae: 2.7545 - val_mse: 16.0890\n",
      "Epoch 29/100\n",
      "13/13 [==============================] - 0s 2ms/step - loss: 2.6326 - mae: 2.6326 - mse: 18.3190 - val_loss: 2.6781 - val_mae: 2.6781 - val_mse: 15.8695\n",
      "Epoch 30/100\n",
      "13/13 [==============================] - 0s 2ms/step - loss: 2.6467 - mae: 2.6467 - mse: 18.7480 - val_loss: 2.8736 - val_mae: 2.8736 - val_mse: 16.2935\n",
      "Epoch 31/100\n",
      "13/13 [==============================] - 0s 2ms/step - loss: 2.5745 - mae: 2.5745 - mse: 17.8811 - val_loss: 2.7816 - val_mae: 2.7816 - val_mse: 15.6452\n",
      "Epoch 32/100\n",
      "13/13 [==============================] - 0s 2ms/step - loss: 2.5685 - mae: 2.5685 - mse: 17.7175 - val_loss: 2.7826 - val_mae: 2.7826 - val_mse: 15.7136\n",
      "Epoch 33/100\n",
      "13/13 [==============================] - 0s 2ms/step - loss: 2.5626 - mae: 2.5626 - mse: 17.6858 - val_loss: 2.8293 - val_mae: 2.8293 - val_mse: 15.7664\n",
      "Epoch 34/100\n",
      "13/13 [==============================] - 0s 2ms/step - loss: 2.5256 - mae: 2.5256 - mse: 17.2965 - val_loss: 2.7563 - val_mae: 2.7563 - val_mse: 15.5031\n",
      "Epoch 35/100\n",
      "13/13 [==============================] - 0s 2ms/step - loss: 2.5337 - mae: 2.5337 - mse: 17.4158 - val_loss: 2.8574 - val_mae: 2.8574 - val_mse: 15.9483\n",
      "Epoch 36/100\n",
      "13/13 [==============================] - 0s 2ms/step - loss: 2.4893 - mae: 2.4893 - mse: 16.9525 - val_loss: 2.9044 - val_mae: 2.9044 - val_mse: 15.9119\n",
      "Epoch 37/100\n",
      "13/13 [==============================] - 0s 2ms/step - loss: 2.5003 - mae: 2.5003 - mse: 17.0006 - val_loss: 2.7574 - val_mae: 2.7574 - val_mse: 15.3408\n",
      "Epoch 38/100\n",
      "13/13 [==============================] - 0s 2ms/step - loss: 2.4797 - mae: 2.4797 - mse: 16.7430 - val_loss: 2.6455 - val_mae: 2.6455 - val_mse: 15.1536\n",
      "Epoch 39/100\n",
      "13/13 [==============================] - 0s 2ms/step - loss: 2.5188 - mae: 2.5188 - mse: 17.1696 - val_loss: 2.7192 - val_mae: 2.7192 - val_mse: 15.0648\n",
      "Epoch 40/100\n",
      "13/13 [==============================] - 0s 2ms/step - loss: 2.4617 - mae: 2.4617 - mse: 16.7109 - val_loss: 2.7226 - val_mae: 2.7226 - val_mse: 15.2578\n",
      "Epoch 41/100\n",
      "13/13 [==============================] - 0s 2ms/step - loss: 2.4767 - mae: 2.4767 - mse: 16.8274 - val_loss: 2.9310 - val_mae: 2.9310 - val_mse: 16.1210\n",
      "Epoch 42/100\n",
      "13/13 [==============================] - 0s 2ms/step - loss: 2.4390 - mae: 2.4390 - mse: 16.4210 - val_loss: 2.9320 - val_mae: 2.9320 - val_mse: 15.9860\n",
      "Epoch 43/100\n",
      "13/13 [==============================] - 0s 2ms/step - loss: 2.4708 - mae: 2.4708 - mse: 16.1362 - val_loss: 2.6789 - val_mae: 2.6789 - val_mse: 16.1903\n",
      "Epoch 44/100\n",
      "13/13 [==============================] - 0s 2ms/step - loss: 2.7179 - mae: 2.7179 - mse: 18.6755 - val_loss: 3.0739 - val_mae: 3.0739 - val_mse: 16.8903\n",
      "Epoch 45/100\n",
      "13/13 [==============================] - 0s 2ms/step - loss: 2.4842 - mae: 2.4842 - mse: 16.0633 - val_loss: 2.6396 - val_mae: 2.6396 - val_mse: 14.6318\n",
      "Epoch 46/100\n",
      "13/13 [==============================] - 0s 2ms/step - loss: 2.4068 - mae: 2.4068 - mse: 15.9107 - val_loss: 2.6281 - val_mae: 2.6281 - val_mse: 15.1015\n",
      "Epoch 47/100\n",
      "13/13 [==============================] - 0s 2ms/step - loss: 2.4375 - mae: 2.4375 - mse: 16.2627 - val_loss: 2.9142 - val_mae: 2.9142 - val_mse: 15.9195\n",
      "Epoch 48/100\n",
      "13/13 [==============================] - 0s 2ms/step - loss: 2.3793 - mae: 2.3793 - mse: 15.4774 - val_loss: 2.7788 - val_mae: 2.7788 - val_mse: 14.8989\n",
      "Epoch 49/100\n",
      "13/13 [==============================] - 0s 2ms/step - loss: 2.3455 - mae: 2.3455 - mse: 15.0658 - val_loss: 2.6255 - val_mae: 2.6255 - val_mse: 15.1932\n",
      "Epoch 50/100\n",
      "13/13 [==============================] - 0s 2ms/step - loss: 2.4115 - mae: 2.4115 - mse: 15.9267 - val_loss: 2.6676 - val_mae: 2.6676 - val_mse: 14.9975\n",
      "Epoch 51/100\n",
      "13/13 [==============================] - 0s 2ms/step - loss: 2.3843 - mae: 2.3843 - mse: 15.7705 - val_loss: 2.8685 - val_mae: 2.8685 - val_mse: 15.4124\n",
      "Epoch 52/100\n",
      "13/13 [==============================] - 0s 3ms/step - loss: 2.3501 - mae: 2.3501 - mse: 14.9960 - val_loss: 2.6404 - val_mae: 2.6404 - val_mse: 14.7027\n",
      "Epoch 53/100\n",
      "13/13 [==============================] - 0s 2ms/step - loss: 2.3620 - mae: 2.3620 - mse: 15.0505 - val_loss: 2.6451 - val_mae: 2.6451 - val_mse: 15.5170\n",
      "Epoch 54/100\n",
      "13/13 [==============================] - 0s 2ms/step - loss: 2.4184 - mae: 2.4184 - mse: 15.7891 - val_loss: 2.7201 - val_mae: 2.7201 - val_mse: 14.6962\n",
      "Epoch 55/100\n",
      "13/13 [==============================] - 0s 2ms/step - loss: 2.2987 - mae: 2.2987 - mse: 15.0472 - val_loss: 2.9449 - val_mae: 2.9449 - val_mse: 15.8133\n",
      "Epoch 56/100\n",
      "13/13 [==============================] - 0s 2ms/step - loss: 2.3244 - mae: 2.3244 - mse: 14.4936 - val_loss: 2.6531 - val_mae: 2.6531 - val_mse: 15.7173\n",
      "Epoch 57/100\n",
      "13/13 [==============================] - 0s 2ms/step - loss: 2.4338 - mae: 2.4338 - mse: 15.8951 - val_loss: 2.9005 - val_mae: 2.9005 - val_mse: 15.5545\n",
      "Epoch 58/100\n",
      "13/13 [==============================] - 0s 2ms/step - loss: 2.3373 - mae: 2.3373 - mse: 15.1382 - val_loss: 2.7864 - val_mae: 2.7864 - val_mse: 15.0993\n",
      "Epoch 59/100\n",
      "13/13 [==============================] - 0s 2ms/step - loss: 2.2632 - mae: 2.2632 - mse: 14.3694 - val_loss: 2.6314 - val_mae: 2.6314 - val_mse: 14.6704\n",
      "Epoch 60/100\n",
      "13/13 [==============================] - 0s 2ms/step - loss: 2.2686 - mae: 2.2686 - mse: 14.4949 - val_loss: 2.6588 - val_mae: 2.6588 - val_mse: 14.9218\n",
      "Epoch 61/100\n",
      "13/13 [==============================] - 0s 2ms/step - loss: 2.2548 - mae: 2.2548 - mse: 14.5237 - val_loss: 2.7636 - val_mae: 2.7636 - val_mse: 14.7498\n",
      "Epoch 62/100\n",
      "13/13 [==============================] - 0s 2ms/step - loss: 2.2276 - mae: 2.2276 - mse: 14.1658 - val_loss: 2.6372 - val_mae: 2.6372 - val_mse: 14.8573\n",
      "Epoch 63/100\n",
      "13/13 [==============================] - 0s 2ms/step - loss: 2.2006 - mae: 2.2006 - mse: 13.9407 - val_loss: 2.7701 - val_mae: 2.7701 - val_mse: 15.1684\n",
      "Epoch 64/100\n",
      "13/13 [==============================] - 0s 2ms/step - loss: 2.2023 - mae: 2.2023 - mse: 13.9137 - val_loss: 2.8161 - val_mae: 2.8161 - val_mse: 15.3977\n",
      "Epoch 65/100\n",
      "13/13 [==============================] - 0s 2ms/step - loss: 2.2121 - mae: 2.2121 - mse: 13.8034 - val_loss: 2.7491 - val_mae: 2.7491 - val_mse: 15.1582\n",
      "Epoch 66/100\n",
      "13/13 [==============================] - 0s 2ms/step - loss: 2.1686 - mae: 2.1686 - mse: 13.3428 - val_loss: 2.6804 - val_mae: 2.6804 - val_mse: 15.4648\n",
      "Epoch 67/100\n",
      "13/13 [==============================] - 0s 2ms/step - loss: 2.2177 - mae: 2.2177 - mse: 13.8360 - val_loss: 2.6005 - val_mae: 2.6005 - val_mse: 14.9720\n",
      "Epoch 68/100\n",
      "13/13 [==============================] - 0s 2ms/step - loss: 2.2192 - mae: 2.2192 - mse: 14.0440 - val_loss: 2.7640 - val_mae: 2.7640 - val_mse: 14.7274\n",
      "Epoch 69/100\n",
      "13/13 [==============================] - 0s 2ms/step - loss: 2.1817 - mae: 2.1817 - mse: 13.4237 - val_loss: 2.7093 - val_mae: 2.7093 - val_mse: 15.4296\n",
      "Epoch 70/100\n",
      "13/13 [==============================] - 0s 2ms/step - loss: 2.1709 - mae: 2.1709 - mse: 13.4351 - val_loss: 2.6364 - val_mae: 2.6364 - val_mse: 15.1347\n",
      "Epoch 71/100\n",
      "13/13 [==============================] - 0s 2ms/step - loss: 2.1827 - mae: 2.1827 - mse: 13.7362 - val_loss: 2.7981 - val_mae: 2.7981 - val_mse: 14.9026\n",
      "Epoch 72/100\n",
      "13/13 [==============================] - 0s 2ms/step - loss: 2.1978 - mae: 2.1978 - mse: 13.7027 - val_loss: 2.7956 - val_mae: 2.7956 - val_mse: 15.5149\n",
      "Epoch 73/100\n",
      "13/13 [==============================] - 0s 2ms/step - loss: 2.1257 - mae: 2.1257 - mse: 13.1037 - val_loss: 2.8203 - val_mae: 2.8203 - val_mse: 15.9539\n",
      "Epoch 74/100\n",
      "13/13 [==============================] - 0s 2ms/step - loss: 2.1440 - mae: 2.1440 - mse: 13.1853 - val_loss: 2.7703 - val_mae: 2.7703 - val_mse: 15.3644\n",
      "Epoch 75/100\n",
      "13/13 [==============================] - 0s 2ms/step - loss: 2.1828 - mae: 2.1828 - mse: 13.0782 - val_loss: 2.6574 - val_mae: 2.6574 - val_mse: 14.7353\n",
      "Epoch 76/100\n",
      "13/13 [==============================] - 0s 2ms/step - loss: 2.1112 - mae: 2.1112 - mse: 12.5007 - val_loss: 2.7086 - val_mae: 2.7086 - val_mse: 16.6802\n",
      "Epoch 77/100\n",
      "13/13 [==============================] - 0s 2ms/step - loss: 2.3986 - mae: 2.3986 - mse: 14.7273 - val_loss: 2.7610 - val_mae: 2.7610 - val_mse: 14.7010\n",
      "Epoch 78/100\n",
      "13/13 [==============================] - 0s 2ms/step - loss: 2.1677 - mae: 2.1677 - mse: 13.3108 - val_loss: 2.6498 - val_mae: 2.6498 - val_mse: 15.2543\n",
      "Epoch 79/100\n",
      "13/13 [==============================] - 0s 2ms/step - loss: 2.1238 - mae: 2.1238 - mse: 12.9600 - val_loss: 2.6040 - val_mae: 2.6040 - val_mse: 14.5484\n",
      "Epoch 80/100\n",
      "13/13 [==============================] - 0s 2ms/step - loss: 2.1024 - mae: 2.1024 - mse: 12.6252 - val_loss: 2.6447 - val_mae: 2.6447 - val_mse: 16.0586\n",
      "Epoch 81/100\n",
      "13/13 [==============================] - 0s 2ms/step - loss: 2.1230 - mae: 2.1230 - mse: 12.9812 - val_loss: 2.6060 - val_mae: 2.6060 - val_mse: 15.5082\n",
      "Epoch 82/100\n",
      "13/13 [==============================] - 0s 2ms/step - loss: 2.1332 - mae: 2.1332 - mse: 13.1223 - val_loss: 2.5988 - val_mae: 2.5988 - val_mse: 14.5459\n",
      "Epoch 83/100\n",
      "13/13 [==============================] - 0s 2ms/step - loss: 2.1194 - mae: 2.1194 - mse: 13.1688 - val_loss: 2.6311 - val_mae: 2.6311 - val_mse: 14.6198\n",
      "Epoch 84/100\n",
      "13/13 [==============================] - 0s 2ms/step - loss: 2.1434 - mae: 2.1434 - mse: 13.2687 - val_loss: 2.6635 - val_mae: 2.6635 - val_mse: 14.9397\n",
      "Epoch 85/100\n",
      "13/13 [==============================] - 0s 2ms/step - loss: 2.0735 - mae: 2.0735 - mse: 12.3966 - val_loss: 2.5728 - val_mae: 2.5728 - val_mse: 14.5176\n",
      "Epoch 86/100\n",
      "13/13 [==============================] - 0s 2ms/step - loss: 2.0701 - mae: 2.0701 - mse: 12.2546 - val_loss: 2.6219 - val_mae: 2.6219 - val_mse: 15.7716\n",
      "Epoch 87/100\n",
      "13/13 [==============================] - 0s 2ms/step - loss: 2.1733 - mae: 2.1733 - mse: 13.0510 - val_loss: 2.5369 - val_mae: 2.5369 - val_mse: 14.6290\n",
      "Epoch 88/100\n",
      "13/13 [==============================] - 0s 2ms/step - loss: 2.1425 - mae: 2.1425 - mse: 12.9886 - val_loss: 2.6302 - val_mae: 2.6302 - val_mse: 15.5043\n",
      "Epoch 89/100\n",
      "13/13 [==============================] - 0s 2ms/step - loss: 2.1267 - mae: 2.1267 - mse: 13.2199 - val_loss: 2.6142 - val_mae: 2.6142 - val_mse: 14.1952\n",
      "Epoch 90/100\n",
      "13/13 [==============================] - 0s 2ms/step - loss: 2.1297 - mae: 2.1297 - mse: 12.9492 - val_loss: 2.6825 - val_mae: 2.6825 - val_mse: 14.6575\n",
      "Epoch 91/100\n",
      "13/13 [==============================] - 0s 2ms/step - loss: 2.0474 - mae: 2.0474 - mse: 12.0483 - val_loss: 2.5725 - val_mae: 2.5725 - val_mse: 14.3427\n",
      "Epoch 92/100\n",
      "13/13 [==============================] - 0s 3ms/step - loss: 1.9897 - mae: 1.9897 - mse: 11.9183 - val_loss: 2.6162 - val_mae: 2.6162 - val_mse: 14.6419\n",
      "Epoch 93/100\n",
      "13/13 [==============================] - 0s 2ms/step - loss: 1.9871 - mae: 1.9871 - mse: 11.7752 - val_loss: 2.5500 - val_mae: 2.5500 - val_mse: 14.1627\n",
      "Epoch 94/100\n",
      "13/13 [==============================] - 0s 2ms/step - loss: 1.9678 - mae: 1.9678 - mse: 11.7589 - val_loss: 2.6086 - val_mae: 2.6086 - val_mse: 16.0128\n",
      "Epoch 95/100\n",
      "13/13 [==============================] - 0s 2ms/step - loss: 2.0341 - mae: 2.0341 - mse: 11.8385 - val_loss: 2.7234 - val_mae: 2.7234 - val_mse: 16.9538\n",
      "Epoch 96/100\n",
      "13/13 [==============================] - 0s 2ms/step - loss: 2.1455 - mae: 2.1455 - mse: 12.9879 - val_loss: 2.5776 - val_mae: 2.5776 - val_mse: 14.3026\n",
      "Epoch 97/100\n",
      "13/13 [==============================] - 0s 2ms/step - loss: 2.0648 - mae: 2.0648 - mse: 12.6549 - val_loss: 2.5859 - val_mae: 2.5859 - val_mse: 15.1910\n",
      "Epoch 98/100\n",
      "13/13 [==============================] - 0s 2ms/step - loss: 2.0160 - mae: 2.0160 - mse: 12.3556 - val_loss: 2.6808 - val_mae: 2.6808 - val_mse: 15.1978\n",
      "Epoch 99/100\n",
      "13/13 [==============================] - 0s 2ms/step - loss: 2.2139 - mae: 2.2139 - mse: 13.3788 - val_loss: 2.5697 - val_mae: 2.5697 - val_mse: 14.1590\n",
      "Epoch 100/100\n",
      "13/13 [==============================] - 0s 2ms/step - loss: 1.9693 - mae: 1.9693 - mse: 11.4295 - val_loss: 2.6010 - val_mae: 2.6010 - val_mse: 15.6035\n"
     ]
    }
   ],
   "source": [
    "tf.keras.utils.set_random_seed(RANDOM_SEED)\n",
    "\n",
    "inputs = tf.keras.layers.Input(shape=(INPUT_SIZE,))\n",
    "\n",
    "x = inputs\n",
    "for _ in range(NUM_HIDDEN_LAYERS_2):\n",
    "    x = tf.keras.layers.Dense(NUM_NEURONS_PER_HIDDEN_2, activation='relu')(x)\n",
    "\n",
    "outputs = tf.keras.layers.Dense(OUTPUT_SIZE, activation='relu')(x)\n",
    "\n",
    "model_2 = tf.keras.models.Model(inputs, outputs, name=model_2_name)\n",
    "\n",
    "model_2.compile(loss='mae',\n",
    "                optimizer=tf.keras.optimizers.legacy.Adam(),\n",
    "                metrics=['mae', 'mse'])\n",
    "\n",
    "model_2_history = model_2.fit(train_dataset,\n",
    "                              validation_data=test_dataset,\n",
    "                              epochs=100)"
   ]
  },
  {
   "cell_type": "code",
   "execution_count": 31,
   "id": "e2084ba4-199d-47bb-ae98-0b0c09d17036",
   "metadata": {
    "ExecuteTime": {
     "end_time": "2023-10-07T00:20:30.074951Z",
     "start_time": "2023-10-07T00:20:30.000586Z"
    }
   },
   "outputs": [
    {
     "data": {
      "image/png": "[encoded data removed]",
      "text/plain": [
       "<Figure size 640x480 with 1 Axes>"
      ]
     },
     "metadata": {},
     "output_type": "display_data"
    }
   ],
   "source": [
    "ml_toolbox.analysis.history.plot_history(model_2_history, 'mae')"
   ]
  },
  {
   "cell_type": "code",
   "execution_count": 32,
   "id": "f39dd42c-ef1d-4875-9f1e-4c73f51beb5b",
   "metadata": {
    "ExecuteTime": {
     "end_time": "2023-10-07T00:20:32.694246Z",
     "start_time": "2023-10-07T00:20:32.623894Z"
    }
   },
   "outputs": [
    {
     "name": "stdout",
     "output_type": "stream",
     "text": [
      "4/4 [==============================] - 0s 749us/step\n"
     ]
    },
    {
     "data": {
      "text/plain": [
       "RegressionPredictionMetrics(mae=2.6009755, mse=15.6035185, rmse=3.950129, mape=11.599134, mase=0.27135473, huber=2.1656842, name='model_2_deep_net')"
      ]
     },
     "execution_count": 32,
     "metadata": {},
     "output_type": "execute_result"
    }
   ],
   "source": [
    "model_2_preds = model_2.predict(test_dataset)\n",
    "\n",
    "model_2_results = ml_toolbox.analysis.regression.generate_prediction_metrics(y_test, tf.squeeze(model_2_preds), model_2_name)\n",
    "model_2_results"
   ]
  },
  {
   "cell_type": "markdown",
   "id": "df5d7e8cbb2fc7c9",
   "metadata": {
    "collapsed": false,
    "jp-MarkdownHeadingCollapsed": true,
    "jupyter": {
     "outputs_hidden": false
    }
   },
   "source": [
    "### Experiment-3: Skip Neural Network w/ Non-Linear Activation"
   ]
  },
  {
   "cell_type": "code",
   "execution_count": 33,
   "id": "e8f1df382d62a9f4",
   "metadata": {
    "ExecuteTime": {
     "end_time": "2023-10-07T01:11:14.571299Z",
     "start_time": "2023-10-07T01:11:14.550019Z"
    },
    "collapsed": false,
    "jupyter": {
     "outputs_hidden": false
    }
   },
   "outputs": [],
   "source": [
    "# Constants\n",
    "model_3_name = 'model_3_skip_nn'"
   ]
  },
  {
   "cell_type": "code",
   "execution_count": 34,
   "id": "49558581aec3b554",
   "metadata": {
    "ExecuteTime": {
     "end_time": "2023-10-07T01:16:56.062325Z",
     "start_time": "2023-10-07T01:16:53.656069Z"
    },
    "collapsed": false,
    "jupyter": {
     "outputs_hidden": false
    }
   },
   "outputs": [
    {
     "name": "stdout",
     "output_type": "stream",
     "text": [
      "Epoch 1/100\n",
      "13/13 [==============================] - 0s 6ms/step - loss: 22.0486 - mae: 22.0486 - mse: 574.5242 - val_loss: 22.5055 - val_mae: 22.5055 - val_mse: 583.7437\n",
      "Epoch 2/100\n",
      "13/13 [==============================] - 0s 1ms/step - loss: 21.2343 - mae: 21.2343 - mse: 541.1195 - val_loss: 21.3232 - val_mae: 21.3232 - val_mse: 533.6605\n",
      "Epoch 3/100\n",
      "13/13 [==============================] - 0s 1ms/step - loss: 19.5456 - mae: 19.5456 - mse: 475.5168 - val_loss: 19.0065 - val_mae: 19.0065 - val_mse: 443.6441\n",
      "Epoch 4/100\n",
      "13/13 [==============================] - 0s 1ms/step - loss: 16.1454 - mae: 16.1454 - mse: 358.4105 - val_loss: 14.0960 - val_mae: 14.0960 - val_mse: 281.6414\n",
      "Epoch 5/100\n",
      "13/13 [==============================] - 0s 1ms/step - loss: 10.9793 - mae: 10.9793 - mse: 193.7941 - val_loss: 8.8786 - val_mae: 8.8786 - val_mse: 126.1223\n",
      "Epoch 6/100\n",
      "13/13 [==============================] - 0s 1ms/step - loss: 9.3411 - mae: 9.3411 - mse: 137.6788 - val_loss: 8.2488 - val_mae: 8.2488 - val_mse: 107.4418\n",
      "Epoch 7/100\n",
      "13/13 [==============================] - 0s 1ms/step - loss: 8.6440 - mae: 8.6440 - mse: 121.4698 - val_loss: 7.7437 - val_mae: 7.7437 - val_mse: 102.7986\n",
      "Epoch 8/100\n",
      "13/13 [==============================] - 0s 995us/step - loss: 7.9085 - mae: 7.9085 - mse: 106.3505 - val_loss: 7.0409 - val_mae: 7.0409 - val_mse: 84.9564\n",
      "Epoch 9/100\n",
      "13/13 [==============================] - 0s 1ms/step - loss: 7.2998 - mae: 7.2998 - mse: 93.2842 - val_loss: 6.5535 - val_mae: 6.5535 - val_mse: 76.5303\n",
      "Epoch 10/100\n",
      "13/13 [==============================] - 0s 981us/step - loss: 6.6997 - mae: 6.6997 - mse: 83.2400 - val_loss: 6.0931 - val_mae: 6.0931 - val_mse: 68.1964\n",
      "Epoch 11/100\n",
      "13/13 [==============================] - 0s 969us/step - loss: 6.1829 - mae: 6.1829 - mse: 73.6649 - val_loss: 5.6587 - val_mae: 5.6587 - val_mse: 61.6843\n",
      "Epoch 12/100\n",
      "13/13 [==============================] - 0s 1ms/step - loss: 5.7433 - mae: 5.7433 - mse: 66.7923 - val_loss: 5.2550 - val_mae: 5.2550 - val_mse: 55.2901\n",
      "Epoch 13/100\n",
      "13/13 [==============================] - 0s 978us/step - loss: 5.4237 - mae: 5.4237 - mse: 60.6943 - val_loss: 5.0150 - val_mae: 5.0150 - val_mse: 52.2462\n",
      "Epoch 14/100\n",
      "13/13 [==============================] - 0s 1ms/step - loss: 5.1952 - mae: 5.1952 - mse: 57.4289 - val_loss: 4.8448 - val_mae: 4.8448 - val_mse: 49.1712\n",
      "Epoch 15/100\n",
      "13/13 [==============================] - 0s 1ms/step - loss: 5.0459 - mae: 5.0459 - mse: 54.2756 - val_loss: 4.6403 - val_mae: 4.6403 - val_mse: 45.0397\n",
      "Epoch 16/100\n",
      "13/13 [==============================] - 0s 1ms/step - loss: 4.9207 - mae: 4.9207 - mse: 51.6482 - val_loss: 4.5474 - val_mae: 4.5474 - val_mse: 43.8884\n",
      "Epoch 17/100\n",
      "13/13 [==============================] - 0s 999us/step - loss: 4.8124 - mae: 4.8124 - mse: 49.6411 - val_loss: 4.3656 - val_mae: 4.3656 - val_mse: 40.1837\n",
      "Epoch 18/100\n",
      "13/13 [==============================] - 0s 1ms/step - loss: 4.7176 - mae: 4.7176 - mse: 48.0624 - val_loss: 4.4069 - val_mae: 4.4069 - val_mse: 41.6383\n",
      "Epoch 19/100\n",
      "13/13 [==============================] - 0s 1000us/step - loss: 4.6166 - mae: 4.6166 - mse: 46.5914 - val_loss: 4.1485 - val_mae: 4.1485 - val_mse: 36.4426\n",
      "Epoch 20/100\n",
      "13/13 [==============================] - 0s 966us/step - loss: 4.4834 - mae: 4.4834 - mse: 43.8328 - val_loss: 4.0526 - val_mae: 4.0526 - val_mse: 35.5366\n",
      "Epoch 21/100\n",
      "13/13 [==============================] - 0s 1ms/step - loss: 4.3350 - mae: 4.3350 - mse: 41.8289 - val_loss: 3.8743 - val_mae: 3.8743 - val_mse: 32.7436\n",
      "Epoch 22/100\n",
      "13/13 [==============================] - 0s 995us/step - loss: 4.1865 - mae: 4.1865 - mse: 39.3457 - val_loss: 3.7246 - val_mae: 3.7246 - val_mse: 30.5842\n",
      "Epoch 23/100\n",
      "13/13 [==============================] - 0s 987us/step - loss: 4.0478 - mae: 4.0478 - mse: 36.8916 - val_loss: 3.5244 - val_mae: 3.5244 - val_mse: 27.5683\n",
      "Epoch 24/100\n",
      "13/13 [==============================] - 0s 945us/step - loss: 3.8743 - mae: 3.8743 - mse: 34.2711 - val_loss: 3.3612 - val_mae: 3.3612 - val_mse: 24.6979\n",
      "Epoch 25/100\n",
      "13/13 [==============================] - 0s 1ms/step - loss: 3.6772 - mae: 3.6772 - mse: 31.5755 - val_loss: 3.1971 - val_mae: 3.1971 - val_mse: 22.3193\n",
      "Epoch 26/100\n",
      "13/13 [==============================] - 0s 1ms/step - loss: 3.4846 - mae: 3.4846 - mse: 29.1057 - val_loss: 3.0583 - val_mae: 3.0583 - val_mse: 19.9735\n",
      "Epoch 27/100\n",
      "13/13 [==============================] - 0s 1ms/step - loss: 3.2915 - mae: 3.2915 - mse: 26.7069 - val_loss: 2.8928 - val_mae: 2.8928 - val_mse: 17.9926\n",
      "Epoch 28/100\n",
      "13/13 [==============================] - 0s 1ms/step - loss: 3.0923 - mae: 3.0923 - mse: 24.4116 - val_loss: 2.7578 - val_mae: 2.7578 - val_mse: 16.6662\n",
      "Epoch 29/100\n",
      "13/13 [==============================] - 0s 1ms/step - loss: 2.9306 - mae: 2.9306 - mse: 22.7114 - val_loss: 2.6941 - val_mae: 2.6941 - val_mse: 16.2000\n",
      "Epoch 30/100\n",
      "13/13 [==============================] - 0s 974us/step - loss: 2.8576 - mae: 2.8576 - mse: 21.7440 - val_loss: 2.7315 - val_mae: 2.7315 - val_mse: 16.6785\n",
      "Epoch 31/100\n",
      "13/13 [==============================] - 0s 1ms/step - loss: 2.8354 - mae: 2.8354 - mse: 21.7484 - val_loss: 2.6808 - val_mae: 2.6808 - val_mse: 16.1934\n",
      "Epoch 32/100\n",
      "13/13 [==============================] - 0s 1ms/step - loss: 2.8047 - mae: 2.8047 - mse: 21.6214 - val_loss: 2.6656 - val_mae: 2.6656 - val_mse: 16.3094\n",
      "Epoch 33/100\n",
      "13/13 [==============================] - 0s 1ms/step - loss: 2.7654 - mae: 2.7654 - mse: 21.4187 - val_loss: 2.6429 - val_mae: 2.6429 - val_mse: 15.9304\n",
      "Epoch 34/100\n",
      "13/13 [==============================] - 0s 1ms/step - loss: 2.7476 - mae: 2.7476 - mse: 21.1428 - val_loss: 2.6366 - val_mae: 2.6366 - val_mse: 15.8693\n",
      "Epoch 35/100\n",
      "13/13 [==============================] - 0s 1ms/step - loss: 2.7319 - mae: 2.7319 - mse: 21.0759 - val_loss: 2.6403 - val_mae: 2.6403 - val_mse: 16.2081\n",
      "Epoch 36/100\n",
      "13/13 [==============================] - 0s 2ms/step - loss: 2.7188 - mae: 2.7188 - mse: 21.1910 - val_loss: 2.5968 - val_mae: 2.5968 - val_mse: 15.4029\n",
      "Epoch 37/100\n",
      "13/13 [==============================] - 0s 1ms/step - loss: 2.7062 - mae: 2.7062 - mse: 20.5721 - val_loss: 2.6397 - val_mae: 2.6397 - val_mse: 16.1286\n",
      "Epoch 38/100\n",
      "13/13 [==============================] - 0s 1ms/step - loss: 2.7480 - mae: 2.7480 - mse: 20.8590 - val_loss: 2.6265 - val_mae: 2.6265 - val_mse: 16.0623\n",
      "Epoch 39/100\n",
      "13/13 [==============================] - 0s 874us/step - loss: 2.6885 - mae: 2.6885 - mse: 20.5659 - val_loss: 2.5997 - val_mae: 2.5997 - val_mse: 15.5753\n",
      "Epoch 40/100\n",
      "13/13 [==============================] - 0s 976us/step - loss: 2.6656 - mae: 2.6656 - mse: 20.1894 - val_loss: 2.6279 - val_mae: 2.6279 - val_mse: 16.2246\n",
      "Epoch 41/100\n",
      "13/13 [==============================] - 0s 932us/step - loss: 2.6713 - mae: 2.6713 - mse: 20.2790 - val_loss: 2.6086 - val_mae: 2.6086 - val_mse: 15.9024\n",
      "Epoch 42/100\n",
      "13/13 [==============================] - 0s 1ms/step - loss: 2.6673 - mae: 2.6673 - mse: 20.1007 - val_loss: 2.6088 - val_mae: 2.6088 - val_mse: 16.0279\n",
      "Epoch 43/100\n",
      "13/13 [==============================] - 0s 1ms/step - loss: 2.6499 - mae: 2.6499 - mse: 19.9604 - val_loss: 2.6059 - val_mae: 2.6059 - val_mse: 16.0986\n",
      "Epoch 44/100\n",
      "13/13 [==============================] - 0s 971us/step - loss: 2.6313 - mae: 2.6313 - mse: 19.9808 - val_loss: 2.5796 - val_mae: 2.5796 - val_mse: 15.6630\n",
      "Epoch 45/100\n",
      "13/13 [==============================] - 0s 956us/step - loss: 2.6544 - mae: 2.6544 - mse: 19.7519 - val_loss: 2.6224 - val_mae: 2.6224 - val_mse: 16.2834\n",
      "Epoch 46/100\n",
      "13/13 [==============================] - 0s 1ms/step - loss: 2.6916 - mae: 2.6916 - mse: 20.0714 - val_loss: 2.6156 - val_mae: 2.6156 - val_mse: 16.1873\n",
      "Epoch 47/100\n",
      "13/13 [==============================] - 0s 1ms/step - loss: 2.7249 - mae: 2.7249 - mse: 20.0153 - val_loss: 2.6013 - val_mae: 2.6013 - val_mse: 15.9270\n",
      "Epoch 48/100\n",
      "13/13 [==============================] - 0s 927us/step - loss: 2.8219 - mae: 2.8219 - mse: 20.3917 - val_loss: 2.5190 - val_mae: 2.5190 - val_mse: 14.8177\n",
      "Epoch 49/100\n",
      "13/13 [==============================] - 0s 955us/step - loss: 2.7608 - mae: 2.7608 - mse: 20.1377 - val_loss: 2.4884 - val_mae: 2.4884 - val_mse: 14.1400\n",
      "Epoch 50/100\n",
      "13/13 [==============================] - 0s 1ms/step - loss: 2.7311 - mae: 2.7311 - mse: 19.9571 - val_loss: 2.4359 - val_mae: 2.4359 - val_mse: 13.1611\n",
      "Epoch 51/100\n",
      "13/13 [==============================] - 0s 1ms/step - loss: 2.6541 - mae: 2.6541 - mse: 19.4904 - val_loss: 2.4784 - val_mae: 2.4784 - val_mse: 13.3296\n",
      "Epoch 52/100\n",
      "13/13 [==============================] - 0s 956us/step - loss: 2.6317 - mae: 2.6317 - mse: 19.4728 - val_loss: 2.5452 - val_mae: 2.5452 - val_mse: 13.6461\n",
      "Epoch 53/100\n",
      "13/13 [==============================] - 0s 1ms/step - loss: 2.6028 - mae: 2.6028 - mse: 19.2523 - val_loss: 2.6144 - val_mae: 2.6144 - val_mse: 13.9067\n",
      "Epoch 54/100\n",
      "13/13 [==============================] - 0s 986us/step - loss: 2.5799 - mae: 2.5799 - mse: 19.0952 - val_loss: 2.6051 - val_mae: 2.6051 - val_mse: 13.9368\n",
      "Epoch 55/100\n",
      "13/13 [==============================] - 0s 965us/step - loss: 2.5290 - mae: 2.5290 - mse: 18.5237 - val_loss: 2.5353 - val_mae: 2.5353 - val_mse: 13.6032\n",
      "Epoch 56/100\n",
      "13/13 [==============================] - 0s 1ms/step - loss: 2.4745 - mae: 2.4745 - mse: 18.1057 - val_loss: 2.4785 - val_mae: 2.4785 - val_mse: 13.3392\n",
      "Epoch 57/100\n",
      "13/13 [==============================] - 0s 1ms/step - loss: 2.4493 - mae: 2.4493 - mse: 18.0303 - val_loss: 2.4398 - val_mae: 2.4398 - val_mse: 13.3646\n",
      "Epoch 58/100\n",
      "13/13 [==============================] - 0s 1ms/step - loss: 2.4369 - mae: 2.4369 - mse: 17.8944 - val_loss: 2.4326 - val_mae: 2.4326 - val_mse: 13.3745\n",
      "Epoch 59/100\n",
      "13/13 [==============================] - 0s 993us/step - loss: 2.4442 - mae: 2.4442 - mse: 17.9634 - val_loss: 2.4181 - val_mae: 2.4181 - val_mse: 13.4269\n",
      "Epoch 60/100\n",
      "13/13 [==============================] - 0s 1ms/step - loss: 2.4500 - mae: 2.4500 - mse: 17.9566 - val_loss: 2.4213 - val_mae: 2.4213 - val_mse: 13.3987\n",
      "Epoch 61/100\n",
      "13/13 [==============================] - 0s 1ms/step - loss: 2.4363 - mae: 2.4363 - mse: 17.9611 - val_loss: 2.4218 - val_mae: 2.4218 - val_mse: 13.5540\n",
      "Epoch 62/100\n",
      "13/13 [==============================] - 0s 1ms/step - loss: 2.4523 - mae: 2.4523 - mse: 18.0221 - val_loss: 2.4052 - val_mae: 2.4052 - val_mse: 13.1952\n",
      "Epoch 63/100\n",
      "13/13 [==============================] - 0s 1ms/step - loss: 2.4173 - mae: 2.4173 - mse: 17.9127 - val_loss: 2.4154 - val_mae: 2.4154 - val_mse: 13.1360\n",
      "Epoch 64/100\n",
      "13/13 [==============================] - 0s 1ms/step - loss: 2.4497 - mae: 2.4497 - mse: 18.0418 - val_loss: 2.4010 - val_mae: 2.4010 - val_mse: 13.0570\n",
      "Epoch 65/100\n",
      "13/13 [==============================] - 0s 983us/step - loss: 2.4853 - mae: 2.4853 - mse: 18.2881 - val_loss: 2.3790 - val_mae: 2.3790 - val_mse: 12.9259\n",
      "Epoch 66/100\n",
      "13/13 [==============================] - 0s 986us/step - loss: 2.4846 - mae: 2.4846 - mse: 18.3052 - val_loss: 2.3747 - val_mae: 2.3747 - val_mse: 12.4882\n",
      "Epoch 67/100\n",
      "13/13 [==============================] - 0s 1ms/step - loss: 2.4847 - mae: 2.4847 - mse: 18.4624 - val_loss: 2.4116 - val_mae: 2.4116 - val_mse: 12.2386\n",
      "Epoch 68/100\n",
      "13/13 [==============================] - 0s 2ms/step - loss: 2.4770 - mae: 2.4770 - mse: 18.2371 - val_loss: 2.4631 - val_mae: 2.4631 - val_mse: 12.3455\n",
      "Epoch 69/100\n",
      "13/13 [==============================] - 0s 1ms/step - loss: 2.4602 - mae: 2.4602 - mse: 18.1429 - val_loss: 2.5228 - val_mae: 2.5228 - val_mse: 12.4641\n",
      "Epoch 70/100\n",
      "13/13 [==============================] - 0s 873us/step - loss: 2.4709 - mae: 2.4709 - mse: 18.0793 - val_loss: 2.6010 - val_mae: 2.6010 - val_mse: 12.8454\n",
      "Epoch 71/100\n",
      "13/13 [==============================] - 0s 983us/step - loss: 2.4418 - mae: 2.4418 - mse: 17.8073 - val_loss: 2.5776 - val_mae: 2.5776 - val_mse: 12.8042\n",
      "Epoch 72/100\n",
      "13/13 [==============================] - 0s 935us/step - loss: 2.3862 - mae: 2.3862 - mse: 17.4950 - val_loss: 2.5595 - val_mae: 2.5595 - val_mse: 12.8421\n",
      "Epoch 73/100\n",
      "13/13 [==============================] - 0s 924us/step - loss: 2.3651 - mae: 2.3651 - mse: 17.2658 - val_loss: 2.5563 - val_mae: 2.5563 - val_mse: 12.9455\n",
      "Epoch 74/100\n",
      "13/13 [==============================] - 0s 999us/step - loss: 2.3355 - mae: 2.3355 - mse: 17.0673 - val_loss: 2.4756 - val_mae: 2.4756 - val_mse: 12.6716\n",
      "Epoch 75/100\n",
      "13/13 [==============================] - 0s 972us/step - loss: 2.3169 - mae: 2.3169 - mse: 17.0143 - val_loss: 2.4769 - val_mae: 2.4769 - val_mse: 12.6149\n",
      "Epoch 76/100\n",
      "13/13 [==============================] - 0s 966us/step - loss: 2.3038 - mae: 2.3038 - mse: 16.8685 - val_loss: 2.4751 - val_mae: 2.4751 - val_mse: 12.4774\n",
      "Epoch 77/100\n",
      "13/13 [==============================] - 0s 929us/step - loss: 2.3067 - mae: 2.3067 - mse: 16.8416 - val_loss: 2.4195 - val_mae: 2.4195 - val_mse: 12.4235\n",
      "Epoch 78/100\n",
      "13/13 [==============================] - 0s 935us/step - loss: 2.2859 - mae: 2.2859 - mse: 16.6567 - val_loss: 2.4098 - val_mae: 2.4098 - val_mse: 12.3175\n",
      "Epoch 79/100\n",
      "13/13 [==============================] - 0s 986us/step - loss: 2.2773 - mae: 2.2773 - mse: 16.7198 - val_loss: 2.4160 - val_mae: 2.4160 - val_mse: 12.3646\n",
      "Epoch 80/100\n",
      "13/13 [==============================] - 0s 961us/step - loss: 2.2604 - mae: 2.2604 - mse: 16.5546 - val_loss: 2.3841 - val_mae: 2.3841 - val_mse: 12.3099\n",
      "Epoch 81/100\n",
      "13/13 [==============================] - 0s 887us/step - loss: 2.2537 - mae: 2.2537 - mse: 16.4280 - val_loss: 2.3605 - val_mae: 2.3605 - val_mse: 12.2732\n",
      "Epoch 82/100\n",
      "13/13 [==============================] - 0s 967us/step - loss: 2.2463 - mae: 2.2463 - mse: 16.4123 - val_loss: 2.3564 - val_mae: 2.3564 - val_mse: 12.4184\n",
      "Epoch 83/100\n",
      "13/13 [==============================] - 0s 878us/step - loss: 2.2495 - mae: 2.2495 - mse: 16.4528 - val_loss: 2.3673 - val_mae: 2.3673 - val_mse: 12.3782\n",
      "Epoch 84/100\n",
      "13/13 [==============================] - 0s 865us/step - loss: 2.2271 - mae: 2.2271 - mse: 16.2721 - val_loss: 2.3690 - val_mae: 2.3690 - val_mse: 12.4397\n",
      "Epoch 85/100\n",
      "13/13 [==============================] - 0s 953us/step - loss: 2.2272 - mae: 2.2272 - mse: 16.1790 - val_loss: 2.3834 - val_mae: 2.3834 - val_mse: 12.3382\n",
      "Epoch 86/100\n",
      "13/13 [==============================] - 0s 948us/step - loss: 2.2322 - mae: 2.2322 - mse: 16.2894 - val_loss: 2.3804 - val_mae: 2.3804 - val_mse: 12.2209\n",
      "Epoch 87/100\n",
      "13/13 [==============================] - 0s 865us/step - loss: 2.2326 - mae: 2.2326 - mse: 16.1901 - val_loss: 2.3831 - val_mae: 2.3831 - val_mse: 12.0820\n",
      "Epoch 88/100\n",
      "13/13 [==============================] - 0s 892us/step - loss: 2.2464 - mae: 2.2464 - mse: 16.1551 - val_loss: 2.4033 - val_mae: 2.4033 - val_mse: 12.1592\n",
      "Epoch 89/100\n",
      "13/13 [==============================] - 0s 893us/step - loss: 2.2186 - mae: 2.2186 - mse: 16.1452 - val_loss: 2.3863 - val_mae: 2.3863 - val_mse: 11.9843\n",
      "Epoch 90/100\n",
      "13/13 [==============================] - 0s 995us/step - loss: 2.2324 - mae: 2.2324 - mse: 16.1256 - val_loss: 2.4168 - val_mae: 2.4168 - val_mse: 11.9464\n",
      "Epoch 91/100\n",
      "13/13 [==============================] - 0s 968us/step - loss: 2.2156 - mae: 2.2156 - mse: 16.0058 - val_loss: 2.3818 - val_mae: 2.3818 - val_mse: 11.8315\n",
      "Epoch 92/100\n",
      "13/13 [==============================] - 0s 943us/step - loss: 2.2259 - mae: 2.2259 - mse: 15.9966 - val_loss: 2.4286 - val_mae: 2.4286 - val_mse: 11.9192\n",
      "Epoch 93/100\n",
      "13/13 [==============================] - 0s 987us/step - loss: 2.2219 - mae: 2.2219 - mse: 15.9617 - val_loss: 2.3672 - val_mae: 2.3672 - val_mse: 11.7978\n",
      "Epoch 94/100\n",
      "13/13 [==============================] - 0s 952us/step - loss: 2.2024 - mae: 2.2024 - mse: 15.8581 - val_loss: 2.4102 - val_mae: 2.4102 - val_mse: 11.9639\n",
      "Epoch 95/100\n",
      "13/13 [==============================] - 0s 980us/step - loss: 2.2192 - mae: 2.2192 - mse: 15.9015 - val_loss: 2.4518 - val_mae: 2.4518 - val_mse: 12.0176\n",
      "Epoch 96/100\n",
      "13/13 [==============================] - 0s 968us/step - loss: 2.2029 - mae: 2.2029 - mse: 15.8681 - val_loss: 2.4497 - val_mae: 2.4497 - val_mse: 11.9903\n",
      "Epoch 97/100\n",
      "13/13 [==============================] - 0s 957us/step - loss: 2.2018 - mae: 2.2018 - mse: 15.8093 - val_loss: 2.5040 - val_mae: 2.5040 - val_mse: 12.1504\n",
      "Epoch 98/100\n",
      "13/13 [==============================] - 0s 925us/step - loss: 2.1985 - mae: 2.1985 - mse: 15.7112 - val_loss: 2.4802 - val_mae: 2.4802 - val_mse: 12.2074\n",
      "Epoch 99/100\n",
      "13/13 [==============================] - 0s 978us/step - loss: 2.1862 - mae: 2.1862 - mse: 15.6792 - val_loss: 2.5028 - val_mae: 2.5028 - val_mse: 12.1588\n",
      "Epoch 100/100\n",
      "13/13 [==============================] - 0s 977us/step - loss: 2.1834 - mae: 2.1834 - mse: 15.5712 - val_loss: 2.5584 - val_mae: 2.5584 - val_mse: 12.5198\n"
     ]
    }
   ],
   "source": [
    "tf.keras.utils.set_random_seed(RANDOM_SEED)\n",
    "\n",
    "inputs = tf.keras.layers.Input(shape=(INPUT_SIZE,))\n",
    "x = tf.keras.layers.Dense(64)(inputs)\n",
    "x = SkipConnectionDenseLayer(64, hidden_layers=6)(x)\n",
    "x = tf.keras.layers.Dense(32)(inputs)\n",
    "x = SkipConnectionDenseLayer(32, hidden_layers=6)(x)\n",
    "x = tf.keras.layers.Dense(16)(inputs)\n",
    "x = SkipConnectionDenseLayer(16, hidden_layers=6)(x)\n",
    "outputs = tf.keras.layers.Dense(OUTPUT_SIZE, activation='relu')(x)\n",
    "\n",
    "model_3 = tf.keras.models.Model(inputs, outputs, name=model_3_name)\n",
    "\n",
    "model_3.compile(loss='mae',\n",
    "                optimizer=tf.keras.optimizers.legacy.Adam(),\n",
    "                metrics=['mae', 'mse'])\n",
    "\n",
    "model_3_history = model_3.fit(train_dataset,\n",
    "                              validation_data=test_dataset,\n",
    "                              epochs=100)"
   ]
  },
  {
   "cell_type": "code",
   "execution_count": 35,
   "id": "20970be4b9c52c40",
   "metadata": {
    "ExecuteTime": {
     "end_time": "2023-10-07T01:16:57.793989Z",
     "start_time": "2023-10-07T01:16:57.678472Z"
    },
    "collapsed": false,
    "jupyter": {
     "outputs_hidden": false
    }
   },
   "outputs": [
    {
     "data": {
      "image/png": "[encoded data removed]",
      "text/plain": [
       "<Figure size 640x480 with 1 Axes>"
      ]
     },
     "metadata": {},
     "output_type": "display_data"
    }
   ],
   "source": [
    "ml_toolbox.analysis.history.plot_history(model_3_history, 'mae')"
   ]
  },
  {
   "cell_type": "code",
   "execution_count": 36,
   "id": "8a475378cb82c36f",
   "metadata": {
    "ExecuteTime": {
     "end_time": "2023-10-07T01:16:58.659026Z",
     "start_time": "2023-10-07T01:16:58.608484Z"
    },
    "collapsed": false,
    "jupyter": {
     "outputs_hidden": false
    }
   },
   "outputs": [
    {
     "name": "stdout",
     "output_type": "stream",
     "text": [
      "4/4 [==============================] - 0s 974us/step\n"
     ]
    },
    {
     "data": {
      "text/plain": [
       "RegressionPredictionMetrics(mae=2.5583518, mse=12.519767, rmse=3.5383282, mape=11.712883, mase=0.26690787, huber=2.1078706, name='model_3_skip_nn')"
      ]
     },
     "execution_count": 36,
     "metadata": {},
     "output_type": "execute_result"
    }
   ],
   "source": [
    "model_3_preds = model_3.predict(test_dataset)\n",
    "\n",
    "model_3_results = ml_toolbox.analysis.regression.generate_prediction_metrics(y_test, tf.squeeze(model_3_preds), model_3_name)\n",
    "model_3_results"
   ]
  },
  {
   "cell_type": "markdown",
   "id": "27c718e1-329a-410f-a171-f6ba17be8096",
   "metadata": {
    "jp-MarkdownHeadingCollapsed": true
   },
   "source": [
    "### Experiment-4: Pruned Deep Neural Network w/ Non-Linear Activation"
   ]
  },
  {
   "cell_type": "code",
   "execution_count": 37,
   "id": "1c69decd-c7bc-4867-8e77-f32838b404c0",
   "metadata": {},
   "outputs": [],
   "source": [
    "# Constants\n",
    "model_4_name = 'model_4_pruned_dnn'"
   ]
  },
  {
   "cell_type": "code",
   "execution_count": 38,
   "id": "03301e60-4134-4547-9e7d-22f61f87f9ce",
   "metadata": {},
   "outputs": [
    {
     "name": "stdout",
     "output_type": "stream",
     "text": [
      "Epoch 1/100\n",
      " 1/13 [=>............................] - ETA: 31s - loss: 20.0374 - mae: 20.0374 - mse: 506.6568WARNING:tensorflow:Callback method `on_train_batch_end` is slow compared to the batch time (batch time: 0.0012s vs `on_train_batch_end` time: 0.0879s). Check your callbacks.\n",
      "WARNING:tensorflow:Callback method `on_train_batch_end` is slow compared to the batch time (batch time: 0.0012s vs `on_train_batch_end` time: 0.0879s). Check your callbacks.\n",
      "13/13 [==============================] - 3s 13ms/step - loss: 22.3317 - mae: 22.3317 - mse: 585.2084 - val_loss: 22.8868 - val_mae: 22.8868 - val_mse: 599.5253\n",
      "Epoch 2/100\n",
      "13/13 [==============================] - 0s 4ms/step - loss: 21.7650 - mae: 21.7650 - mse: 560.4097 - val_loss: 21.2249 - val_mae: 21.2249 - val_mse: 527.0303\n",
      "Epoch 3/100\n",
      "13/13 [==============================] - 0s 2ms/step - loss: 15.2171 - mae: 15.2171 - mse: 332.2809 - val_loss: 8.3548 - val_mae: 8.3548 - val_mse: 110.5847\n",
      "Epoch 4/100\n",
      "13/13 [==============================] - 0s 2ms/step - loss: 9.5131 - mae: 9.5131 - mse: 147.5187 - val_loss: 8.7011 - val_mae: 8.7011 - val_mse: 129.8844\n",
      "Epoch 5/100\n",
      "13/13 [==============================] - 0s 2ms/step - loss: 7.8017 - mae: 7.8017 - mse: 106.0310 - val_loss: 6.4924 - val_mae: 6.4924 - val_mse: 74.8006\n",
      "Epoch 6/100\n",
      "13/13 [==============================] - 0s 2ms/step - loss: 6.8877 - mae: 6.8877 - mse: 88.7693 - val_loss: 5.7791 - val_mae: 5.7791 - val_mse: 64.7020\n",
      "Epoch 7/100\n",
      "13/13 [==============================] - 0s 2ms/step - loss: 6.0881 - mae: 6.0881 - mse: 72.4449 - val_loss: 5.2429 - val_mae: 5.2429 - val_mse: 57.0783\n",
      "Epoch 8/100\n",
      "13/13 [==============================] - 0s 3ms/step - loss: 9.0035 - mae: 9.0035 - mse: 150.6991 - val_loss: 13.7268 - val_mae: 13.7268 - val_mse: 251.5634\n",
      "Epoch 9/100\n",
      "13/13 [==============================] - 0s 3ms/step - loss: 8.6274 - mae: 8.6274 - mse: 132.3894 - val_loss: 6.5137 - val_mae: 6.5137 - val_mse: 61.5647\n",
      "Epoch 10/100\n",
      "13/13 [==============================] - 0s 3ms/step - loss: 6.2668 - mae: 6.2668 - mse: 71.9541 - val_loss: 5.6475 - val_mae: 5.6475 - val_mse: 69.2414\n",
      "Epoch 11/100\n",
      "13/13 [==============================] - 0s 3ms/step - loss: 5.5105 - mae: 5.5105 - mse: 60.5608 - val_loss: 4.6468 - val_mae: 4.6468 - val_mse: 45.0035\n",
      "Epoch 12/100\n",
      "13/13 [==============================] - 0s 3ms/step - loss: 5.0972 - mae: 5.0972 - mse: 56.6996 - val_loss: 4.4643 - val_mae: 4.4643 - val_mse: 43.6103\n",
      "Epoch 13/100\n",
      "13/13 [==============================] - 0s 3ms/step - loss: 4.9671 - mae: 4.9671 - mse: 52.0125 - val_loss: 4.3792 - val_mae: 4.3792 - val_mse: 44.9218\n",
      "Epoch 14/100\n",
      "13/13 [==============================] - 0s 3ms/step - loss: 4.8149 - mae: 4.8149 - mse: 50.7307 - val_loss: 4.2373 - val_mae: 4.2373 - val_mse: 41.1846\n",
      "Epoch 15/100\n",
      "13/13 [==============================] - 0s 3ms/step - loss: 4.6717 - mae: 4.6717 - mse: 49.6700 - val_loss: 4.1829 - val_mae: 4.1829 - val_mse: 41.3177\n",
      "Epoch 16/100\n",
      "13/13 [==============================] - 0s 3ms/step - loss: 4.5993 - mae: 4.5993 - mse: 47.5419 - val_loss: 4.0905 - val_mae: 4.0905 - val_mse: 38.9651\n",
      "Epoch 17/100\n",
      "13/13 [==============================] - 0s 3ms/step - loss: 4.4976 - mae: 4.4976 - mse: 46.2732 - val_loss: 4.0226 - val_mae: 4.0226 - val_mse: 37.3244\n",
      "Epoch 18/100\n",
      "13/13 [==============================] - 0s 3ms/step - loss: 4.4228 - mae: 4.4228 - mse: 45.2118 - val_loss: 3.9519 - val_mae: 3.9519 - val_mse: 36.1389\n",
      "Epoch 19/100\n",
      "13/13 [==============================] - 0s 3ms/step - loss: 4.3522 - mae: 4.3522 - mse: 42.8507 - val_loss: 3.8708 - val_mae: 3.8708 - val_mse: 35.1598\n",
      "Epoch 20/100\n",
      "13/13 [==============================] - 0s 3ms/step - loss: 4.2483 - mae: 4.2483 - mse: 41.9114 - val_loss: 3.7948 - val_mae: 3.7948 - val_mse: 33.2684\n",
      "Epoch 21/100\n",
      "13/13 [==============================] - 0s 3ms/step - loss: 4.1664 - mae: 4.1664 - mse: 40.1879 - val_loss: 3.7139 - val_mae: 3.7139 - val_mse: 32.2914\n",
      "Epoch 22/100\n",
      "13/13 [==============================] - 0s 3ms/step - loss: 4.0829 - mae: 4.0829 - mse: 38.6124 - val_loss: 3.6348 - val_mae: 3.6348 - val_mse: 31.5036\n",
      "Epoch 23/100\n",
      "13/13 [==============================] - 0s 3ms/step - loss: 3.9878 - mae: 3.9878 - mse: 37.3761 - val_loss: 3.5611 - val_mae: 3.5611 - val_mse: 29.4587\n",
      "Epoch 24/100\n",
      "13/13 [==============================] - 0s 3ms/step - loss: 3.8631 - mae: 3.8631 - mse: 35.9074 - val_loss: 3.5490 - val_mae: 3.5490 - val_mse: 27.6635\n",
      "Epoch 25/100\n",
      "13/13 [==============================] - 0s 3ms/step - loss: 3.8141 - mae: 3.8141 - mse: 34.7263 - val_loss: 3.4308 - val_mae: 3.4308 - val_mse: 26.9234\n",
      "Epoch 26/100\n",
      "13/13 [==============================] - 0s 3ms/step - loss: 3.7290 - mae: 3.7290 - mse: 32.9108 - val_loss: 3.3693 - val_mae: 3.3693 - val_mse: 25.5291\n",
      "Epoch 27/100\n",
      "13/13 [==============================] - 0s 4ms/step - loss: 3.6219 - mae: 3.6219 - mse: 31.8231 - val_loss: 3.3129 - val_mae: 3.3129 - val_mse: 24.1935\n",
      "Epoch 28/100\n",
      "13/13 [==============================] - 0s 3ms/step - loss: 3.5417 - mae: 3.5417 - mse: 30.3555 - val_loss: 3.2332 - val_mae: 3.2332 - val_mse: 23.0605\n",
      "Epoch 29/100\n",
      "13/13 [==============================] - 0s 3ms/step - loss: 3.4166 - mae: 3.4166 - mse: 28.9410 - val_loss: 3.1947 - val_mae: 3.1947 - val_mse: 21.7788\n",
      "Epoch 30/100\n",
      "13/13 [==============================] - 0s 3ms/step - loss: 3.2873 - mae: 3.2873 - mse: 27.2814 - val_loss: 3.1840 - val_mae: 3.1840 - val_mse: 20.5748\n",
      "Epoch 31/100\n",
      "13/13 [==============================] - 0s 3ms/step - loss: 3.1422 - mae: 3.1422 - mse: 25.6047 - val_loss: 3.1158 - val_mae: 3.1158 - val_mse: 19.5989\n",
      "Epoch 32/100\n",
      "13/13 [==============================] - 0s 3ms/step - loss: 3.0263 - mae: 3.0263 - mse: 24.1350 - val_loss: 2.9976 - val_mae: 2.9976 - val_mse: 18.8071\n",
      "Epoch 33/100\n",
      "13/13 [==============================] - 0s 3ms/step - loss: 2.9053 - mae: 2.9053 - mse: 22.3507 - val_loss: 2.7884 - val_mae: 2.7884 - val_mse: 18.0482\n",
      "Epoch 34/100\n",
      "13/13 [==============================] - 0s 3ms/step - loss: 2.8236 - mae: 2.8236 - mse: 21.4302 - val_loss: 2.7477 - val_mae: 2.7477 - val_mse: 17.2870\n",
      "Epoch 35/100\n",
      "13/13 [==============================] - 0s 3ms/step - loss: 2.7695 - mae: 2.7695 - mse: 21.0512 - val_loss: 2.7319 - val_mae: 2.7319 - val_mse: 16.9282\n",
      "Epoch 36/100\n",
      "13/13 [==============================] - 0s 3ms/step - loss: 2.7339 - mae: 2.7339 - mse: 20.5692 - val_loss: 2.7242 - val_mae: 2.7242 - val_mse: 16.7278\n",
      "Epoch 37/100\n",
      "13/13 [==============================] - 0s 3ms/step - loss: 2.7014 - mae: 2.7014 - mse: 20.1147 - val_loss: 2.6862 - val_mae: 2.6862 - val_mse: 16.4920\n",
      "Epoch 38/100\n",
      "13/13 [==============================] - 0s 3ms/step - loss: 2.6990 - mae: 2.6990 - mse: 20.2525 - val_loss: 2.7833 - val_mae: 2.7833 - val_mse: 16.3994\n",
      "Epoch 39/100\n",
      "13/13 [==============================] - 0s 3ms/step - loss: 2.6565 - mae: 2.6565 - mse: 19.3748 - val_loss: 2.6498 - val_mae: 2.6498 - val_mse: 16.1367\n",
      "Epoch 40/100\n",
      "13/13 [==============================] - 0s 3ms/step - loss: 2.6962 - mae: 2.6962 - mse: 20.0638 - val_loss: 2.7402 - val_mae: 2.7402 - val_mse: 16.1487\n",
      "Epoch 41/100\n",
      "13/13 [==============================] - 0s 3ms/step - loss: 2.6490 - mae: 2.6490 - mse: 18.9684 - val_loss: 2.6310 - val_mae: 2.6310 - val_mse: 16.1261\n",
      "Epoch 42/100\n",
      "13/13 [==============================] - 0s 3ms/step - loss: 2.7135 - mae: 2.7135 - mse: 20.1677 - val_loss: 2.8066 - val_mae: 2.8066 - val_mse: 16.0564\n",
      "Epoch 43/100\n",
      "13/13 [==============================] - 0s 3ms/step - loss: 2.6432 - mae: 2.6432 - mse: 18.6824 - val_loss: 2.6206 - val_mae: 2.6206 - val_mse: 15.7048\n",
      "Epoch 44/100\n",
      "13/13 [==============================] - 0s 3ms/step - loss: 2.6372 - mae: 2.6372 - mse: 19.2370 - val_loss: 2.6229 - val_mae: 2.6229 - val_mse: 15.4464\n",
      "Epoch 45/100\n",
      "13/13 [==============================] - 0s 3ms/step - loss: 2.5844 - mae: 2.5844 - mse: 18.6406 - val_loss: 2.6086 - val_mae: 2.6086 - val_mse: 15.3362\n",
      "Epoch 46/100\n",
      "13/13 [==============================] - 0s 3ms/step - loss: 2.6334 - mae: 2.6334 - mse: 19.3501 - val_loss: 2.6456 - val_mae: 2.6456 - val_mse: 15.4664\n",
      "Epoch 47/100\n",
      "13/13 [==============================] - 0s 3ms/step - loss: 2.5673 - mae: 2.5673 - mse: 18.4122 - val_loss: 2.6366 - val_mae: 2.6366 - val_mse: 15.3627\n",
      "Epoch 48/100\n",
      "13/13 [==============================] - 0s 3ms/step - loss: 2.5818 - mae: 2.5818 - mse: 18.7365 - val_loss: 2.6313 - val_mae: 2.6313 - val_mse: 15.3772\n",
      "Epoch 49/100\n",
      "13/13 [==============================] - 0s 3ms/step - loss: 2.5293 - mae: 2.5293 - mse: 18.3295 - val_loss: 2.6209 - val_mae: 2.6209 - val_mse: 15.3072\n",
      "Epoch 50/100\n",
      "13/13 [==============================] - 0s 3ms/step - loss: 2.5219 - mae: 2.5219 - mse: 18.2356 - val_loss: 2.6051 - val_mae: 2.6051 - val_mse: 15.2886\n",
      "Epoch 51/100\n",
      "13/13 [==============================] - 0s 3ms/step - loss: 2.5249 - mae: 2.5249 - mse: 18.3277 - val_loss: 2.6553 - val_mae: 2.6553 - val_mse: 15.1798\n",
      "Epoch 52/100\n",
      "13/13 [==============================] - 0s 3ms/step - loss: 2.5141 - mae: 2.5141 - mse: 17.9194 - val_loss: 2.5928 - val_mae: 2.5928 - val_mse: 15.1560\n",
      "Epoch 53/100\n",
      "13/13 [==============================] - 0s 3ms/step - loss: 2.4975 - mae: 2.4975 - mse: 17.9970 - val_loss: 2.6277 - val_mae: 2.6277 - val_mse: 15.1204\n",
      "Epoch 54/100\n",
      "13/13 [==============================] - 0s 3ms/step - loss: 2.4928 - mae: 2.4928 - mse: 17.9488 - val_loss: 2.5956 - val_mae: 2.5956 - val_mse: 15.2146\n",
      "Epoch 55/100\n",
      "13/13 [==============================] - 0s 3ms/step - loss: 2.4933 - mae: 2.4933 - mse: 18.0241 - val_loss: 2.5915 - val_mae: 2.5915 - val_mse: 15.2798\n",
      "Epoch 56/100\n",
      "13/13 [==============================] - 0s 3ms/step - loss: 2.4807 - mae: 2.4807 - mse: 17.9175 - val_loss: 2.6303 - val_mae: 2.6303 - val_mse: 15.1581\n",
      "Epoch 57/100\n",
      "13/13 [==============================] - 0s 3ms/step - loss: 2.4825 - mae: 2.4825 - mse: 17.5401 - val_loss: 2.5467 - val_mae: 2.5467 - val_mse: 15.3735\n",
      "Epoch 58/100\n",
      "13/13 [==============================] - 0s 3ms/step - loss: 2.5082 - mae: 2.5082 - mse: 18.0490 - val_loss: 2.5805 - val_mae: 2.5805 - val_mse: 15.3699\n",
      "Epoch 59/100\n",
      "13/13 [==============================] - 0s 3ms/step - loss: 2.5020 - mae: 2.5020 - mse: 18.2354 - val_loss: 2.5803 - val_mae: 2.5803 - val_mse: 15.1423\n",
      "Epoch 60/100\n",
      "13/13 [==============================] - 0s 3ms/step - loss: 2.4501 - mae: 2.4501 - mse: 17.3786 - val_loss: 2.5333 - val_mae: 2.5333 - val_mse: 15.1675\n",
      "Epoch 61/100\n",
      "13/13 [==============================] - 0s 3ms/step - loss: 2.4570 - mae: 2.4570 - mse: 17.6537 - val_loss: 2.5966 - val_mae: 2.5966 - val_mse: 15.0413\n",
      "Epoch 62/100\n",
      "13/13 [==============================] - 0s 3ms/step - loss: 2.4565 - mae: 2.4565 - mse: 17.5601 - val_loss: 2.5250 - val_mae: 2.5250 - val_mse: 15.1310\n",
      "Epoch 63/100\n",
      "13/13 [==============================] - 0s 3ms/step - loss: 2.4515 - mae: 2.4515 - mse: 17.8032 - val_loss: 2.5513 - val_mae: 2.5513 - val_mse: 15.0265\n",
      "Epoch 64/100\n",
      "13/13 [==============================] - 0s 3ms/step - loss: 2.4334 - mae: 2.4334 - mse: 17.2041 - val_loss: 2.5155 - val_mae: 2.5155 - val_mse: 15.3268\n",
      "Epoch 65/100\n",
      "13/13 [==============================] - 0s 3ms/step - loss: 2.4562 - mae: 2.4562 - mse: 17.6836 - val_loss: 2.5443 - val_mae: 2.5443 - val_mse: 14.8922\n",
      "Epoch 66/100\n",
      "13/13 [==============================] - 0s 3ms/step - loss: 2.4848 - mae: 2.4848 - mse: 17.9910 - val_loss: 2.5262 - val_mae: 2.5262 - val_mse: 14.9811\n",
      "Epoch 67/100\n",
      "13/13 [==============================] - 0s 3ms/step - loss: 2.4071 - mae: 2.4071 - mse: 17.1163 - val_loss: 2.5039 - val_mae: 2.5039 - val_mse: 14.9441\n",
      "Epoch 68/100\n",
      "13/13 [==============================] - 0s 3ms/step - loss: 2.4265 - mae: 2.4265 - mse: 17.5165 - val_loss: 2.5620 - val_mae: 2.5620 - val_mse: 14.8319\n",
      "Epoch 69/100\n",
      "13/13 [==============================] - 0s 3ms/step - loss: 2.4261 - mae: 2.4261 - mse: 17.0306 - val_loss: 2.4927 - val_mae: 2.4927 - val_mse: 15.2180\n",
      "Epoch 70/100\n",
      "13/13 [==============================] - 0s 3ms/step - loss: 2.4080 - mae: 2.4080 - mse: 17.3206 - val_loss: 2.5683 - val_mae: 2.5683 - val_mse: 14.8311\n",
      "Epoch 71/100\n",
      "13/13 [==============================] - 0s 3ms/step - loss: 2.3998 - mae: 2.3998 - mse: 16.8324 - val_loss: 2.4945 - val_mae: 2.4945 - val_mse: 15.0678\n",
      "Epoch 72/100\n",
      "13/13 [==============================] - 0s 3ms/step - loss: 2.4514 - mae: 2.4514 - mse: 17.5116 - val_loss: 2.5232 - val_mae: 2.5232 - val_mse: 14.7960\n",
      "Epoch 73/100\n",
      "13/13 [==============================] - 0s 3ms/step - loss: 2.4296 - mae: 2.4296 - mse: 17.4575 - val_loss: 2.5468 - val_mae: 2.5468 - val_mse: 14.7094\n",
      "Epoch 74/100\n",
      "13/13 [==============================] - 0s 3ms/step - loss: 2.3807 - mae: 2.3807 - mse: 16.6915 - val_loss: 2.5014 - val_mae: 2.5014 - val_mse: 14.7686\n",
      "Epoch 75/100\n",
      "13/13 [==============================] - 0s 3ms/step - loss: 2.3992 - mae: 2.3992 - mse: 17.1471 - val_loss: 2.5432 - val_mae: 2.5432 - val_mse: 14.4042\n",
      "Epoch 76/100\n",
      "13/13 [==============================] - 0s 3ms/step - loss: 2.3750 - mae: 2.3750 - mse: 16.5224 - val_loss: 2.4714 - val_mae: 2.4714 - val_mse: 14.8485\n",
      "Epoch 77/100\n",
      "13/13 [==============================] - 0s 3ms/step - loss: 2.3711 - mae: 2.3711 - mse: 16.9241 - val_loss: 2.4954 - val_mae: 2.4954 - val_mse: 14.5283\n",
      "Epoch 78/100\n",
      "13/13 [==============================] - 0s 3ms/step - loss: 2.3457 - mae: 2.3457 - mse: 16.6372 - val_loss: 2.4894 - val_mae: 2.4894 - val_mse: 14.6320\n",
      "Epoch 79/100\n",
      "13/13 [==============================] - 0s 3ms/step - loss: 2.3566 - mae: 2.3566 - mse: 16.8327 - val_loss: 2.4950 - val_mae: 2.4950 - val_mse: 14.5084\n",
      "Epoch 80/100\n",
      "13/13 [==============================] - 0s 3ms/step - loss: 2.3308 - mae: 2.3308 - mse: 16.5487 - val_loss: 2.4827 - val_mae: 2.4827 - val_mse: 14.5746\n",
      "Epoch 81/100\n",
      "13/13 [==============================] - 0s 3ms/step - loss: 2.3342 - mae: 2.3342 - mse: 16.7146 - val_loss: 2.4962 - val_mae: 2.4962 - val_mse: 14.5915\n",
      "Epoch 82/100\n",
      "13/13 [==============================] - 0s 3ms/step - loss: 2.3305 - mae: 2.3305 - mse: 16.6529 - val_loss: 2.4870 - val_mae: 2.4870 - val_mse: 14.4067\n",
      "Epoch 83/100\n",
      "13/13 [==============================] - 0s 3ms/step - loss: 2.3143 - mae: 2.3143 - mse: 16.4492 - val_loss: 2.4738 - val_mae: 2.4738 - val_mse: 14.7065\n",
      "Epoch 84/100\n",
      "13/13 [==============================] - 0s 4ms/step - loss: 2.3191 - mae: 2.3191 - mse: 16.4234 - val_loss: 2.4518 - val_mae: 2.4518 - val_mse: 14.6994\n",
      "Epoch 85/100\n",
      "13/13 [==============================] - 0s 3ms/step - loss: 2.3887 - mae: 2.3887 - mse: 17.0619 - val_loss: 2.5639 - val_mae: 2.5639 - val_mse: 14.3189\n",
      "Epoch 86/100\n",
      "13/13 [==============================] - 0s 3ms/step - loss: 2.3387 - mae: 2.3387 - mse: 16.5204 - val_loss: 2.4584 - val_mae: 2.4584 - val_mse: 14.3783\n",
      "Epoch 87/100\n",
      "13/13 [==============================] - 0s 3ms/step - loss: 2.2945 - mae: 2.2945 - mse: 16.3189 - val_loss: 2.4547 - val_mae: 2.4547 - val_mse: 14.8277\n",
      "Epoch 88/100\n",
      "13/13 [==============================] - 0s 3ms/step - loss: 2.3373 - mae: 2.3373 - mse: 16.7229 - val_loss: 2.5078 - val_mae: 2.5078 - val_mse: 14.1800\n",
      "Epoch 89/100\n",
      "13/13 [==============================] - 0s 3ms/step - loss: 2.3160 - mae: 2.3160 - mse: 16.3619 - val_loss: 2.4683 - val_mae: 2.4683 - val_mse: 14.1223\n",
      "Epoch 90/100\n",
      "13/13 [==============================] - 0s 3ms/step - loss: 2.2909 - mae: 2.2909 - mse: 16.1992 - val_loss: 2.4583 - val_mae: 2.4583 - val_mse: 14.7636\n",
      "Epoch 91/100\n",
      "13/13 [==============================] - 0s 3ms/step - loss: 2.2870 - mae: 2.2870 - mse: 16.2541 - val_loss: 2.4491 - val_mae: 2.4491 - val_mse: 14.2514\n",
      "Epoch 92/100\n",
      "13/13 [==============================] - 0s 3ms/step - loss: 2.3060 - mae: 2.3060 - mse: 16.6061 - val_loss: 2.5098 - val_mae: 2.5098 - val_mse: 14.2177\n",
      "Epoch 93/100\n",
      "13/13 [==============================] - 0s 3ms/step - loss: 2.2796 - mae: 2.2796 - mse: 16.0483 - val_loss: 2.4550 - val_mae: 2.4550 - val_mse: 13.9447\n",
      "Epoch 94/100\n",
      "13/13 [==============================] - 0s 3ms/step - loss: 2.2612 - mae: 2.2612 - mse: 15.8574 - val_loss: 2.4297 - val_mae: 2.4297 - val_mse: 14.5449\n",
      "Epoch 95/100\n",
      "13/13 [==============================] - 0s 3ms/step - loss: 2.2919 - mae: 2.2919 - mse: 16.2783 - val_loss: 2.4994 - val_mae: 2.4994 - val_mse: 13.9443\n",
      "Epoch 96/100\n",
      "13/13 [==============================] - 0s 3ms/step - loss: 2.2757 - mae: 2.2757 - mse: 16.1151 - val_loss: 2.4324 - val_mae: 2.4324 - val_mse: 14.0156\n",
      "Epoch 97/100\n",
      "13/13 [==============================] - 0s 3ms/step - loss: 2.2465 - mae: 2.2465 - mse: 15.7151 - val_loss: 2.4522 - val_mae: 2.4522 - val_mse: 14.1757\n",
      "Epoch 98/100\n",
      "13/13 [==============================] - 0s 3ms/step - loss: 2.2888 - mae: 2.2888 - mse: 16.3927 - val_loss: 2.5368 - val_mae: 2.5368 - val_mse: 13.9835\n",
      "Epoch 99/100\n",
      "13/13 [==============================] - 0s 3ms/step - loss: 2.2339 - mae: 2.2339 - mse: 15.4480 - val_loss: 2.4227 - val_mae: 2.4227 - val_mse: 14.2851\n",
      "Epoch 100/100\n",
      "13/13 [==============================] - 0s 3ms/step - loss: 2.2831 - mae: 2.2831 - mse: 15.9584 - val_loss: 2.4575 - val_mae: 2.4575 - val_mse: 13.9891\n"
     ]
    }
   ],
   "source": [
    "tf.keras.utils.set_random_seed(RANDOM_SEED)\n",
    "\n",
    "inputs = tf.keras.layers.Input(shape=(INPUT_SIZE,))\n",
    "\n",
    "x = inputs\n",
    "for _ in range(NUM_HIDDEN_LAYERS_2):\n",
    "    x = tfmot.sparsity.keras.prune_low_magnitude(tf.keras.layers.Dense(NUM_NEURONS_PER_HIDDEN_2, activation='relu'))(x)\n",
    "\n",
    "outputs = tf.keras.layers.Dense(OUTPUT_SIZE, activation='relu')(x)\n",
    "\n",
    "model_4 = tf.keras.models.Model(inputs, outputs, name=model_4_name)\n",
    "\n",
    "model_4.compile(loss='mae',\n",
    "                optimizer=tf.keras.optimizers.legacy.Adam(),\n",
    "                metrics=['mae', 'mse'])\n",
    "\n",
    "model_4_history = model_4.fit(train_dataset,\n",
    "                              validation_data=test_dataset,\n",
    "                              epochs=100,\n",
    "                              callbacks=[\n",
    "                                 tfmot.sparsity.keras.UpdatePruningStep(),\n",
    "                                 tfmot.sparsity.keras.PruningSummaries(log_dir='./logs/pruning/')\n",
    "                              ])"
   ]
  },
  {
   "cell_type": "code",
   "execution_count": 39,
   "id": "1fe271d2-ead4-41af-87e8-74fe2e43664b",
   "metadata": {},
   "outputs": [],
   "source": [
    "# Uncomment below to upload the \n",
    "# !tensorboard --logdir logs/pruning"
   ]
  },
  {
   "cell_type": "code",
   "execution_count": 40,
   "id": "4d86ddd7-e754-41cb-bf7b-a9cda626b3c4",
   "metadata": {},
   "outputs": [
    {
     "data": {
      "image/png": "[encoded data removed]",
      "text/plain": [
       "<Figure size 640x480 with 1 Axes>"
      ]
     },
     "metadata": {},
     "output_type": "display_data"
    }
   ],
   "source": [
    "ml_toolbox.analysis.history.plot_history(model_4_history, 'mae')"
   ]
  },
  {
   "cell_type": "code",
   "execution_count": 41,
   "id": "950feb70-a592-48ae-b87d-30009b75f8e8",
   "metadata": {},
   "outputs": [
    {
     "name": "stdout",
     "output_type": "stream",
     "text": [
      "4/4 [==============================] - 0s 929us/step\n"
     ]
    },
    {
     "data": {
      "text/plain": [
       "RegressionPredictionMetrics(mae=2.4575236, mse=13.989126, rmse=3.740204, mape=10.972673, mase=0.25638866, huber=2.0067263, name='model_4_pruned_dnn')"
      ]
     },
     "execution_count": 41,
     "metadata": {},
     "output_type": "execute_result"
    }
   ],
   "source": [
    "model_4_preds = model_4.predict(test_dataset)\n",
    "\n",
    "model_4_results = ml_toolbox.analysis.regression.generate_prediction_metrics(y_test, tf.squeeze(model_4_preds), model_4_name)\n",
    "model_4_results"
   ]
  },
  {
   "cell_type": "markdown",
   "id": "12913551-cd64-4220-8a3f-e04dc5056fbd",
   "metadata": {
    "jp-MarkdownHeadingCollapsed": true
   },
   "source": [
    "### Experiment-5: Learning Rate Analysis of Pruned DNN"
   ]
  },
  {
   "cell_type": "code",
   "execution_count": 42,
   "id": "49230975-2f41-45d9-8468-a45a535c0055",
   "metadata": {},
   "outputs": [],
   "source": [
    "# Constants\n",
    "model_5_name = 'model_5_lr_analysis'\n",
    "\n",
    "INITIAL_LEARNING_RATE = 0.0001\n",
    "DECAY_FACTOR = 10\n",
    "DECAY_STEP = 20\n",
    "EPOCHS = 100"
   ]
  },
  {
   "cell_type": "code",
   "execution_count": 43,
   "id": "706d6a42-a25a-4b35-ab18-993963f9fd81",
   "metadata": {},
   "outputs": [],
   "source": [
    "# Learning Rate Decay Function\n",
    "exponential_decay_function = ml_toolbox.modeling.learning_rate.generate_exponential_decay_function(\n",
    "    initial_learning_rate=INITIAL_LEARNING_RATE,\n",
    "    decay_factor=DECAY_FACTOR,\n",
    "    decay_step=DECAY_STEP)"
   ]
  },
  {
   "cell_type": "code",
   "execution_count": 44,
   "id": "5a6d303c-ab72-455d-a059-909ed168d8fc",
   "metadata": {},
   "outputs": [
    {
     "name": "stdout",
     "output_type": "stream",
     "text": [
      "Epoch 1/100\n",
      " 1/13 [=>............................] - ETA: 27s - loss: 20.0374 - mae: 20.0374 - mse: 506.6568WARNING:tensorflow:Callback method `on_train_batch_end` is slow compared to the batch time (batch time: 0.0012s vs `on_train_batch_end` time: 0.0906s). Check your callbacks.\n",
      "WARNING:tensorflow:Callback method `on_train_batch_end` is slow compared to the batch time (batch time: 0.0012s vs `on_train_batch_end` time: 0.0906s). Check your callbacks.\n",
      "13/13 [==============================] - 2s 13ms/step - loss: 22.3892 - mae: 22.3892 - mse: 587.8049 - val_loss: 23.0702 - val_mae: 23.0702 - val_mse: 607.9238 - lr: 1.0000e-04\n",
      "Epoch 2/100\n",
      "13/13 [==============================] - 0s 2ms/step - loss: 22.3771 - mae: 22.3771 - mse: 587.2620 - val_loss: 23.0561 - val_mae: 23.0561 - val_mse: 607.2712 - lr: 1.1220e-04\n",
      "Epoch 3/100\n",
      "13/13 [==============================] - 0s 2ms/step - loss: 22.3604 - mae: 22.3604 - mse: 586.5166 - val_loss: 23.0358 - val_mae: 23.0358 - val_mse: 606.3391 - lr: 1.2589e-04\n",
      "Epoch 4/100\n",
      "13/13 [==============================] - 0s 2ms/step - loss: 22.3355 - mae: 22.3355 - mse: 585.4020 - val_loss: 23.0039 - val_mae: 23.0039 - val_mse: 604.8699 - lr: 1.4125e-04\n",
      "Epoch 5/100\n",
      "13/13 [==============================] - 0s 2ms/step - loss: 22.2926 - mae: 22.2926 - mse: 583.4965 - val_loss: 22.9436 - val_mae: 22.9436 - val_mse: 602.1124 - lr: 1.5849e-04\n",
      "Epoch 6/100\n",
      "13/13 [==============================] - 0s 2ms/step - loss: 22.2001 - mae: 22.2001 - mse: 579.4046 - val_loss: 22.7963 - val_mae: 22.7963 - val_mse: 595.4230 - lr: 1.7783e-04\n",
      "Epoch 7/100\n",
      "13/13 [==============================] - 0s 2ms/step - loss: 21.9432 - mae: 21.9432 - mse: 568.1942 - val_loss: 22.3485 - val_mae: 22.3485 - val_mse: 575.4167 - lr: 1.9953e-04\n",
      "Epoch 8/100\n",
      "13/13 [==============================] - 0s 3ms/step - loss: 21.5282 - mae: 21.5282 - mse: 551.0860 - val_loss: 22.4317 - val_mae: 22.4317 - val_mse: 579.1425 - lr: 2.2387e-04\n",
      "Epoch 9/100\n",
      "13/13 [==============================] - 0s 3ms/step - loss: 21.4551 - mae: 21.4551 - mse: 547.4466 - val_loss: 21.7228 - val_mae: 21.7228 - val_mse: 548.2780 - lr: 2.5119e-04\n",
      "Epoch 10/100\n",
      "13/13 [==============================] - 0s 3ms/step - loss: 20.3142 - mae: 20.3142 - mse: 500.9517 - val_loss: 19.9028 - val_mae: 19.9028 - val_mse: 473.9082 - lr: 2.8184e-04\n",
      "Epoch 11/100\n",
      "13/13 [==============================] - 0s 3ms/step - loss: 17.1808 - mae: 17.1808 - mse: 387.3993 - val_loss: 14.6859 - val_mae: 14.6859 - val_mse: 295.9754 - lr: 3.1623e-04\n",
      "Epoch 12/100\n",
      "13/13 [==============================] - 0s 3ms/step - loss: 10.4753 - mae: 10.4753 - mse: 181.9174 - val_loss: 7.8003 - val_mae: 7.8003 - val_mse: 101.7602 - lr: 3.5481e-04\n",
      "Epoch 13/100\n",
      "13/13 [==============================] - 0s 3ms/step - loss: 8.7790 - mae: 8.7790 - mse: 125.0741 - val_loss: 7.5017 - val_mae: 7.5017 - val_mse: 99.7896 - lr: 3.9811e-04\n",
      "Epoch 14/100\n",
      "13/13 [==============================] - 0s 3ms/step - loss: 8.1206 - mae: 8.1206 - mse: 114.9597 - val_loss: 7.3371 - val_mae: 7.3371 - val_mse: 98.1201 - lr: 4.4668e-04\n",
      "Epoch 15/100\n",
      "13/13 [==============================] - 0s 3ms/step - loss: 7.6959 - mae: 7.6959 - mse: 103.6613 - val_loss: 6.8207 - val_mae: 6.8207 - val_mse: 84.8526 - lr: 5.0119e-04\n",
      "Epoch 16/100\n",
      "13/13 [==============================] - 0s 3ms/step - loss: 7.3731 - mae: 7.3731 - mse: 98.1065 - val_loss: 6.5903 - val_mae: 6.5903 - val_mse: 81.9460 - lr: 5.6234e-04\n",
      "Epoch 17/100\n",
      "13/13 [==============================] - 0s 3ms/step - loss: 6.9810 - mae: 6.9810 - mse: 90.0792 - val_loss: 6.2232 - val_mae: 6.2232 - val_mse: 74.8577 - lr: 6.3096e-04\n",
      "Epoch 18/100\n",
      "13/13 [==============================] - 0s 3ms/step - loss: 6.5914 - mae: 6.5914 - mse: 82.8513 - val_loss: 5.8354 - val_mae: 5.8354 - val_mse: 67.6293 - lr: 7.0795e-04\n",
      "Epoch 19/100\n",
      "13/13 [==============================] - 0s 3ms/step - loss: 6.1935 - mae: 6.1935 - mse: 75.4195 - val_loss: 5.4858 - val_mae: 5.4858 - val_mse: 62.1904 - lr: 7.9433e-04\n",
      "Epoch 20/100\n",
      "13/13 [==============================] - 0s 3ms/step - loss: 5.7575 - mae: 5.7575 - mse: 69.0928 - val_loss: 5.1195 - val_mae: 5.1195 - val_mse: 57.3833 - lr: 8.9125e-04\n",
      "Epoch 21/100\n",
      "13/13 [==============================] - 0s 3ms/step - loss: 5.3342 - mae: 5.3342 - mse: 61.3054 - val_loss: 4.6995 - val_mae: 4.6995 - val_mse: 49.6661 - lr: 0.0010\n",
      "Epoch 22/100\n",
      "13/13 [==============================] - 0s 3ms/step - loss: 4.9729 - mae: 4.9729 - mse: 54.5750 - val_loss: 4.3569 - val_mae: 4.3569 - val_mse: 42.3903 - lr: 0.0011\n",
      "Epoch 23/100\n",
      "13/13 [==============================] - 0s 3ms/step - loss: 4.7031 - mae: 4.7031 - mse: 51.2022 - val_loss: 4.2043 - val_mae: 4.2043 - val_mse: 37.5847 - lr: 0.0013\n",
      "Epoch 24/100\n",
      "13/13 [==============================] - 0s 3ms/step - loss: 4.4634 - mae: 4.4634 - mse: 45.9942 - val_loss: 4.4579 - val_mae: 4.4579 - val_mse: 36.4474 - lr: 0.0014\n",
      "Epoch 25/100\n",
      "13/13 [==============================] - 0s 3ms/step - loss: 4.3265 - mae: 4.3265 - mse: 43.4289 - val_loss: 4.3468 - val_mae: 4.3468 - val_mse: 33.3342 - lr: 0.0016\n",
      "Epoch 26/100\n",
      "13/13 [==============================] - 0s 4ms/step - loss: 4.0314 - mae: 4.0314 - mse: 38.6251 - val_loss: 4.0463 - val_mae: 4.0463 - val_mse: 30.0765 - lr: 0.0018\n",
      "Epoch 27/100\n",
      "13/13 [==============================] - 0s 3ms/step - loss: 3.7754 - mae: 3.7754 - mse: 34.7017 - val_loss: 3.3739 - val_mae: 3.3739 - val_mse: 25.9500 - lr: 0.0020\n",
      "Epoch 28/100\n",
      "13/13 [==============================] - 0s 3ms/step - loss: 3.6076 - mae: 3.6076 - mse: 31.6391 - val_loss: 3.2055 - val_mae: 3.2055 - val_mse: 22.5428 - lr: 0.0022\n",
      "Epoch 29/100\n",
      "13/13 [==============================] - 0s 3ms/step - loss: 3.4139 - mae: 3.4139 - mse: 28.3660 - val_loss: 3.1767 - val_mae: 3.1767 - val_mse: 20.3239 - lr: 0.0025\n",
      "Epoch 30/100\n",
      "13/13 [==============================] - 0s 3ms/step - loss: 3.2251 - mae: 3.2251 - mse: 24.7500 - val_loss: 2.9324 - val_mae: 2.9324 - val_mse: 19.6856 - lr: 0.0028\n",
      "Epoch 31/100\n",
      "13/13 [==============================] - 0s 3ms/step - loss: 3.0701 - mae: 3.0701 - mse: 21.9188 - val_loss: 2.7093 - val_mae: 2.7093 - val_mse: 15.9709 - lr: 0.0032\n",
      "Epoch 32/100\n",
      "13/13 [==============================] - 0s 3ms/step - loss: 2.8895 - mae: 2.8895 - mse: 19.7787 - val_loss: 3.1977 - val_mae: 3.1977 - val_mse: 20.9271 - lr: 0.0035\n",
      "Epoch 33/100\n",
      "13/13 [==============================] - 0s 3ms/step - loss: 3.1728 - mae: 3.1728 - mse: 22.0938 - val_loss: 3.1011 - val_mae: 3.1011 - val_mse: 16.7746 - lr: 0.0040\n",
      "Epoch 34/100\n",
      "13/13 [==============================] - 0s 3ms/step - loss: 2.8857 - mae: 2.8857 - mse: 19.2318 - val_loss: 2.7175 - val_mae: 2.7175 - val_mse: 15.0679 - lr: 0.0045\n",
      "Epoch 35/100\n",
      "13/13 [==============================] - 0s 3ms/step - loss: 3.0599 - mae: 3.0599 - mse: 21.9419 - val_loss: 3.9161 - val_mae: 3.9161 - val_mse: 28.8685 - lr: 0.0050\n",
      "Epoch 36/100\n",
      "13/13 [==============================] - 0s 3ms/step - loss: 3.3029 - mae: 3.3029 - mse: 23.2957 - val_loss: 2.6364 - val_mae: 2.6364 - val_mse: 14.8174 - lr: 0.0056\n",
      "Epoch 37/100\n",
      "13/13 [==============================] - 0s 3ms/step - loss: 3.2774 - mae: 3.2774 - mse: 21.5404 - val_loss: 3.3537 - val_mae: 3.3537 - val_mse: 21.9761 - lr: 0.0063\n",
      "Epoch 38/100\n",
      "13/13 [==============================] - 0s 3ms/step - loss: 2.9943 - mae: 2.9943 - mse: 21.2501 - val_loss: 2.6032 - val_mae: 2.6032 - val_mse: 15.1277 - lr: 0.0071\n",
      "Epoch 39/100\n",
      "13/13 [==============================] - 0s 3ms/step - loss: 2.8461 - mae: 2.8461 - mse: 19.5339 - val_loss: 3.2802 - val_mae: 3.2802 - val_mse: 20.4582 - lr: 0.0079\n",
      "Epoch 40/100\n",
      "13/13 [==============================] - 0s 3ms/step - loss: 3.0935 - mae: 3.0935 - mse: 22.2114 - val_loss: 4.1050 - val_mae: 4.1050 - val_mse: 28.4934 - lr: 0.0089\n",
      "Epoch 41/100\n",
      "13/13 [==============================] - 0s 3ms/step - loss: 3.3136 - mae: 3.3136 - mse: 24.6865 - val_loss: 3.2922 - val_mae: 3.2922 - val_mse: 21.7021 - lr: 0.0100\n",
      "Epoch 42/100\n",
      "13/13 [==============================] - 0s 3ms/step - loss: 3.2337 - mae: 3.2337 - mse: 23.3896 - val_loss: 2.5551 - val_mae: 2.5551 - val_mse: 13.4823 - lr: 0.0112\n",
      "Epoch 43/100\n",
      "13/13 [==============================] - 0s 3ms/step - loss: 2.8188 - mae: 2.8188 - mse: 18.7033 - val_loss: 2.4997 - val_mae: 2.4997 - val_mse: 13.2418 - lr: 0.0126\n",
      "Epoch 44/100\n",
      "13/13 [==============================] - 0s 3ms/step - loss: 3.0342 - mae: 3.0342 - mse: 19.2248 - val_loss: 4.0627 - val_mae: 4.0627 - val_mse: 24.8247 - lr: 0.0141\n",
      "Epoch 45/100\n",
      "13/13 [==============================] - 0s 3ms/step - loss: 2.9041 - mae: 2.9041 - mse: 18.3866 - val_loss: 2.4370 - val_mae: 2.4370 - val_mse: 11.6974 - lr: 0.0158\n",
      "Epoch 46/100\n",
      "13/13 [==============================] - 0s 3ms/step - loss: 2.9055 - mae: 2.9055 - mse: 18.7959 - val_loss: 4.0173 - val_mae: 4.0173 - val_mse: 25.8877 - lr: 0.0178\n",
      "Epoch 47/100\n",
      "13/13 [==============================] - 0s 3ms/step - loss: 4.2275 - mae: 4.2275 - mse: 34.7574 - val_loss: 7.8181 - val_mae: 7.8181 - val_mse: 81.4819 - lr: 0.0200\n",
      "Epoch 48/100\n",
      "13/13 [==============================] - 0s 3ms/step - loss: 4.4296 - mae: 4.4296 - mse: 35.6396 - val_loss: 4.6523 - val_mae: 4.6523 - val_mse: 32.6771 - lr: 0.0224\n",
      "Epoch 49/100\n",
      "13/13 [==============================] - 0s 3ms/step - loss: 3.2639 - mae: 3.2639 - mse: 21.4931 - val_loss: 3.1644 - val_mae: 3.1644 - val_mse: 18.9945 - lr: 0.0251\n",
      "Epoch 50/100\n",
      "13/13 [==============================] - 0s 3ms/step - loss: 4.1664 - mae: 4.1664 - mse: 34.1395 - val_loss: 9.2649 - val_mae: 9.2649 - val_mse: 119.0706 - lr: 0.0282\n",
      "Epoch 51/100\n",
      "13/13 [==============================] - 0s 3ms/step - loss: 5.8821 - mae: 5.8821 - mse: 63.0606 - val_loss: 2.8499 - val_mae: 2.8499 - val_mse: 16.9284 - lr: 0.0316\n",
      "Epoch 52/100\n",
      "13/13 [==============================] - 0s 3ms/step - loss: 4.1506 - mae: 4.1506 - mse: 36.3209 - val_loss: 2.5608 - val_mae: 2.5608 - val_mse: 12.2958 - lr: 0.0355\n",
      "Epoch 53/100\n",
      "13/13 [==============================] - 0s 3ms/step - loss: 2.9214 - mae: 2.9214 - mse: 18.0384 - val_loss: 3.0651 - val_mae: 3.0651 - val_mse: 16.5054 - lr: 0.0398\n",
      "Epoch 54/100\n",
      "13/13 [==============================] - 0s 3ms/step - loss: 5.6857 - mae: 5.6857 - mse: 52.3050 - val_loss: 4.4117 - val_mae: 4.4117 - val_mse: 36.0139 - lr: 0.0447\n",
      "Epoch 55/100\n",
      "13/13 [==============================] - 0s 3ms/step - loss: 4.0542 - mae: 4.0542 - mse: 32.9771 - val_loss: 6.0090 - val_mae: 6.0090 - val_mse: 56.4840 - lr: 0.0501\n",
      "Epoch 56/100\n",
      "13/13 [==============================] - 0s 3ms/step - loss: 4.9533 - mae: 4.9533 - mse: 43.9274 - val_loss: 4.1511 - val_mae: 4.1511 - val_mse: 28.6237 - lr: 0.0562\n",
      "Epoch 57/100\n",
      "13/13 [==============================] - 0s 4ms/step - loss: 3.6167 - mae: 3.6167 - mse: 24.8297 - val_loss: 3.8418 - val_mae: 3.8418 - val_mse: 27.3863 - lr: 0.0631\n",
      "Epoch 58/100\n",
      "13/13 [==============================] - 0s 3ms/step - loss: 5.1148 - mae: 5.1148 - mse: 46.2071 - val_loss: 6.6140 - val_mae: 6.6140 - val_mse: 61.3431 - lr: 0.0708\n",
      "Epoch 59/100\n",
      "13/13 [==============================] - 0s 3ms/step - loss: 5.2004 - mae: 5.2004 - mse: 51.2767 - val_loss: 7.4208 - val_mae: 7.4208 - val_mse: 67.1024 - lr: 0.0794\n",
      "Epoch 60/100\n",
      "13/13 [==============================] - 0s 3ms/step - loss: 4.0776 - mae: 4.0776 - mse: 31.9459 - val_loss: 5.4055 - val_mae: 5.4055 - val_mse: 49.4503 - lr: 0.0891\n",
      "Epoch 61/100\n",
      "13/13 [==============================] - 0s 3ms/step - loss: 4.8771 - mae: 4.8771 - mse: 42.6195 - val_loss: 3.8272 - val_mae: 3.8272 - val_mse: 25.1608 - lr: 0.1000\n",
      "Epoch 62/100\n",
      "13/13 [==============================] - 0s 3ms/step - loss: 5.9553 - mae: 5.9553 - mse: 62.2820 - val_loss: 11.2514 - val_mae: 11.2514 - val_mse: 186.3554 - lr: 0.1122\n",
      "Epoch 63/100\n",
      "13/13 [==============================] - 0s 3ms/step - loss: 6.1972 - mae: 6.1972 - mse: 72.0113 - val_loss: 6.4815 - val_mae: 6.4815 - val_mse: 56.7258 - lr: 0.1259\n",
      "Epoch 64/100\n",
      "13/13 [==============================] - 0s 3ms/step - loss: 6.4648 - mae: 6.4648 - mse: 75.7689 - val_loss: 11.7543 - val_mae: 11.7543 - val_mse: 206.5668 - lr: 0.1413\n",
      "Epoch 65/100\n",
      "13/13 [==============================] - 0s 3ms/step - loss: 8.1002 - mae: 8.1002 - mse: 120.6904 - val_loss: 6.2471 - val_mae: 6.2471 - val_mse: 81.6650 - lr: 0.1585\n",
      "Epoch 66/100\n",
      "13/13 [==============================] - 0s 3ms/step - loss: 6.6607 - mae: 6.6607 - mse: 89.1671 - val_loss: 6.2197 - val_mae: 6.2197 - val_mse: 75.9817 - lr: 0.1778\n",
      "Epoch 67/100\n",
      "13/13 [==============================] - 0s 3ms/step - loss: 6.7355 - mae: 6.7355 - mse: 89.2326 - val_loss: 6.2168 - val_mae: 6.2168 - val_mse: 79.9216 - lr: 0.1995\n",
      "Epoch 68/100\n",
      "13/13 [==============================] - 0s 3ms/step - loss: 6.6746 - mae: 6.6746 - mse: 89.6887 - val_loss: 6.1901 - val_mae: 6.1901 - val_mse: 78.2602 - lr: 0.2239\n",
      "Epoch 69/100\n",
      "13/13 [==============================] - 0s 3ms/step - loss: 6.6809 - mae: 6.6809 - mse: 87.7284 - val_loss: 6.2424 - val_mae: 6.2424 - val_mse: 81.3703 - lr: 0.2512\n",
      "Epoch 70/100\n",
      "13/13 [==============================] - 0s 3ms/step - loss: 7.0124 - mae: 7.0124 - mse: 96.8135 - val_loss: 6.1873 - val_mae: 6.1873 - val_mse: 77.6328 - lr: 0.2818\n",
      "Epoch 71/100\n",
      "13/13 [==============================] - 0s 3ms/step - loss: 6.7184 - mae: 6.7184 - mse: 89.6985 - val_loss: 6.2927 - val_mae: 6.2927 - val_mse: 75.6955 - lr: 0.3162\n",
      "Epoch 72/100\n",
      "13/13 [==============================] - 0s 3ms/step - loss: 6.7496 - mae: 6.7496 - mse: 89.7056 - val_loss: 6.1929 - val_mae: 6.1929 - val_mse: 78.4897 - lr: 0.3548\n",
      "Epoch 73/100\n",
      "13/13 [==============================] - 0s 3ms/step - loss: 6.6773 - mae: 6.6773 - mse: 89.1102 - val_loss: 6.1927 - val_mae: 6.1927 - val_mse: 78.4771 - lr: 0.3981\n",
      "Epoch 74/100\n",
      "13/13 [==============================] - 0s 3ms/step - loss: 6.6635 - mae: 6.6635 - mse: 88.9086 - val_loss: 6.2342 - val_mae: 6.2342 - val_mse: 75.8333 - lr: 0.4467\n",
      "Epoch 75/100\n",
      "13/13 [==============================] - 0s 3ms/step - loss: 6.7330 - mae: 6.7330 - mse: 89.7954 - val_loss: 6.1990 - val_mae: 6.1990 - val_mse: 76.3509 - lr: 0.5012\n",
      "Epoch 76/100\n",
      "13/13 [==============================] - 0s 3ms/step - loss: 6.7066 - mae: 6.7066 - mse: 89.2041 - val_loss: 6.1919 - val_mae: 6.1919 - val_mse: 76.6159 - lr: 0.5623\n",
      "Epoch 77/100\n",
      "13/13 [==============================] - 0s 3ms/step - loss: 25.8854 - mae: 25.8854 - mse: 2026.3889 - val_loss: 7.5779 - val_mae: 7.5779 - val_mse: 86.1302 - lr: 0.6310\n",
      "Epoch 78/100\n",
      "13/13 [==============================] - 0s 3ms/step - loss: 6.8811 - mae: 6.8811 - mse: 93.1247 - val_loss: 6.8559 - val_mae: 6.8559 - val_mse: 78.7310 - lr: 0.7079\n",
      "Epoch 79/100\n",
      "13/13 [==============================] - 0s 3ms/step - loss: 7.0535 - mae: 7.0535 - mse: 95.0254 - val_loss: 6.3017 - val_mae: 6.3017 - val_mse: 75.7069 - lr: 0.7943\n",
      "Epoch 80/100\n",
      "13/13 [==============================] - 0s 3ms/step - loss: 6.8663 - mae: 6.8663 - mse: 90.7215 - val_loss: 6.1983 - val_mae: 6.1983 - val_mse: 78.8189 - lr: 0.8913\n",
      "Epoch 81/100\n",
      "13/13 [==============================] - 0s 3ms/step - loss: 6.7016 - mae: 6.7016 - mse: 89.2578 - val_loss: 6.4612 - val_mae: 6.4612 - val_mse: 76.2266 - lr: 1.0000\n",
      "Epoch 82/100\n",
      "13/13 [==============================] - 0s 3ms/step - loss: 6.9037 - mae: 6.9037 - mse: 92.1544 - val_loss: 6.4863 - val_mae: 6.4863 - val_mse: 76.3431 - lr: 1.1220\n",
      "Epoch 83/100\n",
      "13/13 [==============================] - 0s 3ms/step - loss: 6.9845 - mae: 6.9845 - mse: 93.2184 - val_loss: 7.1279 - val_mae: 7.1279 - val_mse: 81.0393 - lr: 1.2589\n",
      "Epoch 84/100\n",
      "13/13 [==============================] - 0s 3ms/step - loss: 7.0408 - mae: 7.0408 - mse: 94.0073 - val_loss: 7.5807 - val_mae: 7.5807 - val_mse: 86.1673 - lr: 1.4125\n",
      "Epoch 85/100\n",
      "13/13 [==============================] - 0s 3ms/step - loss: 7.2506 - mae: 7.2506 - mse: 97.9155 - val_loss: 6.5722 - val_mae: 6.5722 - val_mse: 76.7714 - lr: 1.5849\n",
      "Epoch 86/100\n",
      "13/13 [==============================] - 0s 3ms/step - loss: 8.5218 - mae: 8.5218 - mse: 134.9446 - val_loss: 9.3577 - val_mae: 9.3577 - val_mse: 150.0479 - lr: 1.7783\n",
      "Epoch 87/100\n",
      "13/13 [==============================] - 0s 3ms/step - loss: 8.4125 - mae: 8.4125 - mse: 127.3396 - val_loss: 7.3973 - val_mae: 7.3973 - val_mse: 108.3610 - lr: 1.9953\n",
      "Epoch 88/100\n",
      "13/13 [==============================] - 0s 3ms/step - loss: 6.9382 - mae: 6.9382 - mse: 91.0785 - val_loss: 6.1873 - val_mae: 6.1873 - val_mse: 77.2257 - lr: 2.2387\n",
      "Epoch 89/100\n",
      "13/13 [==============================] - 0s 3ms/step - loss: 6.6650 - mae: 6.6650 - mse: 90.3967 - val_loss: 6.2249 - val_mae: 6.2249 - val_mse: 80.3612 - lr: 2.5119\n",
      "Epoch 90/100\n",
      "13/13 [==============================] - 0s 3ms/step - loss: 6.6350 - mae: 6.6350 - mse: 87.8543 - val_loss: 6.2377 - val_mae: 6.2377 - val_mse: 81.0899 - lr: 2.8184\n",
      "Epoch 91/100\n",
      "13/13 [==============================] - 0s 3ms/step - loss: 6.6275 - mae: 6.6275 - mse: 88.6704 - val_loss: 6.1939 - val_mae: 6.1939 - val_mse: 78.5592 - lr: 3.1623\n",
      "Epoch 92/100\n",
      "13/13 [==============================] - 0s 3ms/step - loss: 6.6291 - mae: 6.6291 - mse: 88.5503 - val_loss: 6.2273 - val_mae: 6.2273 - val_mse: 80.4932 - lr: 3.5481\n",
      "Epoch 93/100\n",
      "13/13 [==============================] - 0s 3ms/step - loss: 6.6258 - mae: 6.6258 - mse: 88.2354 - val_loss: 6.2072 - val_mae: 6.2072 - val_mse: 79.3769 - lr: 3.9811\n",
      "Epoch 94/100\n",
      "13/13 [==============================] - 0s 3ms/step - loss: 6.6304 - mae: 6.6304 - mse: 88.4430 - val_loss: 6.1984 - val_mae: 6.1984 - val_mse: 78.8214 - lr: 4.4668\n",
      "Epoch 95/100\n",
      "13/13 [==============================] - 0s 4ms/step - loss: 6.6349 - mae: 6.6349 - mse: 88.7415 - val_loss: 6.2308 - val_mae: 6.2308 - val_mse: 80.6869 - lr: 5.0119\n",
      "Epoch 96/100\n",
      "13/13 [==============================] - 0s 3ms/step - loss: 6.6337 - mae: 6.6337 - mse: 88.3757 - val_loss: 6.2119 - val_mae: 6.2119 - val_mse: 79.6703 - lr: 5.6234\n",
      "Epoch 97/100\n",
      "13/13 [==============================] - 0s 3ms/step - loss: 6.6438 - mae: 6.6438 - mse: 88.6253 - val_loss: 6.2029 - val_mae: 6.2029 - val_mse: 79.1001 - lr: 6.3096\n",
      "Epoch 98/100\n",
      "13/13 [==============================] - 0s 3ms/step - loss: 6.6470 - mae: 6.6470 - mse: 88.7262 - val_loss: 6.1948 - val_mae: 6.1948 - val_mse: 78.6125 - lr: 7.0795\n",
      "Epoch 99/100\n",
      "13/13 [==============================] - 0s 3ms/step - loss: 6.6465 - mae: 6.6465 - mse: 88.6752 - val_loss: 6.2203 - val_mae: 6.2203 - val_mse: 80.1077 - lr: 7.9433\n",
      "Epoch 100/100\n",
      "13/13 [==============================] - 0s 3ms/step - loss: 6.6456 - mae: 6.6456 - mse: 88.7754 - val_loss: 6.2208 - val_mae: 6.2208 - val_mse: 80.1366 - lr: 8.9125\n"
     ]
    }
   ],
   "source": [
    "tf.keras.utils.set_random_seed(RANDOM_SEED)\n",
    "\n",
    "# Build Model\n",
    "inputs = tf.keras.layers.Input(shape=(INPUT_SIZE,))\n",
    "\n",
    "x = inputs\n",
    "for _ in range(NUM_HIDDEN_LAYERS_2):\n",
    "    x = tfmot.sparsity.keras.prune_low_magnitude(tf.keras.layers.Dense(NUM_NEURONS_PER_HIDDEN_2, activation='relu'))(x)\n",
    "\n",
    "outputs = tf.keras.layers.Dense(OUTPUT_SIZE, activation='relu')(x)\n",
    "\n",
    "model_5 = tf.keras.models.Model(inputs, outputs, name=model_5_name)\n",
    "\n",
    "# Compile Model\n",
    "model_5.compile(loss='mae',\n",
    "                optimizer=tf.keras.optimizers.legacy.Adam(),\n",
    "                metrics=['mae', 'mse'])\n",
    "\n",
    "# Fit Model\n",
    "lr_scheduler_callback = tf.keras.callbacks.LearningRateScheduler(exponential_decay_function)\n",
    "model_5_history = model_5.fit(train_dataset,\n",
    "                              validation_data=test_dataset,\n",
    "                              epochs=EPOCHS,\n",
    "                              callbacks=[\n",
    "                                  tf.keras.callbacks.LearningRateScheduler(exponential_decay_function),\n",
    "                                  tfmot.sparsity.keras.UpdatePruningStep(),\n",
    "                                  tfmot.sparsity.keras.PruningSummaries(log_dir='./logs/pruning/'),\n",
    "                              ])"
   ]
  },
  {
   "cell_type": "code",
   "execution_count": 45,
   "id": "3c0fe801-3e16-4fc2-8a7c-3c45d89f3de9",
   "metadata": {},
   "outputs": [
    {
     "data": {
      "image/png": "[encoded data removed]",
      "text/plain": [
       "<Figure size 800x500 with 1 Axes>"
      ]
     },
     "metadata": {},
     "output_type": "display_data"
    }
   ],
   "source": [
    "# Loss vs epoch\n",
    "# Plot learning rate versus the loss\n",
    "lrs = tf.convert_to_tensor([exponential_decay_function(x) for x in tf.range(EPOCHS)])\n",
    "ml_toolbox.analysis.history.plot_learning_rate_versus_loss(lrs, model_5_history.history['loss'], figsize=(8, 5))"
   ]
  },
  {
   "cell_type": "markdown",
   "id": "9931f1f9-237f-4555-b88f-2b3e47ce98de",
   "metadata": {},
   "source": [
    "#### Findings\n",
    "\n",
    "After running through the learning rate analysis of the pruned model, it appears an initial learning rate is somewhere between `1.26e-3` - `1.26e-2`."
   ]
  },
  {
   "cell_type": "markdown",
   "id": "5564e716-815b-4694-bfad-97d2530c4ae0",
   "metadata": {
    "jp-MarkdownHeadingCollapsed": true
   },
   "source": [
    "### Experiment-6: Pruned Deep Neural Network, Optimized Learning Rate, w/ Non-Linear Activation"
   ]
  },
  {
   "cell_type": "code",
   "execution_count": 53,
   "id": "4bb867b8-2b39-4210-a71f-4e58ffcc5a93",
   "metadata": {},
   "outputs": [],
   "source": [
    "# Constants\n",
    "model_6_name = 'model_6_pruned_dnn_opt'\n",
    "\n",
    "OPTIMIZED_INITIAL_LEARNING_RATE = 0.003"
   ]
  },
  {
   "cell_type": "code",
   "execution_count": 59,
   "id": "3337d2fc-2852-45e8-8ac4-7f1efb1c3f53",
   "metadata": {},
   "outputs": [
    {
     "name": "stdout",
     "output_type": "stream",
     "text": [
      "Epoch 1/100\n",
      " 1/13 [=>............................] - ETA: 28s - loss: 20.0374 - mae: 20.0374 - mse: 506.6568WARNING:tensorflow:Callback method `on_train_batch_end` is slow compared to the batch time (batch time: 0.0012s vs `on_train_batch_end` time: 0.0648s). Check your callbacks.\n",
      "WARNING:tensorflow:Callback method `on_train_batch_end` is slow compared to the batch time (batch time: 0.0012s vs `on_train_batch_end` time: 0.0648s). Check your callbacks.\n",
      "13/13 [==============================] - 3s 14ms/step - loss: 21.7185 - mae: 21.7185 - mse: 558.4444 - val_loss: 18.1729 - val_mae: 18.1729 - val_mse: 408.5499 - lr: 0.0030\n",
      "Epoch 2/100\n",
      "13/13 [==============================] - 0s 2ms/step - loss: 11.1051 - mae: 11.1051 - mse: 195.0425 - val_loss: 9.9668 - val_mae: 9.9668 - val_mse: 163.5014 - lr: 0.0030\n",
      "Epoch 3/100\n",
      "13/13 [==============================] - 0s 2ms/step - loss: 8.1655 - mae: 8.1655 - mse: 116.0459 - val_loss: 6.7012 - val_mae: 6.7012 - val_mse: 87.2029 - lr: 0.0030\n",
      "Epoch 4/100\n",
      "13/13 [==============================] - 0s 3ms/step - loss: 6.3296 - mae: 6.3296 - mse: 78.0298 - val_loss: 5.0790 - val_mae: 5.0790 - val_mse: 47.2381 - lr: 0.0030\n",
      "Epoch 5/100\n",
      "13/13 [==============================] - 0s 3ms/step - loss: 5.3684 - mae: 5.3684 - mse: 58.7137 - val_loss: 5.4627 - val_mae: 5.4627 - val_mse: 46.4344 - lr: 0.0030\n",
      "Epoch 6/100\n",
      "13/13 [==============================] - 0s 2ms/step - loss: 4.7992 - mae: 4.7992 - mse: 48.7154 - val_loss: 3.8779 - val_mae: 3.8779 - val_mse: 33.2343 - lr: 0.0030\n",
      "Epoch 7/100\n",
      "13/13 [==============================] - 0s 2ms/step - loss: 4.2334 - mae: 4.2334 - mse: 41.3817 - val_loss: 4.5836 - val_mae: 4.5836 - val_mse: 34.1687 - lr: 0.0030\n",
      "Epoch 8/100\n",
      "13/13 [==============================] - 0s 3ms/step - loss: 7.1356 - mae: 7.1356 - mse: 103.7580 - val_loss: 6.9428 - val_mae: 6.9428 - val_mse: 81.7480 - lr: 0.0030\n",
      "Epoch 9/100\n",
      "13/13 [==============================] - 0s 3ms/step - loss: 6.1313 - mae: 6.1313 - mse: 64.1285 - val_loss: 4.6291 - val_mae: 4.6291 - val_mse: 45.8769 - lr: 0.0030\n",
      "Epoch 10/100\n",
      "13/13 [==============================] - 0s 3ms/step - loss: 4.6568 - mae: 4.6568 - mse: 43.4185 - val_loss: 3.4521 - val_mae: 3.4521 - val_mse: 29.3432 - lr: 0.0030\n",
      "Epoch 11/100\n",
      "13/13 [==============================] - 0s 3ms/step - loss: 4.1479 - mae: 4.1479 - mse: 37.3523 - val_loss: 3.4182 - val_mae: 3.4182 - val_mse: 25.6657 - lr: 0.0030\n",
      "Epoch 12/100\n",
      "13/13 [==============================] - 0s 3ms/step - loss: 3.7953 - mae: 3.7953 - mse: 33.3920 - val_loss: 3.4373 - val_mae: 3.4373 - val_mse: 23.9805 - lr: 0.0030\n",
      "Epoch 13/100\n",
      "13/13 [==============================] - 0s 3ms/step - loss: 3.4393 - mae: 3.4393 - mse: 28.9881 - val_loss: 3.4924 - val_mae: 3.4924 - val_mse: 22.8741 - lr: 0.0030\n",
      "Epoch 14/100\n",
      "13/13 [==============================] - 0s 3ms/step - loss: 3.2594 - mae: 3.2594 - mse: 26.6099 - val_loss: 3.0042 - val_mae: 3.0042 - val_mse: 19.4807 - lr: 0.0030\n",
      "Epoch 15/100\n",
      "13/13 [==============================] - 0s 3ms/step - loss: 3.0227 - mae: 3.0227 - mse: 23.4919 - val_loss: 2.7725 - val_mae: 2.7725 - val_mse: 17.7674 - lr: 0.0030\n",
      "Epoch 16/100\n",
      "13/13 [==============================] - 0s 3ms/step - loss: 2.9464 - mae: 2.9464 - mse: 21.7773 - val_loss: 2.6659 - val_mae: 2.6659 - val_mse: 17.4381 - lr: 0.0030\n",
      "Epoch 17/100\n",
      "13/13 [==============================] - 0s 3ms/step - loss: 2.9391 - mae: 2.9391 - mse: 22.7125 - val_loss: 3.0207 - val_mae: 3.0207 - val_mse: 17.7494 - lr: 0.0030\n",
      "Epoch 18/100\n",
      "13/13 [==============================] - 0s 3ms/step - loss: 2.7955 - mae: 2.7955 - mse: 20.1708 - val_loss: 2.6402 - val_mae: 2.6402 - val_mse: 16.6634 - lr: 0.0030\n",
      "Epoch 19/100\n",
      "13/13 [==============================] - 0s 3ms/step - loss: 2.8129 - mae: 2.8129 - mse: 20.9473 - val_loss: 2.9152 - val_mae: 2.9152 - val_mse: 16.7665 - lr: 0.0030\n",
      "Epoch 20/100\n",
      "13/13 [==============================] - 0s 3ms/step - loss: 2.7087 - mae: 2.7087 - mse: 18.9860 - val_loss: 2.5683 - val_mae: 2.5683 - val_mse: 16.1265 - lr: 0.0030\n",
      "Epoch 21/100\n",
      "13/13 [==============================] - 0s 3ms/step - loss: 2.6777 - mae: 2.6777 - mse: 19.1677 - val_loss: 2.6265 - val_mae: 2.6265 - val_mse: 15.1358 - lr: 0.0030\n",
      "Epoch 22/100\n",
      "13/13 [==============================] - 0s 3ms/step - loss: 2.5672 - mae: 2.5672 - mse: 18.0339 - val_loss: 2.5846 - val_mae: 2.5846 - val_mse: 14.8639 - lr: 0.0030\n",
      "Epoch 23/100\n",
      "13/13 [==============================] - 0s 3ms/step - loss: 2.5668 - mae: 2.5668 - mse: 17.7898 - val_loss: 2.5068 - val_mae: 2.5068 - val_mse: 14.8880 - lr: 0.0030\n",
      "Epoch 24/100\n",
      "13/13 [==============================] - 0s 3ms/step - loss: 2.6601 - mae: 2.6601 - mse: 18.9565 - val_loss: 2.5751 - val_mae: 2.5751 - val_mse: 14.7834 - lr: 0.0030\n",
      "Epoch 25/100\n",
      "13/13 [==============================] - 0s 3ms/step - loss: 2.5614 - mae: 2.5614 - mse: 18.4076 - val_loss: 2.8079 - val_mae: 2.8079 - val_mse: 15.6351 - lr: 0.0030\n",
      "Epoch 26/100\n",
      "13/13 [==============================] - 0s 3ms/step - loss: 2.4927 - mae: 2.4927 - mse: 17.3230 - val_loss: 2.5067 - val_mae: 2.5067 - val_mse: 14.4123 - lr: 0.0030\n",
      "Epoch 27/100\n",
      "13/13 [==============================] - 0s 3ms/step - loss: 2.4607 - mae: 2.4607 - mse: 16.9465 - val_loss: 2.5164 - val_mae: 2.5164 - val_mse: 14.7756 - lr: 0.0030\n",
      "Epoch 28/100\n",
      "13/13 [==============================] - 0s 3ms/step - loss: 2.5005 - mae: 2.5005 - mse: 17.5394 - val_loss: 2.7087 - val_mae: 2.7087 - val_mse: 14.8613 - lr: 0.0030\n",
      "Epoch 29/100\n",
      "13/13 [==============================] - 0s 4ms/step - loss: 2.4149 - mae: 2.4149 - mse: 16.5859 - val_loss: 2.4733 - val_mae: 2.4733 - val_mse: 14.0021 - lr: 0.0030\n",
      "Epoch 30/100\n",
      "13/13 [==============================] - 0s 3ms/step - loss: 2.4064 - mae: 2.4064 - mse: 16.2204 - val_loss: 2.5727 - val_mae: 2.5727 - val_mse: 15.6971 - lr: 0.0030\n",
      "Epoch 31/100\n",
      "13/13 [==============================] - 0s 3ms/step - loss: 2.4761 - mae: 2.4761 - mse: 17.1613 - val_loss: 2.5183 - val_mae: 2.5183 - val_mse: 14.3396 - lr: 0.0030\n",
      "Epoch 32/100\n",
      "13/13 [==============================] - 0s 3ms/step - loss: 2.4180 - mae: 2.4180 - mse: 16.9967 - val_loss: 2.5913 - val_mae: 2.5913 - val_mse: 14.2300 - lr: 0.0030\n",
      "Epoch 33/100\n",
      "13/13 [==============================] - 0s 3ms/step - loss: 2.3484 - mae: 2.3484 - mse: 15.8920 - val_loss: 2.4895 - val_mae: 2.4895 - val_mse: 14.8585 - lr: 0.0030\n",
      "Epoch 34/100\n",
      "13/13 [==============================] - 0s 3ms/step - loss: 2.3962 - mae: 2.3962 - mse: 16.0846 - val_loss: 2.5184 - val_mae: 2.5184 - val_mse: 15.3748 - lr: 0.0030\n",
      "Epoch 35/100\n",
      "13/13 [==============================] - 0s 3ms/step - loss: 2.5947 - mae: 2.5947 - mse: 17.8317 - val_loss: 2.4293 - val_mae: 2.4293 - val_mse: 13.7101 - lr: 0.0030\n",
      "Epoch 36/100\n",
      "13/13 [==============================] - 0s 3ms/step - loss: 2.8855 - mae: 2.8855 - mse: 20.5144 - val_loss: 3.2988 - val_mae: 3.2988 - val_mse: 17.2966 - lr: 0.0030\n",
      "Epoch 37/100\n",
      "13/13 [==============================] - 0s 3ms/step - loss: 2.5145 - mae: 2.5145 - mse: 16.5765 - val_loss: 2.5180 - val_mae: 2.5180 - val_mse: 13.8297 - lr: 0.0030\n",
      "Epoch 38/100\n",
      "13/13 [==============================] - 0s 3ms/step - loss: 2.3119 - mae: 2.3119 - mse: 15.1087 - val_loss: 2.5609 - val_mae: 2.5609 - val_mse: 15.1580 - lr: 0.0030\n",
      "Epoch 39/100\n",
      "13/13 [==============================] - 0s 3ms/step - loss: 2.4629 - mae: 2.4629 - mse: 16.8275 - val_loss: 2.5039 - val_mae: 2.5039 - val_mse: 13.5868 - lr: 0.0030\n",
      "Epoch 40/100\n",
      "13/13 [==============================] - 0s 3ms/step - loss: 2.3712 - mae: 2.3712 - mse: 16.3513 - val_loss: 2.6574 - val_mae: 2.6574 - val_mse: 14.0982 - lr: 0.0030\n",
      "Epoch 41/100\n",
      "13/13 [==============================] - 0s 3ms/step - loss: 2.2880 - mae: 2.2880 - mse: 15.4595 - val_loss: 2.4741 - val_mae: 2.4741 - val_mse: 13.4364 - lr: 0.0030\n",
      "Epoch 42/100\n",
      "13/13 [==============================] - 0s 3ms/step - loss: 2.2500 - mae: 2.2500 - mse: 14.8239 - val_loss: 2.3984 - val_mae: 2.3984 - val_mse: 13.3045 - lr: 0.0030\n",
      "Epoch 43/100\n",
      "13/13 [==============================] - 0s 3ms/step - loss: 2.2776 - mae: 2.2776 - mse: 14.7029 - val_loss: 2.7706 - val_mae: 2.7706 - val_mse: 17.0917 - lr: 0.0030\n",
      "Epoch 44/100\n",
      "13/13 [==============================] - 0s 3ms/step - loss: 2.7979 - mae: 2.7979 - mse: 19.3686 - val_loss: 3.2143 - val_mae: 3.2143 - val_mse: 17.1069 - lr: 0.0030\n",
      "Epoch 45/100\n",
      "13/13 [==============================] - 0s 3ms/step - loss: 2.4356 - mae: 2.4356 - mse: 16.0605 - val_loss: 2.6591 - val_mae: 2.6591 - val_mse: 14.1736 - lr: 0.0030\n",
      "Epoch 46/100\n",
      "13/13 [==============================] - 0s 3ms/step - loss: 2.2634 - mae: 2.2634 - mse: 15.0149 - val_loss: 2.3783 - val_mae: 2.3783 - val_mse: 13.8630 - lr: 0.0030\n",
      "Epoch 47/100\n",
      "13/13 [==============================] - 0s 3ms/step - loss: 2.2916 - mae: 2.2916 - mse: 14.8536 - val_loss: 2.8497 - val_mae: 2.8497 - val_mse: 17.9581 - lr: 0.0030\n",
      "Epoch 48/100\n",
      "13/13 [==============================] - 0s 3ms/step - loss: 3.0171 - mae: 3.0171 - mse: 20.5934 - val_loss: 3.7947 - val_mae: 3.7947 - val_mse: 20.7680 - lr: 0.0030\n",
      "Epoch 49/100\n",
      "13/13 [==============================] - 0s 3ms/step - loss: 2.7037 - mae: 2.7037 - mse: 17.1070 - val_loss: 2.4354 - val_mae: 2.4354 - val_mse: 15.1595 - lr: 0.0030\n",
      "Epoch 50/100\n",
      "13/13 [==============================] - 0s 3ms/step - loss: 2.3594 - mae: 2.3594 - mse: 15.7878 - val_loss: 2.4445 - val_mae: 2.4445 - val_mse: 14.0740 - lr: 0.0030\n",
      "Epoch 51/100\n",
      "13/13 [==============================] - 0s 3ms/step - loss: 2.5332 - mae: 2.5332 - mse: 17.1718 - val_loss: 3.1037 - val_mae: 3.1037 - val_mse: 15.9662 - lr: 0.0030\n",
      "Epoch 52/100\n",
      "13/13 [==============================] - 0s 3ms/step - loss: 2.4658 - mae: 2.4658 - mse: 15.6339 - val_loss: 2.3715 - val_mae: 2.3715 - val_mse: 13.4498 - lr: 0.0030\n",
      "Epoch 53/100\n",
      "13/13 [==============================] - 0s 3ms/step - loss: 2.2249 - mae: 2.2249 - mse: 14.1372 - val_loss: 2.4980 - val_mae: 2.4980 - val_mse: 14.3687 - lr: 0.0030\n",
      "Epoch 54/100\n",
      "13/13 [==============================] - 0s 3ms/step - loss: 2.4314 - mae: 2.4314 - mse: 16.2198 - val_loss: 2.6342 - val_mae: 2.6342 - val_mse: 13.7867 - lr: 0.0030\n",
      "Epoch 55/100\n",
      "13/13 [==============================] - 0s 3ms/step - loss: 2.2601 - mae: 2.2601 - mse: 14.7060 - val_loss: 2.5738 - val_mae: 2.5738 - val_mse: 13.6767 - lr: 0.0030\n",
      "Epoch 56/100\n",
      "13/13 [==============================] - 0s 3ms/step - loss: 2.1969 - mae: 2.1969 - mse: 14.0324 - val_loss: 2.3531 - val_mae: 2.3531 - val_mse: 13.3635 - lr: 0.0030\n",
      "Epoch 57/100\n",
      "13/13 [==============================] - 0s 3ms/step - loss: 2.2628 - mae: 2.2628 - mse: 14.3664 - val_loss: 2.5224 - val_mae: 2.5224 - val_mse: 15.1366 - lr: 0.0030\n",
      "Epoch 58/100\n",
      "13/13 [==============================] - 0s 3ms/step - loss: 2.5217 - mae: 2.5217 - mse: 16.9573 - val_loss: 3.3901 - val_mae: 3.3901 - val_mse: 17.8114 - lr: 0.0030\n",
      "Epoch 59/100\n",
      "13/13 [==============================] - 0s 3ms/step - loss: 2.4244 - mae: 2.4244 - mse: 15.3667 - val_loss: 2.3391 - val_mae: 2.3391 - val_mse: 13.2131 - lr: 0.0030\n",
      "Epoch 60/100\n",
      "13/13 [==============================] - 0s 3ms/step - loss: 2.2140 - mae: 2.2140 - mse: 13.8950 - val_loss: 2.5861 - val_mae: 2.5861 - val_mse: 15.0051 - lr: 0.0030\n",
      "Epoch 61/100\n",
      "13/13 [==============================] - 0s 3ms/step - loss: 2.6595 - mae: 2.6595 - mse: 17.6994 - val_loss: 2.7512 - val_mae: 2.7512 - val_mse: 13.9941 - lr: 0.0030\n",
      "Epoch 62/100\n",
      "13/13 [==============================] - 0s 3ms/step - loss: 2.2151 - mae: 2.2151 - mse: 14.0276 - val_loss: 2.3694 - val_mae: 2.3694 - val_mse: 12.4863 - lr: 0.0030\n",
      "Epoch 63/100\n",
      "13/13 [==============================] - 0s 3ms/step - loss: 2.1520 - mae: 2.1520 - mse: 13.6515 - val_loss: 2.3210 - val_mae: 2.3210 - val_mse: 13.0438 - lr: 0.0030\n",
      "Epoch 64/100\n",
      "13/13 [==============================] - 0s 3ms/step - loss: 2.3145 - mae: 2.3145 - mse: 14.8984 - val_loss: 2.3013 - val_mae: 2.3013 - val_mse: 12.2348 - lr: 0.0030\n",
      "Epoch 65/100\n",
      "13/13 [==============================] - 0s 3ms/step - loss: 2.2348 - mae: 2.2348 - mse: 14.5889 - val_loss: 2.5144 - val_mae: 2.5144 - val_mse: 12.4511 - lr: 0.0030\n",
      "Epoch 66/100\n",
      "13/13 [==============================] - 0s 3ms/step - loss: 2.1660 - mae: 2.1660 - mse: 14.0132 - val_loss: 2.4372 - val_mae: 2.4372 - val_mse: 12.4001 - lr: 0.0030\n",
      "Epoch 67/100\n",
      "13/13 [==============================] - 0s 3ms/step - loss: 2.0910 - mae: 2.0910 - mse: 13.5198 - val_loss: 2.2971 - val_mae: 2.2971 - val_mse: 12.5051 - lr: 0.0030\n",
      "Epoch 68/100\n",
      "13/13 [==============================] - 0s 3ms/step - loss: 2.0725 - mae: 2.0725 - mse: 13.1828 - val_loss: 2.3784 - val_mae: 2.3784 - val_mse: 13.7255 - lr: 0.0030\n",
      "Epoch 69/100\n",
      "13/13 [==============================] - 0s 3ms/step - loss: 2.1596 - mae: 2.1596 - mse: 13.5964 - val_loss: 2.6697 - val_mae: 2.6697 - val_mse: 15.7845 - lr: 0.0030\n",
      "Epoch 70/100\n",
      "13/13 [==============================] - 0s 3ms/step - loss: 2.5858 - mae: 2.5858 - mse: 17.1831 - val_loss: 2.9332 - val_mae: 2.9332 - val_mse: 14.6579 - lr: 0.0030\n",
      "Epoch 71/100\n",
      "13/13 [==============================] - 0s 3ms/step - loss: 2.1797 - mae: 2.1797 - mse: 13.9922 - val_loss: 2.5395 - val_mae: 2.5395 - val_mse: 12.9047 - lr: 0.0030\n",
      "Epoch 72/100\n",
      "13/13 [==============================] - 0s 3ms/step - loss: 2.1182 - mae: 2.1182 - mse: 13.4207 - val_loss: 2.4010 - val_mae: 2.4010 - val_mse: 12.4048 - lr: 0.0030\n",
      "Epoch 73/100\n",
      "13/13 [==============================] - 0s 3ms/step - loss: 2.0563 - mae: 2.0563 - mse: 12.9033 - val_loss: 2.2920 - val_mae: 2.2920 - val_mse: 12.3857 - lr: 0.0030\n",
      "Epoch 74/100\n",
      "13/13 [==============================] - 0s 3ms/step - loss: 2.0540 - mae: 2.0540 - mse: 13.0273 - val_loss: 2.5172 - val_mae: 2.5172 - val_mse: 14.4632 - lr: 0.0030\n",
      "Epoch 75/100\n",
      "13/13 [==============================] - 0s 3ms/step - loss: 2.3556 - mae: 2.3556 - mse: 14.7713 - val_loss: 2.3915 - val_mae: 2.3915 - val_mse: 12.2162 - lr: 0.0030\n",
      "Epoch 76/100\n",
      "13/13 [==============================] - 0s 3ms/step - loss: 2.1985 - mae: 2.1985 - mse: 14.1699 - val_loss: 2.5217 - val_mae: 2.5217 - val_mse: 12.8383 - lr: 0.0030\n",
      "Epoch 77/100\n",
      "13/13 [==============================] - 0s 3ms/step - loss: 2.0943 - mae: 2.0943 - mse: 13.3823 - val_loss: 2.3106 - val_mae: 2.3106 - val_mse: 11.9728 - lr: 0.0030\n",
      "Epoch 78/100\n",
      "13/13 [==============================] - 0s 3ms/step - loss: 2.0187 - mae: 2.0187 - mse: 12.7851 - val_loss: 2.2627 - val_mae: 2.2627 - val_mse: 12.1337 - lr: 0.0030\n",
      "Epoch 79/100\n",
      "13/13 [==============================] - 0s 3ms/step - loss: 2.0341 - mae: 2.0341 - mse: 12.9569 - val_loss: 2.5039 - val_mae: 2.5039 - val_mse: 14.4174 - lr: 0.0030\n",
      "Epoch 80/100\n",
      "13/13 [==============================] - 0s 3ms/step - loss: 2.4198 - mae: 2.4198 - mse: 15.2907 - val_loss: 2.3758 - val_mae: 2.3758 - val_mse: 12.0026 - lr: 0.0030\n",
      "Epoch 81/100\n",
      "13/13 [==============================] - 0s 3ms/step - loss: 2.1046 - mae: 2.1046 - mse: 13.5878 - val_loss: 2.5164 - val_mae: 2.5164 - val_mse: 12.4648 - lr: 0.0030\n",
      "Epoch 82/100\n",
      "13/13 [==============================] - 0s 3ms/step - loss: 2.0364 - mae: 2.0364 - mse: 12.7858 - val_loss: 2.3528 - val_mae: 2.3528 - val_mse: 12.1109 - lr: 0.0030\n",
      "Epoch 83/100\n",
      "13/13 [==============================] - 0s 3ms/step - loss: 2.0024 - mae: 2.0024 - mse: 12.8634 - val_loss: 2.3614 - val_mae: 2.3614 - val_mse: 12.0920 - lr: 0.0030\n",
      "Epoch 84/100\n",
      "13/13 [==============================] - 0s 3ms/step - loss: 2.0276 - mae: 2.0276 - mse: 12.5292 - val_loss: 2.2863 - val_mae: 2.2863 - val_mse: 11.7180 - lr: 0.0030\n",
      "Epoch 85/100\n",
      "13/13 [==============================] - 0s 3ms/step - loss: 2.0561 - mae: 2.0561 - mse: 12.5795 - val_loss: 2.4672 - val_mae: 2.4672 - val_mse: 13.9232 - lr: 0.0030\n",
      "Epoch 86/100\n",
      "13/13 [==============================] - 0s 3ms/step - loss: 2.3786 - mae: 2.3786 - mse: 15.0689 - val_loss: 2.3076 - val_mae: 2.3076 - val_mse: 11.6913 - lr: 0.0030\n",
      "Epoch 87/100\n",
      "13/13 [==============================] - 0s 3ms/step - loss: 2.1832 - mae: 2.1832 - mse: 13.9867 - val_loss: 2.3178 - val_mae: 2.3178 - val_mse: 12.0720 - lr: 0.0030\n",
      "Epoch 88/100\n",
      "13/13 [==============================] - 0s 3ms/step - loss: 2.0472 - mae: 2.0472 - mse: 13.1175 - val_loss: 2.3862 - val_mae: 2.3862 - val_mse: 11.9499 - lr: 0.0030\n",
      "Epoch 89/100\n",
      "13/13 [==============================] - 0s 3ms/step - loss: 1.9624 - mae: 1.9624 - mse: 12.3742 - val_loss: 2.3644 - val_mae: 2.3644 - val_mse: 11.8795 - lr: 3.0000e-04\n",
      "Epoch 90/100\n",
      "13/13 [==============================] - 0s 3ms/step - loss: 1.9489 - mae: 1.9489 - mse: 12.3116 - val_loss: 2.3528 - val_mae: 2.3528 - val_mse: 11.8112 - lr: 3.0000e-04\n",
      "Epoch 91/100\n",
      "13/13 [==============================] - 0s 3ms/step - loss: 1.9399 - mae: 1.9399 - mse: 12.2737 - val_loss: 2.3487 - val_mae: 2.3487 - val_mse: 11.8040 - lr: 3.0000e-04\n",
      "Epoch 92/100\n",
      "13/13 [==============================] - 0s 3ms/step - loss: 1.9334 - mae: 1.9334 - mse: 12.2220 - val_loss: 2.3607 - val_mae: 2.3607 - val_mse: 11.8059 - lr: 3.0000e-04\n",
      "Epoch 93/100\n",
      "13/13 [==============================] - 0s 3ms/step - loss: 1.9287 - mae: 1.9287 - mse: 12.2044 - val_loss: 2.3505 - val_mae: 2.3505 - val_mse: 11.7587 - lr: 3.0000e-04\n",
      "Epoch 94/100\n",
      "13/13 [==============================] - 0s 3ms/step - loss: 1.9209 - mae: 1.9209 - mse: 12.1301 - val_loss: 2.3340 - val_mae: 2.3340 - val_mse: 11.7482 - lr: 3.0000e-04\n",
      "Epoch 95/100\n",
      "13/13 [==============================] - 0s 3ms/step - loss: 1.9184 - mae: 1.9184 - mse: 12.1148 - val_loss: 2.3487 - val_mae: 2.3487 - val_mse: 11.7917 - lr: 3.0000e-04\n",
      "Epoch 96/100\n",
      "13/13 [==============================] - 0s 3ms/step - loss: 1.9147 - mae: 1.9147 - mse: 12.0702 - val_loss: 2.3341 - val_mae: 2.3341 - val_mse: 11.7463 - lr: 3.0000e-04\n",
      "Epoch 97/100\n",
      "13/13 [==============================] - 0s 3ms/step - loss: 1.9195 - mae: 1.9195 - mse: 12.1182 - val_loss: 2.3515 - val_mae: 2.3515 - val_mse: 11.7464 - lr: 3.0000e-04\n",
      "Epoch 98/100\n",
      "13/13 [==============================] - 0s 3ms/step - loss: 1.9219 - mae: 1.9219 - mse: 12.1624 - val_loss: 2.3701 - val_mae: 2.3701 - val_mse: 11.7322 - lr: 3.0000e-04\n",
      "Epoch 99/100\n",
      "13/13 [==============================] - 0s 3ms/step - loss: 1.9137 - mae: 1.9137 - mse: 11.8898 - val_loss: 2.3390 - val_mae: 2.3390 - val_mse: 11.6752 - lr: 3.0000e-05\n",
      "Epoch 100/100\n",
      "13/13 [==============================] - 0s 3ms/step - loss: 1.9076 - mae: 1.9076 - mse: 11.9812 - val_loss: 2.3167 - val_mae: 2.3167 - val_mse: 11.6618 - lr: 3.0000e-05\n"
     ]
    }
   ],
   "source": [
    "tf.keras.utils.set_random_seed(RANDOM_SEED)\n",
    "\n",
    "# Build Model\n",
    "inputs = tf.keras.layers.Input(shape=(INPUT_SIZE,))\n",
    "\n",
    "x = inputs\n",
    "for _ in range(NUM_HIDDEN_LAYERS_2):\n",
    "    x = tfmot.sparsity.keras.prune_low_magnitude(tf.keras.layers.Dense(NUM_NEURONS_PER_HIDDEN_2, activation='relu'))(x)\n",
    "\n",
    "outputs = tf.keras.layers.Dense(OUTPUT_SIZE, activation='relu')(x)\n",
    "\n",
    "model_6 = tf.keras.models.Model(inputs, outputs, name=model_6_name)\n",
    "\n",
    "# Compile Model\n",
    "model_6.compile(loss='mae',\n",
    "                optimizer=tf.keras.optimizers.legacy.Adam(learning_rate=OPTIMIZED_INITIAL_LEARNING_RATE),\n",
    "                metrics=['mae', 'mse'])\n",
    "\n",
    "# Fit Model\n",
    "learning_rate_plateau_callback = tf.keras.callbacks.ReduceLROnPlateau(min_lr=1e-5)\n",
    "model_6_history = model_6.fit(train_dataset,\n",
    "                              validation_data=test_dataset,\n",
    "                              epochs=EPOCHS,\n",
    "                              callbacks=[\n",
    "                                  learning_rate_plateau_callback,\n",
    "                                  tfmot.sparsity.keras.UpdatePruningStep(),\n",
    "                                  tfmot.sparsity.keras.PruningSummaries(log_dir='./logs/pruning/'),\n",
    "                              ])"
   ]
  },
  {
   "cell_type": "code",
   "execution_count": 60,
   "id": "614e10c4-2628-4822-8fc7-5394d466af0e",
   "metadata": {},
   "outputs": [
    {
     "data": {
      "image/png": "[encoded data removed]",
      "text/plain": [
       "<Figure size 640x480 with 1 Axes>"
      ]
     },
     "metadata": {},
     "output_type": "display_data"
    }
   ],
   "source": [
    "ml_toolbox.analysis.history.plot_history(model_6_history, 'mae')"
   ]
  },
  {
   "cell_type": "code",
   "execution_count": 61,
   "id": "9f09550b-ba4a-4cac-bb19-5da43c70112b",
   "metadata": {},
   "outputs": [
    {
     "name": "stdout",
     "output_type": "stream",
     "text": [
      "4/4 [==============================] - 0s 852us/step\n"
     ]
    },
    {
     "data": {
      "text/plain": [
       "RegressionPredictionMetrics(mae=2.3166783, mse=11.661828, rmse=3.4149418, mape=11.103387, mase=0.24169455, huber=1.8651465, name='model_6_pruned_dnn_opt')"
      ]
     },
     "execution_count": 61,
     "metadata": {},
     "output_type": "execute_result"
    }
   ],
   "source": [
    "model_6_preds = model_6.predict(test_dataset)\n",
    "\n",
    "model_6_results = ml_toolbox.analysis.regression.generate_prediction_metrics(y_test, tf.squeeze(model_6_preds), model_6_name)\n",
    "model_6_results"
   ]
  },
  {
   "cell_type": "markdown",
   "id": "183a86db-c747-472f-8745-a22729ed5d10",
   "metadata": {
    "jp-MarkdownHeadingCollapsed": true
   },
   "source": [
    "## Analysis"
   ]
  },
  {
   "cell_type": "markdown",
   "id": "aafdacd3-e819-4ad7-a8c5-aea2f80a79d1",
   "metadata": {
    "jp-MarkdownHeadingCollapsed": true
   },
   "source": [
    "### Model Comparison"
   ]
  },
  {
   "cell_type": "code",
   "execution_count": 57,
   "id": "c31965fa-3b37-43af-8a4c-8c4d4f7ae31e",
   "metadata": {},
   "outputs": [
    {
     "data": {
      "text/html": [
       "<div>\n",
       "<style scoped>\n",
       "    .dataframe tbody tr th:only-of-type {\n",
       "        vertical-align: middle;\n",
       "    }\n",
       "\n",
       "    .dataframe tbody tr th {\n",
       "        vertical-align: top;\n",
       "    }\n",
       "\n",
       "    .dataframe thead th {\n",
       "        text-align: right;\n",
       "    }\n",
       "</style>\n",
       "<table border=\"1\" class=\"dataframe\">\n",
       "  <thead>\n",
       "    <tr style=\"text-align: right;\">\n",
       "      <th></th>\n",
       "      <th>mae</th>\n",
       "      <th>mse</th>\n",
       "      <th>rmse</th>\n",
       "      <th>mape</th>\n",
       "      <th>mase</th>\n",
       "      <th>huber</th>\n",
       "    </tr>\n",
       "  </thead>\n",
       "  <tbody>\n",
       "    <tr>\n",
       "      <th>model_0_simple</th>\n",
       "      <td>4.285635</td>\n",
       "      <td>40.747131</td>\n",
       "      <td>6.383348</td>\n",
       "      <td>17.530329</td>\n",
       "      <td>0.447112</td>\n",
       "      <td>3.816541</td>\n",
       "    </tr>\n",
       "    <tr>\n",
       "      <th>model_1_single_hidden_relu</th>\n",
       "      <td>4.823767</td>\n",
       "      <td>52.500267</td>\n",
       "      <td>7.245707</td>\n",
       "      <td>19.291233</td>\n",
       "      <td>0.503254</td>\n",
       "      <td>4.363771</td>\n",
       "    </tr>\n",
       "    <tr>\n",
       "      <th>model_2_deep_net</th>\n",
       "      <td>2.600976</td>\n",
       "      <td>15.603518</td>\n",
       "      <td>3.950129</td>\n",
       "      <td>11.599134</td>\n",
       "      <td>0.271355</td>\n",
       "      <td>2.165684</td>\n",
       "    </tr>\n",
       "    <tr>\n",
       "      <th>model_3_skip_nn</th>\n",
       "      <td>2.558352</td>\n",
       "      <td>12.519767</td>\n",
       "      <td>3.538328</td>\n",
       "      <td>11.712883</td>\n",
       "      <td>0.266908</td>\n",
       "      <td>2.107871</td>\n",
       "    </tr>\n",
       "    <tr>\n",
       "      <th>model_4_pruned_dnn</th>\n",
       "      <td>2.457524</td>\n",
       "      <td>13.989126</td>\n",
       "      <td>3.740204</td>\n",
       "      <td>10.972673</td>\n",
       "      <td>0.256389</td>\n",
       "      <td>2.006726</td>\n",
       "    </tr>\n",
       "    <tr>\n",
       "      <th>model_6_pruned_dnn_opt</th>\n",
       "      <td>2.316678</td>\n",
       "      <td>11.661828</td>\n",
       "      <td>3.414942</td>\n",
       "      <td>11.103387</td>\n",
       "      <td>0.241695</td>\n",
       "      <td>1.865147</td>\n",
       "    </tr>\n",
       "  </tbody>\n",
       "</table>\n",
       "</div>"
      ],
      "text/plain": [
       "                                 mae        mse      rmse       mape  \\\n",
       "model_0_simple              4.285635  40.747131  6.383348  17.530329   \n",
       "model_1_single_hidden_relu  4.823767  52.500267  7.245707  19.291233   \n",
       "model_2_deep_net            2.600976  15.603518  3.950129  11.599134   \n",
       "model_3_skip_nn             2.558352  12.519767  3.538328  11.712883   \n",
       "model_4_pruned_dnn          2.457524  13.989126  3.740204  10.972673   \n",
       "model_6_pruned_dnn_opt      2.316678  11.661828  3.414942  11.103387   \n",
       "\n",
       "                                mase     huber  \n",
       "model_0_simple              0.447112  3.816541  \n",
       "model_1_single_hidden_relu  0.503254  4.363771  \n",
       "model_2_deep_net            0.271355  2.165684  \n",
       "model_3_skip_nn             0.266908  2.107871  \n",
       "model_4_pruned_dnn          0.256389  2.006726  \n",
       "model_6_pruned_dnn_opt      0.241695  1.865147  "
      ]
     },
     "execution_count": 57,
     "metadata": {},
     "output_type": "execute_result"
    }
   ],
   "source": [
    "all_results = [\n",
    "    model_0_results,\n",
    "    model_1_results,\n",
    "    model_2_results,\n",
    "    model_3_results,\n",
    "    model_4_results,\n",
    "    model_6_results,\n",
    "]\n",
    "\n",
    "all_results_df = ml_toolbox.analysis.regression.generate_prediction_metrics_dataframe(all_results)\n",
    "all_results_df"
   ]
  },
  {
   "cell_type": "code",
   "execution_count": 58,
   "id": "a2483ec9-6a9c-4554-b0d7-894344f6d5cc",
   "metadata": {},
   "outputs": [
    {
     "data": {
      "text/plain": [
       "<Axes: >"
      ]
     },
     "execution_count": 58,
     "metadata": {},
     "output_type": "execute_result"
    },
    {
     "data": {
      "image/png": "[encoded data removed]",
      "text/plain": [
       "<Figure size 640x480 with 1 Axes>"
      ]
     },
     "metadata": {},
     "output_type": "display_data"
    }
   ],
   "source": [
    "all_results_df['mae'].sort_values().plot(kind='bar')"
   ]
  },
  {
   "cell_type": "markdown",
   "id": "67d3411e-9d13-44b8-8b90-c1ace2f4c2c9",
   "metadata": {},
   "source": [
    "### Findings\n",
    "\n",
    "After comparing each model, it appears that model_4 resulted in the lowest `MAE`."
   ]
  },
  {
   "cell_type": "markdown",
   "id": "5b671314-675e-47e6-ab09-aa25be04630f",
   "metadata": {
    "jp-MarkdownHeadingCollapsed": true
   },
   "source": [
    "### Export"
   ]
  },
  {
   "cell_type": "code",
   "execution_count": 156,
   "id": "c69296b7-df1c-4749-a585-fc6a463adb73",
   "metadata": {},
   "outputs": [
    {
     "name": "stdout",
     "output_type": "stream",
     "text": [
      "INFO:root:Original Model Evaluation Metrics: [2.3394529819488525, 2.3394529819488525, 12.509822845458984]\n",
      "INFO:root:Model Metrics to Compare: ['loss', 'mae', 'mse']\n",
      "INFO:root:Saving Model to: ./models/model_4_pruned_dnn.h5\n",
      "WARNING:tensorflow:Compiled the loaded model, but the compiled metrics have yet to be built. `model.compile_metrics` will be empty until you train or evaluate the model.\n",
      "WARNING:tensorflow:Compiled the loaded model, but the compiled metrics have yet to be built. `model.compile_metrics` will be empty until you train or evaluate the model.\n",
      "INFO:root:Loading Model from: ./models/model_4_pruned_dnn.h5\n",
      "WARNING:tensorflow:No training configuration found in the save file, so the model was *not* compiled. Compile it manually.\n",
      "WARNING:tensorflow:No training configuration found in the save file, so the model was *not* compiled. Compile it manually.\n"
     ]
    },
    {
     "name": "stderr",
     "output_type": "stream",
     "text": [
      "/Users/brandonkubick/Code/deep-learning-development/env/lib/python3.9/site-packages/keras/src/engine/training.py:3000: UserWarning: You are saving your model as an HDF5 file via `model.save()`. This file format is considered legacy. We recommend using instead the native Keras format, e.g. `model.save('my_model.keras')`.\n",
      "  saving_api.save_model(\n"
     ]
    },
    {
     "name": "stdout",
     "output_type": "stream",
     "text": [
      "INFO:root:Loaded Model Evaluation Metrics: [2.3394529819488525, 2.3394529819488525, 12.509822845458984]\n"
     ]
    },
    {
     "data": {
      "text/plain": [
       "True"
      ]
     },
     "execution_count": 156,
     "metadata": {},
     "output_type": "execute_result"
    }
   ],
   "source": [
    "ml_toolbox.analysis.model.export_and_verify_model(model_4,\n",
    "                                                  test_dataset,\n",
    "                                                  'mae',\n",
    "                                                  strip_pruning=True,\n",
    "                                                  file_type='h5')"
   ]
  }
 ],
 "metadata": {
  "kernelspec": {
   "display_name": "Python 3 (ipykernel)",
   "language": "python",
   "name": "python3"
  },
  "language_info": {
   "codemirror_mode": {
    "name": "ipython",
    "version": 3
   },
   "file_extension": ".py",
   "mimetype": "text/x-python",
   "name": "python",
   "nbconvert_exporter": "python",
   "pygments_lexer": "ipython3",
   "version": "3.9.6"
  }
 },
 "nbformat": 4,
 "nbformat_minor": 5
}
