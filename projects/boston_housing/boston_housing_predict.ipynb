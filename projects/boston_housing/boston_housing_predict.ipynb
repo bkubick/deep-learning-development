{
 "cells": [
  {
   "cell_type": "markdown",
   "id": "cb3942f7-4a14-4327-a80b-8b8805a83788",
   "metadata": {},
   "source": [
    "# Boston Housing Predict\n",
    "\n",
    "For this notebook, I am going to build and test data from the Boston Housing dataset on Kaggle.\n",
    "\n",
    "* https://www.kaggle.com/code/prasadperera/the-boston-housing-dataset\n",
    "\n",
    "The purpose of the Boston Housing dataset is to utilize a regression model to predict the median value for houses in Boston."
   ]
  },
  {
   "cell_type": "markdown",
   "id": "5e152c9c-b226-401f-861a-4f7eebee6a6d",
   "metadata": {
    "jp-MarkdownHeadingCollapsed": true
   },
   "source": [
    "## Setup\n",
    "\n",
    "Need to figure out if I'm on google colab or on local. This will determine which commands need to be ran and how to setup the CPU/GPU being used.\n",
    "\n",
    "Additionally, if on google colab, then I will need to install my personal repository, [py-learning-toolbox](https://github.com/bkubick/py-learning-toolbox) as a package."
   ]
  },
  {
   "cell_type": "code",
   "execution_count": 1,
   "id": "b3326082-cb56-4d70-a76a-c50841b12f77",
   "metadata": {
    "ExecuteTime": {
     "end_time": "2023-10-06T23:54:52.851300Z",
     "start_time": "2023-10-06T23:54:52.808178Z"
    }
   },
   "outputs": [
    {
     "data": {
      "text/plain": "False"
     },
     "execution_count": 1,
     "metadata": {},
     "output_type": "execute_result"
    }
   ],
   "source": [
    "# Determining if on google colab\n",
    "try:\n",
    "  from google import colab\n",
    "  on_colab = True\n",
    "except Exception:\n",
    "  on_colab = False\n",
    "\n",
    "on_colab"
   ]
  },
  {
   "cell_type": "code",
   "execution_count": 2,
   "id": "95b288ab-c701-4ca5-92a3-40b7a5847d73",
   "metadata": {
    "ExecuteTime": {
     "end_time": "2023-10-06T23:54:52.851722Z",
     "start_time": "2023-10-06T23:54:52.813273Z"
    }
   },
   "outputs": [],
   "source": [
    "# Installing my personal repo that contains all my utils as a package\n",
    "if on_colab:\n",
    "  !nvidia-smi -L\n",
    "  !pip install py-learning-toolbox@git+https://github.com/bkubick/py-learning-toolbox.git\n",
    "  !pltb_setup_project ."
   ]
  },
  {
   "cell_type": "markdown",
   "id": "4d00a000-7f51-4e9e-824b-13f90cef0c82",
   "metadata": {
    "jp-MarkdownHeadingCollapsed": true
   },
   "source": [
    "## Imports"
   ]
  },
  {
   "cell_type": "code",
   "execution_count": 3,
   "id": "1403b3c8-efd6-4e3d-a233-52823cd7851f",
   "metadata": {
    "ExecuteTime": {
     "end_time": "2023-10-06T23:54:58.800696Z",
     "start_time": "2023-10-06T23:54:52.815721Z"
    }
   },
   "outputs": [],
   "source": [
    "import datetime\n",
    "import logging\n",
    "import random\n",
    "import sys\n",
    "import typing\n",
    "\n",
    "import matplotlib.pyplot as plt\n",
    "import numpy as np\n",
    "import pandas as pd\n",
    "from py_learning_toolbox import data_toolbox\n",
    "from py_learning_toolbox import ml_toolbox\n",
    "from sklearn.preprocessing import MinMaxScaler\n",
    "import tensorflow as tf"
   ]
  },
  {
   "cell_type": "markdown",
   "id": "85a414af-a780-4b21-bbd7-f4f6daf5ebc6",
   "metadata": {
    "jp-MarkdownHeadingCollapsed": true
   },
   "source": [
    "## Environment\n",
    "\n",
    "Setting up the environment and analyzing the various information associated with this notebook."
   ]
  },
  {
   "cell_type": "code",
   "execution_count": 4,
   "id": "7ba9040c-d52c-4864-bf68-674fea9d82e1",
   "metadata": {
    "ExecuteTime": {
     "end_time": "2023-10-06T23:54:58.805335Z",
     "start_time": "2023-10-06T23:54:58.802049Z"
    }
   },
   "outputs": [
    {
     "name": "stdout",
     "output_type": "stream",
     "text": [
      "Notebook last run (end-to-end): 2023-10-06 18:54:58.800807\n"
     ]
    }
   ],
   "source": [
    "print(f'Notebook last run (end-to-end): {datetime.datetime.now()}')"
   ]
  },
  {
   "cell_type": "code",
   "execution_count": 5,
   "id": "8d17c936-7b60-4cb8-a219-ff1224b684d0",
   "metadata": {
    "ExecuteTime": {
     "end_time": "2023-10-06T23:54:58.810952Z",
     "start_time": "2023-10-06T23:54:58.805021Z"
    }
   },
   "outputs": [
    {
     "data": {
      "text/plain": "'2.13.0'"
     },
     "execution_count": 5,
     "metadata": {},
     "output_type": "execute_result"
    }
   ],
   "source": [
    "tf.__version__"
   ]
  },
  {
   "cell_type": "code",
   "execution_count": 6,
   "id": "0215ddd3-b97e-4e1a-9e46-d97d4bc8f83b",
   "metadata": {
    "ExecuteTime": {
     "end_time": "2023-10-06T23:54:58.819885Z",
     "start_time": "2023-10-06T23:54:58.809342Z"
    }
   },
   "outputs": [
    {
     "data": {
      "text/plain": "[PhysicalDevice(name='/physical_device:CPU:0', device_type='CPU')]"
     },
     "execution_count": 6,
     "metadata": {},
     "output_type": "execute_result"
    }
   ],
   "source": [
    "tf.config.list_physical_devices()"
   ]
  },
  {
   "cell_type": "code",
   "execution_count": 7,
   "id": "955e3765-42be-4a47-b011-4bb600134d12",
   "metadata": {
    "ExecuteTime": {
     "end_time": "2023-10-06T23:54:58.821269Z",
     "start_time": "2023-10-06T23:54:58.812543Z"
    }
   },
   "outputs": [],
   "source": [
    "# Setting up logging\n",
    "logging.basicConfig(stream=sys.stdout, level=logging.INFO)"
   ]
  },
  {
   "cell_type": "markdown",
   "id": "c9fd6c7c-0dec-49b3-bfc0-fc26d977ef20",
   "metadata": {
    "jp-MarkdownHeadingCollapsed": true
   },
   "source": [
    "## Global Constants"
   ]
  },
  {
   "cell_type": "code",
   "execution_count": 8,
   "id": "e4034991-58be-429f-9f3e-c7ef5bafd070",
   "metadata": {
    "ExecuteTime": {
     "end_time": "2023-10-06T23:54:58.821396Z",
     "start_time": "2023-10-06T23:54:58.814551Z"
    }
   },
   "outputs": [],
   "source": [
    "RANDOM_SEED = 27"
   ]
  },
  {
   "cell_type": "markdown",
   "id": "26e969fc-a1d4-4366-b66c-718a4ebfd3e1",
   "metadata": {
    "jp-MarkdownHeadingCollapsed": true
   },
   "source": [
    "## Helpers \n",
    "Defining helper functions to split certain functionality out of tasks."
   ]
  },
  {
   "cell_type": "code",
   "execution_count": 54,
   "id": "f13d2992-eaca-4468-ac00-78454a0232cc",
   "metadata": {
    "ExecuteTime": {
     "end_time": "2023-10-07T01:10:18.353998Z",
     "start_time": "2023-10-07T01:10:18.346424Z"
    }
   },
   "outputs": [],
   "source": [
    "ActivationType = typing.Union[str, typing.Callable[[tf.Tensor], tf.Tensor]]\n",
    "\n",
    "class SkipConnectionDenseLayer(tf.keras.layers.Layer):\n",
    "\n",
    "    def __init__(self,\n",
    "                 units: int = 32,\n",
    "                 hidden_layers: int = 1,\n",
    "                 activation: typing.Optional[ActivationType] = None,\n",
    "                 *args,\n",
    "                 **kwargs):\n",
    "        \"\"\" Skip connection dense layer.\n",
    "\n",
    "            Args:\n",
    "                units (int): the number of units in the layer.\n",
    "                hidden_layers (int): the number of hidden layers in the layer.\n",
    "                activation (Optional[ActivationType]): the activation function to use.\n",
    "        \"\"\"\n",
    "        super().__init__(*args, **kwargs)\n",
    "        activation = activation or 'relu'\n",
    "        self.hidden_layers = [tf.keras.layers.Dense(units, activation=activation) for _ in range(hidden_layers)]\n",
    "        self.sum_layer = tf.keras.layers.Add()\n",
    "\n",
    "    def call(self, inputs: tf.Tensor, *args, **kwargs) -> tf.Tensor:\n",
    "        \"\"\" Forward pass of the layer.\n",
    "\n",
    "            Args:\n",
    "                inputs (tf.Tensor): the input tensor to the layer.\n",
    "\n",
    "            Returns:\n",
    "                (tf.Tensor) the output of the layer.\n",
    "        \"\"\"\n",
    "        x = inputs\n",
    "        for layer in self.hidden_layers:\n",
    "            x = layer(x)\n",
    "        x = self.sum_layer([inputs, x])\n",
    "        return x\n"
   ]
  },
  {
   "cell_type": "markdown",
   "id": "5a615f97-da72-4768-b20c-95f3fb1abbb8",
   "metadata": {
    "jp-MarkdownHeadingCollapsed": true
   },
   "source": [
    "## Downloading, Analyzing, & Creating Datasets\n",
    "\n",
    "The data used in the paper is publicly available through the TensorFlow API directly.\n",
    "\n",
    "* https://www.tensorflow.org/api_docs/python/tf/keras/datasets/boston_housing\n",
    "* http://lib.stat.cmu.edu/datasets/boston\n",
    "\n",
    "Features:\n",
    "* CRIM     per capita crime rate by town\n",
    "* ZN       proportion of residential land zoned for lots over 25,000 sq.ft.\n",
    "* INDUS    proportion of non-retail business acres per town\n",
    "* CHAS     Charles River dummy variable (= 1 if tract bounds river; 0 otherwise)\n",
    "* NOX      nitric oxides concentration (parts per 10 million)\n",
    "* RM       average number of rooms per dwelling\n",
    "* AGE      proportion of owner-occupied units built prior to 1940\n",
    "* DIS      weighted distances to five Boston employment centres\n",
    "* RAD      index of accessibility to radial highways\n",
    "* TAX      full-value property-tax rate per \\$10,000\n",
    "* PTRATIO  pupil-teacher ratio by town\n",
    "* B        1000(Bk - 0.63)^2 where Bk is the proportion of blacks by town\n",
    "* LSTAT    % lower status of the population\n",
    "* MEDV     Median value of owner-occupied homes in \\$1000's"
   ]
  },
  {
   "cell_type": "markdown",
   "id": "30be742c-777f-49f7-a615-bb4835aa462b",
   "metadata": {
    "jp-MarkdownHeadingCollapsed": true
   },
   "source": [
    "### Data Constants"
   ]
  },
  {
   "cell_type": "code",
   "execution_count": 11,
   "id": "a2d5031a-c0d9-40d3-ac2c-3b99f357757a",
   "metadata": {
    "ExecuteTime": {
     "end_time": "2023-10-07T00:19:43.174202Z",
     "start_time": "2023-10-07T00:19:43.158875Z"
    }
   },
   "outputs": [],
   "source": [
    "# Constants\n",
    "TEST_SPLIT = 0.2\n",
    "\n",
    "VARIABLE_NAMES = [\n",
    "    'CRIM',\n",
    "    'ZN',\n",
    "    'INDUS',\n",
    "    'CHAS',\n",
    "    'NOX',\n",
    "    'RM',\n",
    "    'AGE',\n",
    "    'DIS',\n",
    "    'RAD',\n",
    "    'TAX',\n",
    "    'PTRATIO',\n",
    "    'B',\n",
    "    'LSTAT',\n",
    "    'MEDV',\n",
    "]"
   ]
  },
  {
   "cell_type": "markdown",
   "id": "b284d714-2ed7-48cd-a43f-6e9687c2657f",
   "metadata": {
    "jp-MarkdownHeadingCollapsed": true
   },
   "source": [
    "### Download & Split Data"
   ]
  },
  {
   "cell_type": "code",
   "execution_count": 12,
   "id": "fe067950-ee1f-4bcc-bef1-961d36cf374d",
   "metadata": {
    "ExecuteTime": {
     "end_time": "2023-10-07T00:19:47.414168Z",
     "start_time": "2023-10-07T00:19:47.364164Z"
    }
   },
   "outputs": [
    {
     "data": {
      "text/plain": "(404, 404, 102, 102)"
     },
     "execution_count": 12,
     "metadata": {},
     "output_type": "execute_result"
    }
   ],
   "source": [
    "(X_train, y_train), (X_test, y_test) = tf.keras.datasets.boston_housing.load_data(\n",
    "    path='boston_housing.npz', test_split=TEST_SPLIT, seed=RANDOM_SEED)\n",
    "\n",
    "len(X_train), len(y_train), len(X_test), len(y_test)"
   ]
  },
  {
   "cell_type": "markdown",
   "id": "7c20177d-9a94-420d-ae20-982c05cd1470",
   "metadata": {
    "jp-MarkdownHeadingCollapsed": true
   },
   "source": [
    "### Analyze Data"
   ]
  },
  {
   "cell_type": "code",
   "execution_count": 13,
   "id": "8b8db436-66f8-43c5-a8e5-67783b2d6dac",
   "metadata": {
    "ExecuteTime": {
     "end_time": "2023-10-07T00:19:50.658962Z",
     "start_time": "2023-10-07T00:19:50.638967Z"
    }
   },
   "outputs": [
    {
     "data": {
      "text/plain": "       CRIM    ZN  INDUS  CHAS    NOX     RM    AGE     DIS   RAD    TAX  \\\n0  37.66190   0.0  18.10   0.0  0.679  6.202   78.7  1.8629  24.0  666.0   \n1   0.54011  20.0   3.97   0.0  0.647  7.203   81.8  2.1121   5.0  264.0   \n2   0.17134   0.0  10.01   0.0  0.547  5.928   88.2  2.4631   6.0  432.0   \n3  38.35180   0.0  18.10   0.0  0.693  5.453  100.0  1.4896  24.0  666.0   \n4   1.19294   0.0  21.89   0.0  0.624  6.326   97.7  2.2710   4.0  437.0   \n\n   PTRATIO       B  LSTAT  MEDV  \n0     20.2   18.82  14.52  10.9  \n1     13.0  392.80   9.59  33.8  \n2     17.8  344.91  15.76  18.3  \n3     20.2  396.90  30.59   5.0  \n4     21.2  396.90  12.26  19.6  ",
      "text/html": "<div>\n<style scoped>\n    .dataframe tbody tr th:only-of-type {\n        vertical-align: middle;\n    }\n\n    .dataframe tbody tr th {\n        vertical-align: top;\n    }\n\n    .dataframe thead th {\n        text-align: right;\n    }\n</style>\n<table border=\"1\" class=\"dataframe\">\n  <thead>\n    <tr style=\"text-align: right;\">\n      <th></th>\n      <th>CRIM</th>\n      <th>ZN</th>\n      <th>INDUS</th>\n      <th>CHAS</th>\n      <th>NOX</th>\n      <th>RM</th>\n      <th>AGE</th>\n      <th>DIS</th>\n      <th>RAD</th>\n      <th>TAX</th>\n      <th>PTRATIO</th>\n      <th>B</th>\n      <th>LSTAT</th>\n      <th>MEDV</th>\n    </tr>\n  </thead>\n  <tbody>\n    <tr>\n      <th>0</th>\n      <td>37.66190</td>\n      <td>0.0</td>\n      <td>18.10</td>\n      <td>0.0</td>\n      <td>0.679</td>\n      <td>6.202</td>\n      <td>78.7</td>\n      <td>1.8629</td>\n      <td>24.0</td>\n      <td>666.0</td>\n      <td>20.2</td>\n      <td>18.82</td>\n      <td>14.52</td>\n      <td>10.9</td>\n    </tr>\n    <tr>\n      <th>1</th>\n      <td>0.54011</td>\n      <td>20.0</td>\n      <td>3.97</td>\n      <td>0.0</td>\n      <td>0.647</td>\n      <td>7.203</td>\n      <td>81.8</td>\n      <td>2.1121</td>\n      <td>5.0</td>\n      <td>264.0</td>\n      <td>13.0</td>\n      <td>392.80</td>\n      <td>9.59</td>\n      <td>33.8</td>\n    </tr>\n    <tr>\n      <th>2</th>\n      <td>0.17134</td>\n      <td>0.0</td>\n      <td>10.01</td>\n      <td>0.0</td>\n      <td>0.547</td>\n      <td>5.928</td>\n      <td>88.2</td>\n      <td>2.4631</td>\n      <td>6.0</td>\n      <td>432.0</td>\n      <td>17.8</td>\n      <td>344.91</td>\n      <td>15.76</td>\n      <td>18.3</td>\n    </tr>\n    <tr>\n      <th>3</th>\n      <td>38.35180</td>\n      <td>0.0</td>\n      <td>18.10</td>\n      <td>0.0</td>\n      <td>0.693</td>\n      <td>5.453</td>\n      <td>100.0</td>\n      <td>1.4896</td>\n      <td>24.0</td>\n      <td>666.0</td>\n      <td>20.2</td>\n      <td>396.90</td>\n      <td>30.59</td>\n      <td>5.0</td>\n    </tr>\n    <tr>\n      <th>4</th>\n      <td>1.19294</td>\n      <td>0.0</td>\n      <td>21.89</td>\n      <td>0.0</td>\n      <td>0.624</td>\n      <td>6.326</td>\n      <td>97.7</td>\n      <td>2.2710</td>\n      <td>4.0</td>\n      <td>437.0</td>\n      <td>21.2</td>\n      <td>396.90</td>\n      <td>12.26</td>\n      <td>19.6</td>\n    </tr>\n  </tbody>\n</table>\n</div>"
     },
     "execution_count": 13,
     "metadata": {},
     "output_type": "execute_result"
    }
   ],
   "source": [
    "train_df = pd.DataFrame(tf.concat([X_train, y_train.reshape((-1,1))], axis=1), columns=VARIABLE_NAMES)\n",
    "test_df = pd.DataFrame(tf.concat([X_test, y_test.reshape((-1,1))], axis=1), columns=VARIABLE_NAMES)\n",
    "train_df.head()"
   ]
  },
  {
   "cell_type": "code",
   "execution_count": 14,
   "id": "8d0efe73-f61a-4fd6-9aae-aa5ac7929ab2",
   "metadata": {
    "ExecuteTime": {
     "end_time": "2023-10-07T00:19:56.121436Z",
     "start_time": "2023-10-07T00:19:56.102210Z"
    }
   },
   "outputs": [
    {
     "data": {
      "text/plain": "((404, 13), (404,))"
     },
     "execution_count": 14,
     "metadata": {},
     "output_type": "execute_result"
    }
   ],
   "source": [
    "X_train.shape, y_train.shape"
   ]
  },
  {
   "cell_type": "code",
   "execution_count": 15,
   "id": "7a658607-39bb-4b32-a6a6-a33394aa1353",
   "metadata": {
    "ExecuteTime": {
     "end_time": "2023-10-07T00:19:56.593979Z",
     "start_time": "2023-10-07T00:19:56.576246Z"
    }
   },
   "outputs": [
    {
     "data": {
      "text/plain": "(array([ 37.6619,   0.    ,  18.1   ,   0.    ,   0.679 ,   6.202 ,\n         78.7   ,   1.8629,  24.    , 666.    ,  20.2   ,  18.82  ,\n         14.52  ]),\n 10.9)"
     },
     "execution_count": 15,
     "metadata": {},
     "output_type": "execute_result"
    }
   ],
   "source": [
    "X_train[0], y_train[0]"
   ]
  },
  {
   "cell_type": "code",
   "execution_count": 16,
   "id": "cfcb46f9-85d7-47c4-bce7-d85017c3219e",
   "metadata": {
    "ExecuteTime": {
     "end_time": "2023-10-07T00:19:57.708519Z",
     "start_time": "2023-10-07T00:19:57.699584Z"
    }
   },
   "outputs": [
    {
     "data": {
      "text/plain": "ZN     CHAS\n0.0    0.0     275\n       1.0      25\n80.0   0.0      12\n20.0   0.0      12\n12.5   0.0      10\n22.0   0.0       9\n25.0   0.0       9\n30.0   0.0       4\n45.0   0.0       4\n40.0   0.0       4\n60.0   0.0       3\n95.0   0.0       3\n90.0   0.0       3\n21.0   0.0       3\n40.0   1.0       3\n75.0   0.0       3\n70.0   0.0       2\n85.0   0.0       2\n82.5   0.0       2\n28.0   0.0       2\n33.0   0.0       2\n55.0   0.0       2\n20.0   1.0       2\n35.0   0.0       2\n34.0   0.0       2\n18.0   0.0       1\n52.5   0.0       1\n90.0   1.0       1\n100.0  0.0       1\nName: count, dtype: int64"
     },
     "execution_count": 16,
     "metadata": {},
     "output_type": "execute_result"
    }
   ],
   "source": [
    "train_df[['ZN', 'CHAS']].value_counts()"
   ]
  },
  {
   "cell_type": "code",
   "execution_count": 17,
   "id": "781159d5-43d5-4947-856b-2b2e0dc7b55d",
   "metadata": {
    "ExecuteTime": {
     "end_time": "2023-10-07T00:19:58.435567Z",
     "start_time": "2023-10-07T00:19:58.415494Z"
    }
   },
   "outputs": [
    {
     "data": {
      "text/plain": "array([ 37.6619,   0.    ,  18.1   ,   0.    ,   0.679 ,   6.202 ,\n        78.7   ,   1.8629,  24.    , 666.    ,  20.2   ,  18.82  ,\n        14.52  ])"
     },
     "execution_count": 17,
     "metadata": {},
     "output_type": "execute_result"
    }
   ],
   "source": [
    "X_train[0]"
   ]
  },
  {
   "cell_type": "markdown",
   "id": "c31f151c-46eb-4dc3-955d-0a064458f286",
   "metadata": {
    "jp-MarkdownHeadingCollapsed": true
   },
   "source": [
    "### Preprocess Data\n",
    "\n",
    "After analyzing the data, it is apparent I need to do some scaling on non-categorical data."
   ]
  },
  {
   "cell_type": "code",
   "execution_count": 18,
   "id": "22ac820f-ec9c-4fba-844c-ad625d1b62d4",
   "metadata": {
    "ExecuteTime": {
     "end_time": "2023-10-07T00:20:00.446127Z",
     "start_time": "2023-10-07T00:20:00.432070Z"
    }
   },
   "outputs": [
    {
     "data": {
      "text/plain": "(<tf.Tensor: shape=(13,), dtype=float64, numpy=\n array([1.        , 1.        , 0.43099395, 0.0327365 , 0.64662757,\n        0.8187234 , 0.63374486, 0.80851064, 1.        , 0.36252156,\n        0.91412214, 0.        , 0.        ])>,\n <tf.Tensor: shape=(13,), dtype=float64, numpy=\n array([0.15962925, 0.96648848, 0.00097044, 0.39666633, 0.2063783 ,\n        0.19687943, 0.09876543, 0.37234043, 0.26086957, 0.56217666,\n        0.27099237, 0.34      , 0.        ])>)"
     },
     "execution_count": 18,
     "metadata": {},
     "output_type": "execute_result"
    }
   ],
   "source": [
    "min_max_scaler = MinMaxScaler()\n",
    "min_max_scaler.fit(train_df[train_df.columns.difference(['CHAS', 'MEDV'])])\n",
    "\n",
    "train_transformed_less_chas = min_max_scaler.transform(train_df[train_df.columns.difference(['CHAS', 'MEDV'])])\n",
    "test_transformed_less_chas = min_max_scaler.transform(test_df[test_df.columns.difference(['CHAS', 'MEDV'])])\n",
    "\n",
    "X_train_scaled = tf.concat([train_transformed_less_chas, X_train[:, 3].reshape((-1, 1))], axis=1)\n",
    "X_test_scaled = tf.concat([test_transformed_less_chas, X_test[:, 3].reshape((-1, 1))], axis=1)\n",
    "\n",
    "X_train_scaled[3], X_test_scaled[3]"
   ]
  },
  {
   "cell_type": "markdown",
   "id": "18c2e6e6-9b08-4d66-ac0e-52aba4344b4c",
   "metadata": {
    "jp-MarkdownHeadingCollapsed": true
   },
   "source": [
    "### Create Datasets"
   ]
  },
  {
   "cell_type": "code",
   "execution_count": 19,
   "id": "9c394985-ff32-4426-a8dc-7e884e11c213",
   "metadata": {
    "ExecuteTime": {
     "end_time": "2023-10-07T00:20:02.644372Z",
     "start_time": "2023-10-07T00:20:02.633260Z"
    }
   },
   "outputs": [
    {
     "data": {
      "text/plain": "(<tf.Tensor: shape=(13,), dtype=float64, numpy=\n array([1.        , 1.        , 0.43099395, 0.0327365 , 0.64662757,\n        0.8187234 , 0.63374486, 0.80851064, 1.        , 0.36252156,\n        0.91412214, 0.        , 0.        ])>,\n 5.0)"
     },
     "execution_count": 19,
     "metadata": {},
     "output_type": "execute_result"
    }
   ],
   "source": [
    "X_train_scaled[3], y_train[3]"
   ]
  },
  {
   "cell_type": "code",
   "execution_count": 20,
   "id": "c2d02d2e-a61a-48c4-853f-49b1760954d6",
   "metadata": {
    "ExecuteTime": {
     "end_time": "2023-10-07T00:20:03.072437Z",
     "start_time": "2023-10-07T00:20:03.057023Z"
    }
   },
   "outputs": [
    {
     "data": {
      "text/plain": "(<_PrefetchDataset element_spec=((TensorSpec(shape=(None, 13), dtype=tf.float64, name=None),), TensorSpec(shape=(None,), dtype=tf.float64, name=None))>,\n <_PrefetchDataset element_spec=((TensorSpec(shape=(None, 13), dtype=tf.float64, name=None),), TensorSpec(shape=(None,), dtype=tf.float64, name=None))>)"
     },
     "execution_count": 20,
     "metadata": {},
     "output_type": "execute_result"
    }
   ],
   "source": [
    "train_dataset = data_toolbox.generate_dataset_from_data([X_train_scaled], y_train)\n",
    "test_dataset = data_toolbox.generate_dataset_from_data([X_test_scaled], y_test)\n",
    "\n",
    "train_dataset, test_dataset"
   ]
  },
  {
   "cell_type": "markdown",
   "id": "244d6f9d-baaa-4f79-88b8-45fef1428646",
   "metadata": {},
   "source": [
    "## Experiments\n",
    "\n",
    "* Experiment-0: Simple Feed Forward\n",
    "* Experiment-1: Simple Feed Forward w/ Non-linear Activation\n",
    "* Experiment-2: Deep NN w/ Non-linear Activation\n",
    "* Experiment-3: Skip Connection Model w/ Non-linear Acivation"
   ]
  },
  {
   "cell_type": "markdown",
   "id": "1d2a1dfa-a484-4b11-acf9-2ebac6df629f",
   "metadata": {
    "jp-MarkdownHeadingCollapsed": true
   },
   "source": [
    "### Constants"
   ]
  },
  {
   "cell_type": "code",
   "execution_count": 21,
   "id": "2f121cd8-79d2-4f8b-a7af-4ac3b7e06d73",
   "metadata": {
    "ExecuteTime": {
     "end_time": "2023-10-07T00:20:04.132028Z",
     "start_time": "2023-10-07T00:20:04.109649Z"
    }
   },
   "outputs": [],
   "source": [
    "INPUT_SIZE = 13\n",
    "OUTPUT_SIZE = 1"
   ]
  },
  {
   "cell_type": "markdown",
   "id": "79890501-b462-4503-b819-c22230caa905",
   "metadata": {
    "jp-MarkdownHeadingCollapsed": true
   },
   "source": [
    "### Experiment-0: Simple Feed Forward"
   ]
  },
  {
   "cell_type": "code",
   "execution_count": 22,
   "id": "efa615a0-b788-4217-9673-e9c5e3649c3d",
   "metadata": {
    "ExecuteTime": {
     "end_time": "2023-10-07T00:20:04.697997Z",
     "start_time": "2023-10-07T00:20:04.684284Z"
    }
   },
   "outputs": [],
   "source": [
    "# Constants\n",
    "model_0_name = 'model_0_simple'"
   ]
  },
  {
   "cell_type": "code",
   "execution_count": 23,
   "id": "a84f1d62-bb12-43d6-8d27-fed3b3188537",
   "metadata": {
    "ExecuteTime": {
     "end_time": "2023-10-07T00:20:06.922791Z",
     "start_time": "2023-10-07T00:20:05.080354Z"
    }
   },
   "outputs": [
    {
     "name": "stdout",
     "output_type": "stream",
     "text": [
      "Epoch 1/100\n",
      "13/13 [==============================] - 0s 6ms/step - loss: 23.1524 - mae: 23.1524 - mse: 620.0460 - val_loss: 23.5373 - val_mae: 23.5373 - val_mse: 627.4219\n",
      "Epoch 2/100\n",
      "13/13 [==============================] - 0s 877us/step - loss: 22.7019 - mae: 22.7019 - mse: 600.1445 - val_loss: 23.1042 - val_mae: 23.1042 - val_mse: 607.7313\n",
      "Epoch 3/100\n",
      "13/13 [==============================] - 0s 872us/step - loss: 22.2410 - mae: 22.2410 - mse: 580.1848 - val_loss: 22.6559 - val_mae: 22.6559 - val_mse: 587.7332\n",
      "Epoch 4/100\n",
      "13/13 [==============================] - 0s 962us/step - loss: 21.7605 - mae: 21.7605 - mse: 559.8320 - val_loss: 22.1852 - val_mae: 22.1852 - val_mse: 567.1727\n",
      "Epoch 5/100\n",
      "13/13 [==============================] - 0s 976us/step - loss: 21.2535 - mae: 21.2535 - mse: 538.8712 - val_loss: 21.6859 - val_mae: 21.6859 - val_mse: 545.8571\n",
      "Epoch 6/100\n",
      "13/13 [==============================] - 0s 874us/step - loss: 20.7138 - mae: 20.7138 - mse: 517.1364 - val_loss: 21.1522 - val_mae: 21.1522 - val_mse: 523.6343\n",
      "Epoch 7/100\n",
      "13/13 [==============================] - 0s 963us/step - loss: 20.1354 - mae: 20.1354 - mse: 494.5090 - val_loss: 20.5786 - val_mae: 20.5786 - val_mse: 500.4068\n",
      "Epoch 8/100\n",
      "13/13 [==============================] - 0s 2ms/step - loss: 19.5129 - mae: 19.5129 - mse: 470.9312 - val_loss: 19.9604 - val_mae: 19.9604 - val_mse: 476.1349\n",
      "Epoch 9/100\n",
      "13/13 [==============================] - 0s 909us/step - loss: 18.8438 - mae: 18.8438 - mse: 446.4091 - val_loss: 19.2946 - val_mae: 19.2946 - val_mse: 450.8773\n",
      "Epoch 10/100\n",
      "13/13 [==============================] - 0s 836us/step - loss: 18.1353 - mae: 18.1353 - mse: 421.1086 - val_loss: 18.5805 - val_mae: 18.5805 - val_mse: 424.7972\n",
      "Epoch 11/100\n",
      "13/13 [==============================] - 0s 902us/step - loss: 17.3790 - mae: 17.3790 - mse: 395.1458 - val_loss: 17.8133 - val_mae: 17.8133 - val_mse: 397.9514\n",
      "Epoch 12/100\n",
      "13/13 [==============================] - 0s 933us/step - loss: 16.5865 - mae: 16.5865 - mse: 368.7656 - val_loss: 17.0007 - val_mae: 17.0007 - val_mse: 370.8169\n",
      "Epoch 13/100\n",
      "13/13 [==============================] - 0s 946us/step - loss: 15.7804 - mae: 15.7804 - mse: 342.3336 - val_loss: 16.1718 - val_mae: 16.1718 - val_mse: 343.5981\n",
      "Epoch 14/100\n",
      "13/13 [==============================] - 0s 3ms/step - loss: 14.9660 - mae: 14.9660 - mse: 316.2840 - val_loss: 15.3575 - val_mae: 15.3575 - val_mse: 316.6953\n",
      "Epoch 15/100\n",
      "13/13 [==============================] - 0s 900us/step - loss: 14.1529 - mae: 14.1529 - mse: 290.9431 - val_loss: 14.5204 - val_mae: 14.5204 - val_mse: 290.6001\n",
      "Epoch 16/100\n",
      "13/13 [==============================] - 0s 908us/step - loss: 13.3545 - mae: 13.3545 - mse: 266.6606 - val_loss: 13.6970 - val_mae: 13.6970 - val_mse: 265.5408\n",
      "Epoch 17/100\n",
      "13/13 [==============================] - 0s 865us/step - loss: 12.6137 - mae: 12.6137 - mse: 244.0510 - val_loss: 12.9321 - val_mae: 12.9321 - val_mse: 242.2821\n",
      "Epoch 18/100\n",
      "13/13 [==============================] - 0s 825us/step - loss: 11.9251 - mae: 11.9251 - mse: 223.4752 - val_loss: 12.1989 - val_mae: 12.1989 - val_mse: 220.9863\n",
      "Epoch 19/100\n",
      "13/13 [==============================] - 0s 937us/step - loss: 11.3166 - mae: 11.3166 - mse: 205.0514 - val_loss: 11.5226 - val_mae: 11.5226 - val_mse: 201.8171\n",
      "Epoch 20/100\n",
      "13/13 [==============================] - 0s 967us/step - loss: 10.7854 - mae: 10.7854 - mse: 188.9637 - val_loss: 10.9273 - val_mae: 10.9273 - val_mse: 184.9567\n",
      "Epoch 21/100\n",
      "13/13 [==============================] - 0s 936us/step - loss: 10.3138 - mae: 10.3138 - mse: 175.0278 - val_loss: 10.3798 - val_mae: 10.3798 - val_mse: 169.9899\n",
      "Epoch 22/100\n",
      "13/13 [==============================] - 0s 808us/step - loss: 9.8860 - mae: 9.8860 - mse: 162.9770 - val_loss: 9.8815 - val_mae: 9.8815 - val_mse: 156.9752\n",
      "Epoch 23/100\n",
      "13/13 [==============================] - 0s 963us/step - loss: 9.5173 - mae: 9.5173 - mse: 152.7961 - val_loss: 9.4561 - val_mae: 9.4561 - val_mse: 145.8501\n",
      "Epoch 24/100\n",
      "13/13 [==============================] - 0s 906us/step - loss: 9.2176 - mae: 9.2176 - mse: 144.3797 - val_loss: 9.0961 - val_mae: 9.0961 - val_mse: 136.6555\n",
      "Epoch 25/100\n",
      "13/13 [==============================] - 0s 883us/step - loss: 8.9634 - mae: 8.9634 - mse: 137.3912 - val_loss: 8.7592 - val_mae: 8.7592 - val_mse: 128.6518\n",
      "Epoch 26/100\n",
      "13/13 [==============================] - 0s 959us/step - loss: 8.7329 - mae: 8.7329 - mse: 131.4200 - val_loss: 8.4544 - val_mae: 8.4544 - val_mse: 121.7677\n",
      "Epoch 27/100\n",
      "13/13 [==============================] - 0s 1ms/step - loss: 8.5344 - mae: 8.5344 - mse: 126.3536 - val_loss: 8.2034 - val_mae: 8.2034 - val_mse: 115.9843\n",
      "Epoch 28/100\n",
      "13/13 [==============================] - 0s 836us/step - loss: 8.3597 - mae: 8.3597 - mse: 122.0596 - val_loss: 7.9848 - val_mae: 7.9848 - val_mse: 111.0885\n",
      "Epoch 29/100\n",
      "13/13 [==============================] - 0s 928us/step - loss: 8.2016 - mae: 8.2016 - mse: 118.2967 - val_loss: 7.7956 - val_mae: 7.7956 - val_mse: 106.9745\n",
      "Epoch 30/100\n",
      "13/13 [==============================] - 0s 875us/step - loss: 8.0683 - mae: 8.0683 - mse: 115.0177 - val_loss: 7.6327 - val_mae: 7.6327 - val_mse: 103.5319\n",
      "Epoch 31/100\n",
      "13/13 [==============================] - 0s 808us/step - loss: 7.9413 - mae: 7.9413 - mse: 112.0625 - val_loss: 7.4861 - val_mae: 7.4861 - val_mse: 100.4541\n",
      "Epoch 32/100\n",
      "13/13 [==============================] - 0s 913us/step - loss: 7.8164 - mae: 7.8164 - mse: 109.2913 - val_loss: 7.3517 - val_mae: 7.3517 - val_mse: 97.6252\n",
      "Epoch 33/100\n",
      "13/13 [==============================] - 0s 829us/step - loss: 7.6943 - mae: 7.6943 - mse: 106.6312 - val_loss: 7.2255 - val_mae: 7.2255 - val_mse: 94.9610\n",
      "Epoch 34/100\n",
      "13/13 [==============================] - 0s 771us/step - loss: 7.5770 - mae: 7.5770 - mse: 104.1553 - val_loss: 7.1149 - val_mae: 7.1149 - val_mse: 92.6117\n",
      "Epoch 35/100\n",
      "13/13 [==============================] - 0s 862us/step - loss: 7.4624 - mae: 7.4624 - mse: 101.8082 - val_loss: 7.0079 - val_mae: 7.0079 - val_mse: 90.3730\n",
      "Epoch 36/100\n",
      "13/13 [==============================] - 0s 884us/step - loss: 7.3488 - mae: 7.3488 - mse: 99.5129 - val_loss: 6.8997 - val_mae: 6.8997 - val_mse: 88.1561\n",
      "Epoch 37/100\n",
      "13/13 [==============================] - 0s 787us/step - loss: 7.2342 - mae: 7.2342 - mse: 97.2473 - val_loss: 6.7900 - val_mae: 6.7900 - val_mse: 85.9673\n",
      "Epoch 38/100\n",
      "13/13 [==============================] - 0s 816us/step - loss: 7.1198 - mae: 7.1198 - mse: 95.0290 - val_loss: 6.6805 - val_mae: 6.6805 - val_mse: 83.8482\n",
      "Epoch 39/100\n",
      "13/13 [==============================] - 0s 939us/step - loss: 7.0113 - mae: 7.0113 - mse: 92.8608 - val_loss: 6.5747 - val_mae: 6.5747 - val_mse: 81.7568\n",
      "Epoch 40/100\n",
      "13/13 [==============================] - 0s 939us/step - loss: 6.9097 - mae: 6.9097 - mse: 90.7643 - val_loss: 6.4701 - val_mae: 6.4701 - val_mse: 79.6864\n",
      "Epoch 41/100\n",
      "13/13 [==============================] - 0s 809us/step - loss: 6.8148 - mae: 6.8148 - mse: 88.7436 - val_loss: 6.3713 - val_mae: 6.3713 - val_mse: 77.6869\n",
      "Epoch 42/100\n",
      "13/13 [==============================] - 0s 764us/step - loss: 6.7232 - mae: 6.7232 - mse: 86.8344 - val_loss: 6.2816 - val_mae: 6.2816 - val_mse: 75.8465\n",
      "Epoch 43/100\n",
      "13/13 [==============================] - 0s 881us/step - loss: 6.6332 - mae: 6.6332 - mse: 85.0494 - val_loss: 6.2018 - val_mae: 6.2018 - val_mse: 74.2137\n",
      "Epoch 44/100\n",
      "13/13 [==============================] - 0s 897us/step - loss: 6.5471 - mae: 6.5471 - mse: 83.3954 - val_loss: 6.1255 - val_mae: 6.1255 - val_mse: 72.6897\n",
      "Epoch 45/100\n",
      "13/13 [==============================] - 0s 884us/step - loss: 6.4643 - mae: 6.4643 - mse: 81.8030 - val_loss: 6.0518 - val_mae: 6.0518 - val_mse: 71.2003\n",
      "Epoch 46/100\n",
      "13/13 [==============================] - 0s 757us/step - loss: 6.3833 - mae: 6.3833 - mse: 80.2800 - val_loss: 5.9802 - val_mae: 5.9802 - val_mse: 69.7713\n",
      "Epoch 47/100\n",
      "13/13 [==============================] - 0s 813us/step - loss: 6.3036 - mae: 6.3036 - mse: 78.8000 - val_loss: 5.9085 - val_mae: 5.9085 - val_mse: 68.3935\n",
      "Epoch 48/100\n",
      "13/13 [==============================] - 0s 823us/step - loss: 6.2266 - mae: 6.2266 - mse: 77.4174 - val_loss: 5.8405 - val_mae: 5.8405 - val_mse: 67.1611\n",
      "Epoch 49/100\n",
      "13/13 [==============================] - 0s 850us/step - loss: 6.1512 - mae: 6.1512 - mse: 76.1304 - val_loss: 5.7739 - val_mae: 5.7739 - val_mse: 66.0312\n",
      "Epoch 50/100\n",
      "13/13 [==============================] - 0s 867us/step - loss: 6.0769 - mae: 6.0769 - mse: 74.9279 - val_loss: 5.7079 - val_mae: 5.7079 - val_mse: 64.9699\n",
      "Epoch 51/100\n",
      "13/13 [==============================] - 0s 787us/step - loss: 6.0049 - mae: 6.0049 - mse: 73.7765 - val_loss: 5.6409 - val_mae: 5.6409 - val_mse: 63.8976\n",
      "Epoch 52/100\n",
      "13/13 [==============================] - 0s 855us/step - loss: 5.9355 - mae: 5.9355 - mse: 72.6383 - val_loss: 5.5740 - val_mae: 5.5740 - val_mse: 62.8375\n",
      "Epoch 53/100\n",
      "13/13 [==============================] - 0s 761us/step - loss: 5.8680 - mae: 5.8680 - mse: 71.5463 - val_loss: 5.5068 - val_mae: 5.5068 - val_mse: 61.7876\n",
      "Epoch 54/100\n",
      "13/13 [==============================] - 0s 903us/step - loss: 5.8026 - mae: 5.8026 - mse: 70.5018 - val_loss: 5.4421 - val_mae: 5.4421 - val_mse: 60.8611\n",
      "Epoch 55/100\n",
      "13/13 [==============================] - 0s 864us/step - loss: 5.7401 - mae: 5.7401 - mse: 69.5684 - val_loss: 5.3811 - val_mae: 5.3811 - val_mse: 59.9970\n",
      "Epoch 56/100\n",
      "13/13 [==============================] - 0s 895us/step - loss: 5.6796 - mae: 5.6796 - mse: 68.6538 - val_loss: 5.3203 - val_mae: 5.3203 - val_mse: 59.0752\n",
      "Epoch 57/100\n",
      "13/13 [==============================] - 0s 876us/step - loss: 5.6219 - mae: 5.6219 - mse: 67.7185 - val_loss: 5.2600 - val_mae: 5.2600 - val_mse: 58.1054\n",
      "Epoch 58/100\n",
      "13/13 [==============================] - 0s 810us/step - loss: 5.5699 - mae: 5.5699 - mse: 66.7384 - val_loss: 5.2045 - val_mae: 5.2045 - val_mse: 57.1264\n",
      "Epoch 59/100\n",
      "13/13 [==============================] - 0s 820us/step - loss: 5.5228 - mae: 5.5228 - mse: 65.8806 - val_loss: 5.1561 - val_mae: 5.1561 - val_mse: 56.3885\n",
      "Epoch 60/100\n",
      "13/13 [==============================] - 0s 851us/step - loss: 5.4794 - mae: 5.4794 - mse: 65.1856 - val_loss: 5.1129 - val_mae: 5.1129 - val_mse: 55.7807\n",
      "Epoch 61/100\n",
      "13/13 [==============================] - 0s 882us/step - loss: 5.4410 - mae: 5.4410 - mse: 64.6111 - val_loss: 5.0727 - val_mae: 5.0727 - val_mse: 55.2822\n",
      "Epoch 62/100\n",
      "13/13 [==============================] - 0s 875us/step - loss: 5.4051 - mae: 5.4051 - mse: 64.1165 - val_loss: 5.0337 - val_mae: 5.0337 - val_mse: 54.8394\n",
      "Epoch 63/100\n",
      "13/13 [==============================] - 0s 879us/step - loss: 5.3729 - mae: 5.3729 - mse: 63.5923 - val_loss: 4.9967 - val_mae: 4.9967 - val_mse: 54.2599\n",
      "Epoch 64/100\n",
      "13/13 [==============================] - 0s 853us/step - loss: 5.3431 - mae: 5.3431 - mse: 63.0239 - val_loss: 4.9627 - val_mae: 4.9627 - val_mse: 53.6814\n",
      "Epoch 65/100\n",
      "13/13 [==============================] - 0s 833us/step - loss: 5.3152 - mae: 5.3152 - mse: 62.4507 - val_loss: 4.9338 - val_mae: 4.9338 - val_mse: 53.1107\n",
      "Epoch 66/100\n",
      "13/13 [==============================] - 0s 806us/step - loss: 5.2896 - mae: 5.2896 - mse: 61.9243 - val_loss: 4.9103 - val_mae: 4.9103 - val_mse: 52.5863\n",
      "Epoch 67/100\n",
      "13/13 [==============================] - 0s 882us/step - loss: 5.2649 - mae: 5.2649 - mse: 61.3917 - val_loss: 4.8881 - val_mae: 4.8881 - val_mse: 52.0389\n",
      "Epoch 68/100\n",
      "13/13 [==============================] - 0s 881us/step - loss: 5.2403 - mae: 5.2403 - mse: 60.8403 - val_loss: 4.8671 - val_mae: 4.8671 - val_mse: 51.4320\n",
      "Epoch 69/100\n",
      "13/13 [==============================] - 0s 941us/step - loss: 5.2176 - mae: 5.2176 - mse: 60.2896 - val_loss: 4.8474 - val_mae: 4.8474 - val_mse: 50.9339\n",
      "Epoch 70/100\n",
      "13/13 [==============================] - 0s 828us/step - loss: 5.1951 - mae: 5.1951 - mse: 59.8278 - val_loss: 4.8271 - val_mae: 4.8271 - val_mse: 50.4711\n",
      "Epoch 71/100\n",
      "13/13 [==============================] - 0s 870us/step - loss: 5.1731 - mae: 5.1731 - mse: 59.3806 - val_loss: 4.8072 - val_mae: 4.8072 - val_mse: 50.0035\n",
      "Epoch 72/100\n",
      "13/13 [==============================] - 0s 889us/step - loss: 5.1521 - mae: 5.1521 - mse: 58.9548 - val_loss: 4.7861 - val_mae: 4.7861 - val_mse: 49.6115\n",
      "Epoch 73/100\n",
      "13/13 [==============================] - 0s 947us/step - loss: 5.1328 - mae: 5.1328 - mse: 58.6032 - val_loss: 4.7665 - val_mae: 4.7665 - val_mse: 49.2909\n",
      "Epoch 74/100\n",
      "13/13 [==============================] - 0s 879us/step - loss: 5.1158 - mae: 5.1158 - mse: 58.3118 - val_loss: 4.7494 - val_mae: 4.7494 - val_mse: 49.0214\n",
      "Epoch 75/100\n",
      "13/13 [==============================] - 0s 960us/step - loss: 5.1004 - mae: 5.1004 - mse: 58.0401 - val_loss: 4.7341 - val_mae: 4.7341 - val_mse: 48.7576\n",
      "Epoch 76/100\n",
      "13/13 [==============================] - 0s 790us/step - loss: 5.0853 - mae: 5.0853 - mse: 57.7797 - val_loss: 4.7191 - val_mae: 4.7191 - val_mse: 48.4960\n",
      "Epoch 77/100\n",
      "13/13 [==============================] - 0s 855us/step - loss: 5.0709 - mae: 5.0709 - mse: 57.5032 - val_loss: 4.7046 - val_mae: 4.7046 - val_mse: 48.2137\n",
      "Epoch 78/100\n",
      "13/13 [==============================] - 0s 742us/step - loss: 5.0568 - mae: 5.0568 - mse: 57.2181 - val_loss: 4.6901 - val_mae: 4.6901 - val_mse: 47.9341\n",
      "Epoch 79/100\n",
      "13/13 [==============================] - 0s 830us/step - loss: 5.0428 - mae: 5.0428 - mse: 56.9419 - val_loss: 4.6753 - val_mae: 4.6753 - val_mse: 47.6888\n",
      "Epoch 80/100\n",
      "13/13 [==============================] - 0s 903us/step - loss: 5.0286 - mae: 5.0286 - mse: 56.6997 - val_loss: 4.6608 - val_mae: 4.6608 - val_mse: 47.4659\n",
      "Epoch 81/100\n",
      "13/13 [==============================] - 0s 893us/step - loss: 5.0144 - mae: 5.0144 - mse: 56.4385 - val_loss: 4.6473 - val_mae: 4.6473 - val_mse: 47.1426\n",
      "Epoch 82/100\n",
      "13/13 [==============================] - 0s 868us/step - loss: 5.0008 - mae: 5.0008 - mse: 56.1050 - val_loss: 4.6335 - val_mae: 4.6335 - val_mse: 46.8561\n",
      "Epoch 83/100\n",
      "13/13 [==============================] - 0s 799us/step - loss: 4.9874 - mae: 4.9874 - mse: 55.8349 - val_loss: 4.6193 - val_mae: 4.6193 - val_mse: 46.6253\n",
      "Epoch 84/100\n",
      "13/13 [==============================] - 0s 904us/step - loss: 4.9740 - mae: 4.9740 - mse: 55.6131 - val_loss: 4.6048 - val_mae: 4.6048 - val_mse: 46.4275\n",
      "Epoch 85/100\n",
      "13/13 [==============================] - 0s 820us/step - loss: 4.9610 - mae: 4.9610 - mse: 55.3712 - val_loss: 4.5910 - val_mae: 4.5910 - val_mse: 46.1564\n",
      "Epoch 86/100\n",
      "13/13 [==============================] - 0s 820us/step - loss: 4.9482 - mae: 4.9482 - mse: 55.0789 - val_loss: 4.5772 - val_mae: 4.5772 - val_mse: 45.8850\n",
      "Epoch 87/100\n",
      "13/13 [==============================] - 0s 876us/step - loss: 4.9353 - mae: 4.9353 - mse: 54.8128 - val_loss: 4.5630 - val_mae: 4.5630 - val_mse: 45.6616\n",
      "Epoch 88/100\n",
      "13/13 [==============================] - 0s 872us/step - loss: 4.9223 - mae: 4.9223 - mse: 54.5910 - val_loss: 4.5485 - val_mae: 4.5485 - val_mse: 45.4636\n",
      "Epoch 89/100\n",
      "13/13 [==============================] - 0s 925us/step - loss: 4.9092 - mae: 4.9092 - mse: 54.3634 - val_loss: 4.5342 - val_mae: 4.5342 - val_mse: 45.1989\n",
      "Epoch 90/100\n",
      "13/13 [==============================] - 0s 927us/step - loss: 4.8961 - mae: 4.8961 - mse: 54.0800 - val_loss: 4.5198 - val_mae: 4.5198 - val_mse: 44.9560\n",
      "Epoch 91/100\n",
      "13/13 [==============================] - 0s 907us/step - loss: 4.8828 - mae: 4.8828 - mse: 53.8389 - val_loss: 4.5051 - val_mae: 4.5051 - val_mse: 44.7311\n",
      "Epoch 92/100\n",
      "13/13 [==============================] - 0s 905us/step - loss: 4.8696 - mae: 4.8696 - mse: 53.6003 - val_loss: 4.4905 - val_mae: 4.4905 - val_mse: 44.4806\n",
      "Epoch 93/100\n",
      "13/13 [==============================] - 0s 836us/step - loss: 4.8565 - mae: 4.8565 - mse: 53.3458 - val_loss: 4.4757 - val_mae: 4.4757 - val_mse: 44.2786\n",
      "Epoch 94/100\n",
      "13/13 [==============================] - 0s 856us/step - loss: 4.8431 - mae: 4.8431 - mse: 53.1360 - val_loss: 4.4609 - val_mae: 4.4609 - val_mse: 44.0457\n",
      "Epoch 95/100\n",
      "13/13 [==============================] - 0s 859us/step - loss: 4.8297 - mae: 4.8297 - mse: 52.8684 - val_loss: 4.4462 - val_mae: 4.4462 - val_mse: 43.7712\n",
      "Epoch 96/100\n",
      "13/13 [==============================] - 0s 859us/step - loss: 4.8164 - mae: 4.8164 - mse: 52.6098 - val_loss: 4.4309 - val_mae: 4.4309 - val_mse: 43.6031\n",
      "Epoch 97/100\n",
      "13/13 [==============================] - 0s 858us/step - loss: 4.8030 - mae: 4.8030 - mse: 52.4271 - val_loss: 4.4161 - val_mae: 4.4161 - val_mse: 43.3813\n",
      "Epoch 98/100\n",
      "13/13 [==============================] - 0s 841us/step - loss: 4.7898 - mae: 4.7898 - mse: 52.1437 - val_loss: 4.4017 - val_mae: 4.4017 - val_mse: 43.1151\n",
      "Epoch 99/100\n",
      "13/13 [==============================] - 0s 916us/step - loss: 4.7768 - mae: 4.7768 - mse: 51.8767 - val_loss: 4.3872 - val_mae: 4.3872 - val_mse: 42.8908\n",
      "Epoch 100/100\n",
      "13/13 [==============================] - 0s 896us/step - loss: 4.7636 - mae: 4.7636 - mse: 51.6528 - val_loss: 4.3726 - val_mae: 4.3726 - val_mse: 42.6927\n"
     ]
    }
   ],
   "source": [
    "model_0 = tf.keras.models.Sequential([\n",
    "    tf.keras.layers.Input(shape=(INPUT_SIZE,)),\n",
    "    tf.keras.layers.Dense(16),\n",
    "    tf.keras.layers.Dense(OUTPUT_SIZE),\n",
    "], name=model_0_name)\n",
    "\n",
    "model_0.compile(loss='mae',\n",
    "                optimizer=tf.keras.optimizers.legacy.Adam(),\n",
    "                metrics=['mae', 'mse'])\n",
    "\n",
    "model_0_history = model_0.fit(train_dataset,\n",
    "                              validation_data=test_dataset,\n",
    "                              epochs=100)"
   ]
  },
  {
   "cell_type": "code",
   "execution_count": 24,
   "id": "2804f835-7da9-4b98-a839-817593a4f9ec",
   "metadata": {
    "ExecuteTime": {
     "end_time": "2023-10-07T00:20:07.081769Z",
     "start_time": "2023-10-07T00:20:06.916715Z"
    }
   },
   "outputs": [
    {
     "data": {
      "text/plain": "<Figure size 640x480 with 1 Axes>",
      "image/png": "[encoded data removed]"
     },
     "metadata": {},
     "output_type": "display_data"
    }
   ],
   "source": [
    "ml_toolbox.analysis.history.plot_history(model_0_history, 'mae')"
   ]
  },
  {
   "cell_type": "code",
   "execution_count": 25,
   "id": "d2f8a408-5bfb-4961-b8e6-a821c6d76366",
   "metadata": {
    "ExecuteTime": {
     "end_time": "2023-10-07T00:20:09.274233Z",
     "start_time": "2023-10-07T00:20:09.223681Z"
    }
   },
   "outputs": [
    {
     "name": "stdout",
     "output_type": "stream",
     "text": [
      "4/4 [==============================] - 0s 731us/step\n"
     ]
    },
    {
     "data": {
      "text/plain": "RegressionPredictionMetrics(mae=4.3725934, mse=42.69272, rmse=6.5339665, mape=17.737299, mase=0.4561842, huber=3.9098072, name='model_0_simple')"
     },
     "execution_count": 25,
     "metadata": {},
     "output_type": "execute_result"
    }
   ],
   "source": [
    "model_0_preds = model_0.predict(test_dataset)\n",
    "\n",
    "model_0_results = ml_toolbox.analysis.regression.generate_prediction_metrics(y_test, tf.squeeze(model_0_preds), model_0_name)\n",
    "model_0_results"
   ]
  },
  {
   "cell_type": "markdown",
   "id": "82f104c8-3680-430d-bf95-62f4c79fcd08",
   "metadata": {
    "jp-MarkdownHeadingCollapsed": true
   },
   "source": [
    "### Experiment-1: Simple Feed Foward w/ Non-Linear Activation"
   ]
  },
  {
   "cell_type": "code",
   "execution_count": 26,
   "id": "174c5051-b5de-4818-a565-d9a4645da4f3",
   "metadata": {
    "ExecuteTime": {
     "end_time": "2023-10-07T00:20:12.274534Z",
     "start_time": "2023-10-07T00:20:12.261437Z"
    }
   },
   "outputs": [],
   "source": [
    "# Constants\n",
    "model_1_name = 'model_1_single_hidden_relu'"
   ]
  },
  {
   "cell_type": "code",
   "execution_count": 27,
   "id": "daaa638b-3900-42c8-bbe6-8beb728e1a65",
   "metadata": {
    "ExecuteTime": {
     "end_time": "2023-10-07T00:20:14.411481Z",
     "start_time": "2023-10-07T00:20:12.825377Z"
    }
   },
   "outputs": [
    {
     "name": "stdout",
     "output_type": "stream",
     "text": [
      "Epoch 1/100\n",
      "13/13 [==============================] - 0s 5ms/step - loss: 21.9472 - mae: 21.9472 - mse: 567.6483 - val_loss: 22.4528 - val_mae: 22.4528 - val_mse: 579.6993\n",
      "Epoch 2/100\n",
      "13/13 [==============================] - 0s 983us/step - loss: 21.6156 - mae: 21.6156 - mse: 553.8727 - val_loss: 22.1416 - val_mae: 22.1416 - val_mse: 566.3439\n",
      "Epoch 3/100\n",
      "13/13 [==============================] - 0s 898us/step - loss: 21.2824 - mae: 21.2824 - mse: 540.3273 - val_loss: 21.8196 - val_mae: 21.8196 - val_mse: 552.7264\n",
      "Epoch 4/100\n",
      "13/13 [==============================] - 0s 876us/step - loss: 20.9276 - mae: 20.9276 - mse: 526.1636 - val_loss: 21.4703 - val_mae: 21.4703 - val_mse: 538.2215\n",
      "Epoch 5/100\n",
      "13/13 [==============================] - 0s 897us/step - loss: 20.5371 - mae: 20.5371 - mse: 510.9825 - val_loss: 21.0872 - val_mae: 21.0872 - val_mse: 522.6653\n",
      "Epoch 6/100\n",
      "13/13 [==============================] - 0s 873us/step - loss: 20.1151 - mae: 20.1151 - mse: 494.9681 - val_loss: 20.6730 - val_mae: 20.6730 - val_mse: 506.2154\n",
      "Epoch 7/100\n",
      "13/13 [==============================] - 0s 886us/step - loss: 19.6597 - mae: 19.6597 - mse: 478.0340 - val_loss: 20.2212 - val_mae: 20.2212 - val_mse: 488.6197\n",
      "Epoch 8/100\n",
      "13/13 [==============================] - 0s 876us/step - loss: 19.1734 - mae: 19.1734 - mse: 460.2889 - val_loss: 19.7440 - val_mae: 19.7440 - val_mse: 470.3526\n",
      "Epoch 9/100\n",
      "13/13 [==============================] - 0s 806us/step - loss: 18.6640 - mae: 18.6640 - mse: 442.0622 - val_loss: 19.2461 - val_mae: 19.2461 - val_mse: 451.7562\n",
      "Epoch 10/100\n",
      "13/13 [==============================] - 0s 3ms/step - loss: 18.1399 - mae: 18.1399 - mse: 423.5637 - val_loss: 18.7277 - val_mae: 18.7277 - val_mse: 432.9225\n",
      "Epoch 11/100\n",
      "13/13 [==============================] - 0s 3ms/step - loss: 17.5953 - mae: 17.5953 - mse: 404.8961 - val_loss: 18.1875 - val_mae: 18.1875 - val_mse: 413.8979\n",
      "Epoch 12/100\n",
      "13/13 [==============================] - 0s 842us/step - loss: 17.0297 - mae: 17.0297 - mse: 386.0927 - val_loss: 17.6214 - val_mae: 17.6214 - val_mse: 394.6259\n",
      "Epoch 13/100\n",
      "13/13 [==============================] - 0s 780us/step - loss: 16.4580 - mae: 16.4580 - mse: 367.2690 - val_loss: 17.0389 - val_mae: 17.0389 - val_mse: 375.4738\n",
      "Epoch 14/100\n",
      "13/13 [==============================] - 0s 932us/step - loss: 15.8871 - mae: 15.8871 - mse: 348.6843 - val_loss: 16.4571 - val_mae: 16.4571 - val_mse: 356.4790\n",
      "Epoch 15/100\n",
      "13/13 [==============================] - 0s 840us/step - loss: 15.3169 - mae: 15.3169 - mse: 330.4482 - val_loss: 15.8987 - val_mae: 15.8987 - val_mse: 337.7966\n",
      "Epoch 16/100\n",
      "13/13 [==============================] - 0s 840us/step - loss: 14.7515 - mae: 14.7515 - mse: 312.6660 - val_loss: 15.3370 - val_mae: 15.3370 - val_mse: 319.5198\n",
      "Epoch 17/100\n",
      "13/13 [==============================] - 0s 793us/step - loss: 14.1981 - mae: 14.1981 - mse: 295.4738 - val_loss: 14.7664 - val_mae: 14.7664 - val_mse: 301.7636\n",
      "Epoch 18/100\n",
      "13/13 [==============================] - 0s 878us/step - loss: 13.6538 - mae: 13.6538 - mse: 278.8670 - val_loss: 14.1970 - val_mae: 14.1970 - val_mse: 284.5355\n",
      "Epoch 19/100\n",
      "13/13 [==============================] - 0s 852us/step - loss: 13.1393 - mae: 13.1393 - mse: 263.0119 - val_loss: 13.6602 - val_mae: 13.6602 - val_mse: 268.1259\n",
      "Epoch 20/100\n",
      "13/13 [==============================] - 0s 844us/step - loss: 12.6530 - mae: 12.6530 - mse: 248.2078 - val_loss: 13.1600 - val_mae: 13.1600 - val_mse: 252.7274\n",
      "Epoch 21/100\n",
      "13/13 [==============================] - 0s 854us/step - loss: 12.1966 - mae: 12.1966 - mse: 234.3708 - val_loss: 12.6696 - val_mae: 12.6696 - val_mse: 238.1109\n",
      "Epoch 22/100\n",
      "13/13 [==============================] - 0s 848us/step - loss: 11.7837 - mae: 11.7837 - mse: 221.5558 - val_loss: 12.2085 - val_mae: 12.2085 - val_mse: 224.7659\n",
      "Epoch 23/100\n",
      "13/13 [==============================] - 0s 784us/step - loss: 11.4200 - mae: 11.4200 - mse: 210.0836 - val_loss: 11.7958 - val_mae: 11.7958 - val_mse: 212.5673\n",
      "Epoch 24/100\n",
      "13/13 [==============================] - 0s 871us/step - loss: 11.0772 - mae: 11.0772 - mse: 199.5977 - val_loss: 11.4141 - val_mae: 11.4141 - val_mse: 201.2810\n",
      "Epoch 25/100\n",
      "13/13 [==============================] - 0s 844us/step - loss: 10.7608 - mae: 10.7608 - mse: 189.9916 - val_loss: 11.0525 - val_mae: 11.0525 - val_mse: 190.7980\n",
      "Epoch 26/100\n",
      "13/13 [==============================] - 0s 852us/step - loss: 10.4723 - mae: 10.4723 - mse: 181.2825 - val_loss: 10.7059 - val_mae: 10.7059 - val_mse: 181.1869\n",
      "Epoch 27/100\n",
      "13/13 [==============================] - 0s 820us/step - loss: 10.1973 - mae: 10.1973 - mse: 173.3006 - val_loss: 10.3652 - val_mae: 10.3652 - val_mse: 172.2389\n",
      "Epoch 28/100\n",
      "13/13 [==============================] - 0s 811us/step - loss: 9.9511 - mae: 9.9511 - mse: 166.1210 - val_loss: 10.0788 - val_mae: 10.0788 - val_mse: 164.3630\n",
      "Epoch 29/100\n",
      "13/13 [==============================] - 0s 866us/step - loss: 9.7440 - mae: 9.7440 - mse: 159.9340 - val_loss: 9.8262 - val_mae: 9.8262 - val_mse: 157.4690\n",
      "Epoch 30/100\n",
      "13/13 [==============================] - 0s 820us/step - loss: 9.5637 - mae: 9.5637 - mse: 154.5200 - val_loss: 9.5984 - val_mae: 9.5984 - val_mse: 151.3672\n",
      "Epoch 31/100\n",
      "13/13 [==============================] - 0s 802us/step - loss: 9.4037 - mae: 9.4037 - mse: 149.7319 - val_loss: 9.3795 - val_mae: 9.3795 - val_mse: 145.8110\n",
      "Epoch 32/100\n",
      "13/13 [==============================] - 0s 821us/step - loss: 9.2471 - mae: 9.2471 - mse: 145.2987 - val_loss: 9.1645 - val_mae: 9.1645 - val_mse: 140.5505\n",
      "Epoch 33/100\n",
      "13/13 [==============================] - 0s 760us/step - loss: 9.0953 - mae: 9.0953 - mse: 141.1500 - val_loss: 8.9662 - val_mae: 8.9662 - val_mse: 135.6432\n",
      "Epoch 34/100\n",
      "13/13 [==============================] - 0s 833us/step - loss: 8.9546 - mae: 8.9546 - mse: 137.3310 - val_loss: 8.7755 - val_mae: 8.7755 - val_mse: 131.1401\n",
      "Epoch 35/100\n",
      "13/13 [==============================] - 0s 871us/step - loss: 8.8234 - mae: 8.8234 - mse: 133.8612 - val_loss: 8.5987 - val_mae: 8.5987 - val_mse: 127.1231\n",
      "Epoch 36/100\n",
      "13/13 [==============================] - 0s 812us/step - loss: 8.7062 - mae: 8.7062 - mse: 130.7886 - val_loss: 8.4462 - val_mae: 8.4462 - val_mse: 123.6568\n",
      "Epoch 37/100\n",
      "13/13 [==============================] - 0s 833us/step - loss: 8.5960 - mae: 8.5960 - mse: 127.9793 - val_loss: 8.3097 - val_mae: 8.3097 - val_mse: 120.4088\n",
      "Epoch 38/100\n",
      "13/13 [==============================] - 0s 837us/step - loss: 8.4844 - mae: 8.4844 - mse: 125.2562 - val_loss: 8.1726 - val_mae: 8.1726 - val_mse: 117.2395\n",
      "Epoch 39/100\n",
      "13/13 [==============================] - 0s 875us/step - loss: 8.3703 - mae: 8.3703 - mse: 122.5848 - val_loss: 8.0430 - val_mae: 8.0430 - val_mse: 114.2871\n",
      "Epoch 40/100\n",
      "13/13 [==============================] - 0s 911us/step - loss: 8.2550 - mae: 8.2550 - mse: 119.9985 - val_loss: 7.9176 - val_mae: 7.9176 - val_mse: 111.4943\n",
      "Epoch 41/100\n",
      "13/13 [==============================] - 0s 818us/step - loss: 8.1412 - mae: 8.1412 - mse: 117.4747 - val_loss: 7.7919 - val_mae: 7.7919 - val_mse: 108.7285\n",
      "Epoch 42/100\n",
      "13/13 [==============================] - 0s 808us/step - loss: 8.0274 - mae: 8.0274 - mse: 114.9768 - val_loss: 7.6649 - val_mae: 7.6649 - val_mse: 105.9985\n",
      "Epoch 43/100\n",
      "13/13 [==============================] - 0s 811us/step - loss: 7.9153 - mae: 7.9153 - mse: 112.5344 - val_loss: 7.5479 - val_mae: 7.5479 - val_mse: 103.4661\n",
      "Epoch 44/100\n",
      "13/13 [==============================] - 0s 831us/step - loss: 7.8052 - mae: 7.8052 - mse: 110.2057 - val_loss: 7.4438 - val_mae: 7.4438 - val_mse: 101.1666\n",
      "Epoch 45/100\n",
      "13/13 [==============================] - 0s 822us/step - loss: 7.6945 - mae: 7.6945 - mse: 107.9680 - val_loss: 7.3448 - val_mae: 7.3448 - val_mse: 99.0169\n",
      "Epoch 46/100\n",
      "13/13 [==============================] - 0s 888us/step - loss: 7.5837 - mae: 7.5837 - mse: 105.7906 - val_loss: 7.2461 - val_mae: 7.2461 - val_mse: 96.9211\n",
      "Epoch 47/100\n",
      "13/13 [==============================] - 0s 833us/step - loss: 7.4743 - mae: 7.4743 - mse: 103.6523 - val_loss: 7.1460 - val_mae: 7.1460 - val_mse: 94.8500\n",
      "Epoch 48/100\n",
      "13/13 [==============================] - 0s 851us/step - loss: 7.3679 - mae: 7.3679 - mse: 101.5453 - val_loss: 7.0448 - val_mae: 7.0448 - val_mse: 92.7717\n",
      "Epoch 49/100\n",
      "13/13 [==============================] - 0s 777us/step - loss: 7.2623 - mae: 7.2623 - mse: 99.4704 - val_loss: 6.9447 - val_mae: 6.9447 - val_mse: 90.7594\n",
      "Epoch 50/100\n",
      "13/13 [==============================] - 0s 926us/step - loss: 7.1580 - mae: 7.1580 - mse: 97.4654 - val_loss: 6.8466 - val_mae: 6.8466 - val_mse: 88.8183\n",
      "Epoch 51/100\n",
      "13/13 [==============================] - 0s 894us/step - loss: 7.0527 - mae: 7.0527 - mse: 95.4708 - val_loss: 6.7464 - val_mae: 6.7464 - val_mse: 86.8225\n",
      "Epoch 52/100\n",
      "13/13 [==============================] - 0s 826us/step - loss: 6.9461 - mae: 6.9461 - mse: 93.4496 - val_loss: 6.6408 - val_mae: 6.6408 - val_mse: 84.7713\n",
      "Epoch 53/100\n",
      "13/13 [==============================] - 0s 873us/step - loss: 6.8387 - mae: 6.8387 - mse: 91.4368 - val_loss: 6.5259 - val_mae: 6.5259 - val_mse: 82.6468\n",
      "Epoch 54/100\n",
      "13/13 [==============================] - 0s 802us/step - loss: 6.7270 - mae: 6.7270 - mse: 89.3330 - val_loss: 6.4015 - val_mae: 6.4015 - val_mse: 80.4481\n",
      "Epoch 55/100\n",
      "13/13 [==============================] - 0s 840us/step - loss: 6.6116 - mae: 6.6116 - mse: 87.2511 - val_loss: 6.2900 - val_mae: 6.2900 - val_mse: 78.5419\n",
      "Epoch 56/100\n",
      "13/13 [==============================] - 0s 813us/step - loss: 6.5050 - mae: 6.5050 - mse: 85.3287 - val_loss: 6.1869 - val_mae: 6.1869 - val_mse: 76.7368\n",
      "Epoch 57/100\n",
      "13/13 [==============================] - 0s 835us/step - loss: 6.4042 - mae: 6.4042 - mse: 83.6114 - val_loss: 6.0919 - val_mae: 6.0919 - val_mse: 75.2068\n",
      "Epoch 58/100\n",
      "13/13 [==============================] - 0s 909us/step - loss: 6.3086 - mae: 6.3086 - mse: 82.0332 - val_loss: 5.9990 - val_mae: 5.9990 - val_mse: 73.7360\n",
      "Epoch 59/100\n",
      "13/13 [==============================] - 0s 821us/step - loss: 6.2140 - mae: 6.2140 - mse: 80.5306 - val_loss: 5.9116 - val_mae: 5.9116 - val_mse: 72.3181\n",
      "Epoch 60/100\n",
      "13/13 [==============================] - 0s 915us/step - loss: 6.1221 - mae: 6.1221 - mse: 79.0905 - val_loss: 5.8248 - val_mae: 5.8248 - val_mse: 70.9305\n",
      "Epoch 61/100\n",
      "13/13 [==============================] - 0s 911us/step - loss: 6.0341 - mae: 6.0341 - mse: 77.6976 - val_loss: 5.7371 - val_mae: 5.7371 - val_mse: 69.5551\n",
      "Epoch 62/100\n",
      "13/13 [==============================] - 0s 867us/step - loss: 5.9508 - mae: 5.9508 - mse: 76.3422 - val_loss: 5.6538 - val_mae: 5.6538 - val_mse: 68.1938\n",
      "Epoch 63/100\n",
      "13/13 [==============================] - 0s 819us/step - loss: 5.8753 - mae: 5.8753 - mse: 75.0285 - val_loss: 5.5765 - val_mae: 5.5765 - val_mse: 66.8137\n",
      "Epoch 64/100\n",
      "13/13 [==============================] - 0s 922us/step - loss: 5.8047 - mae: 5.8047 - mse: 73.6546 - val_loss: 5.4990 - val_mae: 5.4990 - val_mse: 65.3596\n",
      "Epoch 65/100\n",
      "13/13 [==============================] - 0s 864us/step - loss: 5.7389 - mae: 5.7389 - mse: 72.3486 - val_loss: 5.4314 - val_mae: 5.4314 - val_mse: 64.0455\n",
      "Epoch 66/100\n",
      "13/13 [==============================] - 0s 802us/step - loss: 5.6816 - mae: 5.6816 - mse: 71.2204 - val_loss: 5.3704 - val_mae: 5.3704 - val_mse: 63.0158\n",
      "Epoch 67/100\n",
      "13/13 [==============================] - 0s 827us/step - loss: 5.6264 - mae: 5.6264 - mse: 70.3135 - val_loss: 5.3148 - val_mae: 5.3148 - val_mse: 62.1583\n",
      "Epoch 68/100\n",
      "13/13 [==============================] - 0s 786us/step - loss: 5.5743 - mae: 5.5743 - mse: 69.5025 - val_loss: 5.2613 - val_mae: 5.2613 - val_mse: 61.3861\n",
      "Epoch 69/100\n",
      "13/13 [==============================] - 0s 755us/step - loss: 5.5262 - mae: 5.5262 - mse: 68.6922 - val_loss: 5.2093 - val_mae: 5.2093 - val_mse: 60.4746\n",
      "Epoch 70/100\n",
      "13/13 [==============================] - 0s 803us/step - loss: 5.4842 - mae: 5.4842 - mse: 67.8263 - val_loss: 5.1649 - val_mae: 5.1649 - val_mse: 59.5805\n",
      "Epoch 71/100\n",
      "13/13 [==============================] - 0s 805us/step - loss: 5.4490 - mae: 5.4490 - mse: 67.0339 - val_loss: 5.1265 - val_mae: 5.1265 - val_mse: 58.8818\n",
      "Epoch 72/100\n",
      "13/13 [==============================] - 0s 869us/step - loss: 5.4182 - mae: 5.4182 - mse: 66.4314 - val_loss: 5.0906 - val_mae: 5.0906 - val_mse: 58.3255\n",
      "Epoch 73/100\n",
      "13/13 [==============================] - 0s 908us/step - loss: 5.3891 - mae: 5.3891 - mse: 65.8758 - val_loss: 5.0602 - val_mae: 5.0602 - val_mse: 57.7830\n",
      "Epoch 74/100\n",
      "13/13 [==============================] - 0s 919us/step - loss: 5.3614 - mae: 5.3614 - mse: 65.3699 - val_loss: 5.0317 - val_mae: 5.0317 - val_mse: 57.3452\n",
      "Epoch 75/100\n",
      "13/13 [==============================] - 0s 821us/step - loss: 5.3344 - mae: 5.3344 - mse: 64.9331 - val_loss: 5.0054 - val_mae: 5.0054 - val_mse: 56.8951\n",
      "Epoch 76/100\n",
      "13/13 [==============================] - 0s 802us/step - loss: 5.3088 - mae: 5.3088 - mse: 64.4869 - val_loss: 4.9793 - val_mae: 4.9793 - val_mse: 56.4527\n",
      "Epoch 77/100\n",
      "13/13 [==============================] - 0s 790us/step - loss: 5.2838 - mae: 5.2838 - mse: 63.9926 - val_loss: 4.9555 - val_mae: 4.9555 - val_mse: 55.8900\n",
      "Epoch 78/100\n",
      "13/13 [==============================] - 0s 856us/step - loss: 5.2607 - mae: 5.2607 - mse: 63.4183 - val_loss: 4.9336 - val_mae: 4.9336 - val_mse: 55.2611\n",
      "Epoch 79/100\n",
      "13/13 [==============================] - 0s 877us/step - loss: 5.2386 - mae: 5.2386 - mse: 62.8555 - val_loss: 4.9111 - val_mae: 4.9111 - val_mse: 54.7166\n",
      "Epoch 80/100\n",
      "13/13 [==============================] - 0s 808us/step - loss: 5.2173 - mae: 5.2173 - mse: 62.3524 - val_loss: 4.8889 - val_mae: 4.8889 - val_mse: 54.2251\n",
      "Epoch 81/100\n",
      "13/13 [==============================] - 0s 821us/step - loss: 5.1969 - mae: 5.1969 - mse: 61.9237 - val_loss: 4.8685 - val_mae: 4.8685 - val_mse: 53.8449\n",
      "Epoch 82/100\n",
      "13/13 [==============================] - 0s 770us/step - loss: 5.1774 - mae: 5.1774 - mse: 61.5411 - val_loss: 4.8510 - val_mae: 4.8510 - val_mse: 53.4119\n",
      "Epoch 83/100\n",
      "13/13 [==============================] - 0s 786us/step - loss: 5.1590 - mae: 5.1590 - mse: 61.1100 - val_loss: 4.8379 - val_mae: 4.8379 - val_mse: 52.9704\n",
      "Epoch 84/100\n",
      "13/13 [==============================] - 0s 845us/step - loss: 5.1418 - mae: 5.1418 - mse: 60.7092 - val_loss: 4.8241 - val_mae: 4.8241 - val_mse: 52.6049\n",
      "Epoch 85/100\n",
      "13/13 [==============================] - 0s 833us/step - loss: 5.1247 - mae: 5.1247 - mse: 60.3615 - val_loss: 4.8103 - val_mae: 4.8103 - val_mse: 52.2667\n",
      "Epoch 86/100\n",
      "13/13 [==============================] - 0s 782us/step - loss: 5.1077 - mae: 5.1077 - mse: 60.0365 - val_loss: 4.7955 - val_mae: 4.7955 - val_mse: 51.9635\n",
      "Epoch 87/100\n",
      "13/13 [==============================] - 0s 821us/step - loss: 5.0904 - mae: 5.0904 - mse: 59.7342 - val_loss: 4.7812 - val_mae: 4.7812 - val_mse: 51.6516\n",
      "Epoch 88/100\n",
      "13/13 [==============================] - 0s 839us/step - loss: 5.0737 - mae: 5.0737 - mse: 59.4033 - val_loss: 4.7688 - val_mae: 4.7688 - val_mse: 51.2768\n",
      "Epoch 89/100\n",
      "13/13 [==============================] - 0s 837us/step - loss: 5.0575 - mae: 5.0575 - mse: 59.0435 - val_loss: 4.7560 - val_mae: 4.7560 - val_mse: 50.9366\n",
      "Epoch 90/100\n",
      "13/13 [==============================] - 0s 839us/step - loss: 5.0416 - mae: 5.0416 - mse: 58.6944 - val_loss: 4.7427 - val_mae: 4.7427 - val_mse: 50.5965\n",
      "Epoch 91/100\n",
      "13/13 [==============================] - 0s 855us/step - loss: 5.0261 - mae: 5.0261 - mse: 58.3787 - val_loss: 4.7280 - val_mae: 4.7280 - val_mse: 50.3058\n",
      "Epoch 92/100\n",
      "13/13 [==============================] - 0s 787us/step - loss: 5.0102 - mae: 5.0102 - mse: 58.0933 - val_loss: 4.7133 - val_mae: 4.7133 - val_mse: 50.0044\n",
      "Epoch 93/100\n",
      "13/13 [==============================] - 0s 817us/step - loss: 4.9948 - mae: 4.9948 - mse: 57.7827 - val_loss: 4.6985 - val_mae: 4.6985 - val_mse: 49.7151\n",
      "Epoch 94/100\n",
      "13/13 [==============================] - 0s 840us/step - loss: 4.9796 - mae: 4.9796 - mse: 57.4908 - val_loss: 4.6841 - val_mae: 4.6841 - val_mse: 49.3976\n",
      "Epoch 95/100\n",
      "13/13 [==============================] - 0s 800us/step - loss: 4.9646 - mae: 4.9646 - mse: 57.1542 - val_loss: 4.6705 - val_mae: 4.6705 - val_mse: 49.0477\n",
      "Epoch 96/100\n",
      "13/13 [==============================] - 0s 815us/step - loss: 4.9505 - mae: 4.9505 - mse: 56.8262 - val_loss: 4.6554 - val_mae: 4.6554 - val_mse: 48.7604\n",
      "Epoch 97/100\n",
      "13/13 [==============================] - 0s 871us/step - loss: 4.9364 - mae: 4.9364 - mse: 56.5740 - val_loss: 4.6396 - val_mae: 4.6396 - val_mse: 48.5182\n",
      "Epoch 98/100\n",
      "13/13 [==============================] - 0s 825us/step - loss: 4.9226 - mae: 4.9226 - mse: 56.3153 - val_loss: 4.6250 - val_mae: 4.6250 - val_mse: 48.2375\n",
      "Epoch 99/100\n",
      "13/13 [==============================] - 0s 847us/step - loss: 4.9088 - mae: 4.9088 - mse: 56.0316 - val_loss: 4.6096 - val_mae: 4.6096 - val_mse: 47.9782\n",
      "Epoch 100/100\n",
      "13/13 [==============================] - 0s 876us/step - loss: 4.8945 - mae: 4.8945 - mse: 55.7816 - val_loss: 4.5936 - val_mae: 4.5936 - val_mse: 47.7396\n"
     ]
    }
   ],
   "source": [
    "model_1 = tf.keras.models.Sequential([\n",
    "    tf.keras.layers.Input(shape=(INPUT_SIZE,)),\n",
    "    tf.keras.layers.Dense(16, activation='relu'),\n",
    "    tf.keras.layers.Dense(OUTPUT_SIZE),\n",
    "], name=model_1_name)\n",
    "\n",
    "model_1.compile(loss='mae',\n",
    "                optimizer=tf.keras.optimizers.legacy.Adam(),\n",
    "                metrics=['mae', 'mse'])\n",
    "\n",
    "model_1_history = model_1.fit(train_dataset,\n",
    "                              validation_data=test_dataset,\n",
    "                              epochs=100)"
   ]
  },
  {
   "cell_type": "code",
   "execution_count": 28,
   "id": "583de64b-d496-4d96-ad6a-67d4fa6432f9",
   "metadata": {
    "ExecuteTime": {
     "end_time": "2023-10-07T00:20:18.880341Z",
     "start_time": "2023-10-07T00:20:18.795081Z"
    }
   },
   "outputs": [
    {
     "data": {
      "text/plain": "<Figure size 640x480 with 1 Axes>",
      "image/png": "[encoded data removed]"
     },
     "metadata": {},
     "output_type": "display_data"
    }
   ],
   "source": [
    "ml_toolbox.analysis.history.plot_history(model_1_history, 'mae')"
   ]
  },
  {
   "cell_type": "code",
   "execution_count": 29,
   "id": "d250feca-ebc9-42e5-b218-3ffbcbe1553f",
   "metadata": {
    "ExecuteTime": {
     "end_time": "2023-10-07T00:20:20.860093Z",
     "start_time": "2023-10-07T00:20:20.829680Z"
    }
   },
   "outputs": [
    {
     "name": "stdout",
     "output_type": "stream",
     "text": [
      "4/4 [==============================] - 0s 922us/step\n"
     ]
    },
    {
     "data": {
      "text/plain": "RegressionPredictionMetrics(mae=4.5935993, mse=47.73959, rmse=6.9093843, mape=18.382433, mase=0.4792413, huber=4.1252317, name='model_1_single_hidden_relu')"
     },
     "execution_count": 29,
     "metadata": {},
     "output_type": "execute_result"
    }
   ],
   "source": [
    "model_1_preds = model_1.predict(test_dataset)\n",
    "\n",
    "model_1_results = ml_toolbox.analysis.regression.generate_prediction_metrics(y_test, tf.squeeze(model_1_preds), model_1_name)\n",
    "model_1_results"
   ]
  },
  {
   "cell_type": "markdown",
   "id": "251c3f8c-16af-4fa3-add3-f85f56126aeb",
   "metadata": {
    "jp-MarkdownHeadingCollapsed": true
   },
   "source": [
    "### Experiment-2: Deep Neural Net w/ Non-Linear Activation"
   ]
  },
  {
   "cell_type": "code",
   "execution_count": 30,
   "id": "e0f6ed59-008a-42df-9587-6ca43c5c4ef9",
   "metadata": {
    "ExecuteTime": {
     "end_time": "2023-10-07T00:20:24.155927Z",
     "start_time": "2023-10-07T00:20:24.146788Z"
    }
   },
   "outputs": [],
   "source": [
    "# Constants\n",
    "model_2_name = 'model_2_deep_net'\n",
    "\n",
    "NUM_HIDDEN_LAYERS_2 = 15\n",
    "NUM_NEURONS_PER_HIDDEN_2 = 32"
   ]
  },
  {
   "cell_type": "code",
   "execution_count": 31,
   "id": "8425a8a1-cd27-4c59-b055-3d0ceecf8ff1",
   "metadata": {
    "ExecuteTime": {
     "end_time": "2023-10-07T00:20:28.838137Z",
     "start_time": "2023-10-07T00:20:25.618938Z"
    }
   },
   "outputs": [
    {
     "name": "stdout",
     "output_type": "stream",
     "text": [
      "Epoch 1/100\n",
      "13/13 [==============================] - 1s 8ms/step - loss: 22.3254 - mae: 22.3254 - mse: 584.9449 - val_loss: 22.8299 - val_mae: 22.8299 - val_mse: 597.0425\n",
      "Epoch 2/100\n",
      "13/13 [==============================] - 0s 1ms/step - loss: 21.4520 - mae: 21.4520 - mse: 548.0400 - val_loss: 20.2010 - val_mae: 20.2010 - val_mse: 488.1632\n",
      "Epoch 3/100\n",
      "13/13 [==============================] - 0s 1ms/step - loss: 13.6892 - mae: 13.6892 - mse: 279.9916 - val_loss: 10.0030 - val_mae: 10.0030 - val_mse: 168.5764\n",
      "Epoch 4/100\n",
      "13/13 [==============================] - 0s 1ms/step - loss: 10.0509 - mae: 10.0509 - mse: 166.3198 - val_loss: 9.0786 - val_mae: 9.0786 - val_mse: 138.1998\n",
      "Epoch 5/100\n",
      "13/13 [==============================] - 0s 1ms/step - loss: 8.0433 - mae: 8.0433 - mse: 112.3521 - val_loss: 6.9522 - val_mae: 6.9522 - val_mse: 91.6582\n",
      "Epoch 6/100\n",
      "13/13 [==============================] - 0s 1ms/step - loss: 6.6804 - mae: 6.6804 - mse: 85.8724 - val_loss: 5.6859 - val_mae: 5.6859 - val_mse: 66.0985\n",
      "Epoch 7/100\n",
      "13/13 [==============================] - 0s 1ms/step - loss: 5.7476 - mae: 5.7476 - mse: 68.9657 - val_loss: 5.0578 - val_mae: 5.0578 - val_mse: 54.9778\n",
      "Epoch 8/100\n",
      "13/13 [==============================] - 0s 2ms/step - loss: 5.2305 - mae: 5.2305 - mse: 61.2653 - val_loss: 4.7592 - val_mae: 4.7592 - val_mse: 47.3668\n",
      "Epoch 9/100\n",
      "13/13 [==============================] - 0s 2ms/step - loss: 5.1246 - mae: 5.1246 - mse: 59.4331 - val_loss: 4.5797 - val_mae: 4.5797 - val_mse: 43.9157\n",
      "Epoch 10/100\n",
      "13/13 [==============================] - 0s 2ms/step - loss: 5.0143 - mae: 5.0143 - mse: 57.1675 - val_loss: 4.4421 - val_mae: 4.4421 - val_mse: 41.7581\n",
      "Epoch 11/100\n",
      "13/13 [==============================] - 0s 2ms/step - loss: 5.1075 - mae: 5.1075 - mse: 57.2702 - val_loss: 4.3116 - val_mae: 4.3116 - val_mse: 42.2370\n",
      "Epoch 12/100\n",
      "13/13 [==============================] - 0s 2ms/step - loss: 5.0577 - mae: 5.0577 - mse: 56.0267 - val_loss: 4.2236 - val_mae: 4.2236 - val_mse: 42.5490\n",
      "Epoch 13/100\n",
      "13/13 [==============================] - 0s 2ms/step - loss: 4.8871 - mae: 4.8871 - mse: 52.7699 - val_loss: 4.1528 - val_mae: 4.1528 - val_mse: 41.5503\n",
      "Epoch 14/100\n",
      "13/13 [==============================] - 0s 2ms/step - loss: 4.6770 - mae: 4.6770 - mse: 48.9592 - val_loss: 4.0133 - val_mae: 4.0133 - val_mse: 38.5391\n",
      "Epoch 15/100\n",
      "13/13 [==============================] - 0s 2ms/step - loss: 4.4139 - mae: 4.4139 - mse: 44.8360 - val_loss: 3.8849 - val_mae: 3.8849 - val_mse: 35.2218\n",
      "Epoch 16/100\n",
      "13/13 [==============================] - 0s 2ms/step - loss: 4.1659 - mae: 4.1659 - mse: 41.2486 - val_loss: 3.8108 - val_mae: 3.8108 - val_mse: 32.5883\n",
      "Epoch 17/100\n",
      "13/13 [==============================] - 0s 2ms/step - loss: 3.9463 - mae: 3.9463 - mse: 38.2621 - val_loss: 3.8481 - val_mae: 3.8481 - val_mse: 29.8022\n",
      "Epoch 18/100\n",
      "13/13 [==============================] - 0s 8ms/step - loss: 3.7368 - mae: 3.7368 - mse: 34.5200 - val_loss: 3.8300 - val_mae: 3.8300 - val_mse: 27.4211\n",
      "Epoch 19/100\n",
      "13/13 [==============================] - 0s 2ms/step - loss: 3.5244 - mae: 3.5244 - mse: 31.1489 - val_loss: 3.5697 - val_mae: 3.5697 - val_mse: 24.7361\n",
      "Epoch 20/100\n",
      "13/13 [==============================] - 0s 2ms/step - loss: 3.2747 - mae: 3.2747 - mse: 27.3337 - val_loss: 3.2257 - val_mae: 3.2257 - val_mse: 22.6044\n",
      "Epoch 21/100\n",
      "13/13 [==============================] - 0s 2ms/step - loss: 3.0978 - mae: 3.0978 - mse: 24.6059 - val_loss: 3.0247 - val_mae: 3.0247 - val_mse: 20.3087\n",
      "Epoch 22/100\n",
      "13/13 [==============================] - 0s 2ms/step - loss: 2.9330 - mae: 2.9330 - mse: 22.0714 - val_loss: 3.1179 - val_mae: 3.1179 - val_mse: 18.9713\n",
      "Epoch 23/100\n",
      "13/13 [==============================] - 0s 2ms/step - loss: 2.7921 - mae: 2.7921 - mse: 20.1818 - val_loss: 2.8639 - val_mae: 2.8639 - val_mse: 16.6998\n",
      "Epoch 24/100\n",
      "13/13 [==============================] - 0s 2ms/step - loss: 2.6578 - mae: 2.6578 - mse: 18.2330 - val_loss: 2.6896 - val_mae: 2.6896 - val_mse: 16.0717\n",
      "Epoch 25/100\n",
      "13/13 [==============================] - 0s 2ms/step - loss: 2.5895 - mae: 2.5895 - mse: 17.3690 - val_loss: 2.7057 - val_mae: 2.7057 - val_mse: 14.8229\n",
      "Epoch 26/100\n",
      "13/13 [==============================] - 0s 2ms/step - loss: 2.5304 - mae: 2.5304 - mse: 16.3902 - val_loss: 2.7588 - val_mae: 2.7588 - val_mse: 14.7144\n",
      "Epoch 27/100\n",
      "13/13 [==============================] - 0s 2ms/step - loss: 2.4256 - mae: 2.4256 - mse: 14.6216 - val_loss: 2.6006 - val_mae: 2.6006 - val_mse: 14.4132\n",
      "Epoch 28/100\n",
      "13/13 [==============================] - 0s 2ms/step - loss: 2.4017 - mae: 2.4017 - mse: 14.4494 - val_loss: 2.5088 - val_mae: 2.5088 - val_mse: 14.2347\n",
      "Epoch 29/100\n",
      "13/13 [==============================] - 0s 2ms/step - loss: 2.4498 - mae: 2.4498 - mse: 14.8692 - val_loss: 2.5125 - val_mae: 2.5125 - val_mse: 14.9593\n",
      "Epoch 30/100\n",
      "13/13 [==============================] - 0s 2ms/step - loss: 2.6144 - mae: 2.6144 - mse: 16.9433 - val_loss: 2.7419 - val_mae: 2.7419 - val_mse: 14.5686\n",
      "Epoch 31/100\n",
      "13/13 [==============================] - 0s 2ms/step - loss: 2.3402 - mae: 2.3402 - mse: 14.4110 - val_loss: 2.4965 - val_mae: 2.4965 - val_mse: 13.7356\n",
      "Epoch 32/100\n",
      "13/13 [==============================] - 0s 2ms/step - loss: 2.2663 - mae: 2.2663 - mse: 13.4158 - val_loss: 2.5048 - val_mae: 2.5048 - val_mse: 12.9551\n",
      "Epoch 33/100\n",
      "13/13 [==============================] - 0s 2ms/step - loss: 2.2600 - mae: 2.2600 - mse: 13.5626 - val_loss: 2.5011 - val_mae: 2.5011 - val_mse: 13.5777\n",
      "Epoch 34/100\n",
      "13/13 [==============================] - 0s 2ms/step - loss: 2.2031 - mae: 2.2031 - mse: 12.7799 - val_loss: 2.4583 - val_mae: 2.4583 - val_mse: 13.3666\n",
      "Epoch 35/100\n",
      "13/13 [==============================] - 0s 2ms/step - loss: 2.2137 - mae: 2.2137 - mse: 12.9433 - val_loss: 2.4588 - val_mae: 2.4588 - val_mse: 13.3789\n",
      "Epoch 36/100\n",
      "13/13 [==============================] - 0s 2ms/step - loss: 2.1850 - mae: 2.1850 - mse: 12.6495 - val_loss: 2.5256 - val_mae: 2.5256 - val_mse: 13.9623\n",
      "Epoch 37/100\n",
      "13/13 [==============================] - 0s 2ms/step - loss: 2.1866 - mae: 2.1866 - mse: 12.7048 - val_loss: 2.6746 - val_mae: 2.6746 - val_mse: 13.5182\n",
      "Epoch 38/100\n",
      "13/13 [==============================] - 0s 2ms/step - loss: 2.2422 - mae: 2.2422 - mse: 13.1600 - val_loss: 2.4365 - val_mae: 2.4365 - val_mse: 12.5881\n",
      "Epoch 39/100\n",
      "13/13 [==============================] - 0s 2ms/step - loss: 2.1105 - mae: 2.1105 - mse: 11.7760 - val_loss: 2.4928 - val_mae: 2.4928 - val_mse: 14.1004\n",
      "Epoch 40/100\n",
      "13/13 [==============================] - 0s 2ms/step - loss: 2.1731 - mae: 2.1731 - mse: 12.3816 - val_loss: 2.4275 - val_mae: 2.4275 - val_mse: 13.2974\n",
      "Epoch 41/100\n",
      "13/13 [==============================] - 0s 2ms/step - loss: 2.1667 - mae: 2.1667 - mse: 12.2055 - val_loss: 2.5400 - val_mae: 2.5400 - val_mse: 14.5711\n",
      "Epoch 42/100\n",
      "13/13 [==============================] - 0s 2ms/step - loss: 2.2097 - mae: 2.2097 - mse: 12.3361 - val_loss: 2.5350 - val_mae: 2.5350 - val_mse: 14.8712\n",
      "Epoch 43/100\n",
      "13/13 [==============================] - 0s 2ms/step - loss: 2.2151 - mae: 2.2151 - mse: 12.5973 - val_loss: 2.3942 - val_mae: 2.3942 - val_mse: 11.8565\n",
      "Epoch 44/100\n",
      "13/13 [==============================] - 0s 2ms/step - loss: 2.1634 - mae: 2.1634 - mse: 12.0566 - val_loss: 2.4670 - val_mae: 2.4670 - val_mse: 13.1895\n",
      "Epoch 45/100\n",
      "13/13 [==============================] - 0s 2ms/step - loss: 2.0399 - mae: 2.0399 - mse: 10.6991 - val_loss: 2.6284 - val_mae: 2.6284 - val_mse: 15.4853\n",
      "Epoch 46/100\n",
      "13/13 [==============================] - 0s 2ms/step - loss: 2.1306 - mae: 2.1306 - mse: 11.8702 - val_loss: 2.4632 - val_mae: 2.4632 - val_mse: 12.3348\n",
      "Epoch 47/100\n",
      "13/13 [==============================] - 0s 2ms/step - loss: 2.0997 - mae: 2.0997 - mse: 11.5506 - val_loss: 2.5298 - val_mae: 2.5298 - val_mse: 13.4612\n",
      "Epoch 48/100\n",
      "13/13 [==============================] - 0s 2ms/step - loss: 2.0150 - mae: 2.0150 - mse: 10.7608 - val_loss: 2.5085 - val_mae: 2.5085 - val_mse: 13.1926\n",
      "Epoch 49/100\n",
      "13/13 [==============================] - 0s 2ms/step - loss: 2.0080 - mae: 2.0080 - mse: 10.8518 - val_loss: 2.4700 - val_mae: 2.4700 - val_mse: 11.9743\n",
      "Epoch 50/100\n",
      "13/13 [==============================] - 0s 2ms/step - loss: 2.0299 - mae: 2.0299 - mse: 10.7624 - val_loss: 2.4708 - val_mae: 2.4708 - val_mse: 11.7354\n",
      "Epoch 51/100\n",
      "13/13 [==============================] - 0s 2ms/step - loss: 1.9532 - mae: 1.9532 - mse: 10.0365 - val_loss: 2.3885 - val_mae: 2.3885 - val_mse: 11.8012\n",
      "Epoch 52/100\n",
      "13/13 [==============================] - 0s 2ms/step - loss: 1.9432 - mae: 1.9432 - mse: 9.6497 - val_loss: 2.4703 - val_mae: 2.4703 - val_mse: 13.5129\n",
      "Epoch 53/100\n",
      "13/13 [==============================] - 0s 2ms/step - loss: 2.0380 - mae: 2.0380 - mse: 10.2417 - val_loss: 2.3985 - val_mae: 2.3985 - val_mse: 12.6348\n",
      "Epoch 54/100\n",
      "13/13 [==============================] - 0s 2ms/step - loss: 2.1184 - mae: 2.1184 - mse: 10.9564 - val_loss: 2.3320 - val_mae: 2.3320 - val_mse: 11.8558\n",
      "Epoch 55/100\n",
      "13/13 [==============================] - 0s 2ms/step - loss: 1.9559 - mae: 1.9559 - mse: 10.0454 - val_loss: 2.5385 - val_mae: 2.5385 - val_mse: 13.3642\n",
      "Epoch 56/100\n",
      "13/13 [==============================] - 0s 2ms/step - loss: 1.9099 - mae: 1.9099 - mse: 9.3888 - val_loss: 2.5131 - val_mae: 2.5131 - val_mse: 13.0476\n",
      "Epoch 57/100\n",
      "13/13 [==============================] - 0s 2ms/step - loss: 1.9567 - mae: 1.9567 - mse: 9.9111 - val_loss: 2.4199 - val_mae: 2.4199 - val_mse: 11.6480\n",
      "Epoch 58/100\n",
      "13/13 [==============================] - 0s 2ms/step - loss: 1.9671 - mae: 1.9671 - mse: 10.0453 - val_loss: 2.4530 - val_mae: 2.4530 - val_mse: 11.7058\n",
      "Epoch 59/100\n",
      "13/13 [==============================] - 0s 2ms/step - loss: 1.8669 - mae: 1.8669 - mse: 9.3007 - val_loss: 2.3635 - val_mae: 2.3635 - val_mse: 11.1524\n",
      "Epoch 60/100\n",
      "13/13 [==============================] - 0s 2ms/step - loss: 1.8723 - mae: 1.8723 - mse: 9.1775 - val_loss: 2.3765 - val_mae: 2.3765 - val_mse: 10.3328\n",
      "Epoch 61/100\n",
      "13/13 [==============================] - 0s 2ms/step - loss: 1.9071 - mae: 1.9071 - mse: 9.2072 - val_loss: 2.5204 - val_mae: 2.5204 - val_mse: 10.9488\n",
      "Epoch 62/100\n",
      "13/13 [==============================] - 0s 2ms/step - loss: 2.0095 - mae: 2.0095 - mse: 9.9148 - val_loss: 2.5213 - val_mae: 2.5213 - val_mse: 11.2355\n",
      "Epoch 63/100\n",
      "13/13 [==============================] - 0s 2ms/step - loss: 1.9616 - mae: 1.9616 - mse: 8.7814 - val_loss: 2.3296 - val_mae: 2.3296 - val_mse: 11.0906\n",
      "Epoch 64/100\n",
      "13/13 [==============================] - 0s 2ms/step - loss: 1.8280 - mae: 1.8280 - mse: 8.3388 - val_loss: 2.4820 - val_mae: 2.4820 - val_mse: 12.4580\n",
      "Epoch 65/100\n",
      "13/13 [==============================] - 0s 2ms/step - loss: 1.9081 - mae: 1.9081 - mse: 8.9547 - val_loss: 2.3352 - val_mae: 2.3352 - val_mse: 11.3250\n",
      "Epoch 66/100\n",
      "13/13 [==============================] - 0s 2ms/step - loss: 1.8290 - mae: 1.8290 - mse: 8.5873 - val_loss: 2.4698 - val_mae: 2.4698 - val_mse: 12.8456\n",
      "Epoch 67/100\n",
      "13/13 [==============================] - 0s 2ms/step - loss: 2.0084 - mae: 2.0084 - mse: 9.6479 - val_loss: 2.3826 - val_mae: 2.3826 - val_mse: 10.4271\n",
      "Epoch 68/100\n",
      "13/13 [==============================] - 0s 2ms/step - loss: 1.9577 - mae: 1.9577 - mse: 9.5499 - val_loss: 2.5229 - val_mae: 2.5229 - val_mse: 11.2043\n",
      "Epoch 69/100\n",
      "13/13 [==============================] - 0s 2ms/step - loss: 1.9240 - mae: 1.9240 - mse: 8.9478 - val_loss: 2.3102 - val_mae: 2.3102 - val_mse: 10.1881\n",
      "Epoch 70/100\n",
      "13/13 [==============================] - 0s 2ms/step - loss: 1.8184 - mae: 1.8184 - mse: 8.4352 - val_loss: 2.2909 - val_mae: 2.2909 - val_mse: 10.2379\n",
      "Epoch 71/100\n",
      "13/13 [==============================] - 0s 2ms/step - loss: 1.7839 - mae: 1.7839 - mse: 7.8743 - val_loss: 2.2708 - val_mae: 2.2708 - val_mse: 10.3994\n",
      "Epoch 72/100\n",
      "13/13 [==============================] - 0s 2ms/step - loss: 1.7729 - mae: 1.7729 - mse: 7.9988 - val_loss: 2.7005 - val_mae: 2.7005 - val_mse: 14.3074\n",
      "Epoch 73/100\n",
      "13/13 [==============================] - 0s 2ms/step - loss: 1.9224 - mae: 1.9224 - mse: 8.9702 - val_loss: 2.3564 - val_mae: 2.3564 - val_mse: 11.1876\n",
      "Epoch 74/100\n",
      "13/13 [==============================] - 0s 2ms/step - loss: 1.9808 - mae: 1.9808 - mse: 9.5714 - val_loss: 2.5342 - val_mae: 2.5342 - val_mse: 10.6047\n",
      "Epoch 75/100\n",
      "13/13 [==============================] - 0s 2ms/step - loss: 1.9691 - mae: 1.9691 - mse: 8.9243 - val_loss: 2.4564 - val_mae: 2.4564 - val_mse: 10.5471\n",
      "Epoch 76/100\n",
      "13/13 [==============================] - 0s 2ms/step - loss: 1.8803 - mae: 1.8803 - mse: 7.9902 - val_loss: 2.2898 - val_mae: 2.2898 - val_mse: 10.3312\n",
      "Epoch 77/100\n",
      "13/13 [==============================] - 0s 2ms/step - loss: 1.7153 - mae: 1.7153 - mse: 7.3212 - val_loss: 2.2642 - val_mae: 2.2642 - val_mse: 10.0718\n",
      "Epoch 78/100\n",
      "13/13 [==============================] - 0s 2ms/step - loss: 1.7083 - mae: 1.7083 - mse: 7.5628 - val_loss: 2.3041 - val_mae: 2.3041 - val_mse: 10.4378\n",
      "Epoch 79/100\n",
      "13/13 [==============================] - 0s 2ms/step - loss: 1.7345 - mae: 1.7345 - mse: 7.7010 - val_loss: 2.4902 - val_mae: 2.4902 - val_mse: 11.9790\n",
      "Epoch 80/100\n",
      "13/13 [==============================] - 0s 2ms/step - loss: 1.8582 - mae: 1.8582 - mse: 8.3987 - val_loss: 2.2809 - val_mae: 2.2809 - val_mse: 9.9813\n",
      "Epoch 81/100\n",
      "13/13 [==============================] - 0s 2ms/step - loss: 1.8136 - mae: 1.8136 - mse: 8.4616 - val_loss: 2.4756 - val_mae: 2.4756 - val_mse: 10.2720\n",
      "Epoch 82/100\n",
      "13/13 [==============================] - 0s 2ms/step - loss: 1.8955 - mae: 1.8955 - mse: 8.2879 - val_loss: 2.3292 - val_mae: 2.3292 - val_mse: 9.7037\n",
      "Epoch 83/100\n",
      "13/13 [==============================] - 0s 2ms/step - loss: 1.8105 - mae: 1.8105 - mse: 7.7922 - val_loss: 2.2040 - val_mae: 2.2040 - val_mse: 9.5330\n",
      "Epoch 84/100\n",
      "13/13 [==============================] - 0s 2ms/step - loss: 1.6933 - mae: 1.6933 - mse: 7.1472 - val_loss: 2.2557 - val_mae: 2.2557 - val_mse: 10.1217\n",
      "Epoch 85/100\n",
      "13/13 [==============================] - 0s 2ms/step - loss: 1.8684 - mae: 1.8684 - mse: 7.8348 - val_loss: 2.5106 - val_mae: 2.5106 - val_mse: 12.6331\n",
      "Epoch 86/100\n",
      "13/13 [==============================] - 0s 2ms/step - loss: 2.1656 - mae: 2.1656 - mse: 10.3293 - val_loss: 2.5969 - val_mae: 2.5969 - val_mse: 10.9376\n",
      "Epoch 87/100\n",
      "13/13 [==============================] - 0s 2ms/step - loss: 1.9453 - mae: 1.9453 - mse: 8.6554 - val_loss: 2.2916 - val_mae: 2.2916 - val_mse: 9.8505\n",
      "Epoch 88/100\n",
      "13/13 [==============================] - 0s 2ms/step - loss: 1.7192 - mae: 1.7192 - mse: 7.2294 - val_loss: 2.1946 - val_mae: 2.1946 - val_mse: 9.4802\n",
      "Epoch 89/100\n",
      "13/13 [==============================] - 0s 2ms/step - loss: 1.6338 - mae: 1.6338 - mse: 6.5898 - val_loss: 2.2984 - val_mae: 2.2984 - val_mse: 10.3004\n",
      "Epoch 90/100\n",
      "13/13 [==============================] - 0s 2ms/step - loss: 1.7099 - mae: 1.7099 - mse: 7.0281 - val_loss: 2.2240 - val_mae: 2.2240 - val_mse: 9.8674\n",
      "Epoch 91/100\n",
      "13/13 [==============================] - 0s 2ms/step - loss: 1.7428 - mae: 1.7428 - mse: 7.3416 - val_loss: 2.2100 - val_mae: 2.2100 - val_mse: 9.0295\n",
      "Epoch 92/100\n",
      "13/13 [==============================] - 0s 2ms/step - loss: 1.8214 - mae: 1.8214 - mse: 7.7968 - val_loss: 2.4918 - val_mae: 2.4918 - val_mse: 10.1041\n",
      "Epoch 93/100\n",
      "13/13 [==============================] - 0s 2ms/step - loss: 1.8465 - mae: 1.8465 - mse: 7.4993 - val_loss: 2.2853 - val_mae: 2.2853 - val_mse: 9.3869\n",
      "Epoch 94/100\n",
      "13/13 [==============================] - 0s 2ms/step - loss: 1.6690 - mae: 1.6690 - mse: 6.5224 - val_loss: 2.2037 - val_mae: 2.2037 - val_mse: 9.7193\n",
      "Epoch 95/100\n",
      "13/13 [==============================] - 0s 2ms/step - loss: 1.6162 - mae: 1.6162 - mse: 6.3518 - val_loss: 2.1801 - val_mae: 2.1801 - val_mse: 9.1179\n",
      "Epoch 96/100\n",
      "13/13 [==============================] - 0s 2ms/step - loss: 1.6136 - mae: 1.6136 - mse: 6.6472 - val_loss: 2.4173 - val_mae: 2.4173 - val_mse: 11.0882\n",
      "Epoch 97/100\n",
      "13/13 [==============================] - 0s 2ms/step - loss: 1.6908 - mae: 1.6908 - mse: 7.0848 - val_loss: 2.2184 - val_mae: 2.2184 - val_mse: 9.8913\n",
      "Epoch 98/100\n",
      "13/13 [==============================] - 0s 2ms/step - loss: 1.7381 - mae: 1.7381 - mse: 7.3995 - val_loss: 2.2483 - val_mae: 2.2483 - val_mse: 9.0530\n",
      "Epoch 99/100\n",
      "13/13 [==============================] - 0s 2ms/step - loss: 1.7287 - mae: 1.7287 - mse: 7.3072 - val_loss: 2.3904 - val_mae: 2.3904 - val_mse: 9.8797\n",
      "Epoch 100/100\n",
      "13/13 [==============================] - 0s 2ms/step - loss: 1.7826 - mae: 1.7826 - mse: 7.3280 - val_loss: 2.1747 - val_mae: 2.1747 - val_mse: 8.6693\n"
     ]
    }
   ],
   "source": [
    "inputs = tf.keras.layers.Input(shape=(INPUT_SIZE,))\n",
    "\n",
    "x = inputs\n",
    "for _ in range(NUM_HIDDEN_LAYERS_2):\n",
    "    x = tf.keras.layers.Dense(NUM_NEURONS_PER_HIDDEN_2, activation='relu')(x)\n",
    "\n",
    "outputs = tf.keras.layers.Dense(OUTPUT_SIZE, activation='relu')(x)\n",
    "\n",
    "model_2 = tf.keras.models.Model(inputs, outputs, name=model_2_name)\n",
    "\n",
    "model_2.compile(loss='mae',\n",
    "                optimizer=tf.keras.optimizers.legacy.Adam(),\n",
    "                metrics=['mae', 'mse'])\n",
    "\n",
    "model_2_history = model_2.fit(train_dataset,\n",
    "                              validation_data=test_dataset,\n",
    "                              epochs=100)"
   ]
  },
  {
   "cell_type": "code",
   "execution_count": 32,
   "id": "e2084ba4-199d-47bb-ae98-0b0c09d17036",
   "metadata": {
    "ExecuteTime": {
     "end_time": "2023-10-07T00:20:30.074951Z",
     "start_time": "2023-10-07T00:20:30.000586Z"
    }
   },
   "outputs": [
    {
     "data": {
      "text/plain": "<Figure size 640x480 with 1 Axes>",
      "image/png": "[encoded data removed]"
     },
     "metadata": {},
     "output_type": "display_data"
    }
   ],
   "source": [
    "ml_toolbox.analysis.history.plot_history(model_2_history, 'mae')"
   ]
  },
  {
   "cell_type": "code",
   "execution_count": 33,
   "id": "f39dd42c-ef1d-4875-9f1e-4c73f51beb5b",
   "metadata": {
    "ExecuteTime": {
     "end_time": "2023-10-07T00:20:32.694246Z",
     "start_time": "2023-10-07T00:20:32.623894Z"
    }
   },
   "outputs": [
    {
     "name": "stdout",
     "output_type": "stream",
     "text": [
      "4/4 [==============================] - 0s 817us/step\n"
     ]
    },
    {
     "data": {
      "text/plain": "RegressionPredictionMetrics(mae=2.1746728, mse=8.669317, rmse=2.9443705, mape=10.246125, mase=0.2268794, huber=1.7424283, name='model_2_deep_net')"
     },
     "execution_count": 33,
     "metadata": {},
     "output_type": "execute_result"
    }
   ],
   "source": [
    "model_2_preds = model_2.predict(test_dataset)\n",
    "\n",
    "model_2_results = ml_toolbox.analysis.regression.generate_prediction_metrics(y_test, tf.squeeze(model_2_preds), model_2_name)\n",
    "model_2_results"
   ]
  },
  {
   "cell_type": "markdown",
   "source": [
    "### Experiment-3: Skip Neural Network w/ Non-Linear Activation"
   ],
   "metadata": {
    "collapsed": false
   },
   "id": "df5d7e8cbb2fc7c9"
  },
  {
   "cell_type": "code",
   "execution_count": 56,
   "outputs": [],
   "source": [
    "# Constants\n",
    "model_3_name = 'model_3_skip_nn'"
   ],
   "metadata": {
    "collapsed": false,
    "ExecuteTime": {
     "end_time": "2023-10-07T01:11:14.571299Z",
     "start_time": "2023-10-07T01:11:14.550019Z"
    }
   },
   "id": "e8f1df382d62a9f4"
  },
  {
   "cell_type": "code",
   "execution_count": 69,
   "outputs": [
    {
     "name": "stdout",
     "output_type": "stream",
     "text": [
      "Epoch 1/100\n",
      "13/13 [==============================] - 0s 8ms/step - loss: 22.1538 - mae: 22.1538 - mse: 576.4268 - val_loss: 22.5057 - val_mae: 22.5057 - val_mse: 581.0433\n",
      "Epoch 2/100\n",
      "13/13 [==============================] - 0s 1ms/step - loss: 21.4386 - mae: 21.4386 - mse: 544.8375 - val_loss: 21.5385 - val_mae: 21.5385 - val_mse: 539.1540\n",
      "Epoch 3/100\n",
      "13/13 [==============================] - 0s 1ms/step - loss: 20.1214 - mae: 20.1214 - mse: 491.2820 - val_loss: 19.6691 - val_mae: 19.6691 - val_mse: 463.8234\n",
      "Epoch 4/100\n",
      "13/13 [==============================] - 0s 1ms/step - loss: 17.3497 - mae: 17.3497 - mse: 391.6100 - val_loss: 15.6111 - val_mae: 15.6111 - val_mse: 326.3878\n",
      "Epoch 5/100\n",
      "13/13 [==============================] - 0s 1ms/step - loss: 12.0593 - mae: 12.0593 - mse: 231.8883 - val_loss: 9.2125 - val_mae: 9.2125 - val_mse: 145.2497\n",
      "Epoch 6/100\n",
      "13/13 [==============================] - 0s 1ms/step - loss: 8.4968 - mae: 8.4968 - mse: 124.1879 - val_loss: 7.4950 - val_mae: 7.4950 - val_mse: 98.4930\n",
      "Epoch 7/100\n",
      "13/13 [==============================] - 0s 1ms/step - loss: 7.9504 - mae: 7.9504 - mse: 109.9636 - val_loss: 6.9768 - val_mae: 6.9768 - val_mse: 93.7602\n",
      "Epoch 8/100\n",
      "13/13 [==============================] - 0s 1ms/step - loss: 7.1337 - mae: 7.1337 - mse: 97.6569 - val_loss: 6.3476 - val_mae: 6.3476 - val_mse: 81.2262\n",
      "Epoch 9/100\n",
      "13/13 [==============================] - 0s 1ms/step - loss: 6.5233 - mae: 6.5233 - mse: 83.8685 - val_loss: 5.7542 - val_mae: 5.7542 - val_mse: 69.1158\n",
      "Epoch 10/100\n",
      "13/13 [==============================] - 0s 1ms/step - loss: 5.9677 - mae: 5.9677 - mse: 74.4547 - val_loss: 5.2704 - val_mae: 5.2704 - val_mse: 61.1134\n",
      "Epoch 11/100\n",
      "13/13 [==============================] - 0s 1ms/step - loss: 5.4745 - mae: 5.4745 - mse: 65.5483 - val_loss: 4.8712 - val_mae: 4.8712 - val_mse: 54.2086\n",
      "Epoch 12/100\n",
      "13/13 [==============================] - 0s 1ms/step - loss: 5.1682 - mae: 5.1682 - mse: 59.4851 - val_loss: 4.7211 - val_mae: 4.7211 - val_mse: 51.5342\n",
      "Epoch 13/100\n",
      "13/13 [==============================] - 0s 1ms/step - loss: 4.9530 - mae: 4.9530 - mse: 56.7292 - val_loss: 4.6119 - val_mae: 4.6119 - val_mse: 47.7182\n",
      "Epoch 14/100\n",
      "13/13 [==============================] - 0s 1ms/step - loss: 4.8063 - mae: 4.8063 - mse: 53.9219 - val_loss: 4.4740 - val_mae: 4.4740 - val_mse: 46.1286\n",
      "Epoch 15/100\n",
      "13/13 [==============================] - 0s 1ms/step - loss: 4.6655 - mae: 4.6655 - mse: 51.4778 - val_loss: 4.3264 - val_mae: 4.3264 - val_mse: 43.4576\n",
      "Epoch 16/100\n",
      "13/13 [==============================] - 0s 1ms/step - loss: 4.5147 - mae: 4.5147 - mse: 49.1737 - val_loss: 4.1797 - val_mae: 4.1797 - val_mse: 40.5526\n",
      "Epoch 17/100\n",
      "13/13 [==============================] - 0s 1ms/step - loss: 4.3762 - mae: 4.3762 - mse: 46.7947 - val_loss: 4.0235 - val_mae: 4.0235 - val_mse: 38.8101\n",
      "Epoch 18/100\n",
      "13/13 [==============================] - 0s 1ms/step - loss: 4.2466 - mae: 4.2466 - mse: 43.8553 - val_loss: 3.8822 - val_mae: 3.8822 - val_mse: 35.8917\n",
      "Epoch 19/100\n",
      "13/13 [==============================] - 0s 1ms/step - loss: 4.0978 - mae: 4.0978 - mse: 41.7411 - val_loss: 3.7670 - val_mae: 3.7670 - val_mse: 32.9024\n",
      "Epoch 20/100\n",
      "13/13 [==============================] - 0s 1ms/step - loss: 3.9882 - mae: 3.9882 - mse: 39.6070 - val_loss: 3.6245 - val_mae: 3.6245 - val_mse: 31.8342\n",
      "Epoch 21/100\n",
      "13/13 [==============================] - 0s 1ms/step - loss: 3.8764 - mae: 3.8764 - mse: 37.2291 - val_loss: 3.5008 - val_mae: 3.5008 - val_mse: 29.6090\n",
      "Epoch 22/100\n",
      "13/13 [==============================] - 0s 1ms/step - loss: 3.7495 - mae: 3.7495 - mse: 35.2539 - val_loss: 3.3988 - val_mae: 3.3988 - val_mse: 26.9267\n",
      "Epoch 23/100\n",
      "13/13 [==============================] - 0s 1ms/step - loss: 3.6453 - mae: 3.6453 - mse: 32.9910 - val_loss: 3.2656 - val_mae: 3.2656 - val_mse: 25.6921\n",
      "Epoch 24/100\n",
      "13/13 [==============================] - 0s 1ms/step - loss: 3.5389 - mae: 3.5389 - mse: 31.1861 - val_loss: 3.1561 - val_mae: 3.1561 - val_mse: 24.1325\n",
      "Epoch 25/100\n",
      "13/13 [==============================] - 0s 1ms/step - loss: 3.4250 - mae: 3.4250 - mse: 29.6834 - val_loss: 3.0433 - val_mae: 3.0433 - val_mse: 21.9968\n",
      "Epoch 26/100\n",
      "13/13 [==============================] - 0s 1ms/step - loss: 3.3265 - mae: 3.3265 - mse: 27.8235 - val_loss: 2.9477 - val_mae: 2.9477 - val_mse: 20.8470\n",
      "Epoch 27/100\n",
      "13/13 [==============================] - 0s 1ms/step - loss: 3.2303 - mae: 3.2303 - mse: 26.2161 - val_loss: 2.8787 - val_mae: 2.8787 - val_mse: 19.7480\n",
      "Epoch 28/100\n",
      "13/13 [==============================] - 0s 1ms/step - loss: 3.1549 - mae: 3.1549 - mse: 24.7589 - val_loss: 2.8338 - val_mae: 2.8338 - val_mse: 18.4772\n",
      "Epoch 29/100\n",
      "13/13 [==============================] - 0s 1ms/step - loss: 3.0808 - mae: 3.0808 - mse: 23.6342 - val_loss: 2.8004 - val_mae: 2.8004 - val_mse: 17.5276\n",
      "Epoch 30/100\n",
      "13/13 [==============================] - 0s 1ms/step - loss: 3.0291 - mae: 3.0291 - mse: 22.8129 - val_loss: 2.7688 - val_mae: 2.7688 - val_mse: 16.7238\n",
      "Epoch 31/100\n",
      "13/13 [==============================] - 0s 1ms/step - loss: 2.9931 - mae: 2.9931 - mse: 22.0599 - val_loss: 2.7399 - val_mae: 2.7399 - val_mse: 16.2257\n",
      "Epoch 32/100\n",
      "13/13 [==============================] - 0s 1ms/step - loss: 2.9848 - mae: 2.9848 - mse: 21.7343 - val_loss: 2.7522 - val_mae: 2.7522 - val_mse: 15.5890\n",
      "Epoch 33/100\n",
      "13/13 [==============================] - 0s 1ms/step - loss: 3.0013 - mae: 3.0013 - mse: 21.6102 - val_loss: 2.7768 - val_mae: 2.7768 - val_mse: 15.0634\n",
      "Epoch 34/100\n",
      "13/13 [==============================] - 0s 1ms/step - loss: 2.9907 - mae: 2.9907 - mse: 21.5330 - val_loss: 2.8696 - val_mae: 2.8696 - val_mse: 14.9840\n",
      "Epoch 35/100\n",
      "13/13 [==============================] - 0s 1ms/step - loss: 2.9431 - mae: 2.9431 - mse: 21.1334 - val_loss: 2.9192 - val_mae: 2.9192 - val_mse: 14.9677\n",
      "Epoch 36/100\n",
      "13/13 [==============================] - 0s 1ms/step - loss: 2.8533 - mae: 2.8533 - mse: 20.4247 - val_loss: 2.7053 - val_mae: 2.7053 - val_mse: 14.4503\n",
      "Epoch 37/100\n",
      "13/13 [==============================] - 0s 1ms/step - loss: 2.8224 - mae: 2.8224 - mse: 19.9562 - val_loss: 2.7034 - val_mae: 2.7034 - val_mse: 14.4218\n",
      "Epoch 38/100\n",
      "13/13 [==============================] - 0s 1ms/step - loss: 2.8524 - mae: 2.8524 - mse: 20.1441 - val_loss: 2.8656 - val_mae: 2.8656 - val_mse: 14.6847\n",
      "Epoch 39/100\n",
      "13/13 [==============================] - 0s 1ms/step - loss: 2.8409 - mae: 2.8409 - mse: 20.1280 - val_loss: 2.8302 - val_mae: 2.8302 - val_mse: 14.5090\n",
      "Epoch 40/100\n",
      "13/13 [==============================] - 0s 1ms/step - loss: 2.7861 - mae: 2.7861 - mse: 19.6962 - val_loss: 2.7412 - val_mae: 2.7412 - val_mse: 14.3173\n",
      "Epoch 41/100\n",
      "13/13 [==============================] - 0s 1ms/step - loss: 2.7567 - mae: 2.7567 - mse: 19.5315 - val_loss: 2.6915 - val_mae: 2.6915 - val_mse: 14.1794\n",
      "Epoch 42/100\n",
      "13/13 [==============================] - 0s 1ms/step - loss: 2.7391 - mae: 2.7391 - mse: 19.3960 - val_loss: 2.6830 - val_mae: 2.6830 - val_mse: 14.1023\n",
      "Epoch 43/100\n",
      "13/13 [==============================] - 0s 1ms/step - loss: 2.7327 - mae: 2.7327 - mse: 19.3187 - val_loss: 2.6720 - val_mae: 2.6720 - val_mse: 14.1264\n",
      "Epoch 44/100\n",
      "13/13 [==============================] - 0s 1ms/step - loss: 2.7188 - mae: 2.7188 - mse: 19.2628 - val_loss: 2.6970 - val_mae: 2.6970 - val_mse: 14.1168\n",
      "Epoch 45/100\n",
      "13/13 [==============================] - 0s 1ms/step - loss: 2.7100 - mae: 2.7100 - mse: 19.1119 - val_loss: 2.7754 - val_mae: 2.7754 - val_mse: 14.2823\n",
      "Epoch 46/100\n",
      "13/13 [==============================] - 0s 1ms/step - loss: 2.7098 - mae: 2.7098 - mse: 19.0515 - val_loss: 2.7891 - val_mae: 2.7891 - val_mse: 14.3713\n",
      "Epoch 47/100\n",
      "13/13 [==============================] - 0s 1ms/step - loss: 2.6987 - mae: 2.6987 - mse: 18.9294 - val_loss: 2.6901 - val_mae: 2.6901 - val_mse: 14.0377\n",
      "Epoch 48/100\n",
      "13/13 [==============================] - 0s 1ms/step - loss: 2.6840 - mae: 2.6840 - mse: 18.7871 - val_loss: 2.6345 - val_mae: 2.6345 - val_mse: 13.7863\n",
      "Epoch 49/100\n",
      "13/13 [==============================] - 0s 1ms/step - loss: 2.6773 - mae: 2.6773 - mse: 18.6688 - val_loss: 2.6246 - val_mae: 2.6246 - val_mse: 13.6715\n",
      "Epoch 50/100\n",
      "13/13 [==============================] - 0s 1ms/step - loss: 2.6739 - mae: 2.6739 - mse: 18.7140 - val_loss: 2.6336 - val_mae: 2.6336 - val_mse: 13.6283\n",
      "Epoch 51/100\n",
      "13/13 [==============================] - 0s 1ms/step - loss: 2.6668 - mae: 2.6668 - mse: 18.5975 - val_loss: 2.6574 - val_mae: 2.6574 - val_mse: 13.7092\n",
      "Epoch 52/100\n",
      "13/13 [==============================] - 0s 1ms/step - loss: 2.6662 - mae: 2.6662 - mse: 18.5990 - val_loss: 2.6657 - val_mae: 2.6657 - val_mse: 13.7256\n",
      "Epoch 53/100\n",
      "13/13 [==============================] - 0s 1ms/step - loss: 2.6697 - mae: 2.6697 - mse: 18.5982 - val_loss: 2.7024 - val_mae: 2.7024 - val_mse: 13.7747\n",
      "Epoch 54/100\n",
      "13/13 [==============================] - 0s 1ms/step - loss: 2.6749 - mae: 2.6749 - mse: 18.7770 - val_loss: 2.7378 - val_mae: 2.7378 - val_mse: 13.8290\n",
      "Epoch 55/100\n",
      "13/13 [==============================] - 0s 1ms/step - loss: 2.6766 - mae: 2.6766 - mse: 18.7066 - val_loss: 2.7643 - val_mae: 2.7643 - val_mse: 13.7834\n",
      "Epoch 56/100\n",
      "13/13 [==============================] - 0s 1ms/step - loss: 2.6636 - mae: 2.6636 - mse: 18.5743 - val_loss: 2.7445 - val_mae: 2.7445 - val_mse: 13.5931\n",
      "Epoch 57/100\n",
      "13/13 [==============================] - 0s 1ms/step - loss: 2.6658 - mae: 2.6658 - mse: 18.5881 - val_loss: 2.8011 - val_mae: 2.8011 - val_mse: 13.7757\n",
      "Epoch 58/100\n",
      "13/13 [==============================] - 0s 1ms/step - loss: 2.6589 - mae: 2.6589 - mse: 18.4747 - val_loss: 2.8505 - val_mae: 2.8505 - val_mse: 13.9392\n",
      "Epoch 59/100\n",
      "13/13 [==============================] - 0s 1ms/step - loss: 2.6470 - mae: 2.6470 - mse: 18.2118 - val_loss: 2.7942 - val_mae: 2.7942 - val_mse: 13.7984\n",
      "Epoch 60/100\n",
      "13/13 [==============================] - 0s 1ms/step - loss: 2.6341 - mae: 2.6341 - mse: 18.0795 - val_loss: 2.6881 - val_mae: 2.6881 - val_mse: 13.3907\n",
      "Epoch 61/100\n",
      "13/13 [==============================] - 0s 1ms/step - loss: 2.6182 - mae: 2.6182 - mse: 18.0006 - val_loss: 2.6986 - val_mae: 2.6986 - val_mse: 13.3861\n",
      "Epoch 62/100\n",
      "13/13 [==============================] - 0s 1ms/step - loss: 2.6048 - mae: 2.6048 - mse: 17.8615 - val_loss: 2.7180 - val_mae: 2.7180 - val_mse: 13.4133\n",
      "Epoch 63/100\n",
      "13/13 [==============================] - 0s 1ms/step - loss: 2.5960 - mae: 2.5960 - mse: 17.7712 - val_loss: 2.7326 - val_mae: 2.7326 - val_mse: 13.4262\n",
      "Epoch 64/100\n",
      "13/13 [==============================] - 0s 1ms/step - loss: 2.5951 - mae: 2.5951 - mse: 17.8214 - val_loss: 2.8305 - val_mae: 2.8305 - val_mse: 13.8023\n",
      "Epoch 65/100\n",
      "13/13 [==============================] - 0s 1ms/step - loss: 2.5989 - mae: 2.5989 - mse: 17.7828 - val_loss: 2.7253 - val_mae: 2.7253 - val_mse: 13.3625\n",
      "Epoch 66/100\n",
      "13/13 [==============================] - 0s 1ms/step - loss: 2.5841 - mae: 2.5841 - mse: 17.5509 - val_loss: 2.7538 - val_mae: 2.7538 - val_mse: 13.3556\n",
      "Epoch 67/100\n",
      "13/13 [==============================] - 0s 1ms/step - loss: 2.5748 - mae: 2.5748 - mse: 17.5706 - val_loss: 2.7462 - val_mae: 2.7462 - val_mse: 13.3773\n",
      "Epoch 68/100\n",
      "13/13 [==============================] - 0s 1ms/step - loss: 2.5846 - mae: 2.5846 - mse: 17.5659 - val_loss: 2.6679 - val_mae: 2.6679 - val_mse: 13.1662\n",
      "Epoch 69/100\n",
      "13/13 [==============================] - 0s 1ms/step - loss: 2.5753 - mae: 2.5753 - mse: 17.5890 - val_loss: 2.6311 - val_mae: 2.6311 - val_mse: 13.1364\n",
      "Epoch 70/100\n",
      "13/13 [==============================] - 0s 1ms/step - loss: 2.5636 - mae: 2.5636 - mse: 17.5142 - val_loss: 2.5917 - val_mae: 2.5917 - val_mse: 13.0904\n",
      "Epoch 71/100\n",
      "13/13 [==============================] - 0s 1ms/step - loss: 2.5484 - mae: 2.5484 - mse: 17.3308 - val_loss: 2.6834 - val_mae: 2.6834 - val_mse: 13.0575\n",
      "Epoch 72/100\n",
      "13/13 [==============================] - 0s 1ms/step - loss: 2.5440 - mae: 2.5440 - mse: 17.2810 - val_loss: 2.7432 - val_mae: 2.7432 - val_mse: 13.2039\n",
      "Epoch 73/100\n",
      "13/13 [==============================] - 0s 1ms/step - loss: 2.5437 - mae: 2.5437 - mse: 17.2185 - val_loss: 2.7071 - val_mae: 2.7071 - val_mse: 13.1337\n",
      "Epoch 74/100\n",
      "13/13 [==============================] - 0s 1ms/step - loss: 2.5280 - mae: 2.5280 - mse: 17.0393 - val_loss: 2.7202 - val_mae: 2.7202 - val_mse: 13.0815\n",
      "Epoch 75/100\n",
      "13/13 [==============================] - 0s 2ms/step - loss: 2.5260 - mae: 2.5260 - mse: 17.0265 - val_loss: 2.6725 - val_mae: 2.6725 - val_mse: 13.0118\n",
      "Epoch 76/100\n",
      "13/13 [==============================] - 0s 1ms/step - loss: 2.5167 - mae: 2.5167 - mse: 16.9521 - val_loss: 2.7229 - val_mae: 2.7229 - val_mse: 13.0358\n",
      "Epoch 77/100\n",
      "13/13 [==============================] - 0s 1ms/step - loss: 2.5172 - mae: 2.5172 - mse: 16.9725 - val_loss: 2.7852 - val_mae: 2.7852 - val_mse: 13.3580\n",
      "Epoch 78/100\n",
      "13/13 [==============================] - 0s 1ms/step - loss: 2.5155 - mae: 2.5155 - mse: 16.8868 - val_loss: 2.7663 - val_mae: 2.7663 - val_mse: 13.3240\n",
      "Epoch 79/100\n",
      "13/13 [==============================] - 0s 2ms/step - loss: 2.5082 - mae: 2.5082 - mse: 16.7984 - val_loss: 2.7265 - val_mae: 2.7265 - val_mse: 13.2247\n",
      "Epoch 80/100\n",
      "13/13 [==============================] - 0s 1ms/step - loss: 2.5040 - mae: 2.5040 - mse: 16.8055 - val_loss: 2.7363 - val_mae: 2.7363 - val_mse: 13.3091\n",
      "Epoch 81/100\n",
      "13/13 [==============================] - 0s 1ms/step - loss: 2.5001 - mae: 2.5001 - mse: 16.7241 - val_loss: 2.6780 - val_mae: 2.6780 - val_mse: 13.0928\n",
      "Epoch 82/100\n",
      "13/13 [==============================] - 0s 1ms/step - loss: 2.4850 - mae: 2.4850 - mse: 16.5910 - val_loss: 2.6203 - val_mae: 2.6203 - val_mse: 12.9454\n",
      "Epoch 83/100\n",
      "13/13 [==============================] - 0s 1ms/step - loss: 2.4752 - mae: 2.4752 - mse: 16.4914 - val_loss: 2.6443 - val_mae: 2.6443 - val_mse: 12.9121\n",
      "Epoch 84/100\n",
      "13/13 [==============================] - 0s 1ms/step - loss: 2.4692 - mae: 2.4692 - mse: 16.4501 - val_loss: 2.6432 - val_mae: 2.6432 - val_mse: 12.8279\n",
      "Epoch 85/100\n",
      "13/13 [==============================] - 0s 1ms/step - loss: 2.4712 - mae: 2.4712 - mse: 16.4272 - val_loss: 2.7368 - val_mae: 2.7368 - val_mse: 12.9520\n",
      "Epoch 86/100\n",
      "13/13 [==============================] - 0s 1ms/step - loss: 2.4683 - mae: 2.4683 - mse: 16.3901 - val_loss: 2.6788 - val_mae: 2.6788 - val_mse: 12.7157\n",
      "Epoch 87/100\n",
      "13/13 [==============================] - 0s 1ms/step - loss: 2.4836 - mae: 2.4836 - mse: 16.5844 - val_loss: 2.7119 - val_mae: 2.7119 - val_mse: 12.6843\n",
      "Epoch 88/100\n",
      "13/13 [==============================] - 0s 3ms/step - loss: 2.4582 - mae: 2.4582 - mse: 16.4981 - val_loss: 2.7526 - val_mae: 2.7526 - val_mse: 12.7860\n",
      "Epoch 89/100\n",
      "13/13 [==============================] - 0s 1ms/step - loss: 2.4690 - mae: 2.4690 - mse: 16.3083 - val_loss: 2.6756 - val_mae: 2.6756 - val_mse: 12.6969\n",
      "Epoch 90/100\n",
      "13/13 [==============================] - 0s 1ms/step - loss: 2.4433 - mae: 2.4433 - mse: 16.1478 - val_loss: 2.6888 - val_mae: 2.6888 - val_mse: 12.7074\n",
      "Epoch 91/100\n",
      "13/13 [==============================] - 0s 1ms/step - loss: 2.4344 - mae: 2.4344 - mse: 16.0919 - val_loss: 2.6906 - val_mae: 2.6906 - val_mse: 12.6553\n",
      "Epoch 92/100\n",
      "13/13 [==============================] - 0s 1ms/step - loss: 2.4504 - mae: 2.4504 - mse: 16.1705 - val_loss: 2.6599 - val_mae: 2.6599 - val_mse: 12.6058\n",
      "Epoch 93/100\n",
      "13/13 [==============================] - 0s 1ms/step - loss: 2.4177 - mae: 2.4177 - mse: 16.0353 - val_loss: 2.7273 - val_mae: 2.7273 - val_mse: 12.7673\n",
      "Epoch 94/100\n",
      "13/13 [==============================] - 0s 1ms/step - loss: 2.4279 - mae: 2.4279 - mse: 15.9411 - val_loss: 2.6385 - val_mae: 2.6385 - val_mse: 12.4403\n",
      "Epoch 95/100\n",
      "13/13 [==============================] - 0s 1ms/step - loss: 2.4341 - mae: 2.4341 - mse: 16.0957 - val_loss: 2.7480 - val_mae: 2.7480 - val_mse: 12.7903\n",
      "Epoch 96/100\n",
      "13/13 [==============================] - 0s 1ms/step - loss: 2.4185 - mae: 2.4185 - mse: 15.8622 - val_loss: 2.6424 - val_mae: 2.6424 - val_mse: 12.4307\n",
      "Epoch 97/100\n",
      "13/13 [==============================] - 0s 1ms/step - loss: 2.4177 - mae: 2.4177 - mse: 15.8365 - val_loss: 2.6611 - val_mae: 2.6611 - val_mse: 12.5133\n",
      "Epoch 98/100\n",
      "13/13 [==============================] - 0s 1ms/step - loss: 2.3964 - mae: 2.3964 - mse: 15.7539 - val_loss: 2.6390 - val_mae: 2.6390 - val_mse: 12.4542\n",
      "Epoch 99/100\n",
      "13/13 [==============================] - 0s 1ms/step - loss: 2.4055 - mae: 2.4055 - mse: 15.6851 - val_loss: 2.5800 - val_mae: 2.5800 - val_mse: 12.3110\n",
      "Epoch 100/100\n",
      "13/13 [==============================] - 0s 1ms/step - loss: 2.3726 - mae: 2.3726 - mse: 15.6070 - val_loss: 2.5962 - val_mae: 2.5962 - val_mse: 12.2863\n"
     ]
    }
   ],
   "source": [
    "inputs = tf.keras.layers.Input(shape=(INPUT_SIZE,))\n",
    "x = tf.keras.layers.Dense(64)(inputs)\n",
    "x = SkipConnectionDenseLayer(64, hidden_layers=6)(x)\n",
    "x = tf.keras.layers.Dense(32)(inputs)\n",
    "x = SkipConnectionDenseLayer(32, hidden_layers=6)(x)\n",
    "x = tf.keras.layers.Dense(16)(inputs)\n",
    "x = SkipConnectionDenseLayer(16, hidden_layers=6)(x)\n",
    "outputs = tf.keras.layers.Dense(OUTPUT_SIZE, activation='relu')(x)\n",
    "\n",
    "model_3 = tf.keras.models.Model(inputs, outputs, name=model_3_name)\n",
    "\n",
    "model_3.compile(loss='mae',\n",
    "                optimizer=tf.keras.optimizers.legacy.Adam(),\n",
    "                metrics=['mae', 'mse'])\n",
    "\n",
    "model_3_history = model_3.fit(train_dataset,\n",
    "                              validation_data=test_dataset,\n",
    "                              epochs=100)"
   ],
   "metadata": {
    "collapsed": false,
    "ExecuteTime": {
     "end_time": "2023-10-07T01:16:56.062325Z",
     "start_time": "2023-10-07T01:16:53.656069Z"
    }
   },
   "id": "49558581aec3b554"
  },
  {
   "cell_type": "code",
   "execution_count": 70,
   "outputs": [
    {
     "data": {
      "text/plain": "<Figure size 640x480 with 1 Axes>",
      "image/png": "[encoded data removed]"
     },
     "metadata": {},
     "output_type": "display_data"
    }
   ],
   "source": [
    "ml_toolbox.analysis.history.plot_history(model_3_history, 'mae')"
   ],
   "metadata": {
    "collapsed": false,
    "ExecuteTime": {
     "end_time": "2023-10-07T01:16:57.793989Z",
     "start_time": "2023-10-07T01:16:57.678472Z"
    }
   },
   "id": "20970be4b9c52c40"
  },
  {
   "cell_type": "code",
   "execution_count": 71,
   "outputs": [
    {
     "name": "stdout",
     "output_type": "stream",
     "text": [
      "4/4 [==============================] - 0s 1ms/step\n"
     ]
    },
    {
     "data": {
      "text/plain": "RegressionPredictionMetrics(mae=2.596233, mse=12.286273, rmse=3.505178, mape=12.119926, mase=0.27085996, huber=2.1472216, name='model_3_skip_nn')"
     },
     "execution_count": 71,
     "metadata": {},
     "output_type": "execute_result"
    }
   ],
   "source": [
    "model_3_preds = model_3.predict(test_dataset)\n",
    "\n",
    "model_3_results = ml_toolbox.analysis.regression.generate_prediction_metrics(y_test, tf.squeeze(model_3_preds), model_3_name)\n",
    "model_3_results"
   ],
   "metadata": {
    "collapsed": false,
    "ExecuteTime": {
     "end_time": "2023-10-07T01:16:58.659026Z",
     "start_time": "2023-10-07T01:16:58.608484Z"
    }
   },
   "id": "8a475378cb82c36f"
  }
 ],
 "metadata": {
  "kernelspec": {
   "display_name": "Python 3 (ipykernel)",
   "language": "python",
   "name": "python3"
  },
  "language_info": {
   "codemirror_mode": {
    "name": "ipython",
    "version": 3
   },
   "file_extension": ".py",
   "mimetype": "text/x-python",
   "name": "python",
   "nbconvert_exporter": "python",
   "pygments_lexer": "ipython3",
   "version": "3.9.6"
  }
 },
 "nbformat": 4,
 "nbformat_minor": 5
}
