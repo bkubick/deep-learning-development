{
 "cells": [
  {
   "attachments": {},
   "cell_type": "markdown",
   "id": "8f25a09a",
   "metadata": {},
   "source": [
    "# Medical Insurance Cost - Neural Network Regression\n",
    "\n",
    "This project is the first step into a larger dataset for regression analysis. The purpose of this is to build out what an actual regression deep learning project might look like using actual data.\n",
    "\n",
    "Going to look at the medical cost dataset from Kaggle:\n",
    "* https://www.kaggle.com/datasets/mirichoi0218/insurance?r"
   ]
  },
  {
   "attachments": {},
   "cell_type": "markdown",
   "id": "390fb238",
   "metadata": {},
   "source": [
    "## Setup and Define Helpers\n",
    "\n",
    "1. Import all required files\n",
    "2. Define all helper methods used"
   ]
  },
  {
   "attachments": {},
   "cell_type": "markdown",
   "id": "1c502d99",
   "metadata": {},
   "source": [
    "### Imports"
   ]
  },
  {
   "cell_type": "code",
   "execution_count": null,
   "id": "9eec09d8",
   "metadata": {},
   "outputs": [],
   "source": [
    "import os\n",
    "import random\n",
    "import sys\n",
    "\n",
    "module_path = os.path.abspath(os.path.join('../..'))\n",
    "if module_path not in sys.path:\n",
    "    sys.path.append(module_path)\n",
    "\n",
    "import pandas as pd\n",
    "import matplotlib.pyplot as plt\n",
    "from sklearn.compose import make_column_transformer\n",
    "from sklearn.preprocessing import MinMaxScaler, OneHotEncoder\n",
    "from sklearn.model_selection import train_test_split\n",
    "import tensorflow as tf\n",
    "from tensorflow.keras.utils import plot_model\n",
    "\n",
    "from src import utils"
   ]
  },
  {
   "attachments": {},
   "cell_type": "markdown",
   "id": "77cc6b96",
   "metadata": {},
   "source": [
    "### Plot Helper Functions"
   ]
  },
  {
   "cell_type": "code",
   "execution_count": null,
   "id": "0537232a",
   "metadata": {},
   "outputs": [],
   "source": [
    "def plot_actual_versus_predicted_data(y_true, y_predict):\n",
    "    \"\"\" Plots the actual true values against the predicted values.\n",
    "        Note that better predictions have a slope closer to 1.\n",
    "    \"\"\"\n",
    "    plt.figure(figsize=(10, 7))\n",
    "    \n",
    "    plt.title('Actual Value vs. Predicted Value')\n",
    "    plt.scatter(y_true, y_predict)\n",
    "\n",
    "    \n",
    "def plot_history(history):\n",
    "    pd.DataFrame(history.history).plot()\n",
    "    plt.ylabel('Loss')\n",
    "    plt.xlabel('Epochs')"
   ]
  },
  {
   "attachments": {},
   "cell_type": "markdown",
   "id": "d8b44ac5",
   "metadata": {},
   "source": [
    "### Metrics Helpers"
   ]
  },
  {
   "cell_type": "code",
   "execution_count": null,
   "id": "ace6fd13",
   "metadata": {},
   "outputs": [],
   "source": [
    "def mae(y_true, y_pred):\n",
    "    return tf.keras.metrics.mean_absolute_error(tf.squeeze(y_true), tf.squeeze(y_pred))\n",
    "\n",
    "\n",
    "def mse(y_true, y_pred):\n",
    "    return tf.keras.metrics.mean_squared_error(tf.squeeze(y_true), tf.squeeze(y_pred))\n",
    "\n",
    "\n",
    "def visualize_model(model):\n",
    "    return plot_model(model, show_shapes=True, show_layer_names=True)"
   ]
  },
  {
   "attachments": {},
   "cell_type": "markdown",
   "id": "9e399c31",
   "metadata": {},
   "source": [
    "## Step-0: Get & Analyze the Data\n",
    "\n",
    "Need to look at the data to see what needs to be done to build out a model."
   ]
  },
  {
   "cell_type": "code",
   "execution_count": null,
   "id": "219c8e0b",
   "metadata": {},
   "outputs": [],
   "source": [
    "# Reading the dataset from the raw csv file on the public github file\n",
    "csv_dataset_url = 'https://raw.githubusercontent.com/stedy/Machine-Learning-with-R-datasets/master/insurance.csv'\n",
    "insurance = pd.read_csv(csv_dataset_url)"
   ]
  },
  {
   "cell_type": "code",
   "execution_count": null,
   "id": "4f275898",
   "metadata": {},
   "outputs": [],
   "source": [
    "insurance.head()"
   ]
  },
  {
   "cell_type": "code",
   "execution_count": null,
   "id": "4100677a",
   "metadata": {},
   "outputs": [],
   "source": [
    "# Looking at the spread of the number of children\n",
    "insurance['children'].value_counts()"
   ]
  },
  {
   "cell_type": "code",
   "execution_count": null,
   "id": "e8b7933b",
   "metadata": {},
   "outputs": [],
   "source": [
    "insurance['age'].plot(kind='hist')"
   ]
  },
  {
   "cell_type": "code",
   "execution_count": null,
   "id": "dbe09a73",
   "metadata": {},
   "outputs": [],
   "source": [
    "insurance['bmi'].plot(kind='hist')"
   ]
  },
  {
   "attachments": {},
   "cell_type": "markdown",
   "id": "09c40f3c",
   "metadata": {},
   "source": [
    "## Step-1: Preprocess the Data\n",
    "\n",
    "1. Need to encode string variables to one hot encoder value.\n",
    "2. Scaling features (normalizing, standarizing, etc.)"
   ]
  },
  {
   "cell_type": "code",
   "execution_count": null,
   "id": "65fc69c3",
   "metadata": {},
   "outputs": [],
   "source": [
    "# Creating the Feature Scaler and One Hot Encoder\n",
    "column_transformer = make_column_transformer(\n",
    "    (MinMaxScaler(), ['age', 'bmi', 'children']),  # turn all value in these columns between 0 and 1\n",
    "    (OneHotEncoder(handle_unknown='ignore'), ['sex', 'smoker', 'region']))"
   ]
  },
  {
   "attachments": {},
   "cell_type": "markdown",
   "id": "fd90f6fd",
   "metadata": {},
   "source": [
    "## Step-2: Splitting the Training & Test Data"
   ]
  },
  {
   "cell_type": "code",
   "execution_count": null,
   "id": "b1395a83",
   "metadata": {},
   "outputs": [],
   "source": [
    "# Creating a TensorFlow Tensor from the df\n",
    "y_column_name = 'charges'\n",
    "X_df = insurance.drop(y_column_name, axis=1)\n",
    "y_df = insurance[y_column_name]"
   ]
  },
  {
   "cell_type": "code",
   "execution_count": null,
   "id": "bc615543",
   "metadata": {},
   "outputs": [],
   "source": [
    "# Splitting the data to test and train\n",
    "# NOTE: We do not need to convert these to tensors, Pandas is built on top of numpy which is handled directly\n",
    "# with the model\n",
    "\n",
    "X_train, X_test, y_train, y_test = train_test_split(X_df, y_df, test_size=0.2, random_state=42)\n",
    "\n",
    "# Fit the column transformer to our training data\n",
    "column_transformer.fit(X_train)\n",
    "X_train_normal = column_transformer.transform(X_train)\n",
    "X_test_normal = column_transformer.transform(X_test)"
   ]
  },
  {
   "cell_type": "code",
   "execution_count": null,
   "id": "b288bdee",
   "metadata": {},
   "outputs": [],
   "source": [
    "# What does the data look like?\n",
    "X_train_normal[0]"
   ]
  },
  {
   "attachments": {},
   "cell_type": "markdown",
   "id": "611fe23b",
   "metadata": {},
   "source": [
    "## Step-3: Creating and Visualizing the Model\n",
    "\n",
    "I am going to create, compile, and fit a simple model as my first Trial to get a Baseline on where to start."
   ]
  },
  {
   "attachments": {},
   "cell_type": "markdown",
   "id": "e2de05bb",
   "metadata": {},
   "source": [
    "### Trial-1: No Hidden Layers, epochs=10"
   ]
  },
  {
   "attachments": {},
   "cell_type": "markdown",
   "id": "2c5c9111",
   "metadata": {},
   "source": [
    "#### Creating, Compiling, & Fitting Model"
   ]
  },
  {
   "cell_type": "code",
   "execution_count": null,
   "id": "b7867cc3",
   "metadata": {},
   "outputs": [],
   "source": [
    "# Need to figure out how many input variables there are for the Input layer\n",
    "number_of_input_variables = X_train_normal.shape[-1]\n",
    "\n",
    "# 1. Creating Model\n",
    "model_1 = tf.keras.models.Sequential([\n",
    "    tf.keras.layers.Input(shape=(number_of_input_variables,), name='InputLayer'),\n",
    "    tf.keras.layers.Dense(1, name='OutputLayer')\n",
    "])\n",
    "\n",
    "# 2. Compiling Model\n",
    "model_1.compile(loss=tf.keras.losses.mae,\n",
    "              optimizer=tf.keras.optimizers.legacy.SGD(),\n",
    "              metrics=['mae'])\n",
    "\n",
    "# 3. Fitting Model\n",
    "history_1 = model_1.fit(X_train_normal, y_train, epochs=10)"
   ]
  },
  {
   "attachments": {},
   "cell_type": "markdown",
   "id": "aefc9dc7",
   "metadata": {},
   "source": [
    "#### Predicting Model"
   ]
  },
  {
   "cell_type": "code",
   "execution_count": null,
   "id": "a0d2752e",
   "metadata": {},
   "outputs": [],
   "source": [
    "# Predicting\n",
    "y_pred_1 = model_1.predict(X_test_normal)"
   ]
  },
  {
   "attachments": {},
   "cell_type": "markdown",
   "id": "e41702ac",
   "metadata": {},
   "source": [
    "#### Evaluating Model"
   ]
  },
  {
   "cell_type": "code",
   "execution_count": null,
   "id": "5d136a18",
   "metadata": {},
   "outputs": [],
   "source": [
    "model_1.summary()"
   ]
  },
  {
   "cell_type": "code",
   "execution_count": null,
   "id": "77c2056d",
   "metadata": {},
   "outputs": [],
   "source": [
    "visualize_model(model_1)"
   ]
  },
  {
   "cell_type": "code",
   "execution_count": null,
   "id": "0541ab71",
   "metadata": {},
   "outputs": [],
   "source": [
    "mae_1 = mae(y_test, y_pred_1)\n",
    "mse_1 = mae(y_test, y_pred_1)\n",
    "\n",
    "mae_1, mse_1"
   ]
  },
  {
   "cell_type": "code",
   "execution_count": null,
   "id": "c4e609f7",
   "metadata": {},
   "outputs": [],
   "source": [
    "plot_actual_versus_predicted_data(y_test, y_pred_1)"
   ]
  },
  {
   "cell_type": "code",
   "execution_count": null,
   "id": "76ffe2c1",
   "metadata": {},
   "outputs": [],
   "source": [
    "plot_history(history_1)"
   ]
  },
  {
   "attachments": {},
   "cell_type": "markdown",
   "id": "29f84c17",
   "metadata": {},
   "source": [
    "### Trial-2: Hidden layer with 100 Neurons & Adam Optimizer"
   ]
  },
  {
   "attachments": {},
   "cell_type": "markdown",
   "id": "c78d1521",
   "metadata": {},
   "source": [
    "#### Creating, Compiling, & Fitting Model"
   ]
  },
  {
   "cell_type": "code",
   "execution_count": null,
   "id": "cc780b93",
   "metadata": {},
   "outputs": [],
   "source": [
    "# Need to figure out how many input variables there are for the Input layer\n",
    "number_of_input_variables = X_train_normal.shape[-1]\n",
    "\n",
    "# 1. Creating Model\n",
    "model_2 = tf.keras.models.Sequential([\n",
    "    tf.keras.layers.Input(shape=(number_of_input_variables,), name='InputLayer'),\n",
    "    tf.keras.layers.Dense(100, name='HiddenLayer-1'),\n",
    "    tf.keras.layers.Dense(1, name='OutputLayer')\n",
    "])\n",
    "\n",
    "# 2. Compiling Model\n",
    "model_2.compile(loss=tf.keras.losses.mae,\n",
    "              optimizer=tf.keras.optimizers.legacy.Adam(lr=0.01),\n",
    "              metrics=['mae'])\n",
    "\n",
    "# 3. Fitting Model\n",
    "history_2 = model_2.fit(X_train_normal, y_train, epochs=10)"
   ]
  },
  {
   "attachments": {},
   "cell_type": "markdown",
   "id": "dc21fe29",
   "metadata": {},
   "source": [
    "#### Predicting Model"
   ]
  },
  {
   "cell_type": "code",
   "execution_count": null,
   "id": "45d62eab",
   "metadata": {},
   "outputs": [],
   "source": [
    "# Predicting\n",
    "y_pred_2 = model_2.predict(X_test_normal)"
   ]
  },
  {
   "attachments": {},
   "cell_type": "markdown",
   "id": "1f851c44",
   "metadata": {},
   "source": [
    "#### Evaluating Model"
   ]
  },
  {
   "cell_type": "code",
   "execution_count": null,
   "id": "ad722a4c",
   "metadata": {},
   "outputs": [],
   "source": [
    "model_2.summary()"
   ]
  },
  {
   "cell_type": "code",
   "execution_count": null,
   "id": "3c692126",
   "metadata": {},
   "outputs": [],
   "source": [
    "visualize_model(model_2)"
   ]
  },
  {
   "cell_type": "code",
   "execution_count": null,
   "id": "4ee58aad",
   "metadata": {},
   "outputs": [],
   "source": [
    "mae_2 = mae(y_test, y_pred_2)\n",
    "mse_2 = mae(y_test, y_pred_2)\n",
    "\n",
    "mae_2, mse_2"
   ]
  },
  {
   "cell_type": "code",
   "execution_count": null,
   "id": "cb1be27a",
   "metadata": {},
   "outputs": [],
   "source": [
    "plot_actual_versus_predicted_data(y_test, y_pred_2)"
   ]
  },
  {
   "cell_type": "code",
   "execution_count": null,
   "id": "9aee6be7",
   "metadata": {},
   "outputs": [],
   "source": [
    "plot_history(history_2)"
   ]
  },
  {
   "attachments": {},
   "cell_type": "markdown",
   "id": "3b78ac39",
   "metadata": {},
   "source": [
    "### Trial-3: 2 Hidden layers with 100 Neurons & Adam Optimizer w/ 0.05 lr & Epochs=100"
   ]
  },
  {
   "attachments": {},
   "cell_type": "markdown",
   "id": "7abbd428",
   "metadata": {},
   "source": [
    "#### Creating, Compiling, & Fitting Model"
   ]
  },
  {
   "cell_type": "code",
   "execution_count": null,
   "id": "a4ce250f",
   "metadata": {},
   "outputs": [],
   "source": [
    "# Need to figure out how many input variables there are for the Input layer\n",
    "number_of_input_variables = X_train_normal.shape[-1]\n",
    "\n",
    "# 1. Creating Model\n",
    "model_3 = tf.keras.models.Sequential([\n",
    "    tf.keras.layers.Input(shape=(number_of_input_variables,), name='InputLayer'),\n",
    "    tf.keras.layers.Dense(100, name='HiddenLayer-1'),\n",
    "    tf.keras.layers.Dense(100, name='HiddenLayer-2'),\n",
    "    tf.keras.layers.Dense(1, name='OutputLayer')\n",
    "])\n",
    "\n",
    "# 2. Compiling Model\n",
    "model_3.compile(loss=tf.keras.losses.mae,\n",
    "                optimizer=tf.keras.optimizers.legacy.Adam(lr=0.05),\n",
    "                metrics=['mae'])\n",
    "\n",
    "# 3. Fitting Model\n",
    "history_3 = model_3.fit(X_train_normal, y_train, epochs=100)"
   ]
  },
  {
   "attachments": {},
   "cell_type": "markdown",
   "id": "385303de",
   "metadata": {},
   "source": [
    "#### Predicting Model"
   ]
  },
  {
   "cell_type": "code",
   "execution_count": null,
   "id": "6b34a9a2",
   "metadata": {},
   "outputs": [],
   "source": [
    "# Predicting\n",
    "y_pred_3 = model_3.predict(X_test_normal)"
   ]
  },
  {
   "attachments": {},
   "cell_type": "markdown",
   "id": "72170af5",
   "metadata": {},
   "source": [
    "#### Evaluating Model"
   ]
  },
  {
   "cell_type": "code",
   "execution_count": null,
   "id": "c1340416",
   "metadata": {},
   "outputs": [],
   "source": [
    "model_3.summary()"
   ]
  },
  {
   "cell_type": "code",
   "execution_count": null,
   "id": "cbf26aa7",
   "metadata": {},
   "outputs": [],
   "source": [
    "visualize_model(model_3)"
   ]
  },
  {
   "cell_type": "code",
   "execution_count": null,
   "id": "167faf8c",
   "metadata": {},
   "outputs": [],
   "source": [
    "mae_3 = mae(y_test, y_pred_3)\n",
    "mse_3 = mae(y_test, y_pred_3)\n",
    "\n",
    "mae_3, mse_3"
   ]
  },
  {
   "cell_type": "code",
   "execution_count": null,
   "id": "f1c4255a",
   "metadata": {},
   "outputs": [],
   "source": [
    "plot_actual_versus_predicted_data(y_test, y_pred_3)"
   ]
  },
  {
   "cell_type": "code",
   "execution_count": null,
   "id": "37f3b2e8",
   "metadata": {},
   "outputs": [],
   "source": [
    "plot_history(history_3)"
   ]
  },
  {
   "attachments": {},
   "cell_type": "markdown",
   "id": "85edf5ef",
   "metadata": {},
   "source": [
    "### Trial-4: 2 Hidden layers with 100 Neurons & Adam Optimizer w/ 0.05 lr & Epochs=100 with Early Stop"
   ]
  },
  {
   "attachments": {},
   "cell_type": "markdown",
   "id": "e5c5ff00",
   "metadata": {},
   "source": [
    "#### Creating, Compiling, and Fitting"
   ]
  },
  {
   "cell_type": "code",
   "execution_count": null,
   "id": "062f0a6a",
   "metadata": {},
   "outputs": [],
   "source": [
    "# 1. Create Model\n",
    "model_4 = tf.keras.Sequential([\n",
    "    tf.keras.layers.Input(shape=(11,)),\n",
    "    tf.keras.layers.Dense(100),\n",
    "    tf.keras.layers.Dense(100),\n",
    "    tf.keras.layers.Dense(1)\n",
    "])\n",
    "\n",
    "\n",
    "# 2. Compile Model\n",
    "model_4.compile(loss=tf.keras.losses.mae,\n",
    "                optimizer=tf.keras.optimizers.legacy.Adam(learning_rate=0.05),\n",
    "                )"
   ]
  }
 ],
 "metadata": {
  "kernelspec": {
   "display_name": "Python 3 (ipykernel)",
   "language": "python",
   "name": "python3"
  },
  "language_info": {
   "codemirror_mode": {
    "name": "ipython",
    "version": 3
   },
   "file_extension": ".py",
   "mimetype": "text/x-python",
   "name": "python",
   "nbconvert_exporter": "python",
   "pygments_lexer": "ipython3",
   "version": "3.8.9"
  }
 },
 "nbformat": 4,
 "nbformat_minor": 5
}
