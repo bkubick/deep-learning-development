{
 "cells": [
  {
   "cell_type": "markdown",
   "id": "8b26a2d8-01d7-4c34-8c1c-9af1e4e1fbaf",
   "metadata": {
    "id": "8b26a2d8-01d7-4c34-8c1c-9af1e4e1fbaf"
   },
   "source": [
    "# Milestone Project 2 - Skim Lit\n",
    "\n",
    "The purpose of this project is to take medical abstracts from medical research papers, and break them down into easily readable and shortened summaries of each abstract. This is based off the PubMed paper that performs the same experiment (see link below).\n",
    "\n",
    "* https://arxiv.org/abs/1710.06071\n",
    "\n",
    "This notebook will ru"
   ]
  },
  {
   "cell_type": "markdown",
   "id": "djFVPOIXFf1e",
   "metadata": {
    "id": "djFVPOIXFf1e"
   },
   "source": [
    "## Environment Setup\n",
    "\n",
    "Need to figure out if I'm on google colab or on local. This will determine which commands need to be ran and how to setup the CPU/GPU being used."
   ]
  },
  {
   "cell_type": "code",
   "execution_count": 1,
   "id": "bXRETQTKE9hh",
   "metadata": {
    "colab": {
     "base_uri": "https://localhost:8080/"
    },
    "id": "bXRETQTKE9hh",
    "outputId": "2e14bfc8-480a-4c74-e888-d8888fa61671"
   },
   "outputs": [
    {
     "data": {
      "text/plain": [
       "True"
      ]
     },
     "execution_count": 1,
     "metadata": {},
     "output_type": "execute_result"
    }
   ],
   "source": [
    "# Determining if on google colab\n",
    "try:\n",
    "  from google import colab\n",
    "  on_colab = True\n",
    "except Exception:\n",
    "  on_colab = False\n",
    "\n",
    "on_colab"
   ]
  },
  {
   "cell_type": "code",
   "execution_count": 2,
   "id": "z0x14FcXFWfa",
   "metadata": {
    "colab": {
     "base_uri": "https://localhost:8080/"
    },
    "id": "z0x14FcXFWfa",
    "outputId": "7ff93db0-ca21-47b9-e0d6-3bf1fe512e71"
   },
   "outputs": [
    {
     "name": "stdout",
     "output_type": "stream",
     "text": [
      "/bin/bash: line 1: nvidia-smi: command not found\n",
      "Collecting py-learning-toolbox@ git+https://github.com/bkubick/py-learning-toolbox.git\n",
      "  Cloning https://github.com/bkubick/py-learning-toolbox.git to /tmp/pip-install-_4v_6vev/py-learning-toolbox_3f6b6f122b2c42ad9e4b74944563052d\n",
      "  Running command git clone --filter=blob:none --quiet https://github.com/bkubick/py-learning-toolbox.git /tmp/pip-install-_4v_6vev/py-learning-toolbox_3f6b6f122b2c42ad9e4b74944563052d\n",
      "  Resolved https://github.com/bkubick/py-learning-toolbox.git to commit 128faa02bd41d309cf4c020a22eefd00184662e0\n",
      "  Preparing metadata (setup.py) ... \u001b[?25l\u001b[?25hdone\n",
      "Requirement already satisfied: matplotlib>=3.7.1 in /usr/local/lib/python3.10/dist-packages (from py-learning-toolbox@ git+https://github.com/bkubick/py-learning-toolbox.git) (3.7.1)\n",
      "Requirement already satisfied: numpy>=1.23.5 in /usr/local/lib/python3.10/dist-packages (from py-learning-toolbox@ git+https://github.com/bkubick/py-learning-toolbox.git) (1.23.5)\n",
      "Requirement already satisfied: pandas>=1.5.3 in /usr/local/lib/python3.10/dist-packages (from py-learning-toolbox@ git+https://github.com/bkubick/py-learning-toolbox.git) (1.5.3)\n",
      "Requirement already satisfied: scikit-learn>=1.2.2 in /usr/local/lib/python3.10/dist-packages (from py-learning-toolbox@ git+https://github.com/bkubick/py-learning-toolbox.git) (1.2.2)\n",
      "Requirement already satisfied: tensorboard>=2.12.3 in /usr/local/lib/python3.10/dist-packages (from py-learning-toolbox@ git+https://github.com/bkubick/py-learning-toolbox.git) (2.12.3)\n",
      "Requirement already satisfied: tensorflow>=2.12.0 in /usr/local/lib/python3.10/dist-packages (from py-learning-toolbox@ git+https://github.com/bkubick/py-learning-toolbox.git) (2.12.0)\n",
      "Requirement already satisfied: tensorflow-hub>=0.14.0 in /usr/local/lib/python3.10/dist-packages (from py-learning-toolbox@ git+https://github.com/bkubick/py-learning-toolbox.git) (0.14.0)\n",
      "Requirement already satisfied: contourpy>=1.0.1 in /usr/local/lib/python3.10/dist-packages (from matplotlib>=3.7.1->py-learning-toolbox@ git+https://github.com/bkubick/py-learning-toolbox.git) (1.1.0)\n",
      "Requirement already satisfied: cycler>=0.10 in /usr/local/lib/python3.10/dist-packages (from matplotlib>=3.7.1->py-learning-toolbox@ git+https://github.com/bkubick/py-learning-toolbox.git) (0.11.0)\n",
      "Requirement already satisfied: fonttools>=4.22.0 in /usr/local/lib/python3.10/dist-packages (from matplotlib>=3.7.1->py-learning-toolbox@ git+https://github.com/bkubick/py-learning-toolbox.git) (4.42.1)\n",
      "Requirement already satisfied: kiwisolver>=1.0.1 in /usr/local/lib/python3.10/dist-packages (from matplotlib>=3.7.1->py-learning-toolbox@ git+https://github.com/bkubick/py-learning-toolbox.git) (1.4.4)\n",
      "Requirement already satisfied: packaging>=20.0 in /usr/local/lib/python3.10/dist-packages (from matplotlib>=3.7.1->py-learning-toolbox@ git+https://github.com/bkubick/py-learning-toolbox.git) (23.1)\n",
      "Requirement already satisfied: pillow>=6.2.0 in /usr/local/lib/python3.10/dist-packages (from matplotlib>=3.7.1->py-learning-toolbox@ git+https://github.com/bkubick/py-learning-toolbox.git) (9.4.0)\n",
      "Requirement already satisfied: pyparsing>=2.3.1 in /usr/local/lib/python3.10/dist-packages (from matplotlib>=3.7.1->py-learning-toolbox@ git+https://github.com/bkubick/py-learning-toolbox.git) (3.1.1)\n",
      "Requirement already satisfied: python-dateutil>=2.7 in /usr/local/lib/python3.10/dist-packages (from matplotlib>=3.7.1->py-learning-toolbox@ git+https://github.com/bkubick/py-learning-toolbox.git) (2.8.2)\n",
      "Requirement already satisfied: pytz>=2020.1 in /usr/local/lib/python3.10/dist-packages (from pandas>=1.5.3->py-learning-toolbox@ git+https://github.com/bkubick/py-learning-toolbox.git) (2023.3)\n",
      "Requirement already satisfied: scipy>=1.3.2 in /usr/local/lib/python3.10/dist-packages (from scikit-learn>=1.2.2->py-learning-toolbox@ git+https://github.com/bkubick/py-learning-toolbox.git) (1.10.1)\n",
      "Requirement already satisfied: joblib>=1.1.1 in /usr/local/lib/python3.10/dist-packages (from scikit-learn>=1.2.2->py-learning-toolbox@ git+https://github.com/bkubick/py-learning-toolbox.git) (1.3.2)\n",
      "Requirement already satisfied: threadpoolctl>=2.0.0 in /usr/local/lib/python3.10/dist-packages (from scikit-learn>=1.2.2->py-learning-toolbox@ git+https://github.com/bkubick/py-learning-toolbox.git) (3.2.0)\n",
      "Requirement already satisfied: absl-py>=0.4 in /usr/local/lib/python3.10/dist-packages (from tensorboard>=2.12.3->py-learning-toolbox@ git+https://github.com/bkubick/py-learning-toolbox.git) (1.4.0)\n",
      "Requirement already satisfied: grpcio>=1.48.2 in /usr/local/lib/python3.10/dist-packages (from tensorboard>=2.12.3->py-learning-toolbox@ git+https://github.com/bkubick/py-learning-toolbox.git) (1.57.0)\n",
      "Requirement already satisfied: google-auth<3,>=1.6.3 in /usr/local/lib/python3.10/dist-packages (from tensorboard>=2.12.3->py-learning-toolbox@ git+https://github.com/bkubick/py-learning-toolbox.git) (2.17.3)\n",
      "Requirement already satisfied: google-auth-oauthlib<1.1,>=0.5 in /usr/local/lib/python3.10/dist-packages (from tensorboard>=2.12.3->py-learning-toolbox@ git+https://github.com/bkubick/py-learning-toolbox.git) (1.0.0)\n",
      "Requirement already satisfied: markdown>=2.6.8 in /usr/local/lib/python3.10/dist-packages (from tensorboard>=2.12.3->py-learning-toolbox@ git+https://github.com/bkubick/py-learning-toolbox.git) (3.4.4)\n",
      "Requirement already satisfied: protobuf>=3.19.6 in /usr/local/lib/python3.10/dist-packages (from tensorboard>=2.12.3->py-learning-toolbox@ git+https://github.com/bkubick/py-learning-toolbox.git) (3.20.3)\n",
      "Requirement already satisfied: requests<3,>=2.21.0 in /usr/local/lib/python3.10/dist-packages (from tensorboard>=2.12.3->py-learning-toolbox@ git+https://github.com/bkubick/py-learning-toolbox.git) (2.31.0)\n",
      "Requirement already satisfied: setuptools>=41.0.0 in /usr/local/lib/python3.10/dist-packages (from tensorboard>=2.12.3->py-learning-toolbox@ git+https://github.com/bkubick/py-learning-toolbox.git) (67.7.2)\n",
      "Requirement already satisfied: tensorboard-data-server<0.8.0,>=0.7.0 in /usr/local/lib/python3.10/dist-packages (from tensorboard>=2.12.3->py-learning-toolbox@ git+https://github.com/bkubick/py-learning-toolbox.git) (0.7.1)\n",
      "Requirement already satisfied: werkzeug>=1.0.1 in /usr/local/lib/python3.10/dist-packages (from tensorboard>=2.12.3->py-learning-toolbox@ git+https://github.com/bkubick/py-learning-toolbox.git) (2.3.7)\n",
      "Requirement already satisfied: wheel>=0.26 in /usr/local/lib/python3.10/dist-packages (from tensorboard>=2.12.3->py-learning-toolbox@ git+https://github.com/bkubick/py-learning-toolbox.git) (0.41.2)\n",
      "Requirement already satisfied: astunparse>=1.6.0 in /usr/local/lib/python3.10/dist-packages (from tensorflow>=2.12.0->py-learning-toolbox@ git+https://github.com/bkubick/py-learning-toolbox.git) (1.6.3)\n",
      "Requirement already satisfied: flatbuffers>=2.0 in /usr/local/lib/python3.10/dist-packages (from tensorflow>=2.12.0->py-learning-toolbox@ git+https://github.com/bkubick/py-learning-toolbox.git) (23.5.26)\n",
      "Requirement already satisfied: gast<=0.4.0,>=0.2.1 in /usr/local/lib/python3.10/dist-packages (from tensorflow>=2.12.0->py-learning-toolbox@ git+https://github.com/bkubick/py-learning-toolbox.git) (0.4.0)\n",
      "Requirement already satisfied: google-pasta>=0.1.1 in /usr/local/lib/python3.10/dist-packages (from tensorflow>=2.12.0->py-learning-toolbox@ git+https://github.com/bkubick/py-learning-toolbox.git) (0.2.0)\n",
      "Requirement already satisfied: h5py>=2.9.0 in /usr/local/lib/python3.10/dist-packages (from tensorflow>=2.12.0->py-learning-toolbox@ git+https://github.com/bkubick/py-learning-toolbox.git) (3.9.0)\n",
      "Requirement already satisfied: jax>=0.3.15 in /usr/local/lib/python3.10/dist-packages (from tensorflow>=2.12.0->py-learning-toolbox@ git+https://github.com/bkubick/py-learning-toolbox.git) (0.4.14)\n",
      "Requirement already satisfied: keras<2.13,>=2.12.0 in /usr/local/lib/python3.10/dist-packages (from tensorflow>=2.12.0->py-learning-toolbox@ git+https://github.com/bkubick/py-learning-toolbox.git) (2.12.0)\n",
      "Requirement already satisfied: libclang>=13.0.0 in /usr/local/lib/python3.10/dist-packages (from tensorflow>=2.12.0->py-learning-toolbox@ git+https://github.com/bkubick/py-learning-toolbox.git) (16.0.6)\n",
      "Requirement already satisfied: opt-einsum>=2.3.2 in /usr/local/lib/python3.10/dist-packages (from tensorflow>=2.12.0->py-learning-toolbox@ git+https://github.com/bkubick/py-learning-toolbox.git) (3.3.0)\n",
      "Requirement already satisfied: six>=1.12.0 in /usr/local/lib/python3.10/dist-packages (from tensorflow>=2.12.0->py-learning-toolbox@ git+https://github.com/bkubick/py-learning-toolbox.git) (1.16.0)\n",
      "Requirement already satisfied: tensorflow-estimator<2.13,>=2.12.0 in /usr/local/lib/python3.10/dist-packages (from tensorflow>=2.12.0->py-learning-toolbox@ git+https://github.com/bkubick/py-learning-toolbox.git) (2.12.0)\n",
      "Requirement already satisfied: termcolor>=1.1.0 in /usr/local/lib/python3.10/dist-packages (from tensorflow>=2.12.0->py-learning-toolbox@ git+https://github.com/bkubick/py-learning-toolbox.git) (2.3.0)\n",
      "Requirement already satisfied: typing-extensions>=3.6.6 in /usr/local/lib/python3.10/dist-packages (from tensorflow>=2.12.0->py-learning-toolbox@ git+https://github.com/bkubick/py-learning-toolbox.git) (4.7.1)\n",
      "Requirement already satisfied: wrapt<1.15,>=1.11.0 in /usr/local/lib/python3.10/dist-packages (from tensorflow>=2.12.0->py-learning-toolbox@ git+https://github.com/bkubick/py-learning-toolbox.git) (1.14.1)\n",
      "Requirement already satisfied: tensorflow-io-gcs-filesystem>=0.23.1 in /usr/local/lib/python3.10/dist-packages (from tensorflow>=2.12.0->py-learning-toolbox@ git+https://github.com/bkubick/py-learning-toolbox.git) (0.33.0)\n",
      "Requirement already satisfied: cachetools<6.0,>=2.0.0 in /usr/local/lib/python3.10/dist-packages (from google-auth<3,>=1.6.3->tensorboard>=2.12.3->py-learning-toolbox@ git+https://github.com/bkubick/py-learning-toolbox.git) (5.3.1)\n",
      "Requirement already satisfied: pyasn1-modules>=0.2.1 in /usr/local/lib/python3.10/dist-packages (from google-auth<3,>=1.6.3->tensorboard>=2.12.3->py-learning-toolbox@ git+https://github.com/bkubick/py-learning-toolbox.git) (0.3.0)\n",
      "Requirement already satisfied: rsa<5,>=3.1.4 in /usr/local/lib/python3.10/dist-packages (from google-auth<3,>=1.6.3->tensorboard>=2.12.3->py-learning-toolbox@ git+https://github.com/bkubick/py-learning-toolbox.git) (4.9)\n",
      "Requirement already satisfied: requests-oauthlib>=0.7.0 in /usr/local/lib/python3.10/dist-packages (from google-auth-oauthlib<1.1,>=0.5->tensorboard>=2.12.3->py-learning-toolbox@ git+https://github.com/bkubick/py-learning-toolbox.git) (1.3.1)\n",
      "Requirement already satisfied: ml-dtypes>=0.2.0 in /usr/local/lib/python3.10/dist-packages (from jax>=0.3.15->tensorflow>=2.12.0->py-learning-toolbox@ git+https://github.com/bkubick/py-learning-toolbox.git) (0.2.0)\n",
      "Requirement already satisfied: charset-normalizer<4,>=2 in /usr/local/lib/python3.10/dist-packages (from requests<3,>=2.21.0->tensorboard>=2.12.3->py-learning-toolbox@ git+https://github.com/bkubick/py-learning-toolbox.git) (3.2.0)\n",
      "Requirement already satisfied: idna<4,>=2.5 in /usr/local/lib/python3.10/dist-packages (from requests<3,>=2.21.0->tensorboard>=2.12.3->py-learning-toolbox@ git+https://github.com/bkubick/py-learning-toolbox.git) (3.4)\n",
      "Requirement already satisfied: urllib3<3,>=1.21.1 in /usr/local/lib/python3.10/dist-packages (from requests<3,>=2.21.0->tensorboard>=2.12.3->py-learning-toolbox@ git+https://github.com/bkubick/py-learning-toolbox.git) (2.0.4)\n",
      "Requirement already satisfied: certifi>=2017.4.17 in /usr/local/lib/python3.10/dist-packages (from requests<3,>=2.21.0->tensorboard>=2.12.3->py-learning-toolbox@ git+https://github.com/bkubick/py-learning-toolbox.git) (2023.7.22)\n",
      "Requirement already satisfied: MarkupSafe>=2.1.1 in /usr/local/lib/python3.10/dist-packages (from werkzeug>=1.0.1->tensorboard>=2.12.3->py-learning-toolbox@ git+https://github.com/bkubick/py-learning-toolbox.git) (2.1.3)\n",
      "Requirement already satisfied: pyasn1<0.6.0,>=0.4.6 in /usr/local/lib/python3.10/dist-packages (from pyasn1-modules>=0.2.1->google-auth<3,>=1.6.3->tensorboard>=2.12.3->py-learning-toolbox@ git+https://github.com/bkubick/py-learning-toolbox.git) (0.5.0)\n",
      "Requirement already satisfied: oauthlib>=3.0.0 in /usr/local/lib/python3.10/dist-packages (from requests-oauthlib>=0.7.0->google-auth-oauthlib<1.1,>=0.5->tensorboard>=2.12.3->py-learning-toolbox@ git+https://github.com/bkubick/py-learning-toolbox.git) (3.2.2)\n",
      "Building wheels for collected packages: py-learning-toolbox\n",
      "  Building wheel for py-learning-toolbox (setup.py) ... \u001b[?25l\u001b[?25hdone\n",
      "  Created wheel for py-learning-toolbox: filename=py_learning_toolbox-0.0.0.dev0-py3-none-any.whl size=19838 sha256=3ca17a228cd6e8764805a4fa88aafa6688d6570887dd66111a5ae38e47b30b94\n",
      "  Stored in directory: /tmp/pip-ephem-wheel-cache-ak0vb1b9/wheels/57/3c/df/f33e2ee5471d4299326a5a6844c44a93aa76b478c8896cb319\n",
      "Successfully built py-learning-toolbox\n",
      "Installing collected packages: py-learning-toolbox\n",
      "Successfully installed py-learning-toolbox-0.0.0.dev0\n"
     ]
    }
   ],
   "source": [
    "if on_colab:\n",
    "  # Setting up the notebook with a GPU\n",
    "  !nvidia-smi -L\n",
    "  !pip install py-learning-toolbox@git+https://github.com/bkubick/py-learning-toolbox.git\n",
    "  !pltb_setup_project .\n",
    "  !rm -rf ./notebooks"
   ]
  },
  {
   "cell_type": "markdown",
   "id": "bff0bd53-4f41-4695-a44d-9ae6b38240d8",
   "metadata": {
    "id": "bff0bd53-4f41-4695-a44d-9ae6b38240d8"
   },
   "source": [
    "## Imports"
   ]
  },
  {
   "cell_type": "code",
   "execution_count": 3,
   "id": "7eed36c2-1cf2-4eab-b636-53d982e2ac25",
   "metadata": {
    "id": "7eed36c2-1cf2-4eab-b636-53d982e2ac25"
   },
   "outputs": [],
   "source": [
    "import random\n",
    "import string\n",
    "import typing\n",
    "\n",
    "import matplotlib.pyplot as plt\n",
    "import numpy as np\n",
    "import pandas as pd\n",
    "from py_learning_toolbox import ml_toolbox\n",
    "from py_learning_toolbox import data_toolbox\n",
    "from py_learning_toolbox import performance_toolbox\n",
    "from sklearn.feature_extraction.text import TfidfVectorizer\n",
    "from sklearn.naive_bayes import MultinomialNB\n",
    "from sklearn.pipeline import Pipeline\n",
    "from sklearn.preprocessing import LabelEncoder\n",
    "from sklearn.preprocessing import OneHotEncoder\n",
    "import tensorflow as tf\n",
    "import tensorflow_hub as hub"
   ]
  },
  {
   "cell_type": "markdown",
   "id": "29506c39-6a14-40d2-b629-4a6737503e49",
   "metadata": {
    "id": "29506c39-6a14-40d2-b629-4a6737503e49",
    "jp-MarkdownHeadingCollapsed": true
   },
   "source": [
    "## Helpers"
   ]
  },
  {
   "cell_type": "code",
   "execution_count": 4,
   "id": "d1c87f03-570d-4f38-a66e-d1ccdd167611",
   "metadata": {
    "id": "d1c87f03-570d-4f38-a66e-d1ccdd167611"
   },
   "outputs": [],
   "source": [
    "def preprocess_pubmed_txt_data(url: str) -> typing.List[typing.Dict[str, typing.Any]]:\n",
    "    \"\"\" Preprocessing function that grabs the data from the corresponding url, then\n",
    "        prepocesses it to clean it up into a list of dictionaries with the following keys:\n",
    "\n",
    "        - abstract_id\n",
    "        - target\n",
    "        - text\n",
    "        - line_number\n",
    "        - total_lines\n",
    "\n",
    "        Args:\n",
    "            url (str): the corresponding url the data is grabbed from.\n",
    "\n",
    "        Raises:\n",
    "            AssertionError: if there is an issue with the data that there are not\n",
    "                two blank lines between abstracts.\n",
    "\n",
    "        Returns:\n",
    "            (List[Dict]): the properly structured data.\n",
    "    \"\"\"\n",
    "    raw_abstract_data = data_toolbox.read_txt_file_from_url(url, delimiter='\\n\\n')\n",
    "\n",
    "    processed_data = []\n",
    "    for abstract in raw_abstract_data:\n",
    "        if len(abstract) == 0:\n",
    "            continue\n",
    "\n",
    "        # Verify the raw abstract item represents the start of a new abstract\n",
    "        assert abstract.startswith('###')\n",
    "\n",
    "        abstract_lines = abstract.split('\\n')\n",
    "        abstract_id = abstract_lines[0][3:]  # Abstract id is the first item in the split list, and do not include `###`\n",
    "        total_lines = len(abstract_lines) - 2  # Doesn't include the abstract id line and starts from 0\n",
    "\n",
    "        for line_number, line in enumerate(abstract_lines[1:]):\n",
    "            [target, text] = line.split('\\t')\n",
    "            processed_data.append({\n",
    "                'abstract_id': abstract_id,\n",
    "                'target': target,\n",
    "                'text': text.lower(),\n",
    "                'line_number': line_number,\n",
    "                'total_lines': total_lines,\n",
    "            })\n",
    "\n",
    "    return processed_data"
   ]
  },
  {
   "cell_type": "code",
   "execution_count": 5,
   "id": "65c26d22-48f6-4c5e-b255-edcd99e45594",
   "metadata": {
    "id": "65c26d22-48f6-4c5e-b255-edcd99e45594"
   },
   "outputs": [],
   "source": [
    "def split_chars(text: str) -> str:\n",
    "    \"\"\" Helper utility to add a space between every character.\n",
    "\n",
    "        Args:\n",
    "            text (str): the text to add a space between every character.\n",
    "\n",
    "        Returns:\n",
    "            (str) the restructured text with a space between every character.\n",
    "    \"\"\"\n",
    "    return ' '.join(list(text))"
   ]
  },
  {
   "cell_type": "markdown",
   "id": "7cd230bd-7b86-4a73-88e5-f71e3e042aa6",
   "metadata": {
    "id": "7cd230bd-7b86-4a73-88e5-f71e3e042aa6",
    "jp-MarkdownHeadingCollapsed": true
   },
   "source": [
    "## Download & Analyze Data\n",
    "\n",
    "The data used in the paper is publicly available at the github link listed below.\n",
    "\n",
    "* https://github.com/Franck-Dernoncourt/pubmed-rct"
   ]
  },
  {
   "cell_type": "code",
   "execution_count": 6,
   "id": "bec01442-4a87-4205-9de3-874de6556958",
   "metadata": {
    "id": "bec01442-4a87-4205-9de3-874de6556958"
   },
   "outputs": [],
   "source": [
    "\n",
    "pubmed_data_urls = {\n",
    "    'test_url_20k': 'https://raw.githubusercontent.com/Franck-Dernoncourt/pubmed-rct/master/PubMed_20k_RCT_numbers_replaced_with_at_sign/test.txt',\n",
    "    'dev_url_20k': 'https://raw.githubusercontent.com/Franck-Dernoncourt/pubmed-rct/master/PubMed_20k_RCT_numbers_replaced_with_at_sign/dev.txt',\n",
    "    'train_url_20k': 'https://raw.githubusercontent.com/Franck-Dernoncourt/pubmed-rct/master/PubMed_20k_RCT_numbers_replaced_with_at_sign/train.txt',\n",
    "}"
   ]
  },
  {
   "cell_type": "code",
   "execution_count": 7,
   "id": "0c3e1149-208b-441d-bba6-b40b4f32af7a",
   "metadata": {
    "colab": {
     "base_uri": "https://localhost:8080/"
    },
    "id": "0c3e1149-208b-441d-bba6-b40b4f32af7a",
    "outputId": "cdda1467-8004-4ec7-dbf5-88f652929831"
   },
   "outputs": [
    {
     "data": {
      "text/plain": [
       "15001"
      ]
     },
     "execution_count": 7,
     "metadata": {},
     "output_type": "execute_result"
    }
   ],
   "source": [
    "raw_train_abstracts = data_toolbox.read_txt_file_from_url(pubmed_data_urls['train_url_20k'], '\\n\\n')\n",
    "len(raw_train_abstracts)"
   ]
  },
  {
   "cell_type": "code",
   "execution_count": 8,
   "id": "2ffcafd3-82db-422f-b6dc-2b77ed51a1d6",
   "metadata": {
    "colab": {
     "base_uri": "https://localhost:8080/"
    },
    "id": "2ffcafd3-82db-422f-b6dc-2b77ed51a1d6",
    "outputId": "3d4c3040-fbb7-48b7-f4a8-93d0890a27a1"
   },
   "outputs": [
    {
     "data": {
      "text/plain": [
       "['###24293578\\nOBJECTIVE\\tTo investigate the efficacy of @ weeks of daily low-dose oral prednisolone in improving pain , mobility , and systemic low-grade inflammation in the short term and whether the effect would be sustained at @ weeks in older adults with moderate to severe knee osteoarthritis ( OA ) .\\nMETHODS\\tA total of @ patients with primary knee OA were randomized @:@ ; @ received @ mg/day of prednisolone and @ received placebo for @ weeks .\\nMETHODS\\tOutcome measures included pain reduction and improvement in function scores and systemic inflammation markers .\\nMETHODS\\tPain was assessed using the visual analog pain scale ( @-@ mm ) .\\nMETHODS\\tSecondary outcome measures included the Western Ontario and McMaster Universities Osteoarthritis Index scores , patient global assessment ( PGA ) of the severity of knee OA , and @-min walk distance ( @MWD ) .\\nMETHODS\\tSerum levels of interleukin @ ( IL-@ ) , IL-@ , tumor necrosis factor ( TNF ) - , and high-sensitivity C-reactive protein ( hsCRP ) were measured .\\nRESULTS\\tThere was a clinically relevant reduction in the intervention group compared to the placebo group for knee pain , physical function , PGA , and @MWD at @ weeks .\\nRESULTS\\tThe mean difference between treatment arms ( @ % CI ) was @ ( @-@ @ ) , p < @ ; @ ( @-@ @ ) , p < @ ; @ ( @-@ @ ) , p < @ ; and @ ( @-@ @ ) , p < @ , respectively .\\nRESULTS\\tFurther , there was a clinically relevant reduction in the serum levels of IL-@ , IL-@ , TNF - , and hsCRP at @ weeks in the intervention group when compared to the placebo group .\\nRESULTS\\tThese differences remained significant at @ weeks .\\nRESULTS\\tThe Outcome Measures in Rheumatology Clinical Trials-Osteoarthritis Research Society International responder rate was @ % in the intervention group and @ % in the placebo group ( p < @ ) .\\nCONCLUSIONS\\tLow-dose oral prednisolone had both a short-term and a longer sustained effect resulting in less knee pain , better physical function , and attenuation of systemic inflammation in older patients with knee OA ( ClinicalTrials.gov identifier NCT@ ) .',\n",
       " '###24854809\\nBACKGROUND\\tEmotional eating is associated with overeating and the development of obesity .\\nBACKGROUND\\tYet , empirical evidence for individual ( trait ) differences in emotional eating and cognitive mechanisms that contribute to eating during sad mood remain equivocal .\\nOBJECTIVE\\tThe aim of this study was to test if attention bias for food moderates the effect of self-reported emotional eating during sad mood ( vs neutral mood ) on actual food intake .\\nOBJECTIVE\\tIt was expected that emotional eating is predictive of elevated attention for food and higher food intake after an experimentally induced sad mood and that attentional maintenance on food predicts food intake during a sad versus a neutral mood .\\nMETHODS\\tParticipants ( N = @ ) were randomly assigned to one of the two experimental mood induction conditions ( sad/neutral ) .\\nMETHODS\\tAttentional biases for high caloric foods were measured by eye tracking during a visual probe task with pictorial food and neutral stimuli .\\nMETHODS\\tSelf-reported emotional eating was assessed with the Dutch Eating Behavior Questionnaire ( DEBQ ) and ad libitum food intake was tested by a disguised food offer .\\nRESULTS\\tHierarchical multivariate regression modeling showed that self-reported emotional eating did not account for changes in attention allocation for food or food intake in either condition .\\nRESULTS\\tYet , attention maintenance on food cues was significantly related to increased intake specifically in the neutral condition , but not in the sad mood condition .\\nCONCLUSIONS\\tThe current findings show that self-reported emotional eating ( based on the DEBQ ) might not validly predict who overeats when sad , at least not in a laboratory setting with healthy women .\\nCONCLUSIONS\\tResults further suggest that attention maintenance on food relates to eating motivation when in a neutral affective state , and might therefore be a cognitive mechanism contributing to increased food intake in general , but maybe not during sad mood .']"
      ]
     },
     "execution_count": 8,
     "metadata": {},
     "output_type": "execute_result"
    }
   ],
   "source": [
    "raw_train_abstracts[:2]"
   ]
  },
  {
   "cell_type": "markdown",
   "id": "2135a632-7707-4179-a870-5437dc607208",
   "metadata": {
    "id": "2135a632-7707-4179-a870-5437dc607208"
   },
   "source": [
    "### Preprocessing Notes\n",
    "\n",
    "After looking at the data, each abstract includes an abstract id, the target section it talks about, and the actual text. To make this usable, I am going to structure it as a list of dictionaries that contain the following keys:\n",
    "\n",
    "* abstract_id\n",
    "* line_number\n",
    "* target\n",
    "* text\n",
    "* total_lines\n",
    "\n",
    "This will be done using the function, `preprocess_pubmed_txt_data`, created in the **Helpers** section of this notebook."
   ]
  },
  {
   "cell_type": "code",
   "execution_count": 9,
   "id": "01f145c0-750a-4787-be6d-a56d28f006c8",
   "metadata": {
    "colab": {
     "base_uri": "https://localhost:8080/"
    },
    "id": "01f145c0-750a-4787-be6d-a56d28f006c8",
    "outputId": "ac34b8d1-bb52-4bcc-c09e-93c1a312fe1a"
   },
   "outputs": [
    {
     "data": {
      "text/plain": [
       "(180040, 30212, 30135)"
      ]
     },
     "execution_count": 9,
     "metadata": {},
     "output_type": "execute_result"
    }
   ],
   "source": [
    "preprocessed_train_data = preprocess_pubmed_txt_data(pubmed_data_urls['train_url_20k'])\n",
    "preprocessed_val_data = preprocess_pubmed_txt_data(pubmed_data_urls['dev_url_20k'])\n",
    "preprocessed_test_data = preprocess_pubmed_txt_data(pubmed_data_urls['test_url_20k'])\n",
    "\n",
    "len(preprocessed_train_data), len(preprocessed_val_data), len(preprocessed_test_data)"
   ]
  },
  {
   "cell_type": "code",
   "execution_count": 10,
   "id": "22ba7332-d1f8-4dd7-9e69-c46c5665f13f",
   "metadata": {
    "colab": {
     "base_uri": "https://localhost:8080/"
    },
    "id": "22ba7332-d1f8-4dd7-9e69-c46c5665f13f",
    "outputId": "3a66ac7c-027f-46e6-93c9-af954c0941a8"
   },
   "outputs": [
    {
     "data": {
      "text/plain": [
       "[{'abstract_id': '24293578',\n",
       "  'target': 'OBJECTIVE',\n",
       "  'text': 'to investigate the efficacy of @ weeks of daily low-dose oral prednisolone in improving pain , mobility , and systemic low-grade inflammation in the short term and whether the effect would be sustained at @ weeks in older adults with moderate to severe knee osteoarthritis ( oa ) .',\n",
       "  'line_number': 0,\n",
       "  'total_lines': 11},\n",
       " {'abstract_id': '24293578',\n",
       "  'target': 'METHODS',\n",
       "  'text': 'a total of @ patients with primary knee oa were randomized @:@ ; @ received @ mg/day of prednisolone and @ received placebo for @ weeks .',\n",
       "  'line_number': 1,\n",
       "  'total_lines': 11},\n",
       " {'abstract_id': '24293578',\n",
       "  'target': 'METHODS',\n",
       "  'text': 'outcome measures included pain reduction and improvement in function scores and systemic inflammation markers .',\n",
       "  'line_number': 2,\n",
       "  'total_lines': 11},\n",
       " {'abstract_id': '24293578',\n",
       "  'target': 'METHODS',\n",
       "  'text': 'pain was assessed using the visual analog pain scale ( @-@ mm ) .',\n",
       "  'line_number': 3,\n",
       "  'total_lines': 11},\n",
       " {'abstract_id': '24293578',\n",
       "  'target': 'METHODS',\n",
       "  'text': 'secondary outcome measures included the western ontario and mcmaster universities osteoarthritis index scores , patient global assessment ( pga ) of the severity of knee oa , and @-min walk distance ( @mwd ) .',\n",
       "  'line_number': 4,\n",
       "  'total_lines': 11},\n",
       " {'abstract_id': '24293578',\n",
       "  'target': 'METHODS',\n",
       "  'text': 'serum levels of interleukin @ ( il-@ ) , il-@ , tumor necrosis factor ( tnf ) - , and high-sensitivity c-reactive protein ( hscrp ) were measured .',\n",
       "  'line_number': 5,\n",
       "  'total_lines': 11},\n",
       " {'abstract_id': '24293578',\n",
       "  'target': 'RESULTS',\n",
       "  'text': 'there was a clinically relevant reduction in the intervention group compared to the placebo group for knee pain , physical function , pga , and @mwd at @ weeks .',\n",
       "  'line_number': 6,\n",
       "  'total_lines': 11},\n",
       " {'abstract_id': '24293578',\n",
       "  'target': 'RESULTS',\n",
       "  'text': 'the mean difference between treatment arms ( @ % ci ) was @ ( @-@ @ ) , p < @ ; @ ( @-@ @ ) , p < @ ; @ ( @-@ @ ) , p < @ ; and @ ( @-@ @ ) , p < @ , respectively .',\n",
       "  'line_number': 7,\n",
       "  'total_lines': 11},\n",
       " {'abstract_id': '24293578',\n",
       "  'target': 'RESULTS',\n",
       "  'text': 'further , there was a clinically relevant reduction in the serum levels of il-@ , il-@ , tnf - , and hscrp at @ weeks in the intervention group when compared to the placebo group .',\n",
       "  'line_number': 8,\n",
       "  'total_lines': 11},\n",
       " {'abstract_id': '24293578',\n",
       "  'target': 'RESULTS',\n",
       "  'text': 'these differences remained significant at @ weeks .',\n",
       "  'line_number': 9,\n",
       "  'total_lines': 11},\n",
       " {'abstract_id': '24293578',\n",
       "  'target': 'RESULTS',\n",
       "  'text': 'the outcome measures in rheumatology clinical trials-osteoarthritis research society international responder rate was @ % in the intervention group and @ % in the placebo group ( p < @ ) .',\n",
       "  'line_number': 10,\n",
       "  'total_lines': 11},\n",
       " {'abstract_id': '24293578',\n",
       "  'target': 'CONCLUSIONS',\n",
       "  'text': 'low-dose oral prednisolone had both a short-term and a longer sustained effect resulting in less knee pain , better physical function , and attenuation of systemic inflammation in older patients with knee oa ( clinicaltrials.gov identifier nct@ ) .',\n",
       "  'line_number': 11,\n",
       "  'total_lines': 11}]"
      ]
     },
     "execution_count": 10,
     "metadata": {},
     "output_type": "execute_result"
    }
   ],
   "source": [
    "preprocessed_train_data[:12]"
   ]
  },
  {
   "cell_type": "code",
   "execution_count": 11,
   "id": "babadc5d-296a-4d0c-8238-f17cdb244e66",
   "metadata": {
    "colab": {
     "base_uri": "https://localhost:8080/",
     "height": 426
    },
    "id": "babadc5d-296a-4d0c-8238-f17cdb244e66",
    "outputId": "40b15134-f976-418d-97a0-33342fd14812"
   },
   "outputs": [
    {
     "data": {
      "text/html": [
       "\n",
       "  <div id=\"df-aa5673e4-8c04-4709-b5e3-9832da6ba1fb\" class=\"colab-df-container\">\n",
       "    <div>\n",
       "<style scoped>\n",
       "    .dataframe tbody tr th:only-of-type {\n",
       "        vertical-align: middle;\n",
       "    }\n",
       "\n",
       "    .dataframe tbody tr th {\n",
       "        vertical-align: top;\n",
       "    }\n",
       "\n",
       "    .dataframe thead th {\n",
       "        text-align: right;\n",
       "    }\n",
       "</style>\n",
       "<table border=\"1\" class=\"dataframe\">\n",
       "  <thead>\n",
       "    <tr style=\"text-align: right;\">\n",
       "      <th></th>\n",
       "      <th>abstract_id</th>\n",
       "      <th>target</th>\n",
       "      <th>text</th>\n",
       "      <th>line_number</th>\n",
       "      <th>total_lines</th>\n",
       "    </tr>\n",
       "  </thead>\n",
       "  <tbody>\n",
       "    <tr>\n",
       "      <th>0</th>\n",
       "      <td>24293578</td>\n",
       "      <td>OBJECTIVE</td>\n",
       "      <td>to investigate the efficacy of @ weeks of dail...</td>\n",
       "      <td>0</td>\n",
       "      <td>11</td>\n",
       "    </tr>\n",
       "    <tr>\n",
       "      <th>1</th>\n",
       "      <td>24293578</td>\n",
       "      <td>METHODS</td>\n",
       "      <td>a total of @ patients with primary knee oa wer...</td>\n",
       "      <td>1</td>\n",
       "      <td>11</td>\n",
       "    </tr>\n",
       "    <tr>\n",
       "      <th>2</th>\n",
       "      <td>24293578</td>\n",
       "      <td>METHODS</td>\n",
       "      <td>outcome measures included pain reduction and i...</td>\n",
       "      <td>2</td>\n",
       "      <td>11</td>\n",
       "    </tr>\n",
       "    <tr>\n",
       "      <th>3</th>\n",
       "      <td>24293578</td>\n",
       "      <td>METHODS</td>\n",
       "      <td>pain was assessed using the visual analog pain...</td>\n",
       "      <td>3</td>\n",
       "      <td>11</td>\n",
       "    </tr>\n",
       "    <tr>\n",
       "      <th>4</th>\n",
       "      <td>24293578</td>\n",
       "      <td>METHODS</td>\n",
       "      <td>secondary outcome measures included the wester...</td>\n",
       "      <td>4</td>\n",
       "      <td>11</td>\n",
       "    </tr>\n",
       "    <tr>\n",
       "      <th>5</th>\n",
       "      <td>24293578</td>\n",
       "      <td>METHODS</td>\n",
       "      <td>serum levels of interleukin @ ( il-@ ) , il-@ ...</td>\n",
       "      <td>5</td>\n",
       "      <td>11</td>\n",
       "    </tr>\n",
       "    <tr>\n",
       "      <th>6</th>\n",
       "      <td>24293578</td>\n",
       "      <td>RESULTS</td>\n",
       "      <td>there was a clinically relevant reduction in t...</td>\n",
       "      <td>6</td>\n",
       "      <td>11</td>\n",
       "    </tr>\n",
       "    <tr>\n",
       "      <th>7</th>\n",
       "      <td>24293578</td>\n",
       "      <td>RESULTS</td>\n",
       "      <td>the mean difference between treatment arms ( @...</td>\n",
       "      <td>7</td>\n",
       "      <td>11</td>\n",
       "    </tr>\n",
       "    <tr>\n",
       "      <th>8</th>\n",
       "      <td>24293578</td>\n",
       "      <td>RESULTS</td>\n",
       "      <td>further , there was a clinically relevant redu...</td>\n",
       "      <td>8</td>\n",
       "      <td>11</td>\n",
       "    </tr>\n",
       "    <tr>\n",
       "      <th>9</th>\n",
       "      <td>24293578</td>\n",
       "      <td>RESULTS</td>\n",
       "      <td>these differences remained significant at @ we...</td>\n",
       "      <td>9</td>\n",
       "      <td>11</td>\n",
       "    </tr>\n",
       "    <tr>\n",
       "      <th>10</th>\n",
       "      <td>24293578</td>\n",
       "      <td>RESULTS</td>\n",
       "      <td>the outcome measures in rheumatology clinical ...</td>\n",
       "      <td>10</td>\n",
       "      <td>11</td>\n",
       "    </tr>\n",
       "    <tr>\n",
       "      <th>11</th>\n",
       "      <td>24293578</td>\n",
       "      <td>CONCLUSIONS</td>\n",
       "      <td>low-dose oral prednisolone had both a short-te...</td>\n",
       "      <td>11</td>\n",
       "      <td>11</td>\n",
       "    </tr>\n",
       "  </tbody>\n",
       "</table>\n",
       "</div>\n",
       "    <div class=\"colab-df-buttons\">\n",
       "\n",
       "  <div class=\"colab-df-container\">\n",
       "    <button class=\"colab-df-convert\" onclick=\"convertToInteractive('df-aa5673e4-8c04-4709-b5e3-9832da6ba1fb')\"\n",
       "            title=\"Convert this dataframe to an interactive table.\"\n",
       "            style=\"display:none;\">\n",
       "\n",
       "  <svg xmlns=\"http://www.w3.org/2000/svg\" height=\"24px\" viewBox=\"0 -960 960 960\">\n",
       "    <path d=\"M120-120v-720h720v720H120Zm60-500h600v-160H180v160Zm220 220h160v-160H400v160Zm0 220h160v-160H400v160ZM180-400h160v-160H180v160Zm440 0h160v-160H620v160ZM180-180h160v-160H180v160Zm440 0h160v-160H620v160Z\"/>\n",
       "  </svg>\n",
       "    </button>\n",
       "\n",
       "  <style>\n",
       "    .colab-df-container {\n",
       "      display:flex;\n",
       "      gap: 12px;\n",
       "    }\n",
       "\n",
       "    .colab-df-convert {\n",
       "      background-color: #E8F0FE;\n",
       "      border: none;\n",
       "      border-radius: 50%;\n",
       "      cursor: pointer;\n",
       "      display: none;\n",
       "      fill: #1967D2;\n",
       "      height: 32px;\n",
       "      padding: 0 0 0 0;\n",
       "      width: 32px;\n",
       "    }\n",
       "\n",
       "    .colab-df-convert:hover {\n",
       "      background-color: #E2EBFA;\n",
       "      box-shadow: 0px 1px 2px rgba(60, 64, 67, 0.3), 0px 1px 3px 1px rgba(60, 64, 67, 0.15);\n",
       "      fill: #174EA6;\n",
       "    }\n",
       "\n",
       "    .colab-df-buttons div {\n",
       "      margin-bottom: 4px;\n",
       "    }\n",
       "\n",
       "    [theme=dark] .colab-df-convert {\n",
       "      background-color: #3B4455;\n",
       "      fill: #D2E3FC;\n",
       "    }\n",
       "\n",
       "    [theme=dark] .colab-df-convert:hover {\n",
       "      background-color: #434B5C;\n",
       "      box-shadow: 0px 1px 3px 1px rgba(0, 0, 0, 0.15);\n",
       "      filter: drop-shadow(0px 1px 2px rgba(0, 0, 0, 0.3));\n",
       "      fill: #FFFFFF;\n",
       "    }\n",
       "  </style>\n",
       "\n",
       "    <script>\n",
       "      const buttonEl =\n",
       "        document.querySelector('#df-aa5673e4-8c04-4709-b5e3-9832da6ba1fb button.colab-df-convert');\n",
       "      buttonEl.style.display =\n",
       "        google.colab.kernel.accessAllowed ? 'block' : 'none';\n",
       "\n",
       "      async function convertToInteractive(key) {\n",
       "        const element = document.querySelector('#df-aa5673e4-8c04-4709-b5e3-9832da6ba1fb');\n",
       "        const dataTable =\n",
       "          await google.colab.kernel.invokeFunction('convertToInteractive',\n",
       "                                                    [key], {});\n",
       "        if (!dataTable) return;\n",
       "\n",
       "        const docLinkHtml = 'Like what you see? Visit the ' +\n",
       "          '<a target=\"_blank\" href=https://colab.research.google.com/notebooks/data_table.ipynb>data table notebook</a>'\n",
       "          + ' to learn more about interactive tables.';\n",
       "        element.innerHTML = '';\n",
       "        dataTable['output_type'] = 'display_data';\n",
       "        await google.colab.output.renderOutput(dataTable, element);\n",
       "        const docLink = document.createElement('div');\n",
       "        docLink.innerHTML = docLinkHtml;\n",
       "        element.appendChild(docLink);\n",
       "      }\n",
       "    </script>\n",
       "  </div>\n",
       "\n",
       "\n",
       "<div id=\"df-325d6adb-9f4d-4f20-818f-f72d84d58610\">\n",
       "  <button class=\"colab-df-quickchart\" onclick=\"quickchart('df-325d6adb-9f4d-4f20-818f-f72d84d58610')\"\n",
       "            title=\"Suggest charts.\"\n",
       "            style=\"display:none;\">\n",
       "\n",
       "<svg xmlns=\"http://www.w3.org/2000/svg\" height=\"24px\"viewBox=\"0 0 24 24\"\n",
       "     width=\"24px\">\n",
       "    <g>\n",
       "        <path d=\"M19 3H5c-1.1 0-2 .9-2 2v14c0 1.1.9 2 2 2h14c1.1 0 2-.9 2-2V5c0-1.1-.9-2-2-2zM9 17H7v-7h2v7zm4 0h-2V7h2v10zm4 0h-2v-4h2v4z\"/>\n",
       "    </g>\n",
       "</svg>\n",
       "  </button>\n",
       "\n",
       "<style>\n",
       "  .colab-df-quickchart {\n",
       "      --bg-color: #E8F0FE;\n",
       "      --fill-color: #1967D2;\n",
       "      --hover-bg-color: #E2EBFA;\n",
       "      --hover-fill-color: #174EA6;\n",
       "      --disabled-fill-color: #AAA;\n",
       "      --disabled-bg-color: #DDD;\n",
       "  }\n",
       "\n",
       "  [theme=dark] .colab-df-quickchart {\n",
       "      --bg-color: #3B4455;\n",
       "      --fill-color: #D2E3FC;\n",
       "      --hover-bg-color: #434B5C;\n",
       "      --hover-fill-color: #FFFFFF;\n",
       "      --disabled-bg-color: #3B4455;\n",
       "      --disabled-fill-color: #666;\n",
       "  }\n",
       "\n",
       "  .colab-df-quickchart {\n",
       "    background-color: var(--bg-color);\n",
       "    border: none;\n",
       "    border-radius: 50%;\n",
       "    cursor: pointer;\n",
       "    display: none;\n",
       "    fill: var(--fill-color);\n",
       "    height: 32px;\n",
       "    padding: 0;\n",
       "    width: 32px;\n",
       "  }\n",
       "\n",
       "  .colab-df-quickchart:hover {\n",
       "    background-color: var(--hover-bg-color);\n",
       "    box-shadow: 0 1px 2px rgba(60, 64, 67, 0.3), 0 1px 3px 1px rgba(60, 64, 67, 0.15);\n",
       "    fill: var(--button-hover-fill-color);\n",
       "  }\n",
       "\n",
       "  .colab-df-quickchart-complete:disabled,\n",
       "  .colab-df-quickchart-complete:disabled:hover {\n",
       "    background-color: var(--disabled-bg-color);\n",
       "    fill: var(--disabled-fill-color);\n",
       "    box-shadow: none;\n",
       "  }\n",
       "\n",
       "  .colab-df-spinner {\n",
       "    border: 2px solid var(--fill-color);\n",
       "    border-color: transparent;\n",
       "    border-bottom-color: var(--fill-color);\n",
       "    animation:\n",
       "      spin 1s steps(1) infinite;\n",
       "  }\n",
       "\n",
       "  @keyframes spin {\n",
       "    0% {\n",
       "      border-color: transparent;\n",
       "      border-bottom-color: var(--fill-color);\n",
       "      border-left-color: var(--fill-color);\n",
       "    }\n",
       "    20% {\n",
       "      border-color: transparent;\n",
       "      border-left-color: var(--fill-color);\n",
       "      border-top-color: var(--fill-color);\n",
       "    }\n",
       "    30% {\n",
       "      border-color: transparent;\n",
       "      border-left-color: var(--fill-color);\n",
       "      border-top-color: var(--fill-color);\n",
       "      border-right-color: var(--fill-color);\n",
       "    }\n",
       "    40% {\n",
       "      border-color: transparent;\n",
       "      border-right-color: var(--fill-color);\n",
       "      border-top-color: var(--fill-color);\n",
       "    }\n",
       "    60% {\n",
       "      border-color: transparent;\n",
       "      border-right-color: var(--fill-color);\n",
       "    }\n",
       "    80% {\n",
       "      border-color: transparent;\n",
       "      border-right-color: var(--fill-color);\n",
       "      border-bottom-color: var(--fill-color);\n",
       "    }\n",
       "    90% {\n",
       "      border-color: transparent;\n",
       "      border-bottom-color: var(--fill-color);\n",
       "    }\n",
       "  }\n",
       "</style>\n",
       "\n",
       "  <script>\n",
       "    async function quickchart(key) {\n",
       "      const quickchartButtonEl =\n",
       "        document.querySelector('#' + key + ' button');\n",
       "      quickchartButtonEl.disabled = true;  // To prevent multiple clicks.\n",
       "      quickchartButtonEl.classList.add('colab-df-spinner');\n",
       "      try {\n",
       "        const charts = await google.colab.kernel.invokeFunction(\n",
       "            'suggestCharts', [key], {});\n",
       "      } catch (error) {\n",
       "        console.error('Error during call to suggestCharts:', error);\n",
       "      }\n",
       "      quickchartButtonEl.classList.remove('colab-df-spinner');\n",
       "      quickchartButtonEl.classList.add('colab-df-quickchart-complete');\n",
       "    }\n",
       "    (() => {\n",
       "      let quickchartButtonEl =\n",
       "        document.querySelector('#df-325d6adb-9f4d-4f20-818f-f72d84d58610 button');\n",
       "      quickchartButtonEl.style.display =\n",
       "        google.colab.kernel.accessAllowed ? 'block' : 'none';\n",
       "    })();\n",
       "  </script>\n",
       "</div>\n",
       "    </div>\n",
       "  </div>\n"
      ],
      "text/plain": [
       "   abstract_id       target  \\\n",
       "0     24293578    OBJECTIVE   \n",
       "1     24293578      METHODS   \n",
       "2     24293578      METHODS   \n",
       "3     24293578      METHODS   \n",
       "4     24293578      METHODS   \n",
       "5     24293578      METHODS   \n",
       "6     24293578      RESULTS   \n",
       "7     24293578      RESULTS   \n",
       "8     24293578      RESULTS   \n",
       "9     24293578      RESULTS   \n",
       "10    24293578      RESULTS   \n",
       "11    24293578  CONCLUSIONS   \n",
       "\n",
       "                                                 text  line_number  \\\n",
       "0   to investigate the efficacy of @ weeks of dail...            0   \n",
       "1   a total of @ patients with primary knee oa wer...            1   \n",
       "2   outcome measures included pain reduction and i...            2   \n",
       "3   pain was assessed using the visual analog pain...            3   \n",
       "4   secondary outcome measures included the wester...            4   \n",
       "5   serum levels of interleukin @ ( il-@ ) , il-@ ...            5   \n",
       "6   there was a clinically relevant reduction in t...            6   \n",
       "7   the mean difference between treatment arms ( @...            7   \n",
       "8   further , there was a clinically relevant redu...            8   \n",
       "9   these differences remained significant at @ we...            9   \n",
       "10  the outcome measures in rheumatology clinical ...           10   \n",
       "11  low-dose oral prednisolone had both a short-te...           11   \n",
       "\n",
       "    total_lines  \n",
       "0            11  \n",
       "1            11  \n",
       "2            11  \n",
       "3            11  \n",
       "4            11  \n",
       "5            11  \n",
       "6            11  \n",
       "7            11  \n",
       "8            11  \n",
       "9            11  \n",
       "10           11  \n",
       "11           11  "
      ]
     },
     "execution_count": 11,
     "metadata": {},
     "output_type": "execute_result"
    }
   ],
   "source": [
    "train_df = pd.DataFrame(preprocessed_train_data)\n",
    "test_df = pd.DataFrame(preprocessed_test_data)\n",
    "val_df = pd.DataFrame(preprocessed_val_data)\n",
    "\n",
    "train_df.head(12)"
   ]
  },
  {
   "cell_type": "code",
   "execution_count": 12,
   "id": "57c67838-1cc5-4e74-900e-bf5fb10c558c",
   "metadata": {
    "colab": {
     "base_uri": "https://localhost:8080/"
    },
    "id": "57c67838-1cc5-4e74-900e-bf5fb10c558c",
    "outputId": "a747e1cd-24d9-4304-ae8e-1d85fc48b416"
   },
   "outputs": [
    {
     "data": {
      "text/plain": [
       "METHODS        59353\n",
       "RESULTS        57953\n",
       "CONCLUSIONS    27168\n",
       "BACKGROUND     21727\n",
       "OBJECTIVE      13839\n",
       "Name: target, dtype: int64"
      ]
     },
     "execution_count": 12,
     "metadata": {},
     "output_type": "execute_result"
    }
   ],
   "source": [
    "train_df.target.value_counts()"
   ]
  },
  {
   "cell_type": "code",
   "execution_count": 13,
   "id": "ca5b275b-77cb-4ef2-af81-99fddeea6c91",
   "metadata": {
    "colab": {
     "base_uri": "https://localhost:8080/",
     "height": 449
    },
    "id": "ca5b275b-77cb-4ef2-af81-99fddeea6c91",
    "outputId": "619b68a7-8500-462e-d7e7-2fddef8b5938"
   },
   "outputs": [
    {
     "data": {
      "text/plain": [
       "<Axes: ylabel='Frequency'>"
      ]
     },
     "execution_count": 13,
     "metadata": {},
     "output_type": "execute_result"
    },
    {
     "data": {
      "image/png": "[encoded data removed]",
      "text/plain": [
       "<Figure size 640x480 with 1 Axes>"
      ]
     },
     "metadata": {},
     "output_type": "display_data"
    }
   ],
   "source": [
    "train_df.total_lines.plot.hist()"
   ]
  },
  {
   "cell_type": "code",
   "execution_count": 14,
   "id": "f2722d97-57b2-4ed9-ab73-fdf4489506cf",
   "metadata": {
    "colab": {
     "base_uri": "https://localhost:8080/"
    },
    "id": "f2722d97-57b2-4ed9-ab73-fdf4489506cf",
    "outputId": "89937d5b-2f82-49ef-ddce-cafe7209ea43"
   },
   "outputs": [
    {
     "data": {
      "text/plain": [
       "(180040, 30135, 30212)"
      ]
     },
     "execution_count": 14,
     "metadata": {},
     "output_type": "execute_result"
    }
   ],
   "source": [
    "train_sentences = train_df.text.tolist()\n",
    "test_sentences = test_df.text.tolist()\n",
    "val_sentences = val_df.text.tolist()\n",
    "\n",
    "len(train_sentences), len(test_sentences), len(val_sentences)"
   ]
  },
  {
   "cell_type": "markdown",
   "id": "b91f6c7f-38d0-4b28-a0a9-4af64395705e",
   "metadata": {
    "id": "b91f6c7f-38d0-4b28-a0a9-4af64395705e"
   },
   "source": [
    "### Text to Numeric Preprocessing"
   ]
  },
  {
   "cell_type": "code",
   "execution_count": 15,
   "id": "839b5c45-0b20-4183-80b0-fa14edbd0f90",
   "metadata": {
    "colab": {
     "base_uri": "https://localhost:8080/"
    },
    "id": "839b5c45-0b20-4183-80b0-fa14edbd0f90",
    "outputId": "59a02e1d-3398-4768-dfc8-7e1bd64b7355"
   },
   "outputs": [
    {
     "name": "stderr",
     "output_type": "stream",
     "text": [
      "/usr/local/lib/python3.10/dist-packages/sklearn/preprocessing/_encoders.py:868: FutureWarning: `sparse` was renamed to `sparse_output` in version 1.2 and will be removed in 1.4. `sparse_output` is ignored unless you leave `sparse` to its default value.\n",
      "  warnings.warn(\n"
     ]
    },
    {
     "data": {
      "text/plain": [
       "array([[0., 0., 0., 1., 0.],\n",
       "       [0., 0., 1., 0., 0.],\n",
       "       [0., 0., 1., 0., 0.],\n",
       "       ...,\n",
       "       [0., 0., 0., 0., 1.],\n",
       "       [0., 1., 0., 0., 0.],\n",
       "       [0., 1., 0., 0., 0.]])"
      ]
     },
     "execution_count": 15,
     "metadata": {},
     "output_type": "execute_result"
    }
   ],
   "source": [
    "# One hot encode labels\n",
    "one_hot_encoder = OneHotEncoder(sparse=False)\n",
    "\n",
    "train_labels_one_hot = one_hot_encoder.fit_transform(train_df.target.to_numpy().reshape(-1, 1))\n",
    "val_labels_one_hot = one_hot_encoder.transform(val_df.target.to_numpy().reshape(-1, 1))\n",
    "test_labels_one_hot = one_hot_encoder.transform(test_df.target.to_numpy().reshape(-1, 1))\n",
    "\n",
    "# Check what training labels look like\n",
    "train_labels_one_hot"
   ]
  },
  {
   "cell_type": "code",
   "execution_count": 16,
   "id": "f4b72a20-2569-472b-91d8-40fd8387a938",
   "metadata": {
    "colab": {
     "base_uri": "https://localhost:8080/"
    },
    "id": "f4b72a20-2569-472b-91d8-40fd8387a938",
    "outputId": "53a5eb32-f679-4e50-b7df-6a4529e34c3b"
   },
   "outputs": [
    {
     "data": {
      "text/plain": [
       "array([3, 2, 2, ..., 4, 1, 1])"
      ]
     },
     "execution_count": 16,
     "metadata": {},
     "output_type": "execute_result"
    }
   ],
   "source": [
    "# Label Encode Labels\n",
    "label_encoder = LabelEncoder()\n",
    "\n",
    "train_labels_encoded = label_encoder.fit_transform(train_df.target.to_numpy())\n",
    "val_labels_encoded = label_encoder.fit_transform(val_df.target.to_numpy())\n",
    "test_labels_encoded = label_encoder.fit_transform(test_df.target.to_numpy())\n",
    "\n",
    "train_labels_encoded"
   ]
  },
  {
   "cell_type": "code",
   "execution_count": 17,
   "id": "38681213-00db-4087-a579-b32796de785a",
   "metadata": {
    "colab": {
     "base_uri": "https://localhost:8080/"
    },
    "id": "38681213-00db-4087-a579-b32796de785a",
    "outputId": "d369f968-e2b1-4025-f84c-875c060931b5"
   },
   "outputs": [
    {
     "data": {
      "text/plain": [
       "(5,\n",
       " array(['BACKGROUND', 'CONCLUSIONS', 'METHODS', 'OBJECTIVE', 'RESULTS'],\n",
       "       dtype=object))"
      ]
     },
     "execution_count": 17,
     "metadata": {},
     "output_type": "execute_result"
    }
   ],
   "source": [
    "num_classes = len(label_encoder.classes_)\n",
    "class_names = label_encoder.classes_\n",
    "\n",
    "num_classes, class_names"
   ]
  },
  {
   "cell_type": "markdown",
   "id": "e6e676ed-a7c3-484e-b52f-fe8e2a8a76bf",
   "metadata": {
    "id": "e6e676ed-a7c3-484e-b52f-fe8e2a8a76bf"
   },
   "source": [
    "#### Creating Datasets\n",
    "\n",
    "Going to setup the data to run as fast as possible using the TensorFlor tf.data API. The purpose of this is that TensorFlow has setup datasets that are used to optimize performance when training, validating, and testing by utilizing both the CPU and GPU as efficiently as they can be used.\n",
    "\n",
    "To utilize this functionality, we must create datasets that can be used when experimenting with models."
   ]
  },
  {
   "cell_type": "markdown",
   "id": "0768b9bd-cd7f-4c48-9f72-70f68ca7b99a",
   "metadata": {
    "id": "0768b9bd-cd7f-4c48-9f72-70f68ca7b99a"
   },
   "source": [
    "#### Sentence Datasets"
   ]
  },
  {
   "cell_type": "code",
   "execution_count": 18,
   "id": "b3424493-a7d4-454d-bcd8-d6aa898e9def",
   "metadata": {
    "colab": {
     "base_uri": "https://localhost:8080/"
    },
    "id": "b3424493-a7d4-454d-bcd8-d6aa898e9def",
    "outputId": "5d987838-0d0a-4c2e-a6a3-2d47d921ddb2"
   },
   "outputs": [
    {
     "data": {
      "text/plain": [
       "<_TensorSliceDataset element_spec=(TensorSpec(shape=(), dtype=tf.string, name=None), TensorSpec(shape=(5,), dtype=tf.float64, name=None))>"
      ]
     },
     "execution_count": 18,
     "metadata": {},
     "output_type": "execute_result"
    }
   ],
   "source": [
    "# Creating the final dataset to be used\n",
    "train_slice_dataset = tf.data.Dataset.from_tensor_slices((train_sentences, train_labels_one_hot))\n",
    "val_slice_dataset = tf.data.Dataset.from_tensor_slices((val_sentences, val_labels_one_hot))\n",
    "test_slice_dataset = tf.data.Dataset.from_tensor_slices((test_sentences, test_labels_one_hot))\n",
    "\n",
    "train_slice_dataset"
   ]
  },
  {
   "cell_type": "code",
   "execution_count": 19,
   "id": "f662fdef-6993-4a22-8e51-31732a480edd",
   "metadata": {
    "colab": {
     "base_uri": "https://localhost:8080/"
    },
    "id": "f662fdef-6993-4a22-8e51-31732a480edd",
    "outputId": "f05bb325-992c-40e6-d838-e10117ccc94c"
   },
   "outputs": [
    {
     "data": {
      "text/plain": [
       "<_PrefetchDataset element_spec=(TensorSpec(shape=(None,), dtype=tf.string, name=None), TensorSpec(shape=(None, 5), dtype=tf.float64, name=None))>"
      ]
     },
     "execution_count": 19,
     "metadata": {},
     "output_type": "execute_result"
    }
   ],
   "source": [
    "# Take TensorSliceDataset and turn into prefetch models\n",
    "train_dataset = train_slice_dataset.batch(32).prefetch(tf.data.AUTOTUNE)\n",
    "val_dataset = val_slice_dataset.batch(32).prefetch(tf.data.AUTOTUNE)\n",
    "test_dataset = test_slice_dataset.batch(32).prefetch(tf.data.AUTOTUNE)\n",
    "\n",
    "train_dataset"
   ]
  },
  {
   "cell_type": "markdown",
   "id": "a45100bb-3244-48ac-862e-03643e0f7b79",
   "metadata": {
    "id": "a45100bb-3244-48ac-862e-03643e0f7b79"
   },
   "source": [
    "#### Character Datasets"
   ]
  },
  {
   "cell_type": "code",
   "execution_count": 20,
   "id": "86c405ca-f323-4a48-9d9a-b5249fb58ee9",
   "metadata": {
    "colab": {
     "base_uri": "https://localhost:8080/"
    },
    "id": "86c405ca-f323-4a48-9d9a-b5249fb58ee9",
    "outputId": "97d49087-857b-41c2-a5b9-ce2534cb5172"
   },
   "outputs": [
    {
     "data": {
      "text/plain": [
       "['t o   i n v e s t i g a t e   t h e   e f f i c a c y   o f   @   w e e k s   o f   d a i l y   l o w - d o s e   o r a l   p r e d n i s o l o n e   i n   i m p r o v i n g   p a i n   ,   m o b i l i t y   ,   a n d   s y s t e m i c   l o w - g r a d e   i n f l a m m a t i o n   i n   t h e   s h o r t   t e r m   a n d   w h e t h e r   t h e   e f f e c t   w o u l d   b e   s u s t a i n e d   a t   @   w e e k s   i n   o l d e r   a d u l t s   w i t h   m o d e r a t e   t o   s e v e r e   k n e e   o s t e o a r t h r i t i s   (   o a   )   .',\n",
       " 'a   t o t a l   o f   @   p a t i e n t s   w i t h   p r i m a r y   k n e e   o a   w e r e   r a n d o m i z e d   @ : @   ;   @   r e c e i v e d   @   m g / d a y   o f   p r e d n i s o l o n e   a n d   @   r e c e i v e d   p l a c e b o   f o r   @   w e e k s   .',\n",
       " 'o u t c o m e   m e a s u r e s   i n c l u d e d   p a i n   r e d u c t i o n   a n d   i m p r o v e m e n t   i n   f u n c t i o n   s c o r e s   a n d   s y s t e m i c   i n f l a m m a t i o n   m a r k e r s   .',\n",
       " 'p a i n   w a s   a s s e s s e d   u s i n g   t h e   v i s u a l   a n a l o g   p a i n   s c a l e   (   @ - @   m m   )   .',\n",
       " 's e c o n d a r y   o u t c o m e   m e a s u r e s   i n c l u d e d   t h e   w e s t e r n   o n t a r i o   a n d   m c m a s t e r   u n i v e r s i t i e s   o s t e o a r t h r i t i s   i n d e x   s c o r e s   ,   p a t i e n t   g l o b a l   a s s e s s m e n t   (   p g a   )   o f   t h e   s e v e r i t y   o f   k n e e   o a   ,   a n d   @ - m i n   w a l k   d i s t a n c e   (   @ m w d   )   .']"
      ]
     },
     "execution_count": 20,
     "metadata": {},
     "output_type": "execute_result"
    }
   ],
   "source": [
    "train_chars = [split_chars(sentence) for sentence in train_sentences]\n",
    "val_chars = [split_chars(sentence) for sentence in val_sentences]\n",
    "test_chars = [split_chars(sentence) for sentence in test_sentences]\n",
    "\n",
    "train_chars[:5]"
   ]
  },
  {
   "cell_type": "code",
   "execution_count": 21,
   "id": "1070ff7b-948e-48bd-be50-0158b4a14f4d",
   "metadata": {
    "colab": {
     "base_uri": "https://localhost:8080/"
    },
    "id": "1070ff7b-948e-48bd-be50-0158b4a14f4d",
    "outputId": "1f186eb2-8db5-4d85-eb94-0abd33b16f7c"
   },
   "outputs": [
    {
     "data": {
      "text/plain": [
       "<_TensorSliceDataset element_spec=(TensorSpec(shape=(), dtype=tf.string, name=None), TensorSpec(shape=(5,), dtype=tf.float64, name=None))>"
      ]
     },
     "execution_count": 21,
     "metadata": {},
     "output_type": "execute_result"
    }
   ],
   "source": [
    "# Creating the final dataset to be used\n",
    "train_chars_slice_dataset = tf.data.Dataset.from_tensor_slices((train_chars, train_labels_one_hot))\n",
    "val_chars_slice_dataset = tf.data.Dataset.from_tensor_slices((val_chars, val_labels_one_hot))\n",
    "test_chars_slice_dataset = tf.data.Dataset.from_tensor_slices((test_chars, test_labels_one_hot))\n",
    "\n",
    "train_chars_slice_dataset"
   ]
  },
  {
   "cell_type": "code",
   "execution_count": 22,
   "id": "a20ef38c-7a89-489c-a6cd-a857000a3a4d",
   "metadata": {
    "colab": {
     "base_uri": "https://localhost:8080/"
    },
    "id": "a20ef38c-7a89-489c-a6cd-a857000a3a4d",
    "outputId": "005612db-760c-4a24-b097-af57cd9008a4"
   },
   "outputs": [
    {
     "data": {
      "text/plain": [
       "<_PrefetchDataset element_spec=(TensorSpec(shape=(None,), dtype=tf.string, name=None), TensorSpec(shape=(None, 5), dtype=tf.float64, name=None))>"
      ]
     },
     "execution_count": 22,
     "metadata": {},
     "output_type": "execute_result"
    }
   ],
   "source": [
    "# Take TensorSliceDataset and turn into prefetch models\n",
    "train_char_dataset = train_chars_slice_dataset.batch(32).prefetch(tf.data.AUTOTUNE)\n",
    "val_char_dataset = val_chars_slice_dataset.batch(32).prefetch(tf.data.AUTOTUNE)\n",
    "test_char_dataset = test_chars_slice_dataset.batch(32).prefetch(tf.data.AUTOTUNE)\n",
    "\n",
    "train_char_dataset"
   ]
  },
  {
   "cell_type": "markdown",
   "id": "ce7ecc61-dfef-4a0d-9813-e19241a427b1",
   "metadata": {
    "id": "ce7ecc61-dfef-4a0d-9813-e19241a427b1"
   },
   "source": [
    "## Experiments\n",
    "\n",
    "The models I am building will all be compared against Model-0 (baseline) which does not use Deep Learning, rather it uses a Naive Bayes ML model.\n",
    "\n",
    "0. Model-0 (Baseline): Naive Bayes w/ TF-IDF Encoder\n",
    "1. Model-1: Conv1D w/ Token Embeddings\n",
    "2. Model-2: TensorFlow Hub Pretrained Feature Extractor\n",
    "3. Model-3: Conv1D w/ Character Embeddings\n",
    "4. Model-4: Pretrained Token Embeddings (same as Model-2) + Character Embeddings (same as Model-3)\n",
    "5. Model-5: Pretrained Token Embeddings + Character Embeddings + Positional Embeddings"
   ]
  },
  {
   "cell_type": "markdown",
   "id": "7cebd2c4-a535-4393-92d1-6460e117a31a",
   "metadata": {
    "id": "7cebd2c4-a535-4393-92d1-6460e117a31a",
    "jp-MarkdownHeadingCollapsed": true
   },
   "source": [
    "### Preprocessing Layer Setup\n",
    "\n",
    "Many embedding layers will be reused for more than one of the experiments mentioned above. These steps will setup the layers to be used in experiments such that they can be reused for multiple models. The various layers to be made are:\n",
    "\n",
    "* `text_vectorizer` (TextVectorizer)\n",
    "* `token_embedding` (Embedding)\n",
    "* `character_vectorizer` (TextVectorizer)\n",
    "* `character_embeddings` (Embedding)\n",
    "* `positional_embeddings`"
   ]
  },
  {
   "cell_type": "markdown",
   "id": "2378b569-b2b1-4a70-a23f-cc41eefddde3",
   "metadata": {
    "id": "2378b569-b2b1-4a70-a23f-cc41eefddde3"
   },
   "source": [
    "#### Token Embeddings Layers\n",
    "\n",
    "These layers consist of the `text_vectorizer` and the `embedding` layers that will be reused."
   ]
  },
  {
   "cell_type": "code",
   "execution_count": 23,
   "id": "a910ee15-2ab8-4fac-8b5e-a33cddb16398",
   "metadata": {
    "colab": {
     "base_uri": "https://localhost:8080/"
    },
    "id": "a910ee15-2ab8-4fac-8b5e-a33cddb16398",
    "outputId": "f8a66011-221e-404e-ab36-d456e3849593"
   },
   "outputs": [
    {
     "data": {
      "text/plain": [
       "26"
      ]
     },
     "execution_count": 23,
     "metadata": {},
     "output_type": "execute_result"
    }
   ],
   "source": [
    "# Find average number of tokens\n",
    "sent_lens = [len(i.split()) for i in train_sentences]\n",
    "round(sum(sent_lens) / len(train_sentences))"
   ]
  },
  {
   "cell_type": "code",
   "execution_count": 24,
   "id": "0f0bce63-e53f-424f-b6c7-deec929af1f1",
   "metadata": {
    "colab": {
     "base_uri": "https://localhost:8080/"
    },
    "id": "0f0bce63-e53f-424f-b6c7-deec929af1f1",
    "outputId": "29aac4ee-7303-4ab8-9c06-27950c0a5c24"
   },
   "outputs": [
    {
     "data": {
      "text/plain": [
       "55"
      ]
     },
     "execution_count": 24,
     "metadata": {},
     "output_type": "execute_result"
    }
   ],
   "source": [
    "# How long of a sentence covers 95% of the examples?\n",
    "int(np.percentile(sent_lens, 95))"
   ]
  },
  {
   "cell_type": "code",
   "execution_count": 25,
   "id": "cd924928-1b03-4c38-95be-da77c25f7d9f",
   "metadata": {
    "id": "cd924928-1b03-4c38-95be-da77c25f7d9f"
   },
   "outputs": [],
   "source": [
    "# Setup text vectorization params\n",
    "max_vocab_length = 68000  # Max words to have in our vocab\n",
    "max_length = 55  # Max length our sequence will be (95% of examples are within length of 55)"
   ]
  },
  {
   "cell_type": "code",
   "execution_count": 26,
   "id": "61eff4e0-0d67-4061-be97-58f0efaca78a",
   "metadata": {
    "id": "61eff4e0-0d67-4061-be97-58f0efaca78a"
   },
   "outputs": [],
   "source": [
    "# Setting up a text vectorization layer (tokenization)\n",
    "text_vectorizer = tf.keras.layers.experimental.preprocessing.TextVectorization(\n",
    "    max_tokens=max_vocab_length,  # How many words in the vocabulary\n",
    "    output_sequence_length=max_length)  # Padds (adds 0's to end of number) to make all the same length\n",
    "\n",
    "# Adapt the vectorizer to the training data\n",
    "text_vectorizer.adapt(train_sentences)"
   ]
  },
  {
   "cell_type": "code",
   "execution_count": 27,
   "id": "69e6a374-5607-4d4e-becb-d5dbf951829b",
   "metadata": {
    "colab": {
     "base_uri": "https://localhost:8080/"
    },
    "id": "69e6a374-5607-4d4e-becb-d5dbf951829b",
    "outputId": "dc300b03-2cef-4569-f9ee-dd25c55b867d"
   },
   "outputs": [
    {
     "data": {
      "text/plain": [
       "(64841,\n",
       " ['', '[UNK]', 'the', 'and', 'of'],\n",
       " ['aainduced', 'aaigroup', 'aachener', 'aachen', 'aaacp'])"
      ]
     },
     "execution_count": 27,
     "metadata": {},
     "output_type": "execute_result"
    }
   ],
   "source": [
    "# Getting the words in the vocab from the training data\n",
    "words_in_vocab = text_vectorizer.get_vocabulary()\n",
    "top_5_words = words_in_vocab[:5]\n",
    "least_common_5_words = words_in_vocab[-5:]\n",
    "len(words_in_vocab), top_5_words, least_common_5_words"
   ]
  },
  {
   "cell_type": "code",
   "execution_count": 28,
   "id": "59c1e832-6e77-43a0-b031-b75ba3a2a912",
   "metadata": {
    "colab": {
     "base_uri": "https://localhost:8080/"
    },
    "id": "59c1e832-6e77-43a0-b031-b75ba3a2a912",
    "outputId": "030f68d4-fd6a-4a23-d07a-ce72b465353b"
   },
   "outputs": [
    {
     "data": {
      "text/plain": [
       "{'name': 'text_vectorization',\n",
       " 'trainable': True,\n",
       " 'dtype': 'string',\n",
       " 'batch_input_shape': (None,),\n",
       " 'max_tokens': 68000,\n",
       " 'standardize': 'lower_and_strip_punctuation',\n",
       " 'split': 'whitespace',\n",
       " 'ngrams': None,\n",
       " 'output_mode': 'int',\n",
       " 'output_sequence_length': 55,\n",
       " 'pad_to_max_tokens': False,\n",
       " 'sparse': False,\n",
       " 'ragged': False,\n",
       " 'vocabulary': None,\n",
       " 'idf_weights': None,\n",
       " 'encoding': 'utf-8',\n",
       " 'vocabulary_size': 64841}"
      ]
     },
     "execution_count": 28,
     "metadata": {},
     "output_type": "execute_result"
    }
   ],
   "source": [
    "# Config of text vectorizer layer\n",
    "text_vectorizer.get_config()"
   ]
  },
  {
   "cell_type": "code",
   "execution_count": 29,
   "id": "4bb3f265-81d0-4fca-8860-6f2e7408a81b",
   "metadata": {
    "colab": {
     "base_uri": "https://localhost:8080/"
    },
    "id": "4bb3f265-81d0-4fca-8860-6f2e7408a81b",
    "outputId": "0bb8a3e4-3302-4135-99f1-b0ddbae4430c"
   },
   "outputs": [
    {
     "data": {
      "text/plain": [
       "<keras.layers.core.embedding.Embedding at 0x7862a23ce6b0>"
      ]
     },
     "execution_count": 29,
     "metadata": {},
     "output_type": "execute_result"
    }
   ],
   "source": [
    "# Setting up the Embedding layer\n",
    "token_embedding = tf.keras.layers.Embedding(input_dim=len(words_in_vocab),\n",
    "                                            output_dim=128,  # GPU's work well when number is divisible by 8\n",
    "                                            mask_zero=True,\n",
    "                                            name='token_embedding')\n",
    "token_embedding"
   ]
  },
  {
   "cell_type": "code",
   "execution_count": 30,
   "id": "02d5e03d-104e-4602-8d0e-4c00328ebc42",
   "metadata": {
    "colab": {
     "base_uri": "https://localhost:8080/"
    },
    "id": "02d5e03d-104e-4602-8d0e-4c00328ebc42",
    "outputId": "04950d71-b7a8-46ab-c53e-628284955437"
   },
   "outputs": [
    {
     "name": "stdout",
     "output_type": "stream",
     "text": [
      "Sentence before vectorization: \n",
      " the present study showed that superimposed e during cycling might be a useful tool to induce a high local stimulus to skeletal muscle even when performing low to moderate external workloads .\n",
      "Sentence after vectorization: \n",
      " [[    2   369    17   147    28 11830   949    52  2978   640    36     8\n",
      "    998  1136     6  2822     8   181   585  3228     6  2681   368   983\n",
      "    183  2045   220     6   362  1489 21322     0     0     0     0     0\n",
      "      0     0     0     0     0     0     0     0     0     0     0     0\n",
      "      0     0     0     0     0     0     0]]\n",
      "Sentence after embedding: \n",
      " [[[ 0.0189192   0.00551848 -0.04154292 ...  0.01862589  0.02786139\n",
      "    0.02790321]\n",
      "  [ 0.00418255  0.03834439  0.04293877 ...  0.02531022  0.04622345\n",
      "   -0.00998306]\n",
      "  [ 0.01828502 -0.01630352  0.02274365 ...  0.01833764  0.0304074\n",
      "    0.02893071]\n",
      "  ...\n",
      "  [ 0.00793071  0.04790391 -0.02539178 ...  0.03880597 -0.04404117\n",
      "    0.04860593]\n",
      "  [ 0.00793071  0.04790391 -0.02539178 ...  0.03880597 -0.04404117\n",
      "    0.04860593]\n",
      "  [ 0.00793071  0.04790391 -0.02539178 ...  0.03880597 -0.04404117\n",
      "    0.04860593]]]\n",
      "Embedded sentence shape: (1, 55, 128)\n"
     ]
    }
   ],
   "source": [
    "# Testing out an example sentence\n",
    "target_sentence = random.choice(train_sentences)\n",
    "\n",
    "# Looking at the steps of tokenization\n",
    "print(f'Sentence before vectorization: \\n {target_sentence}')\n",
    "vectorized_sentence = text_vectorizer([target_sentence])\n",
    "print(f'Sentence after vectorization: \\n {vectorized_sentence}')\n",
    "embedded_sentence = token_embedding(vectorized_sentence)\n",
    "print(f'Sentence after embedding: \\n {embedded_sentence}')\n",
    "print(f'Embedded sentence shape: {embedded_sentence.shape}')"
   ]
  },
  {
   "cell_type": "markdown",
   "id": "559efdf4-dd14-4f62-9ca6-aec39390aa9c",
   "metadata": {
    "id": "559efdf4-dd14-4f62-9ca6-aec39390aa9c"
   },
   "source": [
    "#### Chracacter Embedding Layer\n",
    "\n",
    "A character level embedding layer will require tokenizing characters before creating the embedding layer."
   ]
  },
  {
   "cell_type": "code",
   "execution_count": 31,
   "id": "e329f482-68bc-4471-abe1-b2197c23b9bf",
   "metadata": {
    "colab": {
     "base_uri": "https://localhost:8080/"
    },
    "id": "e329f482-68bc-4471-abe1-b2197c23b9bf",
    "outputId": "a1f5a23b-f78c-4716-aabe-572560ca2644"
   },
   "outputs": [
    {
     "data": {
      "text/plain": [
       "149.3662574983337"
      ]
     },
     "execution_count": 31,
     "metadata": {},
     "output_type": "execute_result"
    }
   ],
   "source": [
    "# Whats the avg character length?\n",
    "chars_lens = [len(sentence) for sentence in train_sentences]\n",
    "mean_chars_lens = np.mean(chars_lens)\n",
    "\n",
    "mean_chars_lens"
   ]
  },
  {
   "cell_type": "code",
   "execution_count": 32,
   "id": "730f90eb-7baa-4103-b17d-f50948ff7f01",
   "metadata": {
    "colab": {
     "base_uri": "https://localhost:8080/",
     "height": 430
    },
    "id": "730f90eb-7baa-4103-b17d-f50948ff7f01",
    "outputId": "bbae6ffc-9fc3-417e-c31b-189e3493facb"
   },
   "outputs": [
    {
     "data": {
      "image/png": "[encoded data removed]",
      "text/plain": [
       "<Figure size 640x480 with 1 Axes>"
      ]
     },
     "metadata": {},
     "output_type": "display_data"
    }
   ],
   "source": [
    "plt.hist(chars_lens, bins=7);"
   ]
  },
  {
   "cell_type": "code",
   "execution_count": 33,
   "id": "483a4f4d-934b-4d9e-aa88-74058d42188b",
   "metadata": {
    "colab": {
     "base_uri": "https://localhost:8080/"
    },
    "id": "483a4f4d-934b-4d9e-aa88-74058d42188b",
    "outputId": "5cd8691f-821b-459b-9482-1c93d522dd4f"
   },
   "outputs": [
    {
     "data": {
      "text/plain": [
       "290"
      ]
     },
     "execution_count": 33,
     "metadata": {},
     "output_type": "execute_result"
    }
   ],
   "source": [
    "# Find character length for 95% of sentences\n",
    "output_sequence_len = int(np.percentile(chars_lens, 95))\n",
    "output_sequence_len"
   ]
  },
  {
   "cell_type": "code",
   "execution_count": 34,
   "id": "b00796b2-e237-49f5-85c3-0bb889f1ab64",
   "metadata": {
    "colab": {
     "base_uri": "https://localhost:8080/",
     "height": 35
    },
    "id": "b00796b2-e237-49f5-85c3-0bb889f1ab64",
    "outputId": "e24b16ce-fd03-4dc7-e1ea-1e889e6de511"
   },
   "outputs": [
    {
     "data": {
      "application/vnd.google.colaboratory.intrinsic+json": {
       "type": "string"
      },
      "text/plain": [
       "'abcdefghijklmnopqrstuvwxyz0123456789!\"#$%&\\'()*+,-./:;<=>?@[\\\\]^_`{|}~'"
      ]
     },
     "execution_count": 34,
     "metadata": {},
     "output_type": "execute_result"
    }
   ],
   "source": [
    "# Figuring out the total alpha-numeric characters\n",
    "alphabet = string.ascii_lowercase + string.digits + string.punctuation\n",
    "\n",
    "alphabet"
   ]
  },
  {
   "cell_type": "code",
   "execution_count": 35,
   "id": "628927c4-2101-48ad-80ca-46317b0bd224",
   "metadata": {
    "colab": {
     "base_uri": "https://localhost:8080/"
    },
    "id": "628927c4-2101-48ad-80ca-46317b0bd224",
    "outputId": "3766d173-5f3d-47b6-89bd-8c2262cff005"
   },
   "outputs": [
    {
     "data": {
      "text/plain": [
       "70"
      ]
     },
     "execution_count": 35,
     "metadata": {},
     "output_type": "execute_result"
    }
   ],
   "source": [
    "NUM_CHAR_TOKENS = len(alphabet) + 2  # Add 2 for space and OOV token ([UNK])\n",
    "NUM_CHAR_TOKENS"
   ]
  },
  {
   "cell_type": "code",
   "execution_count": 36,
   "id": "13feb3a7-a7a5-4c11-ae67-926b4089d810",
   "metadata": {
    "id": "13feb3a7-a7a5-4c11-ae67-926b4089d810"
   },
   "outputs": [],
   "source": [
    "character_vectorizer = tf.keras.layers.experimental.preprocessing.TextVectorization(\n",
    "    max_tokens=NUM_CHAR_TOKENS,\n",
    "    output_sequence_length=output_sequence_len,\n",
    "    name='char_vectorizer')"
   ]
  },
  {
   "cell_type": "code",
   "execution_count": 37,
   "id": "4f71f2d6-e832-430d-be8b-2ab529a28202",
   "metadata": {
    "id": "4f71f2d6-e832-430d-be8b-2ab529a28202"
   },
   "outputs": [],
   "source": [
    "character_vectorizer.adapt(train_chars)"
   ]
  },
  {
   "cell_type": "code",
   "execution_count": 38,
   "id": "3fe0eafd-ed40-41db-9a60-efdda3c6a2c5",
   "metadata": {
    "colab": {
     "base_uri": "https://localhost:8080/"
    },
    "id": "3fe0eafd-ed40-41db-9a60-efdda3c6a2c5",
    "outputId": "7f3deeef-111e-470f-d16c-49312ab0a1c8"
   },
   "outputs": [
    {
     "name": "stdout",
     "output_type": "stream",
     "text": [
      "Number of Different Characters: 28\n",
      "5 Most Common Characters: ['', '[UNK]', 'e', 't', 'i']\n",
      "5 Least Common Characters: ['k', 'x', 'z', 'q', 'j']\n"
     ]
    }
   ],
   "source": [
    "char_vocab = character_vectorizer.get_vocabulary()\n",
    "print(f'Number of Different Characters: {len(char_vocab)}')\n",
    "print(f'5 Most Common Characters: {char_vocab[:5]}')\n",
    "print(f'5 Least Common Characters: {char_vocab[-5:]}')"
   ]
  },
  {
   "cell_type": "code",
   "execution_count": 39,
   "id": "53e37b08-2b97-4398-9e77-9fe021e08c3c",
   "metadata": {
    "colab": {
     "base_uri": "https://localhost:8080/"
    },
    "id": "53e37b08-2b97-4398-9e77-9fe021e08c3c",
    "outputId": "7a372352-aafb-4270-9bad-fc7673e6599f"
   },
   "outputs": [
    {
     "name": "stdout",
     "output_type": "stream",
     "text": [
      "Text:\n",
      "i n   t h i s   r a n d o m i z e d   ,   d o u b l e - b l i n d   ,   p a r a l l e l - g r o u p   ,   s i n g l e - c e n t e r   ,   p r o o f - o f - p r i n c i p l e   c l i n i c a l   t r i a l   ,   w e   t e s t e d   t h e   h y p o t h e s i s   t h a t   @   s e s s i o n s   o f   a c t i v e   r t m s - d l p f c   d e l i v e r e d   o v e r   e i g h t   w e e k s   w o u l d   b e   f e a s i b l e   ,   s a f e   a n d   s u p e r i o r   t o   s h a m   r t m s   t o   d e c r e a s e   t h e   n u m b e r   o f   h e a d a c h e   d a y s   i n   @   p a t i e n t s   w i t h   c h r o n i c   m i g r a i n e   w i t h o u t   s e v e r e   d e p r e s s i o n   .\n",
      "Length: 294\n",
      "Vectorized Chars:\n",
      " [[ 4  6  3 13  4  9  8  5  6 10  7 15  4 25  2 10 10  7 16 22 12  2 22 12\n",
      "   4  6 10 14  5  8  5 12 12  2 12 18  8  7 16 14  9  4  6 18 12  2 11  2\n",
      "   6  3  2  8 14  8  7  7 17  7 17 14  8  4  6 11  4 14 12  2 11 12  4  6\n",
      "   4 11  5 12  3  8  4  5 12 20  2  3  2  9  3  2 10  3 13  2 13 19 14  7\n",
      "   3 13  2  9  4  9  3 13  5  3  9  2  9  9  4  7  6  9  7 17  5 11  3  4\n",
      "  21  2  8  3 15  9 10 12 14 17 11 10  2 12  4 21  2  8  2 10  7 21  2  8\n",
      "   2  4 18 13  3 20  2  2 23  9 20  7 16 12 10 22  2 17  2  5  9  4 22 12\n",
      "   2  9  5 17  2  5  6 10  9 16 14  2  8  4  7  8  3  7  9 13  5 15  8  3\n",
      "  15  9  3  7 10  2 11  8  2  5  9  2  3 13  2  6 16 15 22  2  8  7 17 13\n",
      "   2  5 10  5 11 13  2 10  5 19  9  4  6 14  5  3  4  2  6  3  9 20  4  3\n",
      "  13 11 13  8  7  6  4 11 15  4 18  8  5  4  6  2 20  4  3 13  7 16  3  9\n",
      "   2 21  2  8  2 10  2 14  8  2  9  9  4  7  6  0  0  0  0  0  0  0  0  0\n",
      "   0  0]]\n",
      "Length of Vectorized Chars: 290\n"
     ]
    }
   ],
   "source": [
    "random_train_chars = random.choice(train_chars)\n",
    "\n",
    "print(f'Text:\\n{random_train_chars}')\n",
    "print(f'Length: {len(random_train_chars.split())}')\n",
    "\n",
    "vectorized_chars = character_vectorizer([random_train_chars])\n",
    "print(f'Vectorized Chars:\\n {vectorized_chars}')\n",
    "print(f'Length of Vectorized Chars: {len(vectorized_chars[0])}')"
   ]
  },
  {
   "cell_type": "code",
   "execution_count": 40,
   "id": "bc234c00-a9b1-493d-bbdf-e6010080a913",
   "metadata": {
    "colab": {
     "base_uri": "https://localhost:8080/"
    },
    "id": "bc234c00-a9b1-493d-bbdf-e6010080a913",
    "outputId": "11e74f7a-d8d4-4c21-9674-93a897a1247a"
   },
   "outputs": [
    {
     "data": {
      "text/plain": [
       "<keras.layers.core.embedding.Embedding at 0x78629d6fe7a0>"
      ]
     },
     "execution_count": 40,
     "metadata": {},
     "output_type": "execute_result"
    }
   ],
   "source": [
    "character_embedding = tf.keras.layers.Embedding(input_dim=len(char_vocab),\n",
    "                                                output_dim=25,\n",
    "                                                mask_zero=True,\n",
    "                                                name='character_embedding')\n",
    "character_embedding"
   ]
  },
  {
   "cell_type": "code",
   "execution_count": 41,
   "id": "b2c46491-b6eb-4d95-93a4-922072241e67",
   "metadata": {
    "colab": {
     "base_uri": "https://localhost:8080/"
    },
    "id": "b2c46491-b6eb-4d95-93a4-922072241e67",
    "outputId": "fa70f401-7720-4bd1-e41a-c8731fd8a7f5"
   },
   "outputs": [
    {
     "name": "stdout",
     "output_type": "stream",
     "text": [
      "Chars before vectorization: \n",
      " a l t   d i d   n o t   m a k e   t h e   l y m p h e d e m a   v o l u m e   w o r s e   a n d   t h e r e f o r e   m a y   s e r v e   a s   a   s a f e   a l t e r n a t i v e   t o   l a n d - b a s e d   t r e a t m e n t s   o f   b r e a s t   c a n c e r - r e l a t e d   l y m p h e d e m a   .\n",
      "Chars after vectorization: \n",
      " [[ 5 12  3 10  4 10  6  7  3 15  5 23  2  3 13  2 12 19 15 14 13  2 10  2\n",
      "  15  5 21  7 12 16 15  2 20  7  8  9  2  5  6 10  3 13  2  8  2 17  7  8\n",
      "   2 15  5 19  9  2  8 21  2  5  9  5  9  5 17  2  5 12  3  2  8  6  5  3\n",
      "   4 21  2  3  7 12  5  6 10 22  5  9  2 10  3  8  2  5  3 15  2  6  3  9\n",
      "   7 17 22  8  2  5  9  3 11  5  6 11  2  8  8  2 12  5  3  2 10 12 19 15\n",
      "  14 13  2 10  2 15  5  0  0  0  0  0  0  0  0  0  0  0  0  0  0  0  0  0\n",
      "   0  0  0  0  0  0  0  0  0  0  0  0  0  0  0  0  0  0  0  0  0  0  0  0\n",
      "   0  0  0  0  0  0  0  0  0  0  0  0  0  0  0  0  0  0  0  0  0  0  0  0\n",
      "   0  0  0  0  0  0  0  0  0  0  0  0  0  0  0  0  0  0  0  0  0  0  0  0\n",
      "   0  0  0  0  0  0  0  0  0  0  0  0  0  0  0  0  0  0  0  0  0  0  0  0\n",
      "   0  0  0  0  0  0  0  0  0  0  0  0  0  0  0  0  0  0  0  0  0  0  0  0\n",
      "   0  0  0  0  0  0  0  0  0  0  0  0  0  0  0  0  0  0  0  0  0  0  0  0\n",
      "   0  0]]\n",
      "Chars after embedding: \n",
      " [[[-0.04006667  0.01971048 -0.00098367 ... -0.00926386  0.00425736\n",
      "    0.00088297]\n",
      "  [ 0.02776529 -0.00710054  0.02847378 ... -0.01720155  0.00992818\n",
      "   -0.01403689]\n",
      "  [ 0.00896498 -0.00342785 -0.03795142 ... -0.0244288  -0.03911535\n",
      "    0.03637977]\n",
      "  ...\n",
      "  [-0.03368328  0.01106509  0.04151011 ... -0.03022434 -0.02560014\n",
      "    0.04363712]\n",
      "  [-0.03368328  0.01106509  0.04151011 ... -0.03022434 -0.02560014\n",
      "    0.04363712]\n",
      "  [-0.03368328  0.01106509  0.04151011 ... -0.03022434 -0.02560014\n",
      "    0.04363712]]]\n",
      "Embedded chars shape: (1, 290, 25)\n"
     ]
    }
   ],
   "source": [
    "# Testing out an example sentence\n",
    "target_chars = random.choice(train_chars)\n",
    "\n",
    "# Looking at the steps of tokenization\n",
    "print(f'Chars before vectorization: \\n {target_chars}')\n",
    "\n",
    "vectorized_chars = character_vectorizer([target_chars])\n",
    "print(f'Chars after vectorization: \\n {vectorized_chars}')\n",
    "embedded_chars = character_embedding(vectorized_chars)\n",
    "print(f'Chars after embedding: \\n {embedded_chars}')\n",
    "print(f'Embedded chars shape: {embedded_chars.shape}')"
   ]
  },
  {
   "cell_type": "markdown",
   "id": "zBFmc2TUP8R8",
   "metadata": {
    "id": "zBFmc2TUP8R8"
   },
   "source": [
    "#### Positional Embedding Layer\n",
    "\n",
    "A positional embedding layer will look at the position of each sentence within the abstract."
   ]
  },
  {
   "cell_type": "code",
   "execution_count": 42,
   "id": "saN8DfzTQIwO",
   "metadata": {
    "colab": {
     "base_uri": "https://localhost:8080/"
    },
    "id": "saN8DfzTQIwO",
    "outputId": "0355abf8-90fc-4c70-fbb4-821c90568d73"
   },
   "outputs": [
    {
     "data": {
      "text/plain": [
       "0     15000\n",
       "1     15000\n",
       "2     15000\n",
       "3     15000\n",
       "4     14992\n",
       "5     14949\n",
       "6     14758\n",
       "7     14279\n",
       "8     13346\n",
       "9     11981\n",
       "10    10041\n",
       "11     7892\n",
       "12     5853\n",
       "13     4152\n",
       "14     2835\n",
       "15     1861\n",
       "16     1188\n",
       "17      751\n",
       "18      462\n",
       "19      286\n",
       "20      162\n",
       "21      101\n",
       "22       66\n",
       "23       33\n",
       "24       22\n",
       "25       14\n",
       "26        7\n",
       "27        4\n",
       "28        3\n",
       "29        1\n",
       "30        1\n",
       "Name: line_number, dtype: int64"
      ]
     },
     "execution_count": 42,
     "metadata": {},
     "output_type": "execute_result"
    }
   ],
   "source": [
    "train_df['line_number'].value_counts()"
   ]
  },
  {
   "cell_type": "code",
   "execution_count": 43,
   "id": "t4k5pyxhQRAk",
   "metadata": {
    "colab": {
     "base_uri": "https://localhost:8080/",
     "height": 448
    },
    "id": "t4k5pyxhQRAk",
    "outputId": "30565755-9e26-42e8-bd6f-fb305587f081"
   },
   "outputs": [
    {
     "data": {
      "text/plain": [
       "<Axes: ylabel='Frequency'>"
      ]
     },
     "execution_count": 43,
     "metadata": {},
     "output_type": "execute_result"
    },
    {
     "data": {
      "image/png": "[encoded data removed]",
      "text/plain": [
       "<Figure size 640x480 with 1 Axes>"
      ]
     },
     "metadata": {},
     "output_type": "display_data"
    }
   ],
   "source": [
    "train_df['line_number'].plot.hist()"
   ]
  },
  {
   "cell_type": "code",
   "execution_count": 44,
   "id": "MdnLKeVERHfP",
   "metadata": {
    "colab": {
     "base_uri": "https://localhost:8080/"
    },
    "id": "MdnLKeVERHfP",
    "outputId": "ed821011-dadb-411e-f61f-6c10f3e5c782"
   },
   "outputs": [
    {
     "data": {
      "text/plain": [
       "15"
      ]
     },
     "execution_count": 44,
     "metadata": {},
     "output_type": "execute_result"
    }
   ],
   "source": [
    "# See what number of lines covers 98% of the samples\n",
    "max_lines = int(np.percentile(train_df['line_number'].to_numpy(), 98))\n",
    "max_lines"
   ]
  },
  {
   "cell_type": "code",
   "execution_count": 45,
   "id": "V5AY4_6VQiTV",
   "metadata": {
    "colab": {
     "base_uri": "https://localhost:8080/"
    },
    "id": "V5AY4_6VQiTV",
    "outputId": "55569569-cd33-4ba8-efbb-a42bc896eaa1"
   },
   "outputs": [
    {
     "data": {
      "text/plain": [
       "(<tf.Tensor: shape=(15, 15), dtype=float32, numpy=\n",
       " array([[1., 0., 0., 0., 0., 0., 0., 0., 0., 0., 0., 0., 0., 0., 0.],\n",
       "        [0., 1., 0., 0., 0., 0., 0., 0., 0., 0., 0., 0., 0., 0., 0.],\n",
       "        [0., 0., 1., 0., 0., 0., 0., 0., 0., 0., 0., 0., 0., 0., 0.],\n",
       "        [0., 0., 0., 1., 0., 0., 0., 0., 0., 0., 0., 0., 0., 0., 0.],\n",
       "        [0., 0., 0., 0., 1., 0., 0., 0., 0., 0., 0., 0., 0., 0., 0.],\n",
       "        [0., 0., 0., 0., 0., 1., 0., 0., 0., 0., 0., 0., 0., 0., 0.],\n",
       "        [0., 0., 0., 0., 0., 0., 1., 0., 0., 0., 0., 0., 0., 0., 0.],\n",
       "        [0., 0., 0., 0., 0., 0., 0., 1., 0., 0., 0., 0., 0., 0., 0.],\n",
       "        [0., 0., 0., 0., 0., 0., 0., 0., 1., 0., 0., 0., 0., 0., 0.],\n",
       "        [0., 0., 0., 0., 0., 0., 0., 0., 0., 1., 0., 0., 0., 0., 0.],\n",
       "        [0., 0., 0., 0., 0., 0., 0., 0., 0., 0., 1., 0., 0., 0., 0.],\n",
       "        [0., 0., 0., 0., 0., 0., 0., 0., 0., 0., 0., 1., 0., 0., 0.],\n",
       "        [1., 0., 0., 0., 0., 0., 0., 0., 0., 0., 0., 0., 0., 0., 0.],\n",
       "        [0., 1., 0., 0., 0., 0., 0., 0., 0., 0., 0., 0., 0., 0., 0.],\n",
       "        [0., 0., 1., 0., 0., 0., 0., 0., 0., 0., 0., 0., 0., 0., 0.]],\n",
       "       dtype=float32)>,\n",
       " TensorShape([180040, 15]))"
      ]
     },
     "execution_count": 45,
     "metadata": {},
     "output_type": "execute_result"
    }
   ],
   "source": [
    "# Encoding line_number tensors\n",
    "train_line_numbers_one_hot = tf.one_hot(train_df['line_number'].to_numpy(), depth=max_lines)\n",
    "val_line_numbers_one_hot = tf.one_hot(val_df['line_number'].to_numpy(), depth=max_lines)\n",
    "test_line_numbers_one_hot = tf.one_hot(test_df['line_number'].to_numpy(), depth=max_lines)\n",
    "\n",
    "train_line_numbers_one_hot[:15], train_line_numbers_one_hot.shape"
   ]
  },
  {
   "cell_type": "code",
   "execution_count": 46,
   "id": "RKN6lXuKWzTr",
   "metadata": {
    "colab": {
     "base_uri": "https://localhost:8080/"
    },
    "id": "RKN6lXuKWzTr",
    "outputId": "87cfc6c4-9b60-402e-a0fa-4f0b7901cbc4"
   },
   "outputs": [
    {
     "data": {
      "text/plain": [
       "(<_PrefetchDataset element_spec=(TensorSpec(shape=(None, 15), dtype=tf.float32, name=None), TensorSpec(shape=(None, 5), dtype=tf.float64, name=None))>,\n",
       " <_PrefetchDataset element_spec=(TensorSpec(shape=(None, 15), dtype=tf.float32, name=None), TensorSpec(shape=(None, 5), dtype=tf.float64, name=None))>,\n",
       " <_PrefetchDataset element_spec=(TensorSpec(shape=(None, 15), dtype=tf.float32, name=None), TensorSpec(shape=(None, 5), dtype=tf.float64, name=None))>)"
      ]
     },
     "execution_count": 46,
     "metadata": {},
     "output_type": "execute_result"
    }
   ],
   "source": [
    "train_line_number_sliced_dataset = tf.data.Dataset.from_tensor_slices((train_line_numbers_one_hot, train_labels_one_hot))\n",
    "train_line_number_dataset = train_line_number_sliced_dataset.batch(32).prefetch(tf.data.AUTOTUNE)\n",
    "\n",
    "val_line_number_sliced_dataset = tf.data.Dataset.from_tensor_slices((val_line_numbers_one_hot, val_labels_one_hot))\n",
    "val_line_number_dataset = val_line_number_sliced_dataset.batch(32).prefetch(tf.data.AUTOTUNE)\n",
    "\n",
    "test_line_number_sliced_dataset = tf.data.Dataset.from_tensor_slices((test_line_numbers_one_hot, test_labels_one_hot))\n",
    "test_line_number_dataset = test_line_number_sliced_dataset.batch(32).prefetch(tf.data.AUTOTUNE)\n",
    "\n",
    "train_line_number_dataset, val_line_number_dataset, test_line_number_dataset"
   ]
  },
  {
   "cell_type": "code",
   "execution_count": 47,
   "id": "YwWC5UuIRahA",
   "metadata": {
    "colab": {
     "base_uri": "https://localhost:8080/"
    },
    "id": "YwWC5UuIRahA",
    "outputId": "0eedaf18-51e7-4ad2-db54-f58c01141339"
   },
   "outputs": [
    {
     "data": {
      "text/plain": [
       "11    24468\n",
       "10    23639\n",
       "12    22113\n",
       "9     19400\n",
       "13    18438\n",
       "14    14610\n",
       "8     12285\n",
       "15    10768\n",
       "7      7464\n",
       "16     7429\n",
       "17     5202\n",
       "6      3353\n",
       "18     3344\n",
       "19     2480\n",
       "20     1281\n",
       "5      1146\n",
       "21      770\n",
       "22      759\n",
       "23      264\n",
       "4       215\n",
       "24      200\n",
       "25      182\n",
       "26       81\n",
       "28       58\n",
       "3        32\n",
       "30       31\n",
       "27       28\n",
       "Name: total_lines, dtype: int64"
      ]
     },
     "execution_count": 47,
     "metadata": {},
     "output_type": "execute_result"
    }
   ],
   "source": [
    "train_df['total_lines'].value_counts()"
   ]
  },
  {
   "cell_type": "code",
   "execution_count": 48,
   "id": "ihIon4PHSCi8",
   "metadata": {
    "colab": {
     "base_uri": "https://localhost:8080/",
     "height": 449
    },
    "id": "ihIon4PHSCi8",
    "outputId": "8c3a07d4-dfc2-4c36-8fd2-31dfb2e1e5d1"
   },
   "outputs": [
    {
     "data": {
      "text/plain": [
       "<Axes: ylabel='Frequency'>"
      ]
     },
     "execution_count": 48,
     "metadata": {},
     "output_type": "execute_result"
    },
    {
     "data": {
      "image/png": "[encoded data removed]",
      "text/plain": [
       "<Figure size 640x480 with 1 Axes>"
      ]
     },
     "metadata": {},
     "output_type": "display_data"
    }
   ],
   "source": [
    "train_df['total_lines'].plot.hist()"
   ]
  },
  {
   "cell_type": "code",
   "execution_count": 49,
   "id": "xJsXkZzaSHQN",
   "metadata": {
    "colab": {
     "base_uri": "https://localhost:8080/"
    },
    "id": "xJsXkZzaSHQN",
    "outputId": "43ad4801-7b01-4210-dbfd-0b2ee7d3fc03"
   },
   "outputs": [
    {
     "data": {
      "text/plain": [
       "20"
      ]
     },
     "execution_count": 49,
     "metadata": {},
     "output_type": "execute_result"
    }
   ],
   "source": [
    "max_total_lines = int(np.percentile(train_df['total_lines'], 98))\n",
    "max_total_lines"
   ]
  },
  {
   "cell_type": "code",
   "execution_count": 50,
   "id": "bwkWa7qeSQwk",
   "metadata": {
    "colab": {
     "base_uri": "https://localhost:8080/"
    },
    "id": "bwkWa7qeSQwk",
    "outputId": "c11b49bc-6163-4c1f-9c09-57ac233ae07c"
   },
   "outputs": [
    {
     "data": {
      "text/plain": [
       "(<tf.Tensor: shape=(15, 20), dtype=float32, numpy=\n",
       " array([[0., 0., 0., 0., 0., 0., 0., 0., 0., 0., 0., 1., 0., 0., 0., 0.,\n",
       "         0., 0., 0., 0.],\n",
       "        [0., 0., 0., 0., 0., 0., 0., 0., 0., 0., 0., 1., 0., 0., 0., 0.,\n",
       "         0., 0., 0., 0.],\n",
       "        [0., 0., 0., 0., 0., 0., 0., 0., 0., 0., 0., 1., 0., 0., 0., 0.,\n",
       "         0., 0., 0., 0.],\n",
       "        [0., 0., 0., 0., 0., 0., 0., 0., 0., 0., 0., 1., 0., 0., 0., 0.,\n",
       "         0., 0., 0., 0.],\n",
       "        [0., 0., 0., 0., 0., 0., 0., 0., 0., 0., 0., 1., 0., 0., 0., 0.,\n",
       "         0., 0., 0., 0.],\n",
       "        [0., 0., 0., 0., 0., 0., 0., 0., 0., 0., 0., 1., 0., 0., 0., 0.,\n",
       "         0., 0., 0., 0.],\n",
       "        [0., 0., 0., 0., 0., 0., 0., 0., 0., 0., 0., 1., 0., 0., 0., 0.,\n",
       "         0., 0., 0., 0.],\n",
       "        [0., 0., 0., 0., 0., 0., 0., 0., 0., 0., 0., 1., 0., 0., 0., 0.,\n",
       "         0., 0., 0., 0.],\n",
       "        [0., 0., 0., 0., 0., 0., 0., 0., 0., 0., 0., 1., 0., 0., 0., 0.,\n",
       "         0., 0., 0., 0.],\n",
       "        [0., 0., 0., 0., 0., 0., 0., 0., 0., 0., 0., 1., 0., 0., 0., 0.,\n",
       "         0., 0., 0., 0.],\n",
       "        [0., 0., 0., 0., 0., 0., 0., 0., 0., 0., 0., 1., 0., 0., 0., 0.,\n",
       "         0., 0., 0., 0.],\n",
       "        [0., 0., 0., 0., 0., 0., 0., 0., 0., 0., 0., 1., 0., 0., 0., 0.,\n",
       "         0., 0., 0., 0.],\n",
       "        [0., 0., 0., 0., 0., 0., 0., 0., 0., 0., 1., 0., 0., 0., 0., 0.,\n",
       "         0., 0., 0., 0.],\n",
       "        [0., 0., 0., 0., 0., 0., 0., 0., 0., 0., 1., 0., 0., 0., 0., 0.,\n",
       "         0., 0., 0., 0.],\n",
       "        [0., 0., 0., 0., 0., 0., 0., 0., 0., 0., 1., 0., 0., 0., 0., 0.,\n",
       "         0., 0., 0., 0.]], dtype=float32)>,\n",
       " TensorShape([180040, 20]))"
      ]
     },
     "execution_count": 50,
     "metadata": {},
     "output_type": "execute_result"
    }
   ],
   "source": [
    "# Encoding line_number tensors\n",
    "train_total_lines_one_hot = tf.one_hot(train_df['total_lines'].to_numpy(), depth=max_total_lines)\n",
    "val_total_lines_one_hot = tf.one_hot(val_df['total_lines'].to_numpy(), depth=max_total_lines)\n",
    "test_total_lines_one_hot = tf.one_hot(test_df['total_lines'].to_numpy(), depth=max_total_lines)\n",
    "\n",
    "train_total_lines_one_hot[:15], train_total_lines_one_hot.shape"
   ]
  },
  {
   "cell_type": "code",
   "execution_count": 51,
   "id": "XOh6xOtbXBIi",
   "metadata": {
    "colab": {
     "base_uri": "https://localhost:8080/"
    },
    "id": "XOh6xOtbXBIi",
    "outputId": "a56177d0-1c00-4da8-b12c-75c9690f77bf"
   },
   "outputs": [
    {
     "data": {
      "text/plain": [
       "(<_PrefetchDataset element_spec=(TensorSpec(shape=(None, 20), dtype=tf.float32, name=None), TensorSpec(shape=(None, 5), dtype=tf.float64, name=None))>,\n",
       " <_PrefetchDataset element_spec=(TensorSpec(shape=(None, 20), dtype=tf.float32, name=None), TensorSpec(shape=(None, 5), dtype=tf.float64, name=None))>,\n",
       " <_PrefetchDataset element_spec=(TensorSpec(shape=(None, 20), dtype=tf.float32, name=None), TensorSpec(shape=(None, 5), dtype=tf.float64, name=None))>)"
      ]
     },
     "execution_count": 51,
     "metadata": {},
     "output_type": "execute_result"
    }
   ],
   "source": [
    "# Creating total lines datasets\n",
    "train_total_lines_sliced_dataset = tf.data.Dataset.from_tensor_slices((train_total_lines_one_hot, train_labels_one_hot))\n",
    "train_total_lines_dataset = train_total_lines_sliced_dataset.batch(32).prefetch(tf.data.AUTOTUNE)\n",
    "\n",
    "val_total_lines_sliced_dataset = tf.data.Dataset.from_tensor_slices((val_total_lines_one_hot, val_labels_one_hot))\n",
    "val_total_lines_dataset = val_total_lines_sliced_dataset.batch(32).prefetch(tf.data.AUTOTUNE)\n",
    "\n",
    "test_total_lines_sliced_dataset = tf.data.Dataset.from_tensor_slices((test_total_lines_one_hot, test_labels_one_hot))\n",
    "test_total_lines_dataset = test_total_lines_sliced_dataset.batch(32).prefetch(tf.data.AUTOTUNE)\n",
    "\n",
    "train_total_lines_dataset, val_total_lines_dataset, test_total_lines_dataset"
   ]
  },
  {
   "cell_type": "markdown",
   "id": "5c597747-5831-4275-8b43-cb7b5139d5ef",
   "metadata": {
    "id": "5c597747-5831-4275-8b43-cb7b5139d5ef"
   },
   "source": [
    "### Model-0 (Baseline): Naive Bayes ML\n",
    "\n",
    "As a baseline, I am going to look at the general machine learning algorithm, Multinomial Naive Bayes, which is commonly used for natural language processing classification."
   ]
  },
  {
   "cell_type": "code",
   "execution_count": 124,
   "id": "i5G1sgBnjVn9",
   "metadata": {
    "id": "i5G1sgBnjVn9"
   },
   "outputs": [],
   "source": [
    "# Constants\n",
    "model_0_name = 'model_0_naive_bayes'"
   ]
  },
  {
   "cell_type": "code",
   "execution_count": 52,
   "id": "3465fea4-e77e-4e82-86ea-f523a08167b0",
   "metadata": {
    "id": "3465fea4-e77e-4e82-86ea-f523a08167b0"
   },
   "outputs": [],
   "source": [
    "model_0 = Pipeline([\n",
    "    ('tf-idf', TfidfVectorizer()),\n",
    "    ('clf', MultinomialNB()),\n",
    "])"
   ]
  },
  {
   "cell_type": "code",
   "execution_count": 53,
   "id": "4b7af4f9-bb05-4386-b969-963e18658900",
   "metadata": {
    "colab": {
     "base_uri": "https://localhost:8080/",
     "height": 126
    },
    "id": "4b7af4f9-bb05-4386-b969-963e18658900",
    "outputId": "10f70986-3d5b-43f7-f3ea-6ff2bdbbf8d0"
   },
   "outputs": [
    {
     "data": {
      "text/html": [
       "<style>#sk-container-id-1 {color: black;background-color: white;}#sk-container-id-1 pre{padding: 0;}#sk-container-id-1 div.sk-toggleable {background-color: white;}#sk-container-id-1 label.sk-toggleable__label {cursor: pointer;display: block;width: 100%;margin-bottom: 0;padding: 0.3em;box-sizing: border-box;text-align: center;}#sk-container-id-1 label.sk-toggleable__label-arrow:before {content: \"▸\";float: left;margin-right: 0.25em;color: #696969;}#sk-container-id-1 label.sk-toggleable__label-arrow:hover:before {color: black;}#sk-container-id-1 div.sk-estimator:hover label.sk-toggleable__label-arrow:before {color: black;}#sk-container-id-1 div.sk-toggleable__content {max-height: 0;max-width: 0;overflow: hidden;text-align: left;background-color: #f0f8ff;}#sk-container-id-1 div.sk-toggleable__content pre {margin: 0.2em;color: black;border-radius: 0.25em;background-color: #f0f8ff;}#sk-container-id-1 input.sk-toggleable__control:checked~div.sk-toggleable__content {max-height: 200px;max-width: 100%;overflow: auto;}#sk-container-id-1 input.sk-toggleable__control:checked~label.sk-toggleable__label-arrow:before {content: \"▾\";}#sk-container-id-1 div.sk-estimator input.sk-toggleable__control:checked~label.sk-toggleable__label {background-color: #d4ebff;}#sk-container-id-1 div.sk-label input.sk-toggleable__control:checked~label.sk-toggleable__label {background-color: #d4ebff;}#sk-container-id-1 input.sk-hidden--visually {border: 0;clip: rect(1px 1px 1px 1px);clip: rect(1px, 1px, 1px, 1px);height: 1px;margin: -1px;overflow: hidden;padding: 0;position: absolute;width: 1px;}#sk-container-id-1 div.sk-estimator {font-family: monospace;background-color: #f0f8ff;border: 1px dotted black;border-radius: 0.25em;box-sizing: border-box;margin-bottom: 0.5em;}#sk-container-id-1 div.sk-estimator:hover {background-color: #d4ebff;}#sk-container-id-1 div.sk-parallel-item::after {content: \"\";width: 100%;border-bottom: 1px solid gray;flex-grow: 1;}#sk-container-id-1 div.sk-label:hover label.sk-toggleable__label {background-color: #d4ebff;}#sk-container-id-1 div.sk-serial::before {content: \"\";position: absolute;border-left: 1px solid gray;box-sizing: border-box;top: 0;bottom: 0;left: 50%;z-index: 0;}#sk-container-id-1 div.sk-serial {display: flex;flex-direction: column;align-items: center;background-color: white;padding-right: 0.2em;padding-left: 0.2em;position: relative;}#sk-container-id-1 div.sk-item {position: relative;z-index: 1;}#sk-container-id-1 div.sk-parallel {display: flex;align-items: stretch;justify-content: center;background-color: white;position: relative;}#sk-container-id-1 div.sk-item::before, #sk-container-id-1 div.sk-parallel-item::before {content: \"\";position: absolute;border-left: 1px solid gray;box-sizing: border-box;top: 0;bottom: 0;left: 50%;z-index: -1;}#sk-container-id-1 div.sk-parallel-item {display: flex;flex-direction: column;z-index: 1;position: relative;background-color: white;}#sk-container-id-1 div.sk-parallel-item:first-child::after {align-self: flex-end;width: 50%;}#sk-container-id-1 div.sk-parallel-item:last-child::after {align-self: flex-start;width: 50%;}#sk-container-id-1 div.sk-parallel-item:only-child::after {width: 0;}#sk-container-id-1 div.sk-dashed-wrapped {border: 1px dashed gray;margin: 0 0.4em 0.5em 0.4em;box-sizing: border-box;padding-bottom: 0.4em;background-color: white;}#sk-container-id-1 div.sk-label label {font-family: monospace;font-weight: bold;display: inline-block;line-height: 1.2em;}#sk-container-id-1 div.sk-label-container {text-align: center;}#sk-container-id-1 div.sk-container {/* jupyter's `normalize.less` sets `[hidden] { display: none; }` but bootstrap.min.css set `[hidden] { display: none !important; }` so we also need the `!important` here to be able to override the default hidden behavior on the sphinx rendered scikit-learn.org. See: https://github.com/scikit-learn/scikit-learn/issues/21755 */display: inline-block !important;position: relative;}#sk-container-id-1 div.sk-text-repr-fallback {display: none;}</style><div id=\"sk-container-id-1\" class=\"sk-top-container\"><div class=\"sk-text-repr-fallback\"><pre>Pipeline(steps=[(&#x27;tf-idf&#x27;, TfidfVectorizer()), (&#x27;clf&#x27;, MultinomialNB())])</pre><b>In a Jupyter environment, please rerun this cell to show the HTML representation or trust the notebook. <br />On GitHub, the HTML representation is unable to render, please try loading this page with nbviewer.org.</b></div><div class=\"sk-container\" hidden><div class=\"sk-item sk-dashed-wrapped\"><div class=\"sk-label-container\"><div class=\"sk-label sk-toggleable\"><input class=\"sk-toggleable__control sk-hidden--visually\" id=\"sk-estimator-id-1\" type=\"checkbox\" ><label for=\"sk-estimator-id-1\" class=\"sk-toggleable__label sk-toggleable__label-arrow\">Pipeline</label><div class=\"sk-toggleable__content\"><pre>Pipeline(steps=[(&#x27;tf-idf&#x27;, TfidfVectorizer()), (&#x27;clf&#x27;, MultinomialNB())])</pre></div></div></div><div class=\"sk-serial\"><div class=\"sk-item\"><div class=\"sk-estimator sk-toggleable\"><input class=\"sk-toggleable__control sk-hidden--visually\" id=\"sk-estimator-id-2\" type=\"checkbox\" ><label for=\"sk-estimator-id-2\" class=\"sk-toggleable__label sk-toggleable__label-arrow\">TfidfVectorizer</label><div class=\"sk-toggleable__content\"><pre>TfidfVectorizer()</pre></div></div></div><div class=\"sk-item\"><div class=\"sk-estimator sk-toggleable\"><input class=\"sk-toggleable__control sk-hidden--visually\" id=\"sk-estimator-id-3\" type=\"checkbox\" ><label for=\"sk-estimator-id-3\" class=\"sk-toggleable__label sk-toggleable__label-arrow\">MultinomialNB</label><div class=\"sk-toggleable__content\"><pre>MultinomialNB()</pre></div></div></div></div></div></div></div>"
      ],
      "text/plain": [
       "Pipeline(steps=[('tf-idf', TfidfVectorizer()), ('clf', MultinomialNB())])"
      ]
     },
     "execution_count": 53,
     "metadata": {},
     "output_type": "execute_result"
    }
   ],
   "source": [
    "model_0.fit(X=train_sentences, y=train_labels_encoded)"
   ]
  },
  {
   "cell_type": "code",
   "execution_count": 54,
   "id": "39f9444d-17f0-4c23-9140-1657fa875099",
   "metadata": {
    "colab": {
     "base_uri": "https://localhost:8080/"
    },
    "id": "39f9444d-17f0-4c23-9140-1657fa875099",
    "outputId": "c22554c5-aa02-45ad-9672-db8e24e00698"
   },
   "outputs": [
    {
     "data": {
      "text/plain": [
       "0.7218323844829869"
      ]
     },
     "execution_count": 54,
     "metadata": {},
     "output_type": "execute_result"
    }
   ],
   "source": [
    "model_0.score(X=val_sentences, y=val_labels_encoded)"
   ]
  },
  {
   "cell_type": "code",
   "execution_count": 55,
   "id": "4dfdc189-a269-44ea-99c4-417c17e29bdd",
   "metadata": {
    "colab": {
     "base_uri": "https://localhost:8080/"
    },
    "id": "4dfdc189-a269-44ea-99c4-417c17e29bdd",
    "outputId": "b94fd0a3-af1d-4b46-d177-1b9ed57e9929"
   },
   "outputs": [
    {
     "data": {
      "text/plain": [
       "array([4, 1, 3, ..., 4, 4, 1])"
      ]
     },
     "execution_count": 55,
     "metadata": {},
     "output_type": "execute_result"
    }
   ],
   "source": [
    "model_0_preds = model_0.predict(val_sentences)\n",
    "model_0_preds"
   ]
  },
  {
   "cell_type": "code",
   "execution_count": 125,
   "id": "c2040ed9-72a4-4c7d-9b7e-da71a0590c1c",
   "metadata": {
    "colab": {
     "base_uri": "https://localhost:8080/"
    },
    "id": "c2040ed9-72a4-4c7d-9b7e-da71a0590c1c",
    "outputId": "e7e02dfa-a74b-430b-f7e6-aa5fd73de16d"
   },
   "outputs": [
    {
     "data": {
      "text/plain": [
       "PredictionMetrics(accuracy=0.7218323844829869, precision=0.7186466952323352, recall=0.7218323844829869, f1=0.6989250353450294, name='model_0_naive_bayes')"
      ]
     },
     "execution_count": 125,
     "metadata": {},
     "output_type": "execute_result"
    }
   ],
   "source": [
    "model_0_results = ml_toolbox.analysis.classification.generate_prediction_metrics(val_labels_encoded,\n",
    "                                                                                 model_0_preds,\n",
    "                                                                                 name=model_0_name)\n",
    "model_0_results"
   ]
  },
  {
   "cell_type": "markdown",
   "id": "e44d3f99-97bf-487f-82e4-f6f0f15f1a0d",
   "metadata": {
    "id": "e44d3f99-97bf-487f-82e4-f6f0f15f1a0d"
   },
   "source": [
    "### Model-1: Conv1D w/ Token Embeddings"
   ]
  },
  {
   "cell_type": "code",
   "execution_count": 122,
   "id": "sFnuhVXii-na",
   "metadata": {
    "id": "sFnuhVXii-na"
   },
   "outputs": [],
   "source": [
    "# Constants\n",
    "model_1_name = 'model_1_conv1d_token_embedding'"
   ]
  },
  {
   "cell_type": "code",
   "execution_count": 57,
   "id": "dd2f19e1-abbc-4da7-bb96-1b1daa3b00af",
   "metadata": {
    "colab": {
     "base_uri": "https://localhost:8080/"
    },
    "id": "dd2f19e1-abbc-4da7-bb96-1b1daa3b00af",
    "outputId": "5aa2be67-ef88-4012-a739-3ab53c592d8c"
   },
   "outputs": [
    {
     "name": "stdout",
     "output_type": "stream",
     "text": [
      "Model: \"model\"\n",
      "_________________________________________________________________\n",
      " Layer (type)                Output Shape              Param #   \n",
      "=================================================================\n",
      " input_1 (InputLayer)        [(None, 1)]               0         \n",
      "                                                                 \n",
      " text_vectorization (TextVec  (None, 55)               0         \n",
      " torization)                                                     \n",
      "                                                                 \n",
      " token_embedding (Embedding)  (None, 55, 128)          8299648   \n",
      "                                                                 \n",
      " conv1d (Conv1D)             (None, 55, 64)            41024     \n",
      "                                                                 \n",
      " global_max_pooling1d (Globa  (None, 64)               0         \n",
      " lMaxPooling1D)                                                  \n",
      "                                                                 \n",
      " dense (Dense)               (None, 5)                 325       \n",
      "                                                                 \n",
      "=================================================================\n",
      "Total params: 8,340,997\n",
      "Trainable params: 8,340,997\n",
      "Non-trainable params: 0\n",
      "_________________________________________________________________\n"
     ]
    }
   ],
   "source": [
    "# Build Model\n",
    "inputs = tf.keras.layers.Input(shape=(1,), dtype=tf.string)\n",
    "\n",
    "text_vectors = text_vectorizer(inputs)\n",
    "token_embeddings = token_embedding(text_vectors)\n",
    "x = tf.keras.layers.Conv1D(filters=64, kernel_size=5, activation='relu', padding='same')(token_embeddings)\n",
    "x = tf.keras.layers.GlobalMaxPooling1D()(x)\n",
    "\n",
    "outputs = tf.keras.layers.Dense(num_classes, activation='softmax')(x)\n",
    "\n",
    "model_1 = tf.keras.models.Model(inputs, outputs, name=model_1_name)\n",
    "model_1.summary()"
   ]
  },
  {
   "cell_type": "code",
   "execution_count": 58,
   "id": "780ae907-b4fb-4cab-92d0-b31b4bb3da11",
   "metadata": {
    "id": "780ae907-b4fb-4cab-92d0-b31b4bb3da11"
   },
   "outputs": [],
   "source": [
    "# Compile Model\n",
    "model_1.compile(loss='categorical_crossentropy',\n",
    "                optimizer=tf.keras.optimizers.Adam(),\n",
    "                metrics=['accuracy'])"
   ]
  },
  {
   "cell_type": "code",
   "execution_count": 59,
   "id": "c41c6827-76d8-4cb3-b735-3d4404db5ad0",
   "metadata": {
    "colab": {
     "base_uri": "https://localhost:8080/"
    },
    "id": "c41c6827-76d8-4cb3-b735-3d4404db5ad0",
    "outputId": "51df2285-65c0-4b62-dbfc-356434a295e7"
   },
   "outputs": [
    {
     "name": "stdout",
     "output_type": "stream",
     "text": [
      "Epoch 1/3\n",
      "562/562 [==============================] - 71s 124ms/step - loss: 0.8386 - accuracy: 0.6774 - val_loss: 0.5975 - val_accuracy: 0.7803\n",
      "Epoch 2/3\n",
      "562/562 [==============================] - 67s 120ms/step - loss: 0.5790 - accuracy: 0.7876 - val_loss: 0.5470 - val_accuracy: 0.7989\n",
      "Epoch 3/3\n",
      "562/562 [==============================] - 68s 121ms/step - loss: 0.5459 - accuracy: 0.7989 - val_loss: 0.5228 - val_accuracy: 0.8068\n"
     ]
    }
   ],
   "source": [
    "# Fit Model\n",
    "model_1_history = model_1.fit(train_dataset,\n",
    "                              steps_per_epoch=int(0.1 * len(train_dataset)),  # Only going to look at 10% of data to speed up experimentation\n",
    "                              epochs=3,\n",
    "                              validation_data=val_dataset,\n",
    "                              validation_steps=int(0.1 * len(val_dataset)),  # Only going to look at 10% of data to speed up experimentation\n",
    "                              callbacks=[])"
   ]
  },
  {
   "cell_type": "code",
   "execution_count": 60,
   "id": "67e7ba57-40f6-48bf-b3f2-0e065cc9fecd",
   "metadata": {
    "colab": {
     "base_uri": "https://localhost:8080/",
     "height": 472
    },
    "id": "67e7ba57-40f6-48bf-b3f2-0e065cc9fecd",
    "outputId": "45cbd679-1ab6-45d5-8671-757312abfe40"
   },
   "outputs": [
    {
     "data": {
      "image/png": "[encoded data removed]",
      "text/plain": [
       "<Figure size 640x480 with 1 Axes>"
      ]
     },
     "metadata": {},
     "output_type": "display_data"
    }
   ],
   "source": [
    "ml_toolbox.analysis.history.plot_history(model_1_history, 'accuracy')"
   ]
  },
  {
   "cell_type": "code",
   "execution_count": 61,
   "id": "2f86af11-e492-4016-92d6-84f1f9f0a01a",
   "metadata": {
    "colab": {
     "base_uri": "https://localhost:8080/"
    },
    "id": "2f86af11-e492-4016-92d6-84f1f9f0a01a",
    "outputId": "b8d7088a-cf09-489c-96a4-c81e6a484d6f"
   },
   "outputs": [
    {
     "name": "stdout",
     "output_type": "stream",
     "text": [
      "945/945 [==============================] - 6s 6ms/step - loss: 0.5258 - accuracy: 0.8042\n"
     ]
    },
    {
     "data": {
      "text/plain": [
       "[0.5258000493049622, 0.8042168617248535]"
      ]
     },
     "execution_count": 61,
     "metadata": {},
     "output_type": "execute_result"
    }
   ],
   "source": [
    "model_1.evaluate(val_dataset)"
   ]
  },
  {
   "cell_type": "code",
   "execution_count": 62,
   "id": "01498699-172a-4fe1-8a07-f487915f1125",
   "metadata": {
    "colab": {
     "base_uri": "https://localhost:8080/"
    },
    "id": "01498699-172a-4fe1-8a07-f487915f1125",
    "outputId": "491c172f-7a10-43f1-9054-bd7c37c43706"
   },
   "outputs": [
    {
     "name": "stdout",
     "output_type": "stream",
     "text": [
      "945/945 [==============================] - 6s 6ms/step\n"
     ]
    },
    {
     "data": {
      "text/plain": [
       "(array([[6.2268418e-01, 1.5449736e-01, 6.7459489e-03, 2.1121182e-01,\n",
       "         4.8607942e-03],\n",
       "        [2.8882504e-01, 6.2107348e-01, 1.0193484e-03, 8.6489357e-02,\n",
       "         2.5927022e-03],\n",
       "        [1.2087819e-01, 1.1656694e-02, 1.2859297e-03, 8.6600834e-01,\n",
       "         1.7089304e-04],\n",
       "        [1.1154987e-02, 1.3576765e-02, 9.0221250e-01, 7.5022751e-03,\n",
       "         6.5553389e-02],\n",
       "        [6.3338177e-03, 3.8599048e-02, 6.0590070e-01, 3.6225556e-03,\n",
       "         3.4554389e-01],\n",
       "        [6.9500471e-04, 1.5612603e-03, 4.5191520e-01, 5.6913990e-04,\n",
       "         5.4525936e-01],\n",
       "        [6.1140032e-05, 9.5602620e-04, 2.2445165e-01, 2.9855582e-05,\n",
       "         7.7450132e-01],\n",
       "        [2.1254329e-03, 5.1620719e-03, 7.1002799e-01, 2.7301591e-03,\n",
       "         2.7995449e-01],\n",
       "        [1.3675952e-05, 5.9549417e-04, 5.6068995e-03, 2.1940356e-05,\n",
       "         9.9376190e-01],\n",
       "        [3.1814083e-02, 7.6486915e-01, 5.0570630e-02, 1.6454456e-02,\n",
       "         1.3629179e-01]], dtype=float32),\n",
       " (30212, 5))"
      ]
     },
     "execution_count": 62,
     "metadata": {},
     "output_type": "execute_result"
    }
   ],
   "source": [
    "model_1_pred_probs = model_1.predict(val_dataset)\n",
    "model_1_pred_probs[:10], model_1_pred_probs.shape"
   ]
  },
  {
   "cell_type": "code",
   "execution_count": 63,
   "id": "f6604220-3884-475c-b64c-eafa03628219",
   "metadata": {
    "colab": {
     "base_uri": "https://localhost:8080/"
    },
    "id": "f6604220-3884-475c-b64c-eafa03628219",
    "outputId": "ffaa7ba2-d4ad-4b39-a662-3271411b44da"
   },
   "outputs": [
    {
     "data": {
      "text/plain": [
       "<tf.Tensor: shape=(30212,), dtype=int64, numpy=array([0, 1, 3, ..., 4, 1, 1])>"
      ]
     },
     "execution_count": 63,
     "metadata": {},
     "output_type": "execute_result"
    }
   ],
   "source": [
    "# Get the max index\n",
    "model_1_pred = tf.argmax(model_1_pred_probs, axis=1)\n",
    "model_1_pred"
   ]
  },
  {
   "cell_type": "code",
   "execution_count": 123,
   "id": "abbe5776-4df0-40fe-a6e5-9642c70329c2",
   "metadata": {
    "colab": {
     "base_uri": "https://localhost:8080/"
    },
    "id": "abbe5776-4df0-40fe-a6e5-9642c70329c2",
    "outputId": "acb7f798-a025-4648-c010-336fdedd3f91"
   },
   "outputs": [
    {
     "data": {
      "text/plain": [
       "PredictionMetrics(accuracy=0.8042168674698795, precision=0.8025652820142402, recall=0.8042168674698795, f1=0.8025946173805512, name='model_1_conv1d_token_embedding')"
      ]
     },
     "execution_count": 123,
     "metadata": {},
     "output_type": "execute_result"
    }
   ],
   "source": [
    "model_1_results = ml_toolbox.analysis.classification.generate_prediction_metrics(val_labels_encoded,\n",
    "                                                                                 model_1_pred,\n",
    "                                                                                 name=model_1_name)\n",
    "model_1_results"
   ]
  },
  {
   "cell_type": "markdown",
   "id": "be9c0ea8-cfc0-4814-a927-814f259411d8",
   "metadata": {
    "id": "be9c0ea8-cfc0-4814-a927-814f259411d8"
   },
   "source": [
    "### Model-2: TensorFlow Hub Pretrained Feature Extractor\n",
    "\n",
    "This model will use Transfer Learning with the `Universal Sentence Encoder` pretrained model on TensorFlow Hub (see link below). This model will not allow fine-tuning of the pretrained model.\n",
    "\n",
    "* https://tfhub.dev/google/collections/universal-sentence-encoder/1"
   ]
  },
  {
   "cell_type": "code",
   "execution_count": 120,
   "id": "39c457b5-3b95-46fd-bfe6-f1d16664d739",
   "metadata": {
    "id": "39c457b5-3b95-46fd-bfe6-f1d16664d739"
   },
   "outputs": [],
   "source": [
    "# Constants\n",
    "model_2_name = 'model_2_pretrained_token'\n",
    "universal_sentence_encoder_url = 'https://tfhub.dev/google/universal-sentence-encoder/4'"
   ]
  },
  {
   "cell_type": "code",
   "execution_count": 66,
   "id": "e45c3c1c-a796-4cdf-88b8-b0a0518e975a",
   "metadata": {
    "colab": {
     "base_uri": "https://localhost:8080/"
    },
    "id": "e45c3c1c-a796-4cdf-88b8-b0a0518e975a",
    "outputId": "5980ad6a-96c1-4122-aab5-fa8ee01bf53c"
   },
   "outputs": [
    {
     "name": "stdout",
     "output_type": "stream",
     "text": [
      "Model: \"Model2USE\"\n",
      "_________________________________________________________________\n",
      " Layer (type)                Output Shape              Param #   \n",
      "=================================================================\n",
      " input_2 (InputLayer)        [(None,)]                 0         \n",
      "                                                                 \n",
      " USE (KerasLayer)            (None, 512)               256797824 \n",
      "                                                                 \n",
      " dense_1 (Dense)             (None, 128)               65664     \n",
      "                                                                 \n",
      " dense_2 (Dense)             (None, 5)                 645       \n",
      "                                                                 \n",
      "=================================================================\n",
      "Total params: 256,864,133\n",
      "Trainable params: 66,309\n",
      "Non-trainable params: 256,797,824\n",
      "_________________________________________________________________\n"
     ]
    }
   ],
   "source": [
    "# Build Model\n",
    "inputs = tf.keras.layers.Input(shape=[], dtype=tf.string)\n",
    "pretrained_embedding = hub.KerasLayer(universal_sentence_encoder_url,\n",
    "                                      trainable=False,\n",
    "                                      name='USE')(inputs)\n",
    "x = tf.keras.layers.Dense(128, activation='relu')(pretrained_embedding)\n",
    "outputs = tf.keras.layers.Dense(num_classes, activation='softmax')(x)\n",
    "\n",
    "model_2 = tf.keras.models.Model(inputs, outputs, name=model_2_name)\n",
    "model_2.summary()"
   ]
  },
  {
   "cell_type": "code",
   "execution_count": 67,
   "id": "904faec1-fb67-47e0-9f72-89c0e5b8a4c4",
   "metadata": {
    "id": "904faec1-fb67-47e0-9f72-89c0e5b8a4c4"
   },
   "outputs": [],
   "source": [
    "# Compile Model\n",
    "model_2.compile(loss='categorical_crossentropy',\n",
    "                optimizer=tf.keras.optimizers.Adam(),\n",
    "                metrics=['accuracy'])"
   ]
  },
  {
   "cell_type": "code",
   "execution_count": 68,
   "id": "4634923d-e9d3-46ac-814d-889a87eceb2e",
   "metadata": {
    "colab": {
     "base_uri": "https://localhost:8080/"
    },
    "id": "4634923d-e9d3-46ac-814d-889a87eceb2e",
    "outputId": "aee53511-9679-4591-ec6c-37ecf4fc5383"
   },
   "outputs": [
    {
     "name": "stdout",
     "output_type": "stream",
     "text": [
      "Epoch 1/3\n",
      "562/562 [==============================] - 14s 16ms/step - loss: 0.9154 - accuracy: 0.6521 - val_loss: 0.7955 - val_accuracy: 0.6912\n",
      "Epoch 2/3\n",
      "562/562 [==============================] - 8s 15ms/step - loss: 0.7665 - accuracy: 0.7025 - val_loss: 0.7517 - val_accuracy: 0.7074\n",
      "Epoch 3/3\n",
      "562/562 [==============================] - 8s 14ms/step - loss: 0.7470 - accuracy: 0.7136 - val_loss: 0.7338 - val_accuracy: 0.7188\n"
     ]
    }
   ],
   "source": [
    "# Fit Model\n",
    "model_2_history = model_2.fit(train_dataset,\n",
    "                              steps_per_epoch=int(0.1 * len(train_dataset)),  # Only going to look at 10% of data to speed up experimentation\n",
    "                              epochs=3,\n",
    "                              validation_data=val_dataset,\n",
    "                              validation_steps=int(0.1 * len(val_dataset)),  # Only going to look at 10% of data to speed up experimentation\n",
    "                              callbacks=[])"
   ]
  },
  {
   "cell_type": "code",
   "execution_count": 69,
   "id": "c0257a11-a579-4aba-9dc2-c0bc88c17192",
   "metadata": {
    "colab": {
     "base_uri": "https://localhost:8080/",
     "height": 472
    },
    "id": "c0257a11-a579-4aba-9dc2-c0bc88c17192",
    "outputId": "1589f3b2-2ab4-422b-e319-e86f8680eeb3"
   },
   "outputs": [
    {
     "data": {
      "image/png": "[encoded data removed]",
      "text/plain": [
       "<Figure size 640x480 with 1 Axes>"
      ]
     },
     "metadata": {},
     "output_type": "display_data"
    }
   ],
   "source": [
    "ml_toolbox.analysis.history.plot_history(model_2_history, 'accuracy')"
   ]
  },
  {
   "cell_type": "code",
   "execution_count": 70,
   "id": "a98dd359-ea3f-4487-b1c8-beda51a821c1",
   "metadata": {
    "colab": {
     "base_uri": "https://localhost:8080/"
    },
    "id": "a98dd359-ea3f-4487-b1c8-beda51a821c1",
    "outputId": "fddb44e9-f707-4c47-cbd8-27a368126709"
   },
   "outputs": [
    {
     "name": "stdout",
     "output_type": "stream",
     "text": [
      "945/945 [==============================] - 11s 11ms/step\n"
     ]
    },
    {
     "data": {
      "text/plain": [
       "array([[4.2635718e-01, 3.5907373e-01, 2.5475489e-03, 2.0308124e-01,\n",
       "        8.9402515e-03],\n",
       "       [3.5913673e-01, 4.9874806e-01, 4.0049548e-03, 1.3496469e-01,\n",
       "        3.1456035e-03],\n",
       "       [2.4939157e-01, 1.5275976e-01, 1.6403196e-02, 5.4529911e-01,\n",
       "        3.6146417e-02],\n",
       "       ...,\n",
       "       [2.1594015e-03, 5.7163713e-03, 4.9588595e-02, 7.7551225e-04,\n",
       "        9.4176012e-01],\n",
       "       [4.2034849e-03, 4.7001638e-02, 1.8442719e-01, 1.7195287e-03,\n",
       "        7.6264817e-01],\n",
       "       [1.6606660e-01, 2.5943407e-01, 5.0253636e-01, 9.2535065e-03,\n",
       "        6.2709369e-02]], dtype=float32)"
      ]
     },
     "execution_count": 70,
     "metadata": {},
     "output_type": "execute_result"
    }
   ],
   "source": [
    "model_2_pred_probs = model_2.predict(val_dataset)\n",
    "model_2_pred_probs"
   ]
  },
  {
   "cell_type": "code",
   "execution_count": 71,
   "id": "76d905f1-6a04-468e-ab1a-c4f6f0fde93e",
   "metadata": {
    "colab": {
     "base_uri": "https://localhost:8080/"
    },
    "id": "76d905f1-6a04-468e-ab1a-c4f6f0fde93e",
    "outputId": "1bebcce8-d3bb-488d-caa3-ba65f3f8459c"
   },
   "outputs": [
    {
     "data": {
      "text/plain": [
       "<tf.Tensor: shape=(30212,), dtype=int64, numpy=array([0, 1, 3, ..., 4, 4, 2])>"
      ]
     },
     "execution_count": 71,
     "metadata": {},
     "output_type": "execute_result"
    }
   ],
   "source": [
    "model_2_preds = tf.argmax(model_2_pred_probs, axis=1)\n",
    "model_2_preds"
   ]
  },
  {
   "cell_type": "code",
   "execution_count": 121,
   "id": "71562915-6de0-4653-9865-b2ede77005bf",
   "metadata": {
    "colab": {
     "base_uri": "https://localhost:8080/"
    },
    "id": "71562915-6de0-4653-9865-b2ede77005bf",
    "outputId": "7fac6918-0497-4f77-936b-7258e9bd1f68"
   },
   "outputs": [
    {
     "data": {
      "text/plain": [
       "PredictionMetrics(accuracy=0.7163709784191712, precision=0.7173741693140099, recall=0.7163709784191712, f1=0.7135175392077404, name='model_2_pretrained_token')"
      ]
     },
     "execution_count": 121,
     "metadata": {},
     "output_type": "execute_result"
    }
   ],
   "source": [
    "model_2_results = ml_toolbox.analysis.classification.generate_prediction_metrics(val_labels_encoded,\n",
    "                                                                                 model_2_preds,\n",
    "                                                                                 name=model_2_name)\n",
    "model_2_results"
   ]
  },
  {
   "cell_type": "markdown",
   "id": "efd95b76-960b-43a4-bba1-248b2913ffb6",
   "metadata": {
    "id": "efd95b76-960b-43a4-bba1-248b2913ffb6"
   },
   "source": [
    "#### Findings\n",
    "\n",
    "Looks like the predictions are significantly worse than both models."
   ]
  },
  {
   "cell_type": "markdown",
   "id": "70c02aee-097d-4902-9c60-28508a7c155b",
   "metadata": {
    "id": "70c02aee-097d-4902-9c60-28508a7c155b"
   },
   "source": [
    "### Model-3: Conv1D w/ Character Embeddings\n",
    "\n",
    "Character embeddings creates an embedding for each character."
   ]
  },
  {
   "cell_type": "code",
   "execution_count": 118,
   "id": "OfVxVlDgie7j",
   "metadata": {
    "id": "OfVxVlDgie7j"
   },
   "outputs": [],
   "source": [
    "# Constants\n",
    "model_3_name = 'model_3_conv1d_char_embedding'"
   ]
  },
  {
   "cell_type": "code",
   "execution_count": 73,
   "id": "42fff19d-73fb-40bb-934d-dbb92ca6eec4",
   "metadata": {
    "colab": {
     "base_uri": "https://localhost:8080/"
    },
    "id": "42fff19d-73fb-40bb-934d-dbb92ca6eec4",
    "outputId": "17b27e0b-1140-4fae-9cb1-4614edc0c3dc"
   },
   "outputs": [
    {
     "name": "stdout",
     "output_type": "stream",
     "text": [
      "Model: \"Model3CharEmbeddingConv1D\"\n",
      "_________________________________________________________________\n",
      " Layer (type)                Output Shape              Param #   \n",
      "=================================================================\n",
      " input_3 (InputLayer)        [(None, 1)]               0         \n",
      "                                                                 \n",
      " char_vectorizer (TextVector  (None, 290)              0         \n",
      " ization)                                                        \n",
      "                                                                 \n",
      " character_embedding (Embedd  (None, 290, 25)          700       \n",
      " ing)                                                            \n",
      "                                                                 \n",
      " conv1d_1 (Conv1D)           (None, 290, 64)           8064      \n",
      "                                                                 \n",
      " global_max_pooling1d_1 (Glo  (None, 64)               0         \n",
      " balMaxPooling1D)                                                \n",
      "                                                                 \n",
      " dense_3 (Dense)             (None, 5)                 325       \n",
      "                                                                 \n",
      "=================================================================\n",
      "Total params: 9,089\n",
      "Trainable params: 9,089\n",
      "Non-trainable params: 0\n",
      "_________________________________________________________________\n"
     ]
    }
   ],
   "source": [
    "# Build Model\n",
    "inputs = tf.keras.layers.Input(shape=(1,), dtype=tf.string)\n",
    "\n",
    "vectorized_chars = character_vectorizer(inputs)\n",
    "embedded_chars = character_embedding(vectorized_chars)\n",
    "x = tf.keras.layers.Conv1D(filters=64, kernel_size=5, activation='relu', padding='same')(embedded_chars)\n",
    "x = tf.keras.layers.GlobalMaxPooling1D()(x)\n",
    "\n",
    "outputs = tf.keras.layers.Dense(num_classes, activation='softmax')(x)\n",
    "\n",
    "model_3 = tf.keras.models.Model(inputs, outputs, name='Model3CharEmbeddingConv1D')\n",
    "model_3.summary()"
   ]
  },
  {
   "cell_type": "code",
   "execution_count": 74,
   "id": "805c214c-1db3-428a-847b-c00c1f9a6031",
   "metadata": {
    "id": "805c214c-1db3-428a-847b-c00c1f9a6031"
   },
   "outputs": [],
   "source": [
    "model_3.compile(loss='categorical_crossentropy',\n",
    "                optimizer=tf.keras.optimizers.Adam(),\n",
    "                metrics=['accuracy'])"
   ]
  },
  {
   "cell_type": "code",
   "execution_count": 75,
   "id": "12941feb-7e3c-441d-b656-2e40ef2f4c93",
   "metadata": {
    "colab": {
     "base_uri": "https://localhost:8080/"
    },
    "id": "12941feb-7e3c-441d-b656-2e40ef2f4c93",
    "outputId": "f56892fa-e992-4d7c-d48d-2dc33ca72b95"
   },
   "outputs": [
    {
     "name": "stdout",
     "output_type": "stream",
     "text": [
      "Epoch 1/3\n",
      "562/562 [==============================] - 16s 26ms/step - loss: 1.2684 - accuracy: 0.4906 - val_loss: 1.0309 - val_accuracy: 0.5908\n",
      "Epoch 2/3\n",
      "562/562 [==============================] - 14s 26ms/step - loss: 0.9940 - accuracy: 0.6005 - val_loss: 0.9265 - val_accuracy: 0.6270\n",
      "Epoch 3/3\n",
      "562/562 [==============================] - 14s 26ms/step - loss: 0.9238 - accuracy: 0.6367 - val_loss: 0.8648 - val_accuracy: 0.6559\n"
     ]
    }
   ],
   "source": [
    "model_3_history = model_3.fit(train_char_dataset,\n",
    "                              steps_per_epoch=int(0.1 * len(train_char_dataset)),  # Only going to look at 10% of data to speed up experimentation\n",
    "                              epochs=3,\n",
    "                              validation_data=val_char_dataset,\n",
    "                              validation_steps=int(0.1 * len(val_char_dataset)),  # Only going to look at 10% of data to speed up experimentation\n",
    "                              callbacks=[])"
   ]
  },
  {
   "cell_type": "code",
   "execution_count": 76,
   "id": "a7318437-19c4-4f0a-a6ce-0e534a90a853",
   "metadata": {
    "colab": {
     "base_uri": "https://localhost:8080/",
     "height": 472
    },
    "id": "a7318437-19c4-4f0a-a6ce-0e534a90a853",
    "outputId": "8031de89-3295-4833-bb59-59b1f8dab76c"
   },
   "outputs": [
    {
     "data": {
      "image/png": "[encoded data removed]",
      "text/plain": [
       "<Figure size 640x480 with 1 Axes>"
      ]
     },
     "metadata": {},
     "output_type": "display_data"
    }
   ],
   "source": [
    "ml_toolbox.analysis.history.plot_history(model_3_history, 'accuracy')"
   ]
  },
  {
   "cell_type": "code",
   "execution_count": 77,
   "id": "74d8a548-956b-449b-8b79-02a687973f50",
   "metadata": {
    "colab": {
     "base_uri": "https://localhost:8080/"
    },
    "id": "74d8a548-956b-449b-8b79-02a687973f50",
    "outputId": "2a222b5e-d244-4ecc-9544-cb7b780c8b17"
   },
   "outputs": [
    {
     "name": "stdout",
     "output_type": "stream",
     "text": [
      "945/945 [==============================] - 8s 8ms/step\n"
     ]
    },
    {
     "data": {
      "text/plain": [
       "array([[0.26369742, 0.40868974, 0.04238352, 0.25458947, 0.03063989],\n",
       "       [0.22012971, 0.6864121 , 0.00427407, 0.06168432, 0.02749985],\n",
       "       [0.15078266, 0.34734142, 0.24780422, 0.16936646, 0.08470528],\n",
       "       ...,\n",
       "       [0.02508515, 0.04513646, 0.12500645, 0.03191049, 0.77286154],\n",
       "       [0.04655489, 0.18149275, 0.29441926, 0.03223864, 0.44529453],\n",
       "       [0.3517508 , 0.43068936, 0.1349082 , 0.06638506, 0.01626668]],\n",
       "      dtype=float32)"
      ]
     },
     "execution_count": 77,
     "metadata": {},
     "output_type": "execute_result"
    }
   ],
   "source": [
    "model_3_pred_probs = model_3.predict(val_char_dataset)\n",
    "model_3_pred_probs"
   ]
  },
  {
   "cell_type": "code",
   "execution_count": 78,
   "id": "30a7c627-223f-435f-8cbc-8d63478010fb",
   "metadata": {
    "colab": {
     "base_uri": "https://localhost:8080/"
    },
    "id": "30a7c627-223f-435f-8cbc-8d63478010fb",
    "outputId": "828fc16b-9d10-4c30-e954-97c05930ae06"
   },
   "outputs": [
    {
     "data": {
      "text/plain": [
       "<tf.Tensor: shape=(30212,), dtype=int64, numpy=array([1, 1, 1, ..., 4, 4, 1])>"
      ]
     },
     "execution_count": 78,
     "metadata": {},
     "output_type": "execute_result"
    }
   ],
   "source": [
    "model_3_preds = tf.argmax(model_3_pred_probs, axis=1)\n",
    "model_3_preds"
   ]
  },
  {
   "cell_type": "code",
   "execution_count": 119,
   "id": "774723bd-9864-49df-9bd9-848c18c65a1b",
   "metadata": {
    "colab": {
     "base_uri": "https://localhost:8080/"
    },
    "id": "774723bd-9864-49df-9bd9-848c18c65a1b",
    "outputId": "9396d20f-3ac0-494e-e15e-b929776752ab"
   },
   "outputs": [
    {
     "data": {
      "text/plain": [
       "PredictionMetrics(accuracy=0.6574539917913412, precision=0.651457316473861, recall=0.6574539917913412, f1=0.6458660887393802, name='model_3_conv1d_char_embedding')"
      ]
     },
     "execution_count": 119,
     "metadata": {},
     "output_type": "execute_result"
    }
   ],
   "source": [
    "model_3_results = ml_toolbox.analysis.classification.generate_prediction_metrics(val_labels_encoded,\n",
    "                                                                                 model_3_preds,\n",
    "                                                                                 name=model_3_name)\n",
    "model_3_results"
   ]
  },
  {
   "cell_type": "markdown",
   "id": "7a2ff113-3047-45e0-8df0-df8a0100d915",
   "metadata": {
    "id": "7a2ff113-3047-45e0-8df0-df8a0100d915"
   },
   "source": [
    "### Model-4: Pretrained Token Embeddings (same as Model-2) + Character Embeddings (same as Model-3)\n",
    "\n",
    "Combining both a pretrained token embedding model with the character embedding model will concatenate the outcomes of the two models before running it through the output layer.\n",
    "\n",
    "1. Create a token level embedding model (similar to Model-2)\n",
    "2. Create a character level embedding model (similar to Model-3 with a slight modification)\n",
    "3. Combine the two models using a concatenate layer\n",
    "4. Build output layers on top of step 3 similar to the model built in the paper."
   ]
  },
  {
   "cell_type": "code",
   "execution_count": 116,
   "id": "a36f3bde-26f3-41dc-985b-fec153cc9aca",
   "metadata": {
    "id": "a36f3bde-26f3-41dc-985b-fec153cc9aca"
   },
   "outputs": [],
   "source": [
    "# Constants\n",
    "model_4_name='model_4_pretrained_token_char'\n",
    "universal_sentence_encoder_url = 'https://tfhub.dev/google/universal-sentence-encoder/4'"
   ]
  },
  {
   "cell_type": "code",
   "execution_count": 81,
   "id": "612a7d9e-8916-4c6a-902f-8f170f81e38e",
   "metadata": {
    "colab": {
     "base_uri": "https://localhost:8080/"
    },
    "id": "612a7d9e-8916-4c6a-902f-8f170f81e38e",
    "outputId": "eeacc257-2dfb-4fdc-816e-d01ced49cd41"
   },
   "outputs": [
    {
     "data": {
      "text/plain": [
       "(<_PrefetchDataset element_spec=((TensorSpec(shape=(None,), dtype=tf.string, name=None), TensorSpec(shape=(None,), dtype=tf.string, name=None)), TensorSpec(shape=(None, 5), dtype=tf.float64, name=None))>,\n",
       " <_PrefetchDataset element_spec=((TensorSpec(shape=(None,), dtype=tf.string, name=None), TensorSpec(shape=(None,), dtype=tf.string, name=None)), TensorSpec(shape=(None, 5), dtype=tf.float64, name=None))>,\n",
       " <_PrefetchDataset element_spec=((TensorSpec(shape=(None,), dtype=tf.string, name=None), TensorSpec(shape=(None,), dtype=tf.string, name=None)), TensorSpec(shape=(None, 5), dtype=tf.float64, name=None))>)"
      ]
     },
     "execution_count": 81,
     "metadata": {},
     "output_type": "execute_result"
    }
   ],
   "source": [
    "# Creating the specific datasets for the concatenated data\n",
    "train_token_character_dataset = data_toolbox.generate_dataset_from_data([train_sentences, train_chars], train_labels_one_hot)\n",
    "val_token_character_dataset = data_toolbox.generate_dataset_from_data([val_sentences, val_chars], val_labels_one_hot)\n",
    "test_token_character_dataset = data_toolbox.generate_dataset_from_data([test_sentences, test_chars], test_labels_one_hot)\n",
    "\n",
    "train_token_character_dataset, val_token_character_dataset, test_token_character_dataset"
   ]
  },
  {
   "cell_type": "code",
   "execution_count": 82,
   "id": "b422cc2f-d165-4411-8a50-89942e51e612",
   "metadata": {
    "colab": {
     "base_uri": "https://localhost:8080/"
    },
    "id": "b422cc2f-d165-4411-8a50-89942e51e612",
    "outputId": "c1e20796-97dd-49b8-c636-f51b0a494334"
   },
   "outputs": [
    {
     "name": "stdout",
     "output_type": "stream",
     "text": [
      "Model: \"model_4_token_character_hybrid\"\n",
      "__________________________________________________________________________________________________\n",
      " Layer (type)                   Output Shape         Param #     Connected to                     \n",
      "==================================================================================================\n",
      " char_input (InputLayer)        [(None, 1)]          0           []                               \n",
      "                                                                                                  \n",
      " token_input (InputLayer)       [(None,)]            0           []                               \n",
      "                                                                                                  \n",
      " char_vectorizer (TextVectoriza  (None, 290)         0           ['char_input[0][0]']             \n",
      " tion)                                                                                            \n",
      "                                                                                                  \n",
      " universal_sentence_encoder (Ke  (None, 512)         256797824   ['token_input[0][0]']            \n",
      " rasLayer)                                                                                        \n",
      "                                                                                                  \n",
      " character_embedding (Embedding  (None, 290, 25)     700         ['char_vectorizer[1][0]']        \n",
      " )                                                                                                \n",
      "                                                                                                  \n",
      " dense_4 (Dense)                (None, 128)          65664       ['universal_sentence_encoder[0][0\n",
      "                                                                 ]']                              \n",
      "                                                                                                  \n",
      " bidirectional (Bidirectional)  (None, 48)           9600        ['character_embedding[1][0]']    \n",
      "                                                                                                  \n",
      " token_char_hybrid (Concatenate  (None, 176)         0           ['dense_4[0][0]',                \n",
      " )                                                                'bidirectional[0][0]']          \n",
      "                                                                                                  \n",
      " dropout (Dropout)              (None, 176)          0           ['token_char_hybrid[0][0]']      \n",
      "                                                                                                  \n",
      " dense_5 (Dense)                (None, 128)          22656       ['dropout[0][0]']                \n",
      "                                                                                                  \n",
      " dropout_1 (Dropout)            (None, 128)          0           ['dense_5[0][0]']                \n",
      "                                                                                                  \n",
      " dense_6 (Dense)                (None, 5)            645         ['dropout_1[0][0]']              \n",
      "                                                                                                  \n",
      "==================================================================================================\n",
      "Total params: 256,897,089\n",
      "Trainable params: 99,265\n",
      "Non-trainable params: 256,797,824\n",
      "__________________________________________________________________________________________________\n"
     ]
    }
   ],
   "source": [
    "# Build Model\n",
    "\n",
    "# 1. Build Pretrained Token Embeddings Model\n",
    "token_inputs = tf.keras.layers.Input(shape=[], dtype=tf.string, name='token_input')\n",
    "\n",
    "pretrained_token_embedding = hub.KerasLayer(universal_sentence_encoder_url,\n",
    "                                            trainable=False,\n",
    "                                            name='universal_sentence_encoder')(token_inputs)\n",
    "token_outputs = tf.keras.layers.Dense(128, activation='relu')(pretrained_token_embedding)\n",
    "\n",
    "token_embedding_model = tf.keras.models.Model(token_inputs, token_outputs)\n",
    "\n",
    "# 2. Build Character Embeddings Model (This is similar to the model in the paper, it uses Bi-LSTM as the Output Layer)\n",
    "character_inputs = tf.keras.layers.Input(shape=(1,), dtype=tf.string, name='char_input')\n",
    "\n",
    "char_vectors = character_vectorizer(character_inputs)\n",
    "char_embeddings = character_embedding(char_vectors)\n",
    "char_bi_lstm = tf.keras.layers.Bidirectional(tf.keras.layers.LSTM(24))(char_embeddings)\n",
    "\n",
    "character_embedding_model = tf.keras.models.Model(character_inputs, char_bi_lstm)\n",
    "\n",
    "# 3. Concatenating the two models\n",
    "token_char_concat = tf.keras.layers.Concatenate(name='token_char_hybrid')([token_embedding_model.output, character_embedding_model.output])\n",
    "\n",
    "# 4. Creating output layers (with dropout as done in the paper)\n",
    "combined_dropout = tf.keras.layers.Dropout(0.5)(token_char_concat)\n",
    "combined_dense = tf.keras.layers.Dense(128, activation='relu')(combined_dropout)\n",
    "final_dropout = tf.keras.layers.Dropout(0.5)(combined_dense)\n",
    "outputs = tf.keras.layers.Dense(num_classes, activation='softmax')(final_dropout)\n",
    "\n",
    "# 5. Creating the Model\n",
    "model_4 = tf.keras.models.Model(inputs=[token_embedding_model.input, character_embedding_model.input],\n",
    "                                outputs=outputs,\n",
    "                                name=model_4_name)\n",
    "model_4.summary()"
   ]
  },
  {
   "cell_type": "code",
   "execution_count": 83,
   "id": "f8bd234f-b593-4969-966c-d5116b8fee0f",
   "metadata": {
    "colab": {
     "base_uri": "https://localhost:8080/",
     "height": 976
    },
    "id": "f8bd234f-b593-4969-966c-d5116b8fee0f",
    "outputId": "e5095130-9320-410a-8487-5c5b8c921cbe"
   },
   "outputs": [
    {
     "data": {
      "image/png": "[encoded data removed]",
      "text/plain": [
       "<IPython.core.display.Image object>"
      ]
     },
     "execution_count": 83,
     "metadata": {},
     "output_type": "execute_result"
    }
   ],
   "source": [
    "ml_toolbox.analysis.model.plot_model(model_4)"
   ]
  },
  {
   "cell_type": "code",
   "execution_count": 84,
   "id": "88e7f612-1c3d-4d34-8114-425a8fb56553",
   "metadata": {
    "id": "88e7f612-1c3d-4d34-8114-425a8fb56553"
   },
   "outputs": [],
   "source": [
    "# Compile model\n",
    "model_4.compile(loss='categorical_crossentropy',\n",
    "                optimizer=tf.keras.optimizers.legacy.Adam(),\n",
    "                metrics=['accuracy'])"
   ]
  },
  {
   "cell_type": "code",
   "execution_count": 85,
   "id": "05f4586b-15c8-4b64-8bcc-c2847282875d",
   "metadata": {
    "colab": {
     "base_uri": "https://localhost:8080/"
    },
    "id": "05f4586b-15c8-4b64-8bcc-c2847282875d",
    "outputId": "4e89ce2f-8267-4ca2-d49a-13dd2720457f"
   },
   "outputs": [
    {
     "name": "stdout",
     "output_type": "stream",
     "text": [
      "Epoch 1/3\n",
      "562/562 [==============================] - 256s 434ms/step - loss: 0.9861 - accuracy: 0.6060 - val_loss: 0.7936 - val_accuracy: 0.6991\n",
      "Epoch 2/3\n",
      "562/562 [==============================] - 222s 396ms/step - loss: 0.7983 - accuracy: 0.6949 - val_loss: 0.7192 - val_accuracy: 0.7247\n",
      "Epoch 3/3\n",
      "562/562 [==============================] - 206s 366ms/step - loss: 0.7736 - accuracy: 0.7038 - val_loss: 0.6916 - val_accuracy: 0.7304\n"
     ]
    }
   ],
   "source": [
    "# Fit Model\n",
    "model_4_history = model_4.fit(train_token_character_dataset,\n",
    "                              epochs=3,\n",
    "                              steps_per_epoch=int(0.1 * len(train_token_character_dataset)),\n",
    "                              validation_data=val_token_character_dataset,\n",
    "                              validation_steps=int(0.1 * len(val_token_character_dataset)))"
   ]
  },
  {
   "cell_type": "code",
   "execution_count": 86,
   "id": "c9766e62-51fc-4bc1-9900-82b97c893a75",
   "metadata": {
    "colab": {
     "base_uri": "https://localhost:8080/",
     "height": 472
    },
    "id": "c9766e62-51fc-4bc1-9900-82b97c893a75",
    "outputId": "7ac03e0a-349f-45d9-cba4-65c44c49ae98"
   },
   "outputs": [
    {
     "data": {
      "image/png": "[encoded data removed]",
      "text/plain": [
       "<Figure size 640x480 with 1 Axes>"
      ]
     },
     "metadata": {},
     "output_type": "display_data"
    }
   ],
   "source": [
    "ml_toolbox.analysis.history.plot_history(model_4_history, 'accuracy')"
   ]
  },
  {
   "cell_type": "code",
   "execution_count": 87,
   "id": "fXK_N1oJLzox",
   "metadata": {
    "colab": {
     "base_uri": "https://localhost:8080/"
    },
    "id": "fXK_N1oJLzox",
    "outputId": "11b6e223-04cb-4564-9c30-743355a5fe34"
   },
   "outputs": [
    {
     "name": "stdout",
     "output_type": "stream",
     "text": [
      "945/945 [==============================] - 76s 77ms/step\n"
     ]
    },
    {
     "data": {
      "text/plain": [
       "array([[4.39372182e-01, 3.41113806e-01, 8.56203213e-03, 1.99853405e-01,\n",
       "        1.10985795e-02],\n",
       "       [3.78122479e-01, 4.84096259e-01, 3.80938430e-03, 1.30913064e-01,\n",
       "        3.05894925e-03],\n",
       "       [3.17617476e-01, 1.21571481e-01, 8.38870108e-02, 4.40148443e-01,\n",
       "        3.67756747e-02],\n",
       "       ...,\n",
       "       [6.47751265e-04, 9.67836101e-03, 6.79608956e-02, 3.07324168e-04,\n",
       "        9.21405673e-01],\n",
       "       [6.01761695e-03, 6.79397658e-02, 2.19210610e-01, 3.21134878e-03,\n",
       "        7.03620672e-01],\n",
       "       [2.59539515e-01, 4.54843163e-01, 1.84914216e-01, 3.51287872e-02,\n",
       "        6.55743331e-02]], dtype=float32)"
      ]
     },
     "execution_count": 87,
     "metadata": {},
     "output_type": "execute_result"
    }
   ],
   "source": [
    "model_4_pred_probs = model_4.predict(val_token_character_dataset)\n",
    "model_4_pred_probs"
   ]
  },
  {
   "cell_type": "code",
   "execution_count": 88,
   "id": "ae0ab94f-46b7-4b32-afd9-1519e8516233",
   "metadata": {
    "id": "ae0ab94f-46b7-4b32-afd9-1519e8516233"
   },
   "outputs": [],
   "source": [
    "model_4_preds = tf.argmax(model_4_pred_probs, axis=1)"
   ]
  },
  {
   "cell_type": "code",
   "execution_count": 117,
   "id": "ExjigyIaMLlL",
   "metadata": {
    "colab": {
     "base_uri": "https://localhost:8080/"
    },
    "id": "ExjigyIaMLlL",
    "outputId": "0edb793d-0e16-4866-d052-dbb1dcbc1f66"
   },
   "outputs": [
    {
     "data": {
      "text/plain": [
       "PredictionMetrics(accuracy=0.7338474778233814, precision=0.7335235063367156, recall=0.7338474778233814, f1=0.7306996767185419, name='model_4_pretrained_token_char')"
      ]
     },
     "execution_count": 117,
     "metadata": {},
     "output_type": "execute_result"
    }
   ],
   "source": [
    "model_4_results = ml_toolbox.analysis.classification.generate_prediction_metrics(val_labels_encoded,\n",
    "                                                                                 model_4_preds,\n",
    "                                                                                 name=model_4_name)\n",
    "model_4_results"
   ]
  },
  {
   "cell_type": "markdown",
   "id": "433d6b0c-4f91-4771-8777-08ca73ccf19e",
   "metadata": {
    "id": "433d6b0c-4f91-4771-8777-08ca73ccf19e"
   },
   "source": [
    "### Model-5: Pretrained Token Embeddings + Character Embeddings + Positional Embeddings\n",
    "\n",
    "This model will take into account the various embedding types used thus far, and add an additional embedding dataset that looks at the positional embeddings (location of each line within the abstract).\n",
    "\n",
    "To build this model, we will be performing the following steps:\n",
    "\n",
    "1. Create a token level model\n",
    "2. Create a character level model\n",
    "3. Create a model for the `line_number` feature\n",
    "4. Create a model for the `total_lines` feature\n",
    "5. Concatenate the outputs of token level model and character level model.\n",
    "6. Concatenate the outputs of `line_number` feature model, `total_lines` feature model, and the concatenated model from step 5.\n",
    "7. Create an output layer that accepts the output of the concatenated tribrid embedding model in step 6, and outputs the label probabilities.\n",
    "8. Create the fully combined model from all the steps.\n",
    "\n",
    "**NOTE**: Any engineered features used to train the model need to be available at test time. In our case, line numbers and total line numbers in an abstract are available.\n",
    "\n"
   ]
  },
  {
   "cell_type": "code",
   "execution_count": 111,
   "id": "h41dYgZZZVhh",
   "metadata": {
    "id": "h41dYgZZZVhh"
   },
   "outputs": [],
   "source": [
    "# Constants\n",
    "model_5_name = 'model_5_token_char_positional'\n",
    "universal_sentence_encoder_url = 'https://tfhub.dev/google/universal-sentence-encoder/4'"
   ]
  },
  {
   "cell_type": "code",
   "execution_count": 90,
   "id": "mzGOsVyqlrkt",
   "metadata": {
    "colab": {
     "base_uri": "https://localhost:8080/"
    },
    "id": "mzGOsVyqlrkt",
    "outputId": "fd7ec33a-b92e-4b45-9627-21907b390ffa"
   },
   "outputs": [
    {
     "data": {
      "text/plain": [
       "(<_PrefetchDataset element_spec=((TensorSpec(shape=(None, 15), dtype=tf.float32, name=None), TensorSpec(shape=(None, 20), dtype=tf.float32, name=None), TensorSpec(shape=(None,), dtype=tf.string, name=None), TensorSpec(shape=(None,), dtype=tf.string, name=None)), TensorSpec(shape=(None, 5), dtype=tf.float64, name=None))>,\n",
       " <_PrefetchDataset element_spec=((TensorSpec(shape=(None, 15), dtype=tf.float32, name=None), TensorSpec(shape=(None, 20), dtype=tf.float32, name=None), TensorSpec(shape=(None,), dtype=tf.string, name=None), TensorSpec(shape=(None,), dtype=tf.string, name=None)), TensorSpec(shape=(None, 5), dtype=tf.float64, name=None))>,\n",
       " <_PrefetchDataset element_spec=((TensorSpec(shape=(None, 15), dtype=tf.float32, name=None), TensorSpec(shape=(None, 20), dtype=tf.float32, name=None), TensorSpec(shape=(None,), dtype=tf.string, name=None), TensorSpec(shape=(None,), dtype=tf.string, name=None)), TensorSpec(shape=(None, 5), dtype=tf.float64, name=None))>)"
      ]
     },
     "execution_count": 90,
     "metadata": {},
     "output_type": "execute_result"
    }
   ],
   "source": [
    "# Creating the dataset for working in model 5\n",
    "# NOTE: Order of the datasets matters! It must match the order of the concatenation in the model\n",
    "train_token_character_position_dataset = data_toolbox.generate_dataset_from_data([train_line_numbers_one_hot,\n",
    "                                                                                  train_total_lines_one_hot,\n",
    "                                                                                  train_sentences,\n",
    "                                                                                  train_chars], train_labels_one_hot)\n",
    "\n",
    "val_token_character_position_dataset = data_toolbox.generate_dataset_from_data([val_line_numbers_one_hot,\n",
    "                                                                                val_total_lines_one_hot,\n",
    "                                                                                val_sentences,\n",
    "                                                                                val_chars], val_labels_one_hot)\n",
    "\n",
    "test_token_character_position_dataset = data_toolbox.generate_dataset_from_data([test_line_numbers_one_hot,\n",
    "                                                                                 test_total_lines_one_hot,\n",
    "                                                                                 test_sentences,\n",
    "                                                                                 test_chars], test_labels_one_hot)\n",
    "\n",
    "train_token_character_position_dataset, val_token_character_position_dataset, test_token_character_position_dataset"
   ]
  },
  {
   "cell_type": "code",
   "execution_count": 92,
   "id": "cbYSlgocNjub",
   "metadata": {
    "colab": {
     "base_uri": "https://localhost:8080/"
    },
    "id": "cbYSlgocNjub",
    "outputId": "e06fbbc2-238d-4052-c93a-20f671a9b57d"
   },
   "outputs": [
    {
     "name": "stdout",
     "output_type": "stream",
     "text": [
      "Model: \"model_5_token_char_positional\"\n",
      "__________________________________________________________________________________________________\n",
      " Layer (type)                   Output Shape         Param #     Connected to                     \n",
      "==================================================================================================\n",
      " char_input (InputLayer)        [(None, 1)]          0           []                               \n",
      "                                                                                                  \n",
      " token_input (InputLayer)       [(None,)]            0           []                               \n",
      "                                                                                                  \n",
      " char_vectorizer (TextVectoriza  (None, 290)         0           ['char_input[0][0]']             \n",
      " tion)                                                                                            \n",
      "                                                                                                  \n",
      " universal_sentence_encoder (Ke  (None, 512)         256797824   ['token_input[0][0]']            \n",
      " rasLayer)                                                                                        \n",
      "                                                                                                  \n",
      " character_embedding (Embedding  (None, 290, 25)     700         ['char_vectorizer[2][0]']        \n",
      " )                                                                                                \n",
      "                                                                                                  \n",
      " dense_7 (Dense)                (None, 128)          65664       ['universal_sentence_encoder[0][0\n",
      "                                                                 ]']                              \n",
      "                                                                                                  \n",
      " bidirectional_1 (Bidirectional  (None, 48)          9600        ['character_embedding[2][0]']    \n",
      " )                                                                                                \n",
      "                                                                                                  \n",
      " token_char_hybrid_embedding (C  (None, 176)         0           ['dense_7[0][0]',                \n",
      " oncatenate)                                                      'bidirectional_1[0][0]']        \n",
      "                                                                                                  \n",
      " line_number_input (InputLayer)  [(None, 15)]        0           []                               \n",
      "                                                                                                  \n",
      " total_lines_input (InputLayer)  [(None, 20)]        0           []                               \n",
      "                                                                                                  \n",
      " dense_10 (Dense)               (None, 256)          45312       ['token_char_hybrid_embedding[0][\n",
      "                                                                 0]']                             \n",
      "                                                                                                  \n",
      " dense_8 (Dense)                (None, 32)           512         ['line_number_input[0][0]']      \n",
      "                                                                                                  \n",
      " dense_9 (Dense)                (None, 32)           672         ['total_lines_input[0][0]']      \n",
      "                                                                                                  \n",
      " dropout_2 (Dropout)            (None, 256)          0           ['dense_10[0][0]']               \n",
      "                                                                                                  \n",
      " token_char_positional_embeddin  (None, 320)         0           ['dense_8[0][0]',                \n",
      " g (Concatenate)                                                  'dense_9[0][0]',                \n",
      "                                                                  'dropout_2[0][0]']              \n",
      "                                                                                                  \n",
      " output_layer (Dense)           (None, 5)            1605        ['token_char_positional_embedding\n",
      "                                                                 [0][0]']                         \n",
      "                                                                                                  \n",
      "==================================================================================================\n",
      "Total params: 256,921,889\n",
      "Trainable params: 124,065\n",
      "Non-trainable params: 256,797,824\n",
      "__________________________________________________________________________________________________\n"
     ]
    }
   ],
   "source": [
    "# 1. Token Embedding Model\n",
    "token_inputs = tf.keras.layers.Input(shape=[], dtype=tf.string, name='token_input')\n",
    "pretrained_token_embedding = hub.KerasLayer(universal_sentence_encoder_url,\n",
    "                                            trainable=False,\n",
    "                                            name='universal_sentence_encoder')(token_inputs)\n",
    "token_outputs = tf.keras.layers.Dense(128, activation='relu')(pretrained_token_embedding)\n",
    "\n",
    "token_embedding_model = tf.keras.models.Model(token_inputs, token_outputs, name='token_embedding')\n",
    "\n",
    "# 2. Character Embedding Model\n",
    "char_inputs = tf.keras.layers.Input(shape=(1,), dtype=tf.string, name='char_input')\n",
    "char_vectors = character_vectorizer(char_inputs)\n",
    "char_embeddings = character_embedding(char_vectors)\n",
    "char_bi_lstm = tf.keras.layers.Bidirectional(tf.keras.layers.LSTM(24))(char_embeddings)\n",
    "\n",
    "character_embedding_model = tf.keras.models.Model(char_inputs, char_bi_lstm, name='character_embedding')\n",
    "\n",
    "# 3. Line Number Feature Model\n",
    "line_number_inputs = tf.keras.layers.Input(shape=(15,), dtype=tf.float32, name='line_number_input')\n",
    "line_number_outputs = tf.keras.layers.Dense(32, activation='relu')(line_number_inputs)\n",
    "\n",
    "line_number_feature_model = tf.keras.models.Model(line_number_inputs, line_number_outputs, name='line_number_feature')\n",
    "\n",
    "# 4. Total Lines Feature Model\n",
    "total_lines_inputs = tf.keras.layers.Input(shape=(20,), dtype=tf.float32, name='total_lines_input')\n",
    "total_lines_outputs = tf.keras.layers.Dense(32, activation='relu')(total_lines_inputs)\n",
    "\n",
    "total_lines_feature_model = tf.keras.models.Model(total_lines_inputs, total_lines_outputs, name='total_lines_feature')\n",
    "\n",
    "# 5. Concatenate Token and Character Level Models (including dropout layer)\n",
    "token_char_concat = tf.keras.layers.Concatenate(name='token_char_hybrid_embedding')([token_embedding_model.output, character_embedding_model.output])\n",
    "x = tf.keras.layers.Dense(256, activation='relu')(token_char_concat)\n",
    "combined_token_char_embeddings_dropout = tf.keras.layers.Dropout(0.5)(x)\n",
    "\n",
    "# 6. Concatenate Line Number Feature Model, Total Lines Feature Model, and Token Char Concatenated Hybrid\n",
    "tribrid_concat = tf.keras.layers.Concatenate(name='token_char_positional_embedding')([line_number_feature_model.output,\n",
    "                                                                                      total_lines_feature_model.output,\n",
    "                                                                                      combined_token_char_embeddings_dropout])\n",
    "\n",
    "# 7. Output Layers\n",
    "output_layer = tf.keras.layers.Dense(num_classes, activation='softmax', name='output_layer')(tribrid_concat)\n",
    "\n",
    "# 8. Create Model\n",
    "model_5 = tf.keras.models.Model(inputs=[line_number_feature_model.input,\n",
    "                                        total_lines_feature_model.input,\n",
    "                                        token_embedding_model.input,\n",
    "                                        character_embedding_model.input],\n",
    "                                outputs=output_layer,\n",
    "                                name=model_5_name)\n",
    "model_5.summary()"
   ]
  },
  {
   "cell_type": "code",
   "execution_count": 93,
   "id": "Lic2EN-rkHkd",
   "metadata": {
    "colab": {
     "base_uri": "https://localhost:8080/",
     "height": 894
    },
    "id": "Lic2EN-rkHkd",
    "outputId": "34edc0c8-4186-4148-e5b2-971fab6e3135"
   },
   "outputs": [
    {
     "data": {
      "image/png": "[encoded data removed]",
      "text/plain": [
       "<IPython.core.display.Image object>"
      ]
     },
     "execution_count": 93,
     "metadata": {},
     "output_type": "execute_result"
    }
   ],
   "source": [
    "ml_toolbox.analysis.model.plot_model(model_5)"
   ]
  },
  {
   "cell_type": "code",
   "execution_count": 94,
   "id": "5DxGgKe2mQIv",
   "metadata": {
    "id": "5DxGgKe2mQIv"
   },
   "outputs": [],
   "source": [
    "# Compile Model\n",
    "model_5.compile(loss=tf.keras.losses.CategoricalCrossentropy(label_smoothing=0.2),  # label_smoothing helps to prevent overfitting\n",
    "                optimizer=tf.keras.optimizers.Adam(),\n",
    "                metrics=['accuracy'])"
   ]
  },
  {
   "cell_type": "code",
   "execution_count": 95,
   "id": "99F1tcWBrH3g",
   "metadata": {
    "colab": {
     "base_uri": "https://localhost:8080/"
    },
    "id": "99F1tcWBrH3g",
    "outputId": "19daed54-bb5d-4f71-da24-bc210dc8ca80"
   },
   "outputs": [
    {
     "name": "stdout",
     "output_type": "stream",
     "text": [
      "Epoch 1/3\n",
      "562/562 [==============================] - 217s 364ms/step - loss: 1.0922 - accuracy: 0.7272 - val_loss: 0.9821 - val_accuracy: 0.8022\n",
      "Epoch 2/3\n",
      "562/562 [==============================] - 201s 357ms/step - loss: 0.9667 - accuracy: 0.8153 - val_loss: 0.9480 - val_accuracy: 0.8268\n",
      "Epoch 3/3\n",
      "562/562 [==============================] - 200s 355ms/step - loss: 0.9503 - accuracy: 0.8235 - val_loss: 0.9351 - val_accuracy: 0.8334\n"
     ]
    }
   ],
   "source": [
    "model_5_history = model_5.fit(train_token_character_position_dataset,\n",
    "                              epochs=3,\n",
    "                              steps_per_epoch=int(0.1 * len(train_token_character_position_dataset)),\n",
    "                              validation_data=val_token_character_position_dataset,\n",
    "                              validation_steps=int(0.1 * len(val_token_character_position_dataset)))"
   ]
  },
  {
   "cell_type": "code",
   "execution_count": 96,
   "id": "QfDFRlVJrxUd",
   "metadata": {
    "colab": {
     "base_uri": "https://localhost:8080/",
     "height": 472
    },
    "id": "QfDFRlVJrxUd",
    "outputId": "928280a2-7b77-4d7b-a5bf-137884896964"
   },
   "outputs": [
    {
     "data": {
      "image/png": "[encoded data removed]",
      "text/plain": [
       "<Figure size 640x480 with 1 Axes>"
      ]
     },
     "metadata": {},
     "output_type": "display_data"
    }
   ],
   "source": [
    "ml_toolbox.analysis.history.plot_history(model_5_history, 'accuracy')"
   ]
  },
  {
   "cell_type": "code",
   "execution_count": 97,
   "id": "WkloZRRxr3fS",
   "metadata": {
    "colab": {
     "base_uri": "https://localhost:8080/"
    },
    "id": "WkloZRRxr3fS",
    "outputId": "9c3b237a-bab4-4e2a-e680-eba88e89a9b0"
   },
   "outputs": [
    {
     "name": "stdout",
     "output_type": "stream",
     "text": [
      "945/945 [==============================] - 75s 75ms/step\n"
     ]
    },
    {
     "data": {
      "text/plain": [
       "array([[0.4739824 , 0.11603823, 0.01389534, 0.37173   , 0.02435397],\n",
       "       [0.5214471 , 0.09805597, 0.05974365, 0.30894735, 0.01180588],\n",
       "       [0.29380465, 0.10373195, 0.13579752, 0.3917598 , 0.07490606],\n",
       "       ...,\n",
       "       [0.03661503, 0.11396361, 0.04613828, 0.03295601, 0.7703271 ],\n",
       "       [0.02677041, 0.33052608, 0.06815957, 0.02472098, 0.54982305],\n",
       "       [0.15685011, 0.65082043, 0.08763855, 0.0398846 , 0.0648063 ]],\n",
       "      dtype=float32)"
      ]
     },
     "execution_count": 97,
     "metadata": {},
     "output_type": "execute_result"
    }
   ],
   "source": [
    "model_5_pred_probs = model_5.predict(val_token_character_position_dataset, verbose=1)\n",
    "model_5_pred_probs"
   ]
  },
  {
   "cell_type": "code",
   "execution_count": 98,
   "id": "HKUZoKbCr9gW",
   "metadata": {
    "colab": {
     "base_uri": "https://localhost:8080/"
    },
    "id": "HKUZoKbCr9gW",
    "outputId": "ecd1c856-4b9e-404e-d7c6-a1740da7ae1e"
   },
   "outputs": [
    {
     "data": {
      "text/plain": [
       "<tf.Tensor: shape=(30212,), dtype=int64, numpy=array([0, 0, 3, ..., 4, 4, 1])>"
      ]
     },
     "execution_count": 98,
     "metadata": {},
     "output_type": "execute_result"
    }
   ],
   "source": [
    "model_5_preds = tf.argmax(model_5_pred_probs, axis=1)\n",
    "model_5_preds"
   ]
  },
  {
   "cell_type": "code",
   "execution_count": 112,
   "id": "6K8L_rFqsCTK",
   "metadata": {
    "colab": {
     "base_uri": "https://localhost:8080/"
    },
    "id": "6K8L_rFqsCTK",
    "outputId": "7e973f2d-a0ef-4b3f-afc4-1a92623c7db4"
   },
   "outputs": [
    {
     "data": {
      "text/plain": [
       "PredictionMetrics(accuracy=0.835032437442076, precision=0.833661381112976, recall=0.835032437442076, f1=0.8340397194172973, name='model_5_token_char_positional')"
      ]
     },
     "execution_count": 112,
     "metadata": {},
     "output_type": "execute_result"
    }
   ],
   "source": [
    "model_5_results = ml_toolbox.analysis.classification.generate_prediction_metrics(val_labels_encoded,\n",
    "                                                                                 model_5_preds,\n",
    "                                                                                 name=model_5_name)\n",
    "model_5_results"
   ]
  },
  {
   "cell_type": "markdown",
   "id": "476441f1-b04c-43b6-bca9-2acfeae7bff0",
   "metadata": {
    "id": "476441f1-b04c-43b6-bca9-2acfeae7bff0",
    "jp-MarkdownHeadingCollapsed": true
   },
   "source": [
    "## Analysis\n",
    "\n",
    "Now that the 5 different experiments have been run, it is time to compare and analyze them."
   ]
  },
  {
   "cell_type": "markdown",
   "id": "RDXbsPkB2c0G",
   "metadata": {
    "id": "RDXbsPkB2c0G"
   },
   "source": [
    "#### Prediction Metric Analysis"
   ]
  },
  {
   "cell_type": "code",
   "execution_count": 126,
   "id": "INKJi2cct3Ua",
   "metadata": {
    "colab": {
     "base_uri": "https://localhost:8080/"
    },
    "id": "INKJi2cct3Ua",
    "outputId": "c89291f4-5a0b-4e84-ee9c-f51bd585e46a"
   },
   "outputs": [
    {
     "data": {
      "text/plain": [
       "[PredictionMetrics(accuracy=0.7218323844829869, precision=0.7186466952323352, recall=0.7218323844829869, f1=0.6989250353450294, name='model_0_naive_bayes'),\n",
       " PredictionMetrics(accuracy=0.8042168674698795, precision=0.8025652820142402, recall=0.8042168674698795, f1=0.8025946173805512, name='model_1_conv1d_token_embedding'),\n",
       " PredictionMetrics(accuracy=0.7163709784191712, precision=0.7173741693140099, recall=0.7163709784191712, f1=0.7135175392077404, name='model_2_pretrained_token'),\n",
       " PredictionMetrics(accuracy=0.6574539917913412, precision=0.651457316473861, recall=0.6574539917913412, f1=0.6458660887393802, name='model_3_conv1d_char_embedding'),\n",
       " PredictionMetrics(accuracy=0.7338474778233814, precision=0.7335235063367156, recall=0.7338474778233814, f1=0.7306996767185419, name='model_4_pretrained_token_char'),\n",
       " PredictionMetrics(accuracy=0.835032437442076, precision=0.833661381112976, recall=0.835032437442076, f1=0.8340397194172973, name='model_5_token_char_positional')]"
      ]
     },
     "execution_count": 126,
     "metadata": {},
     "output_type": "execute_result"
    }
   ],
   "source": [
    "all_results = [model_0_results, model_1_results, model_2_results, model_3_results, model_4_results, model_5_results]\n",
    "all_results"
   ]
  },
  {
   "cell_type": "code",
   "execution_count": 127,
   "id": "lf2IKge-umhR",
   "metadata": {
    "colab": {
     "base_uri": "https://localhost:8080/",
     "height": 238
    },
    "id": "lf2IKge-umhR",
    "outputId": "dd1a25c7-bdea-4f75-c223-13d5cf9a0f77"
   },
   "outputs": [
    {
     "data": {
      "text/html": [
       "\n",
       "  <div id=\"df-39eaeb63-8a48-4c74-90b0-35f92a744a53\" class=\"colab-df-container\">\n",
       "    <div>\n",
       "<style scoped>\n",
       "    .dataframe tbody tr th:only-of-type {\n",
       "        vertical-align: middle;\n",
       "    }\n",
       "\n",
       "    .dataframe tbody tr th {\n",
       "        vertical-align: top;\n",
       "    }\n",
       "\n",
       "    .dataframe thead th {\n",
       "        text-align: right;\n",
       "    }\n",
       "</style>\n",
       "<table border=\"1\" class=\"dataframe\">\n",
       "  <thead>\n",
       "    <tr style=\"text-align: right;\">\n",
       "      <th></th>\n",
       "      <th>accuracy</th>\n",
       "      <th>precision</th>\n",
       "      <th>recall</th>\n",
       "      <th>f1</th>\n",
       "      <th>name</th>\n",
       "    </tr>\n",
       "  </thead>\n",
       "  <tbody>\n",
       "    <tr>\n",
       "      <th>model_0_naive_bayes</th>\n",
       "      <td>0.721832</td>\n",
       "      <td>0.718647</td>\n",
       "      <td>0.721832</td>\n",
       "      <td>0.698925</td>\n",
       "      <td>model_0_naive_bayes</td>\n",
       "    </tr>\n",
       "    <tr>\n",
       "      <th>model_1_conv1d_token_embedding</th>\n",
       "      <td>0.804217</td>\n",
       "      <td>0.802565</td>\n",
       "      <td>0.804217</td>\n",
       "      <td>0.802595</td>\n",
       "      <td>model_1_conv1d_token_embedding</td>\n",
       "    </tr>\n",
       "    <tr>\n",
       "      <th>model_2_pretrained_token</th>\n",
       "      <td>0.716371</td>\n",
       "      <td>0.717374</td>\n",
       "      <td>0.716371</td>\n",
       "      <td>0.713518</td>\n",
       "      <td>model_2_pretrained_token</td>\n",
       "    </tr>\n",
       "    <tr>\n",
       "      <th>model_3_conv1d_char_embedding</th>\n",
       "      <td>0.657454</td>\n",
       "      <td>0.651457</td>\n",
       "      <td>0.657454</td>\n",
       "      <td>0.645866</td>\n",
       "      <td>model_3_conv1d_char_embedding</td>\n",
       "    </tr>\n",
       "    <tr>\n",
       "      <th>model_4_pretrained_token_char</th>\n",
       "      <td>0.733847</td>\n",
       "      <td>0.733524</td>\n",
       "      <td>0.733847</td>\n",
       "      <td>0.7307</td>\n",
       "      <td>model_4_pretrained_token_char</td>\n",
       "    </tr>\n",
       "    <tr>\n",
       "      <th>model_5_token_char_positional</th>\n",
       "      <td>0.835032</td>\n",
       "      <td>0.833661</td>\n",
       "      <td>0.835032</td>\n",
       "      <td>0.83404</td>\n",
       "      <td>model_5_token_char_positional</td>\n",
       "    </tr>\n",
       "  </tbody>\n",
       "</table>\n",
       "</div>\n",
       "    <div class=\"colab-df-buttons\">\n",
       "\n",
       "  <div class=\"colab-df-container\">\n",
       "    <button class=\"colab-df-convert\" onclick=\"convertToInteractive('df-39eaeb63-8a48-4c74-90b0-35f92a744a53')\"\n",
       "            title=\"Convert this dataframe to an interactive table.\"\n",
       "            style=\"display:none;\">\n",
       "\n",
       "  <svg xmlns=\"http://www.w3.org/2000/svg\" height=\"24px\" viewBox=\"0 -960 960 960\">\n",
       "    <path d=\"M120-120v-720h720v720H120Zm60-500h600v-160H180v160Zm220 220h160v-160H400v160Zm0 220h160v-160H400v160ZM180-400h160v-160H180v160Zm440 0h160v-160H620v160ZM180-180h160v-160H180v160Zm440 0h160v-160H620v160Z\"/>\n",
       "  </svg>\n",
       "    </button>\n",
       "\n",
       "  <style>\n",
       "    .colab-df-container {\n",
       "      display:flex;\n",
       "      gap: 12px;\n",
       "    }\n",
       "\n",
       "    .colab-df-convert {\n",
       "      background-color: #E8F0FE;\n",
       "      border: none;\n",
       "      border-radius: 50%;\n",
       "      cursor: pointer;\n",
       "      display: none;\n",
       "      fill: #1967D2;\n",
       "      height: 32px;\n",
       "      padding: 0 0 0 0;\n",
       "      width: 32px;\n",
       "    }\n",
       "\n",
       "    .colab-df-convert:hover {\n",
       "      background-color: #E2EBFA;\n",
       "      box-shadow: 0px 1px 2px rgba(60, 64, 67, 0.3), 0px 1px 3px 1px rgba(60, 64, 67, 0.15);\n",
       "      fill: #174EA6;\n",
       "    }\n",
       "\n",
       "    .colab-df-buttons div {\n",
       "      margin-bottom: 4px;\n",
       "    }\n",
       "\n",
       "    [theme=dark] .colab-df-convert {\n",
       "      background-color: #3B4455;\n",
       "      fill: #D2E3FC;\n",
       "    }\n",
       "\n",
       "    [theme=dark] .colab-df-convert:hover {\n",
       "      background-color: #434B5C;\n",
       "      box-shadow: 0px 1px 3px 1px rgba(0, 0, 0, 0.15);\n",
       "      filter: drop-shadow(0px 1px 2px rgba(0, 0, 0, 0.3));\n",
       "      fill: #FFFFFF;\n",
       "    }\n",
       "  </style>\n",
       "\n",
       "    <script>\n",
       "      const buttonEl =\n",
       "        document.querySelector('#df-39eaeb63-8a48-4c74-90b0-35f92a744a53 button.colab-df-convert');\n",
       "      buttonEl.style.display =\n",
       "        google.colab.kernel.accessAllowed ? 'block' : 'none';\n",
       "\n",
       "      async function convertToInteractive(key) {\n",
       "        const element = document.querySelector('#df-39eaeb63-8a48-4c74-90b0-35f92a744a53');\n",
       "        const dataTable =\n",
       "          await google.colab.kernel.invokeFunction('convertToInteractive',\n",
       "                                                    [key], {});\n",
       "        if (!dataTable) return;\n",
       "\n",
       "        const docLinkHtml = 'Like what you see? Visit the ' +\n",
       "          '<a target=\"_blank\" href=https://colab.research.google.com/notebooks/data_table.ipynb>data table notebook</a>'\n",
       "          + ' to learn more about interactive tables.';\n",
       "        element.innerHTML = '';\n",
       "        dataTable['output_type'] = 'display_data';\n",
       "        await google.colab.output.renderOutput(dataTable, element);\n",
       "        const docLink = document.createElement('div');\n",
       "        docLink.innerHTML = docLinkHtml;\n",
       "        element.appendChild(docLink);\n",
       "      }\n",
       "    </script>\n",
       "  </div>\n",
       "\n",
       "\n",
       "<div id=\"df-d34da120-6b40-4e75-9d1e-c257f61f840f\">\n",
       "  <button class=\"colab-df-quickchart\" onclick=\"quickchart('df-d34da120-6b40-4e75-9d1e-c257f61f840f')\"\n",
       "            title=\"Suggest charts.\"\n",
       "            style=\"display:none;\">\n",
       "\n",
       "<svg xmlns=\"http://www.w3.org/2000/svg\" height=\"24px\"viewBox=\"0 0 24 24\"\n",
       "     width=\"24px\">\n",
       "    <g>\n",
       "        <path d=\"M19 3H5c-1.1 0-2 .9-2 2v14c0 1.1.9 2 2 2h14c1.1 0 2-.9 2-2V5c0-1.1-.9-2-2-2zM9 17H7v-7h2v7zm4 0h-2V7h2v10zm4 0h-2v-4h2v4z\"/>\n",
       "    </g>\n",
       "</svg>\n",
       "  </button>\n",
       "\n",
       "<style>\n",
       "  .colab-df-quickchart {\n",
       "      --bg-color: #E8F0FE;\n",
       "      --fill-color: #1967D2;\n",
       "      --hover-bg-color: #E2EBFA;\n",
       "      --hover-fill-color: #174EA6;\n",
       "      --disabled-fill-color: #AAA;\n",
       "      --disabled-bg-color: #DDD;\n",
       "  }\n",
       "\n",
       "  [theme=dark] .colab-df-quickchart {\n",
       "      --bg-color: #3B4455;\n",
       "      --fill-color: #D2E3FC;\n",
       "      --hover-bg-color: #434B5C;\n",
       "      --hover-fill-color: #FFFFFF;\n",
       "      --disabled-bg-color: #3B4455;\n",
       "      --disabled-fill-color: #666;\n",
       "  }\n",
       "\n",
       "  .colab-df-quickchart {\n",
       "    background-color: var(--bg-color);\n",
       "    border: none;\n",
       "    border-radius: 50%;\n",
       "    cursor: pointer;\n",
       "    display: none;\n",
       "    fill: var(--fill-color);\n",
       "    height: 32px;\n",
       "    padding: 0;\n",
       "    width: 32px;\n",
       "  }\n",
       "\n",
       "  .colab-df-quickchart:hover {\n",
       "    background-color: var(--hover-bg-color);\n",
       "    box-shadow: 0 1px 2px rgba(60, 64, 67, 0.3), 0 1px 3px 1px rgba(60, 64, 67, 0.15);\n",
       "    fill: var(--button-hover-fill-color);\n",
       "  }\n",
       "\n",
       "  .colab-df-quickchart-complete:disabled,\n",
       "  .colab-df-quickchart-complete:disabled:hover {\n",
       "    background-color: var(--disabled-bg-color);\n",
       "    fill: var(--disabled-fill-color);\n",
       "    box-shadow: none;\n",
       "  }\n",
       "\n",
       "  .colab-df-spinner {\n",
       "    border: 2px solid var(--fill-color);\n",
       "    border-color: transparent;\n",
       "    border-bottom-color: var(--fill-color);\n",
       "    animation:\n",
       "      spin 1s steps(1) infinite;\n",
       "  }\n",
       "\n",
       "  @keyframes spin {\n",
       "    0% {\n",
       "      border-color: transparent;\n",
       "      border-bottom-color: var(--fill-color);\n",
       "      border-left-color: var(--fill-color);\n",
       "    }\n",
       "    20% {\n",
       "      border-color: transparent;\n",
       "      border-left-color: var(--fill-color);\n",
       "      border-top-color: var(--fill-color);\n",
       "    }\n",
       "    30% {\n",
       "      border-color: transparent;\n",
       "      border-left-color: var(--fill-color);\n",
       "      border-top-color: var(--fill-color);\n",
       "      border-right-color: var(--fill-color);\n",
       "    }\n",
       "    40% {\n",
       "      border-color: transparent;\n",
       "      border-right-color: var(--fill-color);\n",
       "      border-top-color: var(--fill-color);\n",
       "    }\n",
       "    60% {\n",
       "      border-color: transparent;\n",
       "      border-right-color: var(--fill-color);\n",
       "    }\n",
       "    80% {\n",
       "      border-color: transparent;\n",
       "      border-right-color: var(--fill-color);\n",
       "      border-bottom-color: var(--fill-color);\n",
       "    }\n",
       "    90% {\n",
       "      border-color: transparent;\n",
       "      border-bottom-color: var(--fill-color);\n",
       "    }\n",
       "  }\n",
       "</style>\n",
       "\n",
       "  <script>\n",
       "    async function quickchart(key) {\n",
       "      const quickchartButtonEl =\n",
       "        document.querySelector('#' + key + ' button');\n",
       "      quickchartButtonEl.disabled = true;  // To prevent multiple clicks.\n",
       "      quickchartButtonEl.classList.add('colab-df-spinner');\n",
       "      try {\n",
       "        const charts = await google.colab.kernel.invokeFunction(\n",
       "            'suggestCharts', [key], {});\n",
       "      } catch (error) {\n",
       "        console.error('Error during call to suggestCharts:', error);\n",
       "      }\n",
       "      quickchartButtonEl.classList.remove('colab-df-spinner');\n",
       "      quickchartButtonEl.classList.add('colab-df-quickchart-complete');\n",
       "    }\n",
       "    (() => {\n",
       "      let quickchartButtonEl =\n",
       "        document.querySelector('#df-d34da120-6b40-4e75-9d1e-c257f61f840f button');\n",
       "      quickchartButtonEl.style.display =\n",
       "        google.colab.kernel.accessAllowed ? 'block' : 'none';\n",
       "    })();\n",
       "  </script>\n",
       "</div>\n",
       "    </div>\n",
       "  </div>\n"
      ],
      "text/plain": [
       "                                accuracy precision    recall        f1  \\\n",
       "model_0_naive_bayes             0.721832  0.718647  0.721832  0.698925   \n",
       "model_1_conv1d_token_embedding  0.804217  0.802565  0.804217  0.802595   \n",
       "model_2_pretrained_token        0.716371  0.717374  0.716371  0.713518   \n",
       "model_3_conv1d_char_embedding   0.657454  0.651457  0.657454  0.645866   \n",
       "model_4_pretrained_token_char   0.733847  0.733524  0.733847    0.7307   \n",
       "model_5_token_char_positional   0.835032  0.833661  0.835032   0.83404   \n",
       "\n",
       "                                                          name  \n",
       "model_0_naive_bayes                        model_0_naive_bayes  \n",
       "model_1_conv1d_token_embedding  model_1_conv1d_token_embedding  \n",
       "model_2_pretrained_token              model_2_pretrained_token  \n",
       "model_3_conv1d_char_embedding    model_3_conv1d_char_embedding  \n",
       "model_4_pretrained_token_char    model_4_pretrained_token_char  \n",
       "model_5_token_char_positional    model_5_token_char_positional  "
      ]
     },
     "execution_count": 127,
     "metadata": {},
     "output_type": "execute_result"
    }
   ],
   "source": [
    "all_results_df = ml_toolbox.analysis.classification.generate_prediction_metrics_dataframe(all_results)\n",
    "all_results_df"
   ]
  },
  {
   "cell_type": "code",
   "execution_count": 128,
   "id": "fec9149d-4661-4a0a-894f-04a89fc2dbd0",
   "metadata": {
    "colab": {
     "base_uri": "https://localhost:8080/",
     "height": 852
    },
    "id": "fec9149d-4661-4a0a-894f-04a89fc2dbd0",
    "outputId": "4b1bc955-9a08-4a62-872b-04b3cac8568c"
   },
   "outputs": [
    {
     "data": {
      "text/plain": [
       "<matplotlib.legend.Legend at 0x7861dc5f4a00>"
      ]
     },
     "execution_count": 128,
     "metadata": {},
     "output_type": "execute_result"
    },
    {
     "data": {
      "image/png": "[encoded data removed]",
      "text/plain": [
       "<Figure size 1000x700 with 1 Axes>"
      ]
     },
     "metadata": {},
     "output_type": "display_data"
    }
   ],
   "source": [
    "all_results_df.plot(kind='bar', figsize=(10, 7)).legend(bbox_to_anchor=(1.0, 1.0))"
   ]
  },
  {
   "cell_type": "code",
   "execution_count": 129,
   "id": "WfOXYU1gt8mk",
   "metadata": {
    "colab": {
     "base_uri": "https://localhost:8080/",
     "height": 852
    },
    "id": "WfOXYU1gt8mk",
    "outputId": "1dcb5cdb-ecc8-400a-c28e-3af278f9b78e"
   },
   "outputs": [
    {
     "data": {
      "text/plain": [
       "<Axes: >"
      ]
     },
     "execution_count": 129,
     "metadata": {},
     "output_type": "execute_result"
    },
    {
     "data": {
      "image/png": "[encoded data removed]",
      "text/plain": [
       "<Figure size 1000x700 with 1 Axes>"
      ]
     },
     "metadata": {},
     "output_type": "display_data"
    }
   ],
   "source": [
    "all_results_df.sort_values('f1', ascending=True)['f1'].plot(kind='bar', figsize=(10, 7))"
   ]
  },
  {
   "cell_type": "markdown",
   "id": "Dlpq2ckn-mmi",
   "metadata": {
    "id": "Dlpq2ckn-mmi"
   },
   "source": [
    "#### Performance Metrics Analysis"
   ]
  },
  {
   "cell_type": "code",
   "execution_count": 130,
   "id": "w1THnVzO-l4S",
   "metadata": {
    "colab": {
     "base_uri": "https://localhost:8080/"
    },
    "id": "w1THnVzO-l4S",
    "outputId": "dfef777c-3764-4c4b-b3c7-a1bbab25bfae"
   },
   "outputs": [
    {
     "name": "stdout",
     "output_type": "stream",
     "text": [
      "945/945 [==============================] - 5s 5ms/step\n",
      "945/945 [==============================] - 14s 15ms/step\n",
      "945/945 [==============================] - 9s 10ms/step\n",
      "945/945 [==============================] - 78s 83ms/step\n",
      "945/945 [==============================] - 74s 78ms/step\n"
     ]
    },
    {
     "data": {
      "text/plain": [
       "[Performance(total_time=1.0523159700001088, total_predictions=30212, name='model_0_naive_bayes'),\n",
       " Performance(total_time=5.372787759999937, total_predictions=945, name='model_1_conv1d_token_embedding'),\n",
       " Performance(total_time=14.369519116999982, total_predictions=945, name='model_2_pretrained_token'),\n",
       " Performance(total_time=10.230488100999992, total_predictions=945, name='model_3_conv1d_char_embedding'),\n",
       " Performance(total_time=81.91758854199998, total_predictions=945, name='model_4_pretrained_token_char'),\n",
       " Performance(total_time=81.91982706599993, total_predictions=945, name='model_5_token_char_positional')]"
      ]
     },
     "execution_count": 130,
     "metadata": {},
     "output_type": "execute_result"
    }
   ],
   "source": [
    "# Generating the model performance metrics\n",
    "model_performances = [\n",
    "    performance_toolbox.model.time_predictions(model_0, val_sentences, name=model_0_results.name),\n",
    "    performance_toolbox.model.time_predictions(model_1, val_dataset, name=model_1_results.name),\n",
    "    performance_toolbox.model.time_predictions(model_2, val_dataset, name=model_2_results.name),\n",
    "    performance_toolbox.model.time_predictions(model_3, val_char_dataset, name=model_3_results.name),\n",
    "    performance_toolbox.model.time_predictions(model_4, val_token_character_dataset, name=model_4_results.name),\n",
    "    performance_toolbox.model.time_predictions(model_5, val_token_character_position_dataset, name=model_5_results.name),\n",
    "]\n",
    "\n",
    "model_performances"
   ]
  },
  {
   "cell_type": "code",
   "execution_count": 131,
   "id": "d_dHGyFr-wMq",
   "metadata": {
    "colab": {
     "base_uri": "https://localhost:8080/",
     "height": 238
    },
    "id": "d_dHGyFr-wMq",
    "outputId": "0a32c81d-fb3a-455d-b4c5-665dae6fb164"
   },
   "outputs": [
    {
     "data": {
      "text/html": [
       "\n",
       "  <div id=\"df-dee60d80-0b2b-4cc7-b000-8c19039a0d16\" class=\"colab-df-container\">\n",
       "    <div>\n",
       "<style scoped>\n",
       "    .dataframe tbody tr th:only-of-type {\n",
       "        vertical-align: middle;\n",
       "    }\n",
       "\n",
       "    .dataframe tbody tr th {\n",
       "        vertical-align: top;\n",
       "    }\n",
       "\n",
       "    .dataframe thead th {\n",
       "        text-align: right;\n",
       "    }\n",
       "</style>\n",
       "<table border=\"1\" class=\"dataframe\">\n",
       "  <thead>\n",
       "    <tr style=\"text-align: right;\">\n",
       "      <th></th>\n",
       "      <th>total_time</th>\n",
       "      <th>total_predictions</th>\n",
       "      <th>time_per_prediction</th>\n",
       "    </tr>\n",
       "  </thead>\n",
       "  <tbody>\n",
       "    <tr>\n",
       "      <th>model_0_naive_bayes</th>\n",
       "      <td>1.052316</td>\n",
       "      <td>30212.0</td>\n",
       "      <td>0.000035</td>\n",
       "    </tr>\n",
       "    <tr>\n",
       "      <th>model_1_conv1d_token_embedding</th>\n",
       "      <td>5.372788</td>\n",
       "      <td>945.0</td>\n",
       "      <td>0.005685</td>\n",
       "    </tr>\n",
       "    <tr>\n",
       "      <th>model_2_pretrained_token</th>\n",
       "      <td>14.369519</td>\n",
       "      <td>945.0</td>\n",
       "      <td>0.015206</td>\n",
       "    </tr>\n",
       "    <tr>\n",
       "      <th>model_3_conv1d_char_embedding</th>\n",
       "      <td>10.230488</td>\n",
       "      <td>945.0</td>\n",
       "      <td>0.010826</td>\n",
       "    </tr>\n",
       "    <tr>\n",
       "      <th>model_4_pretrained_token_char</th>\n",
       "      <td>81.917589</td>\n",
       "      <td>945.0</td>\n",
       "      <td>0.086685</td>\n",
       "    </tr>\n",
       "    <tr>\n",
       "      <th>model_5_token_char_positional</th>\n",
       "      <td>81.919827</td>\n",
       "      <td>945.0</td>\n",
       "      <td>0.086688</td>\n",
       "    </tr>\n",
       "  </tbody>\n",
       "</table>\n",
       "</div>\n",
       "    <div class=\"colab-df-buttons\">\n",
       "\n",
       "  <div class=\"colab-df-container\">\n",
       "    <button class=\"colab-df-convert\" onclick=\"convertToInteractive('df-dee60d80-0b2b-4cc7-b000-8c19039a0d16')\"\n",
       "            title=\"Convert this dataframe to an interactive table.\"\n",
       "            style=\"display:none;\">\n",
       "\n",
       "  <svg xmlns=\"http://www.w3.org/2000/svg\" height=\"24px\" viewBox=\"0 -960 960 960\">\n",
       "    <path d=\"M120-120v-720h720v720H120Zm60-500h600v-160H180v160Zm220 220h160v-160H400v160Zm0 220h160v-160H400v160ZM180-400h160v-160H180v160Zm440 0h160v-160H620v160ZM180-180h160v-160H180v160Zm440 0h160v-160H620v160Z\"/>\n",
       "  </svg>\n",
       "    </button>\n",
       "\n",
       "  <style>\n",
       "    .colab-df-container {\n",
       "      display:flex;\n",
       "      gap: 12px;\n",
       "    }\n",
       "\n",
       "    .colab-df-convert {\n",
       "      background-color: #E8F0FE;\n",
       "      border: none;\n",
       "      border-radius: 50%;\n",
       "      cursor: pointer;\n",
       "      display: none;\n",
       "      fill: #1967D2;\n",
       "      height: 32px;\n",
       "      padding: 0 0 0 0;\n",
       "      width: 32px;\n",
       "    }\n",
       "\n",
       "    .colab-df-convert:hover {\n",
       "      background-color: #E2EBFA;\n",
       "      box-shadow: 0px 1px 2px rgba(60, 64, 67, 0.3), 0px 1px 3px 1px rgba(60, 64, 67, 0.15);\n",
       "      fill: #174EA6;\n",
       "    }\n",
       "\n",
       "    .colab-df-buttons div {\n",
       "      margin-bottom: 4px;\n",
       "    }\n",
       "\n",
       "    [theme=dark] .colab-df-convert {\n",
       "      background-color: #3B4455;\n",
       "      fill: #D2E3FC;\n",
       "    }\n",
       "\n",
       "    [theme=dark] .colab-df-convert:hover {\n",
       "      background-color: #434B5C;\n",
       "      box-shadow: 0px 1px 3px 1px rgba(0, 0, 0, 0.15);\n",
       "      filter: drop-shadow(0px 1px 2px rgba(0, 0, 0, 0.3));\n",
       "      fill: #FFFFFF;\n",
       "    }\n",
       "  </style>\n",
       "\n",
       "    <script>\n",
       "      const buttonEl =\n",
       "        document.querySelector('#df-dee60d80-0b2b-4cc7-b000-8c19039a0d16 button.colab-df-convert');\n",
       "      buttonEl.style.display =\n",
       "        google.colab.kernel.accessAllowed ? 'block' : 'none';\n",
       "\n",
       "      async function convertToInteractive(key) {\n",
       "        const element = document.querySelector('#df-dee60d80-0b2b-4cc7-b000-8c19039a0d16');\n",
       "        const dataTable =\n",
       "          await google.colab.kernel.invokeFunction('convertToInteractive',\n",
       "                                                    [key], {});\n",
       "        if (!dataTable) return;\n",
       "\n",
       "        const docLinkHtml = 'Like what you see? Visit the ' +\n",
       "          '<a target=\"_blank\" href=https://colab.research.google.com/notebooks/data_table.ipynb>data table notebook</a>'\n",
       "          + ' to learn more about interactive tables.';\n",
       "        element.innerHTML = '';\n",
       "        dataTable['output_type'] = 'display_data';\n",
       "        await google.colab.output.renderOutput(dataTable, element);\n",
       "        const docLink = document.createElement('div');\n",
       "        docLink.innerHTML = docLinkHtml;\n",
       "        element.appendChild(docLink);\n",
       "      }\n",
       "    </script>\n",
       "  </div>\n",
       "\n",
       "\n",
       "<div id=\"df-b3e65bfb-0cac-4c2f-b538-1ee5e49c1870\">\n",
       "  <button class=\"colab-df-quickchart\" onclick=\"quickchart('df-b3e65bfb-0cac-4c2f-b538-1ee5e49c1870')\"\n",
       "            title=\"Suggest charts.\"\n",
       "            style=\"display:none;\">\n",
       "\n",
       "<svg xmlns=\"http://www.w3.org/2000/svg\" height=\"24px\"viewBox=\"0 0 24 24\"\n",
       "     width=\"24px\">\n",
       "    <g>\n",
       "        <path d=\"M19 3H5c-1.1 0-2 .9-2 2v14c0 1.1.9 2 2 2h14c1.1 0 2-.9 2-2V5c0-1.1-.9-2-2-2zM9 17H7v-7h2v7zm4 0h-2V7h2v10zm4 0h-2v-4h2v4z\"/>\n",
       "    </g>\n",
       "</svg>\n",
       "  </button>\n",
       "\n",
       "<style>\n",
       "  .colab-df-quickchart {\n",
       "      --bg-color: #E8F0FE;\n",
       "      --fill-color: #1967D2;\n",
       "      --hover-bg-color: #E2EBFA;\n",
       "      --hover-fill-color: #174EA6;\n",
       "      --disabled-fill-color: #AAA;\n",
       "      --disabled-bg-color: #DDD;\n",
       "  }\n",
       "\n",
       "  [theme=dark] .colab-df-quickchart {\n",
       "      --bg-color: #3B4455;\n",
       "      --fill-color: #D2E3FC;\n",
       "      --hover-bg-color: #434B5C;\n",
       "      --hover-fill-color: #FFFFFF;\n",
       "      --disabled-bg-color: #3B4455;\n",
       "      --disabled-fill-color: #666;\n",
       "  }\n",
       "\n",
       "  .colab-df-quickchart {\n",
       "    background-color: var(--bg-color);\n",
       "    border: none;\n",
       "    border-radius: 50%;\n",
       "    cursor: pointer;\n",
       "    display: none;\n",
       "    fill: var(--fill-color);\n",
       "    height: 32px;\n",
       "    padding: 0;\n",
       "    width: 32px;\n",
       "  }\n",
       "\n",
       "  .colab-df-quickchart:hover {\n",
       "    background-color: var(--hover-bg-color);\n",
       "    box-shadow: 0 1px 2px rgba(60, 64, 67, 0.3), 0 1px 3px 1px rgba(60, 64, 67, 0.15);\n",
       "    fill: var(--button-hover-fill-color);\n",
       "  }\n",
       "\n",
       "  .colab-df-quickchart-complete:disabled,\n",
       "  .colab-df-quickchart-complete:disabled:hover {\n",
       "    background-color: var(--disabled-bg-color);\n",
       "    fill: var(--disabled-fill-color);\n",
       "    box-shadow: none;\n",
       "  }\n",
       "\n",
       "  .colab-df-spinner {\n",
       "    border: 2px solid var(--fill-color);\n",
       "    border-color: transparent;\n",
       "    border-bottom-color: var(--fill-color);\n",
       "    animation:\n",
       "      spin 1s steps(1) infinite;\n",
       "  }\n",
       "\n",
       "  @keyframes spin {\n",
       "    0% {\n",
       "      border-color: transparent;\n",
       "      border-bottom-color: var(--fill-color);\n",
       "      border-left-color: var(--fill-color);\n",
       "    }\n",
       "    20% {\n",
       "      border-color: transparent;\n",
       "      border-left-color: var(--fill-color);\n",
       "      border-top-color: var(--fill-color);\n",
       "    }\n",
       "    30% {\n",
       "      border-color: transparent;\n",
       "      border-left-color: var(--fill-color);\n",
       "      border-top-color: var(--fill-color);\n",
       "      border-right-color: var(--fill-color);\n",
       "    }\n",
       "    40% {\n",
       "      border-color: transparent;\n",
       "      border-right-color: var(--fill-color);\n",
       "      border-top-color: var(--fill-color);\n",
       "    }\n",
       "    60% {\n",
       "      border-color: transparent;\n",
       "      border-right-color: var(--fill-color);\n",
       "    }\n",
       "    80% {\n",
       "      border-color: transparent;\n",
       "      border-right-color: var(--fill-color);\n",
       "      border-bottom-color: var(--fill-color);\n",
       "    }\n",
       "    90% {\n",
       "      border-color: transparent;\n",
       "      border-bottom-color: var(--fill-color);\n",
       "    }\n",
       "  }\n",
       "</style>\n",
       "\n",
       "  <script>\n",
       "    async function quickchart(key) {\n",
       "      const quickchartButtonEl =\n",
       "        document.querySelector('#' + key + ' button');\n",
       "      quickchartButtonEl.disabled = true;  // To prevent multiple clicks.\n",
       "      quickchartButtonEl.classList.add('colab-df-spinner');\n",
       "      try {\n",
       "        const charts = await google.colab.kernel.invokeFunction(\n",
       "            'suggestCharts', [key], {});\n",
       "      } catch (error) {\n",
       "        console.error('Error during call to suggestCharts:', error);\n",
       "      }\n",
       "      quickchartButtonEl.classList.remove('colab-df-spinner');\n",
       "      quickchartButtonEl.classList.add('colab-df-quickchart-complete');\n",
       "    }\n",
       "    (() => {\n",
       "      let quickchartButtonEl =\n",
       "        document.querySelector('#df-b3e65bfb-0cac-4c2f-b538-1ee5e49c1870 button');\n",
       "      quickchartButtonEl.style.display =\n",
       "        google.colab.kernel.accessAllowed ? 'block' : 'none';\n",
       "    })();\n",
       "  </script>\n",
       "</div>\n",
       "    </div>\n",
       "  </div>\n"
      ],
      "text/plain": [
       "                                total_time  total_predictions  \\\n",
       "model_0_naive_bayes               1.052316            30212.0   \n",
       "model_1_conv1d_token_embedding    5.372788              945.0   \n",
       "model_2_pretrained_token         14.369519              945.0   \n",
       "model_3_conv1d_char_embedding    10.230488              945.0   \n",
       "model_4_pretrained_token_char    81.917589              945.0   \n",
       "model_5_token_char_positional    81.919827              945.0   \n",
       "\n",
       "                                time_per_prediction  \n",
       "model_0_naive_bayes                        0.000035  \n",
       "model_1_conv1d_token_embedding             0.005685  \n",
       "model_2_pretrained_token                   0.015206  \n",
       "model_3_conv1d_char_embedding              0.010826  \n",
       "model_4_pretrained_token_char              0.086685  \n",
       "model_5_token_char_positional              0.086688  "
      ]
     },
     "execution_count": 131,
     "metadata": {},
     "output_type": "execute_result"
    }
   ],
   "source": [
    "performance_results_df = performance_toolbox.model.generate_performance_dataframe(model_performances)\n",
    "performance_results_df"
   ]
  },
  {
   "cell_type": "code",
   "execution_count": 132,
   "id": "K6uldOiZ-wtm",
   "metadata": {
    "colab": {
     "base_uri": "https://localhost:8080/",
     "height": 852
    },
    "id": "K6uldOiZ-wtm",
    "outputId": "c1103782-06cc-4eec-a09f-74f8230ec0d9"
   },
   "outputs": [
    {
     "data": {
      "text/plain": [
       "<Axes: >"
      ]
     },
     "execution_count": 132,
     "metadata": {},
     "output_type": "execute_result"
    },
    {
     "data": {
      "image/png": "[encoded data removed]",
      "text/plain": [
       "<Figure size 1000x700 with 1 Axes>"
      ]
     },
     "metadata": {},
     "output_type": "display_data"
    }
   ],
   "source": [
    "performance_results_df['time_per_prediction'].plot(kind='bar', figsize=(10, 7))"
   ]
  },
  {
   "cell_type": "markdown",
   "id": "AXHTrZFNviFN",
   "metadata": {
    "id": "AXHTrZFNviFN"
   },
   "source": [
    "#### Findings\n",
    "After evaluating the model metrics, it looks like model_5 outperformed all other models in terms of prediction metrics. In terms of performance metrics, model_5 was significantly less performant than model_1 and the baseline (model_0)."
   ]
  },
  {
   "cell_type": "markdown",
   "id": "DzK_x9qlvybY",
   "metadata": {
    "id": "DzK_x9qlvybY"
   },
   "source": [
    "## Exporting Model\n",
    "\n",
    "Now that I have identified the top performing model, I want to export it from google colab for reuse."
   ]
  },
  {
   "cell_type": "code",
   "execution_count": null,
   "id": "CAcJ4ZYexxy6",
   "metadata": {
    "id": "CAcJ4ZYexxy6"
   },
   "outputs": [],
   "source": [
    "model_5_filepath = './models/skimlit_tribrid_model'"
   ]
  },
  {
   "cell_type": "code",
   "execution_count": null,
   "id": "Uao-7XpnvwU8",
   "metadata": {
    "colab": {
     "base_uri": "https://localhost:8080/"
    },
    "id": "Uao-7XpnvwU8",
    "outputId": "a29ee38a-5eea-4380-d87f-1b39cf7a4b9d"
   },
   "outputs": [
    {
     "name": "stderr",
     "output_type": "stream",
     "text": [
      "WARNING:absl:Found untraced functions such as lstm_cell_10_layer_call_fn, lstm_cell_10_layer_call_and_return_conditional_losses, lstm_cell_11_layer_call_fn, lstm_cell_11_layer_call_and_return_conditional_losses while saving (showing 4 of 4). These functions will not be directly callable after loading.\n"
     ]
    }
   ],
   "source": [
    "model_5.save(model_5_filepath)"
   ]
  },
  {
   "cell_type": "code",
   "execution_count": null,
   "id": "n-r7ldxhwJr-",
   "metadata": {
    "id": "n-r7ldxhwJr-"
   },
   "outputs": [],
   "source": [
    "# Verifying export works as expected\n",
    "loaded_model = tf.keras.models.load_model(model_5_filepath)"
   ]
  },
  {
   "cell_type": "code",
   "execution_count": null,
   "id": "WD4DocdCwjRo",
   "metadata": {
    "colab": {
     "base_uri": "https://localhost:8080/"
    },
    "id": "WD4DocdCwjRo",
    "outputId": "5e490a6a-109e-47f4-c815-ee0e678182e5"
   },
   "outputs": [
    {
     "name": "stdout",
     "output_type": "stream",
     "text": [
      "945/945 [==============================] - 23s 21ms/step\n"
     ]
    }
   ],
   "source": [
    "# Verifying model_5 and loaded_model are equivalent\n",
    "loaded_pred_probs = loaded_model.predict(val_token_character_position_dataset)\n",
    "loaded_preds = tf.argmax(loaded_pred_probs, axis=1)\n",
    "loaded_model_results = ml_toolbox.analysis.classification.generate_prediction_metrics(val_labels_encoded, loaded_preds)"
   ]
  },
  {
   "cell_type": "code",
   "execution_count": null,
   "id": "sF5Zg76cw_f5",
   "metadata": {
    "colab": {
     "base_uri": "https://localhost:8080/"
    },
    "id": "sF5Zg76cw_f5",
    "outputId": "2e312d54-0736-4446-bcef-c6b4a2f938b8"
   },
   "outputs": [
    {
     "data": {
      "text/plain": [
       "(PredictionMetrics(accuracy=0.8336422613531047, precision=0.8332316379428193, recall=0.8336422613531047, f1=0.8324579099972697),\n",
       " PredictionMetrics(accuracy=0.8336422613531047, precision=0.8332316379428193, recall=0.8336422613531047, f1=0.8324579099972697))"
      ]
     },
     "execution_count": 160,
     "metadata": {},
     "output_type": "execute_result"
    }
   ],
   "source": [
    "loaded_model_results, model_5_results"
   ]
  },
  {
   "cell_type": "markdown",
   "id": "woJLO3lQxMf4",
   "metadata": {
    "id": "woJLO3lQxMf4"
   },
   "source": [
    "#### Findings\n",
    "\n",
    "After saving the model, then loading it back in and comparing against the original model, the performance is exactly the same. This confirms the export worked as expected."
   ]
  }
 ],
 "metadata": {
  "colab": {
   "collapsed_sections": [
    "5c597747-5831-4275-8b43-cb7b5139d5ef",
    "e44d3f99-97bf-487f-82e4-f6f0f15f1a0d",
    "be9c0ea8-cfc0-4814-a927-814f259411d8",
    "70c02aee-097d-4902-9c60-28508a7c155b",
    "7a2ff113-3047-45e0-8df0-df8a0100d915",
    "433d6b0c-4f91-4771-8777-08ca73ccf19e",
    "Dlpq2ckn-mmi"
   ],
   "provenance": []
  },
  "kernelspec": {
   "display_name": "Python 3 (ipykernel)",
   "language": "python",
   "name": "python3"
  },
  "language_info": {
   "codemirror_mode": {
    "name": "ipython",
    "version": 3
   },
   "file_extension": ".py",
   "mimetype": "text/x-python",
   "name": "python",
   "nbconvert_exporter": "python",
   "pygments_lexer": "ipython3",
   "version": "3.9.6"
  }
 },
 "nbformat": 4,
 "nbformat_minor": 5
}
