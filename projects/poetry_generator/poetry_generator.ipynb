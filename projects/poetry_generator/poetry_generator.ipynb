{
 "cells": [
  {
   "cell_type": "markdown",
   "id": "c05344a9-7b13-445f-85f0-15155948c543",
   "metadata": {},
   "source": [
    "# Poetry Generator\n",
    "\n",
    "The purpose of this notebook is to explore the power of LLM and RNN models to generate poetry from using song lyrics as a dataset. The song datasets I plan to use come from a github repo that has various lyrics from many artists written in txt files.\n",
    "* https://github.com/laxmimerit/poetry-data\n",
    "\n",
    "### Resources\n",
    "This has been done before, and the article below touches on how it was done for a reference.\n",
    "\n",
    "* https://kgptalkie.medium.com/poetry-generation-using-tensorflow-keras-and-lstm-75c4e4b7f07e\n",
    "* https://www.kaggle.com/code/paultimothymooney/poetry-generator-rnn-markov/notebook\n",
    "* https://www.kaggle.com/code/shivamb/beginners-guide-to-text-generation-using-lstms\n",
    "* https://www.tensorflow.org/text/tutorials/text_generation"
   ]
  },
  {
   "cell_type": "markdown",
   "id": "481f64b5-005a-4ffd-8c24-224e800cfc93",
   "metadata": {
    "jp-MarkdownHeadingCollapsed": true
   },
   "source": [
    "## Setup\n",
    "\n",
    "Need to figure out if I'm on google colab or on local. This will determine which commands need to be ran and how to setup the CPU/GPU being used.\n",
    "\n",
    "Additionally, if on google colab, then I will need to install my personal repository, [py-learning-toolbox](https://github.com/bkubick/py-learning-toolbox) as a package."
   ]
  },
  {
   "cell_type": "code",
   "execution_count": 2,
   "id": "6ddf659a-27d5-47b1-94e8-a628023a380f",
   "metadata": {},
   "outputs": [
    {
     "data": {
      "text/plain": [
       "False"
      ]
     },
     "execution_count": 2,
     "metadata": {},
     "output_type": "execute_result"
    }
   ],
   "source": [
    "# Determining if on google colab\n",
    "try:\n",
    "  from google import colab\n",
    "  on_colab = True\n",
    "except Exception:\n",
    "  on_colab = False\n",
    "\n",
    "on_colab"
   ]
  },
  {
   "cell_type": "code",
   "execution_count": 3,
   "id": "11a7855e-e3c7-4f1d-a1fe-972a48a87584",
   "metadata": {},
   "outputs": [],
   "source": [
    "# Installing my personal repo that contains all my utils as a package\n",
    "if on_colab:\n",
    "  !nvidia-smi -L\n",
    "  !pip install py-learning-toolbox@git+https://github.com/bkubick/py-learning-toolbox.git\n",
    "  !pltb_setup_project ."
   ]
  },
  {
   "cell_type": "markdown",
   "id": "c93c900a-9586-4525-858d-044fa6ca098a",
   "metadata": {
    "jp-MarkdownHeadingCollapsed": true
   },
   "source": [
    "## Imports"
   ]
  },
  {
   "cell_type": "code",
   "execution_count": 4,
   "id": "dc6eec88-04f6-4d39-acd1-aa7822ee0ce8",
   "metadata": {},
   "outputs": [],
   "source": [
    "import datetime\n",
    "import logging\n",
    "import random\n",
    "import re\n",
    "import string\n",
    "import sys\n",
    "import typing\n",
    "\n",
    "import matplotlib.pyplot as plt\n",
    "import numpy as np\n",
    "import pandas as pd\n",
    "from py_learning_toolbox import ml_toolbox\n",
    "from py_learning_toolbox import data_toolbox\n",
    "from py_learning_toolbox import performance_toolbox\n",
    "from sklearn.preprocessing import OneHotEncoder\n",
    "import tensorflow as tf\n",
    "import tensorflow_hub as hub"
   ]
  },
  {
   "cell_type": "markdown",
   "id": "dcdb7ed6-51f6-46a8-a026-a2e195840d6a",
   "metadata": {
    "jp-MarkdownHeadingCollapsed": true
   },
   "source": [
    "## Environment\n",
    "\n",
    "Setting up the environment and analyzing the various information associated with this notebook."
   ]
  },
  {
   "cell_type": "code",
   "execution_count": 5,
   "id": "61143c16-9d7a-47e5-85bc-135f7659eafb",
   "metadata": {},
   "outputs": [
    {
     "name": "stdout",
     "output_type": "stream",
     "text": [
      "Notebook last run (end-to-end): 2023-10-02 19:53:11.231725\n"
     ]
    }
   ],
   "source": [
    "print(f'Notebook last run (end-to-end): {datetime.datetime.now()}')"
   ]
  },
  {
   "cell_type": "code",
   "execution_count": 6,
   "id": "d42a845b-3760-4fd3-b77e-c656282a6c63",
   "metadata": {},
   "outputs": [
    {
     "data": {
      "text/plain": [
       "'2.13.0'"
      ]
     },
     "execution_count": 6,
     "metadata": {},
     "output_type": "execute_result"
    }
   ],
   "source": [
    "tf.__version__"
   ]
  },
  {
   "cell_type": "code",
   "execution_count": 7,
   "id": "8bbb5dc0-57c1-4d25-b94d-7b20299f3c9f",
   "metadata": {},
   "outputs": [
    {
     "data": {
      "text/plain": [
       "[PhysicalDevice(name='/physical_device:CPU:0', device_type='CPU')]"
      ]
     },
     "execution_count": 7,
     "metadata": {},
     "output_type": "execute_result"
    }
   ],
   "source": [
    "tf.config.list_physical_devices()"
   ]
  },
  {
   "cell_type": "code",
   "execution_count": 8,
   "id": "5337d1b6-7a16-4685-958d-2bb9610b3831",
   "metadata": {},
   "outputs": [],
   "source": [
    "# Setting up logging\n",
    "logging.basicConfig(stream=sys.stdout, level=logging.INFO)"
   ]
  },
  {
   "cell_type": "markdown",
   "id": "7f335939-d938-4237-b157-e2521115b38b",
   "metadata": {
    "jp-MarkdownHeadingCollapsed": true
   },
   "source": [
    "## Global Constants"
   ]
  },
  {
   "cell_type": "code",
   "execution_count": 9,
   "id": "bdf3cad4-eb72-47ca-b49d-6abcb99d021f",
   "metadata": {},
   "outputs": [],
   "source": [
    "RANDOM_SEED = 27"
   ]
  },
  {
   "cell_type": "markdown",
   "id": "a2955707-6871-41f4-963a-935777efa52d",
   "metadata": {
    "jp-MarkdownHeadingCollapsed": true
   },
   "source": [
    "## Helpers\n",
    "Defining helper functions to make split certain functionality out of tasks."
   ]
  },
  {
   "cell_type": "code",
   "execution_count": 10,
   "id": "2f7c1ef1-1009-40a3-84ae-96581ff186d5",
   "metadata": {},
   "outputs": [],
   "source": [
    "def download_preprocess_and_structure_data(url_by_artist: typing.Dict[str, str]) -> pd.DataFrame:\n",
    "    \"\"\" Downloads and structures the data into a pandas DF.\n",
    "\n",
    "        Args:\n",
    "            url_by_artist (Dict[str, str]): the url to grab data from for the corresponding artist.\n",
    "\n",
    "        Returns:\n",
    "            (DataFrame) the corresponding structured dataframe.\n",
    "    \"\"\"\n",
    "    all_data = []\n",
    "    pattern = re.compile(r'\\s+')\n",
    "\n",
    "    for artist in url_by_artist:\n",
    "        sentences = data_toolbox.read_txt_file_from_url(url_by_artist[artist], delimiter='\\n')\n",
    "\n",
    "        for sentence in sentences:\n",
    "            cleaned_sentence = ml_toolbox.preprocessing.language.clean_text(sentence)\n",
    "\n",
    "            if len(cleaned_sentence) > 0:\n",
    "                all_data.append({'artist': artist, 'sentence': cleaned_sentence})\n",
    "\n",
    "    return pd.DataFrame(all_data)"
   ]
  },
  {
   "cell_type": "code",
   "execution_count": 13,
   "id": "28b35887-bc18-4713-9096-b6d46dd60408",
   "metadata": {},
   "outputs": [],
   "source": [
    "def generate_text(seed_text: str,\n",
    "                  num_words_to_create: int,\n",
    "                  model: tf.keras.models.Model,\n",
    "                  one_hot: OneHotEncoder) -> str:\n",
    "    \"\"\" Generates a sentence from the seed text with the designated model and encoder mapper.\n",
    "\n",
    "        Args:\n",
    "            seed_text (str): the starting text for the sentence to be generated.\n",
    "            num_words_to_create (int): how many words to add.\n",
    "            model (Model): the model to use to generate the text.\n",
    "            one_hot (OneHotEncoder): the encoder used with the model to convert numerical indices to text.\n",
    "\n",
    "        Returns:\n",
    "            (str) the generated text.\n",
    "    \"\"\"\n",
    "    generated_text = seed_text\n",
    "\n",
    "    for _ in range(num_words_to_create):\n",
    "        pred_probs = model.predict([generated_text], verbose=0)\n",
    "        pred_word_index = tf.argmax(pred_probs, axis=1)[0]\n",
    "        pred_probs[0][pred_word_index] = 1  # Due to the size of the word list, rounding doesn't always gurantee a selected word\n",
    "        pred_vector = tf.round(pred_probs)\n",
    "        predicted_word = str(one_hot_encoder.inverse_transform(pred_vector)[0][0], encoding='utf-8')\n",
    "        generated_text += f' {predicted_word}'\n",
    "\n",
    "    return generated_text"
   ]
  },
  {
   "cell_type": "markdown",
   "id": "99110f8f-816f-400c-b558-8b0cda3cec2c",
   "metadata": {},
   "source": [
    "## Downloading, Analyzing, & Creating Datasets\n",
    "\n",
    "The data I plan to use comes directly from the raw txt file from the links below.\n",
    "\n",
    "* https://github.com/laxmimerit/poetry-data\n",
    "\n",
    "For this notebook, I am going to limit my datasets to the following artists:\n",
    "\n",
    "* [The Beatles](https://raw.githubusercontent.com/laxmimerit/poetry-data/master/beatles.txt)\n",
    "* [Adele](https://raw.githubusercontent.com/laxmimerit/poetry-data/master/adele.txt)\n",
    "* [Bob Dylan](https://raw.githubusercontent.com/laxmimerit/poetry-data/master/bob-dylan.txt)\n",
    "* [Disney](https://raw.githubusercontent.com/laxmimerit/poetry-data/master/disney.txt)\n",
    "* [Drake](https://raw.githubusercontent.com/laxmimerit/poetry-data/master/drake.txt)\n",
    "* [Dr. Seuss](https://raw.githubusercontent.com/laxmimerit/poetry-data/master/dr-seuss.txt)"
   ]
  },
  {
   "cell_type": "markdown",
   "id": "319351a2-b334-4148-9143-d46a248bf806",
   "metadata": {
    "jp-MarkdownHeadingCollapsed": true
   },
   "source": [
    "### Constants"
   ]
  },
  {
   "cell_type": "code",
   "execution_count": 14,
   "id": "4440d62b-759b-4b95-8f29-0001e4f723b7",
   "metadata": {},
   "outputs": [],
   "source": [
    "DATA_URLS = {\n",
    "    'beatles': 'https://raw.githubusercontent.com/laxmimerit/poetry-data/master/beatles.txt',\n",
    "    'adele': 'https://raw.githubusercontent.com/laxmimerit/poetry-data/master/adele.txt',\n",
    "    'bob_dylan': 'https://raw.githubusercontent.com/laxmimerit/poetry-data/master/bob-dylan.txt',\n",
    "    # 'disney': 'https://raw.githubusercontent.com/laxmimerit/poetry-data/master/disney.txt',\n",
    "    # 'drake': 'https://raw.githubusercontent.com/laxmimerit/poetry-data/master/drake.txt',\n",
    "    # 'dr_seuss': 'https://raw.githubusercontent.com/laxmimerit/poetry-data/master/dr-seuss.txt',\n",
    "}"
   ]
  },
  {
   "cell_type": "markdown",
   "id": "d17c71d7-0254-4dca-ba4b-deffd9aa20f2",
   "metadata": {
    "jp-MarkdownHeadingCollapsed": true
   },
   "source": [
    "### Downloading & Analyzing Data"
   ]
  },
  {
   "cell_type": "code",
   "execution_count": 15,
   "id": "4ca41766-94bf-4a2d-90aa-0e03d2f1c3a9",
   "metadata": {},
   "outputs": [
    {
     "data": {
      "text/html": [
       "<div>\n",
       "<style scoped>\n",
       "    .dataframe tbody tr th:only-of-type {\n",
       "        vertical-align: middle;\n",
       "    }\n",
       "\n",
       "    .dataframe tbody tr th {\n",
       "        vertical-align: top;\n",
       "    }\n",
       "\n",
       "    .dataframe thead th {\n",
       "        text-align: right;\n",
       "    }\n",
       "</style>\n",
       "<table border=\"1\" class=\"dataframe\">\n",
       "  <thead>\n",
       "    <tr style=\"text-align: right;\">\n",
       "      <th></th>\n",
       "      <th>artist</th>\n",
       "      <th>sentence</th>\n",
       "    </tr>\n",
       "  </thead>\n",
       "  <tbody>\n",
       "    <tr>\n",
       "      <th>0</th>\n",
       "      <td>beatles</td>\n",
       "      <td>yesterday all my troubles seemed so far away</td>\n",
       "    </tr>\n",
       "    <tr>\n",
       "      <th>1</th>\n",
       "      <td>beatles</td>\n",
       "      <td>now it looks as though theyre here to stay</td>\n",
       "    </tr>\n",
       "    <tr>\n",
       "      <th>2</th>\n",
       "      <td>beatles</td>\n",
       "      <td>oh i believe in yesterday suddenly im not half...</td>\n",
       "    </tr>\n",
       "    <tr>\n",
       "      <th>3</th>\n",
       "      <td>beatles</td>\n",
       "      <td>theres a shadow hanging over me</td>\n",
       "    </tr>\n",
       "    <tr>\n",
       "      <th>4</th>\n",
       "      <td>beatles</td>\n",
       "      <td>oh yesterday came suddenly why she had to go i...</td>\n",
       "    </tr>\n",
       "    <tr>\n",
       "      <th>...</th>\n",
       "      <td>...</td>\n",
       "      <td>...</td>\n",
       "    </tr>\n",
       "    <tr>\n",
       "      <th>9454</th>\n",
       "      <td>bob_dylan</td>\n",
       "      <td>shine your light shine your light on me</td>\n",
       "    </tr>\n",
       "    <tr>\n",
       "      <th>9455</th>\n",
       "      <td>bob_dylan</td>\n",
       "      <td>shine your light shine your light on me</td>\n",
       "    </tr>\n",
       "    <tr>\n",
       "      <th>9456</th>\n",
       "      <td>bob_dylan</td>\n",
       "      <td>shine your light shine your light on me</td>\n",
       "    </tr>\n",
       "    <tr>\n",
       "      <th>9457</th>\n",
       "      <td>bob_dylan</td>\n",
       "      <td>ya know i just couldn’t make it by myself</td>\n",
       "    </tr>\n",
       "    <tr>\n",
       "      <th>9458</th>\n",
       "      <td>bob_dylan</td>\n",
       "      <td>i’m a little too blind to see</td>\n",
       "    </tr>\n",
       "  </tbody>\n",
       "</table>\n",
       "<p>9459 rows × 2 columns</p>\n",
       "</div>"
      ],
      "text/plain": [
       "         artist                                           sentence\n",
       "0       beatles       yesterday all my troubles seemed so far away\n",
       "1       beatles         now it looks as though theyre here to stay\n",
       "2       beatles  oh i believe in yesterday suddenly im not half...\n",
       "3       beatles                    theres a shadow hanging over me\n",
       "4       beatles  oh yesterday came suddenly why she had to go i...\n",
       "...         ...                                                ...\n",
       "9454  bob_dylan            shine your light shine your light on me\n",
       "9455  bob_dylan            shine your light shine your light on me\n",
       "9456  bob_dylan            shine your light shine your light on me\n",
       "9457  bob_dylan          ya know i just couldn’t make it by myself\n",
       "9458  bob_dylan                      i’m a little too blind to see\n",
       "\n",
       "[9459 rows x 2 columns]"
      ]
     },
     "execution_count": 15,
     "metadata": {},
     "output_type": "execute_result"
    }
   ],
   "source": [
    "data_df = download_preprocess_and_structure_data(DATA_URLS)\n",
    "data_df"
   ]
  },
  {
   "cell_type": "code",
   "execution_count": 16,
   "id": "f95e7d6b-2d64-4e10-aa8b-33b4bf51bf61",
   "metadata": {},
   "outputs": [
    {
     "data": {
      "text/plain": [
       "<tf.Tensor: shape=(5,), dtype=string, numpy=\n",
       "array([b'yesterday all my troubles seemed so far away',\n",
       "       b'now it looks as though theyre here to stay',\n",
       "       b'oh i believe in yesterday suddenly im not half the man i used to be',\n",
       "       b'theres a shadow hanging over me',\n",
       "       b'oh yesterday came suddenly why she had to go i dont know she wouldnt say'],\n",
       "      dtype=object)>"
      ]
     },
     "execution_count": 16,
     "metadata": {},
     "output_type": "execute_result"
    }
   ],
   "source": [
    "data = tf.convert_to_tensor(data_df.sentence.to_numpy())\n",
    "data[:5]"
   ]
  },
  {
   "cell_type": "code",
   "execution_count": 17,
   "id": "8b506463-97f5-4b5b-8a76-f285fc521070",
   "metadata": {},
   "outputs": [
    {
     "data": {
      "text/plain": [
       "5683"
      ]
     },
     "execution_count": 17,
     "metadata": {},
     "output_type": "execute_result"
    }
   ],
   "source": [
    "# Seeing the vocab\n",
    "word_counts = ml_toolbox.analysis.language.get_word_counts(data)\n",
    "\n",
    "len(word_counts)"
   ]
  },
  {
   "cell_type": "code",
   "execution_count": 18,
   "id": "36365d10-9fae-43c0-b9cf-42489032dd64",
   "metadata": {},
   "outputs": [
    {
     "data": {
      "image/png": "[encoded data removed]",
      "text/plain": [
       "<Figure size 800x500 with 1 Axes>"
      ]
     },
     "metadata": {},
     "output_type": "display_data"
    }
   ],
   "source": [
    "ml_toolbox.analysis.language.plot_words_counts(word_counts, most_common=True, n=30)"
   ]
  },
  {
   "cell_type": "markdown",
   "id": "d4a006f3-3a10-41c1-97b9-9973f8e5054d",
   "metadata": {
    "jp-MarkdownHeadingCollapsed": true
   },
   "source": [
    "### Token Embeddings"
   ]
  },
  {
   "cell_type": "code",
   "execution_count": 19,
   "id": "e8e115a8-dac5-426c-bd67-b78c9130451d",
   "metadata": {},
   "outputs": [
    {
     "data": {
      "text/plain": [
       "8"
      ]
     },
     "execution_count": 19,
     "metadata": {},
     "output_type": "execute_result"
    }
   ],
   "source": [
    "# Find average number of tokens\n",
    "sent_lens = [len(i.split()) for i in data_df.sentence.to_numpy()]\n",
    "round(sum(sent_lens) / len(data))"
   ]
  },
  {
   "cell_type": "code",
   "execution_count": 20,
   "id": "73e8ed8c-8fd7-44f7-9593-d594b23a8ab1",
   "metadata": {},
   "outputs": [
    {
     "data": {
      "text/plain": [
       "34"
      ]
     },
     "execution_count": 20,
     "metadata": {},
     "output_type": "execute_result"
    }
   ],
   "source": [
    "max(sent_lens)"
   ]
  },
  {
   "cell_type": "code",
   "execution_count": 21,
   "id": "91b18d3e-abaa-4fe3-9a48-6fb90d3d1b70",
   "metadata": {},
   "outputs": [
    {
     "data": {
      "text/plain": [
       "16"
      ]
     },
     "execution_count": 21,
     "metadata": {},
     "output_type": "execute_result"
    }
   ],
   "source": [
    "# How long of a sentence covers 98% of the examples?\n",
    "int(np.percentile(sent_lens, 98))"
   ]
  },
  {
   "cell_type": "code",
   "execution_count": 23,
   "id": "0d0b7a27-1bce-4e7e-8199-19fbd21f9803",
   "metadata": {},
   "outputs": [],
   "source": [
    "# Setup text vectorization params\n",
    "max_vocab_length = 10000  # Max words to have in our vocab\n",
    "max_length = 16"
   ]
  },
  {
   "cell_type": "code",
   "execution_count": 24,
   "id": "8b8c34a0-3cc0-4861-a5c2-523842b08f4a",
   "metadata": {},
   "outputs": [],
   "source": [
    "# Setting up a text vectorization layer (tokenization)\n",
    "text_vectorizer = tf.keras.layers.experimental.preprocessing.TextVectorization(\n",
    "    max_tokens=max_vocab_length,  # How many words in the vocabulary\n",
    "    output_sequence_length=max_length)  # Padds (adds 0's to end of number) to make all the same length\n",
    "\n",
    "# Adapt the vectorizer to the training data\n",
    "text_vectorizer.adapt(data)"
   ]
  },
  {
   "cell_type": "code",
   "execution_count": 25,
   "id": "205d5b5c-b734-4546-96cb-2cfd7e137052",
   "metadata": {},
   "outputs": [
    {
     "data": {
      "text/plain": [
       "(5685,\n",
       " ['', '[UNK]', 'the', 'you', 'i'],\n",
       " ['abel', 'abeatin’', 'abandon', 'aaaaahhhhhhhhhh', '61”'])"
      ]
     },
     "execution_count": 25,
     "metadata": {},
     "output_type": "execute_result"
    }
   ],
   "source": [
    "# Getting the words in the vocab from the training data\n",
    "words_in_vocab = text_vectorizer.get_vocabulary()\n",
    "top_5_words = words_in_vocab[:5]\n",
    "least_common_5_words = words_in_vocab[-5:]\n",
    "\n",
    "len(words_in_vocab), top_5_words, least_common_5_words"
   ]
  },
  {
   "cell_type": "code",
   "execution_count": 26,
   "id": "77af8dac-b7fe-4734-a6fd-3c71d1b1f9c8",
   "metadata": {},
   "outputs": [
    {
     "data": {
      "text/plain": [
       "<keras.src.layers.core.embedding.Embedding at 0x28adbcbe0>"
      ]
     },
     "execution_count": 26,
     "metadata": {},
     "output_type": "execute_result"
    }
   ],
   "source": [
    "# Setting up the Embedding layer\n",
    "token_embedding = tf.keras.layers.Embedding(input_dim=len(words_in_vocab),\n",
    "                                            output_dim=128,  # GPU's work well when number is divisible by 8\n",
    "                                            mask_zero=True,\n",
    "                                            name='token_embedding')\n",
    "token_embedding"
   ]
  },
  {
   "cell_type": "code",
   "execution_count": 27,
   "id": "e7ddf5a6-43f3-411d-a438-841029e6b9bb",
   "metadata": {},
   "outputs": [
    {
     "name": "stdout",
     "output_type": "stream",
     "text": [
      "Sentence before vectorization: \n",
      " b'nobodys perfect'\n",
      "Sentence after vectorization: \n",
      " [[1481 1263    0    0    0    0    0    0    0    0    0    0    0    0\n",
      "     0    0]]\n",
      "Sentence after embedding: \n",
      " [[[ 0.03057278 -0.02003031  0.04700103 ...  0.04549963 -0.02336981\n",
      "   -0.02854913]\n",
      "  [ 0.03853912  0.02280879 -0.04097828 ...  0.02999124 -0.03025039\n",
      "   -0.0381246 ]\n",
      "  [ 0.00164742  0.00097617  0.00130212 ...  0.01946975 -0.00060182\n",
      "    0.04622016]\n",
      "  ...\n",
      "  [ 0.00164742  0.00097617  0.00130212 ...  0.01946975 -0.00060182\n",
      "    0.04622016]\n",
      "  [ 0.00164742  0.00097617  0.00130212 ...  0.01946975 -0.00060182\n",
      "    0.04622016]\n",
      "  [ 0.00164742  0.00097617  0.00130212 ...  0.01946975 -0.00060182\n",
      "    0.04622016]]]\n",
      "Embedded sentence shape: (1, 16, 128)\n"
     ]
    }
   ],
   "source": [
    "# Testing out an example sentence\n",
    "target_sentence = random.choice(data)\n",
    "\n",
    "# Looking at the steps of tokenization\n",
    "print(f'Sentence before vectorization: \\n {target_sentence}')\n",
    "vectorized_sentence = text_vectorizer([target_sentence])\n",
    "print(f'Sentence after vectorization: \\n {vectorized_sentence}')\n",
    "embedded_sentence = token_embedding(vectorized_sentence)\n",
    "print(f'Sentence after embedding: \\n {embedded_sentence}')\n",
    "print(f'Embedded sentence shape: {embedded_sentence.shape}')"
   ]
  },
  {
   "cell_type": "markdown",
   "id": "7df37e6f-c70a-482d-8aa0-2a29d0982a45",
   "metadata": {},
   "source": [
    "### Character Embeddings"
   ]
  },
  {
   "cell_type": "code",
   "execution_count": 40,
   "id": "35913df9-93d0-4fc5-9a5c-1213132883b6",
   "metadata": {},
   "outputs": [],
   "source": [
    "# TODO"
   ]
  },
  {
   "cell_type": "markdown",
   "id": "212d5cc7-2a7a-4d6c-8732-233ee287f2c8",
   "metadata": {
    "jp-MarkdownHeadingCollapsed": true
   },
   "source": [
    "### Creating Training Data"
   ]
  },
  {
   "cell_type": "code",
   "execution_count": 30,
   "id": "d2849411-1e8d-43e2-a691-07878a9fd10f",
   "metadata": {},
   "outputs": [
    {
     "data": {
      "text/plain": [
       "(<tf.Tensor: shape=(3,), dtype=string, numpy=array([b'yesterday', b'yesterday all', b'yesterday all my'], dtype=object)>,\n",
       " <tf.Tensor: shape=(3,), dtype=string, numpy=array([b'all', b'my', b'troubles'], dtype=object)>)"
      ]
     },
     "execution_count": 30,
     "metadata": {},
     "output_type": "execute_result"
    }
   ],
   "source": [
    "X, y = ml_toolbox.preprocessing.language.create_sequenced_data_labels_from_sentences(data_df.sentence.to_numpy())\n",
    "X[:3], y[:3]"
   ]
  },
  {
   "cell_type": "code",
   "execution_count": 31,
   "id": "3c94f280-4f1e-4be7-9132-e88f0f4d8da3",
   "metadata": {},
   "outputs": [],
   "source": [
    "one_hot_encoder = OneHotEncoder(sparse_output=False)\n",
    "one_hot_encoder.fit_transform(tf.reshape(text_vectorizer.get_vocabulary(), (-1,1)))\n",
    "\n",
    "y_one_hot_encoded = one_hot_encoder.transform(tf.reshape(y, (-1, 1)))"
   ]
  },
  {
   "cell_type": "code",
   "execution_count": 32,
   "id": "7059c7ff-2be3-4196-b5ee-672d11e7a43d",
   "metadata": {},
   "outputs": [
    {
     "data": {
      "text/plain": [
       "(62035, 5685)"
      ]
     },
     "execution_count": 32,
     "metadata": {},
     "output_type": "execute_result"
    }
   ],
   "source": [
    "y_one_hot_encoded.shape"
   ]
  },
  {
   "cell_type": "markdown",
   "id": "c9674fcb-b3f9-4c3c-aa15-37651c74a5c7",
   "metadata": {},
   "source": [
    "### Creating Datasets"
   ]
  },
  {
   "cell_type": "code",
   "execution_count": 33,
   "id": "3c913725-9182-496c-8480-a4ab2f5ce44e",
   "metadata": {},
   "outputs": [
    {
     "data": {
      "text/plain": [
       "<_PrefetchDataset element_spec=((TensorSpec(shape=(None,), dtype=tf.string, name=None),), TensorSpec(shape=(None, 5685), dtype=tf.float64, name=None))>"
      ]
     },
     "execution_count": 33,
     "metadata": {},
     "output_type": "execute_result"
    }
   ],
   "source": [
    "train_dataset = data_toolbox.datasets.generate_dataset_from_data([X], y_one_hot_encoded)\n",
    "train_dataset"
   ]
  },
  {
   "cell_type": "markdown",
   "id": "fdb2836f-e40c-44c8-bf61-78b75e937055",
   "metadata": {},
   "source": [
    "## Experiments\n",
    "\n",
    "I am going to run a handful of experiments to try and generate poems, as listed below:\n",
    "\n",
    "* Experiment-0 (Baseline): LSTM w/ Token Embeddings\n",
    "* Experiment-1: Universal Sentence Encoder w/ Token Embeddings\n",
    "* Experiment-2: Conv1D w/ Token Embeddings\n",
    "* Experiment-3: Bidirectional LSTM w/ Token Embeddings\n",
    "* Experiment-4: LSTM w/ Character Embeddings\n",
    "* Experiment-5: LSTM w/ Character Embeddings + Token Embeddings"
   ]
  },
  {
   "cell_type": "markdown",
   "id": "5ace91b0-0edf-4999-833a-2077347a05ab",
   "metadata": {
    "jp-MarkdownHeadingCollapsed": true
   },
   "source": [
    "### Constants"
   ]
  },
  {
   "cell_type": "code",
   "execution_count": 34,
   "id": "f887932c-f449-4778-be87-a4db0157d1f3",
   "metadata": {},
   "outputs": [],
   "source": [
    "TOTAL_WORDS = len(words_in_vocab)\n",
    "UNIVERSAL_SENTENCE_ENCODER_URL = 'https://tfhub.dev/google/universal-sentence-encoder/4'"
   ]
  },
  {
   "cell_type": "markdown",
   "id": "094c58d5-9765-4246-ab2b-7fe48b3d0a9f",
   "metadata": {
    "jp-MarkdownHeadingCollapsed": true
   },
   "source": [
    "### Experiment-0 (Baseline): LSTM with Token Embeddings\n",
    "\n",
    "For a baseline, going to use a very simple model with only a single LSTM layer."
   ]
  },
  {
   "cell_type": "code",
   "execution_count": 35,
   "id": "4c29f9d2-2fb8-4d9b-bc67-bce28b435df6",
   "metadata": {},
   "outputs": [],
   "source": [
    "# Constants\n",
    "model_0_name = 'model_0_simple_lstm'"
   ]
  },
  {
   "cell_type": "code",
   "execution_count": 36,
   "id": "f5981246-3836-4425-ad0a-c30188783592",
   "metadata": {},
   "outputs": [
    {
     "name": "stdout",
     "output_type": "stream",
     "text": [
      "Model: \"model_0_simple_lstm\"\n",
      "_________________________________________________________________\n",
      " Layer (type)                Output Shape              Param #   \n",
      "=================================================================\n",
      " input_1 (InputLayer)        [(None, 1)]               0         \n",
      "                                                                 \n",
      " text_vectorization (TextVe  (None, 16)                0         \n",
      " ctorization)                                                    \n",
      "                                                                 \n",
      " token_embedding (Embedding  (None, 16, 128)           727680    \n",
      " )                                                               \n",
      "                                                                 \n",
      " lstm (LSTM)                 (None, 64)                49408     \n",
      "                                                                 \n",
      " dense (Dense)               (None, 5685)              369525    \n",
      "                                                                 \n",
      "=================================================================\n",
      "Total params: 1146613 (4.37 MB)\n",
      "Trainable params: 1146613 (4.37 MB)\n",
      "Non-trainable params: 0 (0.00 Byte)\n",
      "_________________________________________________________________\n"
     ]
    }
   ],
   "source": [
    "inputs = tf.keras.layers.Input(shape=(1,), dtype=tf.string)\n",
    "\n",
    "x = text_vectorizer(inputs)  # Turn the input text into numbers\n",
    "x = token_embedding(x)  # Embed the text\n",
    "x = tf.keras.layers.LSTM(64)(x)\n",
    "\n",
    "outputs = tf.keras.layers.Dense(TOTAL_WORDS, activation='softmax')(x)\n",
    "\n",
    "model_0 = tf.keras.models.Model(inputs, outputs, name=model_0_name)\n",
    "model_0.summary()"
   ]
  },
  {
   "cell_type": "code",
   "execution_count": 37,
   "id": "1a1a8e93-2f98-4a01-a202-a33c4bbb6e72",
   "metadata": {},
   "outputs": [],
   "source": [
    "model_0.compile(loss='categorical_crossentropy',\n",
    "                optimizer=tf.keras.optimizers.legacy.Adam(),\n",
    "                metrics=['accuracy'])"
   ]
  },
  {
   "cell_type": "code",
   "execution_count": 38,
   "id": "0581060c-9a75-410a-bf3d-e7182a32e20d",
   "metadata": {},
   "outputs": [
    {
     "name": "stdout",
     "output_type": "stream",
     "text": [
      "Epoch 1/10\n",
      "1939/1939 [==============================] - 24s 12ms/step - loss: 6.6966 - accuracy: 0.0472\n",
      "Epoch 2/10\n",
      "1939/1939 [==============================] - 23s 12ms/step - loss: 6.0394 - accuracy: 0.0638\n",
      "Epoch 3/10\n",
      "1939/1939 [==============================] - 24s 13ms/step - loss: 5.5929 - accuracy: 0.0888\n",
      "Epoch 4/10\n",
      "1939/1939 [==============================] - 24s 12ms/step - loss: 5.2459 - accuracy: 0.1140\n",
      "Epoch 5/10\n",
      "1939/1939 [==============================] - 23s 12ms/step - loss: 4.9357 - accuracy: 0.1380\n",
      "Epoch 6/10\n",
      "1939/1939 [==============================] - 22s 12ms/step - loss: 4.6571 - accuracy: 0.1651\n",
      "Epoch 7/10\n",
      "1939/1939 [==============================] - 23s 12ms/step - loss: 4.4003 - accuracy: 0.1929\n",
      "Epoch 8/10\n",
      "1939/1939 [==============================] - 23s 12ms/step - loss: 4.1682 - accuracy: 0.2207\n",
      "Epoch 9/10\n",
      "1939/1939 [==============================] - 23s 12ms/step - loss: 3.9550 - accuracy: 0.2484\n",
      "Epoch 10/10\n",
      "1939/1939 [==============================] - 23s 12ms/step - loss: 3.7597 - accuracy: 0.2798\n"
     ]
    },
    {
     "data": {
      "text/plain": [
       "<keras.src.callbacks.History at 0x28b2cd8b0>"
      ]
     },
     "execution_count": 38,
     "metadata": {},
     "output_type": "execute_result"
    }
   ],
   "source": [
    "model_0.fit(train_dataset, epochs=10)"
   ]
  },
  {
   "cell_type": "code",
   "execution_count": 39,
   "id": "5b74a44d-d55e-4656-85de-851454288262",
   "metadata": {},
   "outputs": [
    {
     "name": "stdout",
     "output_type": "stream",
     "text": [
      "Love is true love you love you love you love you\n",
      "Tomorrow comes from the streets child of clay on the\n",
      "Yesterday we could have heard me to be the way\n",
      "But today is brief and i need a shot of\n"
     ]
    }
   ],
   "source": [
    "print(generate_text('Love is true', 8, model_0, one_hot_encoder))\n",
    "print(generate_text('Tomorrow comes', 8, model_0, one_hot_encoder))\n",
    "print(generate_text('Yesterday we', 8, model_0, one_hot_encoder))\n",
    "print(generate_text('But today', 8, model_0, one_hot_encoder))"
   ]
  },
  {
   "cell_type": "markdown",
   "id": "509535cc-cce9-4770-a223-5805bdec8a37",
   "metadata": {
    "jp-MarkdownHeadingCollapsed": true
   },
   "source": [
    "### Experiment-1: Universal Sentence Encoder with Token Embeddings"
   ]
  },
  {
   "cell_type": "code",
   "execution_count": 33,
   "id": "472d8cdb-b09e-45df-bb29-9a54bb128cab",
   "metadata": {},
   "outputs": [],
   "source": [
    "# Constants\n",
    "model_1_name = 'model_1_use'"
   ]
  },
  {
   "cell_type": "code",
   "execution_count": 37,
   "id": "43ea5a51-5bff-4701-879b-d95423b9a42c",
   "metadata": {},
   "outputs": [
    {
     "name": "stdout",
     "output_type": "stream",
     "text": [
      "INFO:absl:Downloading TF-Hub Module 'https://tfhub.dev/google/universal-sentence-encoder/4'.\n",
      "INFO:absl:Downloading https://tfhub.dev/google/universal-sentence-encoder/4: 480.00MB\n",
      "INFO:absl:Downloading https://tfhub.dev/google/universal-sentence-encoder/4: 970.00MB\n",
      "INFO:absl:Downloaded https://tfhub.dev/google/universal-sentence-encoder/4, Total size: 987.47MB\n",
      "INFO:absl:Downloaded TF-Hub Module 'https://tfhub.dev/google/universal-sentence-encoder/4'.\n",
      "INFO:absl:Fingerprint not found. Saved model loading will continue.\n",
      "Model: \"model_1_use\"\n",
      "_________________________________________________________________\n",
      " Layer (type)                Output Shape              Param #   \n",
      "=================================================================\n",
      " input_4 (InputLayer)        [(None,)]                 0         \n",
      "                                                                 \n",
      " USE (KerasLayer)            (None, 512)               256797824 \n",
      "                                                                 \n",
      " dense_1 (Dense)             (None, 128)               65664     \n",
      "                                                                 \n",
      " dense_2 (Dense)             (None, 8798)              1134942   \n",
      "                                                                 \n",
      "=================================================================\n",
      "Total params: 257998430 (984.19 MB)\n",
      "Trainable params: 1200606 (4.58 MB)\n",
      "Non-trainable params: 256797824 (979.61 MB)\n",
      "_________________________________________________________________\n"
     ]
    }
   ],
   "source": [
    "# Build Model\n",
    "inputs = tf.keras.layers.Input(shape=[], dtype=tf.string)\n",
    "pretrained_embedding = hub.KerasLayer(UNIVERSAL_SENTENCE_ENCODER_URL,\n",
    "                                      trainable=False,\n",
    "                                      name='USE')(inputs)\n",
    "x = tf.keras.layers.Dense(128, activation='relu')(pretrained_embedding)\n",
    "outputs = tf.keras.layers.Dense(TOTAL_WORDS, activation='softmax')(x)\n",
    "\n",
    "model_1 = tf.keras.models.Model(inputs, outputs, name=model_1_name)\n",
    "model_1.summary()"
   ]
  },
  {
   "cell_type": "code",
   "execution_count": 38,
   "id": "f0ef2a1b-f473-4714-835d-20ee661d99b3",
   "metadata": {},
   "outputs": [],
   "source": [
    "model_1.compile(loss='categorical_crossentropy',\n",
    "                optimizer=tf.keras.optimizers.legacy.Adam(),\n",
    "                metrics=['accuracy'])"
   ]
  },
  {
   "cell_type": "code",
   "execution_count": 39,
   "id": "042960aa-82e7-4b90-9b30-331de012782b",
   "metadata": {},
   "outputs": [
    {
     "name": "stdout",
     "output_type": "stream",
     "text": [
      "Epoch 1/10\n",
      "3680/3680 [==============================] - 19s 5ms/step - loss: 6.6677 - accuracy: 0.0508\n",
      "Epoch 2/10\n",
      "3680/3680 [==============================] - 19s 5ms/step - loss: 5.9771 - accuracy: 0.0651\n",
      "Epoch 3/10\n",
      "3680/3680 [==============================] - 18s 5ms/step - loss: 5.5876 - accuracy: 0.0757\n",
      "Epoch 4/10\n",
      "3680/3680 [==============================] - 19s 5ms/step - loss: 5.2036 - accuracy: 0.0894\n",
      "Epoch 5/10\n",
      "3680/3680 [==============================] - 19s 5ms/step - loss: 4.8384 - accuracy: 0.1059\n",
      "Epoch 6/10\n",
      "3680/3680 [==============================] - 19s 5ms/step - loss: 4.5109 - accuracy: 0.1302\n",
      "Epoch 7/10\n",
      "3680/3680 [==============================] - 19s 5ms/step - loss: 4.2435 - accuracy: 0.1564\n",
      "Epoch 8/10\n",
      "3680/3680 [==============================] - 19s 5ms/step - loss: 4.0334 - accuracy: 0.1869\n",
      "Epoch 9/10\n",
      "3680/3680 [==============================] - 20s 5ms/step - loss: 3.8748 - accuracy: 0.2169\n",
      "Epoch 10/10\n",
      "3680/3680 [==============================] - 19s 5ms/step - loss: 3.7523 - accuracy: 0.2397\n"
     ]
    },
    {
     "data": {
      "text/plain": [
       "<keras.src.callbacks.History at 0x294706940>"
      ]
     },
     "execution_count": 39,
     "metadata": {},
     "output_type": "execute_result"
    }
   ],
   "source": [
    "model_1.fit(train_dataset, epochs=10)"
   ]
  },
  {
   "cell_type": "code",
   "execution_count": 40,
   "id": "3d335671-5459-418a-928d-b0f9fa140aa1",
   "metadata": {},
   "outputs": [
    {
     "name": "stdout",
     "output_type": "stream",
     "text": [
      "Love is true because you and you and you you and\n",
      "Tomorrow comes on this this is the the the the\n",
      "Yesterday we in in a a house clubs on party\n",
      "But today the wet in a cup in in the\n"
     ]
    }
   ],
   "source": [
    "print(generate_text('Love is true', 8, model_1, one_hot_encoder))\n",
    "print(generate_text('Tomorrow comes', 8, model_1, one_hot_encoder))\n",
    "print(generate_text('Yesterday we', 8, model_1, one_hot_encoder))\n",
    "print(generate_text('But today', 8, model_1, one_hot_encoder))"
   ]
  },
  {
   "cell_type": "markdown",
   "id": "fa642d95-08f2-4d53-947e-96467d9ffc33",
   "metadata": {},
   "source": [
    "### Experiment-2: Conv1D with Token Embeddings"
   ]
  },
  {
   "cell_type": "code",
   "execution_count": 43,
   "id": "1674ef3a-056c-4375-b41d-af43f886579c",
   "metadata": {},
   "outputs": [],
   "source": [
    "# Constants\n",
    "model_2_name = 'model_2_use_lstm'"
   ]
  },
  {
   "cell_type": "markdown",
   "id": "2770134f-002b-42b5-a7cc-5f32760058c1",
   "metadata": {},
   "source": [
    "### Experiment-3: Bidirectional LSTM with Token Embeddings"
   ]
  },
  {
   "cell_type": "code",
   "execution_count": null,
   "id": "7243a537-652c-4a9e-847d-64e3acc93e4d",
   "metadata": {},
   "outputs": [],
   "source": []
  },
  {
   "cell_type": "markdown",
   "id": "becee616-6a28-4c32-9954-6ab8044578e1",
   "metadata": {},
   "source": [
    "### Experiment-4: LSTM with Character Embeddings"
   ]
  },
  {
   "cell_type": "code",
   "execution_count": null,
   "id": "bc7f6d5e-6f07-4910-be2e-54410ab37648",
   "metadata": {},
   "outputs": [],
   "source": []
  },
  {
   "cell_type": "markdown",
   "id": "94d2d44d-099e-4adc-87ee-eb155e2b0d40",
   "metadata": {},
   "source": [
    "### Experiment-5: LSTM with Character Embeddings & Token Embeddings"
   ]
  },
  {
   "cell_type": "code",
   "execution_count": null,
   "id": "9f4406b9-4bd6-4e5a-8639-65c3f770ce48",
   "metadata": {},
   "outputs": [],
   "source": []
  }
 ],
 "metadata": {
  "kernelspec": {
   "display_name": "Python 3 (ipykernel)",
   "language": "python",
   "name": "python3"
  },
  "language_info": {
   "codemirror_mode": {
    "name": "ipython",
    "version": 3
   },
   "file_extension": ".py",
   "mimetype": "text/x-python",
   "name": "python",
   "nbconvert_exporter": "python",
   "pygments_lexer": "ipython3",
   "version": "3.9.6"
  }
 },
 "nbformat": 4,
 "nbformat_minor": 5
}
