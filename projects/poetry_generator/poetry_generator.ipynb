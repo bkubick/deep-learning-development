{
 "cells": [
  {
   "cell_type": "markdown",
   "id": "c05344a9-7b13-445f-85f0-15155948c543",
   "metadata": {},
   "source": [
    "# Poetry Generator\n",
    "\n",
    "The purpose of this notebook is to explore the power of LLM and RNN models to generate poetry from using song lyrics as a dataset. The song datasets I plan to use come from a github repo that has various lyrics from many artists written in txt files.\n",
    "* https://github.com/laxmimerit/poetry-data\n",
    "\n",
    "### Resources\n",
    "\n",
    "This has been done before. The articles are references that I used for this notebook.\n",
    "\n",
    "* https://kgptalkie.medium.com/poetry-generation-using-tensorflow-keras-and-lstm-75c4e4b7f07e\n",
    "* https://www.kaggle.com/code/paultimothymooney/poetry-generator-rnn-markov/notebook\n",
    "* https://www.kaggle.com/code/shivamb/beginners-guide-to-text-generation-using-lstms\n",
    "* https://www.tensorflow.org/text/tutorials/text_generation"
   ]
  },
  {
   "cell_type": "markdown",
   "id": "481f64b5-005a-4ffd-8c24-224e800cfc93",
   "metadata": {
    "jp-MarkdownHeadingCollapsed": true
   },
   "source": [
    "## Setup\n",
    "\n",
    "Need to figure out if I'm on google colab or on local. This will determine which commands need to be ran and how to setup the CPU/GPU being used.\n",
    "\n",
    "Additionally, if on google colab, then I will need to install my personal repository, [py-learning-toolbox](https://github.com/bkubick/py-learning-toolbox) as a package."
   ]
  },
  {
   "cell_type": "code",
   "execution_count": 1,
   "id": "6ddf659a-27d5-47b1-94e8-a628023a380f",
   "metadata": {},
   "outputs": [
    {
     "data": {
      "text/plain": [
       "False"
      ]
     },
     "execution_count": 1,
     "metadata": {},
     "output_type": "execute_result"
    }
   ],
   "source": [
    "# Determining if on google colab\n",
    "try:\n",
    "  from google import colab\n",
    "  on_colab = True\n",
    "except Exception:\n",
    "  on_colab = False\n",
    "\n",
    "on_colab"
   ]
  },
  {
   "cell_type": "code",
   "execution_count": 2,
   "id": "11a7855e-e3c7-4f1d-a1fe-972a48a87584",
   "metadata": {},
   "outputs": [],
   "source": [
    "# Installing my personal repo that contains all my utils as a package\n",
    "if on_colab:\n",
    "  !nvidia-smi -L\n",
    "  !pip install py-learning-toolbox@git+https://github.com/bkubick/py-learning-toolbox.git\n",
    "  !pltb_setup_project ."
   ]
  },
  {
   "cell_type": "markdown",
   "id": "c93c900a-9586-4525-858d-044fa6ca098a",
   "metadata": {
    "jp-MarkdownHeadingCollapsed": true
   },
   "source": [
    "## Imports"
   ]
  },
  {
   "cell_type": "code",
   "execution_count": 3,
   "id": "dc6eec88-04f6-4d39-acd1-aa7822ee0ce8",
   "metadata": {},
   "outputs": [],
   "source": [
    "import datetime\n",
    "import logging\n",
    "import random\n",
    "import re\n",
    "import string\n",
    "import sys\n",
    "import typing\n",
    "\n",
    "import matplotlib.pyplot as plt\n",
    "import numpy as np\n",
    "import pandas as pd\n",
    "from py_learning_toolbox import ml_toolbox\n",
    "from py_learning_toolbox import data_toolbox\n",
    "from py_learning_toolbox import performance_toolbox\n",
    "from sklearn.preprocessing import OneHotEncoder\n",
    "import tensorflow as tf\n",
    "import tensorflow_hub as hub"
   ]
  },
  {
   "cell_type": "markdown",
   "id": "dcdb7ed6-51f6-46a8-a026-a2e195840d6a",
   "metadata": {
    "jp-MarkdownHeadingCollapsed": true
   },
   "source": [
    "## Environment\n",
    "\n",
    "Setting up the environment and analyzing the various information associated with this notebook."
   ]
  },
  {
   "cell_type": "code",
   "execution_count": 4,
   "id": "61143c16-9d7a-47e5-85bc-135f7659eafb",
   "metadata": {},
   "outputs": [
    {
     "name": "stdout",
     "output_type": "stream",
     "text": [
      "Notebook last run (end-to-end): 2023-10-03 19:54:33.857291\n"
     ]
    }
   ],
   "source": [
    "print(f'Notebook last run (end-to-end): {datetime.datetime.now()}')"
   ]
  },
  {
   "cell_type": "code",
   "execution_count": 5,
   "id": "d42a845b-3760-4fd3-b77e-c656282a6c63",
   "metadata": {},
   "outputs": [
    {
     "data": {
      "text/plain": [
       "'2.13.0'"
      ]
     },
     "execution_count": 5,
     "metadata": {},
     "output_type": "execute_result"
    }
   ],
   "source": [
    "tf.__version__"
   ]
  },
  {
   "cell_type": "code",
   "execution_count": 6,
   "id": "8bbb5dc0-57c1-4d25-b94d-7b20299f3c9f",
   "metadata": {},
   "outputs": [
    {
     "data": {
      "text/plain": [
       "[PhysicalDevice(name='/physical_device:CPU:0', device_type='CPU')]"
      ]
     },
     "execution_count": 6,
     "metadata": {},
     "output_type": "execute_result"
    }
   ],
   "source": [
    "tf.config.list_physical_devices()"
   ]
  },
  {
   "cell_type": "code",
   "execution_count": 7,
   "id": "5337d1b6-7a16-4685-958d-2bb9610b3831",
   "metadata": {},
   "outputs": [],
   "source": [
    "# Setting up logging\n",
    "logging.basicConfig(stream=sys.stdout, level=logging.INFO)"
   ]
  },
  {
   "cell_type": "markdown",
   "id": "7f335939-d938-4237-b157-e2521115b38b",
   "metadata": {
    "jp-MarkdownHeadingCollapsed": true
   },
   "source": [
    "## Global Constants"
   ]
  },
  {
   "cell_type": "code",
   "execution_count": 8,
   "id": "bdf3cad4-eb72-47ca-b49d-6abcb99d021f",
   "metadata": {},
   "outputs": [],
   "source": [
    "RANDOM_SEED = 27"
   ]
  },
  {
   "cell_type": "markdown",
   "id": "a2955707-6871-41f4-963a-935777efa52d",
   "metadata": {
    "jp-MarkdownHeadingCollapsed": true
   },
   "source": [
    "## Helpers\n",
    "Defining helper functions to make split certain functionality out of tasks."
   ]
  },
  {
   "cell_type": "code",
   "execution_count": 9,
   "id": "2f7c1ef1-1009-40a3-84ae-96581ff186d5",
   "metadata": {},
   "outputs": [],
   "source": [
    "def download_preprocess_and_structure_data(url_by_artist: typing.Dict[str, str]) -> pd.DataFrame:\n",
    "    \"\"\" Downloads and structures the data into a pandas DF.\n",
    "\n",
    "        Args:\n",
    "            url_by_artist (Dict[str, str]): the url to grab data from for the corresponding artist.\n",
    "\n",
    "        Returns:\n",
    "            (DataFrame) the corresponding structured dataframe.\n",
    "    \"\"\"\n",
    "    all_data = []\n",
    "    pattern = re.compile(r'\\s+')\n",
    "\n",
    "    for artist in url_by_artist:\n",
    "        sentences = data_toolbox.read_txt_file_from_url(url_by_artist[artist], delimiter='\\n')\n",
    "\n",
    "        for sentence in sentences:\n",
    "            cleaned_sentence = ml_toolbox.preprocessing.language.clean_text(sentence)\n",
    "\n",
    "            if len(cleaned_sentence) > 0:\n",
    "                all_data.append({'artist': artist, 'sentence': cleaned_sentence})\n",
    "\n",
    "    return pd.DataFrame(all_data)"
   ]
  },
  {
   "cell_type": "code",
   "execution_count": 10,
   "id": "28b35887-bc18-4713-9096-b6d46dd60408",
   "metadata": {},
   "outputs": [],
   "source": [
    "def generate_text(seed_text: str,\n",
    "                  num_words_to_create: int,\n",
    "                  model: tf.keras.models.Model,\n",
    "                  one_hot: OneHotEncoder) -> str:\n",
    "    \"\"\" Generates a sentence from the seed text with the designated model and encoder mapper.\n",
    "\n",
    "        Args:\n",
    "            seed_text (str): the starting text for the sentence to be generated.\n",
    "            num_words_to_create (int): how many words to add.\n",
    "            model (Model): the model to use to generate the text.\n",
    "            one_hot (OneHotEncoder): the encoder used with the model to convert numerical indices to text.\n",
    "\n",
    "        Returns:\n",
    "            (str) the generated text.\n",
    "    \"\"\"\n",
    "    generated_text = seed_text\n",
    "\n",
    "    for _ in range(num_words_to_create):\n",
    "        # Token + Char Embedding Inputs\n",
    "        if len(model.inputs) == 2:\n",
    "            generated_chars = ' '.join(list(generated_text))\n",
    "            pred_probs = model.predict(x=[np.array([generated_text]), np.array([generated_chars])], verbose=0)\n",
    "        else:\n",
    "            pred_probs = model.predict([generated_text], verbose=0)\n",
    "        pred_word_index = tf.argmax(pred_probs, axis=1)[0]\n",
    "        pred_probs[0][pred_word_index] = 1  # Due to the size of the word list, rounding doesn't always gurantee a selected word\n",
    "        pred_vector = tf.round(pred_probs)\n",
    "        predicted_word = str(one_hot_encoder.inverse_transform(pred_vector)[0][0])\n",
    "        generated_text += f' {predicted_word}'\n",
    "\n",
    "    return generated_text"
   ]
  },
  {
   "cell_type": "code",
   "execution_count": 11,
   "id": "1dda256c-982f-4a39-ae4a-48ce5e48a6a9",
   "metadata": {},
   "outputs": [],
   "source": [
    "def generate_poem(seed_texts: typing.List[str],\n",
    "                  num_words_to_create: int,\n",
    "                  model: tf.keras.models.Model,\n",
    "                  one_hot: OneHotEncoder) -> str:\n",
    "    \"\"\" Generates a sentence from the seed texts with the designated model and encoder mapper.\n",
    "\n",
    "        Args:\n",
    "            seed_text (str): the starting text for the sentence to be generated.\n",
    "            num_words_to_create (int): how many words to add.\n",
    "            model (Model): the model to use to generate the text.\n",
    "            one_hot (OneHotEncoder): the encoder used with the model to convert numerical indices to text.\n",
    "\n",
    "        Returns:\n",
    "            (str) the generated text.\n",
    "    \"\"\"\n",
    "    for seed_text in seed_texts:\n",
    "        print(generate_text(seed_text, num_words_to_create, model, one_hot))"
   ]
  },
  {
   "cell_type": "markdown",
   "id": "99110f8f-816f-400c-b558-8b0cda3cec2c",
   "metadata": {
    "jp-MarkdownHeadingCollapsed": true
   },
   "source": [
    "## Downloading, Analyzing, & Creating Datasets\n",
    "\n",
    "The data I plan to use comes directly from the raw txt file from the links below.\n",
    "\n",
    "* https://github.com/laxmimerit/poetry-data\n",
    "\n",
    "For this notebook, I am going to limit my datasets to the following artists:\n",
    "\n",
    "* [The Beatles](https://raw.githubusercontent.com/laxmimerit/poetry-data/master/beatles.txt)\n",
    "* [Adele](https://raw.githubusercontent.com/laxmimerit/poetry-data/master/adele.txt)\n",
    "* [Bob Dylan](https://raw.githubusercontent.com/laxmimerit/poetry-data/master/bob-dylan.txt)\n",
    "* [Disney](https://raw.githubusercontent.com/laxmimerit/poetry-data/master/disney.txt)\n",
    "* [Drake](https://raw.githubusercontent.com/laxmimerit/poetry-data/master/drake.txt)\n",
    "* [Dr. Seuss](https://raw.githubusercontent.com/laxmimerit/poetry-data/master/dr-seuss.txt)"
   ]
  },
  {
   "cell_type": "markdown",
   "id": "319351a2-b334-4148-9143-d46a248bf806",
   "metadata": {
    "jp-MarkdownHeadingCollapsed": true
   },
   "source": [
    "### Constants"
   ]
  },
  {
   "cell_type": "code",
   "execution_count": 12,
   "id": "4440d62b-759b-4b95-8f29-0001e4f723b7",
   "metadata": {},
   "outputs": [],
   "source": [
    "DATA_URLS = {\n",
    "    'beatles': 'https://raw.githubusercontent.com/laxmimerit/poetry-data/master/beatles.txt',\n",
    "    'adele': 'https://raw.githubusercontent.com/laxmimerit/poetry-data/master/adele.txt',\n",
    "    'bob_dylan': 'https://raw.githubusercontent.com/laxmimerit/poetry-data/master/bob-dylan.txt',\n",
    "    # 'disney': 'https://raw.githubusercontent.com/laxmimerit/poetry-data/master/disney.txt',\n",
    "    # 'drake': 'https://raw.githubusercontent.com/laxmimerit/poetry-data/master/drake.txt',\n",
    "    # 'dr_seuss': 'https://raw.githubusercontent.com/laxmimerit/poetry-data/master/dr-seuss.txt',\n",
    "}"
   ]
  },
  {
   "cell_type": "markdown",
   "id": "d17c71d7-0254-4dca-ba4b-deffd9aa20f2",
   "metadata": {
    "jp-MarkdownHeadingCollapsed": true
   },
   "source": [
    "### Downloading & Analyzing Data"
   ]
  },
  {
   "cell_type": "code",
   "execution_count": 13,
   "id": "4ca41766-94bf-4a2d-90aa-0e03d2f1c3a9",
   "metadata": {},
   "outputs": [
    {
     "data": {
      "text/html": [
       "<div>\n",
       "<style scoped>\n",
       "    .dataframe tbody tr th:only-of-type {\n",
       "        vertical-align: middle;\n",
       "    }\n",
       "\n",
       "    .dataframe tbody tr th {\n",
       "        vertical-align: top;\n",
       "    }\n",
       "\n",
       "    .dataframe thead th {\n",
       "        text-align: right;\n",
       "    }\n",
       "</style>\n",
       "<table border=\"1\" class=\"dataframe\">\n",
       "  <thead>\n",
       "    <tr style=\"text-align: right;\">\n",
       "      <th></th>\n",
       "      <th>artist</th>\n",
       "      <th>sentence</th>\n",
       "    </tr>\n",
       "  </thead>\n",
       "  <tbody>\n",
       "    <tr>\n",
       "      <th>0</th>\n",
       "      <td>beatles</td>\n",
       "      <td>yesterday all my troubles seemed so far away</td>\n",
       "    </tr>\n",
       "    <tr>\n",
       "      <th>1</th>\n",
       "      <td>beatles</td>\n",
       "      <td>now it looks as though theyre here to stay</td>\n",
       "    </tr>\n",
       "    <tr>\n",
       "      <th>2</th>\n",
       "      <td>beatles</td>\n",
       "      <td>oh i believe in yesterday suddenly im not half...</td>\n",
       "    </tr>\n",
       "    <tr>\n",
       "      <th>3</th>\n",
       "      <td>beatles</td>\n",
       "      <td>theres a shadow hanging over me</td>\n",
       "    </tr>\n",
       "    <tr>\n",
       "      <th>4</th>\n",
       "      <td>beatles</td>\n",
       "      <td>oh yesterday came suddenly why she had to go i...</td>\n",
       "    </tr>\n",
       "    <tr>\n",
       "      <th>...</th>\n",
       "      <td>...</td>\n",
       "      <td>...</td>\n",
       "    </tr>\n",
       "    <tr>\n",
       "      <th>9454</th>\n",
       "      <td>bob_dylan</td>\n",
       "      <td>shine your light shine your light on me</td>\n",
       "    </tr>\n",
       "    <tr>\n",
       "      <th>9455</th>\n",
       "      <td>bob_dylan</td>\n",
       "      <td>shine your light shine your light on me</td>\n",
       "    </tr>\n",
       "    <tr>\n",
       "      <th>9456</th>\n",
       "      <td>bob_dylan</td>\n",
       "      <td>shine your light shine your light on me</td>\n",
       "    </tr>\n",
       "    <tr>\n",
       "      <th>9457</th>\n",
       "      <td>bob_dylan</td>\n",
       "      <td>ya know i just couldn’t make it by myself</td>\n",
       "    </tr>\n",
       "    <tr>\n",
       "      <th>9458</th>\n",
       "      <td>bob_dylan</td>\n",
       "      <td>i’m a little too blind to see</td>\n",
       "    </tr>\n",
       "  </tbody>\n",
       "</table>\n",
       "<p>9459 rows × 2 columns</p>\n",
       "</div>"
      ],
      "text/plain": [
       "         artist                                           sentence\n",
       "0       beatles       yesterday all my troubles seemed so far away\n",
       "1       beatles         now it looks as though theyre here to stay\n",
       "2       beatles  oh i believe in yesterday suddenly im not half...\n",
       "3       beatles                    theres a shadow hanging over me\n",
       "4       beatles  oh yesterday came suddenly why she had to go i...\n",
       "...         ...                                                ...\n",
       "9454  bob_dylan            shine your light shine your light on me\n",
       "9455  bob_dylan            shine your light shine your light on me\n",
       "9456  bob_dylan            shine your light shine your light on me\n",
       "9457  bob_dylan          ya know i just couldn’t make it by myself\n",
       "9458  bob_dylan                      i’m a little too blind to see\n",
       "\n",
       "[9459 rows x 2 columns]"
      ]
     },
     "execution_count": 13,
     "metadata": {},
     "output_type": "execute_result"
    }
   ],
   "source": [
    "data_df = download_preprocess_and_structure_data(DATA_URLS)\n",
    "data_df"
   ]
  },
  {
   "cell_type": "code",
   "execution_count": 14,
   "id": "f95e7d6b-2d64-4e10-aa8b-33b4bf51bf61",
   "metadata": {},
   "outputs": [
    {
     "data": {
      "text/plain": [
       "array(['yesterday all my troubles seemed so far away',\n",
       "       'now it looks as though theyre here to stay',\n",
       "       'oh i believe in yesterday suddenly im not half the man i used to be',\n",
       "       'theres a shadow hanging over me',\n",
       "       'oh yesterday came suddenly why she had to go i dont know she wouldnt say'],\n",
       "      dtype=object)"
      ]
     },
     "execution_count": 14,
     "metadata": {},
     "output_type": "execute_result"
    }
   ],
   "source": [
    "sentences = data_df.sentence.to_numpy()\n",
    "sentences[:5]"
   ]
  },
  {
   "cell_type": "code",
   "execution_count": 15,
   "id": "fcd6beb6-d992-4bbe-a4e0-0fa82462281f",
   "metadata": {},
   "outputs": [
    {
     "data": {
      "text/plain": [
       "array(['shine your light shine your light on me',\n",
       "       'shine your light shine your light on me',\n",
       "       'shine your light shine your light on me',\n",
       "       'ya know i just couldn’t make it by myself',\n",
       "       'i’m a little too blind to see'], dtype=object)"
      ]
     },
     "execution_count": 15,
     "metadata": {},
     "output_type": "execute_result"
    }
   ],
   "source": [
    "sentences[-5:]"
   ]
  },
  {
   "cell_type": "code",
   "execution_count": 16,
   "id": "8b506463-97f5-4b5b-8a76-f285fc521070",
   "metadata": {},
   "outputs": [
    {
     "data": {
      "text/plain": [
       "5683"
      ]
     },
     "execution_count": 16,
     "metadata": {},
     "output_type": "execute_result"
    }
   ],
   "source": [
    "# Seeing the vocab\n",
    "word_counts = ml_toolbox.analysis.language.get_word_counts(sentences)\n",
    "\n",
    "len(word_counts)"
   ]
  },
  {
   "cell_type": "code",
   "execution_count": 17,
   "id": "36365d10-9fae-43c0-b9cf-42489032dd64",
   "metadata": {},
   "outputs": [
    {
     "data": {
      "image/png": "[encoded data removed]",
      "text/plain": [
       "<Figure size 800x500 with 1 Axes>"
      ]
     },
     "metadata": {},
     "output_type": "display_data"
    }
   ],
   "source": [
    "ml_toolbox.analysis.language.plot_token_counts(word_counts, most_common=True, n=30)"
   ]
  },
  {
   "cell_type": "code",
   "execution_count": 18,
   "id": "79249546-a232-4986-b0c9-70174c3c555a",
   "metadata": {},
   "outputs": [
    {
     "data": {
      "text/plain": [
       "41"
      ]
     },
     "execution_count": 18,
     "metadata": {},
     "output_type": "execute_result"
    }
   ],
   "source": [
    "# Seeing the Characters\n",
    "character_counts = ml_toolbox.analysis.language.get_character_counts(sentences)\n",
    "\n",
    "len(character_counts)"
   ]
  },
  {
   "cell_type": "code",
   "execution_count": 19,
   "id": "269eb0f3-6f0e-474a-b167-2019a29bb57a",
   "metadata": {},
   "outputs": [
    {
     "data": {
      "image/png": "[encoded data removed]",
      "text/plain": [
       "<Figure size 800x500 with 1 Axes>"
      ]
     },
     "metadata": {},
     "output_type": "display_data"
    }
   ],
   "source": [
    "ml_toolbox.analysis.language.plot_token_counts(character_counts, most_common=True, n=41)"
   ]
  },
  {
   "cell_type": "markdown",
   "id": "ad7874c6-d0dd-4930-ac19-b4c579695007",
   "metadata": {
    "jp-MarkdownHeadingCollapsed": true
   },
   "source": [
    "### Creating Training Data"
   ]
  },
  {
   "cell_type": "code",
   "execution_count": 20,
   "id": "1f8f1d3d-3710-447e-9f80-e5911cc65f0f",
   "metadata": {},
   "outputs": [
    {
     "data": {
      "text/plain": [
       "(['yesterday', 'yesterday all', 'yesterday all my'], ['all', 'my', 'troubles'])"
      ]
     },
     "execution_count": 20,
     "metadata": {},
     "output_type": "execute_result"
    }
   ],
   "source": [
    "X, y = ml_toolbox.preprocessing.language.create_sequenced_data_labels_from_sentences(sentences)\n",
    "X[:3], y[:3]"
   ]
  },
  {
   "cell_type": "code",
   "execution_count": 21,
   "id": "36841a25-8d00-4d11-828a-41ae29ba1e9e",
   "metadata": {},
   "outputs": [
    {
     "data": {
      "text/plain": [
       "['y e s t e r d a y',\n",
       " 'y e s t e r d a y   a l l',\n",
       " 'y e s t e r d a y   a l l   m y']"
      ]
     },
     "execution_count": 21,
     "metadata": {},
     "output_type": "execute_result"
    }
   ],
   "source": [
    "X_char = [' '.join(list(sentence)) for sentence in X]\n",
    "X_char[:3]"
   ]
  },
  {
   "cell_type": "code",
   "execution_count": 22,
   "id": "c386739a-58e0-4618-ab27-755bd40efe3a",
   "metadata": {},
   "outputs": [
    {
     "data": {
      "text/plain": [
       "(62035, 5683)"
      ]
     },
     "execution_count": 22,
     "metadata": {},
     "output_type": "execute_result"
    }
   ],
   "source": [
    "one_hot_encoder = OneHotEncoder(sparse_output=False)\n",
    "one_hot_encoder.fit_transform(np.array(list(word_counts)).reshape((-1,1)))\n",
    "\n",
    "y_one_hot_encoded = one_hot_encoder.transform(np.array(y).reshape((-1,1)))\n",
    "\n",
    "y_one_hot_encoded.shape"
   ]
  },
  {
   "cell_type": "markdown",
   "id": "ecff6754-2e87-4d9c-893d-17cd9db11940",
   "metadata": {
    "jp-MarkdownHeadingCollapsed": true
   },
   "source": [
    "### Creating Datasets"
   ]
  },
  {
   "cell_type": "code",
   "execution_count": 23,
   "id": "cf1bbfcf-1016-4d7d-b4e8-9572202c8f56",
   "metadata": {},
   "outputs": [
    {
     "data": {
      "text/plain": [
       "<_PrefetchDataset element_spec=((TensorSpec(shape=(None,), dtype=tf.string, name=None),), TensorSpec(shape=(None, 5683), dtype=tf.float64, name=None))>"
      ]
     },
     "execution_count": 23,
     "metadata": {},
     "output_type": "execute_result"
    }
   ],
   "source": [
    "train_dataset = data_toolbox.datasets.generate_dataset_from_data([X], y_one_hot_encoded)\n",
    "train_dataset"
   ]
  },
  {
   "cell_type": "code",
   "execution_count": 24,
   "id": "00ac81a3-cb28-4a63-b4a6-dcc6028030e4",
   "metadata": {},
   "outputs": [
    {
     "data": {
      "text/plain": [
       "<_PrefetchDataset element_spec=((TensorSpec(shape=(None,), dtype=tf.string, name=None),), TensorSpec(shape=(None, 5683), dtype=tf.float64, name=None))>"
      ]
     },
     "execution_count": 24,
     "metadata": {},
     "output_type": "execute_result"
    }
   ],
   "source": [
    "char_train_dataset = data_toolbox.datasets.generate_dataset_from_data([X_char], y_one_hot_encoded)\n",
    "char_train_dataset"
   ]
  },
  {
   "cell_type": "markdown",
   "id": "deabd472-a78e-44f1-9532-595d915f540c",
   "metadata": {},
   "source": [
    "## Experiments\n",
    "\n",
    "I am going to run a handful of experiments to try and generate poems, as listed below:\n",
    "\n",
    "* Experiment-0 (Baseline): LSTM w/ Token Embeddings\n",
    "* Experiment-1: Universal Sentence Encoder w/ Token Embeddings\n",
    "* Experiment-2: Conv1D w/ Token Embeddings\n",
    "* Experiment-3: Bidirectional LSTM w/ Token Embeddings\n",
    "* Experiment-4: LSTM w/ Character Embeddings\n",
    "* Experiment-5: LSTM w/ Token Embeddings + Character Embeddings"
   ]
  },
  {
   "cell_type": "markdown",
   "id": "e5ccb0f7-7922-4a56-bf5a-d0aca42a60a2",
   "metadata": {
    "jp-MarkdownHeadingCollapsed": true
   },
   "source": [
    "### Constants"
   ]
  },
  {
   "cell_type": "code",
   "execution_count": 25,
   "id": "8c24645c-433d-40a3-837a-ee42235cc05f",
   "metadata": {},
   "outputs": [],
   "source": [
    "TOTAL_WORDS = len(word_counts)\n",
    "TOTAL_CHARS = len(character_counts)\n",
    "\n",
    "UNIVERSAL_SENTENCE_ENCODER_URL = 'https://tfhub.dev/google/universal-sentence-encoder/4'\n",
    "\n",
    "TEST_SEED_TEXTS = [\n",
    "    'Love is true',\n",
    "    'Tomorrow comes',\n",
    "    'Yesterday we',\n",
    "    'But today',\n",
    "]"
   ]
  },
  {
   "cell_type": "markdown",
   "id": "37ccc17d-1f3a-4315-82dc-d9a233c7a972",
   "metadata": {
    "jp-MarkdownHeadingCollapsed": true
   },
   "source": [
    "### Preprocessing Layer Setup\n",
    "\n",
    "Many embedding layers will be reused for more than one of the experiments mentioned above. These steps will setup the layers to be used in experiments such that they can be reused for multiple models. The various layers to be made are:\n",
    "\n",
    "* `text_vectorizer` (TextVectorizer)\n",
    "* `token_embedding` (Embedding)\n",
    "* `character_vectorizer` (TextVectorizer)\n",
    "* `character_embeddings` (Embedding)"
   ]
  },
  {
   "cell_type": "markdown",
   "id": "d4a006f3-3a10-41c1-97b9-9973f8e5054d",
   "metadata": {
    "jp-MarkdownHeadingCollapsed": true
   },
   "source": [
    "#### Token Embeddings"
   ]
  },
  {
   "cell_type": "code",
   "execution_count": 26,
   "id": "e8e115a8-dac5-426c-bd67-b78c9130451d",
   "metadata": {},
   "outputs": [
    {
     "data": {
      "text/plain": [
       "8"
      ]
     },
     "execution_count": 26,
     "metadata": {},
     "output_type": "execute_result"
    }
   ],
   "source": [
    "# Find average number of tokens\n",
    "sent_lens = [len(sentence.split()) for sentence in sentences]\n",
    "round(sum(sent_lens) / len(sentences))"
   ]
  },
  {
   "cell_type": "code",
   "execution_count": 27,
   "id": "73e8ed8c-8fd7-44f7-9593-d594b23a8ab1",
   "metadata": {},
   "outputs": [
    {
     "data": {
      "text/plain": [
       "34"
      ]
     },
     "execution_count": 27,
     "metadata": {},
     "output_type": "execute_result"
    }
   ],
   "source": [
    "max(sent_lens)"
   ]
  },
  {
   "cell_type": "code",
   "execution_count": 28,
   "id": "91b18d3e-abaa-4fe3-9a48-6fb90d3d1b70",
   "metadata": {},
   "outputs": [
    {
     "data": {
      "text/plain": [
       "16"
      ]
     },
     "execution_count": 28,
     "metadata": {},
     "output_type": "execute_result"
    }
   ],
   "source": [
    "# How long of a sentence covers 98% of the examples?\n",
    "int(np.percentile(sent_lens, 98))"
   ]
  },
  {
   "cell_type": "code",
   "execution_count": 29,
   "id": "0d0b7a27-1bce-4e7e-8199-19fbd21f9803",
   "metadata": {},
   "outputs": [],
   "source": [
    "# Setup text vectorization params\n",
    "max_vocab_length = 10000  # Max words to have in our vocab\n",
    "max_length = 16"
   ]
  },
  {
   "cell_type": "code",
   "execution_count": 30,
   "id": "8b8c34a0-3cc0-4861-a5c2-523842b08f4a",
   "metadata": {},
   "outputs": [],
   "source": [
    "# Setting up a text vectorization layer (tokenization)\n",
    "text_vectorizer = tf.keras.layers.experimental.preprocessing.TextVectorization(\n",
    "    max_tokens=max_vocab_length,  # How many words in the vocabulary\n",
    "    output_sequence_length=max_length)  # Padds (adds 0's to end of number) to make all the same length\n",
    "\n",
    "# Adapt the vectorizer to the training data\n",
    "text_vectorizer.adapt(sentences)"
   ]
  },
  {
   "cell_type": "code",
   "execution_count": 31,
   "id": "205d5b5c-b734-4546-96cb-2cfd7e137052",
   "metadata": {},
   "outputs": [
    {
     "data": {
      "text/plain": [
       "(5685,\n",
       " ['', '[UNK]', 'the', 'you', 'i'],\n",
       " ['abel', 'abeatin’', 'abandon', 'aaaaahhhhhhhhhh', '61”'])"
      ]
     },
     "execution_count": 31,
     "metadata": {},
     "output_type": "execute_result"
    }
   ],
   "source": [
    "# Getting the words in the vocab from the training data\n",
    "words_in_vocab = text_vectorizer.get_vocabulary()\n",
    "top_5_words = words_in_vocab[:5]\n",
    "least_common_5_words = words_in_vocab[-5:]\n",
    "\n",
    "len(words_in_vocab), top_5_words, least_common_5_words"
   ]
  },
  {
   "cell_type": "code",
   "execution_count": 32,
   "id": "77af8dac-b7fe-4734-a6fd-3c71d1b1f9c8",
   "metadata": {},
   "outputs": [
    {
     "data": {
      "text/plain": [
       "<keras.src.layers.core.embedding.Embedding at 0x28bb44970>"
      ]
     },
     "execution_count": 32,
     "metadata": {},
     "output_type": "execute_result"
    }
   ],
   "source": [
    "# Setting up the Embedding layer\n",
    "token_embedding = tf.keras.layers.Embedding(input_dim=len(words_in_vocab),\n",
    "                                            output_dim=128,  # GPU's work well when number is divisible by 8\n",
    "                                            mask_zero=True,\n",
    "                                            name='token_embedding')\n",
    "token_embedding"
   ]
  },
  {
   "cell_type": "code",
   "execution_count": 33,
   "id": "e7ddf5a6-43f3-411d-a438-841029e6b9bb",
   "metadata": {},
   "outputs": [
    {
     "name": "stdout",
     "output_type": "stream",
     "text": [
      "Sentence before vectorization: \n",
      " i got love for you and it’s all in vain\n",
      "Sentence after vectorization: \n",
      " [[   4   59   15   21    3    6   81   16    9 1200    0    0    0    0\n",
      "     0    0]]\n",
      "Sentence after embedding: \n",
      " [[[-0.04708974  0.04398698  0.01212256 ... -0.0375194   0.02955911\n",
      "   -0.03256111]\n",
      "  [ 0.00651488  0.02822507  0.04447111 ... -0.02238019  0.03522925\n",
      "    0.02479471]\n",
      "  [ 0.00696265 -0.0403204  -0.00881221 ... -0.03205519 -0.00758789\n",
      "   -0.02047867]\n",
      "  ...\n",
      "  [ 0.04103691  0.00764495  0.04050635 ...  0.03271897  0.03668577\n",
      "   -0.0025274 ]\n",
      "  [ 0.04103691  0.00764495  0.04050635 ...  0.03271897  0.03668577\n",
      "   -0.0025274 ]\n",
      "  [ 0.04103691  0.00764495  0.04050635 ...  0.03271897  0.03668577\n",
      "   -0.0025274 ]]]\n",
      "Embedded sentence shape: (1, 16, 128)\n"
     ]
    }
   ],
   "source": [
    "# Testing out an example sentence\n",
    "target_sentence = random.choice(sentences)\n",
    "\n",
    "# Looking at the steps of tokenization\n",
    "print(f'Sentence before vectorization: \\n {target_sentence}')\n",
    "vectorized_sentence = text_vectorizer([target_sentence])\n",
    "print(f'Sentence after vectorization: \\n {vectorized_sentence}')\n",
    "embedded_sentence = token_embedding(vectorized_sentence)\n",
    "print(f'Sentence after embedding: \\n {embedded_sentence}')\n",
    "print(f'Embedded sentence shape: {embedded_sentence.shape}')"
   ]
  },
  {
   "cell_type": "markdown",
   "id": "7df37e6f-c70a-482d-8aa0-2a29d0982a45",
   "metadata": {
    "jp-MarkdownHeadingCollapsed": true
   },
   "source": [
    "#### Character Embeddings"
   ]
  },
  {
   "cell_type": "code",
   "execution_count": 34,
   "id": "8a62baa7-f64b-4749-a3e3-d185cd07ab73",
   "metadata": {},
   "outputs": [
    {
     "data": {
      "text/plain": [
       "36"
      ]
     },
     "execution_count": 34,
     "metadata": {},
     "output_type": "execute_result"
    }
   ],
   "source": [
    "# Find average number of tokens\n",
    "char_lens = [len(sentence) for sentence in sentences]\n",
    "round(sum(char_lens) / len(sentences))"
   ]
  },
  {
   "cell_type": "code",
   "execution_count": 35,
   "id": "765c22d1-a9f4-4ad3-8816-68c783ea5da7",
   "metadata": {},
   "outputs": [
    {
     "data": {
      "text/plain": [
       "150"
      ]
     },
     "execution_count": 35,
     "metadata": {},
     "output_type": "execute_result"
    }
   ],
   "source": [
    "max(char_lens)"
   ]
  },
  {
   "cell_type": "code",
   "execution_count": 36,
   "id": "7e57849c-742f-4352-b650-b6e574ae8b26",
   "metadata": {},
   "outputs": [
    {
     "data": {
      "text/plain": [
       "76"
      ]
     },
     "execution_count": 36,
     "metadata": {},
     "output_type": "execute_result"
    }
   ],
   "source": [
    "# How long of a sentence covers 98% of the examples?\n",
    "output_sequence_len = int(np.percentile(char_lens, 98))\n",
    "output_sequence_len"
   ]
  },
  {
   "cell_type": "code",
   "execution_count": 37,
   "id": "368e1c12-8109-4442-afb5-3cc31a1b13c3",
   "metadata": {},
   "outputs": [
    {
     "data": {
      "image/png": "[encoded data removed]",
      "text/plain": [
       "<Figure size 640x480 with 1 Axes>"
      ]
     },
     "metadata": {},
     "output_type": "display_data"
    }
   ],
   "source": [
    "plt.hist(char_lens, bins=7);"
   ]
  },
  {
   "cell_type": "code",
   "execution_count": 38,
   "id": "e6eabf92-10f5-430d-a2a2-b5084d15b2fc",
   "metadata": {},
   "outputs": [
    {
     "data": {
      "text/plain": [
       "'abcdefghijklmnopqrstuvwxyz0123456789!\"#$%&\\'()*+,-./:;<=>?@[\\\\]^_`{|}~'"
      ]
     },
     "execution_count": 38,
     "metadata": {},
     "output_type": "execute_result"
    }
   ],
   "source": [
    "# Figuring out the total alpha-numeric characters\n",
    "alphabet = string.ascii_lowercase + string.digits + string.punctuation\n",
    "\n",
    "alphabet"
   ]
  },
  {
   "cell_type": "code",
   "execution_count": 39,
   "id": "369976ea-8435-4cb8-a4ff-99f8de898bb6",
   "metadata": {},
   "outputs": [
    {
     "data": {
      "text/plain": [
       "70"
      ]
     },
     "execution_count": 39,
     "metadata": {},
     "output_type": "execute_result"
    }
   ],
   "source": [
    "NUM_CHAR_TOKENS = len(alphabet) + 2  # Add 2 for space and OOV token ([UNK])\n",
    "NUM_CHAR_TOKENS"
   ]
  },
  {
   "cell_type": "code",
   "execution_count": 40,
   "id": "bc2db0bf-7bf6-4c3a-bc50-1da21806da20",
   "metadata": {},
   "outputs": [],
   "source": [
    "# Setting up a text vectorization layer (tokenization)\n",
    "character_vectorizer = tf.keras.layers.experimental.preprocessing.TextVectorization(\n",
    "    max_tokens=NUM_CHAR_TOKENS,\n",
    "    output_sequence_length=output_sequence_len,\n",
    "    name='char_vectorizer')\n",
    "\n",
    "# Adapt the vectorizer to the training data\n",
    "character_vectorizer.adapt(X_char)"
   ]
  },
  {
   "cell_type": "code",
   "execution_count": 41,
   "id": "b641109f-9f9e-4fab-b810-ced3ef9e02d8",
   "metadata": {},
   "outputs": [
    {
     "name": "stdout",
     "output_type": "stream",
     "text": [
      "Number of Different Characters: 41\n",
      "5 Most Common Characters: ['', '[UNK]', 'e', 't', 'o']\n",
      "5 Least Common Characters: ['2', '3', '7', '4', 'é']\n"
     ]
    }
   ],
   "source": [
    "char_vocab = character_vectorizer.get_vocabulary()\n",
    "print(f'Number of Different Characters: {len(char_vocab)}')\n",
    "print(f'5 Most Common Characters: {char_vocab[:5]}')\n",
    "print(f'5 Least Common Characters: {char_vocab[-5:]}')"
   ]
  },
  {
   "cell_type": "code",
   "execution_count": 42,
   "id": "c9fd863f-f87d-4e44-9da4-4315dae80e0d",
   "metadata": {},
   "outputs": [
    {
     "data": {
      "text/plain": [
       "<keras.src.layers.core.embedding.Embedding at 0x28b7889a0>"
      ]
     },
     "execution_count": 42,
     "metadata": {},
     "output_type": "execute_result"
    }
   ],
   "source": [
    "character_embedding = tf.keras.layers.Embedding(input_dim=len(char_vocab),\n",
    "                                                output_dim=25,\n",
    "                                                mask_zero=True,\n",
    "                                                name='character_embedding')\n",
    "character_embedding"
   ]
  },
  {
   "cell_type": "code",
   "execution_count": 43,
   "id": "03c02dae-e7f5-4724-903e-3d097c9086e4",
   "metadata": {},
   "outputs": [
    {
     "name": "stdout",
     "output_type": "stream",
     "text": [
      "Chars before vectorization: \n",
      " e v e r y t h i n g   h a s   g o t   t o\n",
      "Chars after vectorization: \n",
      " [[ 2 22  2 11 12  3  8  6  7 17  8  5  9 17  4  3  3  4  0  0  0  0  0  0\n",
      "   0  0  0  0  0  0  0  0  0  0  0  0  0  0  0  0  0  0  0  0  0  0  0  0\n",
      "   0  0  0  0  0  0  0  0  0  0  0  0  0  0  0  0  0  0  0  0  0  0  0  0\n",
      "   0  0  0  0]]\n",
      "Chars after embedding: \n",
      " [[[ 0.00152189  0.00632749  0.02617245 ...  0.03745938 -0.02925341\n",
      "    0.04378598]\n",
      "  [ 0.02846709 -0.04614455 -0.03469554 ... -0.00123985 -0.02151176\n",
      "   -0.01001065]\n",
      "  [ 0.00152189  0.00632749  0.02617245 ...  0.03745938 -0.02925341\n",
      "    0.04378598]\n",
      "  ...\n",
      "  [ 0.01312682 -0.01458179 -0.00888576 ...  0.02030304 -0.01114457\n",
      "   -0.04373753]\n",
      "  [ 0.01312682 -0.01458179 -0.00888576 ...  0.02030304 -0.01114457\n",
      "   -0.04373753]\n",
      "  [ 0.01312682 -0.01458179 -0.00888576 ...  0.02030304 -0.01114457\n",
      "   -0.04373753]]]\n",
      "Embedded chars shape: (1, 76, 25)\n"
     ]
    }
   ],
   "source": [
    "# Testing out an example sentence\n",
    "target_chars = random.choice(X_char)\n",
    "\n",
    "# Looking at the steps of tokenization\n",
    "print(f'Chars before vectorization: \\n {target_chars}')\n",
    "\n",
    "vectorized_chars = character_vectorizer([target_chars])\n",
    "print(f'Chars after vectorization: \\n {vectorized_chars}')\n",
    "embedded_chars = character_embedding(vectorized_chars)\n",
    "print(f'Chars after embedding: \\n {embedded_chars}')\n",
    "print(f'Embedded chars shape: {embedded_chars.shape}')"
   ]
  },
  {
   "cell_type": "markdown",
   "id": "094c58d5-9765-4246-ab2b-7fe48b3d0a9f",
   "metadata": {
    "jp-MarkdownHeadingCollapsed": true
   },
   "source": [
    "### Experiment-0 (Baseline): LSTM with Token Embeddings\n",
    "\n",
    "For a baseline, going to use a very simple model with only a single LSTM layer."
   ]
  },
  {
   "cell_type": "code",
   "execution_count": 44,
   "id": "4c29f9d2-2fb8-4d9b-bc67-bce28b435df6",
   "metadata": {},
   "outputs": [],
   "source": [
    "# Constants\n",
    "model_0_name = 'model_0_simple_lstm'"
   ]
  },
  {
   "cell_type": "code",
   "execution_count": 45,
   "id": "f5981246-3836-4425-ad0a-c30188783592",
   "metadata": {},
   "outputs": [
    {
     "name": "stdout",
     "output_type": "stream",
     "text": [
      "Model: \"model_0_simple_lstm\"\n",
      "_________________________________________________________________\n",
      " Layer (type)                Output Shape              Param #   \n",
      "=================================================================\n",
      " input_1 (InputLayer)        [(None, 1)]               0         \n",
      "                                                                 \n",
      " text_vectorization (TextVe  (None, 16)                0         \n",
      " ctorization)                                                    \n",
      "                                                                 \n",
      " token_embedding (Embedding  (None, 16, 128)           727680    \n",
      " )                                                               \n",
      "                                                                 \n",
      " lstm (LSTM)                 (None, 64)                49408     \n",
      "                                                                 \n",
      " dense (Dense)               (None, 5683)              369395    \n",
      "                                                                 \n",
      "=================================================================\n",
      "Total params: 1146483 (4.37 MB)\n",
      "Trainable params: 1146483 (4.37 MB)\n",
      "Non-trainable params: 0 (0.00 Byte)\n",
      "_________________________________________________________________\n"
     ]
    }
   ],
   "source": [
    "inputs = tf.keras.layers.Input(shape=(1,), dtype=tf.string)\n",
    "\n",
    "x = text_vectorizer(inputs)  # Turn the input text into numbers\n",
    "x = token_embedding(x)  # Embed the text\n",
    "x = tf.keras.layers.LSTM(64)(x)\n",
    "\n",
    "outputs = tf.keras.layers.Dense(TOTAL_WORDS, activation='softmax')(x)\n",
    "\n",
    "model_0 = tf.keras.models.Model(inputs, outputs, name=model_0_name)\n",
    "model_0.summary()"
   ]
  },
  {
   "cell_type": "code",
   "execution_count": 46,
   "id": "1a1a8e93-2f98-4a01-a202-a33c4bbb6e72",
   "metadata": {},
   "outputs": [],
   "source": [
    "model_0.compile(loss='categorical_crossentropy',\n",
    "                optimizer=tf.keras.optimizers.legacy.Adam(),\n",
    "                metrics=['accuracy'])"
   ]
  },
  {
   "cell_type": "code",
   "execution_count": 47,
   "id": "0581060c-9a75-410a-bf3d-e7182a32e20d",
   "metadata": {},
   "outputs": [
    {
     "name": "stdout",
     "output_type": "stream",
     "text": [
      "Epoch 1/10\n",
      "1939/1939 [==============================] - 23s 11ms/step - loss: 6.6860 - accuracy: 0.0471\n",
      "Epoch 2/10\n",
      "1939/1939 [==============================] - 22s 12ms/step - loss: 5.9944 - accuracy: 0.0635\n",
      "Epoch 3/10\n",
      "1939/1939 [==============================] - 23s 12ms/step - loss: 5.5819 - accuracy: 0.0916\n",
      "Epoch 4/10\n",
      "1939/1939 [==============================] - 23s 12ms/step - loss: 5.2355 - accuracy: 0.1147\n",
      "Epoch 5/10\n",
      "1939/1939 [==============================] - 24s 12ms/step - loss: 4.9181 - accuracy: 0.1406\n",
      "Epoch 6/10\n",
      "1939/1939 [==============================] - 23s 12ms/step - loss: 4.6344 - accuracy: 0.1689\n",
      "Epoch 7/10\n",
      "1939/1939 [==============================] - 25s 13ms/step - loss: 4.3755 - accuracy: 0.1979\n",
      "Epoch 8/10\n",
      "1939/1939 [==============================] - 24s 12ms/step - loss: 4.1450 - accuracy: 0.2287\n",
      "Epoch 9/10\n",
      "1939/1939 [==============================] - 24s 12ms/step - loss: 3.9310 - accuracy: 0.2580\n",
      "Epoch 10/10\n",
      "1939/1939 [==============================] - 25s 13ms/step - loss: 3.7392 - accuracy: 0.2863\n"
     ]
    },
    {
     "data": {
      "text/plain": [
       "<keras.src.callbacks.History at 0x28b77cfd0>"
      ]
     },
     "execution_count": 47,
     "metadata": {},
     "output_type": "execute_result"
    }
   ],
   "source": [
    "model_0.fit(train_dataset, epochs=10)"
   ]
  },
  {
   "cell_type": "code",
   "execution_count": 48,
   "id": "5b74a44d-d55e-4656-85de-851454288262",
   "metadata": {},
   "outputs": [
    {
     "name": "stdout",
     "output_type": "stream",
     "text": [
      "Love is true love you love you love you love you\n",
      "Tomorrow comes around the bend that he said they couldn’t\n",
      "Yesterday we can be the thief to me with you\n",
      "But today was a million miles from you to the\n"
     ]
    }
   ],
   "source": [
    "generate_poem(TEST_SEED_TEXTS, 8, model_0, one_hot_encoder)"
   ]
  },
  {
   "cell_type": "markdown",
   "id": "509535cc-cce9-4770-a223-5805bdec8a37",
   "metadata": {
    "jp-MarkdownHeadingCollapsed": true
   },
   "source": [
    "### Experiment-1: Universal Sentence Encoder with Token Embeddings"
   ]
  },
  {
   "cell_type": "code",
   "execution_count": 49,
   "id": "472d8cdb-b09e-45df-bb29-9a54bb128cab",
   "metadata": {},
   "outputs": [],
   "source": [
    "# Constants\n",
    "model_1_name = 'model_1_use'"
   ]
  },
  {
   "cell_type": "code",
   "execution_count": 50,
   "id": "43ea5a51-5bff-4701-879b-d95423b9a42c",
   "metadata": {},
   "outputs": [
    {
     "name": "stdout",
     "output_type": "stream",
     "text": [
      "INFO:absl:Using /var/folders/sj/rsg548nx63dc931tmwt4nnq80000gn/T/tfhub_modules to cache modules.\n",
      "INFO:absl:Fingerprint not found. Saved model loading will continue.\n",
      "Model: \"model_1_use\"\n",
      "_________________________________________________________________\n",
      " Layer (type)                Output Shape              Param #   \n",
      "=================================================================\n",
      " input_2 (InputLayer)        [(None,)]                 0         \n",
      "                                                                 \n",
      " USE (KerasLayer)            (None, 512)               256797824 \n",
      "                                                                 \n",
      " dense_1 (Dense)             (None, 128)               65664     \n",
      "                                                                 \n",
      " dense_2 (Dense)             (None, 5683)              733107    \n",
      "                                                                 \n",
      "=================================================================\n",
      "Total params: 257596595 (982.65 MB)\n",
      "Trainable params: 798771 (3.05 MB)\n",
      "Non-trainable params: 256797824 (979.61 MB)\n",
      "_________________________________________________________________\n"
     ]
    }
   ],
   "source": [
    "# Build Model\n",
    "inputs = tf.keras.layers.Input(shape=[], dtype=tf.string)\n",
    "pretrained_embedding = hub.KerasLayer(UNIVERSAL_SENTENCE_ENCODER_URL,\n",
    "                                      trainable=False,\n",
    "                                      name='USE')(inputs)\n",
    "x = tf.keras.layers.Dense(128, activation='relu')(pretrained_embedding)\n",
    "outputs = tf.keras.layers.Dense(TOTAL_WORDS, activation='softmax')(x)\n",
    "\n",
    "model_1 = tf.keras.models.Model(inputs, outputs, name=model_1_name)\n",
    "model_1.summary()"
   ]
  },
  {
   "cell_type": "code",
   "execution_count": 51,
   "id": "f0ef2a1b-f473-4714-835d-20ee661d99b3",
   "metadata": {},
   "outputs": [],
   "source": [
    "model_1.compile(loss='categorical_crossentropy',\n",
    "                optimizer=tf.keras.optimizers.legacy.Adam(),\n",
    "                metrics=['accuracy'])"
   ]
  },
  {
   "cell_type": "code",
   "execution_count": 52,
   "id": "042960aa-82e7-4b90-9b30-331de012782b",
   "metadata": {},
   "outputs": [
    {
     "name": "stdout",
     "output_type": "stream",
     "text": [
      "Epoch 1/10\n",
      "1939/1939 [==============================] - 9s 4ms/step - loss: 6.6337 - accuracy: 0.0533\n",
      "Epoch 2/10\n",
      "1939/1939 [==============================] - 8s 4ms/step - loss: 5.9573 - accuracy: 0.0676\n",
      "Epoch 3/10\n",
      "1939/1939 [==============================] - 8s 4ms/step - loss: 5.5928 - accuracy: 0.0794\n",
      "Epoch 4/10\n",
      "1939/1939 [==============================] - 8s 4ms/step - loss: 5.2186 - accuracy: 0.0934\n",
      "Epoch 5/10\n",
      "1939/1939 [==============================] - 8s 4ms/step - loss: 4.8324 - accuracy: 0.1132\n",
      "Epoch 6/10\n",
      "1939/1939 [==============================] - 8s 4ms/step - loss: 4.4521 - accuracy: 0.1429\n",
      "Epoch 7/10\n",
      "1939/1939 [==============================] - 9s 4ms/step - loss: 4.1151 - accuracy: 0.1747\n",
      "Epoch 8/10\n",
      "1939/1939 [==============================] - 8s 4ms/step - loss: 3.8372 - accuracy: 0.2093\n",
      "Epoch 9/10\n",
      "1939/1939 [==============================] - 8s 4ms/step - loss: 3.6125 - accuracy: 0.2464\n",
      "Epoch 10/10\n",
      "1939/1939 [==============================] - 9s 4ms/step - loss: 3.4322 - accuracy: 0.2807\n"
     ]
    },
    {
     "data": {
      "text/plain": [
       "<keras.src.callbacks.History at 0x29afbe430>"
      ]
     },
     "execution_count": 52,
     "metadata": {},
     "output_type": "execute_result"
    }
   ],
   "source": [
    "model_1.fit(train_dataset, epochs=10)"
   ]
  },
  {
   "cell_type": "code",
   "execution_count": 53,
   "id": "3d335671-5459-418a-928d-b0f9fa140aa1",
   "metadata": {},
   "outputs": [
    {
     "name": "stdout",
     "output_type": "stream",
     "text": [
      "Love is true in evil and neither or the neither the\n",
      "Tomorrow comes mercy the the the the sun on the\n",
      "Yesterday we suddenly i ago i i i grew gone\n",
      "But today the sun shining is tonight is the the\n"
     ]
    }
   ],
   "source": [
    "generate_poem(TEST_SEED_TEXTS, 8, model_1, one_hot_encoder)"
   ]
  },
  {
   "cell_type": "markdown",
   "id": "fa642d95-08f2-4d53-947e-96467d9ffc33",
   "metadata": {
    "jp-MarkdownHeadingCollapsed": true
   },
   "source": [
    "### Experiment-2: Conv1D with Token Embeddings"
   ]
  },
  {
   "cell_type": "code",
   "execution_count": 54,
   "id": "1674ef3a-056c-4375-b41d-af43f886579c",
   "metadata": {},
   "outputs": [],
   "source": [
    "# Constants\n",
    "model_2_name = 'model_2_conv1d_token'"
   ]
  },
  {
   "cell_type": "code",
   "execution_count": 55,
   "id": "f2764ff9-d209-449c-bb62-dd2f96c952ce",
   "metadata": {},
   "outputs": [
    {
     "name": "stdout",
     "output_type": "stream",
     "text": [
      "Model: \"model_2_conv1d_token\"\n",
      "_________________________________________________________________\n",
      " Layer (type)                Output Shape              Param #   \n",
      "=================================================================\n",
      " input_3 (InputLayer)        [(None, 1)]               0         \n",
      "                                                                 \n",
      " text_vectorization (TextVe  (None, 16)                0         \n",
      " ctorization)                                                    \n",
      "                                                                 \n",
      " token_embedding (Embedding  (None, 16, 128)           727680    \n",
      " )                                                               \n",
      "                                                                 \n",
      " conv1d (Conv1D)             (None, 16, 64)            41024     \n",
      "                                                                 \n",
      " global_max_pooling1d (Glob  (None, 64)                0         \n",
      " alMaxPooling1D)                                                 \n",
      "                                                                 \n",
      " dense_3 (Dense)             (None, 5683)              369395    \n",
      "                                                                 \n",
      "=================================================================\n",
      "Total params: 1138099 (4.34 MB)\n",
      "Trainable params: 1138099 (4.34 MB)\n",
      "Non-trainable params: 0 (0.00 Byte)\n",
      "_________________________________________________________________\n"
     ]
    }
   ],
   "source": [
    "# Build Model\n",
    "inputs = tf.keras.layers.Input(shape=(1,), dtype=tf.string)\n",
    "\n",
    "text_vectors = text_vectorizer(inputs)\n",
    "token_embeddings = token_embedding(text_vectors)\n",
    "x = tf.keras.layers.Conv1D(filters=64, kernel_size=5, activation='relu', padding='same')(token_embeddings)\n",
    "x = tf.keras.layers.GlobalMaxPooling1D()(x)\n",
    "\n",
    "outputs = tf.keras.layers.Dense(TOTAL_WORDS, activation='softmax')(x)\n",
    "\n",
    "model_2 = tf.keras.models.Model(inputs, outputs, name=model_2_name)\n",
    "model_2.summary()"
   ]
  },
  {
   "cell_type": "code",
   "execution_count": 56,
   "id": "5d117d12-adab-46e2-8f48-0a638a88adea",
   "metadata": {},
   "outputs": [],
   "source": [
    "model_2.compile(loss='categorical_crossentropy',\n",
    "                optimizer=tf.keras.optimizers.legacy.Adam(),\n",
    "                metrics=['accuracy'])"
   ]
  },
  {
   "cell_type": "code",
   "execution_count": 57,
   "id": "8800e1c2-b59c-43aa-b3f8-8bf2cf934b52",
   "metadata": {},
   "outputs": [
    {
     "name": "stdout",
     "output_type": "stream",
     "text": [
      "Epoch 1/10\n",
      "1939/1939 [==============================] - 11s 6ms/step - loss: 6.3430 - accuracy: 0.0775\n",
      "Epoch 2/10\n",
      "1939/1939 [==============================] - 12s 6ms/step - loss: 5.3956 - accuracy: 0.1293\n",
      "Epoch 3/10\n",
      "1939/1939 [==============================] - 12s 6ms/step - loss: 4.9122 - accuracy: 0.1607\n",
      "Epoch 4/10\n",
      "1939/1939 [==============================] - 12s 6ms/step - loss: 4.5052 - accuracy: 0.1951\n",
      "Epoch 5/10\n",
      "1939/1939 [==============================] - 12s 6ms/step - loss: 4.1320 - accuracy: 0.2281\n",
      "Epoch 6/10\n",
      "1939/1939 [==============================] - 12s 6ms/step - loss: 3.7841 - accuracy: 0.2687\n",
      "Epoch 7/10\n",
      "1939/1939 [==============================] - 12s 6ms/step - loss: 3.4773 - accuracy: 0.3059\n",
      "Epoch 8/10\n",
      "1939/1939 [==============================] - 13s 7ms/step - loss: 3.2135 - accuracy: 0.3418\n",
      "Epoch 9/10\n",
      "1939/1939 [==============================] - 12s 6ms/step - loss: 2.9872 - accuracy: 0.3754\n",
      "Epoch 10/10\n",
      "1939/1939 [==============================] - 12s 6ms/step - loss: 2.7899 - accuracy: 0.4088\n"
     ]
    },
    {
     "data": {
      "text/plain": [
       "<keras.src.callbacks.History at 0x29f9d8070>"
      ]
     },
     "execution_count": 57,
     "metadata": {},
     "output_type": "execute_result"
    }
   ],
   "source": [
    "model_2.fit(train_dataset, epochs=10)"
   ]
  },
  {
   "cell_type": "code",
   "execution_count": 58,
   "id": "383bd10e-c200-403b-b235-70d12c96b119",
   "metadata": {},
   "outputs": [
    {
     "name": "stdout",
     "output_type": "stream",
     "text": [
      "Love is true love is all right of mississippi a day\n",
      "Tomorrow comes comin’ the man of the little thing of\n",
      "Yesterday we need a shot of love i need a\n",
      "But today gets walkin in the sky of blue new\n"
     ]
    }
   ],
   "source": [
    "generate_poem(TEST_SEED_TEXTS, 8, model_2, one_hot_encoder)"
   ]
  },
  {
   "cell_type": "markdown",
   "id": "2770134f-002b-42b5-a7cc-5f32760058c1",
   "metadata": {
    "jp-MarkdownHeadingCollapsed": true
   },
   "source": [
    "### Experiment-3: Bidirectional LSTM with Token Embeddings"
   ]
  },
  {
   "cell_type": "code",
   "execution_count": 59,
   "id": "7243a537-652c-4a9e-847d-64e3acc93e4d",
   "metadata": {},
   "outputs": [],
   "source": [
    "# Constants\n",
    "model_3_name = 'model_3_bidirectional_lstm'"
   ]
  },
  {
   "cell_type": "code",
   "execution_count": 60,
   "id": "9182d470-e271-4797-8639-492b0975d803",
   "metadata": {},
   "outputs": [
    {
     "name": "stdout",
     "output_type": "stream",
     "text": [
      "Model: \"model_3_bidirectional_lstm\"\n",
      "_________________________________________________________________\n",
      " Layer (type)                Output Shape              Param #   \n",
      "=================================================================\n",
      " input_4 (InputLayer)        [(None, 1)]               0         \n",
      "                                                                 \n",
      " text_vectorization (TextVe  (None, 16)                0         \n",
      " ctorization)                                                    \n",
      "                                                                 \n",
      " token_embedding (Embedding  (None, 16, 128)           727680    \n",
      " )                                                               \n",
      "                                                                 \n",
      " bidirectional (Bidirection  (None, 128)               98816     \n",
      " al)                                                             \n",
      "                                                                 \n",
      " dense_4 (Dense)             (None, 5683)              733107    \n",
      "                                                                 \n",
      "=================================================================\n",
      "Total params: 1559603 (5.95 MB)\n",
      "Trainable params: 1559603 (5.95 MB)\n",
      "Non-trainable params: 0 (0.00 Byte)\n",
      "_________________________________________________________________\n"
     ]
    }
   ],
   "source": [
    "inputs = tf.keras.layers.Input(shape=(1,), dtype=tf.string)\n",
    "\n",
    "x = text_vectorizer(inputs)  # Turn the input text into numbers\n",
    "x = token_embedding(x)  # Embed the text\n",
    "x = tf.keras.layers.Bidirectional(tf.keras.layers.LSTM(64))(x)\n",
    "\n",
    "outputs = tf.keras.layers.Dense(TOTAL_WORDS, activation='softmax')(x)\n",
    "\n",
    "model_3 = tf.keras.models.Model(inputs, outputs, name=model_3_name)\n",
    "model_3.summary()"
   ]
  },
  {
   "cell_type": "code",
   "execution_count": 61,
   "id": "82bc8e9e-99eb-4452-8fcd-c1f5b3989365",
   "metadata": {},
   "outputs": [],
   "source": [
    "model_3.compile(loss='categorical_crossentropy',\n",
    "                optimizer=tf.keras.optimizers.legacy.Adam(),\n",
    "                metrics=['accuracy'])"
   ]
  },
  {
   "cell_type": "code",
   "execution_count": 62,
   "id": "4ca1031c-751d-43a2-a09f-7b53c8ea2e1b",
   "metadata": {},
   "outputs": [
    {
     "name": "stdout",
     "output_type": "stream",
     "text": [
      "Epoch 1/10\n",
      "1939/1939 [==============================] - 27s 12ms/step - loss: 6.1286 - accuracy: 0.0921\n",
      "Epoch 2/10\n",
      "1939/1939 [==============================] - 23s 12ms/step - loss: 5.0347 - accuracy: 0.1573\n",
      "Epoch 3/10\n",
      "1939/1939 [==============================] - 23s 12ms/step - loss: 4.4067 - accuracy: 0.2131\n",
      "Epoch 4/10\n",
      "1939/1939 [==============================] - 24s 12ms/step - loss: 3.9146 - accuracy: 0.2638\n",
      "Epoch 5/10\n",
      "1939/1939 [==============================] - 24s 12ms/step - loss: 3.5099 - accuracy: 0.3162\n",
      "Epoch 6/10\n",
      "1939/1939 [==============================] - 23s 12ms/step - loss: 3.1709 - accuracy: 0.3661\n",
      "Epoch 7/10\n",
      "1939/1939 [==============================] - 23s 12ms/step - loss: 2.8791 - accuracy: 0.4141\n",
      "Epoch 8/10\n",
      "1939/1939 [==============================] - 23s 12ms/step - loss: 2.6367 - accuracy: 0.4569\n",
      "Epoch 9/10\n",
      "1939/1939 [==============================] - 23s 12ms/step - loss: 2.4321 - accuracy: 0.4932\n",
      "Epoch 10/10\n",
      "1939/1939 [==============================] - 23s 12ms/step - loss: 2.2574 - accuracy: 0.5256\n"
     ]
    },
    {
     "data": {
      "text/plain": [
       "<keras.src.callbacks.History at 0x4fca040a0>"
      ]
     },
     "execution_count": 62,
     "metadata": {},
     "output_type": "execute_result"
    }
   ],
   "source": [
    "model_3.fit(train_dataset, epochs=10)"
   ]
  },
  {
   "cell_type": "code",
   "execution_count": 63,
   "id": "726741bd-8d5b-4e00-b8ae-8d767054e25e",
   "metadata": {},
   "outputs": [
    {
     "name": "stdout",
     "output_type": "stream",
     "text": [
      "Love is true love is it all that i can be\n",
      "Tomorrow comes on the line make it out to come\n",
      "Yesterday we have been don pasqualli makin’ a little boy\n",
      "But today were never true never true never true never\n"
     ]
    }
   ],
   "source": [
    "generate_poem(TEST_SEED_TEXTS, 8, model_3, one_hot_encoder)"
   ]
  },
  {
   "cell_type": "markdown",
   "id": "becee616-6a28-4c32-9954-6ab8044578e1",
   "metadata": {
    "jp-MarkdownHeadingCollapsed": true
   },
   "source": [
    "### Experiment-4: LSTM with Character Embeddings"
   ]
  },
  {
   "cell_type": "code",
   "execution_count": 64,
   "id": "c910efd0-f364-43e8-b591-0888189a16ba",
   "metadata": {},
   "outputs": [],
   "source": [
    "# Constants\n",
    "model_4_name = 'model_4_lstm_char'"
   ]
  },
  {
   "cell_type": "code",
   "execution_count": 65,
   "id": "bc7f6d5e-6f07-4910-be2e-54410ab37648",
   "metadata": {},
   "outputs": [
    {
     "name": "stdout",
     "output_type": "stream",
     "text": [
      "Model: \"model_4_lstm_char\"\n",
      "_________________________________________________________________\n",
      " Layer (type)                Output Shape              Param #   \n",
      "=================================================================\n",
      " input_5 (InputLayer)        [(None, 1)]               0         \n",
      "                                                                 \n",
      " char_vectorizer (TextVecto  (None, 76)                0         \n",
      " rization)                                                       \n",
      "                                                                 \n",
      " character_embedding (Embed  (None, 76, 25)            1025      \n",
      " ding)                                                           \n",
      "                                                                 \n",
      " lstm_2 (LSTM)               (None, 64)                23040     \n",
      "                                                                 \n",
      " dense_5 (Dense)             (None, 5683)              369395    \n",
      "                                                                 \n",
      "=================================================================\n",
      "Total params: 393460 (1.50 MB)\n",
      "Trainable params: 393460 (1.50 MB)\n",
      "Non-trainable params: 0 (0.00 Byte)\n",
      "_________________________________________________________________\n"
     ]
    }
   ],
   "source": [
    "inputs = tf.keras.layers.Input(shape=(1,), dtype=tf.string)\n",
    "\n",
    "x = character_vectorizer(inputs)  # Turn the input text into numbers\n",
    "x = character_embedding(x)  # Embed the text\n",
    "x = tf.keras.layers.LSTM(64)(x)\n",
    "\n",
    "outputs = tf.keras.layers.Dense(TOTAL_WORDS, activation='softmax')(x)\n",
    "\n",
    "model_4 = tf.keras.models.Model(inputs, outputs, name=model_4_name)\n",
    "model_4.summary()"
   ]
  },
  {
   "cell_type": "code",
   "execution_count": 66,
   "id": "51195003-c004-46eb-b3de-a8005f3e1d64",
   "metadata": {},
   "outputs": [],
   "source": [
    "model_4.compile(loss='categorical_crossentropy',\n",
    "                optimizer=tf.keras.optimizers.legacy.Adam(),\n",
    "                metrics=['accuracy'])"
   ]
  },
  {
   "cell_type": "code",
   "execution_count": 67,
   "id": "bd5ac6f6-4f85-42c4-8daa-693ee81dee53",
   "metadata": {},
   "outputs": [
    {
     "name": "stdout",
     "output_type": "stream",
     "text": [
      "Epoch 1/10\n",
      "1939/1939 [==============================] - 40s 20ms/step - loss: 6.7091 - accuracy: 0.0458\n",
      "Epoch 2/10\n",
      "1939/1939 [==============================] - 39s 20ms/step - loss: 6.3537 - accuracy: 0.0477\n",
      "Epoch 3/10\n",
      "1939/1939 [==============================] - 39s 20ms/step - loss: 6.2395 - accuracy: 0.0487\n",
      "Epoch 4/10\n",
      "1939/1939 [==============================] - 39s 20ms/step - loss: 6.0474 - accuracy: 0.0536\n",
      "Epoch 5/10\n",
      "1939/1939 [==============================] - 39s 20ms/step - loss: 5.8232 - accuracy: 0.0593\n",
      "Epoch 6/10\n",
      "1939/1939 [==============================] - 39s 20ms/step - loss: 5.6163 - accuracy: 0.0676\n",
      "Epoch 7/10\n",
      "1939/1939 [==============================] - 39s 20ms/step - loss: 5.4207 - accuracy: 0.0757\n",
      "Epoch 8/10\n",
      "1939/1939 [==============================] - 39s 20ms/step - loss: 5.2568 - accuracy: 0.0806\n",
      "Epoch 9/10\n",
      "1939/1939 [==============================] - 39s 20ms/step - loss: 5.1192 - accuracy: 0.0890\n",
      "Epoch 10/10\n",
      "1939/1939 [==============================] - 39s 20ms/step - loss: 5.0105 - accuracy: 0.0952\n"
     ]
    },
    {
     "data": {
      "text/plain": [
       "<keras.src.callbacks.History at 0x4fca5e5b0>"
      ]
     },
     "execution_count": 67,
     "metadata": {},
     "output_type": "execute_result"
    }
   ],
   "source": [
    "model_4.fit(char_train_dataset, epochs=10)"
   ]
  },
  {
   "cell_type": "code",
   "execution_count": 68,
   "id": "61ab8bcc-2b86-4d68-aa73-2bd5f3c4276b",
   "metadata": {},
   "outputs": [
    {
     "name": "stdout",
     "output_type": "stream",
     "text": [
      "Love is true to to to to to to to to\n",
      "Tomorrow comes the to to to to to to to\n",
      "Yesterday we the to to to to to to to\n",
      "But today the to to to to to to to\n"
     ]
    }
   ],
   "source": [
    "generate_poem(TEST_SEED_TEXTS, 8, model_4, one_hot_encoder)"
   ]
  },
  {
   "cell_type": "markdown",
   "id": "94d2d44d-099e-4adc-87ee-eb155e2b0d40",
   "metadata": {
    "jp-MarkdownHeadingCollapsed": true
   },
   "source": [
    "### Experiment-5: LSTM with Character Embeddings & Token Embeddings"
   ]
  },
  {
   "cell_type": "code",
   "execution_count": 69,
   "id": "79f4759a-4824-4dbf-bed7-ab7ce1ca8f76",
   "metadata": {},
   "outputs": [],
   "source": [
    "# Constants\n",
    "model_5_name = 'model_5_lstm_char_token'"
   ]
  },
  {
   "cell_type": "code",
   "execution_count": 70,
   "id": "b6c9a492-6527-422c-8aaf-7d94a598fd52",
   "metadata": {},
   "outputs": [
    {
     "data": {
      "text/plain": [
       "<_PrefetchDataset element_spec=((TensorSpec(shape=(None,), dtype=tf.string, name=None), TensorSpec(shape=(None,), dtype=tf.string, name=None)), TensorSpec(shape=(None, 5683), dtype=tf.float64, name=None))>"
      ]
     },
     "execution_count": 70,
     "metadata": {},
     "output_type": "execute_result"
    }
   ],
   "source": [
    "# Creating Dataset\n",
    "token_char_dataset = data_toolbox.generate_dataset_from_data([X, X_char], y_one_hot_encoded)\n",
    "token_char_dataset"
   ]
  },
  {
   "cell_type": "code",
   "execution_count": 71,
   "id": "9f4406b9-4bd6-4e5a-8639-65c3f770ce48",
   "metadata": {},
   "outputs": [
    {
     "name": "stdout",
     "output_type": "stream",
     "text": [
      "Model: \"model_5_lstm_char_token\"\n",
      "__________________________________________________________________________________________________\n",
      " Layer (type)                Output Shape                 Param #   Connected to                  \n",
      "==================================================================================================\n",
      " input_6 (InputLayer)        [(None, 1)]                  0         []                            \n",
      "                                                                                                  \n",
      " input_7 (InputLayer)        [(None, 1)]                  0         []                            \n",
      "                                                                                                  \n",
      " text_vectorization (TextVe  (None, 16)                   0         ['input_6[0][0]']             \n",
      " ctorization)                                                                                     \n",
      "                                                                                                  \n",
      " char_vectorizer (TextVecto  (None, 76)                   0         ['input_7[0][0]']             \n",
      " rization)                                                                                        \n",
      "                                                                                                  \n",
      " token_embedding (Embedding  (None, 16, 128)              727680    ['text_vectorization[3][0]']  \n",
      " )                                                                                                \n",
      "                                                                                                  \n",
      " character_embedding (Embed  (None, 76, 25)               1025      ['char_vectorizer[1][0]']     \n",
      " ding)                                                                                            \n",
      "                                                                                                  \n",
      " lstm_3 (LSTM)               (None, 64)                   49408     ['token_embedding[3][0]']     \n",
      "                                                                                                  \n",
      " lstm_4 (LSTM)               (None, 64)                   23040     ['character_embedding[1][0]'] \n",
      "                                                                                                  \n",
      " concatenate (Concatenate)   (None, 128)                  0         ['lstm_3[0][0]',              \n",
      "                                                                     'lstm_4[0][0]']              \n",
      "                                                                                                  \n",
      " dropout (Dropout)           (None, 128)                  0         ['concatenate[0][0]']         \n",
      "                                                                                                  \n",
      " dense_6 (Dense)             (None, 128)                  16512     ['dropout[0][0]']             \n",
      "                                                                                                  \n",
      " dropout_1 (Dropout)         (None, 128)                  0         ['dense_6[0][0]']             \n",
      "                                                                                                  \n",
      " dense_7 (Dense)             (None, 5683)                 733107    ['dropout_1[0][0]']           \n",
      "                                                                                                  \n",
      "==================================================================================================\n",
      "Total params: 1550772 (5.92 MB)\n",
      "Trainable params: 1550772 (5.92 MB)\n",
      "Non-trainable params: 0 (0.00 Byte)\n",
      "__________________________________________________________________________________________________\n"
     ]
    }
   ],
   "source": [
    "# Token Embedding\n",
    "token_inputs = tf.keras.layers.Input(shape=(1,), dtype=tf.string)\n",
    "\n",
    "x = text_vectorizer(token_inputs)  # Turn the input text into numbers\n",
    "x = token_embedding(x)  # Embed the text\n",
    "token_lstm = tf.keras.layers.LSTM(64)(x)\n",
    "\n",
    "token_model = tf.keras.models.Model(token_inputs, token_lstm, name=model_5_name)\n",
    "\n",
    "# Character Embedding\n",
    "character_inputs = tf.keras.layers.Input(shape=(1,), dtype=tf.string)\n",
    "\n",
    "x = character_vectorizer(character_inputs)  # Turn the input text into numbers\n",
    "x = character_embedding(x)  # Embed the text\n",
    "char_lstm = tf.keras.layers.LSTM(64)(x)\n",
    "\n",
    "character_model = tf.keras.models.Model(character_inputs, char_lstm, name=model_5_name)\n",
    "\n",
    "# Concatenating outputs\n",
    "token_char_concat = tf.keras.layers.Concatenate()([token_model.output, character_model.output])\n",
    "\n",
    "# Dropout\n",
    "combined_dropout = tf.keras.layers.Dropout(0.5)(token_char_concat)\n",
    "combined_dense = tf.keras.layers.Dense(128, activation='relu')(combined_dropout)\n",
    "final_dropout = tf.keras.layers.Dropout(0.5)(combined_dense)\n",
    "\n",
    "outputs = tf.keras.layers.Dense(TOTAL_WORDS, activation='softmax')(final_dropout)\n",
    "\n",
    "model_5 = tf.keras.models.Model(inputs=[token_model.input, character_model.input],\n",
    "                                outputs=outputs,\n",
    "                                name=model_5_name)\n",
    "model_5.summary()"
   ]
  },
  {
   "cell_type": "code",
   "execution_count": 72,
   "id": "cb1cbbd9-e27a-4c76-a294-f7f79bcfcd57",
   "metadata": {},
   "outputs": [
    {
     "data": {
      "image/png": "[encoded data removed]",
      "text/plain": [
       "<IPython.core.display.Image object>"
      ]
     },
     "execution_count": 72,
     "metadata": {},
     "output_type": "execute_result"
    }
   ],
   "source": [
    "ml_toolbox.analysis.model.plot_model(model_5)"
   ]
  },
  {
   "cell_type": "code",
   "execution_count": 73,
   "id": "231f8ed8-2ccd-423d-8a61-06e0db380d56",
   "metadata": {},
   "outputs": [],
   "source": [
    "model_5.compile(loss='categorical_crossentropy',\n",
    "                optimizer=tf.keras.optimizers.legacy.Adam(),\n",
    "                metrics=['accuracy'])"
   ]
  },
  {
   "cell_type": "code",
   "execution_count": 74,
   "id": "b1853923-fc80-42df-acb7-70847c031d7d",
   "metadata": {
    "scrolled": true
   },
   "outputs": [
    {
     "name": "stdout",
     "output_type": "stream",
     "text": [
      "Epoch 1/10\n",
      "1939/1939 [==============================] - 44s 21ms/step - loss: 6.4294 - accuracy: 0.0670\n",
      "Epoch 2/10\n",
      "1939/1939 [==============================] - 41s 21ms/step - loss: 5.7583 - accuracy: 0.1039\n",
      "Epoch 3/10\n",
      "1939/1939 [==============================] - 41s 21ms/step - loss: 5.4895 - accuracy: 0.1240\n",
      "Epoch 4/10\n",
      "1939/1939 [==============================] - 42s 22ms/step - loss: 5.2956 - accuracy: 0.1365\n",
      "Epoch 5/10\n",
      "1939/1939 [==============================] - 42s 22ms/step - loss: 5.1400 - accuracy: 0.1470\n",
      "Epoch 6/10\n",
      "1939/1939 [==============================] - 42s 22ms/step - loss: 5.0089 - accuracy: 0.1533\n",
      "Epoch 7/10\n",
      "1939/1939 [==============================] - 42s 21ms/step - loss: 4.9041 - accuracy: 0.1606\n",
      "Epoch 8/10\n",
      "1939/1939 [==============================] - 42s 22ms/step - loss: 4.8194 - accuracy: 0.1651\n",
      "Epoch 9/10\n",
      "1939/1939 [==============================] - 42s 22ms/step - loss: 4.7420 - accuracy: 0.1701\n",
      "Epoch 10/10\n",
      "1939/1939 [==============================] - 42s 22ms/step - loss: 4.6665 - accuracy: 0.1763\n"
     ]
    },
    {
     "data": {
      "text/plain": [
       "<keras.src.callbacks.History at 0x50be4e4f0>"
      ]
     },
     "execution_count": 74,
     "metadata": {},
     "output_type": "execute_result"
    }
   ],
   "source": [
    "model_5.fit(token_char_dataset, epochs=10)"
   ]
  },
  {
   "cell_type": "code",
   "execution_count": 75,
   "id": "ea992f74-93af-4dfb-8b04-a8c4e47807e7",
   "metadata": {},
   "outputs": [
    {
     "name": "stdout",
     "output_type": "stream",
     "text": [
      "Love is true love i can be the world is a\n",
      "Tomorrow comes the world is the road is the world\n",
      "Yesterday we know i can be the world is the\n",
      "But today was a woman to be the road is\n"
     ]
    }
   ],
   "source": [
    "generate_poem(TEST_SEED_TEXTS, 8, model_5, one_hot_encoder)"
   ]
  }
 ],
 "metadata": {
  "kernelspec": {
   "display_name": "Python 3 (ipykernel)",
   "language": "python",
   "name": "python3"
  },
  "language_info": {
   "codemirror_mode": {
    "name": "ipython",
    "version": 3
   },
   "file_extension": ".py",
   "mimetype": "text/x-python",
   "name": "python",
   "nbconvert_exporter": "python",
   "pygments_lexer": "ipython3",
   "version": "3.9.6"
  }
 },
 "nbformat": 4,
 "nbformat_minor": 5
}
