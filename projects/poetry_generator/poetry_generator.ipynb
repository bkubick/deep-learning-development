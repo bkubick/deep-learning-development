{
 "cells": [
  {
   "cell_type": "markdown",
   "id": "c05344a9-7b13-445f-85f0-15155948c543",
   "metadata": {},
   "source": [
    "# Poetry Generator\n",
    "\n",
    "The purpose of this notebook is to explore the power of LLM and RNN models to generate poetry from using song lyrics as a dataset. The song datasets I plan to use come from a github repo that has various lyrics from many artists written in txt files.\n",
    "* https://github.com/laxmimerit/poetry-data\n",
    "\n",
    "### Resources\n",
    "\n",
    "This has been done before. The articles are references that I used for this notebook.\n",
    "\n",
    "* https://kgptalkie.medium.com/poetry-generation-using-tensorflow-keras-and-lstm-75c4e4b7f07e\n",
    "* https://www.kaggle.com/code/paultimothymooney/poetry-generator-rnn-markov/notebook\n",
    "* https://www.kaggle.com/code/shivamb/beginners-guide-to-text-generation-using-lstms\n",
    "* https://www.tensorflow.org/text/tutorials/text_generation"
   ]
  },
  {
   "cell_type": "markdown",
   "id": "481f64b5-005a-4ffd-8c24-224e800cfc93",
   "metadata": {
    "jp-MarkdownHeadingCollapsed": true
   },
   "source": [
    "## Setup\n",
    "\n",
    "Need to figure out if I'm on google colab or on local. This will determine which commands need to be ran and how to setup the CPU/GPU being used.\n",
    "\n",
    "Additionally, if on google colab, then I will need to install my personal repository, [py-learning-toolbox](https://github.com/bkubick/py-learning-toolbox) as a package."
   ]
  },
  {
   "cell_type": "code",
   "execution_count": 1,
   "id": "6ddf659a-27d5-47b1-94e8-a628023a380f",
   "metadata": {},
   "outputs": [
    {
     "data": {
      "text/plain": [
       "False"
      ]
     },
     "execution_count": 1,
     "metadata": {},
     "output_type": "execute_result"
    }
   ],
   "source": [
    "# Determining if on google colab\n",
    "try:\n",
    "  from google import colab\n",
    "  on_colab = True\n",
    "except Exception:\n",
    "  on_colab = False\n",
    "\n",
    "on_colab"
   ]
  },
  {
   "cell_type": "code",
   "execution_count": 2,
   "id": "11a7855e-e3c7-4f1d-a1fe-972a48a87584",
   "metadata": {},
   "outputs": [],
   "source": [
    "# Installing my personal repo that contains all my utils as a package\n",
    "if on_colab:\n",
    "  !nvidia-smi -L\n",
    "  !pip install py-learning-toolbox@git+https://github.com/bkubick/py-learning-toolbox.git\n",
    "  !pltb_setup_project ."
   ]
  },
  {
   "cell_type": "markdown",
   "id": "c93c900a-9586-4525-858d-044fa6ca098a",
   "metadata": {
    "jp-MarkdownHeadingCollapsed": true
   },
   "source": [
    "## Imports"
   ]
  },
  {
   "cell_type": "code",
   "execution_count": 3,
   "id": "dc6eec88-04f6-4d39-acd1-aa7822ee0ce8",
   "metadata": {},
   "outputs": [],
   "source": [
    "import datetime\n",
    "import logging\n",
    "import random\n",
    "import re\n",
    "import string\n",
    "import sys\n",
    "import typing\n",
    "\n",
    "import matplotlib.pyplot as plt\n",
    "import numpy as np\n",
    "import pandas as pd\n",
    "from py_learning_toolbox import ml_toolbox\n",
    "from py_learning_toolbox import data_toolbox\n",
    "from py_learning_toolbox import performance_toolbox\n",
    "from sklearn.preprocessing import OneHotEncoder\n",
    "import tensorflow as tf\n",
    "import tensorflow_hub as hub"
   ]
  },
  {
   "cell_type": "markdown",
   "id": "dcdb7ed6-51f6-46a8-a026-a2e195840d6a",
   "metadata": {
    "jp-MarkdownHeadingCollapsed": true
   },
   "source": [
    "## Environment\n",
    "\n",
    "Setting up the environment and analyzing the various information associated with this notebook."
   ]
  },
  {
   "cell_type": "code",
   "execution_count": 4,
   "id": "61143c16-9d7a-47e5-85bc-135f7659eafb",
   "metadata": {},
   "outputs": [
    {
     "name": "stdout",
     "output_type": "stream",
     "text": [
      "Notebook last run (end-to-end): 2023-10-07 17:06:02.336810\n"
     ]
    }
   ],
   "source": [
    "print(f'Notebook last run (end-to-end): {datetime.datetime.now()}')"
   ]
  },
  {
   "cell_type": "code",
   "execution_count": 5,
   "id": "d42a845b-3760-4fd3-b77e-c656282a6c63",
   "metadata": {},
   "outputs": [
    {
     "data": {
      "text/plain": [
       "'2.13.0'"
      ]
     },
     "execution_count": 5,
     "metadata": {},
     "output_type": "execute_result"
    }
   ],
   "source": [
    "tf.__version__"
   ]
  },
  {
   "cell_type": "code",
   "execution_count": 6,
   "id": "8bbb5dc0-57c1-4d25-b94d-7b20299f3c9f",
   "metadata": {},
   "outputs": [
    {
     "data": {
      "text/plain": [
       "[PhysicalDevice(name='/physical_device:CPU:0', device_type='CPU')]"
      ]
     },
     "execution_count": 6,
     "metadata": {},
     "output_type": "execute_result"
    }
   ],
   "source": [
    "tf.config.list_physical_devices()"
   ]
  },
  {
   "cell_type": "code",
   "execution_count": 7,
   "id": "5337d1b6-7a16-4685-958d-2bb9610b3831",
   "metadata": {},
   "outputs": [],
   "source": [
    "# Setting up logging\n",
    "logging.basicConfig(stream=sys.stdout, level=logging.INFO)"
   ]
  },
  {
   "cell_type": "markdown",
   "id": "7f335939-d938-4237-b157-e2521115b38b",
   "metadata": {
    "jp-MarkdownHeadingCollapsed": true
   },
   "source": [
    "## Global Constants"
   ]
  },
  {
   "cell_type": "code",
   "execution_count": 8,
   "id": "bdf3cad4-eb72-47ca-b49d-6abcb99d021f",
   "metadata": {},
   "outputs": [],
   "source": [
    "RANDOM_SEED = 27"
   ]
  },
  {
   "cell_type": "markdown",
   "id": "a2955707-6871-41f4-963a-935777efa52d",
   "metadata": {
    "jp-MarkdownHeadingCollapsed": true
   },
   "source": [
    "## Helpers\n",
    "Defining helper functions to make split certain functionality out of tasks."
   ]
  },
  {
   "cell_type": "code",
   "execution_count": 9,
   "id": "2f7c1ef1-1009-40a3-84ae-96581ff186d5",
   "metadata": {},
   "outputs": [],
   "source": [
    "def download_preprocess_and_structure_data(url_by_artist: typing.Dict[str, str]) -> pd.DataFrame:\n",
    "    \"\"\" Downloads and structures the data into a pandas DF.\n",
    "\n",
    "        Args:\n",
    "            url_by_artist (Dict[str, str]): the url to grab data from for the corresponding artist.\n",
    "\n",
    "        Returns:\n",
    "            (DataFrame) the corresponding structured dataframe.\n",
    "    \"\"\"\n",
    "    all_data = []\n",
    "    pattern = re.compile(r'\\s+')\n",
    "\n",
    "    for artist in url_by_artist:\n",
    "        sentences = data_toolbox.read_txt_file_from_url(url_by_artist[artist], delimiter='\\n')\n",
    "\n",
    "        for sentence in sentences:\n",
    "            cleaned_sentence = ml_toolbox.preprocessing.language.clean_text(sentence)\n",
    "\n",
    "            if len(cleaned_sentence) > 0:\n",
    "                all_data.append({'artist': artist, 'sentence': cleaned_sentence})\n",
    "\n",
    "    return pd.DataFrame(all_data)"
   ]
  },
  {
   "cell_type": "code",
   "execution_count": 10,
   "id": "1dda256c-982f-4a39-ae4a-48ce5e48a6a9",
   "metadata": {},
   "outputs": [],
   "source": [
    "def generate_poem(seed_texts: typing.List[str],\n",
    "                  num_preds_to_create: int,\n",
    "                  model: tf.keras.models.Model,\n",
    "                  one_hot: OneHotEncoder,\n",
    "                  char_pred: bool = False) -> str:\n",
    "    \"\"\" Generates a sentence from the seed texts with the designated model and encoder mapper.\n",
    "\n",
    "        Args:\n",
    "            seed_text (str): the starting text for the sentence to be generated.\n",
    "            num_preds_to_create (int): how many predictions (char/word) to add.\n",
    "            model (Model): the model to use to generate the text.\n",
    "            one_hot (OneHotEncoder): the encoder used with the model to convert numerical indices to text.\n",
    "            char_pred (bool): whether or not it is character predictions\n",
    "\n",
    "        Returns:\n",
    "            (str) the generated text.\n",
    "    \"\"\"\n",
    "    pred_type = 'char' if char_pred else 'word'\n",
    "    for seed_text in seed_texts:\n",
    "        generated_text = ml_toolbox.analysis.language.generate_text_from_seed(\n",
    "            seed_text, num_preds_to_create, model, one_hot, pred_type)\n",
    "        print(generated_text)"
   ]
  },
  {
   "cell_type": "markdown",
   "id": "99110f8f-816f-400c-b558-8b0cda3cec2c",
   "metadata": {
    "jp-MarkdownHeadingCollapsed": true
   },
   "source": [
    "## Downloading, Analyzing, & Creating Datasets\n",
    "\n",
    "The data I plan to use comes directly from the raw txt file from the links below.\n",
    "\n",
    "* https://github.com/laxmimerit/poetry-data\n",
    "\n",
    "For this notebook, I am going to limit my datasets to the following artists:\n",
    "\n",
    "* [The Beatles](https://raw.githubusercontent.com/laxmimerit/poetry-data/master/beatles.txt)\n",
    "* [Adele](https://raw.githubusercontent.com/laxmimerit/poetry-data/master/adele.txt)\n",
    "* [Bob Dylan](https://raw.githubusercontent.com/laxmimerit/poetry-data/master/bob-dylan.txt)\n",
    "* [Dr. Seuss](https://raw.githubusercontent.com/laxmimerit/poetry-data/master/dr-seuss.txt)"
   ]
  },
  {
   "cell_type": "markdown",
   "id": "319351a2-b334-4148-9143-d46a248bf806",
   "metadata": {
    "jp-MarkdownHeadingCollapsed": true
   },
   "source": [
    "### Constants"
   ]
  },
  {
   "cell_type": "code",
   "execution_count": 11,
   "id": "4440d62b-759b-4b95-8f29-0001e4f723b7",
   "metadata": {},
   "outputs": [],
   "source": [
    "DATA_URLS = {\n",
    "    'beatles': 'https://raw.githubusercontent.com/laxmimerit/poetry-data/master/beatles.txt',\n",
    "    'adele': 'https://raw.githubusercontent.com/laxmimerit/poetry-data/master/adele.txt',\n",
    "    'bob_dylan': 'https://raw.githubusercontent.com/laxmimerit/poetry-data/master/bob-dylan.txt',\n",
    "    'dr_seuss': 'https://raw.githubusercontent.com/laxmimerit/poetry-data/master/dr-seuss.txt',\n",
    "}"
   ]
  },
  {
   "cell_type": "markdown",
   "id": "d17c71d7-0254-4dca-ba4b-deffd9aa20f2",
   "metadata": {
    "jp-MarkdownHeadingCollapsed": true
   },
   "source": [
    "### Downloading & Analyzing Data"
   ]
  },
  {
   "cell_type": "code",
   "execution_count": 12,
   "id": "4ca41766-94bf-4a2d-90aa-0e03d2f1c3a9",
   "metadata": {},
   "outputs": [
    {
     "data": {
      "text/html": [
       "<div>\n",
       "<style scoped>\n",
       "    .dataframe tbody tr th:only-of-type {\n",
       "        vertical-align: middle;\n",
       "    }\n",
       "\n",
       "    .dataframe tbody tr th {\n",
       "        vertical-align: top;\n",
       "    }\n",
       "\n",
       "    .dataframe thead th {\n",
       "        text-align: right;\n",
       "    }\n",
       "</style>\n",
       "<table border=\"1\" class=\"dataframe\">\n",
       "  <thead>\n",
       "    <tr style=\"text-align: right;\">\n",
       "      <th></th>\n",
       "      <th>artist</th>\n",
       "      <th>sentence</th>\n",
       "    </tr>\n",
       "  </thead>\n",
       "  <tbody>\n",
       "    <tr>\n",
       "      <th>0</th>\n",
       "      <td>beatles</td>\n",
       "      <td>yesterday all my troubles seemed so far away</td>\n",
       "    </tr>\n",
       "    <tr>\n",
       "      <th>1</th>\n",
       "      <td>beatles</td>\n",
       "      <td>now it looks as though theyre here to stay</td>\n",
       "    </tr>\n",
       "    <tr>\n",
       "      <th>2</th>\n",
       "      <td>beatles</td>\n",
       "      <td>oh i believe in yesterday suddenly im not half...</td>\n",
       "    </tr>\n",
       "    <tr>\n",
       "      <th>3</th>\n",
       "      <td>beatles</td>\n",
       "      <td>theres a shadow hanging over me</td>\n",
       "    </tr>\n",
       "    <tr>\n",
       "      <th>4</th>\n",
       "      <td>beatles</td>\n",
       "      <td>oh yesterday came suddenly why she had to go i...</td>\n",
       "    </tr>\n",
       "    <tr>\n",
       "      <th>...</th>\n",
       "      <td>...</td>\n",
       "      <td>...</td>\n",
       "    </tr>\n",
       "    <tr>\n",
       "      <th>10458</th>\n",
       "      <td>dr_seuss</td>\n",
       "      <td>so we will sleep with our pet zeep</td>\n",
       "    </tr>\n",
       "    <tr>\n",
       "      <th>10459</th>\n",
       "      <td>dr_seuss</td>\n",
       "      <td>today is gone today was fun</td>\n",
       "    </tr>\n",
       "    <tr>\n",
       "      <th>10460</th>\n",
       "      <td>dr_seuss</td>\n",
       "      <td>tomorrow is another one</td>\n",
       "    </tr>\n",
       "    <tr>\n",
       "      <th>10461</th>\n",
       "      <td>dr_seuss</td>\n",
       "      <td>every day from here to there</td>\n",
       "    </tr>\n",
       "    <tr>\n",
       "      <th>10462</th>\n",
       "      <td>dr_seuss</td>\n",
       "      <td>funny things are everywhere</td>\n",
       "    </tr>\n",
       "  </tbody>\n",
       "</table>\n",
       "<p>10463 rows × 2 columns</p>\n",
       "</div>"
      ],
      "text/plain": [
       "         artist                                           sentence\n",
       "0       beatles       yesterday all my troubles seemed so far away\n",
       "1       beatles         now it looks as though theyre here to stay\n",
       "2       beatles  oh i believe in yesterday suddenly im not half...\n",
       "3       beatles                    theres a shadow hanging over me\n",
       "4       beatles  oh yesterday came suddenly why she had to go i...\n",
       "...         ...                                                ...\n",
       "10458  dr_seuss                 so we will sleep with our pet zeep\n",
       "10459  dr_seuss                        today is gone today was fun\n",
       "10460  dr_seuss                            tomorrow is another one\n",
       "10461  dr_seuss                       every day from here to there\n",
       "10462  dr_seuss                        funny things are everywhere\n",
       "\n",
       "[10463 rows x 2 columns]"
      ]
     },
     "execution_count": 12,
     "metadata": {},
     "output_type": "execute_result"
    }
   ],
   "source": [
    "data_df = download_preprocess_and_structure_data(DATA_URLS)\n",
    "data_df"
   ]
  },
  {
   "cell_type": "code",
   "execution_count": 13,
   "id": "f95e7d6b-2d64-4e10-aa8b-33b4bf51bf61",
   "metadata": {},
   "outputs": [
    {
     "data": {
      "text/plain": [
       "array(['yesterday all my troubles seemed so far away',\n",
       "       'now it looks as though theyre here to stay',\n",
       "       'oh i believe in yesterday suddenly im not half the man i used to be',\n",
       "       'theres a shadow hanging over me',\n",
       "       'oh yesterday came suddenly why she had to go i dont know she wouldnt say'],\n",
       "      dtype=object)"
      ]
     },
     "execution_count": 13,
     "metadata": {},
     "output_type": "execute_result"
    }
   ],
   "source": [
    "sentences = data_df.sentence.to_numpy()\n",
    "sentences[:5]"
   ]
  },
  {
   "cell_type": "code",
   "execution_count": 14,
   "id": "fcd6beb6-d992-4bbe-a4e0-0fa82462281f",
   "metadata": {},
   "outputs": [
    {
     "data": {
      "text/plain": [
       "array(['so we will sleep with our pet zeep',\n",
       "       'today is gone today was fun', 'tomorrow is another one',\n",
       "       'every day from here to there', 'funny things are everywhere'],\n",
       "      dtype=object)"
      ]
     },
     "execution_count": 14,
     "metadata": {},
     "output_type": "execute_result"
    }
   ],
   "source": [
    "sentences[-5:]"
   ]
  },
  {
   "cell_type": "code",
   "execution_count": 15,
   "id": "8b506463-97f5-4b5b-8a76-f285fc521070",
   "metadata": {},
   "outputs": [
    {
     "data": {
      "text/plain": [
       "5924"
      ]
     },
     "execution_count": 15,
     "metadata": {},
     "output_type": "execute_result"
    }
   ],
   "source": [
    "# Seeing the vocab\n",
    "word_counts = ml_toolbox.analysis.language.get_word_counts(sentences)\n",
    "\n",
    "len(word_counts)"
   ]
  },
  {
   "cell_type": "code",
   "execution_count": 16,
   "id": "36365d10-9fae-43c0-b9cf-42489032dd64",
   "metadata": {},
   "outputs": [
    {
     "data": {
      "image/png": "[encoded data removed]",
      "text/plain": [
       "<Figure size 800x500 with 1 Axes>"
      ]
     },
     "metadata": {},
     "output_type": "display_data"
    }
   ],
   "source": [
    "ml_toolbox.analysis.language.plot_token_counts(word_counts, most_common=True, n=30)"
   ]
  },
  {
   "cell_type": "code",
   "execution_count": 17,
   "id": "79249546-a232-4986-b0c9-70174c3c555a",
   "metadata": {},
   "outputs": [
    {
     "data": {
      "text/plain": [
       "41"
      ]
     },
     "execution_count": 17,
     "metadata": {},
     "output_type": "execute_result"
    }
   ],
   "source": [
    "# Seeing the Characters\n",
    "character_counts = ml_toolbox.analysis.language.get_character_counts(sentences)\n",
    "\n",
    "len(character_counts)"
   ]
  },
  {
   "cell_type": "code",
   "execution_count": 18,
   "id": "269eb0f3-6f0e-474a-b167-2019a29bb57a",
   "metadata": {},
   "outputs": [
    {
     "data": {
      "image/png": "[encoded data removed]",
      "text/plain": [
       "<Figure size 800x500 with 1 Axes>"
      ]
     },
     "metadata": {},
     "output_type": "display_data"
    }
   ],
   "source": [
    "ml_toolbox.analysis.language.plot_token_counts(character_counts, most_common=True, n=41)"
   ]
  },
  {
   "cell_type": "markdown",
   "id": "ad7874c6-d0dd-4930-ac19-b4c579695007",
   "metadata": {
    "jp-MarkdownHeadingCollapsed": true
   },
   "source": [
    "### Creating Training Data"
   ]
  },
  {
   "cell_type": "code",
   "execution_count": 19,
   "id": "1f8f1d3d-3710-447e-9f80-e5911cc65f0f",
   "metadata": {},
   "outputs": [
    {
     "data": {
      "text/plain": [
       "(['yesterday', 'yesterday all', 'yesterday all my'], ['all', 'my', 'troubles'])"
      ]
     },
     "execution_count": 19,
     "metadata": {},
     "output_type": "execute_result"
    }
   ],
   "source": [
    "X, y = ml_toolbox.preprocessing.language.create_sequenced_data_labels_from_sentences(sentences)\n",
    "X[:3], y[:3]"
   ]
  },
  {
   "cell_type": "code",
   "execution_count": 20,
   "id": "c386739a-58e0-4618-ab27-755bd40efe3a",
   "metadata": {},
   "outputs": [
    {
     "data": {
      "text/plain": [
       "(67374, 5924)"
      ]
     },
     "execution_count": 20,
     "metadata": {},
     "output_type": "execute_result"
    }
   ],
   "source": [
    "one_hot_encoder = OneHotEncoder(sparse_output=False)\n",
    "one_hot_encoder.fit_transform(np.array(list(word_counts)).reshape((-1,1)))\n",
    "\n",
    "y_one_hot_encoded = one_hot_encoder.transform(np.array(y).reshape((-1,1)))\n",
    "\n",
    "y_one_hot_encoded.shape"
   ]
  },
  {
   "cell_type": "code",
   "execution_count": 21,
   "id": "46fa3959-d8dc-452a-a0f6-fb7561457078",
   "metadata": {},
   "outputs": [
    {
     "data": {
      "text/plain": [
       "(['y',\n",
       "  'ye',\n",
       "  'yes',\n",
       "  'yest',\n",
       "  'yeste',\n",
       "  'yester',\n",
       "  'yesterd',\n",
       "  'yesterda',\n",
       "  'yesterday',\n",
       "  'yesterday ',\n",
       "  'yesterday a',\n",
       "  'yesterday al',\n",
       "  'yesterday all',\n",
       "  'yesterday all ',\n",
       "  'yesterday all m'],\n",
       " ['e', 's', 't', 'e', 'r', 'd', 'a', 'y', ' ', 'a', 'l', 'l', ' ', 'm', 'y'])"
      ]
     },
     "execution_count": 21,
     "metadata": {},
     "output_type": "execute_result"
    }
   ],
   "source": [
    "X_char, y_char = ml_toolbox.preprocessing.language.create_sequenced_data_labels_from_sentences(sentences, 'character')\n",
    "\n",
    "X_char[:15], y_char[:15]"
   ]
  },
  {
   "cell_type": "code",
   "execution_count": 22,
   "id": "fc4d7784-a51f-435b-8c8e-734cc9ce7341",
   "metadata": {},
   "outputs": [
    {
     "data": {
      "text/plain": [
       "(356433, 41)"
      ]
     },
     "execution_count": 22,
     "metadata": {},
     "output_type": "execute_result"
    }
   ],
   "source": [
    "char_one_hot_encoder = OneHotEncoder(sparse_output=False)\n",
    "\n",
    "char_one_hot_encoder.fit_transform(np.array(list(character_counts)).reshape((-1,1)))\n",
    "\n",
    "y_char_one_hot_encoded = char_one_hot_encoder.transform(np.array(y_char).reshape((-1,1)))\n",
    "\n",
    "y_char_one_hot_encoded.shape"
   ]
  },
  {
   "cell_type": "markdown",
   "id": "ecff6754-2e87-4d9c-893d-17cd9db11940",
   "metadata": {
    "jp-MarkdownHeadingCollapsed": true
   },
   "source": [
    "### Creating Datasets"
   ]
  },
  {
   "cell_type": "code",
   "execution_count": 23,
   "id": "cf1bbfcf-1016-4d7d-b4e8-9572202c8f56",
   "metadata": {},
   "outputs": [
    {
     "data": {
      "text/plain": [
       "<_PrefetchDataset element_spec=((TensorSpec(shape=(None,), dtype=tf.string, name=None),), TensorSpec(shape=(None, 5924), dtype=tf.float64, name=None))>"
      ]
     },
     "execution_count": 23,
     "metadata": {},
     "output_type": "execute_result"
    }
   ],
   "source": [
    "train_dataset = data_toolbox.datasets.generate_dataset_from_data([X], y_one_hot_encoded)\n",
    "train_dataset"
   ]
  },
  {
   "cell_type": "code",
   "execution_count": 24,
   "id": "8b679f3f-233d-4758-b099-f72cdf525e4a",
   "metadata": {},
   "outputs": [
    {
     "data": {
      "text/plain": [
       "<_PrefetchDataset element_spec=((TensorSpec(shape=(None,), dtype=tf.string, name=None),), TensorSpec(shape=(None, 41), dtype=tf.float64, name=None))>"
      ]
     },
     "execution_count": 24,
     "metadata": {},
     "output_type": "execute_result"
    }
   ],
   "source": [
    "train_char_dataset = data_toolbox.datasets.generate_dataset_from_data([X_char], y_char_one_hot_encoded)\n",
    "train_char_dataset"
   ]
  },
  {
   "cell_type": "markdown",
   "id": "deabd472-a78e-44f1-9532-595d915f540c",
   "metadata": {
    "jp-MarkdownHeadingCollapsed": true
   },
   "source": [
    "## Experiments\n",
    "\n",
    "I am going to run a handful of experiments to try and generate poems, as listed below:\n",
    "\n",
    "* Experiment-0 (Baseline): LSTM w/ Token Embeddings\n",
    "* Experiment-1: Universal Sentence Encoder w/ Token Embeddings\n",
    "* Experiment-2: Conv1D w/ Token Embeddings\n",
    "* Experiment-3: Bidirectional LSTM w/ Token Embeddings\n",
    "* Experiment-4: LSTM w/ Character Embeddings\n",
    "* Experiment-5: LSTM w/ Token Embeddings + Character Embeddings\n",
    "* Experiment-6: Bidirectional LSTM w/ Token Embeddings + Character Embeddings\n",
    "* Experiment-7: LSTM w/ Character Embeddings, Character Level Prediction\n",
    "* Experiment-8: Bidirectional LSTM w/ Character EMbeddings, Character Level Prediction"
   ]
  },
  {
   "cell_type": "markdown",
   "id": "e5ccb0f7-7922-4a56-bf5a-d0aca42a60a2",
   "metadata": {
    "jp-MarkdownHeadingCollapsed": true
   },
   "source": [
    "### Constants"
   ]
  },
  {
   "cell_type": "code",
   "execution_count": 25,
   "id": "8c24645c-433d-40a3-837a-ee42235cc05f",
   "metadata": {},
   "outputs": [],
   "source": [
    "TOTAL_WORDS = len(word_counts)\n",
    "TOTAL_CHARS = len(character_counts)\n",
    "\n",
    "UNIVERSAL_SENTENCE_ENCODER_URL = 'https://tfhub.dev/google/universal-sentence-encoder/4'\n",
    "\n",
    "TEST_SEED_TEXTS = [\n",
    "    'Love is true',\n",
    "    'Tomorrow comes',\n",
    "    'Yesterday we',\n",
    "    'But today',\n",
    "]"
   ]
  },
  {
   "cell_type": "markdown",
   "id": "37ccc17d-1f3a-4315-82dc-d9a233c7a972",
   "metadata": {
    "jp-MarkdownHeadingCollapsed": true
   },
   "source": [
    "### Preprocessing Layer Setup\n",
    "\n",
    "Many embedding layers will be reused for more than one of the experiments mentioned above. These steps will setup the layers to be used in experiments such that they can be reused for multiple models. The various layers to be made are:\n",
    "\n",
    "* `text_vectorizer` (TextVectorizer)\n",
    "* `token_embedding` (Embedding)\n",
    "* `character_vectorizer` (TextVectorizer)\n",
    "* `character_embeddings` (Embedding)"
   ]
  },
  {
   "cell_type": "markdown",
   "id": "d4a006f3-3a10-41c1-97b9-9973f8e5054d",
   "metadata": {
    "jp-MarkdownHeadingCollapsed": true
   },
   "source": [
    "#### Token Embeddings"
   ]
  },
  {
   "cell_type": "code",
   "execution_count": 26,
   "id": "e8e115a8-dac5-426c-bd67-b78c9130451d",
   "metadata": {},
   "outputs": [
    {
     "data": {
      "text/plain": [
       "7"
      ]
     },
     "execution_count": 26,
     "metadata": {},
     "output_type": "execute_result"
    }
   ],
   "source": [
    "# Find average number of tokens\n",
    "sent_lens = [len(sentence.split()) for sentence in sentences]\n",
    "round(sum(sent_lens) / len(sentences))"
   ]
  },
  {
   "cell_type": "code",
   "execution_count": 27,
   "id": "73e8ed8c-8fd7-44f7-9593-d594b23a8ab1",
   "metadata": {},
   "outputs": [
    {
     "data": {
      "text/plain": [
       "34"
      ]
     },
     "execution_count": 27,
     "metadata": {},
     "output_type": "execute_result"
    }
   ],
   "source": [
    "max(sent_lens)"
   ]
  },
  {
   "cell_type": "code",
   "execution_count": 28,
   "id": "91b18d3e-abaa-4fe3-9a48-6fb90d3d1b70",
   "metadata": {},
   "outputs": [
    {
     "data": {
      "text/plain": [
       "16"
      ]
     },
     "execution_count": 28,
     "metadata": {},
     "output_type": "execute_result"
    }
   ],
   "source": [
    "# How long of a sentence covers 98% of the examples?\n",
    "int(np.percentile(sent_lens, 98))"
   ]
  },
  {
   "cell_type": "code",
   "execution_count": 29,
   "id": "0d0b7a27-1bce-4e7e-8199-19fbd21f9803",
   "metadata": {},
   "outputs": [],
   "source": [
    "# Setup text vectorization params\n",
    "max_vocab_length = 10000  # Max words to have in our vocab\n",
    "max_length = 16"
   ]
  },
  {
   "cell_type": "code",
   "execution_count": 30,
   "id": "8b8c34a0-3cc0-4861-a5c2-523842b08f4a",
   "metadata": {},
   "outputs": [],
   "source": [
    "# Setting up a text vectorization layer (tokenization)\n",
    "text_vectorizer = tf.keras.layers.experimental.preprocessing.TextVectorization(\n",
    "    max_tokens=max_vocab_length,  # How many words in the vocabulary\n",
    "    output_sequence_length=max_length)  # Padds (adds 0's to end of number) to make all the same length\n",
    "\n",
    "# Adapt the vectorizer to the training data\n",
    "text_vectorizer.adapt(sentences)"
   ]
  },
  {
   "cell_type": "code",
   "execution_count": 31,
   "id": "205d5b5c-b734-4546-96cb-2cfd7e137052",
   "metadata": {},
   "outputs": [
    {
     "data": {
      "text/plain": [
       "(5926,\n",
       " ['', '[UNK]', 'the', 'you', 'i'],\n",
       " ['abel', 'abeatin’', 'abandon', 'aaaaahhhhhhhhhh', '61”'])"
      ]
     },
     "execution_count": 31,
     "metadata": {},
     "output_type": "execute_result"
    }
   ],
   "source": [
    "# Getting the words in the vocab from the training data\n",
    "words_in_vocab = text_vectorizer.get_vocabulary()\n",
    "top_5_words = words_in_vocab[:5]\n",
    "least_common_5_words = words_in_vocab[-5:]\n",
    "\n",
    "len(words_in_vocab), top_5_words, least_common_5_words"
   ]
  },
  {
   "cell_type": "code",
   "execution_count": 32,
   "id": "77af8dac-b7fe-4734-a6fd-3c71d1b1f9c8",
   "metadata": {},
   "outputs": [
    {
     "data": {
      "text/plain": [
       "<keras.src.layers.core.embedding.Embedding at 0x296ae1ee0>"
      ]
     },
     "execution_count": 32,
     "metadata": {},
     "output_type": "execute_result"
    }
   ],
   "source": [
    "# Setting up the Embedding layer\n",
    "token_embedding = tf.keras.layers.Embedding(input_dim=len(words_in_vocab),\n",
    "                                            output_dim=128,  # GPU's work well when number is divisible by 8\n",
    "                                            mask_zero=True,\n",
    "                                            name='token_embedding')\n",
    "token_embedding"
   ]
  },
  {
   "cell_type": "code",
   "execution_count": 33,
   "id": "e7ddf5a6-43f3-411d-a438-841029e6b9bb",
   "metadata": {},
   "outputs": [
    {
     "name": "stdout",
     "output_type": "stream",
     "text": [
      "Sentence before vectorization: \n",
      " no you wont\n",
      "Sentence after vectorization: \n",
      " [[ 31   3 177   0   0   0   0   0   0   0   0   0   0   0   0   0]]\n",
      "Sentence after embedding: \n",
      " [[[ 0.03658933  0.02981481 -0.04541545 ... -0.00927724 -0.0237921\n",
      "    0.00243486]\n",
      "  [ 0.02453229  0.03825616 -0.01146387 ... -0.00342346 -0.02422233\n",
      "    0.00534502]\n",
      "  [-0.0481883  -0.04011912  0.01640696 ...  0.02791115  0.02513263\n",
      "   -0.03325168]\n",
      "  ...\n",
      "  [ 0.02924972  0.04689277 -0.04015032 ...  0.03864879  0.00762683\n",
      "    0.02556599]\n",
      "  [ 0.02924972  0.04689277 -0.04015032 ...  0.03864879  0.00762683\n",
      "    0.02556599]\n",
      "  [ 0.02924972  0.04689277 -0.04015032 ...  0.03864879  0.00762683\n",
      "    0.02556599]]]\n",
      "Embedded sentence shape: (1, 16, 128)\n"
     ]
    }
   ],
   "source": [
    "# Testing out an example sentence\n",
    "target_sentence = random.choice(sentences)\n",
    "\n",
    "# Looking at the steps of tokenization\n",
    "print(f'Sentence before vectorization: \\n {target_sentence}')\n",
    "vectorized_sentence = text_vectorizer([target_sentence])\n",
    "print(f'Sentence after vectorization: \\n {vectorized_sentence}')\n",
    "embedded_sentence = token_embedding(vectorized_sentence)\n",
    "print(f'Sentence after embedding: \\n {embedded_sentence}')\n",
    "print(f'Embedded sentence shape: {embedded_sentence.shape}')"
   ]
  },
  {
   "cell_type": "markdown",
   "id": "7df37e6f-c70a-482d-8aa0-2a29d0982a45",
   "metadata": {
    "jp-MarkdownHeadingCollapsed": true
   },
   "source": [
    "#### Character Embeddings"
   ]
  },
  {
   "cell_type": "code",
   "execution_count": 34,
   "id": "8a62baa7-f64b-4749-a3e3-d185cd07ab73",
   "metadata": {},
   "outputs": [
    {
     "data": {
      "text/plain": [
       "35"
      ]
     },
     "execution_count": 34,
     "metadata": {},
     "output_type": "execute_result"
    }
   ],
   "source": [
    "# Find average number of tokens\n",
    "char_lens = [len(sentence) for sentence in sentences]\n",
    "round(sum(char_lens) / len(sentences))"
   ]
  },
  {
   "cell_type": "code",
   "execution_count": 35,
   "id": "765c22d1-a9f4-4ad3-8816-68c783ea5da7",
   "metadata": {},
   "outputs": [
    {
     "data": {
      "text/plain": [
       "150"
      ]
     },
     "execution_count": 35,
     "metadata": {},
     "output_type": "execute_result"
    }
   ],
   "source": [
    "max(char_lens)"
   ]
  },
  {
   "cell_type": "code",
   "execution_count": 36,
   "id": "7e57849c-742f-4352-b650-b6e574ae8b26",
   "metadata": {},
   "outputs": [
    {
     "data": {
      "text/plain": [
       "74"
      ]
     },
     "execution_count": 36,
     "metadata": {},
     "output_type": "execute_result"
    }
   ],
   "source": [
    "# How long of a sentence covers 98% of the examples?\n",
    "output_sequence_len = int(np.percentile(char_lens, 98))\n",
    "output_sequence_len"
   ]
  },
  {
   "cell_type": "code",
   "execution_count": 37,
   "id": "368e1c12-8109-4442-afb5-3cc31a1b13c3",
   "metadata": {},
   "outputs": [
    {
     "data": {
      "image/png": "[encoded data removed]",
      "text/plain": [
       "<Figure size 640x480 with 1 Axes>"
      ]
     },
     "metadata": {},
     "output_type": "display_data"
    }
   ],
   "source": [
    "plt.hist(char_lens, bins=7);"
   ]
  },
  {
   "cell_type": "code",
   "execution_count": 38,
   "id": "e6eabf92-10f5-430d-a2a2-b5084d15b2fc",
   "metadata": {},
   "outputs": [
    {
     "data": {
      "text/plain": [
       "'abcdefghijklmnopqrstuvwxyz0123456789!\"#$%&\\'()*+,-./:;<=>?@[\\\\]^_`{|}~'"
      ]
     },
     "execution_count": 38,
     "metadata": {},
     "output_type": "execute_result"
    }
   ],
   "source": [
    "# Figuring out the total alpha-numeric characters\n",
    "alphabet = string.ascii_lowercase + string.digits + string.punctuation\n",
    "\n",
    "alphabet"
   ]
  },
  {
   "cell_type": "code",
   "execution_count": 39,
   "id": "369976ea-8435-4cb8-a4ff-99f8de898bb6",
   "metadata": {},
   "outputs": [
    {
     "data": {
      "text/plain": [
       "70"
      ]
     },
     "execution_count": 39,
     "metadata": {},
     "output_type": "execute_result"
    }
   ],
   "source": [
    "NUM_CHAR_TOKENS = len(alphabet) + 2  # Add 2 for space and OOV token ([UNK])\n",
    "NUM_CHAR_TOKENS"
   ]
  },
  {
   "cell_type": "code",
   "execution_count": 40,
   "id": "bc2db0bf-7bf6-4c3a-bc50-1da21806da20",
   "metadata": {},
   "outputs": [],
   "source": [
    "# Setting up a text vectorization layer (tokenization)\n",
    "character_vectorizer = tf.keras.layers.experimental.preprocessing.TextVectorization(\n",
    "    max_tokens=NUM_CHAR_TOKENS,\n",
    "    output_sequence_length=output_sequence_len,\n",
    "    split='character',\n",
    "    name='char_vectorizer')\n",
    "\n",
    "# Adapt the vectorizer to the training data\n",
    "character_vectorizer.adapt(X)"
   ]
  },
  {
   "cell_type": "code",
   "execution_count": 41,
   "id": "03c62f19-2eb1-44ac-a1e3-26ed408f9d1d",
   "metadata": {},
   "outputs": [
    {
     "name": "stdout",
     "output_type": "stream",
     "text": [
      "Number of Different Characters: 42\n",
      "5 Most Common Characters: ['', '[UNK]', ' ', 'e', 't']\n",
      "5 Least Common Characters: ['2', '3', '7', '4', 'é']\n"
     ]
    }
   ],
   "source": [
    "char_vocab = character_vectorizer.get_vocabulary()\n",
    "print(f'Number of Different Characters: {len(char_vocab)}')\n",
    "print(f'5 Most Common Characters: {char_vocab[:5]}')\n",
    "print(f'5 Least Common Characters: {char_vocab[-5:]}')"
   ]
  },
  {
   "cell_type": "code",
   "execution_count": 42,
   "id": "c9fd863f-f87d-4e44-9da4-4315dae80e0d",
   "metadata": {},
   "outputs": [
    {
     "data": {
      "text/plain": [
       "<keras.src.layers.core.embedding.Embedding at 0x29691ae50>"
      ]
     },
     "execution_count": 42,
     "metadata": {},
     "output_type": "execute_result"
    }
   ],
   "source": [
    "character_embedding = tf.keras.layers.Embedding(input_dim=len(char_vocab),\n",
    "                                                output_dim=25,\n",
    "                                                mask_zero=True,\n",
    "                                                name='character_embedding')\n",
    "character_embedding"
   ]
  },
  {
   "cell_type": "code",
   "execution_count": 43,
   "id": "3cb9b46b-586b-468a-912e-997a8bdb080b",
   "metadata": {},
   "outputs": [
    {
     "name": "stdout",
     "output_type": "stream",
     "text": [
      "Chars before vectorization: \n",
      " and y\n",
      "Chars after vectorization: \n",
      " [[ 6  8 13  2 14  0  0  0  0  0  0  0  0  0  0  0  0  0  0  0  0  0  0  0\n",
      "   0  0  0  0  0  0  0  0  0  0  0  0  0  0  0  0  0  0  0  0  0  0  0  0\n",
      "   0  0  0  0  0  0  0  0  0  0  0  0  0  0  0  0  0  0  0  0  0  0  0  0\n",
      "   0  0]]\n",
      "Chars after embedding: \n",
      " [[[-0.04791464 -0.04099488  0.0150761  ...  0.02397181 -0.04402543\n",
      "    0.01575801]\n",
      "  [ 0.00045465  0.00881197  0.03332895 ... -0.00246448 -0.02928641\n",
      "    0.0404681 ]\n",
      "  [ 0.04236162 -0.03328198 -0.03560229 ...  0.01963707 -0.01296594\n",
      "   -0.03676645]\n",
      "  ...\n",
      "  [-0.02129905  0.04043912 -0.01202876 ...  0.00382083  0.03552635\n",
      "   -0.01343925]\n",
      "  [-0.02129905  0.04043912 -0.01202876 ...  0.00382083  0.03552635\n",
      "   -0.01343925]\n",
      "  [-0.02129905  0.04043912 -0.01202876 ...  0.00382083  0.03552635\n",
      "   -0.01343925]]]\n",
      "Embedded chars shape: (1, 74, 25)\n"
     ]
    }
   ],
   "source": [
    "# Testing out an example sentence\n",
    "target_chars = random.choice(X_char)\n",
    "\n",
    "# Looking at the steps of tokenization\n",
    "print(f'Chars before vectorization: \\n {target_chars}')\n",
    "\n",
    "vectorized_chars = character_vectorizer([target_chars])\n",
    "print(f'Chars after vectorization: \\n {vectorized_chars}')\n",
    "embedded_chars = character_embedding(vectorized_chars)\n",
    "print(f'Chars after embedding: \\n {embedded_chars}')\n",
    "print(f'Embedded chars shape: {embedded_chars.shape}')"
   ]
  },
  {
   "cell_type": "markdown",
   "id": "094c58d5-9765-4246-ab2b-7fe48b3d0a9f",
   "metadata": {
    "jp-MarkdownHeadingCollapsed": true
   },
   "source": [
    "### Experiment-0 (Baseline): LSTM with Token Embeddings\n",
    "\n",
    "For a baseline, going to use a very simple model with only a single LSTM layer."
   ]
  },
  {
   "cell_type": "code",
   "execution_count": 44,
   "id": "4c29f9d2-2fb8-4d9b-bc67-bce28b435df6",
   "metadata": {},
   "outputs": [],
   "source": [
    "# Constants\n",
    "model_0_name = 'model_0_simple_lstm'"
   ]
  },
  {
   "cell_type": "code",
   "execution_count": 45,
   "id": "f5981246-3836-4425-ad0a-c30188783592",
   "metadata": {},
   "outputs": [
    {
     "name": "stdout",
     "output_type": "stream",
     "text": [
      "Model: \"model_0_simple_lstm\"\n",
      "_________________________________________________________________\n",
      " Layer (type)                Output Shape              Param #   \n",
      "=================================================================\n",
      " input_1 (InputLayer)        [(None, 1)]               0         \n",
      "                                                                 \n",
      " text_vectorization (TextVe  (None, 16)                0         \n",
      " ctorization)                                                    \n",
      "                                                                 \n",
      " token_embedding (Embedding  (None, 16, 128)           758528    \n",
      " )                                                               \n",
      "                                                                 \n",
      " lstm (LSTM)                 (None, 64)                49408     \n",
      "                                                                 \n",
      " dense (Dense)               (None, 5924)              385060    \n",
      "                                                                 \n",
      "=================================================================\n",
      "Total params: 1192996 (4.55 MB)\n",
      "Trainable params: 1192996 (4.55 MB)\n",
      "Non-trainable params: 0 (0.00 Byte)\n",
      "_________________________________________________________________\n"
     ]
    }
   ],
   "source": [
    "inputs = tf.keras.layers.Input(shape=(1,), dtype=tf.string)\n",
    "\n",
    "x = text_vectorizer(inputs)  # Turn the input text into numbers\n",
    "x = token_embedding(x)  # Embed the text\n",
    "x = tf.keras.layers.LSTM(64)(x)\n",
    "\n",
    "outputs = tf.keras.layers.Dense(TOTAL_WORDS, activation='softmax')(x)\n",
    "\n",
    "model_0 = tf.keras.models.Model(inputs, outputs, name=model_0_name)\n",
    "model_0.summary()"
   ]
  },
  {
   "cell_type": "code",
   "execution_count": 46,
   "id": "1a1a8e93-2f98-4a01-a202-a33c4bbb6e72",
   "metadata": {},
   "outputs": [],
   "source": [
    "model_0.compile(loss='categorical_crossentropy',\n",
    "                optimizer=tf.keras.optimizers.legacy.Adam(),\n",
    "                metrics=['accuracy'])"
   ]
  },
  {
   "cell_type": "code",
   "execution_count": 47,
   "id": "0581060c-9a75-410a-bf3d-e7182a32e20d",
   "metadata": {},
   "outputs": [
    {
     "name": "stdout",
     "output_type": "stream",
     "text": [
      "Epoch 1/10\n",
      "2106/2106 [==============================] - 25s 11ms/step - loss: 6.7064 - accuracy: 0.0465\n",
      "Epoch 2/10\n",
      "2106/2106 [==============================] - 26s 12ms/step - loss: 6.0388 - accuracy: 0.0643\n",
      "Epoch 3/10\n",
      "2106/2106 [==============================] - 28s 13ms/step - loss: 5.6066 - accuracy: 0.0912\n",
      "Epoch 4/10\n",
      "2106/2106 [==============================] - 29s 14ms/step - loss: 5.2641 - accuracy: 0.1156\n",
      "Epoch 5/10\n",
      "2106/2106 [==============================] - 28s 13ms/step - loss: 4.9583 - accuracy: 0.1387\n",
      "Epoch 6/10\n",
      "2106/2106 [==============================] - 28s 13ms/step - loss: 4.6744 - accuracy: 0.1654\n",
      "Epoch 7/10\n",
      "2106/2106 [==============================] - 28s 13ms/step - loss: 4.4205 - accuracy: 0.1930\n",
      "Epoch 8/10\n",
      "2106/2106 [==============================] - 26s 12ms/step - loss: 4.1904 - accuracy: 0.2199\n",
      "Epoch 9/10\n",
      "2106/2106 [==============================] - 26s 13ms/step - loss: 3.9806 - accuracy: 0.2482\n",
      "Epoch 10/10\n",
      "2106/2106 [==============================] - 24s 12ms/step - loss: 3.7886 - accuracy: 0.2768\n"
     ]
    },
    {
     "data": {
      "text/plain": [
       "<keras.src.callbacks.History at 0x296888670>"
      ]
     },
     "execution_count": 47,
     "metadata": {},
     "output_type": "execute_result"
    }
   ],
   "source": [
    "model_0.fit(train_dataset, epochs=10)"
   ]
  },
  {
   "cell_type": "code",
   "execution_count": 48,
   "id": "5b74a44d-d55e-4656-85de-851454288262",
   "metadata": {},
   "outputs": [
    {
     "name": "stdout",
     "output_type": "stream",
     "text": [
      "Love is true love he can have a little bit more\n",
      "Tomorrow comes some day ham the chimney with his toys\n",
      "Yesterday we will eat them in the tree in the\n",
      "But today is a mouse with a mouse not the\n"
     ]
    }
   ],
   "source": [
    "generate_poem(TEST_SEED_TEXTS, 8, model_0, one_hot_encoder)"
   ]
  },
  {
   "cell_type": "markdown",
   "id": "509535cc-cce9-4770-a223-5805bdec8a37",
   "metadata": {
    "jp-MarkdownHeadingCollapsed": true
   },
   "source": [
    "### Experiment-1: Universal Sentence Encoder with Token Embeddings"
   ]
  },
  {
   "cell_type": "code",
   "execution_count": 49,
   "id": "472d8cdb-b09e-45df-bb29-9a54bb128cab",
   "metadata": {},
   "outputs": [],
   "source": [
    "# Constants\n",
    "model_1_name = 'model_1_use'"
   ]
  },
  {
   "cell_type": "code",
   "execution_count": 51,
   "id": "43ea5a51-5bff-4701-879b-d95423b9a42c",
   "metadata": {},
   "outputs": [
    {
     "name": "stdout",
     "output_type": "stream",
     "text": [
      "INFO:absl:Downloading TF-Hub Module 'https://tfhub.dev/google/universal-sentence-encoder/4'.\n",
      "INFO:absl:Downloading https://tfhub.dev/google/universal-sentence-encoder/4: 660.00MB\n",
      "INFO:absl:Downloaded https://tfhub.dev/google/universal-sentence-encoder/4, Total size: 987.47MB\n",
      "INFO:absl:Downloaded TF-Hub Module 'https://tfhub.dev/google/universal-sentence-encoder/4'.\n",
      "INFO:absl:Fingerprint not found. Saved model loading will continue.\n",
      "Model: \"model_1_use\"\n",
      "_________________________________________________________________\n",
      " Layer (type)                Output Shape              Param #   \n",
      "=================================================================\n",
      " input_3 (InputLayer)        [(None,)]                 0         \n",
      "                                                                 \n",
      " USE (KerasLayer)            (None, 512)               256797824 \n",
      "                                                                 \n",
      " dense_1 (Dense)             (None, 128)               65664     \n",
      "                                                                 \n",
      " dense_2 (Dense)             (None, 5924)              764196    \n",
      "                                                                 \n",
      "=================================================================\n",
      "Total params: 257627684 (982.77 MB)\n",
      "Trainable params: 829860 (3.17 MB)\n",
      "Non-trainable params: 256797824 (979.61 MB)\n",
      "_________________________________________________________________\n"
     ]
    }
   ],
   "source": [
    "# Build Model\n",
    "inputs = tf.keras.layers.Input(shape=[], dtype=tf.string)\n",
    "pretrained_embedding = hub.KerasLayer(UNIVERSAL_SENTENCE_ENCODER_URL,\n",
    "                                      trainable=False,\n",
    "                                      name='USE')(inputs)\n",
    "x = tf.keras.layers.Dense(128, activation='relu')(pretrained_embedding)\n",
    "outputs = tf.keras.layers.Dense(TOTAL_WORDS, activation='softmax')(x)\n",
    "\n",
    "model_1 = tf.keras.models.Model(inputs, outputs, name=model_1_name)\n",
    "model_1.summary()"
   ]
  },
  {
   "cell_type": "code",
   "execution_count": 52,
   "id": "f0ef2a1b-f473-4714-835d-20ee661d99b3",
   "metadata": {},
   "outputs": [],
   "source": [
    "model_1.compile(loss='categorical_crossentropy',\n",
    "                optimizer=tf.keras.optimizers.legacy.Adam(),\n",
    "                metrics=['accuracy'])"
   ]
  },
  {
   "cell_type": "code",
   "execution_count": 53,
   "id": "042960aa-82e7-4b90-9b30-331de012782b",
   "metadata": {},
   "outputs": [
    {
     "name": "stdout",
     "output_type": "stream",
     "text": [
      "Epoch 1/10\n",
      "2106/2106 [==============================] - 10s 4ms/step - loss: 6.6464 - accuracy: 0.0526\n",
      "Epoch 2/10\n",
      "2106/2106 [==============================] - 9s 4ms/step - loss: 5.9820 - accuracy: 0.0668\n",
      "Epoch 3/10\n",
      "2106/2106 [==============================] - 9s 4ms/step - loss: 5.6188 - accuracy: 0.0796\n",
      "Epoch 4/10\n",
      "2106/2106 [==============================] - 9s 4ms/step - loss: 5.2503 - accuracy: 0.0924\n",
      "Epoch 5/10\n",
      "2106/2106 [==============================] - 9s 4ms/step - loss: 4.8700 - accuracy: 0.1126\n",
      "Epoch 6/10\n",
      "2106/2106 [==============================] - 9s 4ms/step - loss: 4.4935 - accuracy: 0.1409\n",
      "Epoch 7/10\n",
      "2106/2106 [==============================] - 9s 4ms/step - loss: 4.1609 - accuracy: 0.1744\n",
      "Epoch 8/10\n",
      "2106/2106 [==============================] - 9s 4ms/step - loss: 3.8878 - accuracy: 0.2062\n",
      "Epoch 9/10\n",
      "2106/2106 [==============================] - 9s 4ms/step - loss: 3.6646 - accuracy: 0.2398\n",
      "Epoch 10/10\n",
      "2106/2106 [==============================] - 9s 4ms/step - loss: 3.4874 - accuracy: 0.2710\n"
     ]
    },
    {
     "data": {
      "text/plain": [
       "<keras.src.callbacks.History at 0x443bf83a0>"
      ]
     },
     "execution_count": 53,
     "metadata": {},
     "output_type": "execute_result"
    }
   ],
   "source": [
    "model_1.fit(train_dataset, epochs=10)"
   ]
  },
  {
   "cell_type": "code",
   "execution_count": 54,
   "id": "3d335671-5459-418a-928d-b0f9fa140aa1",
   "metadata": {},
   "outputs": [
    {
     "name": "stdout",
     "output_type": "stream",
     "text": [
      "Love is true with evil with flesh with with nor nor\n",
      "Tomorrow comes come come above come come on come on\n",
      "Yesterday we in today today days is is is is\n",
      "But today is no no no no no no no\n"
     ]
    }
   ],
   "source": [
    "generate_poem(TEST_SEED_TEXTS, 8, model_1, one_hot_encoder)"
   ]
  },
  {
   "cell_type": "markdown",
   "id": "fa642d95-08f2-4d53-947e-96467d9ffc33",
   "metadata": {
    "jp-MarkdownHeadingCollapsed": true
   },
   "source": [
    "### Experiment-2: Conv1D with Token Embeddings"
   ]
  },
  {
   "cell_type": "code",
   "execution_count": 55,
   "id": "1674ef3a-056c-4375-b41d-af43f886579c",
   "metadata": {},
   "outputs": [],
   "source": [
    "# Constants\n",
    "model_2_name = 'model_2_conv1d_token'"
   ]
  },
  {
   "cell_type": "code",
   "execution_count": 56,
   "id": "f2764ff9-d209-449c-bb62-dd2f96c952ce",
   "metadata": {},
   "outputs": [
    {
     "name": "stdout",
     "output_type": "stream",
     "text": [
      "Model: \"model_2_conv1d_token\"\n",
      "_________________________________________________________________\n",
      " Layer (type)                Output Shape              Param #   \n",
      "=================================================================\n",
      " input_4 (InputLayer)        [(None, 1)]               0         \n",
      "                                                                 \n",
      " text_vectorization (TextVe  (None, 16)                0         \n",
      " ctorization)                                                    \n",
      "                                                                 \n",
      " token_embedding (Embedding  (None, 16, 128)           758528    \n",
      " )                                                               \n",
      "                                                                 \n",
      " conv1d (Conv1D)             (None, 16, 64)            41024     \n",
      "                                                                 \n",
      " global_max_pooling1d (Glob  (None, 64)                0         \n",
      " alMaxPooling1D)                                                 \n",
      "                                                                 \n",
      " dense_3 (Dense)             (None, 5924)              385060    \n",
      "                                                                 \n",
      "=================================================================\n",
      "Total params: 1184612 (4.52 MB)\n",
      "Trainable params: 1184612 (4.52 MB)\n",
      "Non-trainable params: 0 (0.00 Byte)\n",
      "_________________________________________________________________\n"
     ]
    }
   ],
   "source": [
    "# Build Model\n",
    "inputs = tf.keras.layers.Input(shape=(1,), dtype=tf.string)\n",
    "\n",
    "text_vectors = text_vectorizer(inputs)\n",
    "token_embeddings = token_embedding(text_vectors)\n",
    "x = tf.keras.layers.Conv1D(filters=64, kernel_size=5, activation='relu', padding='same')(token_embeddings)\n",
    "x = tf.keras.layers.GlobalMaxPooling1D()(x)\n",
    "\n",
    "outputs = tf.keras.layers.Dense(TOTAL_WORDS, activation='softmax')(x)\n",
    "\n",
    "model_2 = tf.keras.models.Model(inputs, outputs, name=model_2_name)\n",
    "model_2.summary()"
   ]
  },
  {
   "cell_type": "code",
   "execution_count": 57,
   "id": "5d117d12-adab-46e2-8f48-0a638a88adea",
   "metadata": {},
   "outputs": [],
   "source": [
    "model_2.compile(loss='categorical_crossentropy',\n",
    "                optimizer=tf.keras.optimizers.legacy.Adam(),\n",
    "                metrics=['accuracy'])"
   ]
  },
  {
   "cell_type": "code",
   "execution_count": 58,
   "id": "8800e1c2-b59c-43aa-b3f8-8bf2cf934b52",
   "metadata": {},
   "outputs": [
    {
     "name": "stdout",
     "output_type": "stream",
     "text": [
      "Epoch 1/10\n",
      "2106/2106 [==============================] - 12s 6ms/step - loss: 6.3533 - accuracy: 0.0807\n",
      "Epoch 2/10\n",
      "2106/2106 [==============================] - 13s 6ms/step - loss: 5.4271 - accuracy: 0.1282\n",
      "Epoch 3/10\n",
      "2106/2106 [==============================] - 14s 7ms/step - loss: 4.9402 - accuracy: 0.1599\n",
      "Epoch 4/10\n",
      "2106/2106 [==============================] - 14s 6ms/step - loss: 4.5265 - accuracy: 0.1927\n",
      "Epoch 5/10\n",
      "2106/2106 [==============================] - 13s 6ms/step - loss: 4.1469 - accuracy: 0.2283\n",
      "Epoch 6/10\n",
      "2106/2106 [==============================] - 13s 6ms/step - loss: 3.8045 - accuracy: 0.2653\n",
      "Epoch 7/10\n",
      "2106/2106 [==============================] - 14s 6ms/step - loss: 3.5062 - accuracy: 0.3003\n",
      "Epoch 8/10\n",
      "2106/2106 [==============================] - 13s 6ms/step - loss: 3.2561 - accuracy: 0.3328\n",
      "Epoch 9/10\n",
      "2106/2106 [==============================] - 13s 6ms/step - loss: 3.0377 - accuracy: 0.3656\n",
      "Epoch 10/10\n",
      "2106/2106 [==============================] - 13s 6ms/step - loss: 2.8531 - accuracy: 0.3974\n"
     ]
    },
    {
     "data": {
      "text/plain": [
       "<keras.src.callbacks.History at 0x443bf8820>"
      ]
     },
     "execution_count": 58,
     "metadata": {},
     "output_type": "execute_result"
    }
   ],
   "source": [
    "model_2.fit(train_dataset, epochs=10)"
   ]
  },
  {
   "cell_type": "code",
   "execution_count": 59,
   "id": "383bd10e-c200-403b-b235-70d12c96b119",
   "metadata": {},
   "outputs": [
    {
     "name": "stdout",
     "output_type": "stream",
     "text": [
      "Love is true love with your eyes that that is that\n",
      "Tomorrow comes and i do not like them and a\n",
      "Yesterday we are busy with their tree and he likes\n",
      "But today is getting president of the tree that the\n"
     ]
    }
   ],
   "source": [
    "generate_poem(TEST_SEED_TEXTS, 8, model_2, one_hot_encoder)"
   ]
  },
  {
   "cell_type": "markdown",
   "id": "2770134f-002b-42b5-a7cc-5f32760058c1",
   "metadata": {
    "jp-MarkdownHeadingCollapsed": true
   },
   "source": [
    "### Experiment-3: Bidirectional LSTM with Token Embeddings"
   ]
  },
  {
   "cell_type": "code",
   "execution_count": 60,
   "id": "7243a537-652c-4a9e-847d-64e3acc93e4d",
   "metadata": {},
   "outputs": [],
   "source": [
    "# Constants\n",
    "model_3_name = 'model_3_bidirectional_lstm'"
   ]
  },
  {
   "cell_type": "code",
   "execution_count": 61,
   "id": "9182d470-e271-4797-8639-492b0975d803",
   "metadata": {},
   "outputs": [
    {
     "name": "stdout",
     "output_type": "stream",
     "text": [
      "Model: \"model_3_bidirectional_lstm\"\n",
      "_________________________________________________________________\n",
      " Layer (type)                Output Shape              Param #   \n",
      "=================================================================\n",
      " input_5 (InputLayer)        [(None, 1)]               0         \n",
      "                                                                 \n",
      " text_vectorization (TextVe  (None, 16)                0         \n",
      " ctorization)                                                    \n",
      "                                                                 \n",
      " token_embedding (Embedding  (None, 16, 128)           758528    \n",
      " )                                                               \n",
      "                                                                 \n",
      " bidirectional (Bidirection  (None, 128)               98816     \n",
      " al)                                                             \n",
      "                                                                 \n",
      " dense_4 (Dense)             (None, 5924)              764196    \n",
      "                                                                 \n",
      "=================================================================\n",
      "Total params: 1621540 (6.19 MB)\n",
      "Trainable params: 1621540 (6.19 MB)\n",
      "Non-trainable params: 0 (0.00 Byte)\n",
      "_________________________________________________________________\n"
     ]
    }
   ],
   "source": [
    "inputs = tf.keras.layers.Input(shape=(1,), dtype=tf.string)\n",
    "\n",
    "x = text_vectorizer(inputs)  # Turn the input text into numbers\n",
    "x = token_embedding(x)  # Embed the text\n",
    "x = tf.keras.layers.Bidirectional(tf.keras.layers.LSTM(64))(x)\n",
    "\n",
    "outputs = tf.keras.layers.Dense(TOTAL_WORDS, activation='softmax')(x)\n",
    "\n",
    "model_3 = tf.keras.models.Model(inputs, outputs, name=model_3_name)\n",
    "model_3.summary()"
   ]
  },
  {
   "cell_type": "code",
   "execution_count": 62,
   "id": "82bc8e9e-99eb-4452-8fcd-c1f5b3989365",
   "metadata": {},
   "outputs": [],
   "source": [
    "model_3.compile(loss='categorical_crossentropy',\n",
    "                optimizer=tf.keras.optimizers.legacy.Adam(),\n",
    "                metrics=['accuracy'])"
   ]
  },
  {
   "cell_type": "code",
   "execution_count": 63,
   "id": "4ca1031c-751d-43a2-a09f-7b53c8ea2e1b",
   "metadata": {},
   "outputs": [
    {
     "name": "stdout",
     "output_type": "stream",
     "text": [
      "Epoch 1/10\n",
      "2106/2106 [==============================] - 31s 13ms/step - loss: 6.1444 - accuracy: 0.0899\n",
      "Epoch 2/10\n",
      "2106/2106 [==============================] - 27s 13ms/step - loss: 5.0796 - accuracy: 0.1525\n",
      "Epoch 3/10\n",
      "2106/2106 [==============================] - 26s 12ms/step - loss: 4.4624 - accuracy: 0.2061\n",
      "Epoch 4/10\n",
      "2106/2106 [==============================] - 25s 12ms/step - loss: 3.9683 - accuracy: 0.2569\n",
      "Epoch 5/10\n",
      "2106/2106 [==============================] - 25s 12ms/step - loss: 3.5744 - accuracy: 0.3080\n",
      "Epoch 6/10\n",
      "2106/2106 [==============================] - 27s 13ms/step - loss: 3.2407 - accuracy: 0.3576\n",
      "Epoch 7/10\n",
      "2106/2106 [==============================] - 26s 12ms/step - loss: 2.9576 - accuracy: 0.4005\n",
      "Epoch 8/10\n",
      "2106/2106 [==============================] - 25s 12ms/step - loss: 2.7181 - accuracy: 0.4425\n",
      "Epoch 9/10\n",
      "2106/2106 [==============================] - 25s 12ms/step - loss: 2.5168 - accuracy: 0.4786\n",
      "Epoch 10/10\n",
      "2106/2106 [==============================] - 25s 12ms/step - loss: 2.3441 - accuracy: 0.5083\n"
     ]
    },
    {
     "data": {
      "text/plain": [
       "<keras.src.callbacks.History at 0x4484ace80>"
      ]
     },
     "execution_count": 63,
     "metadata": {},
     "output_type": "execute_result"
    }
   ],
   "source": [
    "model_3.fit(train_dataset, epochs=10)"
   ]
  },
  {
   "cell_type": "code",
   "execution_count": 64,
   "id": "726741bd-8d5b-4e00-b8ae-8d767054e25e",
   "metadata": {},
   "outputs": [
    {
     "name": "stdout",
     "output_type": "stream",
     "text": [
      "Love is true love is love to you that i do\n",
      "Tomorrow comes down the chimney and bags in a bed\n",
      "Yesterday we know we saw it coming there and i\n",
      "But today has to be in a tree from my\n"
     ]
    }
   ],
   "source": [
    "generate_poem(TEST_SEED_TEXTS, 8, model_3, one_hot_encoder)"
   ]
  },
  {
   "cell_type": "markdown",
   "id": "becee616-6a28-4c32-9954-6ab8044578e1",
   "metadata": {
    "jp-MarkdownHeadingCollapsed": true
   },
   "source": [
    "### Experiment-4: LSTM with Character Embeddings"
   ]
  },
  {
   "cell_type": "code",
   "execution_count": 65,
   "id": "c910efd0-f364-43e8-b591-0888189a16ba",
   "metadata": {},
   "outputs": [],
   "source": [
    "# Constants\n",
    "model_4_name = 'model_4_lstm_char'"
   ]
  },
  {
   "cell_type": "code",
   "execution_count": 66,
   "id": "bc7f6d5e-6f07-4910-be2e-54410ab37648",
   "metadata": {},
   "outputs": [
    {
     "name": "stdout",
     "output_type": "stream",
     "text": [
      "Model: \"model_4_lstm_char\"\n",
      "_________________________________________________________________\n",
      " Layer (type)                Output Shape              Param #   \n",
      "=================================================================\n",
      " input_6 (InputLayer)        [(None, 1)]               0         \n",
      "                                                                 \n",
      " char_vectorizer (TextVecto  (None, 74)                0         \n",
      " rization)                                                       \n",
      "                                                                 \n",
      " character_embedding (Embed  (None, 74, 25)            1050      \n",
      " ding)                                                           \n",
      "                                                                 \n",
      " lstm_2 (LSTM)               (None, 64)                23040     \n",
      "                                                                 \n",
      " dense_5 (Dense)             (None, 5924)              385060    \n",
      "                                                                 \n",
      "=================================================================\n",
      "Total params: 409150 (1.56 MB)\n",
      "Trainable params: 409150 (1.56 MB)\n",
      "Non-trainable params: 0 (0.00 Byte)\n",
      "_________________________________________________________________\n"
     ]
    }
   ],
   "source": [
    "inputs = tf.keras.layers.Input(shape=(1,), dtype=tf.string)\n",
    "\n",
    "x = character_vectorizer(inputs)  # Turn the input text into numbers\n",
    "x = character_embedding(x)  # Embed the text\n",
    "x = tf.keras.layers.LSTM(64)(x)\n",
    "\n",
    "outputs = tf.keras.layers.Dense(TOTAL_WORDS, activation='softmax')(x)\n",
    "\n",
    "model_4 = tf.keras.models.Model(inputs, outputs, name=model_4_name)\n",
    "model_4.summary()"
   ]
  },
  {
   "cell_type": "code",
   "execution_count": 67,
   "id": "51195003-c004-46eb-b3de-a8005f3e1d64",
   "metadata": {},
   "outputs": [],
   "source": [
    "model_4.compile(loss='categorical_crossentropy',\n",
    "                optimizer=tf.keras.optimizers.legacy.Adam(),\n",
    "                metrics=['accuracy'])"
   ]
  },
  {
   "cell_type": "code",
   "execution_count": 68,
   "id": "bd5ac6f6-4f85-42c4-8daa-693ee81dee53",
   "metadata": {},
   "outputs": [
    {
     "name": "stdout",
     "output_type": "stream",
     "text": [
      "Epoch 1/10\n",
      "2106/2106 [==============================] - 42s 19ms/step - loss: 6.7202 - accuracy: 0.0454\n",
      "Epoch 2/10\n",
      "2106/2106 [==============================] - 40s 19ms/step - loss: 6.3644 - accuracy: 0.0465\n",
      "Epoch 3/10\n",
      "2106/2106 [==============================] - 40s 19ms/step - loss: 6.2359 - accuracy: 0.0488\n",
      "Epoch 4/10\n",
      "2106/2106 [==============================] - 40s 19ms/step - loss: 6.0497 - accuracy: 0.0529\n",
      "Epoch 5/10\n",
      "2106/2106 [==============================] - 40s 19ms/step - loss: 5.8329 - accuracy: 0.0613\n",
      "Epoch 6/10\n",
      "2106/2106 [==============================] - 40s 19ms/step - loss: 5.6252 - accuracy: 0.0674\n",
      "Epoch 7/10\n",
      "2106/2106 [==============================] - 40s 19ms/step - loss: 5.4423 - accuracy: 0.0745\n",
      "Epoch 8/10\n",
      "2106/2106 [==============================] - 40s 19ms/step - loss: 5.2783 - accuracy: 0.0814\n",
      "Epoch 9/10\n",
      "2106/2106 [==============================] - 40s 19ms/step - loss: 5.1433 - accuracy: 0.0874\n",
      "Epoch 10/10\n",
      "2106/2106 [==============================] - 40s 19ms/step - loss: 5.0320 - accuracy: 0.0939\n"
     ]
    },
    {
     "data": {
      "text/plain": [
       "<keras.src.callbacks.History at 0x44fb1ed30>"
      ]
     },
     "execution_count": 68,
     "metadata": {},
     "output_type": "execute_result"
    }
   ],
   "source": [
    "model_4.fit(train_dataset, epochs=10)"
   ]
  },
  {
   "cell_type": "code",
   "execution_count": 69,
   "id": "61ab8bcc-2b86-4d68-aa73-2bd5f3c4276b",
   "metadata": {},
   "outputs": [
    {
     "name": "stdout",
     "output_type": "stream",
     "text": [
      "Love is true fish nah nah nah nah nah nah nah\n",
      "Tomorrow comes and he saw i will a mouse is\n",
      "Yesterday we a little bit the grinch a mouse is\n",
      "But today and he was are is a little bit\n"
     ]
    }
   ],
   "source": [
    "generate_poem(TEST_SEED_TEXTS, 8, model_4, one_hot_encoder)"
   ]
  },
  {
   "cell_type": "markdown",
   "id": "94d2d44d-099e-4adc-87ee-eb155e2b0d40",
   "metadata": {
    "jp-MarkdownHeadingCollapsed": true
   },
   "source": [
    "### Experiment-5: LSTM with Character Embeddings & Token Embeddings"
   ]
  },
  {
   "cell_type": "code",
   "execution_count": 70,
   "id": "79f4759a-4824-4dbf-bed7-ab7ce1ca8f76",
   "metadata": {},
   "outputs": [],
   "source": [
    "# Constants\n",
    "model_5_name = 'model_5_lstm_char_token'"
   ]
  },
  {
   "cell_type": "code",
   "execution_count": 71,
   "id": "9f4406b9-4bd6-4e5a-8639-65c3f770ce48",
   "metadata": {},
   "outputs": [
    {
     "name": "stdout",
     "output_type": "stream",
     "text": [
      "Model: \"model_5_lstm_char_token\"\n",
      "__________________________________________________________________________________________________\n",
      " Layer (type)                Output Shape                 Param #   Connected to                  \n",
      "==================================================================================================\n",
      " input_7 (InputLayer)        [(None, 1)]                  0         []                            \n",
      "                                                                                                  \n",
      " text_vectorization (TextVe  (None, 16)                   0         ['input_7[0][0]']             \n",
      " ctorization)                                                                                     \n",
      "                                                                                                  \n",
      " char_vectorizer (TextVecto  (None, 74)                   0         ['input_7[0][0]']             \n",
      " rization)                                                                                        \n",
      "                                                                                                  \n",
      " token_embedding (Embedding  (None, 16, 128)              758528    ['text_vectorization[3][0]']  \n",
      " )                                                                                                \n",
      "                                                                                                  \n",
      " character_embedding (Embed  (None, 74, 25)               1050      ['char_vectorizer[1][0]']     \n",
      " ding)                                                                                            \n",
      "                                                                                                  \n",
      " lstm_3 (LSTM)               (None, 64)                   49408     ['token_embedding[3][0]']     \n",
      "                                                                                                  \n",
      " lstm_4 (LSTM)               (None, 64)                   23040     ['character_embedding[1][0]'] \n",
      "                                                                                                  \n",
      " concatenate (Concatenate)   (None, 128)                  0         ['lstm_3[0][0]',              \n",
      "                                                                     'lstm_4[0][0]']              \n",
      "                                                                                                  \n",
      " dropout (Dropout)           (None, 128)                  0         ['concatenate[0][0]']         \n",
      "                                                                                                  \n",
      " dense_6 (Dense)             (None, 128)                  16512     ['dropout[0][0]']             \n",
      "                                                                                                  \n",
      " dropout_1 (Dropout)         (None, 128)                  0         ['dense_6[0][0]']             \n",
      "                                                                                                  \n",
      " dense_7 (Dense)             (None, 5924)                 764196    ['dropout_1[0][0]']           \n",
      "                                                                                                  \n",
      "==================================================================================================\n",
      "Total params: 1612734 (6.15 MB)\n",
      "Trainable params: 1612734 (6.15 MB)\n",
      "Non-trainable params: 0 (0.00 Byte)\n",
      "__________________________________________________________________________________________________\n"
     ]
    }
   ],
   "source": [
    "inputs = tf.keras.layers.Input(shape=(1,), dtype=tf.string)\n",
    "\n",
    "# Token Embedding\n",
    "x = text_vectorizer(inputs)  # Turn the input text into numbers\n",
    "x = token_embedding(x)  # Embed the text\n",
    "token_lstm = tf.keras.layers.LSTM(64)(x)\n",
    "\n",
    "token_model = tf.keras.models.Model(inputs, token_lstm, name=model_5_name)\n",
    "\n",
    "# Character Embedding\n",
    "x = character_vectorizer(inputs)  # Turn the input text into numbers\n",
    "x = character_embedding(x)  # Embed the text\n",
    "char_lstm = tf.keras.layers.LSTM(64)(x)\n",
    "\n",
    "character_model = tf.keras.models.Model(inputs, char_lstm, name=model_5_name)\n",
    "\n",
    "# Concatenating outputs\n",
    "token_char_concat = tf.keras.layers.Concatenate()([token_model.output, character_model.output])\n",
    "\n",
    "# Dropout\n",
    "combined_dropout = tf.keras.layers.Dropout(0.5)(token_char_concat)\n",
    "combined_dense = tf.keras.layers.Dense(128, activation='relu')(combined_dropout)\n",
    "final_dropout = tf.keras.layers.Dropout(0.5)(combined_dense)\n",
    "\n",
    "outputs = tf.keras.layers.Dense(TOTAL_WORDS, activation='softmax')(final_dropout)\n",
    "\n",
    "model_5 = tf.keras.models.Model(inputs=inputs,\n",
    "                                outputs=outputs,\n",
    "                                name=model_5_name)\n",
    "model_5.summary()"
   ]
  },
  {
   "cell_type": "code",
   "execution_count": 72,
   "id": "cb1cbbd9-e27a-4c76-a294-f7f79bcfcd57",
   "metadata": {},
   "outputs": [
    {
     "data": {
      "image/png": "[encoded data removed]",
      "text/plain": [
       "<IPython.core.display.Image object>"
      ]
     },
     "execution_count": 72,
     "metadata": {},
     "output_type": "execute_result"
    }
   ],
   "source": [
    "ml_toolbox.analysis.model.plot_model(model_5)"
   ]
  },
  {
   "cell_type": "code",
   "execution_count": 73,
   "id": "231f8ed8-2ccd-423d-8a61-06e0db380d56",
   "metadata": {},
   "outputs": [],
   "source": [
    "model_5.compile(loss='categorical_crossentropy',\n",
    "                optimizer=tf.keras.optimizers.legacy.Adam(),\n",
    "                metrics=['accuracy'])"
   ]
  },
  {
   "cell_type": "code",
   "execution_count": 74,
   "id": "b1853923-fc80-42df-acb7-70847c031d7d",
   "metadata": {
    "scrolled": true
   },
   "outputs": [
    {
     "name": "stdout",
     "output_type": "stream",
     "text": [
      "Epoch 1/10\n",
      "2106/2106 [==============================] - 47s 21ms/step - loss: 6.4421 - accuracy: 0.0677\n",
      "Epoch 2/10\n",
      "2106/2106 [==============================] - 43s 20ms/step - loss: 5.7893 - accuracy: 0.1024\n",
      "Epoch 3/10\n",
      "2106/2106 [==============================] - 43s 20ms/step - loss: 5.5347 - accuracy: 0.1175\n",
      "Epoch 4/10\n",
      "2106/2106 [==============================] - 43s 20ms/step - loss: 5.3508 - accuracy: 0.1284\n",
      "Epoch 5/10\n",
      "2106/2106 [==============================] - 43s 20ms/step - loss: 5.1980 - accuracy: 0.1397\n",
      "Epoch 6/10\n",
      "2106/2106 [==============================] - 43s 20ms/step - loss: 5.0713 - accuracy: 0.1450\n",
      "Epoch 7/10\n",
      "2106/2106 [==============================] - 43s 20ms/step - loss: 4.9671 - accuracy: 0.1520\n",
      "Epoch 8/10\n",
      "2106/2106 [==============================] - 43s 20ms/step - loss: 4.8859 - accuracy: 0.1586\n",
      "Epoch 9/10\n",
      "2106/2106 [==============================] - 43s 20ms/step - loss: 4.8082 - accuracy: 0.1624\n",
      "Epoch 10/10\n",
      "2106/2106 [==============================] - 43s 20ms/step - loss: 4.7387 - accuracy: 0.1680\n"
     ]
    },
    {
     "data": {
      "text/plain": [
       "<keras.src.callbacks.History at 0x4a21abdc0>"
      ]
     },
     "execution_count": 74,
     "metadata": {},
     "output_type": "execute_result"
    }
   ],
   "source": [
    "model_5.fit(train_dataset, epochs=10)"
   ]
  },
  {
   "cell_type": "code",
   "execution_count": 75,
   "id": "ea992f74-93af-4dfb-8b04-a8c4e47807e7",
   "metadata": {},
   "outputs": [
    {
     "name": "stdout",
     "output_type": "stream",
     "text": [
      "Love is true love is a house a house a house\n",
      "Tomorrow comes and he is a house in a house\n",
      "Yesterday we will be a house the house is a\n",
      "But today is a house a house a house a\n"
     ]
    }
   ],
   "source": [
    "generate_poem(TEST_SEED_TEXTS, 8, model_5, one_hot_encoder)"
   ]
  },
  {
   "cell_type": "markdown",
   "id": "b7ef0178-3b90-439b-a595-2dfa922adba1",
   "metadata": {
    "jp-MarkdownHeadingCollapsed": true
   },
   "source": [
    "### Experiment-6: Bidirectional LSTM w/ Character Embeddings & Token Embeddings"
   ]
  },
  {
   "cell_type": "code",
   "execution_count": 76,
   "id": "5676cfa4-cb5a-4be3-b588-a9960051fbc0",
   "metadata": {},
   "outputs": [],
   "source": [
    "# Constants\n",
    "model_6_name = 'model_6_bidirectional_lstm_char_token'"
   ]
  },
  {
   "cell_type": "code",
   "execution_count": 77,
   "id": "5849507b-a2f1-47a9-aed3-9dd7c562bce2",
   "metadata": {},
   "outputs": [
    {
     "name": "stdout",
     "output_type": "stream",
     "text": [
      "Model: \"model_6_bidirectional_lstm_char_token\"\n",
      "__________________________________________________________________________________________________\n",
      " Layer (type)                Output Shape                 Param #   Connected to                  \n",
      "==================================================================================================\n",
      " input_8 (InputLayer)        [(None, 1)]                  0         []                            \n",
      "                                                                                                  \n",
      " text_vectorization (TextVe  (None, 16)                   0         ['input_8[0][0]']             \n",
      " ctorization)                                                                                     \n",
      "                                                                                                  \n",
      " char_vectorizer (TextVecto  (None, 74)                   0         ['input_8[0][0]']             \n",
      " rization)                                                                                        \n",
      "                                                                                                  \n",
      " token_embedding (Embedding  (None, 16, 128)              758528    ['text_vectorization[4][0]']  \n",
      " )                                                                                                \n",
      "                                                                                                  \n",
      " character_embedding (Embed  (None, 74, 25)               1050      ['char_vectorizer[2][0]']     \n",
      " ding)                                                                                            \n",
      "                                                                                                  \n",
      " bidirectional_1 (Bidirecti  (None, 128)                  98816     ['token_embedding[4][0]']     \n",
      " onal)                                                                                            \n",
      "                                                                                                  \n",
      " bidirectional_2 (Bidirecti  (None, 128)                  46080     ['character_embedding[2][0]'] \n",
      " onal)                                                                                            \n",
      "                                                                                                  \n",
      " concatenate_1 (Concatenate  (None, 256)                  0         ['bidirectional_1[0][0]',     \n",
      " )                                                                   'bidirectional_2[0][0]']     \n",
      "                                                                                                  \n",
      " dropout_2 (Dropout)         (None, 256)                  0         ['concatenate_1[0][0]']       \n",
      "                                                                                                  \n",
      " dense_8 (Dense)             (None, 128)                  32896     ['dropout_2[0][0]']           \n",
      "                                                                                                  \n",
      " dropout_3 (Dropout)         (None, 128)                  0         ['dense_8[0][0]']             \n",
      "                                                                                                  \n",
      " dense_9 (Dense)             (None, 5924)                 764196    ['dropout_3[0][0]']           \n",
      "                                                                                                  \n",
      "==================================================================================================\n",
      "Total params: 1701566 (6.49 MB)\n",
      "Trainable params: 1701566 (6.49 MB)\n",
      "Non-trainable params: 0 (0.00 Byte)\n",
      "__________________________________________________________________________________________________\n"
     ]
    }
   ],
   "source": [
    "inputs = tf.keras.layers.Input(shape=(1,), dtype=tf.string)\n",
    "\n",
    "# Token Embedding\n",
    "x = text_vectorizer(inputs)  # Turn the input text into numbers\n",
    "x = token_embedding(x)  # Embed the text\n",
    "token_lstm = tf.keras.layers.Bidirectional(tf.keras.layers.LSTM(64))(x)\n",
    "\n",
    "token_model = tf.keras.models.Model(inputs, token_lstm, name=model_5_name)\n",
    "\n",
    "# Character Embedding\n",
    "x = character_vectorizer(inputs)  # Turn the input text into numbers\n",
    "x = character_embedding(x)  # Embed the text\n",
    "char_lstm = tf.keras.layers.Bidirectional(tf.keras.layers.LSTM(64))(x)\n",
    "\n",
    "character_model = tf.keras.models.Model(inputs, char_lstm, name=model_5_name)\n",
    "\n",
    "# Concatenating outputs\n",
    "token_char_concat = tf.keras.layers.Concatenate()([token_model.output, character_model.output])\n",
    "\n",
    "# Dropout\n",
    "combined_dropout = tf.keras.layers.Dropout(0.5)(token_char_concat)\n",
    "combined_dense = tf.keras.layers.Dense(128, activation='relu')(combined_dropout)\n",
    "final_dropout = tf.keras.layers.Dropout(0.5)(combined_dense)\n",
    "\n",
    "outputs = tf.keras.layers.Dense(TOTAL_WORDS, activation='softmax')(final_dropout)\n",
    "\n",
    "model_6 = tf.keras.models.Model(inputs=inputs,\n",
    "                                outputs=outputs,\n",
    "                                name=model_6_name)\n",
    "model_6.summary()"
   ]
  },
  {
   "cell_type": "code",
   "execution_count": 78,
   "id": "61f68554-4a85-4fd5-bb6f-3bb086280d07",
   "metadata": {},
   "outputs": [],
   "source": [
    "model_6.compile(loss='categorical_crossentropy',\n",
    "                optimizer=tf.keras.optimizers.legacy.Adam(),\n",
    "                metrics=['accuracy'])"
   ]
  },
  {
   "cell_type": "code",
   "execution_count": 79,
   "id": "afdc748f-b1a0-43d9-932f-4b4ce9808a5e",
   "metadata": {},
   "outputs": [
    {
     "name": "stdout",
     "output_type": "stream",
     "text": [
      "Epoch 1/10\n",
      "2106/2106 [==============================] - 52s 22ms/step - loss: 6.3809 - accuracy: 0.0719\n",
      "Epoch 2/10\n",
      "2106/2106 [==============================] - 46s 22ms/step - loss: 5.6708 - accuracy: 0.1118\n",
      "Epoch 3/10\n",
      "2106/2106 [==============================] - 45s 22ms/step - loss: 5.3822 - accuracy: 0.1338\n",
      "Epoch 4/10\n",
      "2106/2106 [==============================] - 46s 22ms/step - loss: 5.1843 - accuracy: 0.1456\n",
      "Epoch 5/10\n",
      "2106/2106 [==============================] - 46s 22ms/step - loss: 5.0241 - accuracy: 0.1548\n",
      "Epoch 6/10\n",
      "2106/2106 [==============================] - 46s 22ms/step - loss: 4.8941 - accuracy: 0.1612\n",
      "Epoch 7/10\n",
      "2106/2106 [==============================] - 46s 22ms/step - loss: 4.7942 - accuracy: 0.1703\n",
      "Epoch 8/10\n",
      "2106/2106 [==============================] - 46s 22ms/step - loss: 4.7067 - accuracy: 0.1760\n",
      "Epoch 9/10\n",
      "2106/2106 [==============================] - 46s 22ms/step - loss: 4.6292 - accuracy: 0.1824\n",
      "Epoch 10/10\n",
      "2106/2106 [==============================] - 45s 22ms/step - loss: 4.5712 - accuracy: 0.1867\n"
     ]
    },
    {
     "data": {
      "text/plain": [
       "<keras.src.callbacks.History at 0x4a29c4790>"
      ]
     },
     "execution_count": 79,
     "metadata": {},
     "output_type": "execute_result"
    }
   ],
   "source": [
    "model_6.fit(train_dataset, epochs=10)"
   ]
  },
  {
   "cell_type": "code",
   "execution_count": 80,
   "id": "122ba5a5-641e-489a-a446-ef4bdb332b75",
   "metadata": {},
   "outputs": [
    {
     "name": "stdout",
     "output_type": "stream",
     "text": [
      "Love is true love to you and i will not eat\n",
      "Tomorrow comes on the house the house the house the\n",
      "Yesterday we will be a tree and i will not\n",
      "But today is a house a house a house a\n"
     ]
    }
   ],
   "source": [
    "generate_poem(TEST_SEED_TEXTS, 8, model_5, one_hot_encoder)"
   ]
  },
  {
   "cell_type": "markdown",
   "id": "341def3a-9389-4951-a267-0dade8ac35f9",
   "metadata": {
    "jp-MarkdownHeadingCollapsed": true
   },
   "source": [
    "### Experiment-7: LSTM w/ Character Embeddings, Character Level Prediction"
   ]
  },
  {
   "cell_type": "code",
   "execution_count": 81,
   "id": "be0c64bb-3a44-4d9f-ab44-00f7515e12ee",
   "metadata": {},
   "outputs": [],
   "source": [
    "# Constants\n",
    "model_7_name = 'model_7_lstm_char_pred'"
   ]
  },
  {
   "cell_type": "code",
   "execution_count": 82,
   "id": "36aee682-7aba-4c13-8340-0c499be7ba8d",
   "metadata": {},
   "outputs": [
    {
     "name": "stdout",
     "output_type": "stream",
     "text": [
      "Model: \"model_7_lstm_char_pred\"\n",
      "_________________________________________________________________\n",
      " Layer (type)                Output Shape              Param #   \n",
      "=================================================================\n",
      " input_9 (InputLayer)        [(None, 1)]               0         \n",
      "                                                                 \n",
      " char_vectorizer (TextVecto  (None, 74)                0         \n",
      " rization)                                                       \n",
      "                                                                 \n",
      " character_embedding (Embed  (None, 74, 25)            1050      \n",
      " ding)                                                           \n",
      "                                                                 \n",
      " lstm_7 (LSTM)               (None, 64)                23040     \n",
      "                                                                 \n",
      " dense_10 (Dense)            (None, 41)                2665      \n",
      "                                                                 \n",
      "=================================================================\n",
      "Total params: 26755 (104.51 KB)\n",
      "Trainable params: 26755 (104.51 KB)\n",
      "Non-trainable params: 0 (0.00 Byte)\n",
      "_________________________________________________________________\n"
     ]
    }
   ],
   "source": [
    "inputs = tf.keras.layers.Input(shape=(1,), dtype=tf.string)\n",
    "\n",
    "x = character_vectorizer(inputs)  # Turn the input text into numbers\n",
    "x = character_embedding(x)  # Embed the text\n",
    "x = tf.keras.layers.LSTM(64)(x)\n",
    "\n",
    "outputs = tf.keras.layers.Dense(TOTAL_CHARS, activation='softmax')(x)\n",
    "\n",
    "model_7 = tf.keras.models.Model(inputs, outputs, name=model_7_name)\n",
    "model_7.summary()"
   ]
  },
  {
   "cell_type": "code",
   "execution_count": 83,
   "id": "00a75ad9-08d1-4008-9377-a6254c912fac",
   "metadata": {},
   "outputs": [],
   "source": [
    "model_7.compile(loss='categorical_crossentropy',\n",
    "                optimizer=tf.keras.optimizers.legacy.Adam(),\n",
    "                metrics=['accuracy'])"
   ]
  },
  {
   "cell_type": "code",
   "execution_count": 84,
   "id": "798656f3-1a09-4de2-90d5-8fa0bba70b6c",
   "metadata": {},
   "outputs": [
    {
     "name": "stdout",
     "output_type": "stream",
     "text": [
      "Epoch 1/10\n",
      "11139/11139 [==============================] - 202s 18ms/step - loss: 1.9523 - accuracy: 0.4216\n",
      "Epoch 2/10\n",
      "11139/11139 [==============================] - 200s 18ms/step - loss: 1.6431 - accuracy: 0.5041\n",
      "Epoch 3/10\n",
      "11139/11139 [==============================] - 200s 18ms/step - loss: 1.5506 - accuracy: 0.5297\n",
      "Epoch 4/10\n",
      "11139/11139 [==============================] - 204s 18ms/step - loss: 1.4978 - accuracy: 0.5449\n",
      "Epoch 5/10\n",
      "11139/11139 [==============================] - 205s 18ms/step - loss: 1.4646 - accuracy: 0.5550\n",
      "Epoch 6/10\n",
      "11139/11139 [==============================] - 204s 18ms/step - loss: 1.4413 - accuracy: 0.5612\n",
      "Epoch 7/10\n",
      "11139/11139 [==============================] - 199s 18ms/step - loss: 1.4228 - accuracy: 0.5665\n",
      "Epoch 8/10\n",
      "11139/11139 [==============================] - 199s 18ms/step - loss: 1.4077 - accuracy: 0.5711\n",
      "Epoch 9/10\n",
      "11139/11139 [==============================] - 199s 18ms/step - loss: 1.3953 - accuracy: 0.5748\n",
      "Epoch 10/10\n",
      "11139/11139 [==============================] - 199s 18ms/step - loss: 1.3856 - accuracy: 0.5778\n"
     ]
    },
    {
     "data": {
      "text/plain": [
       "<keras.src.callbacks.History at 0x4b4063940>"
      ]
     },
     "execution_count": 84,
     "metadata": {},
     "output_type": "execute_result"
    }
   ],
   "source": [
    "model_7.fit(train_char_dataset, epochs=10)"
   ]
  },
  {
   "cell_type": "code",
   "execution_count": 85,
   "id": "f5e8823f-5d3c-4b2b-914a-00922e6e0129",
   "metadata": {},
   "outputs": [
    {
     "name": "stdout",
     "output_type": "stream",
     "text": [
      "Love is true the house i can say the ship and the sh\n",
      "Tomorrow comes the shine the street the ship and the s\n",
      "Yesterday we say the ship and the shine the street t\n",
      "But today and the shine the street the ship and t\n"
     ]
    }
   ],
   "source": [
    "generate_poem(TEST_SEED_TEXTS, 40, model_7, char_one_hot_encoder, char_pred=True)"
   ]
  },
  {
   "cell_type": "markdown",
   "id": "ae284457-73ba-4ec6-88b3-ec91e15b1cad",
   "metadata": {
    "jp-MarkdownHeadingCollapsed": true
   },
   "source": [
    "### Experiment-8: Bidirectional LSTM w/ Character Embeddings, Character Level Prediction"
   ]
  },
  {
   "cell_type": "code",
   "execution_count": 86,
   "id": "35a48fbd-02e8-4b82-b2d6-15d6d05e60fb",
   "metadata": {},
   "outputs": [],
   "source": [
    "# Constants\n",
    "model_8_name = 'model_8_bidirectional_lstm_char_pred'"
   ]
  },
  {
   "cell_type": "code",
   "execution_count": 87,
   "id": "7a63d71c-b522-4a6f-9141-cb412c85ebdf",
   "metadata": {},
   "outputs": [
    {
     "name": "stdout",
     "output_type": "stream",
     "text": [
      "Model: \"model_8_bidirectional_lstm_char_pred\"\n",
      "_________________________________________________________________\n",
      " Layer (type)                Output Shape              Param #   \n",
      "=================================================================\n",
      " input_10 (InputLayer)       [(None, 1)]               0         \n",
      "                                                                 \n",
      " char_vectorizer (TextVecto  (None, 74)                0         \n",
      " rization)                                                       \n",
      "                                                                 \n",
      " character_embedding (Embed  (None, 74, 25)            1050      \n",
      " ding)                                                           \n",
      "                                                                 \n",
      " bidirectional_3 (Bidirecti  (None, 128)               46080     \n",
      " onal)                                                           \n",
      "                                                                 \n",
      " dense_11 (Dense)            (None, 41)                5289      \n",
      "                                                                 \n",
      "=================================================================\n",
      "Total params: 52419 (204.76 KB)\n",
      "Trainable params: 52419 (204.76 KB)\n",
      "Non-trainable params: 0 (0.00 Byte)\n",
      "_________________________________________________________________\n"
     ]
    }
   ],
   "source": [
    "inputs = tf.keras.layers.Input(shape=(1,), dtype=tf.string)\n",
    "\n",
    "x = character_vectorizer(inputs)  # Turn the input text into numbers\n",
    "x = character_embedding(x)  # Embed the text\n",
    "x = tf.keras.layers.Bidirectional(tf.keras.layers.LSTM(64))(x)\n",
    "\n",
    "outputs = tf.keras.layers.Dense(TOTAL_CHARS, activation='softmax')(x)\n",
    "\n",
    "model_8 = tf.keras.models.Model(inputs, outputs, name=model_8_name)\n",
    "model_8.summary()"
   ]
  },
  {
   "cell_type": "code",
   "execution_count": 88,
   "id": "8905224a-da2d-4a2c-bf9b-1867b01503a1",
   "metadata": {},
   "outputs": [],
   "source": [
    "model_8.compile(loss='categorical_crossentropy',\n",
    "                optimizer=tf.keras.optimizers.legacy.Adam(),\n",
    "                metrics=['accuracy'])"
   ]
  },
  {
   "cell_type": "code",
   "execution_count": 89,
   "id": "17dd4933-54bc-4a7d-998e-2e2f6d1c3c28",
   "metadata": {},
   "outputs": [
    {
     "name": "stdout",
     "output_type": "stream",
     "text": [
      "Epoch 1/5\n",
      "11139/11139 [==============================] - 210s 19ms/step - loss: 1.8447 - accuracy: 0.4524\n",
      "Epoch 2/5\n",
      "11139/11139 [==============================] - 203s 18ms/step - loss: 1.5914 - accuracy: 0.5192\n",
      "Epoch 3/5\n",
      "11139/11139 [==============================] - 203s 18ms/step - loss: 1.5054 - accuracy: 0.5439\n",
      "Epoch 4/5\n",
      "11139/11139 [==============================] - 202s 18ms/step - loss: 1.4526 - accuracy: 0.5597\n",
      "Epoch 5/5\n",
      "11139/11139 [==============================] - 205s 18ms/step - loss: 1.4152 - accuracy: 0.5709\n"
     ]
    },
    {
     "data": {
      "text/plain": [
       "<keras.src.callbacks.History at 0x4b40c9dc0>"
      ]
     },
     "execution_count": 89,
     "metadata": {},
     "output_type": "execute_result"
    }
   ],
   "source": [
    "model_8.fit(train_char_dataset, epochs=5)"
   ]
  },
  {
   "cell_type": "code",
   "execution_count": 90,
   "id": "19b4fb2c-7eca-4edc-8b8b-6a58d356aa84",
   "metadata": {},
   "outputs": [
    {
     "name": "stdout",
     "output_type": "stream",
     "text": [
      "Love is true now you say to have to the hop of the h\n",
      "Tomorrow comes and he say the hop a hop a hop a hop a \n",
      "Yesterday we will all the hop and he say the hop and\n",
      "But today a house heart to heart to heart to hear\n"
     ]
    }
   ],
   "source": [
    "generate_poem(TEST_SEED_TEXTS, 40, model_8, char_one_hot_encoder, char_pred=True)"
   ]
  }
 ],
 "metadata": {
  "kernelspec": {
   "display_name": "Python 3 (ipykernel)",
   "language": "python",
   "name": "python3"
  },
  "language_info": {
   "codemirror_mode": {
    "name": "ipython",
    "version": 3
   },
   "file_extension": ".py",
   "mimetype": "text/x-python",
   "name": "python",
   "nbconvert_exporter": "python",
   "pygments_lexer": "ipython3",
   "version": "3.9.6"
  }
 },
 "nbformat": 4,
 "nbformat_minor": 5
}
